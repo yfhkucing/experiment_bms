{
  "nbformat": 4,
  "nbformat_minor": 0,
  "metadata": {
    "colab": {
      "provenance": [],
      "authorship_tag": "ABX9TyP9y9C/0cZUmckCxvpR6v9L",
      "include_colab_link": true
    },
    "kernelspec": {
      "name": "python3",
      "display_name": "Python 3"
    },
    "language_info": {
      "name": "python"
    }
  },
  "cells": [
    {
      "cell_type": "markdown",
      "metadata": {
        "id": "view-in-github",
        "colab_type": "text"
      },
      "source": [
        "<a href=\"https://colab.research.google.com/github/yfhkucing/experiment_bms/blob/master/visualisasi_vxvy_30.ipynb\" target=\"_parent\"><img src=\"https://colab.research.google.com/assets/colab-badge.svg\" alt=\"Open In Colab\"/></a>"
      ]
    },
    {
      "cell_type": "code",
      "execution_count": 1,
      "metadata": {
        "id": "tU4nfSGSgrgL",
        "colab": {
          "base_uri": "https://localhost:8080/"
        },
        "outputId": "10890255-fb21-4bb4-cfec-759f26b877b5"
      },
      "outputs": [
        {
          "output_type": "stream",
          "name": "stdout",
          "text": [
            "Looking in indexes: https://pypi.org/simple, https://us-python.pkg.dev/colab-wheels/public/simple/\n",
            "Requirement already satisfied: kaleido in /usr/local/lib/python3.7/dist-packages (0.2.1)\n"
          ]
        }
      ],
      "source": [
        "! pip install -U kaleido"
      ]
    },
    {
      "cell_type": "code",
      "source": [
        "import joblib\n",
        "import numpy as np\n",
        "import pandas as pd"
      ],
      "metadata": {
        "id": "GM7QeNucg1vC"
      },
      "execution_count": 2,
      "outputs": []
    },
    {
      "cell_type": "code",
      "source": [
        "! unzip /content/models_vxvy_30_a0005.zip"
      ],
      "metadata": {
        "id": "0n2v7CnJg7b4",
        "colab": {
          "base_uri": "https://localhost:8080/"
        },
        "outputId": "692a2e15-93d0-4f13-fa6c-7a6790bed7a4"
      },
      "execution_count": 3,
      "outputs": [
        {
          "output_type": "stream",
          "name": "stdout",
          "text": [
            "Archive:  /content/models_vxvy_30_a0005.zip\n",
            "replace content/models/model 25? [y]es, [n]o, [A]ll, [N]one, [r]ename: A\n",
            "  inflating: content/models/model 25  \n",
            "  inflating: content/models/model 18  \n",
            "  inflating: content/models/model 27  \n",
            "  inflating: content/models/model 4  \n",
            "  inflating: content/models/model 23  \n",
            "  inflating: content/models/model 26  \n",
            "  inflating: content/models/model 3  \n",
            "  inflating: content/models/model 11  \n",
            "  inflating: content/models/model 0  \n",
            "  inflating: content/models/model 21  \n",
            "  inflating: content/models/model 14  \n",
            "  inflating: content/models/model 9  \n",
            "  inflating: content/models/model 2  \n",
            "  inflating: content/models/model 13  \n",
            "  inflating: content/models/model 19  \n",
            "  inflating: content/models/model 8  \n",
            "  inflating: content/models/model 16  \n",
            "  inflating: content/models/model 12  \n",
            "  inflating: content/models/model 28  \n",
            "  inflating: content/models/model 10  \n",
            "  inflating: content/models/model 6  \n",
            "  inflating: content/models/model 29  \n",
            "  inflating: content/models/model 5  \n",
            "  inflating: content/models/model 15  \n",
            "  inflating: content/models/model 24  \n",
            "  inflating: content/models/model 17  \n",
            "  inflating: content/models/model 7  \n",
            "  inflating: content/models/model 1  \n",
            "  inflating: content/models/model 20  \n",
            "  inflating: content/models/model 22  \n"
          ]
        }
      ]
    },
    {
      "cell_type": "code",
      "source": [
        "feature = pd.read_excel('data_model.xlsx',sheet_name='feature')\n",
        "label = pd.read_excel('data_model.xlsx',sheet_name='label_30')"
      ],
      "metadata": {
        "id": "Hrj6CFrbhBpZ"
      },
      "execution_count": 4,
      "outputs": []
    },
    {
      "cell_type": "code",
      "source": [
        "def norm(df):\n",
        "  df=(df-df.min())/(df.max()-df.min())\n",
        "  return df\n",
        "\n",
        "def remap(df,new_max,new_min):\n",
        "  df = (df-df.min())/(df.max()-df.min())*(new_max - new_min) + new_min\n",
        "  return df\n",
        "\n",
        "'''\n",
        "def rescale(df,new_max,new_min):\n",
        "  df = df *(new_max - new_min) + new_min\n",
        "  return df\n",
        "'''\n",
        "\n",
        "from sklearn.preprocessing import StandardScaler\n",
        "def standard(df):\n",
        "  scaler = StandardScaler()\n",
        "  df = scaler.fit_transform(df)\n",
        "  return df\n",
        "\n",
        "def rescale(df,df2):\n",
        "  new_max = df2.max()\n",
        "  new_min = df2.min()\n",
        "  df = (df)*(new_max - new_min) + new_min\n",
        "  return df"
      ],
      "metadata": {
        "id": "v-PIpO_ihESs"
      },
      "execution_count": 5,
      "outputs": []
    },
    {
      "cell_type": "code",
      "source": [
        "feature = norm(feature)"
      ],
      "metadata": {
        "id": "3L5xmcHahP3c"
      },
      "execution_count": 6,
      "outputs": []
    },
    {
      "cell_type": "code",
      "source": [
        "array_y = []\n",
        "array_y_not_normal = []\n",
        "\n",
        "for i in range(30):\n",
        "  frame= label[i::30]\n",
        "  frame = frame.drop(['koor_x','koor_y','Temp'],axis=1)\n",
        "  array_y_not_normal.append(frame)\n",
        "  frame = remap(frame,0.5,-0.5)\n",
        "  array_y.append(frame)"
      ],
      "metadata": {
        "id": "56GoYouthQZV"
      },
      "execution_count": 7,
      "outputs": []
    },
    {
      "cell_type": "code",
      "source": [
        "from sklearn.model_selection import train_test_split\n",
        "from sklearn.metrics import r2_score as r2\n",
        "from sklearn.metrics import mean_squared_error as mse\n",
        "from sklearn.metrics import mean_absolute_error as mae\n",
        "\n",
        "skor_r2=[]\n",
        "mae_=[]\n",
        "rmse = []\n",
        "y_predict = []\n",
        "y_test = []\n",
        "for i in range(30):\n",
        "  x = np.array(feature)\n",
        "  y = np.array(array_y[i])\n",
        "  model = joblib.load(f'/content/content/models/model {i}')\n",
        "  y_pred = model.predict(x)\n",
        "  Skor_r2 = r2(y,y_pred)\n",
        "  RMSE = mse(y,y_pred,squared=False)\n",
        "  MAE = mae(y,y_pred)\n",
        "  y_predict.append(y_pred)\n",
        "  skor_r2.append(Skor_r2)\n",
        "  mae_.append(MAE)\n",
        "  rmse.append(RMSE)"
      ],
      "metadata": {
        "id": "eMoAM8yBhWvp"
      },
      "execution_count": 8,
      "outputs": []
    },
    {
      "cell_type": "code",
      "source": [
        "skor_r2 = np.array(skor_r2)\n",
        "rmse = np.array(rmse)\n",
        "mae_=np.array(mae_)\n",
        "y_predict = np.array(y_predict)\n",
        "y = np.array(array_y)"
      ],
      "metadata": {
        "id": "3G0C77vBhb6L"
      },
      "execution_count": 9,
      "outputs": []
    },
    {
      "cell_type": "code",
      "source": [
        "y.shape,y_predict.shape"
      ],
      "metadata": {
        "id": "1bqo5_KUsvpm",
        "colab": {
          "base_uri": "https://localhost:8080/"
        },
        "outputId": "fcf59795-f861-48cb-af6b-4ded7d2adba5"
      },
      "execution_count": 10,
      "outputs": [
        {
          "output_type": "execute_result",
          "data": {
            "text/plain": [
              "((30, 192, 2), (30, 192, 2))"
            ]
          },
          "metadata": {},
          "execution_count": 10
        }
      ]
    },
    {
      "cell_type": "code",
      "source": [
        "#error per skenario\n",
        "\n",
        "r_squared = []\n",
        "abs_error = []\n",
        "sqrt_error = []\n",
        "indexing = 0,1\n",
        "for i in range(192):\n",
        "  a = y[...,i,indexing]\n",
        "  b = y_predict[...,i,indexing]\n",
        "  r_squared.append(r2(a,b))\n",
        "  abs_error.append(mae(a,b))\n",
        "  sqrt_error.append(mse(a,b))"
      ],
      "metadata": {
        "id": "3K5i_Lu_hebD"
      },
      "execution_count": 11,
      "outputs": []
    },
    {
      "cell_type": "code",
      "source": [
        "error = pd.DataFrame(r_squared,columns=['r2'])\n",
        "abs_error = pd.DataFrame(abs_error,columns=['mae'])\n",
        "sqrt_error = pd.DataFrame(sqrt_error,columns=['rmse'])\n",
        "error = error.join(abs_error)\n",
        "error = error.join(sqrt_error)"
      ],
      "metadata": {
        "id": "sQgP16s1hgPc"
      },
      "execution_count": 12,
      "outputs": []
    },
    {
      "cell_type": "code",
      "source": [
        "r2_matrix = skor_r2.reshape(5,6)\n",
        "rmse_matrix = rmse.reshape(5,6)\n",
        "mae_matrix = mae_.reshape(5,6)"
      ],
      "metadata": {
        "id": "5EJQN12chqzR"
      },
      "execution_count": 13,
      "outputs": []
    },
    {
      "cell_type": "code",
      "source": [
        "import numpy as np\n",
        "import seaborn as sns\n",
        "import matplotlib.pylab as plt\n",
        "\n",
        "ax = sns.heatmap(r2_matrix, linewidth=0.5, cmap=\"RdYlBu\")\n",
        "plt.show()"
      ],
      "metadata": {
        "id": "XYPpLAVahtCF",
        "colab": {
          "base_uri": "https://localhost:8080/",
          "height": 265
        },
        "outputId": "68b34957-b531-4036-d6c8-a33200f539fa"
      },
      "execution_count": 14,
      "outputs": [
        {
          "output_type": "display_data",
          "data": {
            "text/plain": [
              "<Figure size 432x288 with 2 Axes>"
            ],
            "image/png": "[encoded data removed]"
          },
          "metadata": {
            "needs_background": "light"
          }
        }
      ]
    },
    {
      "cell_type": "code",
      "source": [
        "bx = sns.heatmap(rmse_matrix, linewidth=0.5, cmap=\"RdYlBu_r\")\n",
        "plt.show()"
      ],
      "metadata": {
        "id": "6h3s_5mWhulT",
        "colab": {
          "base_uri": "https://localhost:8080/",
          "height": 265
        },
        "outputId": "60f36063-5657-4b0e-fc1b-ab3be8fea30d"
      },
      "execution_count": 15,
      "outputs": [
        {
          "output_type": "display_data",
          "data": {
            "text/plain": [
              "<Figure size 432x288 with 2 Axes>"
            ],
            "image/png": "[encoded data removed]"
          },
          "metadata": {
            "needs_background": "light"
          }
        }
      ]
    },
    {
      "cell_type": "code",
      "source": [
        "bx = sns.heatmap(mae_matrix, linewidth=0.5, cmap=\"RdYlBu_r\")\n",
        "plt.show()"
      ],
      "metadata": {
        "id": "j50fu4zjhwWe",
        "colab": {
          "base_uri": "https://localhost:8080/",
          "height": 265
        },
        "outputId": "af1e9a81-c982-4db8-c164-4717189867f9"
      },
      "execution_count": 16,
      "outputs": [
        {
          "output_type": "display_data",
          "data": {
            "text/plain": [
              "<Figure size 432x288 with 2 Axes>"
            ],
            "image/png": "[encoded data removed]"
          },
          "metadata": {
            "needs_background": "light"
          }
        }
      ]
    },
    {
      "cell_type": "code",
      "source": [
        "#_________break__________"
      ],
      "metadata": {
        "id": "3xK3MyG_EQNU"
      },
      "execution_count": 17,
      "outputs": []
    },
    {
      "cell_type": "code",
      "source": [
        "df_koor = pd.read_excel('data_model.xlsx',sheet_name='koordinat_30_aktual')"
      ],
      "metadata": {
        "id": "1XM3DjsrhyDV"
      },
      "execution_count": 18,
      "outputs": []
    },
    {
      "cell_type": "code",
      "source": [
        "y.shape"
      ],
      "metadata": {
        "colab": {
          "base_uri": "https://localhost:8080/"
        },
        "id": "6gGstsqpEZY0",
        "outputId": "ef24da9f-833a-46b6-b9ca-235138d85127"
      },
      "execution_count": 19,
      "outputs": [
        {
          "output_type": "execute_result",
          "data": {
            "text/plain": [
              "(30, 192, 2)"
            ]
          },
          "metadata": {},
          "execution_count": 19
        }
      ]
    },
    {
      "cell_type": "code",
      "source": [
        "np.array(array_y_not_normal).shape"
      ],
      "metadata": {
        "colab": {
          "base_uri": "https://localhost:8080/"
        },
        "id": "MrdnMZgvEdfy",
        "outputId": "899bf3bc-ec83-44e3-99a5-dd6da21d2402"
      },
      "execution_count": 20,
      "outputs": [
        {
          "output_type": "execute_result",
          "data": {
            "text/plain": [
              "(30, 192, 2)"
            ]
          },
          "metadata": {},
          "execution_count": 20
        }
      ]
    },
    {
      "cell_type": "code",
      "source": [
        "len(array_y_not_normal) == len(y)"
      ],
      "metadata": {
        "colab": {
          "base_uri": "https://localhost:8080/"
        },
        "id": "pdnjyGaWDBJ6",
        "outputId": "cee6c189-bb9f-4e79-98da-fd65ef85f7c1"
      },
      "execution_count": 21,
      "outputs": [
        {
          "output_type": "execute_result",
          "data": {
            "text/plain": [
              "True"
            ]
          },
          "metadata": {},
          "execution_count": 21
        }
      ]
    },
    {
      "cell_type": "code",
      "source": [
        "df_y = []\n",
        "df_y_predict = []\n",
        "for i in range(30):\n",
        "  q = pd.DataFrame(y[i],columns=['Vx','Vy'])\n",
        "  q = round(rescale(q,array_y_not_normal[i]),9)\n",
        "  df_y.append(q)\n",
        "  r = round(pd.DataFrame(y_predict[i],columns=['Vx','Vy']),9)\n",
        "  r = rescale(r,array_y_not_normal[i])\n",
        "  df_y_predict.append(r)"
      ],
      "metadata": {
        "id": "f6HKltxm1k-Z"
      },
      "execution_count": 22,
      "outputs": []
    },
    {
      "cell_type": "code",
      "source": [
        "np.array(df_y).shape "
      ],
      "metadata": {
        "colab": {
          "base_uri": "https://localhost:8080/"
        },
        "id": "gPmEP9UfCwv2",
        "outputId": "b8550043-1314-459c-c82c-8a39bec4761f"
      },
      "execution_count": 23,
      "outputs": [
        {
          "output_type": "execute_result",
          "data": {
            "text/plain": [
              "(30, 192, 2)"
            ]
          },
          "metadata": {},
          "execution_count": 23
        }
      ]
    },
    {
      "cell_type": "code",
      "source": [
        "def kec_angin(y,scenarios):\n",
        "  df_x = pd.DataFrame(y[...,scenarios,0])\n",
        "  df_y = pd.DataFrame(y[...,scenarios,1])\n",
        "  df_y.rename(columns={0:1},inplace=True)\n",
        "  df_x = df_x.join(df_y)\n",
        "  df_x = df_x.join(df_koor)\n",
        "  df_x.rename(columns={0:'Vx',1:'Vy',},inplace=True)\n",
        "  return df_x"
      ],
      "metadata": {
        "id": "2gtG6Axuh0y_"
      },
      "execution_count": 24,
      "outputs": []
    },
    {
      "cell_type": "code",
      "source": [
        "#error per skenario\n",
        "\n",
        "r_squared = []\n",
        "abs_error = []\n",
        "sqrt_error = []\n",
        "indexing = 0,1\n",
        "for i in range(192):\n",
        "  a = kec_angin(np.array(df_y),i)\n",
        "  a.drop(['koor_x','koor_y'],axis=1)\n",
        "  b = kec_angin(np.array(df_y_predict),i)\n",
        "  b.drop(['koor_x','koor_y'],axis=1)\n",
        "  r_squared.append(r2(a,b))\n",
        "  abs_error.append(mae(a,b))\n",
        "  sqrt_error.append(mse(a,b))\n",
        "\n",
        "error = pd.DataFrame(r_squared,columns=['r2'])\n",
        "abs_error = pd.DataFrame(abs_error,columns=['mae'])\n",
        "sqrt_error = pd.DataFrame(sqrt_error,columns=['rmse'])\n",
        "error = error.join(abs_error)\n",
        "error = error.join(sqrt_error)"
      ],
      "metadata": {
        "id": "xhctq4Abe_je"
      },
      "execution_count": 25,
      "outputs": []
    },
    {
      "cell_type": "code",
      "source": [
        "error.describe()"
      ],
      "metadata": {
        "id": "Ly9FNnPsG3jY",
        "outputId": "31f83ead-e0cd-45cd-aeb2-b32680b195f4",
        "colab": {
          "base_uri": "https://localhost:8080/",
          "height": 300
        }
      },
      "execution_count": 26,
      "outputs": [
        {
          "output_type": "execute_result",
          "data": {
            "text/plain": [
              "               r2         mae        rmse\n",
              "count  192.000000  192.000000  192.000000\n",
              "mean     0.912914    0.012856    0.000953\n",
              "std      0.110176    0.005994    0.001103\n",
              "min      0.312658    0.004711    0.000079\n",
              "25%      0.922735    0.008660    0.000317\n",
              "50%      0.945990    0.010723    0.000437\n",
              "75%      0.959723    0.015495    0.001228\n",
              "max      0.990292    0.029235    0.005088"
            ],
            "text/html": [
              "\n",
              "  <div id=\"df-410e2f97-2328-4aff-96a4-e5b697a7f2de\">\n",
              "    <div class=\"colab-df-container\">\n",
              "      <div>\n",
              "<style scoped>\n",
              "    .dataframe tbody tr th:only-of-type {\n",
              "        vertical-align: middle;\n",
              "    }\n",
              "\n",
              "    .dataframe tbody tr th {\n",
              "        vertical-align: top;\n",
              "    }\n",
              "\n",
              "    .dataframe thead th {\n",
              "        text-align: right;\n",
              "    }\n",
              "</style>\n",
              "<table border=\"1\" class=\"dataframe\">\n",
              "  <thead>\n",
              "    <tr style=\"text-align: right;\">\n",
              "      <th></th>\n",
              "      <th>r2</th>\n",
              "      <th>mae</th>\n",
              "      <th>rmse</th>\n",
              "    </tr>\n",
              "  </thead>\n",
              "  <tbody>\n",
              "    <tr>\n",
              "      <th>count</th>\n",
              "      <td>192.000000</td>\n",
              "      <td>192.000000</td>\n",
              "      <td>192.000000</td>\n",
              "    </tr>\n",
              "    <tr>\n",
              "      <th>mean</th>\n",
              "      <td>0.912914</td>\n",
              "      <td>0.012856</td>\n",
              "      <td>0.000953</td>\n",
              "    </tr>\n",
              "    <tr>\n",
              "      <th>std</th>\n",
              "      <td>0.110176</td>\n",
              "      <td>0.005994</td>\n",
              "      <td>0.001103</td>\n",
              "    </tr>\n",
              "    <tr>\n",
              "      <th>min</th>\n",
              "      <td>0.312658</td>\n",
              "      <td>0.004711</td>\n",
              "      <td>0.000079</td>\n",
              "    </tr>\n",
              "    <tr>\n",
              "      <th>25%</th>\n",
              "      <td>0.922735</td>\n",
              "      <td>0.008660</td>\n",
              "      <td>0.000317</td>\n",
              "    </tr>\n",
              "    <tr>\n",
              "      <th>50%</th>\n",
              "      <td>0.945990</td>\n",
              "      <td>0.010723</td>\n",
              "      <td>0.000437</td>\n",
              "    </tr>\n",
              "    <tr>\n",
              "      <th>75%</th>\n",
              "      <td>0.959723</td>\n",
              "      <td>0.015495</td>\n",
              "      <td>0.001228</td>\n",
              "    </tr>\n",
              "    <tr>\n",
              "      <th>max</th>\n",
              "      <td>0.990292</td>\n",
              "      <td>0.029235</td>\n",
              "      <td>0.005088</td>\n",
              "    </tr>\n",
              "  </tbody>\n",
              "</table>\n",
              "</div>\n",
              "      <button class=\"colab-df-convert\" onclick=\"convertToInteractive('df-410e2f97-2328-4aff-96a4-e5b697a7f2de')\"\n",
              "              title=\"Convert this dataframe to an interactive table.\"\n",
              "              style=\"display:none;\">\n",
              "        \n",
              "  <svg xmlns=\"http://www.w3.org/2000/svg\" height=\"24px\"viewBox=\"0 0 24 24\"\n",
              "       width=\"24px\">\n",
              "    <path d=\"M0 0h24v24H0V0z\" fill=\"none\"/>\n",
              "    <path d=\"M18.56 5.44l.94 2.06.94-2.06 2.06-.94-2.06-.94-.94-2.06-.94 2.06-2.06.94zm-11 1L8.5 8.5l.94-2.06 2.06-.94-2.06-.94L8.5 2.5l-.94 2.06-2.06.94zm10 10l.94 2.06.94-2.06 2.06-.94-2.06-.94-.94-2.06-.94 2.06-2.06.94z\"/><path d=\"M17.41 7.96l-1.37-1.37c-.4-.4-.92-.59-1.43-.59-.52 0-1.04.2-1.43.59L10.3 9.45l-7.72 7.72c-.78.78-.78 2.05 0 2.83L4 21.41c.39.39.9.59 1.41.59.51 0 1.02-.2 1.41-.59l7.78-7.78 2.81-2.81c.8-.78.8-2.07 0-2.86zM5.41 20L4 18.59l7.72-7.72 1.47 1.35L5.41 20z\"/>\n",
              "  </svg>\n",
              "      </button>\n",
              "      \n",
              "  <style>\n",
              "    .colab-df-container {\n",
              "      display:flex;\n",
              "      flex-wrap:wrap;\n",
              "      gap: 12px;\n",
              "    }\n",
              "\n",
              "    .colab-df-convert {\n",
              "      background-color: #E8F0FE;\n",
              "      border: none;\n",
              "      border-radius: 50%;\n",
              "      cursor: pointer;\n",
              "      display: none;\n",
              "      fill: #1967D2;\n",
              "      height: 32px;\n",
              "      padding: 0 0 0 0;\n",
              "      width: 32px;\n",
              "    }\n",
              "\n",
              "    .colab-df-convert:hover {\n",
              "      background-color: #E2EBFA;\n",
              "      box-shadow: 0px 1px 2px rgba(60, 64, 67, 0.3), 0px 1px 3px 1px rgba(60, 64, 67, 0.15);\n",
              "      fill: #174EA6;\n",
              "    }\n",
              "\n",
              "    [theme=dark] .colab-df-convert {\n",
              "      background-color: #3B4455;\n",
              "      fill: #D2E3FC;\n",
              "    }\n",
              "\n",
              "    [theme=dark] .colab-df-convert:hover {\n",
              "      background-color: #434B5C;\n",
              "      box-shadow: 0px 1px 3px 1px rgba(0, 0, 0, 0.15);\n",
              "      filter: drop-shadow(0px 1px 2px rgba(0, 0, 0, 0.3));\n",
              "      fill: #FFFFFF;\n",
              "    }\n",
              "  </style>\n",
              "\n",
              "      <script>\n",
              "        const buttonEl =\n",
              "          document.querySelector('#df-410e2f97-2328-4aff-96a4-e5b697a7f2de button.colab-df-convert');\n",
              "        buttonEl.style.display =\n",
              "          google.colab.kernel.accessAllowed ? 'block' : 'none';\n",
              "\n",
              "        async function convertToInteractive(key) {\n",
              "          const element = document.querySelector('#df-410e2f97-2328-4aff-96a4-e5b697a7f2de');\n",
              "          const dataTable =\n",
              "            await google.colab.kernel.invokeFunction('convertToInteractive',\n",
              "                                                     [key], {});\n",
              "          if (!dataTable) return;\n",
              "\n",
              "          const docLinkHtml = 'Like what you see? Visit the ' +\n",
              "            '<a target=\"_blank\" href=https://colab.research.google.com/notebooks/data_table.ipynb>data table notebook</a>'\n",
              "            + ' to learn more about interactive tables.';\n",
              "          element.innerHTML = '';\n",
              "          dataTable['output_type'] = 'display_data';\n",
              "          await google.colab.output.renderOutput(dataTable, element);\n",
              "          const docLink = document.createElement('div');\n",
              "          docLink.innerHTML = docLinkHtml;\n",
              "          element.appendChild(docLink);\n",
              "        }\n",
              "      </script>\n",
              "    </div>\n",
              "  </div>\n",
              "  "
            ]
          },
          "metadata": {},
          "execution_count": 26
        }
      ]
    },
    {
      "cell_type": "code",
      "source": [
        "min_error = error[error.r2 == error.r2.max()]\n",
        "min_error"
      ],
      "metadata": {
        "id": "ASCn_mHwfw5A",
        "outputId": "37165efc-de7b-4fe6-a17f-57a13ff787b5",
        "colab": {
          "base_uri": "https://localhost:8080/",
          "height": 81
        }
      },
      "execution_count": 27,
      "outputs": [
        {
          "output_type": "execute_result",
          "data": {
            "text/plain": [
              "         r2       mae      rmse\n",
              "9  0.990292  0.004711  0.000079"
            ],
            "text/html": [
              "\n",
              "  <div id=\"df-4a817b8b-55f5-4d13-956d-0259968ae816\">\n",
              "    <div class=\"colab-df-container\">\n",
              "      <div>\n",
              "<style scoped>\n",
              "    .dataframe tbody tr th:only-of-type {\n",
              "        vertical-align: middle;\n",
              "    }\n",
              "\n",
              "    .dataframe tbody tr th {\n",
              "        vertical-align: top;\n",
              "    }\n",
              "\n",
              "    .dataframe thead th {\n",
              "        text-align: right;\n",
              "    }\n",
              "</style>\n",
              "<table border=\"1\" class=\"dataframe\">\n",
              "  <thead>\n",
              "    <tr style=\"text-align: right;\">\n",
              "      <th></th>\n",
              "      <th>r2</th>\n",
              "      <th>mae</th>\n",
              "      <th>rmse</th>\n",
              "    </tr>\n",
              "  </thead>\n",
              "  <tbody>\n",
              "    <tr>\n",
              "      <th>9</th>\n",
              "      <td>0.990292</td>\n",
              "      <td>0.004711</td>\n",
              "      <td>0.000079</td>\n",
              "    </tr>\n",
              "  </tbody>\n",
              "</table>\n",
              "</div>\n",
              "      <button class=\"colab-df-convert\" onclick=\"convertToInteractive('df-4a817b8b-55f5-4d13-956d-0259968ae816')\"\n",
              "              title=\"Convert this dataframe to an interactive table.\"\n",
              "              style=\"display:none;\">\n",
              "        \n",
              "  <svg xmlns=\"http://www.w3.org/2000/svg\" height=\"24px\"viewBox=\"0 0 24 24\"\n",
              "       width=\"24px\">\n",
              "    <path d=\"M0 0h24v24H0V0z\" fill=\"none\"/>\n",
              "    <path d=\"M18.56 5.44l.94 2.06.94-2.06 2.06-.94-2.06-.94-.94-2.06-.94 2.06-2.06.94zm-11 1L8.5 8.5l.94-2.06 2.06-.94-2.06-.94L8.5 2.5l-.94 2.06-2.06.94zm10 10l.94 2.06.94-2.06 2.06-.94-2.06-.94-.94-2.06-.94 2.06-2.06.94z\"/><path d=\"M17.41 7.96l-1.37-1.37c-.4-.4-.92-.59-1.43-.59-.52 0-1.04.2-1.43.59L10.3 9.45l-7.72 7.72c-.78.78-.78 2.05 0 2.83L4 21.41c.39.39.9.59 1.41.59.51 0 1.02-.2 1.41-.59l7.78-7.78 2.81-2.81c.8-.78.8-2.07 0-2.86zM5.41 20L4 18.59l7.72-7.72 1.47 1.35L5.41 20z\"/>\n",
              "  </svg>\n",
              "      </button>\n",
              "      \n",
              "  <style>\n",
              "    .colab-df-container {\n",
              "      display:flex;\n",
              "      flex-wrap:wrap;\n",
              "      gap: 12px;\n",
              "    }\n",
              "\n",
              "    .colab-df-convert {\n",
              "      background-color: #E8F0FE;\n",
              "      border: none;\n",
              "      border-radius: 50%;\n",
              "      cursor: pointer;\n",
              "      display: none;\n",
              "      fill: #1967D2;\n",
              "      height: 32px;\n",
              "      padding: 0 0 0 0;\n",
              "      width: 32px;\n",
              "    }\n",
              "\n",
              "    .colab-df-convert:hover {\n",
              "      background-color: #E2EBFA;\n",
              "      box-shadow: 0px 1px 2px rgba(60, 64, 67, 0.3), 0px 1px 3px 1px rgba(60, 64, 67, 0.15);\n",
              "      fill: #174EA6;\n",
              "    }\n",
              "\n",
              "    [theme=dark] .colab-df-convert {\n",
              "      background-color: #3B4455;\n",
              "      fill: #D2E3FC;\n",
              "    }\n",
              "\n",
              "    [theme=dark] .colab-df-convert:hover {\n",
              "      background-color: #434B5C;\n",
              "      box-shadow: 0px 1px 3px 1px rgba(0, 0, 0, 0.15);\n",
              "      filter: drop-shadow(0px 1px 2px rgba(0, 0, 0, 0.3));\n",
              "      fill: #FFFFFF;\n",
              "    }\n",
              "  </style>\n",
              "\n",
              "      <script>\n",
              "        const buttonEl =\n",
              "          document.querySelector('#df-4a817b8b-55f5-4d13-956d-0259968ae816 button.colab-df-convert');\n",
              "        buttonEl.style.display =\n",
              "          google.colab.kernel.accessAllowed ? 'block' : 'none';\n",
              "\n",
              "        async function convertToInteractive(key) {\n",
              "          const element = document.querySelector('#df-4a817b8b-55f5-4d13-956d-0259968ae816');\n",
              "          const dataTable =\n",
              "            await google.colab.kernel.invokeFunction('convertToInteractive',\n",
              "                                                     [key], {});\n",
              "          if (!dataTable) return;\n",
              "\n",
              "          const docLinkHtml = 'Like what you see? Visit the ' +\n",
              "            '<a target=\"_blank\" href=https://colab.research.google.com/notebooks/data_table.ipynb>data table notebook</a>'\n",
              "            + ' to learn more about interactive tables.';\n",
              "          element.innerHTML = '';\n",
              "          dataTable['output_type'] = 'display_data';\n",
              "          await google.colab.output.renderOutput(dataTable, element);\n",
              "          const docLink = document.createElement('div');\n",
              "          docLink.innerHTML = docLinkHtml;\n",
              "          element.appendChild(docLink);\n",
              "        }\n",
              "      </script>\n",
              "    </div>\n",
              "  </div>\n",
              "  "
            ]
          },
          "metadata": {},
          "execution_count": 27
        }
      ]
    },
    {
      "cell_type": "code",
      "source": [
        "max_error = error[error.r2 == error.r2.min()]\n",
        "max_error"
      ],
      "metadata": {
        "id": "VNa759oDfyvI",
        "outputId": "1ba1ce7a-2f20-4336-fa4b-02b4642ab5e9",
        "colab": {
          "base_uri": "https://localhost:8080/",
          "height": 81
        }
      },
      "execution_count": 28,
      "outputs": [
        {
          "output_type": "execute_result",
          "data": {
            "text/plain": [
              "           r2       mae      rmse\n",
              "144  0.312658  0.026175  0.004547"
            ],
            "text/html": [
              "\n",
              "  <div id=\"df-58bc2f54-f2bf-48eb-ad0a-e2b89ee570d6\">\n",
              "    <div class=\"colab-df-container\">\n",
              "      <div>\n",
              "<style scoped>\n",
              "    .dataframe tbody tr th:only-of-type {\n",
              "        vertical-align: middle;\n",
              "    }\n",
              "\n",
              "    .dataframe tbody tr th {\n",
              "        vertical-align: top;\n",
              "    }\n",
              "\n",
              "    .dataframe thead th {\n",
              "        text-align: right;\n",
              "    }\n",
              "</style>\n",
              "<table border=\"1\" class=\"dataframe\">\n",
              "  <thead>\n",
              "    <tr style=\"text-align: right;\">\n",
              "      <th></th>\n",
              "      <th>r2</th>\n",
              "      <th>mae</th>\n",
              "      <th>rmse</th>\n",
              "    </tr>\n",
              "  </thead>\n",
              "  <tbody>\n",
              "    <tr>\n",
              "      <th>144</th>\n",
              "      <td>0.312658</td>\n",
              "      <td>0.026175</td>\n",
              "      <td>0.004547</td>\n",
              "    </tr>\n",
              "  </tbody>\n",
              "</table>\n",
              "</div>\n",
              "      <button class=\"colab-df-convert\" onclick=\"convertToInteractive('df-58bc2f54-f2bf-48eb-ad0a-e2b89ee570d6')\"\n",
              "              title=\"Convert this dataframe to an interactive table.\"\n",
              "              style=\"display:none;\">\n",
              "        \n",
              "  <svg xmlns=\"http://www.w3.org/2000/svg\" height=\"24px\"viewBox=\"0 0 24 24\"\n",
              "       width=\"24px\">\n",
              "    <path d=\"M0 0h24v24H0V0z\" fill=\"none\"/>\n",
              "    <path d=\"M18.56 5.44l.94 2.06.94-2.06 2.06-.94-2.06-.94-.94-2.06-.94 2.06-2.06.94zm-11 1L8.5 8.5l.94-2.06 2.06-.94-2.06-.94L8.5 2.5l-.94 2.06-2.06.94zm10 10l.94 2.06.94-2.06 2.06-.94-2.06-.94-.94-2.06-.94 2.06-2.06.94z\"/><path d=\"M17.41 7.96l-1.37-1.37c-.4-.4-.92-.59-1.43-.59-.52 0-1.04.2-1.43.59L10.3 9.45l-7.72 7.72c-.78.78-.78 2.05 0 2.83L4 21.41c.39.39.9.59 1.41.59.51 0 1.02-.2 1.41-.59l7.78-7.78 2.81-2.81c.8-.78.8-2.07 0-2.86zM5.41 20L4 18.59l7.72-7.72 1.47 1.35L5.41 20z\"/>\n",
              "  </svg>\n",
              "      </button>\n",
              "      \n",
              "  <style>\n",
              "    .colab-df-container {\n",
              "      display:flex;\n",
              "      flex-wrap:wrap;\n",
              "      gap: 12px;\n",
              "    }\n",
              "\n",
              "    .colab-df-convert {\n",
              "      background-color: #E8F0FE;\n",
              "      border: none;\n",
              "      border-radius: 50%;\n",
              "      cursor: pointer;\n",
              "      display: none;\n",
              "      fill: #1967D2;\n",
              "      height: 32px;\n",
              "      padding: 0 0 0 0;\n",
              "      width: 32px;\n",
              "    }\n",
              "\n",
              "    .colab-df-convert:hover {\n",
              "      background-color: #E2EBFA;\n",
              "      box-shadow: 0px 1px 2px rgba(60, 64, 67, 0.3), 0px 1px 3px 1px rgba(60, 64, 67, 0.15);\n",
              "      fill: #174EA6;\n",
              "    }\n",
              "\n",
              "    [theme=dark] .colab-df-convert {\n",
              "      background-color: #3B4455;\n",
              "      fill: #D2E3FC;\n",
              "    }\n",
              "\n",
              "    [theme=dark] .colab-df-convert:hover {\n",
              "      background-color: #434B5C;\n",
              "      box-shadow: 0px 1px 3px 1px rgba(0, 0, 0, 0.15);\n",
              "      filter: drop-shadow(0px 1px 2px rgba(0, 0, 0, 0.3));\n",
              "      fill: #FFFFFF;\n",
              "    }\n",
              "  </style>\n",
              "\n",
              "      <script>\n",
              "        const buttonEl =\n",
              "          document.querySelector('#df-58bc2f54-f2bf-48eb-ad0a-e2b89ee570d6 button.colab-df-convert');\n",
              "        buttonEl.style.display =\n",
              "          google.colab.kernel.accessAllowed ? 'block' : 'none';\n",
              "\n",
              "        async function convertToInteractive(key) {\n",
              "          const element = document.querySelector('#df-58bc2f54-f2bf-48eb-ad0a-e2b89ee570d6');\n",
              "          const dataTable =\n",
              "            await google.colab.kernel.invokeFunction('convertToInteractive',\n",
              "                                                     [key], {});\n",
              "          if (!dataTable) return;\n",
              "\n",
              "          const docLinkHtml = 'Like what you see? Visit the ' +\n",
              "            '<a target=\"_blank\" href=https://colab.research.google.com/notebooks/data_table.ipynb>data table notebook</a>'\n",
              "            + ' to learn more about interactive tables.';\n",
              "          element.innerHTML = '';\n",
              "          dataTable['output_type'] = 'display_data';\n",
              "          await google.colab.output.renderOutput(dataTable, element);\n",
              "          const docLink = document.createElement('div');\n",
              "          docLink.innerHTML = docLinkHtml;\n",
              "          element.appendChild(docLink);\n",
              "        }\n",
              "      </script>\n",
              "    </div>\n",
              "  </div>\n",
              "  "
            ]
          },
          "metadata": {},
          "execution_count": 28
        }
      ]
    },
    {
      "cell_type": "code",
      "source": [
        "writer = pd.ExcelWriter('vxvy_30_a0005.xlsx')\n",
        "\n",
        "# Write each dataframe to a different worksheet.\n",
        "error.to_excel(writer, sheet_name='metric',index=False)\n",
        "error.describe().to_excel(writer, sheet_name='metric summary',index=False)\n",
        "min_error.to_excel(writer, sheet_name='minimum error',index=False)\n",
        "max_error.to_excel(writer, sheet_name='maximum error',index=False)\n",
        "\n",
        "# Close the Pandas Excel writer and output the Excel file.\n",
        "writer.save()"
      ],
      "metadata": {
        "id": "F9nOUdCissLe"
      },
      "execution_count": 29,
      "outputs": []
    },
    {
      "cell_type": "code",
      "source": [
        "import plotly.graph_objects as go\n",
        "from plotly.figure_factory import create_quiver\n",
        "\n",
        "def tampilan_vektor(Y,scale,arrow):\n",
        "  x = Y['koor_x']\n",
        "  y = Y['koor_y']\n",
        "  u = Y['Vx']\n",
        "  v = Y['Vy']\n",
        "\n",
        "  fig = create_quiver(x,y,u,v, scale=scale, arrow_scale=arrow)\n",
        "  \n",
        "  fig.show()"
      ],
      "metadata": {
        "id": "1syZuX5KtYG5"
      },
      "execution_count": 30,
      "outputs": []
    },
    {
      "cell_type": "code",
      "source": [
        "import plotly.figure_factory as ff\n",
        "import plotly.graph_objs as go\n",
        "import numpy as np\n",
        "def tampilan_vektor_heatmap(Y):\n",
        "  x = Y['koor_x']\n",
        "  y = Y['koor_y']\n",
        "  a = Y['Vx']\n",
        "  b = Y['Vy']\n",
        "  angle = np.arctan(b / a)\n",
        "  norm = 0.5\n",
        "  u = norm * np.cos(angle)\n",
        "  v = norm * np.sin(angle)\n",
        "  f = ff.create_quiver(x, y, u, v, scale = 1, scaleratio = 0.5)\n",
        "  trace1 = f.data[0]\n",
        "  trace2 = go.Contour(\n",
        "       x = (x*1.2)-0.5,\n",
        "       y = (y*1.2)-0.5,\n",
        "       z = ((a**2)+(b**2))**0.5,\n",
        "       colorscale = 'ylgnbu'\n",
        "   )\n",
        "  data=[trace1,trace2]\n",
        "  fig = go.FigureWidget(data)\n",
        "  fig.show()"
      ],
      "metadata": {
        "id": "ePZ3rMuWiFmi"
      },
      "execution_count": 31,
      "outputs": []
    },
    {
      "cell_type": "code",
      "source": [
        "def tampilan_vektor_subplot(Y):\n",
        "  x = Y['koor_x']\n",
        "  y = Y['koor_y']\n",
        "  a = Y['Vx']\n",
        "  b = Y['Vy']\n",
        "  angle = np.arctan(b / a)\n",
        "  norm = 0.5\n",
        "  u = norm * np.cos(angle)\n",
        "  v = norm * np.sin(angle)\n",
        "  f = ff.create_quiver(x, y, u, v, scale = 1, scaleratio = 0.5)\n",
        "  return f"
      ],
      "metadata": {
        "id": "D5_9tiTO95Gk"
      },
      "execution_count": 32,
      "outputs": []
    },
    {
      "cell_type": "code",
      "source": [
        "scenarios=9\n",
        "scenarios2 = 144\n",
        "angin_test = kec_angin(np.array(df_y_predict),scenarios)\n",
        "angin_pred = kec_angin(np.array(df_y_predict),scenarios2)"
      ],
      "metadata": {
        "id": "iv0kMusziQdR"
      },
      "execution_count": 33,
      "outputs": []
    },
    {
      "cell_type": "code",
      "source": [
        "import numpy as np\n",
        "from plotly.subplots import make_subplots\n",
        "import plotly.graph_objects as go\n",
        "import plotly.figure_factory as ff\n",
        "\n",
        "fig1 = tampilan_vektor_subplot(angin_test)\n",
        "fig2 = tampilan_vektor_subplot(angin_pred) \n",
        " \n",
        "# subplot setup\n",
        "subplots = make_subplots(rows=1, cols=2)\n",
        "\n",
        "# add all fig1.data as individual traces in fig at row=1, col=1\n",
        "for d in fig1.data:\n",
        "    subplots.add_trace(go.Scatter(x=d['x'], y=d['y']),\n",
        "                  row=1, col=1)\n",
        "\n",
        "# add all fig2.data as individual traces in fig at row=1, col=2\n",
        "for d in fig2.data:\n",
        "    subplots.add_trace(go.Scatter(x=d['x'], y=d['y']),\n",
        "                  row=1, col=2)\n",
        "    \n",
        "subplots.update_layout(showlegend=False)\n",
        "\n",
        "subplots.add_contour( x = (angin_test['koor_x']*1.2)-0.5,\n",
        "                      y = (angin_test['koor_y']*1.3)-0.9,\n",
        "                      z = ((angin_test['Vx']**2)+(angin_test['Vy']**2))**0.5,\n",
        "                      colorscale = 'ylgnbu',\n",
        "                      row = 1, col = 1\n",
        "                     )\n",
        "\n",
        "subplots.add_contour( x = (angin_pred['koor_x']*1.2)-0.5,\n",
        "                      y = (angin_pred['koor_y']*1.3)-0.9,\n",
        "                      z = ((angin_pred['Vx']**2)+(angin_pred['Vy']**2))**0.5,\n",
        "                      colorscale = 'ylgnbu',\n",
        "                      row = 1, col = 2\n",
        "                     )\n",
        "subplots.show()"
      ],
      "metadata": {
        "colab": {
          "base_uri": "https://localhost:8080/",
          "height": 542
        },
        "id": "uIgqrRCP1K6y",
        "outputId": "49376ce7-9c7a-4c3f-f337-9d2d0dfd8501"
      },
      "execution_count": 34,
      "outputs": [
        {
          "output_type": "display_data",
          "data": {
            "text/html": [
              "<html>\n",
              "<head><meta charset=\"utf-8\" /></head>\n",
              "<body>\n",
              "    <div>            <script src=\"https://cdnjs.cloudflare.com/ajax/libs/mathjax/2.7.5/MathJax.js?config=TeX-AMS-MML_SVG\"></script><script type=\"text/javascript\">if (window.MathJax) {MathJax.Hub.Config({SVG: {font: \"STIX-Web\"}});}</script>                <script type=\"text/javascript\">window.PlotlyConfig = {MathJaxConfig: 'local'};</script>\n",
              "        <script src=\"https://cdn.plot.ly/plotly-2.8.3.min.js\"></script>                <div id=\"bb86e514-a0cf-4940-8061-f1b2c4ba5ee3\" class=\"plotly-graph-div\" style=\"height:525px; width:100%;\"></div>            <script type=\"text/javascript\">                                    window.PLOTLYENV=window.PLOTLYENV || {};                                    if (document.getElementById(\"bb86e514-a0cf-4940-8061-f1b2c4ba5ee3\")) {                    Plotly.newPlot(                        \"bb86e514-a0cf-4940-8061-f1b2c4ba5ee3\",                        [{\"x\":[1,1.0097551022681428,null,1,1.0211765314006749,null,1,1.0184482947876956,null,1,1.0329881383783759,null,1,1.0600803085002595,null,1,1.027074356017388,null,2,2.224090466650514,null,2,2.2416503864823114,null,2,2.2111698012503913,null,2,2.2285157002911373,null,2,2.2446235069992806,null,2,2.2030396601598565,null,3,3.2193537734739137,null,3,3.2032942826209414,null,3,3.144487890676763,null,3,3.1957297315360234,null,3,3.204584906375682,null,3,3.154184548227206,null,4,4.220576438358726,null,4,4.212945947927868,null,4,4.186921541078218,null,4,4.211227406209555,null,4,4.232506091475371,null,5,5.249014870204035,null,5,5.175512095061983,null,5,5.180601008718869,null,5,5.20776134650143,null,5,5.230791993708563,null,5,5.1887067717717255,null,5,5.200413915181602,null,1.0326370378968557,1.0097551022681428,0.9813730880695986,null,1.0407660209596936,1.0211765314006749,0.989647383667023,null,1.0388291504589515,1.0184482947876956,0.9876660032295913,null,1.049115740110591,1.0329881383783759,0.9982613105215863,null,1.068042954284882,1.0600803085002595,1.018243449184296,null,1.0449425266169232,1.027074356017388,0.9939412418806107,null,2.1722895275034926,2.224090466650514,2.14954571105756,null,2.1801013309028496,2.2416503864823114,2.1669531910692785,null,2.1653699477256265,2.2111698012503913,2.137908832394464,null,2.1744988969603303,2.2285157002911373,2.1536917932435604,null,2.180953504886707,2.2446235069992806,2.170370966473058,null,2.1607672309380828,2.2030396601598565,2.130835167154173,null,3.1698220863084026,3.2193537734739137,3.1452103872744366,null,3.1609136384098093,3.2032942826209414,3.1310544444959554,null,3.1246890851006124,3.144487890676763,3.082822173455788,null,3.1565104101709838,3.1957297315360234,3.124593582265378,null,3.161653647949116,3.204584906375682,3.1321680086950057,null,3.130910780796111,3.154184548227206,3.0905266663333126,null,4.170467791396567,4.220576438358726,4.146320654453924,null,4.166353486241415,4.212945947927868,4.139476168077874,null,4.151260846835288,4.186921541078218,4.117192959630869,null,4.165401981795978,4.211227406209555,4.137959529669412,null,4.1763876893075995,4.232506091475371,4.157533938574835,null,5.181090613262969,5.249014870204035,5.176540665547086,null,5.144301060052387,5.175512095061983,5.107766677718527,null,5.147425458892592,5.180601008718869,5.11195089742538,null,5.163459293734944,5.20776134650143,5.134924316752753,null,5.175590292007846,5.230791993708563,5.155869575354638,null,5.152334300627634,5.1887067717717255,5.118683426360085,null,5.159249788168649,5.200413915181602,5.128581555875176,null],\"y\":[1,1.4996192069155792,null,2,2.4982029888221717,null,3,3.4986367833179832,null,4,4.495628016667053,null,5,5.485346707130124,null,6,6.49705926908667,null,1,1.2216615686703933,null,2,2.1281419636645156,null,3,3.267636432795464,null,4,4.202786338005804,null,5,5.1031375745957375,null,6,6.291718332657857,null,1,1.239865979769995,null,2,2.2910081418354946,null,3,3.408035534961257,null,4,4.311061872898858,null,5,5.287367472642631,null,6,6.393584171876728,null,1,1.2353383508141351,null,2,2.261946737037143,null,3,3.3320261283751282,null,4,4.267454540929734,null,5,5.183748931173453,null,6,6.044343857174029,null,1,1.3560646260832632,null,2,2.345735596372297,null,3,3.2781023041969477,null,4,4.192198393750065,null,5,5.327961914175985,null,6,6.298893041749599,null,1.3567707974475918,1.4996192069155792,1.36077452721868,null,2.3534100069643884,2.4982029888221717,2.3621013673301476,null,3.3542813785406427,3.4986367833179832,3.361853004653525,null,4.349137055002286,4.495628016667053,4.3626761843817485,null,5.336194485931664,5.485346707130124,5.360852896800835,null,6.351378405835166,6.49705926908667,6.362490375985787,null,1.1131873744399392,1.2216615686703933,1.205159518666009,null,2.042428166472317,2.1281419636645156,2.1416073262555773,null,3.1488530430962287,3.267636432795464,3.2355222339238825,null,4.098725106840285,4.202786338005804,4.192513473919173,null,5.0238625891088935,5.1031375745957375,5.124261989418559,null,6.167814471092688,6.291718332657857,6.251146855495092,null,1.1272318469942166,1.239865979769995,1.2172599378453055,null,2.1672522369864824,2.2910081418354946,2.2506891246016467,null,3.263356479147946,3.408035534961257,3.322657802041654,null,4.18320500242776,4.311061872898858,4.263537215427415,null,5.164373049193251,5.287367472642631,5.248339639994306,null,6.250989196515556,6.393584171876728,6.314270262055483,null,1.1237296862827146,1.2353383508141351,1.2142595883567748,null,2.144402830108772,2.261946737037143,2.2318009944658637,null,3.2000668181903253,3.3320261283751282,3.2767839369145975,null,4.148710606729867,4.267454540929734,4.2354034400251885,null,5.084235616724857,5.183748931173453,5.179661736801454,null,5.980742117606499,6.044343857174029,6.082943839523387,null,1.2196700324421696,1.3560646260832632,1.291704438732355,null,2.211208530044005,2.345735596372297,2.2853315495081508,null,3.157067959968947,3.2781023041969477,3.2423382385784905,null,4.090654863589941,4.192198393750065,4.185377476509885,null,5.196781986704253,5.327961914175985,5.274231807257721,null,6.1735054084317715,6.298893041749599,6.255760123625615,null],\"type\":\"scatter\",\"xaxis\":\"x\",\"yaxis\":\"y\"},{\"x\":[1,1.0086105228140856,null,1,1.0183124513285953,null,1,1.015477135060336,null,1,1.0311755368287652,null,1,1.0434628006144482,null,1,1.0173897248741028,null,2,2.2079947255262167,null,2,2.166723873871074,null,2,2.135995024132684,null,2,2.2188460071233624,null,2,2.2421616402108446,null,2,2.1983096584619224,null,3,3.237877098715472,null,3,3.201158534832713,null,3,3.131854340387486,null,3,3.1413538614985757,null,3,3.138131906658838,null,3,3.044633375595937,null,4,4.249560788284261,null,4,4.215814091250602,null,4,4.106919996490386,null,4,4.217738864893925,null,4,4.248347481172801,null,5,5.249143979028116,null,5,5.1760844399065356,null,5,5.237996519103159,null,5,5.233802280487233,null,5,5.249974586817772,null,5,5.2304027328944365,null,5,5.237121938572352,null,1.0318194409734254,1.0086105228140856,0.9805468578050428,null,1.0387326298786586,1.0183124513285953,0.9875674275493427,null,1.03671631688276,1.015477135060336,0.9855117034736492,null,1.0478381910114887,1.0311755368287652,0.9969356295018238,null,1.0564711865266216,1.0434628006144482,1.005949410892623,null,1.0380768048802778,1.0173897248741028,0.986898047182913,null,2.163591037545595,2.2079947255262167,2.1351277482632125,null,2.1388373711937967,2.166723873871074,2.100608860157058,null,2.1191811023791076,2.135995024132684,2.07613283350161,null,2.1695522768166158,2.2188460071233624,2.1447509506407387,null,2.1802673222521687,2.2421616402108446,2.1675214543633947,null,2.1580241058499157,2.1983096584619224,2.1267851374615834,null,3.178708681457187,3.237877098715472,3.162926703383623,null,3.159681498654596,3.201158534832713,3.129219256536587,null,3.116477261252475,3.131854340387486,3.0728898891140686,null,3.1226626340794486,3.1413538614985757,3.08034758057582,null,3.1205718419289887,3.138131906658838,3.077811051359248,null,3.0572902687938663,3.044633375595937,3.006811490185047,null,4.180727520619053,4.249560788284261,4.177687797236528,null,4.167922422251703,4.215814091250602,4.142026414843616,null,4.099965592545747,4.106919996490386,4.053591241405142,null,4.1689607604183925,4.217738864893925,4.143752406609985,null,4.181280897436869,4.248347481172801,4.1753918876394245,null,5.18102928987044,5.249143979028116,5.176787413022216,null,5.144653974978721,5.1760844399065356,5.108235755545115,null,5.178756434736743,5.237996519103159,5.163050459805193,null,5.176974691667333,5.233802280487233,5.158808502689071,null,5.1798705477754465,5.249974586817772,5.179139061090098,null,5.175406145857601,5.2304027328944365,5.155494671185386,null,5.178402170239566,5.237121938572352,5.162148665363405,null],\"y\":[1,1.499703347584817,null,2,2.4986568123522943,null,3,3.4990409133140252,null,4,4.496097111071768,null,5,5.492385966342456,null,6,6.498788923168119,null,1,1.27740363482315,null,2,2.3725756292696683,null,3,3.419549059878106,null,4,4.241714088676363,null,5,5.124221415390317,null,6,6.3044554441012055,null,1,1.1538113897825464,null,2,2.2968854584782226,null,3,3.4248031681660622,null,4,4.41240313209015,null,5,5.416747292074198,null,6,6.491966916704414,null,1,1.0296251886703434,null,2,2.2523828680213995,null,3,3.4519651063986947,null,4,4.245680985952964,null,5,5.057394375861242,null,6,6.0413413939793,null,1,1.3549325007536028,null,2,2.153070662045729,null,3,3.177047944229454,null,4,4.00712907996428,null,5,5.1940575242012,null,6,6.1584068969166355,null,1.3570660997443869,1.499703347584817,1.360600066440766,null,2.3543236379538417,2.4986568123522943,2.3618395106275023,null,3.3551812990296264,3.4990409133140252,3.3615334893715545,null,4.349845875786906,4.496097111071768,4.362641069676221,null,5.34465943662,5.492385966342456,5.362497620574586,null,6.354607860322569,6.498788923168119,6.36174502375517,null,1.156518358735123,1.27740363482315,1.241884421737675,null,2.2333299044745387,2.3725756292696683,2.3017574123591733,null,3.2733670906033066,3.419549059878106,3.3291827357778327,null,4.128663159402063,4.241714088676363,4.218482850669162,null,5.039507935838824,5.124221415390317,5.138896926510294,null,6.177931545161199,6.3044554441012055,6.259322622533213,null,1.0616355057531652,1.1538113897825464,1.1592660170290372,null,2.171910973564235,2.2968854584782226,2.254471298661834,null,3.2779897432039613,3.4248031681660622,3.3321059516808886,null,4.267135957304289,4.41240313209015,4.325150998867545,null,5.270916648837826,5.416747292074198,5.32760932225379,null,6.344118304203976,6.491966916704414,6.362436920426092,null,0.970060727369,1.0296251886703434,1.0724865072619396,null,2.1369465125609137,2.2523828680213995,2.2255218322663897,null,3.30261134828361,3.4519651063986947,3.3464938993124362,null,4.131738956415589,4.245680985952964,4.221104249749895,null,4.990250549756642,5.057394375861242,5.09217835908299,null,5.97855957747314,6.0413413939793,6.080814288772249,null,1.218739609978476,1.3549325007536028,1.29100892042758,null,2.0610790884259695,2.153070662045729,2.158758612715577,null,3.079157696524867,3.177047944229454,3.175115803903401,null,3.9538215304069384,4.00712907996428,4.056417143220365,null,5.092069771714936,5.1940575242012,5.186632622587553,null,6.065090471632683,6.1584068969166355,6.162411046932094,null],\"type\":\"scatter\",\"xaxis\":\"x2\",\"yaxis\":\"y2\"},{\"colorscale\":[[0.0,\"rgb(255,255,217)\"],[0.125,\"rgb(237,248,177)\"],[0.25,\"rgb(199,233,180)\"],[0.375,\"rgb(127,205,187)\"],[0.5,\"rgb(65,182,196)\"],[0.625,\"rgb(29,145,192)\"],[0.75,\"rgb(34,94,168)\"],[0.875,\"rgb(37,52,148)\"],[1.0,\"rgb(8,29,88)\"]],\"x\":[0.7,0.7,0.7,0.7,0.7,0.7,1.9,1.9,1.9,1.9,1.9,1.9,3.0999999999999996,3.0999999999999996,3.0999999999999996,3.0999999999999996,3.0999999999999996,3.0999999999999996,4.3,4.3,4.3,4.3,4.3,5.5,5.5,5.5,5.5,5.5,5.5,5.5],\"y\":[0.4,1.7000000000000002,3.0000000000000004,4.3,5.6,6.9,0.4,1.7000000000000002,3.0000000000000004,4.3,5.6,6.9,0.4,1.7000000000000002,3.0000000000000004,4.3,5.6,6.9,0.4,1.7000000000000002,3.0000000000000004,4.3,5.6,6.9,0.4,1.7000000000000002,3.0000000000000004,4.3,5.6,6.9],\"z\":[0.36513654631984527,0.3753679939879853,0.4716533632722912,0.4523387422650614,0.3312190797571508,0.3425741046325041,0.18710417356755482,0.269231069678589,0.27431458614739396,0.22204597311408797,0.21201064117080384,0.007854884323356856,0.19182214218671131,0.175778424140978,0.19293623044962385,0.17917012624894482,0.1793499789452389,0.23739002210311555,0.1594103889679786,0.1536088250121736,0.14498148102590988,0.137987598587168,0.15014711453601912,0.006478486181555675,0.010751311235301724,0.15790854095923518,0.1333165570981968,0.13105065220468254,0.10292352230578407,0.11980298982007345],\"type\":\"contour\",\"xaxis\":\"x\",\"yaxis\":\"y\"},{\"colorscale\":[[0.0,\"rgb(255,255,217)\"],[0.125,\"rgb(237,248,177)\"],[0.25,\"rgb(199,233,180)\"],[0.375,\"rgb(127,205,187)\"],[0.5,\"rgb(65,182,196)\"],[0.625,\"rgb(29,145,192)\"],[0.75,\"rgb(34,94,168)\"],[0.875,\"rgb(37,52,148)\"],[1.0,\"rgb(8,29,88)\"]],\"x\":[0.7,0.7,0.7,0.7,0.7,0.7,1.9,1.9,1.9,1.9,1.9,1.9,3.0999999999999996,3.0999999999999996,3.0999999999999996,3.0999999999999996,3.0999999999999996,3.0999999999999996,4.3,4.3,4.3,4.3,4.3,5.5,5.5,5.5,5.5,5.5,5.5,5.5],\"y\":[0.4,1.7000000000000002,3.0000000000000004,4.3,5.6,6.9,0.4,1.7000000000000002,3.0000000000000004,4.3,5.6,6.9,0.4,1.7000000000000002,3.0000000000000004,4.3,5.6,6.9,0.4,1.7000000000000002,3.0000000000000004,4.3,5.6,6.9,0.4,1.7000000000000002,3.0000000000000004,4.3,5.6,6.9],\"z\":[0.37309818058752525,0.28847204003653965,0.29765294506031664,0.32260568898615766,0.3837447185017635,0.41300127984834345,0.15603382242957198,0.23492244141708823,0.24783003976793022,0.18744562882314225,0.1493567987466542,0.008042235844582364,0.1644085180677145,0.2511444405062528,0.32605123347166953,0.2628511633275475,0.19917013106993367,0.1640027687850122,0.10180509997583305,0.0880510179229471,0.06611855068041224,0.03051215722750543,0.0408687207801998,0.006948993207211924,0.011574176576182264,0.1262767268561658,0.0739294875924768,0.10540337829856938,0.07280499052489249,0.07615243603912338],\"type\":\"contour\",\"xaxis\":\"x2\",\"yaxis\":\"y2\"}],                        {\"template\":{\"data\":{\"bar\":[{\"error_x\":{\"color\":\"#2a3f5f\"},\"error_y\":{\"color\":\"#2a3f5f\"},\"marker\":{\"line\":{\"color\":\"#E5ECF6\",\"width\":0.5},\"pattern\":{\"fillmode\":\"overlay\",\"size\":10,\"solidity\":0.2}},\"type\":\"bar\"}],\"barpolar\":[{\"marker\":{\"line\":{\"color\":\"#E5ECF6\",\"width\":0.5},\"pattern\":{\"fillmode\":\"overlay\",\"size\":10,\"solidity\":0.2}},\"type\":\"barpolar\"}],\"carpet\":[{\"aaxis\":{\"endlinecolor\":\"#2a3f5f\",\"gridcolor\":\"white\",\"linecolor\":\"white\",\"minorgridcolor\":\"white\",\"startlinecolor\":\"#2a3f5f\"},\"baxis\":{\"endlinecolor\":\"#2a3f5f\",\"gridcolor\":\"white\",\"linecolor\":\"white\",\"minorgridcolor\":\"white\",\"startlinecolor\":\"#2a3f5f\"},\"type\":\"carpet\"}],\"choropleth\":[{\"colorbar\":{\"outlinewidth\":0,\"ticks\":\"\"},\"type\":\"choropleth\"}],\"contour\":[{\"colorbar\":{\"outlinewidth\":0,\"ticks\":\"\"},\"colorscale\":[[0.0,\"#0d0887\"],[0.1111111111111111,\"#46039f\"],[0.2222222222222222,\"#7201a8\"],[0.3333333333333333,\"#9c179e\"],[0.4444444444444444,\"#bd3786\"],[0.5555555555555556,\"#d8576b\"],[0.6666666666666666,\"#ed7953\"],[0.7777777777777778,\"#fb9f3a\"],[0.8888888888888888,\"#fdca26\"],[1.0,\"#f0f921\"]],\"type\":\"contour\"}],\"contourcarpet\":[{\"colorbar\":{\"outlinewidth\":0,\"ticks\":\"\"},\"type\":\"contourcarpet\"}],\"heatmap\":[{\"colorbar\":{\"outlinewidth\":0,\"ticks\":\"\"},\"colorscale\":[[0.0,\"#0d0887\"],[0.1111111111111111,\"#46039f\"],[0.2222222222222222,\"#7201a8\"],[0.3333333333333333,\"#9c179e\"],[0.4444444444444444,\"#bd3786\"],[0.5555555555555556,\"#d8576b\"],[0.6666666666666666,\"#ed7953\"],[0.7777777777777778,\"#fb9f3a\"],[0.8888888888888888,\"#fdca26\"],[1.0,\"#f0f921\"]],\"type\":\"heatmap\"}],\"heatmapgl\":[{\"colorbar\":{\"outlinewidth\":0,\"ticks\":\"\"},\"colorscale\":[[0.0,\"#0d0887\"],[0.1111111111111111,\"#46039f\"],[0.2222222222222222,\"#7201a8\"],[0.3333333333333333,\"#9c179e\"],[0.4444444444444444,\"#bd3786\"],[0.5555555555555556,\"#d8576b\"],[0.6666666666666666,\"#ed7953\"],[0.7777777777777778,\"#fb9f3a\"],[0.8888888888888888,\"#fdca26\"],[1.0,\"#f0f921\"]],\"type\":\"heatmapgl\"}],\"histogram\":[{\"marker\":{\"pattern\":{\"fillmode\":\"overlay\",\"size\":10,\"solidity\":0.2}},\"type\":\"histogram\"}],\"histogram2d\":[{\"colorbar\":{\"outlinewidth\":0,\"ticks\":\"\"},\"colorscale\":[[0.0,\"#0d0887\"],[0.1111111111111111,\"#46039f\"],[0.2222222222222222,\"#7201a8\"],[0.3333333333333333,\"#9c179e\"],[0.4444444444444444,\"#bd3786\"],[0.5555555555555556,\"#d8576b\"],[0.6666666666666666,\"#ed7953\"],[0.7777777777777778,\"#fb9f3a\"],[0.8888888888888888,\"#fdca26\"],[1.0,\"#f0f921\"]],\"type\":\"histogram2d\"}],\"histogram2dcontour\":[{\"colorbar\":{\"outlinewidth\":0,\"ticks\":\"\"},\"colorscale\":[[0.0,\"#0d0887\"],[0.1111111111111111,\"#46039f\"],[0.2222222222222222,\"#7201a8\"],[0.3333333333333333,\"#9c179e\"],[0.4444444444444444,\"#bd3786\"],[0.5555555555555556,\"#d8576b\"],[0.6666666666666666,\"#ed7953\"],[0.7777777777777778,\"#fb9f3a\"],[0.8888888888888888,\"#fdca26\"],[1.0,\"#f0f921\"]],\"type\":\"histogram2dcontour\"}],\"mesh3d\":[{\"colorbar\":{\"outlinewidth\":0,\"ticks\":\"\"},\"type\":\"mesh3d\"}],\"parcoords\":[{\"line\":{\"colorbar\":{\"outlinewidth\":0,\"ticks\":\"\"}},\"type\":\"parcoords\"}],\"pie\":[{\"automargin\":true,\"type\":\"pie\"}],\"scatter\":[{\"marker\":{\"colorbar\":{\"outlinewidth\":0,\"ticks\":\"\"}},\"type\":\"scatter\"}],\"scatter3d\":[{\"line\":{\"colorbar\":{\"outlinewidth\":0,\"ticks\":\"\"}},\"marker\":{\"colorbar\":{\"outlinewidth\":0,\"ticks\":\"\"}},\"type\":\"scatter3d\"}],\"scattercarpet\":[{\"marker\":{\"colorbar\":{\"outlinewidth\":0,\"ticks\":\"\"}},\"type\":\"scattercarpet\"}],\"scattergeo\":[{\"marker\":{\"colorbar\":{\"outlinewidth\":0,\"ticks\":\"\"}},\"type\":\"scattergeo\"}],\"scattergl\":[{\"marker\":{\"colorbar\":{\"outlinewidth\":0,\"ticks\":\"\"}},\"type\":\"scattergl\"}],\"scattermapbox\":[{\"marker\":{\"colorbar\":{\"outlinewidth\":0,\"ticks\":\"\"}},\"type\":\"scattermapbox\"}],\"scatterpolar\":[{\"marker\":{\"colorbar\":{\"outlinewidth\":0,\"ticks\":\"\"}},\"type\":\"scatterpolar\"}],\"scatterpolargl\":[{\"marker\":{\"colorbar\":{\"outlinewidth\":0,\"ticks\":\"\"}},\"type\":\"scatterpolargl\"}],\"scatterternary\":[{\"marker\":{\"colorbar\":{\"outlinewidth\":0,\"ticks\":\"\"}},\"type\":\"scatterternary\"}],\"surface\":[{\"colorbar\":{\"outlinewidth\":0,\"ticks\":\"\"},\"colorscale\":[[0.0,\"#0d0887\"],[0.1111111111111111,\"#46039f\"],[0.2222222222222222,\"#7201a8\"],[0.3333333333333333,\"#9c179e\"],[0.4444444444444444,\"#bd3786\"],[0.5555555555555556,\"#d8576b\"],[0.6666666666666666,\"#ed7953\"],[0.7777777777777778,\"#fb9f3a\"],[0.8888888888888888,\"#fdca26\"],[1.0,\"#f0f921\"]],\"type\":\"surface\"}],\"table\":[{\"cells\":{\"fill\":{\"color\":\"#EBF0F8\"},\"line\":{\"color\":\"white\"}},\"header\":{\"fill\":{\"color\":\"#C8D4E3\"},\"line\":{\"color\":\"white\"}},\"type\":\"table\"}]},\"layout\":{\"annotationdefaults\":{\"arrowcolor\":\"#2a3f5f\",\"arrowhead\":0,\"arrowwidth\":1},\"autotypenumbers\":\"strict\",\"coloraxis\":{\"colorbar\":{\"outlinewidth\":0,\"ticks\":\"\"}},\"colorscale\":{\"diverging\":[[0,\"#8e0152\"],[0.1,\"#c51b7d\"],[0.2,\"#de77ae\"],[0.3,\"#f1b6da\"],[0.4,\"#fde0ef\"],[0.5,\"#f7f7f7\"],[0.6,\"#e6f5d0\"],[0.7,\"#b8e186\"],[0.8,\"#7fbc41\"],[0.9,\"#4d9221\"],[1,\"#276419\"]],\"sequential\":[[0.0,\"#0d0887\"],[0.1111111111111111,\"#46039f\"],[0.2222222222222222,\"#7201a8\"],[0.3333333333333333,\"#9c179e\"],[0.4444444444444444,\"#bd3786\"],[0.5555555555555556,\"#d8576b\"],[0.6666666666666666,\"#ed7953\"],[0.7777777777777778,\"#fb9f3a\"],[0.8888888888888888,\"#fdca26\"],[1.0,\"#f0f921\"]],\"sequentialminus\":[[0.0,\"#0d0887\"],[0.1111111111111111,\"#46039f\"],[0.2222222222222222,\"#7201a8\"],[0.3333333333333333,\"#9c179e\"],[0.4444444444444444,\"#bd3786\"],[0.5555555555555556,\"#d8576b\"],[0.6666666666666666,\"#ed7953\"],[0.7777777777777778,\"#fb9f3a\"],[0.8888888888888888,\"#fdca26\"],[1.0,\"#f0f921\"]]},\"colorway\":[\"#636efa\",\"#EF553B\",\"#00cc96\",\"#ab63fa\",\"#FFA15A\",\"#19d3f3\",\"#FF6692\",\"#B6E880\",\"#FF97FF\",\"#FECB52\"],\"font\":{\"color\":\"#2a3f5f\"},\"geo\":{\"bgcolor\":\"white\",\"lakecolor\":\"white\",\"landcolor\":\"#E5ECF6\",\"showlakes\":true,\"showland\":true,\"subunitcolor\":\"white\"},\"hoverlabel\":{\"align\":\"left\"},\"hovermode\":\"closest\",\"mapbox\":{\"style\":\"light\"},\"paper_bgcolor\":\"white\",\"plot_bgcolor\":\"#E5ECF6\",\"polar\":{\"angularaxis\":{\"gridcolor\":\"white\",\"linecolor\":\"white\",\"ticks\":\"\"},\"bgcolor\":\"#E5ECF6\",\"radialaxis\":{\"gridcolor\":\"white\",\"linecolor\":\"white\",\"ticks\":\"\"}},\"scene\":{\"xaxis\":{\"backgroundcolor\":\"#E5ECF6\",\"gridcolor\":\"white\",\"gridwidth\":2,\"linecolor\":\"white\",\"showbackground\":true,\"ticks\":\"\",\"zerolinecolor\":\"white\"},\"yaxis\":{\"backgroundcolor\":\"#E5ECF6\",\"gridcolor\":\"white\",\"gridwidth\":2,\"linecolor\":\"white\",\"showbackground\":true,\"ticks\":\"\",\"zerolinecolor\":\"white\"},\"zaxis\":{\"backgroundcolor\":\"#E5ECF6\",\"gridcolor\":\"white\",\"gridwidth\":2,\"linecolor\":\"white\",\"showbackground\":true,\"ticks\":\"\",\"zerolinecolor\":\"white\"}},\"shapedefaults\":{\"line\":{\"color\":\"#2a3f5f\"}},\"ternary\":{\"aaxis\":{\"gridcolor\":\"white\",\"linecolor\":\"white\",\"ticks\":\"\"},\"baxis\":{\"gridcolor\":\"white\",\"linecolor\":\"white\",\"ticks\":\"\"},\"bgcolor\":\"#E5ECF6\",\"caxis\":{\"gridcolor\":\"white\",\"linecolor\":\"white\",\"ticks\":\"\"}},\"title\":{\"x\":0.05},\"xaxis\":{\"automargin\":true,\"gridcolor\":\"white\",\"linecolor\":\"white\",\"ticks\":\"\",\"title\":{\"standoff\":15},\"zerolinecolor\":\"white\",\"zerolinewidth\":2},\"yaxis\":{\"automargin\":true,\"gridcolor\":\"white\",\"linecolor\":\"white\",\"ticks\":\"\",\"title\":{\"standoff\":15},\"zerolinecolor\":\"white\",\"zerolinewidth\":2}}},\"xaxis\":{\"anchor\":\"y\",\"domain\":[0.0,0.45]},\"yaxis\":{\"anchor\":\"x\",\"domain\":[0.0,1.0]},\"xaxis2\":{\"anchor\":\"y2\",\"domain\":[0.55,1.0]},\"yaxis2\":{\"anchor\":\"x2\",\"domain\":[0.0,1.0]},\"showlegend\":false},                        {\"responsive\": true}                    ).then(function(){\n",
              "                            \n",
              "var gd = document.getElementById('bb86e514-a0cf-4940-8061-f1b2c4ba5ee3');\n",
              "var x = new MutationObserver(function (mutations, observer) {{\n",
              "        var display = window.getComputedStyle(gd).display;\n",
              "        if (!display || display === 'none') {{\n",
              "            console.log([gd, 'removed!']);\n",
              "            Plotly.purge(gd);\n",
              "            observer.disconnect();\n",
              "        }}\n",
              "}});\n",
              "\n",
              "// Listen for the removal of the full notebook cells\n",
              "var notebookContainer = gd.closest('#notebook-container');\n",
              "if (notebookContainer) {{\n",
              "    x.observe(notebookContainer, {childList: true});\n",
              "}}\n",
              "\n",
              "// Listen for the clearing of the current output cell\n",
              "var outputEl = gd.closest('.output');\n",
              "if (outputEl) {{\n",
              "    x.observe(outputEl, {childList: true});\n",
              "}}\n",
              "\n",
              "                        })                };                            </script>        </div>\n",
              "</body>\n",
              "</html>"
            ]
          },
          "metadata": {}
        }
      ]
    },
    {
      "cell_type": "code",
      "source": [
        "!mkdir subplot"
      ],
      "metadata": {
        "id": "4dmWqcJ8N0na",
        "outputId": "68643a68-7ef5-4f6f-e565-c1f0d99a9479",
        "colab": {
          "base_uri": "https://localhost:8080/"
        }
      },
      "execution_count": 35,
      "outputs": [
        {
          "output_type": "stream",
          "name": "stdout",
          "text": [
            "mkdir: cannot create directory ‘subplot’: File exists\n"
          ]
        }
      ]
    },
    {
      "cell_type": "code",
      "source": [
        "import numpy as np\n",
        "from plotly.subplots import make_subplots\n",
        "import plotly.graph_objects as go\n",
        "import plotly.figure_factory as ff\n",
        "\n",
        "for i in range(192):\n",
        "  angin_test = kec_angin(np.array(df_y),i)\n",
        "  angin_pred = kec_angin(np.array(df_y_predict),i)\n",
        "\n",
        "  fig1 = tampilan_vektor_subplot(angin_test)\n",
        "  fig2 = tampilan_vektor_subplot(angin_pred) \n",
        " \n",
        "  # subplot setup\n",
        "  subplots = make_subplots(rows=1, cols=2)\n",
        "\n",
        "  # add all fig1.data as individual traces in fig at row=1, col=1\n",
        "  for d in fig1.data:\n",
        "      subplots.add_trace(go.Scatter(x=d['x'], y=d['y']),\n",
        "                  row=1, col=1)\n",
        "\n",
        "  # add all fig2.data as individual traces in fig at row=1, col=2\n",
        "  for d in fig2.data:\n",
        "      subplots.add_trace(go.Scatter(x=d['x'], y=d['y']),\n",
        "                  row=1, col=2)\n",
        "    \n",
        "  subplots.update_layout(showlegend=False)\n",
        "\n",
        "  subplots.add_contour( x = (angin_test['koor_x']*1.2)-0.5,\n",
        "                      y = (angin_test['koor_y']*1.3)-0.9,\n",
        "                      z = ((angin_test['Vx']**2)+(angin_test['Vy']**2))**0.5,\n",
        "                      colorscale = 'ylgnbu',\n",
        "                      row = 1, col = 1\n",
        "                     )\n",
        "\n",
        "  subplots.add_contour( x = (angin_pred['koor_x']*1.2)-0.5,\n",
        "                      y = (angin_pred['koor_y']*1.3)-0.9,\n",
        "                      z = ((angin_pred['Vx']**2)+(angin_pred['Vy']**2))**0.5,\n",
        "                      colorscale = 'ylgnbu',\n",
        "                      row = 1, col = 2\n",
        "                     )\n",
        "  subplots.write_image(f'/content/subplot/fig {i}.png')"
      ],
      "metadata": {
        "id": "_GzWRIEjMmEz"
      },
      "execution_count": 36,
      "outputs": []
    },
    {
      "cell_type": "code",
      "source": [
        "!zip -r /content/subplot.zip /content/subplot"
      ],
      "metadata": {
        "colab": {
          "base_uri": "https://localhost:8080/"
        },
        "id": "f2QeNpeJ9jUB",
        "outputId": "719fabc1-77d3-4a9b-fffb-2900df8121ee"
      },
      "execution_count": 37,
      "outputs": [
        {
          "output_type": "stream",
          "name": "stdout",
          "text": [
            "  adding: content/subplot/ (stored 0%)\n",
            "  adding: content/subplot/fig 149.png (deflated 3%)\n",
            "  adding: content/subplot/fig 36.png (deflated 4%)\n",
            "  adding: content/subplot/fig 147.png (deflated 3%)\n",
            "  adding: content/subplot/fig 7.png (deflated 4%)\n",
            "  adding: content/subplot/fig 33.png (deflated 4%)\n",
            "  adding: content/subplot/fig 115.png (deflated 3%)\n",
            "  adding: content/subplot/fig 63.png (deflated 4%)\n",
            "  adding: content/subplot/fig 173.png (deflated 3%)\n",
            "  adding: content/subplot/fig 109.png (deflated 3%)\n",
            "  adding: content/subplot/fig 86.png (deflated 4%)\n",
            "  adding: content/subplot/fig 76.png (deflated 4%)\n",
            "  adding: content/subplot/fig 77.png (deflated 4%)\n",
            "  adding: content/subplot/fig 29.png (deflated 4%)\n",
            "  adding: content/subplot/fig 153.png (deflated 2%)\n",
            "  adding: content/subplot/fig 182.png (deflated 4%)\n",
            "  adding: content/subplot/fig 127.png (deflated 3%)\n",
            "  adding: content/subplot/fig 45.png (deflated 4%)\n",
            "  adding: content/subplot/fig 122.png (deflated 3%)\n",
            "  adding: content/subplot/fig 79.png (deflated 4%)\n",
            "  adding: content/subplot/fig 67.png (deflated 4%)\n",
            "  adding: content/subplot/fig 171.png (deflated 3%)\n",
            "  adding: content/subplot/fig 44.png (deflated 4%)\n",
            "  adding: content/subplot/fig 88.png (deflated 4%)\n",
            "  adding: content/subplot/fig 64.png (deflated 4%)\n",
            "  adding: content/subplot/fig 47.png (deflated 4%)\n",
            "  adding: content/subplot/fig 186.png (deflated 3%)\n",
            "  adding: content/subplot/fig 107.png (deflated 3%)\n",
            "  adding: content/subplot/fig 174.png (deflated 3%)\n",
            "  adding: content/subplot/fig 141.png (deflated 2%)\n",
            "  adding: content/subplot/fig 184.png (deflated 3%)\n",
            "  adding: content/subplot/fig 28.png (deflated 4%)\n",
            "  adding: content/subplot/fig 132.png (deflated 3%)\n",
            "  adding: content/subplot/fig 113.png (deflated 3%)\n",
            "  adding: content/subplot/fig 25.png (deflated 4%)\n",
            "  adding: content/subplot/fig 129.png (deflated 3%)\n",
            "  adding: content/subplot/fig 111.png (deflated 3%)\n",
            "  adding: content/subplot/fig 38.png (deflated 4%)\n",
            "  adding: content/subplot/fig 157.png (deflated 3%)\n",
            "  adding: content/subplot/fig 69.png (deflated 4%)\n",
            "  adding: content/subplot/fig 138.png (deflated 2%)\n",
            "  adding: content/subplot/fig 3.png (deflated 4%)\n",
            "  adding: content/subplot/fig 177.png (deflated 3%)\n",
            "  adding: content/subplot/fig 166.png (deflated 3%)\n",
            "  adding: content/subplot/fig 6.png (deflated 4%)\n",
            "  adding: content/subplot/fig 23.png (deflated 4%)\n",
            "  adding: content/subplot/fig 73.png (deflated 4%)\n",
            "  adding: content/subplot/fig 139.png (deflated 2%)\n",
            "  adding: content/subplot/fig 170.png (deflated 4%)\n",
            "  adding: content/subplot/fig 89.png (deflated 4%)\n",
            "  adding: content/subplot/fig 1.png (deflated 4%)\n",
            "  adding: content/subplot/fig 161.png (deflated 3%)\n",
            "  adding: content/subplot/fig 180.png (deflated 3%)\n",
            "  adding: content/subplot/fig 48.png (deflated 4%)\n",
            "  adding: content/subplot/fig 92.png (deflated 4%)\n",
            "  adding: content/subplot/fig 144.png (deflated 2%)\n",
            "  adding: content/subplot/fig 135.png (deflated 2%)\n",
            "  adding: content/subplot/fig 134.png (deflated 4%)\n",
            "  adding: content/subplot/fig 66.png (deflated 4%)\n",
            "  adding: content/subplot/fig 56.png (deflated 4%)\n",
            "  adding: content/subplot/fig 168.png (deflated 3%)\n",
            "  adding: content/subplot/fig 15.png (deflated 4%)\n",
            "  adding: content/subplot/fig 78.png (deflated 4%)\n",
            "  adding: content/subplot/fig 57.png (deflated 4%)\n",
            "  adding: content/subplot/fig 114.png (deflated 3%)\n",
            "  adding: content/subplot/fig 137.png (deflated 2%)\n",
            "  adding: content/subplot/fig 41.png (deflated 4%)\n",
            "  adding: content/subplot/fig 16.png (deflated 4%)\n",
            "  adding: content/subplot/fig 43.png (deflated 4%)\n",
            "  adding: content/subplot/fig 133.png (deflated 2%)\n",
            "  adding: content/subplot/fig 120.png (deflated 3%)\n",
            "  adding: content/subplot/fig 155.png (deflated 4%)\n",
            "  adding: content/subplot/fig 183.png (deflated 3%)\n",
            "  adding: content/subplot/fig 108.png (deflated 3%)\n",
            "  adding: content/subplot/fig 51.png (deflated 4%)\n",
            "  adding: content/subplot/fig 117.png (deflated 4%)\n",
            "  adding: content/subplot/fig 50.png (deflated 4%)\n",
            "  adding: content/subplot/fig 103.png (deflated 3%)\n",
            "  adding: content/subplot/fig 163.png (deflated 3%)\n",
            "  adding: content/subplot/fig 104.png (deflated 3%)\n",
            "  adding: content/subplot/fig 11.png (deflated 4%)\n",
            "  adding: content/subplot/fig 24.png (deflated 4%)\n",
            "  adding: content/subplot/fig 9.png (deflated 4%)\n",
            "  adding: content/subplot/fig 148.png (deflated 3%)\n",
            "  adding: content/subplot/fig 99.png (deflated 3%)\n",
            "  adding: content/subplot/fig 74.png (deflated 4%)\n",
            "  adding: content/subplot/fig 17.png (deflated 4%)\n",
            "  adding: content/subplot/fig 4.png (deflated 4%)\n",
            "  adding: content/subplot/fig 188.png (deflated 3%)\n",
            "  adding: content/subplot/fig 125.png (deflated 2%)\n",
            "  adding: content/subplot/fig 116.png (deflated 3%)\n",
            "  adding: content/subplot/fig 83.png (deflated 4%)\n",
            "  adding: content/subplot/fig 93.png (deflated 4%)\n",
            "  adding: content/subplot/fig 154.png (deflated 4%)\n",
            "  adding: content/subplot/fig 13.png (deflated 4%)\n",
            "  adding: content/subplot/fig 96.png (deflated 3%)\n",
            "  adding: content/subplot/fig 42.png (deflated 4%)\n",
            "  adding: content/subplot/fig 100.png (deflated 3%)\n",
            "  adding: content/subplot/fig 179.png (deflated 3%)\n",
            "  adding: content/subplot/fig 191.png (deflated 3%)\n",
            "  adding: content/subplot/fig 10.png (deflated 4%)\n",
            "  adding: content/subplot/fig 60.png (deflated 4%)\n",
            "  adding: content/subplot/fig 105.png (deflated 3%)\n",
            "  adding: content/subplot/fig 82.png (deflated 4%)\n",
            "  adding: content/subplot/fig 181.png (deflated 3%)\n",
            "  adding: content/subplot/fig 34.png (deflated 4%)\n",
            "  adding: content/subplot/fig 167.png (deflated 3%)\n",
            "  adding: content/subplot/fig 131.png (deflated 3%)\n",
            "  adding: content/subplot/fig 81.png (deflated 4%)\n",
            "  adding: content/subplot/fig 112.png (deflated 3%)\n",
            "  adding: content/subplot/fig 110.png (deflated 3%)\n",
            "  adding: content/subplot/fig 61.png (deflated 4%)\n",
            "  adding: content/subplot/fig 102.png (deflated 3%)\n",
            "  adding: content/subplot/fig 75.png (deflated 4%)\n",
            "  adding: content/subplot/fig 158.png (deflated 4%)\n",
            "  adding: content/subplot/fig 159.png (deflated 4%)\n",
            "  adding: content/subplot/fig 84.png (deflated 4%)\n",
            "  adding: content/subplot/fig 106.png (deflated 3%)\n",
            "  adding: content/subplot/fig 143.png (deflated 2%)\n",
            "  adding: content/subplot/fig 49.png (deflated 4%)\n",
            "  adding: content/subplot/fig 145.png (deflated 4%)\n",
            "  adding: content/subplot/fig 40.png (deflated 4%)\n",
            "  adding: content/subplot/fig 97.png (deflated 3%)\n",
            "  adding: content/subplot/fig 175.png (deflated 3%)\n",
            "  adding: content/subplot/fig 39.png (deflated 4%)\n",
            "  adding: content/subplot/fig 72.png (deflated 4%)\n",
            "  adding: content/subplot/fig 87.png (deflated 4%)\n",
            "  adding: content/subplot/fig 2.png (deflated 4%)\n",
            "  adding: content/subplot/fig 162.png (deflated 3%)\n",
            "  adding: content/subplot/fig 98.png (deflated 3%)\n",
            "  adding: content/subplot/fig 95.png (deflated 4%)\n",
            "  adding: content/subplot/fig 142.png (deflated 2%)\n",
            "  adding: content/subplot/fig 164.png (deflated 3%)\n",
            "  adding: content/subplot/fig 140.png (deflated 2%)\n",
            "  adding: content/subplot/fig 121.png (deflated 3%)\n",
            "  adding: content/subplot/fig 152.png (deflated 3%)\n",
            "  adding: content/subplot/fig 150.png (deflated 3%)\n",
            "  adding: content/subplot/fig 165.png (deflated 3%)\n",
            "  adding: content/subplot/fig 160.png (deflated 3%)\n",
            "  adding: content/subplot/fig 58.png (deflated 4%)\n",
            "  adding: content/subplot/fig 146.png (deflated 3%)\n",
            "  adding: content/subplot/fig 128.png (deflated 3%)\n",
            "  adding: content/subplot/fig 190.png (deflated 3%)\n",
            "  adding: content/subplot/fig 71.png (deflated 4%)\n",
            "  adding: content/subplot/fig 27.png (deflated 4%)\n",
            "  adding: content/subplot/fig 172.png (deflated 3%)\n",
            "  adding: content/subplot/fig 80.png (deflated 4%)\n",
            "  adding: content/subplot/fig 30.png (deflated 4%)\n",
            "  adding: content/subplot/fig 91.png (deflated 4%)\n",
            "  adding: content/subplot/fig 0.png (deflated 4%)\n",
            "  adding: content/subplot/fig 119.png (deflated 3%)\n",
            "  adding: content/subplot/fig 53.png (deflated 4%)\n",
            "  adding: content/subplot/fig 5.png (deflated 4%)\n",
            "  adding: content/subplot/fig 32.png (deflated 4%)\n",
            "  adding: content/subplot/fig 14.png (deflated 4%)\n",
            "  adding: content/subplot/fig 18.png (deflated 4%)\n",
            "  adding: content/subplot/fig 124.png (deflated 3%)\n",
            "  adding: content/subplot/fig 178.png (deflated 3%)\n",
            "  adding: content/subplot/fig 169.png (deflated 3%)\n",
            "  adding: content/subplot/fig 35.png (deflated 4%)\n",
            "  adding: content/subplot/fig 26.png (deflated 4%)\n",
            "  adding: content/subplot/fig 185.png (deflated 3%)\n",
            "  adding: content/subplot/fig 94.png (deflated 4%)\n",
            "  adding: content/subplot/fig 130.png (deflated 3%)\n",
            "  adding: content/subplot/fig 176.png (deflated 3%)\n",
            "  adding: content/subplot/fig 21.png (deflated 4%)\n",
            "  adding: content/subplot/fig 90.png (deflated 4%)\n",
            "  adding: content/subplot/fig 189.png (deflated 3%)\n",
            "  adding: content/subplot/fig 123.png (deflated 3%)\n",
            "  adding: content/subplot/fig 118.png (deflated 3%)\n",
            "  adding: content/subplot/fig 22.png (deflated 4%)\n",
            "  adding: content/subplot/fig 101.png (deflated 3%)\n",
            "  adding: content/subplot/fig 65.png (deflated 4%)\n",
            "  adding: content/subplot/fig 54.png (deflated 4%)\n",
            "  adding: content/subplot/fig 156.png (deflated 3%)\n",
            "  adding: content/subplot/fig 85.png (deflated 4%)\n",
            "  adding: content/subplot/fig 126.png (deflated 3%)\n",
            "  adding: content/subplot/fig 136.png (deflated 3%)\n",
            "  adding: content/subplot/fig 187.png (deflated 3%)\n",
            "  adding: content/subplot/fig 12.png (deflated 4%)\n",
            "  adding: content/subplot/fig 19.png (deflated 4%)\n",
            "  adding: content/subplot/fig 70.png (deflated 4%)\n",
            "  adding: content/subplot/fig 37.png (deflated 4%)\n",
            "  adding: content/subplot/fig 46.png (deflated 4%)\n",
            "  adding: content/subplot/fig 59.png (deflated 5%)\n",
            "  adding: content/subplot/fig 151.png (deflated 2%)\n",
            "  adding: content/subplot/fig 31.png (deflated 4%)\n",
            "  adding: content/subplot/fig 55.png (deflated 4%)\n",
            "  adding: content/subplot/fig 20.png (deflated 4%)\n",
            "  adding: content/subplot/fig 52.png (deflated 4%)\n",
            "  adding: content/subplot/fig 68.png (deflated 4%)\n",
            "  adding: content/subplot/fig 62.png (deflated 4%)\n",
            "  adding: content/subplot/fig 8.png (deflated 4%)\n"
          ]
        }
      ]
    }
  ]
}