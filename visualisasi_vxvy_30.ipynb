{
  "nbformat": 4,
  "nbformat_minor": 0,
  "metadata": {
    "colab": {
      "provenance": [],
      "authorship_tag": "ABX9TyOYQjFh/MU5YVdszQbv10w9",
      "include_colab_link": true
    },
    "kernelspec": {
      "name": "python3",
      "display_name": "Python 3"
    },
    "language_info": {
      "name": "python"
    }
  },
  "cells": [
    {
      "cell_type": "markdown",
      "metadata": {
        "id": "view-in-github",
        "colab_type": "text"
      },
      "source": [
        "<a href=\"https://colab.research.google.com/github/yfhkucing/experiment_bms/blob/master/visualisasi_vxvy_30.ipynb\" target=\"_parent\"><img src=\"https://colab.research.google.com/assets/colab-badge.svg\" alt=\"Open In Colab\"/></a>"
      ]
    },
    {
      "cell_type": "code",
      "execution_count": 1,
      "metadata": {
        "id": "tU4nfSGSgrgL",
        "colab": {
          "base_uri": "https://localhost:8080/"
        },
        "outputId": "a8e87bf0-2a96-460b-ed99-3ec44117057c"
      },
      "outputs": [
        {
          "output_type": "stream",
          "name": "stdout",
          "text": [
            "Looking in indexes: https://pypi.org/simple, https://us-python.pkg.dev/colab-wheels/public/simple/\n",
            "Requirement already satisfied: kaleido in /usr/local/lib/python3.7/dist-packages (0.2.1)\n"
          ]
        }
      ],
      "source": [
        "! pip install -U kaleido"
      ]
    },
    {
      "cell_type": "code",
      "source": [
        "import joblib\n",
        "import numpy as np\n",
        "import pandas as pd"
      ],
      "metadata": {
        "id": "GM7QeNucg1vC"
      },
      "execution_count": 2,
      "outputs": []
    },
    {
      "cell_type": "code",
      "source": [
        "! unzip /content/models_vxvy_30_a001.zip"
      ],
      "metadata": {
        "id": "0n2v7CnJg7b4",
        "colab": {
          "base_uri": "https://localhost:8080/"
        },
        "outputId": "a483aa37-b240-451a-f1e1-aeead0edd1af"
      },
      "execution_count": 3,
      "outputs": [
        {
          "output_type": "stream",
          "name": "stdout",
          "text": [
            "Archive:  /content/models_vxvy_30_a001.zip\n",
            "replace content/models/model 25? [y]es, [n]o, [A]ll, [N]one, [r]ename: A\n",
            "  inflating: content/models/model 25  \n",
            "  inflating: content/models/model 18  \n",
            "  inflating: content/models/model 27  \n",
            "  inflating: content/models/model 4  \n",
            "  inflating: content/models/model 23  \n",
            "  inflating: content/models/model 26  \n",
            "  inflating: content/models/model 3  \n",
            "  inflating: content/models/model 11  \n",
            "  inflating: content/models/model 0  \n",
            "  inflating: content/models/model 21  \n",
            "  inflating: content/models/model 14  \n",
            "  inflating: content/models/model 9  \n",
            "  inflating: content/models/model 2  \n",
            "  inflating: content/models/model 13  \n",
            "  inflating: content/models/model 19  \n",
            "  inflating: content/models/model 8  \n",
            "  inflating: content/models/model 16  \n",
            "  inflating: content/models/model 12  \n",
            "  inflating: content/models/model 28  \n",
            "  inflating: content/models/model 10  \n",
            "  inflating: content/models/model 6  \n",
            "  inflating: content/models/model 29  \n",
            "  inflating: content/models/model 5  \n",
            "  inflating: content/models/model 15  \n",
            "  inflating: content/models/model 24  \n",
            "  inflating: content/models/model 17  \n",
            "  inflating: content/models/model 7  \n",
            "  inflating: content/models/model 1  \n",
            "  inflating: content/models/model 20  \n",
            "  inflating: content/models/model 22  \n"
          ]
        }
      ]
    },
    {
      "cell_type": "code",
      "source": [
        "feature = pd.read_excel('data_model.xlsx',sheet_name='feature')\n",
        "label = pd.read_excel('data_model.xlsx',sheet_name='label_30')"
      ],
      "metadata": {
        "id": "Hrj6CFrbhBpZ"
      },
      "execution_count": 4,
      "outputs": []
    },
    {
      "cell_type": "code",
      "source": [
        "def norm(df):\n",
        "  df=(df-df.min())/(df.max()-df.min())\n",
        "  return df\n",
        "\n",
        "def remap(df,new_max,new_min):\n",
        "  df = (df-df.min())/(df.max()-df.min())*(new_max - new_min) + new_min\n",
        "  return df\n",
        "\n",
        "'''\n",
        "def rescale(df,new_max,new_min):\n",
        "  df = df *(new_max - new_min) + new_min\n",
        "  return df\n",
        "'''\n",
        "\n",
        "from sklearn.preprocessing import StandardScaler\n",
        "def standard(df):\n",
        "  scaler = StandardScaler()\n",
        "  df = scaler.fit_transform(df)\n",
        "  return df\n",
        "\n",
        "def rescale(df,df2):\n",
        "  new_max = df2.max()\n",
        "  new_min = df2.min()\n",
        "  df = (df)*(new_max - new_min) + new_min\n",
        "  return df"
      ],
      "metadata": {
        "id": "v-PIpO_ihESs"
      },
      "execution_count": 5,
      "outputs": []
    },
    {
      "cell_type": "code",
      "source": [
        "feature = norm(feature)"
      ],
      "metadata": {
        "id": "3L5xmcHahP3c"
      },
      "execution_count": 6,
      "outputs": []
    },
    {
      "cell_type": "code",
      "source": [
        "array_y = []\n",
        "array_y_not_normal = []\n",
        "\n",
        "for i in range(30):\n",
        "  frame= label[i::30]\n",
        "  frame = frame.drop(['koor_x','koor_y','Temp'],axis=1)\n",
        "  array_y_not_normal.append(frame)\n",
        "  frame = norm(frame)\n",
        "  array_y.append(frame)"
      ],
      "metadata": {
        "id": "56GoYouthQZV"
      },
      "execution_count": 7,
      "outputs": []
    },
    {
      "cell_type": "code",
      "source": [
        "a = round(rescale(array_y[0],array_y_not_normal[0]),9)"
      ],
      "metadata": {
        "id": "X-_YkxJe1cwn"
      },
      "execution_count": 8,
      "outputs": []
    },
    {
      "cell_type": "code",
      "source": [
        "a.describe() == array_y_not_normal[0].describe()"
      ],
      "metadata": {
        "id": "aYiVdS164RVw",
        "colab": {
          "base_uri": "https://localhost:8080/",
          "height": 300
        },
        "outputId": "83df5a18-570f-4bbb-d1da-6175aa8dcf54"
      },
      "execution_count": 9,
      "outputs": [
        {
          "output_type": "execute_result",
          "data": {
            "text/plain": [
              "         Vx    Vy\n",
              "count  True  True\n",
              "mean   True  True\n",
              "std    True  True\n",
              "min    True  True\n",
              "25%    True  True\n",
              "50%    True  True\n",
              "75%    True  True\n",
              "max    True  True"
            ],
            "text/html": [
              "\n",
              "  <div id=\"df-1aa3e5d6-84c0-49a7-a6a5-2776f322ef78\">\n",
              "    <div class=\"colab-df-container\">\n",
              "      <div>\n",
              "<style scoped>\n",
              "    .dataframe tbody tr th:only-of-type {\n",
              "        vertical-align: middle;\n",
              "    }\n",
              "\n",
              "    .dataframe tbody tr th {\n",
              "        vertical-align: top;\n",
              "    }\n",
              "\n",
              "    .dataframe thead th {\n",
              "        text-align: right;\n",
              "    }\n",
              "</style>\n",
              "<table border=\"1\" class=\"dataframe\">\n",
              "  <thead>\n",
              "    <tr style=\"text-align: right;\">\n",
              "      <th></th>\n",
              "      <th>Vx</th>\n",
              "      <th>Vy</th>\n",
              "    </tr>\n",
              "  </thead>\n",
              "  <tbody>\n",
              "    <tr>\n",
              "      <th>count</th>\n",
              "      <td>True</td>\n",
              "      <td>True</td>\n",
              "    </tr>\n",
              "    <tr>\n",
              "      <th>mean</th>\n",
              "      <td>True</td>\n",
              "      <td>True</td>\n",
              "    </tr>\n",
              "    <tr>\n",
              "      <th>std</th>\n",
              "      <td>True</td>\n",
              "      <td>True</td>\n",
              "    </tr>\n",
              "    <tr>\n",
              "      <th>min</th>\n",
              "      <td>True</td>\n",
              "      <td>True</td>\n",
              "    </tr>\n",
              "    <tr>\n",
              "      <th>25%</th>\n",
              "      <td>True</td>\n",
              "      <td>True</td>\n",
              "    </tr>\n",
              "    <tr>\n",
              "      <th>50%</th>\n",
              "      <td>True</td>\n",
              "      <td>True</td>\n",
              "    </tr>\n",
              "    <tr>\n",
              "      <th>75%</th>\n",
              "      <td>True</td>\n",
              "      <td>True</td>\n",
              "    </tr>\n",
              "    <tr>\n",
              "      <th>max</th>\n",
              "      <td>True</td>\n",
              "      <td>True</td>\n",
              "    </tr>\n",
              "  </tbody>\n",
              "</table>\n",
              "</div>\n",
              "      <button class=\"colab-df-convert\" onclick=\"convertToInteractive('df-1aa3e5d6-84c0-49a7-a6a5-2776f322ef78')\"\n",
              "              title=\"Convert this dataframe to an interactive table.\"\n",
              "              style=\"display:none;\">\n",
              "        \n",
              "  <svg xmlns=\"http://www.w3.org/2000/svg\" height=\"24px\"viewBox=\"0 0 24 24\"\n",
              "       width=\"24px\">\n",
              "    <path d=\"M0 0h24v24H0V0z\" fill=\"none\"/>\n",
              "    <path d=\"M18.56 5.44l.94 2.06.94-2.06 2.06-.94-2.06-.94-.94-2.06-.94 2.06-2.06.94zm-11 1L8.5 8.5l.94-2.06 2.06-.94-2.06-.94L8.5 2.5l-.94 2.06-2.06.94zm10 10l.94 2.06.94-2.06 2.06-.94-2.06-.94-.94-2.06-.94 2.06-2.06.94z\"/><path d=\"M17.41 7.96l-1.37-1.37c-.4-.4-.92-.59-1.43-.59-.52 0-1.04.2-1.43.59L10.3 9.45l-7.72 7.72c-.78.78-.78 2.05 0 2.83L4 21.41c.39.39.9.59 1.41.59.51 0 1.02-.2 1.41-.59l7.78-7.78 2.81-2.81c.8-.78.8-2.07 0-2.86zM5.41 20L4 18.59l7.72-7.72 1.47 1.35L5.41 20z\"/>\n",
              "  </svg>\n",
              "      </button>\n",
              "      \n",
              "  <style>\n",
              "    .colab-df-container {\n",
              "      display:flex;\n",
              "      flex-wrap:wrap;\n",
              "      gap: 12px;\n",
              "    }\n",
              "\n",
              "    .colab-df-convert {\n",
              "      background-color: #E8F0FE;\n",
              "      border: none;\n",
              "      border-radius: 50%;\n",
              "      cursor: pointer;\n",
              "      display: none;\n",
              "      fill: #1967D2;\n",
              "      height: 32px;\n",
              "      padding: 0 0 0 0;\n",
              "      width: 32px;\n",
              "    }\n",
              "\n",
              "    .colab-df-convert:hover {\n",
              "      background-color: #E2EBFA;\n",
              "      box-shadow: 0px 1px 2px rgba(60, 64, 67, 0.3), 0px 1px 3px 1px rgba(60, 64, 67, 0.15);\n",
              "      fill: #174EA6;\n",
              "    }\n",
              "\n",
              "    [theme=dark] .colab-df-convert {\n",
              "      background-color: #3B4455;\n",
              "      fill: #D2E3FC;\n",
              "    }\n",
              "\n",
              "    [theme=dark] .colab-df-convert:hover {\n",
              "      background-color: #434B5C;\n",
              "      box-shadow: 0px 1px 3px 1px rgba(0, 0, 0, 0.15);\n",
              "      filter: drop-shadow(0px 1px 2px rgba(0, 0, 0, 0.3));\n",
              "      fill: #FFFFFF;\n",
              "    }\n",
              "  </style>\n",
              "\n",
              "      <script>\n",
              "        const buttonEl =\n",
              "          document.querySelector('#df-1aa3e5d6-84c0-49a7-a6a5-2776f322ef78 button.colab-df-convert');\n",
              "        buttonEl.style.display =\n",
              "          google.colab.kernel.accessAllowed ? 'block' : 'none';\n",
              "\n",
              "        async function convertToInteractive(key) {\n",
              "          const element = document.querySelector('#df-1aa3e5d6-84c0-49a7-a6a5-2776f322ef78');\n",
              "          const dataTable =\n",
              "            await google.colab.kernel.invokeFunction('convertToInteractive',\n",
              "                                                     [key], {});\n",
              "          if (!dataTable) return;\n",
              "\n",
              "          const docLinkHtml = 'Like what you see? Visit the ' +\n",
              "            '<a target=\"_blank\" href=https://colab.research.google.com/notebooks/data_table.ipynb>data table notebook</a>'\n",
              "            + ' to learn more about interactive tables.';\n",
              "          element.innerHTML = '';\n",
              "          dataTable['output_type'] = 'display_data';\n",
              "          await google.colab.output.renderOutput(dataTable, element);\n",
              "          const docLink = document.createElement('div');\n",
              "          docLink.innerHTML = docLinkHtml;\n",
              "          element.appendChild(docLink);\n",
              "        }\n",
              "      </script>\n",
              "    </div>\n",
              "  </div>\n",
              "  "
            ]
          },
          "metadata": {},
          "execution_count": 9
        }
      ]
    },
    {
      "cell_type": "code",
      "source": [
        "from sklearn.model_selection import train_test_split\n",
        "from sklearn.metrics import r2_score as r2\n",
        "from sklearn.metrics import mean_squared_error as mse\n",
        "from sklearn.metrics import mean_absolute_error as mae\n",
        "\n",
        "skor_r2=[]\n",
        "mae_=[]\n",
        "rmse = []\n",
        "y_predict = []\n",
        "y_test = []\n",
        "for i in range(30):\n",
        "  x = np.array(feature)\n",
        "  y = np.array(array_y[i])\n",
        "  model = joblib.load(f'/content/content/models/model {i}')\n",
        "  y_pred = model.predict(x)\n",
        "  Skor_r2 = r2(y,y_pred)\n",
        "  RMSE = mse(y,y_pred,squared=False)\n",
        "  MAE = mae(y,y_pred)\n",
        "  y_predict.append(y_pred)\n",
        "  skor_r2.append(Skor_r2)\n",
        "  mae_.append(MAE)\n",
        "  rmse.append(RMSE)"
      ],
      "metadata": {
        "id": "eMoAM8yBhWvp"
      },
      "execution_count": 10,
      "outputs": []
    },
    {
      "cell_type": "code",
      "source": [
        "skor_r2 = np.array(skor_r2)\n",
        "rmse = np.array(rmse)\n",
        "mae_=np.array(mae_)\n",
        "y_predict = np.array(y_predict)\n",
        "y = np.array(array_y)"
      ],
      "metadata": {
        "id": "3G0C77vBhb6L"
      },
      "execution_count": 11,
      "outputs": []
    },
    {
      "cell_type": "code",
      "source": [
        "y.shape,y_predict.shape"
      ],
      "metadata": {
        "id": "1bqo5_KUsvpm",
        "colab": {
          "base_uri": "https://localhost:8080/"
        },
        "outputId": "4e78ef5c-020a-4184-82f4-c4e1c00b5763"
      },
      "execution_count": 12,
      "outputs": [
        {
          "output_type": "execute_result",
          "data": {
            "text/plain": [
              "((30, 192, 2), (30, 192, 2))"
            ]
          },
          "metadata": {},
          "execution_count": 12
        }
      ]
    },
    {
      "cell_type": "code",
      "source": [
        "#error per skenario\n",
        "\n",
        "r_squared = []\n",
        "abs_error = []\n",
        "sqrt_error = []\n",
        "indexing = 0,1\n",
        "for i in range(192):\n",
        "  a = y[...,i,indexing]\n",
        "  b = y_predict[...,i,indexing]\n",
        "  r_squared.append(r2(a,b))\n",
        "  abs_error.append(mae(a,b))\n",
        "  sqrt_error.append(mse(a,b))"
      ],
      "metadata": {
        "id": "3K5i_Lu_hebD"
      },
      "execution_count": 13,
      "outputs": []
    },
    {
      "cell_type": "code",
      "source": [
        "error = pd.DataFrame(r_squared,columns=['r2'])\n",
        "abs_error = pd.DataFrame(abs_error,columns=['mae'])\n",
        "sqrt_error = pd.DataFrame(sqrt_error,columns=['rmse'])\n",
        "error = error.join(abs_error)\n",
        "error = error.join(sqrt_error)"
      ],
      "metadata": {
        "id": "sQgP16s1hgPc"
      },
      "execution_count": 14,
      "outputs": []
    },
    {
      "cell_type": "code",
      "source": [
        "error.describe()"
      ],
      "metadata": {
        "id": "SAnWlj0Ghm5c",
        "colab": {
          "base_uri": "https://localhost:8080/",
          "height": 300
        },
        "outputId": "16988364-553d-4bb3-867a-81072884fdc5"
      },
      "execution_count": 15,
      "outputs": [
        {
          "output_type": "execute_result",
          "data": {
            "text/plain": [
              "               r2         mae        rmse\n",
              "count  192.000000  192.000000  192.000000\n",
              "mean     0.675009    0.097834    0.020871\n",
              "std      0.318383    0.049335    0.020761\n",
              "min     -0.454753    0.034778    0.002069\n",
              "25%      0.491082    0.058504    0.005602\n",
              "50%      0.791306    0.083056    0.011629\n",
              "75%      0.891510    0.139455    0.033433\n",
              "max      0.958288    0.241807    0.099410"
            ],
            "text/html": [
              "\n",
              "  <div id=\"df-b924eba4-6bf6-4a16-b9d8-8c651a7d39e6\">\n",
              "    <div class=\"colab-df-container\">\n",
              "      <div>\n",
              "<style scoped>\n",
              "    .dataframe tbody tr th:only-of-type {\n",
              "        vertical-align: middle;\n",
              "    }\n",
              "\n",
              "    .dataframe tbody tr th {\n",
              "        vertical-align: top;\n",
              "    }\n",
              "\n",
              "    .dataframe thead th {\n",
              "        text-align: right;\n",
              "    }\n",
              "</style>\n",
              "<table border=\"1\" class=\"dataframe\">\n",
              "  <thead>\n",
              "    <tr style=\"text-align: right;\">\n",
              "      <th></th>\n",
              "      <th>r2</th>\n",
              "      <th>mae</th>\n",
              "      <th>rmse</th>\n",
              "    </tr>\n",
              "  </thead>\n",
              "  <tbody>\n",
              "    <tr>\n",
              "      <th>count</th>\n",
              "      <td>192.000000</td>\n",
              "      <td>192.000000</td>\n",
              "      <td>192.000000</td>\n",
              "    </tr>\n",
              "    <tr>\n",
              "      <th>mean</th>\n",
              "      <td>0.675009</td>\n",
              "      <td>0.097834</td>\n",
              "      <td>0.020871</td>\n",
              "    </tr>\n",
              "    <tr>\n",
              "      <th>std</th>\n",
              "      <td>0.318383</td>\n",
              "      <td>0.049335</td>\n",
              "      <td>0.020761</td>\n",
              "    </tr>\n",
              "    <tr>\n",
              "      <th>min</th>\n",
              "      <td>-0.454753</td>\n",
              "      <td>0.034778</td>\n",
              "      <td>0.002069</td>\n",
              "    </tr>\n",
              "    <tr>\n",
              "      <th>25%</th>\n",
              "      <td>0.491082</td>\n",
              "      <td>0.058504</td>\n",
              "      <td>0.005602</td>\n",
              "    </tr>\n",
              "    <tr>\n",
              "      <th>50%</th>\n",
              "      <td>0.791306</td>\n",
              "      <td>0.083056</td>\n",
              "      <td>0.011629</td>\n",
              "    </tr>\n",
              "    <tr>\n",
              "      <th>75%</th>\n",
              "      <td>0.891510</td>\n",
              "      <td>0.139455</td>\n",
              "      <td>0.033433</td>\n",
              "    </tr>\n",
              "    <tr>\n",
              "      <th>max</th>\n",
              "      <td>0.958288</td>\n",
              "      <td>0.241807</td>\n",
              "      <td>0.099410</td>\n",
              "    </tr>\n",
              "  </tbody>\n",
              "</table>\n",
              "</div>\n",
              "      <button class=\"colab-df-convert\" onclick=\"convertToInteractive('df-b924eba4-6bf6-4a16-b9d8-8c651a7d39e6')\"\n",
              "              title=\"Convert this dataframe to an interactive table.\"\n",
              "              style=\"display:none;\">\n",
              "        \n",
              "  <svg xmlns=\"http://www.w3.org/2000/svg\" height=\"24px\"viewBox=\"0 0 24 24\"\n",
              "       width=\"24px\">\n",
              "    <path d=\"M0 0h24v24H0V0z\" fill=\"none\"/>\n",
              "    <path d=\"M18.56 5.44l.94 2.06.94-2.06 2.06-.94-2.06-.94-.94-2.06-.94 2.06-2.06.94zm-11 1L8.5 8.5l.94-2.06 2.06-.94-2.06-.94L8.5 2.5l-.94 2.06-2.06.94zm10 10l.94 2.06.94-2.06 2.06-.94-2.06-.94-.94-2.06-.94 2.06-2.06.94z\"/><path d=\"M17.41 7.96l-1.37-1.37c-.4-.4-.92-.59-1.43-.59-.52 0-1.04.2-1.43.59L10.3 9.45l-7.72 7.72c-.78.78-.78 2.05 0 2.83L4 21.41c.39.39.9.59 1.41.59.51 0 1.02-.2 1.41-.59l7.78-7.78 2.81-2.81c.8-.78.8-2.07 0-2.86zM5.41 20L4 18.59l7.72-7.72 1.47 1.35L5.41 20z\"/>\n",
              "  </svg>\n",
              "      </button>\n",
              "      \n",
              "  <style>\n",
              "    .colab-df-container {\n",
              "      display:flex;\n",
              "      flex-wrap:wrap;\n",
              "      gap: 12px;\n",
              "    }\n",
              "\n",
              "    .colab-df-convert {\n",
              "      background-color: #E8F0FE;\n",
              "      border: none;\n",
              "      border-radius: 50%;\n",
              "      cursor: pointer;\n",
              "      display: none;\n",
              "      fill: #1967D2;\n",
              "      height: 32px;\n",
              "      padding: 0 0 0 0;\n",
              "      width: 32px;\n",
              "    }\n",
              "\n",
              "    .colab-df-convert:hover {\n",
              "      background-color: #E2EBFA;\n",
              "      box-shadow: 0px 1px 2px rgba(60, 64, 67, 0.3), 0px 1px 3px 1px rgba(60, 64, 67, 0.15);\n",
              "      fill: #174EA6;\n",
              "    }\n",
              "\n",
              "    [theme=dark] .colab-df-convert {\n",
              "      background-color: #3B4455;\n",
              "      fill: #D2E3FC;\n",
              "    }\n",
              "\n",
              "    [theme=dark] .colab-df-convert:hover {\n",
              "      background-color: #434B5C;\n",
              "      box-shadow: 0px 1px 3px 1px rgba(0, 0, 0, 0.15);\n",
              "      filter: drop-shadow(0px 1px 2px rgba(0, 0, 0, 0.3));\n",
              "      fill: #FFFFFF;\n",
              "    }\n",
              "  </style>\n",
              "\n",
              "      <script>\n",
              "        const buttonEl =\n",
              "          document.querySelector('#df-b924eba4-6bf6-4a16-b9d8-8c651a7d39e6 button.colab-df-convert');\n",
              "        buttonEl.style.display =\n",
              "          google.colab.kernel.accessAllowed ? 'block' : 'none';\n",
              "\n",
              "        async function convertToInteractive(key) {\n",
              "          const element = document.querySelector('#df-b924eba4-6bf6-4a16-b9d8-8c651a7d39e6');\n",
              "          const dataTable =\n",
              "            await google.colab.kernel.invokeFunction('convertToInteractive',\n",
              "                                                     [key], {});\n",
              "          if (!dataTable) return;\n",
              "\n",
              "          const docLinkHtml = 'Like what you see? Visit the ' +\n",
              "            '<a target=\"_blank\" href=https://colab.research.google.com/notebooks/data_table.ipynb>data table notebook</a>'\n",
              "            + ' to learn more about interactive tables.';\n",
              "          element.innerHTML = '';\n",
              "          dataTable['output_type'] = 'display_data';\n",
              "          await google.colab.output.renderOutput(dataTable, element);\n",
              "          const docLink = document.createElement('div');\n",
              "          docLink.innerHTML = docLinkHtml;\n",
              "          element.appendChild(docLink);\n",
              "        }\n",
              "      </script>\n",
              "    </div>\n",
              "  </div>\n",
              "  "
            ]
          },
          "metadata": {},
          "execution_count": 15
        }
      ]
    },
    {
      "cell_type": "code",
      "source": [
        "error[error.r2 == error.r2.max()]"
      ],
      "metadata": {
        "id": "KFgXmSvBhn73",
        "colab": {
          "base_uri": "https://localhost:8080/",
          "height": 81
        },
        "outputId": "0e89749c-d8d0-438e-b37d-13accdf7408b"
      },
      "execution_count": 16,
      "outputs": [
        {
          "output_type": "execute_result",
          "data": {
            "text/plain": [
              "          r2       mae      rmse\n",
              "12  0.958288  0.034778  0.002069"
            ],
            "text/html": [
              "\n",
              "  <div id=\"df-098314b1-0901-442c-85db-4a09f6505c5d\">\n",
              "    <div class=\"colab-df-container\">\n",
              "      <div>\n",
              "<style scoped>\n",
              "    .dataframe tbody tr th:only-of-type {\n",
              "        vertical-align: middle;\n",
              "    }\n",
              "\n",
              "    .dataframe tbody tr th {\n",
              "        vertical-align: top;\n",
              "    }\n",
              "\n",
              "    .dataframe thead th {\n",
              "        text-align: right;\n",
              "    }\n",
              "</style>\n",
              "<table border=\"1\" class=\"dataframe\">\n",
              "  <thead>\n",
              "    <tr style=\"text-align: right;\">\n",
              "      <th></th>\n",
              "      <th>r2</th>\n",
              "      <th>mae</th>\n",
              "      <th>rmse</th>\n",
              "    </tr>\n",
              "  </thead>\n",
              "  <tbody>\n",
              "    <tr>\n",
              "      <th>12</th>\n",
              "      <td>0.958288</td>\n",
              "      <td>0.034778</td>\n",
              "      <td>0.002069</td>\n",
              "    </tr>\n",
              "  </tbody>\n",
              "</table>\n",
              "</div>\n",
              "      <button class=\"colab-df-convert\" onclick=\"convertToInteractive('df-098314b1-0901-442c-85db-4a09f6505c5d')\"\n",
              "              title=\"Convert this dataframe to an interactive table.\"\n",
              "              style=\"display:none;\">\n",
              "        \n",
              "  <svg xmlns=\"http://www.w3.org/2000/svg\" height=\"24px\"viewBox=\"0 0 24 24\"\n",
              "       width=\"24px\">\n",
              "    <path d=\"M0 0h24v24H0V0z\" fill=\"none\"/>\n",
              "    <path d=\"M18.56 5.44l.94 2.06.94-2.06 2.06-.94-2.06-.94-.94-2.06-.94 2.06-2.06.94zm-11 1L8.5 8.5l.94-2.06 2.06-.94-2.06-.94L8.5 2.5l-.94 2.06-2.06.94zm10 10l.94 2.06.94-2.06 2.06-.94-2.06-.94-.94-2.06-.94 2.06-2.06.94z\"/><path d=\"M17.41 7.96l-1.37-1.37c-.4-.4-.92-.59-1.43-.59-.52 0-1.04.2-1.43.59L10.3 9.45l-7.72 7.72c-.78.78-.78 2.05 0 2.83L4 21.41c.39.39.9.59 1.41.59.51 0 1.02-.2 1.41-.59l7.78-7.78 2.81-2.81c.8-.78.8-2.07 0-2.86zM5.41 20L4 18.59l7.72-7.72 1.47 1.35L5.41 20z\"/>\n",
              "  </svg>\n",
              "      </button>\n",
              "      \n",
              "  <style>\n",
              "    .colab-df-container {\n",
              "      display:flex;\n",
              "      flex-wrap:wrap;\n",
              "      gap: 12px;\n",
              "    }\n",
              "\n",
              "    .colab-df-convert {\n",
              "      background-color: #E8F0FE;\n",
              "      border: none;\n",
              "      border-radius: 50%;\n",
              "      cursor: pointer;\n",
              "      display: none;\n",
              "      fill: #1967D2;\n",
              "      height: 32px;\n",
              "      padding: 0 0 0 0;\n",
              "      width: 32px;\n",
              "    }\n",
              "\n",
              "    .colab-df-convert:hover {\n",
              "      background-color: #E2EBFA;\n",
              "      box-shadow: 0px 1px 2px rgba(60, 64, 67, 0.3), 0px 1px 3px 1px rgba(60, 64, 67, 0.15);\n",
              "      fill: #174EA6;\n",
              "    }\n",
              "\n",
              "    [theme=dark] .colab-df-convert {\n",
              "      background-color: #3B4455;\n",
              "      fill: #D2E3FC;\n",
              "    }\n",
              "\n",
              "    [theme=dark] .colab-df-convert:hover {\n",
              "      background-color: #434B5C;\n",
              "      box-shadow: 0px 1px 3px 1px rgba(0, 0, 0, 0.15);\n",
              "      filter: drop-shadow(0px 1px 2px rgba(0, 0, 0, 0.3));\n",
              "      fill: #FFFFFF;\n",
              "    }\n",
              "  </style>\n",
              "\n",
              "      <script>\n",
              "        const buttonEl =\n",
              "          document.querySelector('#df-098314b1-0901-442c-85db-4a09f6505c5d button.colab-df-convert');\n",
              "        buttonEl.style.display =\n",
              "          google.colab.kernel.accessAllowed ? 'block' : 'none';\n",
              "\n",
              "        async function convertToInteractive(key) {\n",
              "          const element = document.querySelector('#df-098314b1-0901-442c-85db-4a09f6505c5d');\n",
              "          const dataTable =\n",
              "            await google.colab.kernel.invokeFunction('convertToInteractive',\n",
              "                                                     [key], {});\n",
              "          if (!dataTable) return;\n",
              "\n",
              "          const docLinkHtml = 'Like what you see? Visit the ' +\n",
              "            '<a target=\"_blank\" href=https://colab.research.google.com/notebooks/data_table.ipynb>data table notebook</a>'\n",
              "            + ' to learn more about interactive tables.';\n",
              "          element.innerHTML = '';\n",
              "          dataTable['output_type'] = 'display_data';\n",
              "          await google.colab.output.renderOutput(dataTable, element);\n",
              "          const docLink = document.createElement('div');\n",
              "          docLink.innerHTML = docLinkHtml;\n",
              "          element.appendChild(docLink);\n",
              "        }\n",
              "      </script>\n",
              "    </div>\n",
              "  </div>\n",
              "  "
            ]
          },
          "metadata": {},
          "execution_count": 16
        }
      ]
    },
    {
      "cell_type": "code",
      "source": [
        "error[error.r2 == error.r2.min()]"
      ],
      "metadata": {
        "id": "JfK5huYphpTh",
        "colab": {
          "base_uri": "https://localhost:8080/",
          "height": 81
        },
        "outputId": "7e988e0f-b242-47ca-9322-da2ecf41809b"
      },
      "execution_count": 17,
      "outputs": [
        {
          "output_type": "execute_result",
          "data": {
            "text/plain": [
              "          r2       mae      rmse\n",
              "41 -0.454753  0.152024  0.074219"
            ],
            "text/html": [
              "\n",
              "  <div id=\"df-b86d50e7-e79f-4cb2-8207-1fcfe20c8b52\">\n",
              "    <div class=\"colab-df-container\">\n",
              "      <div>\n",
              "<style scoped>\n",
              "    .dataframe tbody tr th:only-of-type {\n",
              "        vertical-align: middle;\n",
              "    }\n",
              "\n",
              "    .dataframe tbody tr th {\n",
              "        vertical-align: top;\n",
              "    }\n",
              "\n",
              "    .dataframe thead th {\n",
              "        text-align: right;\n",
              "    }\n",
              "</style>\n",
              "<table border=\"1\" class=\"dataframe\">\n",
              "  <thead>\n",
              "    <tr style=\"text-align: right;\">\n",
              "      <th></th>\n",
              "      <th>r2</th>\n",
              "      <th>mae</th>\n",
              "      <th>rmse</th>\n",
              "    </tr>\n",
              "  </thead>\n",
              "  <tbody>\n",
              "    <tr>\n",
              "      <th>41</th>\n",
              "      <td>-0.454753</td>\n",
              "      <td>0.152024</td>\n",
              "      <td>0.074219</td>\n",
              "    </tr>\n",
              "  </tbody>\n",
              "</table>\n",
              "</div>\n",
              "      <button class=\"colab-df-convert\" onclick=\"convertToInteractive('df-b86d50e7-e79f-4cb2-8207-1fcfe20c8b52')\"\n",
              "              title=\"Convert this dataframe to an interactive table.\"\n",
              "              style=\"display:none;\">\n",
              "        \n",
              "  <svg xmlns=\"http://www.w3.org/2000/svg\" height=\"24px\"viewBox=\"0 0 24 24\"\n",
              "       width=\"24px\">\n",
              "    <path d=\"M0 0h24v24H0V0z\" fill=\"none\"/>\n",
              "    <path d=\"M18.56 5.44l.94 2.06.94-2.06 2.06-.94-2.06-.94-.94-2.06-.94 2.06-2.06.94zm-11 1L8.5 8.5l.94-2.06 2.06-.94-2.06-.94L8.5 2.5l-.94 2.06-2.06.94zm10 10l.94 2.06.94-2.06 2.06-.94-2.06-.94-.94-2.06-.94 2.06-2.06.94z\"/><path d=\"M17.41 7.96l-1.37-1.37c-.4-.4-.92-.59-1.43-.59-.52 0-1.04.2-1.43.59L10.3 9.45l-7.72 7.72c-.78.78-.78 2.05 0 2.83L4 21.41c.39.39.9.59 1.41.59.51 0 1.02-.2 1.41-.59l7.78-7.78 2.81-2.81c.8-.78.8-2.07 0-2.86zM5.41 20L4 18.59l7.72-7.72 1.47 1.35L5.41 20z\"/>\n",
              "  </svg>\n",
              "      </button>\n",
              "      \n",
              "  <style>\n",
              "    .colab-df-container {\n",
              "      display:flex;\n",
              "      flex-wrap:wrap;\n",
              "      gap: 12px;\n",
              "    }\n",
              "\n",
              "    .colab-df-convert {\n",
              "      background-color: #E8F0FE;\n",
              "      border: none;\n",
              "      border-radius: 50%;\n",
              "      cursor: pointer;\n",
              "      display: none;\n",
              "      fill: #1967D2;\n",
              "      height: 32px;\n",
              "      padding: 0 0 0 0;\n",
              "      width: 32px;\n",
              "    }\n",
              "\n",
              "    .colab-df-convert:hover {\n",
              "      background-color: #E2EBFA;\n",
              "      box-shadow: 0px 1px 2px rgba(60, 64, 67, 0.3), 0px 1px 3px 1px rgba(60, 64, 67, 0.15);\n",
              "      fill: #174EA6;\n",
              "    }\n",
              "\n",
              "    [theme=dark] .colab-df-convert {\n",
              "      background-color: #3B4455;\n",
              "      fill: #D2E3FC;\n",
              "    }\n",
              "\n",
              "    [theme=dark] .colab-df-convert:hover {\n",
              "      background-color: #434B5C;\n",
              "      box-shadow: 0px 1px 3px 1px rgba(0, 0, 0, 0.15);\n",
              "      filter: drop-shadow(0px 1px 2px rgba(0, 0, 0, 0.3));\n",
              "      fill: #FFFFFF;\n",
              "    }\n",
              "  </style>\n",
              "\n",
              "      <script>\n",
              "        const buttonEl =\n",
              "          document.querySelector('#df-b86d50e7-e79f-4cb2-8207-1fcfe20c8b52 button.colab-df-convert');\n",
              "        buttonEl.style.display =\n",
              "          google.colab.kernel.accessAllowed ? 'block' : 'none';\n",
              "\n",
              "        async function convertToInteractive(key) {\n",
              "          const element = document.querySelector('#df-b86d50e7-e79f-4cb2-8207-1fcfe20c8b52');\n",
              "          const dataTable =\n",
              "            await google.colab.kernel.invokeFunction('convertToInteractive',\n",
              "                                                     [key], {});\n",
              "          if (!dataTable) return;\n",
              "\n",
              "          const docLinkHtml = 'Like what you see? Visit the ' +\n",
              "            '<a target=\"_blank\" href=https://colab.research.google.com/notebooks/data_table.ipynb>data table notebook</a>'\n",
              "            + ' to learn more about interactive tables.';\n",
              "          element.innerHTML = '';\n",
              "          dataTable['output_type'] = 'display_data';\n",
              "          await google.colab.output.renderOutput(dataTable, element);\n",
              "          const docLink = document.createElement('div');\n",
              "          docLink.innerHTML = docLinkHtml;\n",
              "          element.appendChild(docLink);\n",
              "        }\n",
              "      </script>\n",
              "    </div>\n",
              "  </div>\n",
              "  "
            ]
          },
          "metadata": {},
          "execution_count": 17
        }
      ]
    },
    {
      "cell_type": "code",
      "source": [
        "r2_matrix = skor_r2.reshape(5,6)\n",
        "rmse_matrix = rmse.reshape(5,6)\n",
        "mae_matrix = mae_.reshape(5,6)"
      ],
      "metadata": {
        "id": "5EJQN12chqzR"
      },
      "execution_count": 18,
      "outputs": []
    },
    {
      "cell_type": "code",
      "source": [
        "import numpy as np\n",
        "import seaborn as sns\n",
        "import matplotlib.pylab as plt\n",
        "\n",
        "ax = sns.heatmap(r2_matrix, linewidth=0.5, cmap=\"RdYlBu\")\n",
        "plt.show()"
      ],
      "metadata": {
        "id": "XYPpLAVahtCF",
        "colab": {
          "base_uri": "https://localhost:8080/",
          "height": 265
        },
        "outputId": "30c3b3a2-c33b-445b-f3a0-f00d45202a61"
      },
      "execution_count": 19,
      "outputs": [
        {
          "output_type": "display_data",
          "data": {
            "text/plain": [
              "<Figure size 432x288 with 2 Axes>"
            ],
            "image/png": "[encoded data removed]"
          },
          "metadata": {
            "needs_background": "light"
          }
        }
      ]
    },
    {
      "cell_type": "code",
      "source": [
        "bx = sns.heatmap(rmse_matrix, linewidth=0.5, cmap=\"RdYlBu_r\")\n",
        "plt.show()"
      ],
      "metadata": {
        "id": "6h3s_5mWhulT",
        "colab": {
          "base_uri": "https://localhost:8080/",
          "height": 265
        },
        "outputId": "01e7c255-fe0e-4af7-dce5-5ad41f2c7673"
      },
      "execution_count": 20,
      "outputs": [
        {
          "output_type": "display_data",
          "data": {
            "text/plain": [
              "<Figure size 432x288 with 2 Axes>"
            ],
            "image/png": "[encoded data removed]"
          },
          "metadata": {
            "needs_background": "light"
          }
        }
      ]
    },
    {
      "cell_type": "code",
      "source": [
        "bx = sns.heatmap(mae_matrix, linewidth=0.5, cmap=\"RdYlBu_r\")\n",
        "plt.show()"
      ],
      "metadata": {
        "id": "j50fu4zjhwWe",
        "colab": {
          "base_uri": "https://localhost:8080/",
          "height": 265
        },
        "outputId": "45fce6f1-7568-4374-8072-dbea9aa28fec"
      },
      "execution_count": 21,
      "outputs": [
        {
          "output_type": "display_data",
          "data": {
            "text/plain": [
              "<Figure size 432x288 with 2 Axes>"
            ],
            "image/png": "[encoded data removed]"
          },
          "metadata": {
            "needs_background": "light"
          }
        }
      ]
    },
    {
      "cell_type": "code",
      "source": [
        "#_________break__________"
      ],
      "metadata": {
        "id": "3xK3MyG_EQNU"
      },
      "execution_count": 22,
      "outputs": []
    },
    {
      "cell_type": "code",
      "source": [
        "df_koor = pd.read_excel('data_model.xlsx',sheet_name='koordinat_30_aktual')"
      ],
      "metadata": {
        "id": "1XM3DjsrhyDV"
      },
      "execution_count": 23,
      "outputs": []
    },
    {
      "cell_type": "code",
      "source": [
        "y.shape"
      ],
      "metadata": {
        "colab": {
          "base_uri": "https://localhost:8080/"
        },
        "id": "6gGstsqpEZY0",
        "outputId": "6def09fa-ed8d-40a6-f0e1-1e18c2d27a91"
      },
      "execution_count": 24,
      "outputs": [
        {
          "output_type": "execute_result",
          "data": {
            "text/plain": [
              "(30, 192, 2)"
            ]
          },
          "metadata": {},
          "execution_count": 24
        }
      ]
    },
    {
      "cell_type": "code",
      "source": [
        "np.array(array_y_not_normal).shape"
      ],
      "metadata": {
        "colab": {
          "base_uri": "https://localhost:8080/"
        },
        "id": "MrdnMZgvEdfy",
        "outputId": "f58e349e-7460-4902-c4af-b494054bf46c"
      },
      "execution_count": 25,
      "outputs": [
        {
          "output_type": "execute_result",
          "data": {
            "text/plain": [
              "(30, 192, 2)"
            ]
          },
          "metadata": {},
          "execution_count": 25
        }
      ]
    },
    {
      "cell_type": "code",
      "source": [
        "len(array_y_not_normal) == len(y)"
      ],
      "metadata": {
        "colab": {
          "base_uri": "https://localhost:8080/"
        },
        "id": "pdnjyGaWDBJ6",
        "outputId": "ecf9cc81-c9bc-43d6-d989-377b16fa9a31"
      },
      "execution_count": 26,
      "outputs": [
        {
          "output_type": "execute_result",
          "data": {
            "text/plain": [
              "True"
            ]
          },
          "metadata": {},
          "execution_count": 26
        }
      ]
    },
    {
      "cell_type": "code",
      "source": [
        "df_y = []\n",
        "df_y_predict = []\n",
        "for i in range(30):\n",
        "  q = pd.DataFrame(y[i],columns=['Vx','Vy'])\n",
        "  q = round(rescale(q,array_y_not_normal[i]),9)\n",
        "  df_y.append(q)\n",
        "  r = round(pd.DataFrame(y_predict[i],columns=['Vx','Vy']),9)\n",
        "  r = rescale(r,array_y_not_normal[i])\n",
        "  df_y_predict.append(r)"
      ],
      "metadata": {
        "id": "f6HKltxm1k-Z"
      },
      "execution_count": 27,
      "outputs": []
    },
    {
      "cell_type": "code",
      "source": [
        "np.array(df_y).shape "
      ],
      "metadata": {
        "colab": {
          "base_uri": "https://localhost:8080/"
        },
        "id": "gPmEP9UfCwv2",
        "outputId": "237671b2-c9eb-427b-db5f-92683507a5de"
      },
      "execution_count": 28,
      "outputs": [
        {
          "output_type": "execute_result",
          "data": {
            "text/plain": [
              "(30, 192, 2)"
            ]
          },
          "metadata": {},
          "execution_count": 28
        }
      ]
    },
    {
      "cell_type": "code",
      "source": [
        "def kec_angin(y,scenarios):\n",
        "  df_x = pd.DataFrame(y[...,scenarios,0])\n",
        "  df_y = pd.DataFrame(y[...,scenarios,1])\n",
        "  df_y.rename(columns={0:1},inplace=True)\n",
        "  df_x = df_x.join(df_y)\n",
        "  df_x = df_x.join(df_koor)\n",
        "  df_x.rename(columns={0:'Vx',1:'Vy',},inplace=True)\n",
        "  return df_x"
      ],
      "metadata": {
        "id": "2gtG6Axuh0y_"
      },
      "execution_count": 29,
      "outputs": []
    },
    {
      "cell_type": "code",
      "source": [
        "#error per skenario\n",
        "\n",
        "r_squared = []\n",
        "abs_error = []\n",
        "sqrt_error = []\n",
        "indexing = 0,1\n",
        "for i in range(192):\n",
        "  a = kec_angin(np.array(df_y),i)\n",
        "  a.drop(['koor_x','koor_y'],axis=1)\n",
        "  b = kec_angin(np.array(df_y_predict),i)\n",
        "  b.drop(['koor_x','koor_y'],axis=1)\n",
        "  r_squared.append(r2(a,b))\n",
        "  abs_error.append(mae(a,b))\n",
        "  sqrt_error.append(mse(a,b))\n",
        "\n",
        "error = pd.DataFrame(r_squared,columns=['r2'])\n",
        "abs_error = pd.DataFrame(abs_error,columns=['mae'])\n",
        "sqrt_error = pd.DataFrame(sqrt_error,columns=['rmse'])\n",
        "error = error.join(abs_error)\n",
        "error = error.join(sqrt_error)"
      ],
      "metadata": {
        "id": "xhctq4Abe_je"
      },
      "execution_count": 30,
      "outputs": []
    },
    {
      "cell_type": "code",
      "source": [
        "error.describe()"
      ],
      "metadata": {
        "id": "Ly9FNnPsG3jY",
        "outputId": "e7ebcdbb-59df-4e01-bcd2-92e10a1db235",
        "colab": {
          "base_uri": "https://localhost:8080/",
          "height": 300
        }
      },
      "execution_count": 31,
      "outputs": [
        {
          "output_type": "execute_result",
          "data": {
            "text/plain": [
              "               r2         mae        rmse\n",
              "count  192.000000  192.000000  192.000000\n",
              "mean    -0.368778    0.012896    0.001022\n",
              "std      2.681335    0.006955    0.001231\n",
              "min    -16.520172    0.004098    0.000063\n",
              "25%      0.064245    0.007593    0.000244\n",
              "50%      0.539563    0.011315    0.000530\n",
              "75%      0.753099    0.016795    0.001245\n",
              "max      0.899656    0.031606    0.005684"
            ],
            "text/html": [
              "\n",
              "  <div id=\"df-52db9557-24da-486a-b2fb-c01e8b8a7a78\">\n",
              "    <div class=\"colab-df-container\">\n",
              "      <div>\n",
              "<style scoped>\n",
              "    .dataframe tbody tr th:only-of-type {\n",
              "        vertical-align: middle;\n",
              "    }\n",
              "\n",
              "    .dataframe tbody tr th {\n",
              "        vertical-align: top;\n",
              "    }\n",
              "\n",
              "    .dataframe thead th {\n",
              "        text-align: right;\n",
              "    }\n",
              "</style>\n",
              "<table border=\"1\" class=\"dataframe\">\n",
              "  <thead>\n",
              "    <tr style=\"text-align: right;\">\n",
              "      <th></th>\n",
              "      <th>r2</th>\n",
              "      <th>mae</th>\n",
              "      <th>rmse</th>\n",
              "    </tr>\n",
              "  </thead>\n",
              "  <tbody>\n",
              "    <tr>\n",
              "      <th>count</th>\n",
              "      <td>192.000000</td>\n",
              "      <td>192.000000</td>\n",
              "      <td>192.000000</td>\n",
              "    </tr>\n",
              "    <tr>\n",
              "      <th>mean</th>\n",
              "      <td>-0.368778</td>\n",
              "      <td>0.012896</td>\n",
              "      <td>0.001022</td>\n",
              "    </tr>\n",
              "    <tr>\n",
              "      <th>std</th>\n",
              "      <td>2.681335</td>\n",
              "      <td>0.006955</td>\n",
              "      <td>0.001231</td>\n",
              "    </tr>\n",
              "    <tr>\n",
              "      <th>min</th>\n",
              "      <td>-16.520172</td>\n",
              "      <td>0.004098</td>\n",
              "      <td>0.000063</td>\n",
              "    </tr>\n",
              "    <tr>\n",
              "      <th>25%</th>\n",
              "      <td>0.064245</td>\n",
              "      <td>0.007593</td>\n",
              "      <td>0.000244</td>\n",
              "    </tr>\n",
              "    <tr>\n",
              "      <th>50%</th>\n",
              "      <td>0.539563</td>\n",
              "      <td>0.011315</td>\n",
              "      <td>0.000530</td>\n",
              "    </tr>\n",
              "    <tr>\n",
              "      <th>75%</th>\n",
              "      <td>0.753099</td>\n",
              "      <td>0.016795</td>\n",
              "      <td>0.001245</td>\n",
              "    </tr>\n",
              "    <tr>\n",
              "      <th>max</th>\n",
              "      <td>0.899656</td>\n",
              "      <td>0.031606</td>\n",
              "      <td>0.005684</td>\n",
              "    </tr>\n",
              "  </tbody>\n",
              "</table>\n",
              "</div>\n",
              "      <button class=\"colab-df-convert\" onclick=\"convertToInteractive('df-52db9557-24da-486a-b2fb-c01e8b8a7a78')\"\n",
              "              title=\"Convert this dataframe to an interactive table.\"\n",
              "              style=\"display:none;\">\n",
              "        \n",
              "  <svg xmlns=\"http://www.w3.org/2000/svg\" height=\"24px\"viewBox=\"0 0 24 24\"\n",
              "       width=\"24px\">\n",
              "    <path d=\"M0 0h24v24H0V0z\" fill=\"none\"/>\n",
              "    <path d=\"M18.56 5.44l.94 2.06.94-2.06 2.06-.94-2.06-.94-.94-2.06-.94 2.06-2.06.94zm-11 1L8.5 8.5l.94-2.06 2.06-.94-2.06-.94L8.5 2.5l-.94 2.06-2.06.94zm10 10l.94 2.06.94-2.06 2.06-.94-2.06-.94-.94-2.06-.94 2.06-2.06.94z\"/><path d=\"M17.41 7.96l-1.37-1.37c-.4-.4-.92-.59-1.43-.59-.52 0-1.04.2-1.43.59L10.3 9.45l-7.72 7.72c-.78.78-.78 2.05 0 2.83L4 21.41c.39.39.9.59 1.41.59.51 0 1.02-.2 1.41-.59l7.78-7.78 2.81-2.81c.8-.78.8-2.07 0-2.86zM5.41 20L4 18.59l7.72-7.72 1.47 1.35L5.41 20z\"/>\n",
              "  </svg>\n",
              "      </button>\n",
              "      \n",
              "  <style>\n",
              "    .colab-df-container {\n",
              "      display:flex;\n",
              "      flex-wrap:wrap;\n",
              "      gap: 12px;\n",
              "    }\n",
              "\n",
              "    .colab-df-convert {\n",
              "      background-color: #E8F0FE;\n",
              "      border: none;\n",
              "      border-radius: 50%;\n",
              "      cursor: pointer;\n",
              "      display: none;\n",
              "      fill: #1967D2;\n",
              "      height: 32px;\n",
              "      padding: 0 0 0 0;\n",
              "      width: 32px;\n",
              "    }\n",
              "\n",
              "    .colab-df-convert:hover {\n",
              "      background-color: #E2EBFA;\n",
              "      box-shadow: 0px 1px 2px rgba(60, 64, 67, 0.3), 0px 1px 3px 1px rgba(60, 64, 67, 0.15);\n",
              "      fill: #174EA6;\n",
              "    }\n",
              "\n",
              "    [theme=dark] .colab-df-convert {\n",
              "      background-color: #3B4455;\n",
              "      fill: #D2E3FC;\n",
              "    }\n",
              "\n",
              "    [theme=dark] .colab-df-convert:hover {\n",
              "      background-color: #434B5C;\n",
              "      box-shadow: 0px 1px 3px 1px rgba(0, 0, 0, 0.15);\n",
              "      filter: drop-shadow(0px 1px 2px rgba(0, 0, 0, 0.3));\n",
              "      fill: #FFFFFF;\n",
              "    }\n",
              "  </style>\n",
              "\n",
              "      <script>\n",
              "        const buttonEl =\n",
              "          document.querySelector('#df-52db9557-24da-486a-b2fb-c01e8b8a7a78 button.colab-df-convert');\n",
              "        buttonEl.style.display =\n",
              "          google.colab.kernel.accessAllowed ? 'block' : 'none';\n",
              "\n",
              "        async function convertToInteractive(key) {\n",
              "          const element = document.querySelector('#df-52db9557-24da-486a-b2fb-c01e8b8a7a78');\n",
              "          const dataTable =\n",
              "            await google.colab.kernel.invokeFunction('convertToInteractive',\n",
              "                                                     [key], {});\n",
              "          if (!dataTable) return;\n",
              "\n",
              "          const docLinkHtml = 'Like what you see? Visit the ' +\n",
              "            '<a target=\"_blank\" href=https://colab.research.google.com/notebooks/data_table.ipynb>data table notebook</a>'\n",
              "            + ' to learn more about interactive tables.';\n",
              "          element.innerHTML = '';\n",
              "          dataTable['output_type'] = 'display_data';\n",
              "          await google.colab.output.renderOutput(dataTable, element);\n",
              "          const docLink = document.createElement('div');\n",
              "          docLink.innerHTML = docLinkHtml;\n",
              "          element.appendChild(docLink);\n",
              "        }\n",
              "      </script>\n",
              "    </div>\n",
              "  </div>\n",
              "  "
            ]
          },
          "metadata": {},
          "execution_count": 31
        }
      ]
    },
    {
      "cell_type": "code",
      "source": [
        "error[error.r2 == error.r2.max()]"
      ],
      "metadata": {
        "id": "ASCn_mHwfw5A",
        "outputId": "84500e38-470d-46ef-de37-89ee087eef47",
        "colab": {
          "base_uri": "https://localhost:8080/",
          "height": 81
        }
      },
      "execution_count": 32,
      "outputs": [
        {
          "output_type": "execute_result",
          "data": {
            "text/plain": [
              "           r2       mae      rmse\n",
              "171  0.899656  0.010372  0.000406"
            ],
            "text/html": [
              "\n",
              "  <div id=\"df-32012add-3bdf-4c54-81cf-0ad1a8ed89c0\">\n",
              "    <div class=\"colab-df-container\">\n",
              "      <div>\n",
              "<style scoped>\n",
              "    .dataframe tbody tr th:only-of-type {\n",
              "        vertical-align: middle;\n",
              "    }\n",
              "\n",
              "    .dataframe tbody tr th {\n",
              "        vertical-align: top;\n",
              "    }\n",
              "\n",
              "    .dataframe thead th {\n",
              "        text-align: right;\n",
              "    }\n",
              "</style>\n",
              "<table border=\"1\" class=\"dataframe\">\n",
              "  <thead>\n",
              "    <tr style=\"text-align: right;\">\n",
              "      <th></th>\n",
              "      <th>r2</th>\n",
              "      <th>mae</th>\n",
              "      <th>rmse</th>\n",
              "    </tr>\n",
              "  </thead>\n",
              "  <tbody>\n",
              "    <tr>\n",
              "      <th>171</th>\n",
              "      <td>0.899656</td>\n",
              "      <td>0.010372</td>\n",
              "      <td>0.000406</td>\n",
              "    </tr>\n",
              "  </tbody>\n",
              "</table>\n",
              "</div>\n",
              "      <button class=\"colab-df-convert\" onclick=\"convertToInteractive('df-32012add-3bdf-4c54-81cf-0ad1a8ed89c0')\"\n",
              "              title=\"Convert this dataframe to an interactive table.\"\n",
              "              style=\"display:none;\">\n",
              "        \n",
              "  <svg xmlns=\"http://www.w3.org/2000/svg\" height=\"24px\"viewBox=\"0 0 24 24\"\n",
              "       width=\"24px\">\n",
              "    <path d=\"M0 0h24v24H0V0z\" fill=\"none\"/>\n",
              "    <path d=\"M18.56 5.44l.94 2.06.94-2.06 2.06-.94-2.06-.94-.94-2.06-.94 2.06-2.06.94zm-11 1L8.5 8.5l.94-2.06 2.06-.94-2.06-.94L8.5 2.5l-.94 2.06-2.06.94zm10 10l.94 2.06.94-2.06 2.06-.94-2.06-.94-.94-2.06-.94 2.06-2.06.94z\"/><path d=\"M17.41 7.96l-1.37-1.37c-.4-.4-.92-.59-1.43-.59-.52 0-1.04.2-1.43.59L10.3 9.45l-7.72 7.72c-.78.78-.78 2.05 0 2.83L4 21.41c.39.39.9.59 1.41.59.51 0 1.02-.2 1.41-.59l7.78-7.78 2.81-2.81c.8-.78.8-2.07 0-2.86zM5.41 20L4 18.59l7.72-7.72 1.47 1.35L5.41 20z\"/>\n",
              "  </svg>\n",
              "      </button>\n",
              "      \n",
              "  <style>\n",
              "    .colab-df-container {\n",
              "      display:flex;\n",
              "      flex-wrap:wrap;\n",
              "      gap: 12px;\n",
              "    }\n",
              "\n",
              "    .colab-df-convert {\n",
              "      background-color: #E8F0FE;\n",
              "      border: none;\n",
              "      border-radius: 50%;\n",
              "      cursor: pointer;\n",
              "      display: none;\n",
              "      fill: #1967D2;\n",
              "      height: 32px;\n",
              "      padding: 0 0 0 0;\n",
              "      width: 32px;\n",
              "    }\n",
              "\n",
              "    .colab-df-convert:hover {\n",
              "      background-color: #E2EBFA;\n",
              "      box-shadow: 0px 1px 2px rgba(60, 64, 67, 0.3), 0px 1px 3px 1px rgba(60, 64, 67, 0.15);\n",
              "      fill: #174EA6;\n",
              "    }\n",
              "\n",
              "    [theme=dark] .colab-df-convert {\n",
              "      background-color: #3B4455;\n",
              "      fill: #D2E3FC;\n",
              "    }\n",
              "\n",
              "    [theme=dark] .colab-df-convert:hover {\n",
              "      background-color: #434B5C;\n",
              "      box-shadow: 0px 1px 3px 1px rgba(0, 0, 0, 0.15);\n",
              "      filter: drop-shadow(0px 1px 2px rgba(0, 0, 0, 0.3));\n",
              "      fill: #FFFFFF;\n",
              "    }\n",
              "  </style>\n",
              "\n",
              "      <script>\n",
              "        const buttonEl =\n",
              "          document.querySelector('#df-32012add-3bdf-4c54-81cf-0ad1a8ed89c0 button.colab-df-convert');\n",
              "        buttonEl.style.display =\n",
              "          google.colab.kernel.accessAllowed ? 'block' : 'none';\n",
              "\n",
              "        async function convertToInteractive(key) {\n",
              "          const element = document.querySelector('#df-32012add-3bdf-4c54-81cf-0ad1a8ed89c0');\n",
              "          const dataTable =\n",
              "            await google.colab.kernel.invokeFunction('convertToInteractive',\n",
              "                                                     [key], {});\n",
              "          if (!dataTable) return;\n",
              "\n",
              "          const docLinkHtml = 'Like what you see? Visit the ' +\n",
              "            '<a target=\"_blank\" href=https://colab.research.google.com/notebooks/data_table.ipynb>data table notebook</a>'\n",
              "            + ' to learn more about interactive tables.';\n",
              "          element.innerHTML = '';\n",
              "          dataTable['output_type'] = 'display_data';\n",
              "          await google.colab.output.renderOutput(dataTable, element);\n",
              "          const docLink = document.createElement('div');\n",
              "          docLink.innerHTML = docLinkHtml;\n",
              "          element.appendChild(docLink);\n",
              "        }\n",
              "      </script>\n",
              "    </div>\n",
              "  </div>\n",
              "  "
            ]
          },
          "metadata": {},
          "execution_count": 32
        }
      ]
    },
    {
      "cell_type": "code",
      "source": [
        "error[error.r2 == error.r2.min()]"
      ],
      "metadata": {
        "id": "VNa759oDfyvI",
        "outputId": "9399f553-96ea-424d-f169-36869e989185",
        "colab": {
          "base_uri": "https://localhost:8080/",
          "height": 81
        }
      },
      "execution_count": 33,
      "outputs": [
        {
          "output_type": "execute_result",
          "data": {
            "text/plain": [
              "          r2       mae      rmse\n",
              "9 -16.520172  0.004146  0.000065"
            ],
            "text/html": [
              "\n",
              "  <div id=\"df-af6b4d88-cd38-4776-bc54-5392b3bdd3a4\">\n",
              "    <div class=\"colab-df-container\">\n",
              "      <div>\n",
              "<style scoped>\n",
              "    .dataframe tbody tr th:only-of-type {\n",
              "        vertical-align: middle;\n",
              "    }\n",
              "\n",
              "    .dataframe tbody tr th {\n",
              "        vertical-align: top;\n",
              "    }\n",
              "\n",
              "    .dataframe thead th {\n",
              "        text-align: right;\n",
              "    }\n",
              "</style>\n",
              "<table border=\"1\" class=\"dataframe\">\n",
              "  <thead>\n",
              "    <tr style=\"text-align: right;\">\n",
              "      <th></th>\n",
              "      <th>r2</th>\n",
              "      <th>mae</th>\n",
              "      <th>rmse</th>\n",
              "    </tr>\n",
              "  </thead>\n",
              "  <tbody>\n",
              "    <tr>\n",
              "      <th>9</th>\n",
              "      <td>-16.520172</td>\n",
              "      <td>0.004146</td>\n",
              "      <td>0.000065</td>\n",
              "    </tr>\n",
              "  </tbody>\n",
              "</table>\n",
              "</div>\n",
              "      <button class=\"colab-df-convert\" onclick=\"convertToInteractive('df-af6b4d88-cd38-4776-bc54-5392b3bdd3a4')\"\n",
              "              title=\"Convert this dataframe to an interactive table.\"\n",
              "              style=\"display:none;\">\n",
              "        \n",
              "  <svg xmlns=\"http://www.w3.org/2000/svg\" height=\"24px\"viewBox=\"0 0 24 24\"\n",
              "       width=\"24px\">\n",
              "    <path d=\"M0 0h24v24H0V0z\" fill=\"none\"/>\n",
              "    <path d=\"M18.56 5.44l.94 2.06.94-2.06 2.06-.94-2.06-.94-.94-2.06-.94 2.06-2.06.94zm-11 1L8.5 8.5l.94-2.06 2.06-.94-2.06-.94L8.5 2.5l-.94 2.06-2.06.94zm10 10l.94 2.06.94-2.06 2.06-.94-2.06-.94-.94-2.06-.94 2.06-2.06.94z\"/><path d=\"M17.41 7.96l-1.37-1.37c-.4-.4-.92-.59-1.43-.59-.52 0-1.04.2-1.43.59L10.3 9.45l-7.72 7.72c-.78.78-.78 2.05 0 2.83L4 21.41c.39.39.9.59 1.41.59.51 0 1.02-.2 1.41-.59l7.78-7.78 2.81-2.81c.8-.78.8-2.07 0-2.86zM5.41 20L4 18.59l7.72-7.72 1.47 1.35L5.41 20z\"/>\n",
              "  </svg>\n",
              "      </button>\n",
              "      \n",
              "  <style>\n",
              "    .colab-df-container {\n",
              "      display:flex;\n",
              "      flex-wrap:wrap;\n",
              "      gap: 12px;\n",
              "    }\n",
              "\n",
              "    .colab-df-convert {\n",
              "      background-color: #E8F0FE;\n",
              "      border: none;\n",
              "      border-radius: 50%;\n",
              "      cursor: pointer;\n",
              "      display: none;\n",
              "      fill: #1967D2;\n",
              "      height: 32px;\n",
              "      padding: 0 0 0 0;\n",
              "      width: 32px;\n",
              "    }\n",
              "\n",
              "    .colab-df-convert:hover {\n",
              "      background-color: #E2EBFA;\n",
              "      box-shadow: 0px 1px 2px rgba(60, 64, 67, 0.3), 0px 1px 3px 1px rgba(60, 64, 67, 0.15);\n",
              "      fill: #174EA6;\n",
              "    }\n",
              "\n",
              "    [theme=dark] .colab-df-convert {\n",
              "      background-color: #3B4455;\n",
              "      fill: #D2E3FC;\n",
              "    }\n",
              "\n",
              "    [theme=dark] .colab-df-convert:hover {\n",
              "      background-color: #434B5C;\n",
              "      box-shadow: 0px 1px 3px 1px rgba(0, 0, 0, 0.15);\n",
              "      filter: drop-shadow(0px 1px 2px rgba(0, 0, 0, 0.3));\n",
              "      fill: #FFFFFF;\n",
              "    }\n",
              "  </style>\n",
              "\n",
              "      <script>\n",
              "        const buttonEl =\n",
              "          document.querySelector('#df-af6b4d88-cd38-4776-bc54-5392b3bdd3a4 button.colab-df-convert');\n",
              "        buttonEl.style.display =\n",
              "          google.colab.kernel.accessAllowed ? 'block' : 'none';\n",
              "\n",
              "        async function convertToInteractive(key) {\n",
              "          const element = document.querySelector('#df-af6b4d88-cd38-4776-bc54-5392b3bdd3a4');\n",
              "          const dataTable =\n",
              "            await google.colab.kernel.invokeFunction('convertToInteractive',\n",
              "                                                     [key], {});\n",
              "          if (!dataTable) return;\n",
              "\n",
              "          const docLinkHtml = 'Like what you see? Visit the ' +\n",
              "            '<a target=\"_blank\" href=https://colab.research.google.com/notebooks/data_table.ipynb>data table notebook</a>'\n",
              "            + ' to learn more about interactive tables.';\n",
              "          element.innerHTML = '';\n",
              "          dataTable['output_type'] = 'display_data';\n",
              "          await google.colab.output.renderOutput(dataTable, element);\n",
              "          const docLink = document.createElement('div');\n",
              "          docLink.innerHTML = docLinkHtml;\n",
              "          element.appendChild(docLink);\n",
              "        }\n",
              "      </script>\n",
              "    </div>\n",
              "  </div>\n",
              "  "
            ]
          },
          "metadata": {},
          "execution_count": 33
        }
      ]
    },
    {
      "cell_type": "code",
      "source": [
        "import plotly.graph_objects as go\n",
        "from plotly.figure_factory import create_quiver\n",
        "\n",
        "def tampilan_vektor(Y,scale,arrow):\n",
        "  x = Y['koor_x']\n",
        "  y = Y['koor_y']\n",
        "  u = Y['Vx']\n",
        "  v = Y['Vy']\n",
        "\n",
        "  fig = create_quiver(x,y,u,v, scale=scale, arrow_scale=arrow)\n",
        "  \n",
        "  fig.show()"
      ],
      "metadata": {
        "id": "1syZuX5KtYG5"
      },
      "execution_count": 34,
      "outputs": []
    },
    {
      "cell_type": "code",
      "source": [
        "import plotly.figure_factory as ff\n",
        "import plotly.graph_objs as go\n",
        "import numpy as np\n",
        "def tampilan_vektor_heatmap(Y):\n",
        "  x = Y['koor_x']\n",
        "  y = Y['koor_y']\n",
        "  a = Y['Vx']\n",
        "  b = Y['Vy']\n",
        "  angle = np.arctan(b / a)\n",
        "  norm = 0.5\n",
        "  u = norm * np.cos(angle)\n",
        "  v = norm * np.sin(angle)\n",
        "  f = ff.create_quiver(x, y, u, v, scale = 1, scaleratio = 0.5)\n",
        "  trace1 = f.data[0]\n",
        "  trace2 = go.Contour(\n",
        "       x = (x*1.2)-0.5,\n",
        "       y = (y*1.2)-0.5,\n",
        "       z = ((a**2)+(b**2))**0.5,\n",
        "       colorscale = 'ylgnbu'\n",
        "   )\n",
        "  data=[trace1,trace2]\n",
        "  fig = go.FigureWidget(data)\n",
        "  fig.show()"
      ],
      "metadata": {
        "id": "ePZ3rMuWiFmi"
      },
      "execution_count": 35,
      "outputs": []
    },
    {
      "cell_type": "code",
      "source": [
        "def tampilan_vektor_subplot(Y):\n",
        "  x = Y['koor_x']\n",
        "  y = Y['koor_y']\n",
        "  a = Y['Vx']\n",
        "  b = Y['Vy']\n",
        "  angle = np.arctan(b / a)\n",
        "  norm = 0.5\n",
        "  u = norm * np.cos(angle)\n",
        "  v = norm * np.sin(angle)\n",
        "  f = ff.create_quiver(x, y, u, v, scale = 1, scaleratio = 0.5)\n",
        "  return f"
      ],
      "metadata": {
        "id": "D5_9tiTO95Gk"
      },
      "execution_count": 36,
      "outputs": []
    },
    {
      "cell_type": "code",
      "source": [
        "scenarios=9\n",
        "angin_test = kec_angin(np.array(df_y),scenarios)\n",
        "angin_pred = kec_angin(np.array(df_y_predict),scenarios)"
      ],
      "metadata": {
        "id": "iv0kMusziQdR"
      },
      "execution_count": 37,
      "outputs": []
    },
    {
      "cell_type": "code",
      "source": [
        "import numpy as np\n",
        "from plotly.subplots import make_subplots\n",
        "import plotly.graph_objects as go\n",
        "import plotly.figure_factory as ff\n",
        "\n",
        "fig1 = tampilan_vektor_subplot(angin_test)\n",
        "fig2 = tampilan_vektor_subplot(angin_pred) \n",
        " \n",
        "# subplot setup\n",
        "subplots = make_subplots(rows=1, cols=2)\n",
        "\n",
        "# add all fig1.data as individual traces in fig at row=1, col=1\n",
        "for d in fig1.data:\n",
        "    subplots.add_trace(go.Scatter(x=d['x'], y=d['y']),\n",
        "                  row=1, col=1)\n",
        "\n",
        "# add all fig2.data as individual traces in fig at row=1, col=2\n",
        "for d in fig2.data:\n",
        "    subplots.add_trace(go.Scatter(x=d['x'], y=d['y']),\n",
        "                  row=1, col=2)\n",
        "    \n",
        "subplots.update_layout(showlegend=False)\n",
        "\n",
        "subplots.add_contour( x = (angin_test['koor_x']*1.2)-0.5,\n",
        "                      y = (angin_test['koor_y']*1.3)-0.9,\n",
        "                      z = ((angin_test['Vx']**2)+(angin_test['Vy']**2))**0.5,\n",
        "                      colorscale = 'ylgnbu',\n",
        "                      row = 1, col = 1\n",
        "                     )\n",
        "\n",
        "subplots.add_contour( x = (angin_pred['koor_x']*1.2)-0.5,\n",
        "                      y = (angin_pred['koor_y']*1.3)-0.9,\n",
        "                      z = ((angin_pred['Vx']**2)+(angin_pred['Vy']**2))**0.5,\n",
        "                      colorscale = 'ylgnbu',\n",
        "                      row = 1, col = 2\n",
        "                     )\n",
        "subplots.show()"
      ],
      "metadata": {
        "colab": {
          "base_uri": "https://localhost:8080/",
          "height": 542
        },
        "id": "uIgqrRCP1K6y",
        "outputId": "e1e0cd72-1770-47fe-9e5c-a2ebbfa545e3"
      },
      "execution_count": 38,
      "outputs": [
        {
          "output_type": "display_data",
          "data": {
            "text/html": [
              "<html>\n",
              "<head><meta charset=\"utf-8\" /></head>\n",
              "<body>\n",
              "    <div>            <script src=\"https://cdnjs.cloudflare.com/ajax/libs/mathjax/2.7.5/MathJax.js?config=TeX-AMS-MML_SVG\"></script><script type=\"text/javascript\">if (window.MathJax) {MathJax.Hub.Config({SVG: {font: \"STIX-Web\"}});}</script>                <script type=\"text/javascript\">window.PlotlyConfig = {MathJaxConfig: 'local'};</script>\n",
              "        <script src=\"https://cdn.plot.ly/plotly-2.8.3.min.js\"></script>                <div id=\"0244adb6-3821-4792-a780-d3d711a5c428\" class=\"plotly-graph-div\" style=\"height:525px; width:100%;\"></div>            <script type=\"text/javascript\">                                    window.PLOTLYENV=window.PLOTLYENV || {};                                    if (document.getElementById(\"0244adb6-3821-4792-a780-d3d711a5c428\")) {                    Plotly.newPlot(                        \"0244adb6-3821-4792-a780-d3d711a5c428\",                        [{\"x\":[1,1.0088390921346653,null,1,1.0080956467561937,null,1,1.0086359059514423,null,1,1.0094459037039691,null,1,1.0084215075790048,null,1,1.008335301088786,null,2,2.246347874007916,null,2,2.2442771284689043,null,2,2.2367880518441536,null,2,2.2174417587263027,null,2,2.1768933902659717,null,2,null,null,3,3.2298191156777025,null,3,3.206611902129434,null,3,3.2063263135879576,null,3,3.155636660109792,null,3,3.1131916147457317,null,3,3.0948162911784896,null,4,4.217763403110057,null,4,4.157873004359727,null,4,4.0826550384573155,null,4,4.100012856220253,null,4,4.092122742634006,null,5,null,null,5,null,null,5,5.214906906751402,null,5,5.153590112503786,null,5,5.133900315661513,null,5,5.249712112542396,null,5,5.227843423026975,null,0.9807118106308863,1.0088390921346653,1.0319827558464092,null,0.9801753631760975,1.0080956467561937,1.031451478625919,null,0.9805651751272094,1.0086359059514423,1.0318375785178522,null,0.9811498357601353,1.0094459037039691,1.0324162240434385,null,0.9804104664107928,1.0084215075790048,1.0316843716304869,null,0.9803482655965431,1.008335301088786,1.0316227640259326,null,2.1812690561697976,2.246347874007916,2.172531924235113,null,2.180870645207486,2.2442771284689043,2.1699563627009217,null,2.1782642634165295,2.2367880518441536,2.1618070492668444,null,2.1688012942294086,2.2174417587263027,2.143485173547707,null,2.1451521418965895,2.1768933902659717,2.108899390536113,null,null,null,null,null,3.175128072326785,3.2298191156777025,3.1549345627578917,null,3.1628085484361836,3.206611902129434,3.1339242479441425,null,3.162646390052687,3.2063263135879576,3.1336762485116902,null,3.1318359023119693,3.155636660109792,3.091687045290253,null,3.1041536518300124,3.1131916147457317,3.058410382594608,null,3.0918218762308625,3.0948162911784896,3.044351804635688,null,4.168973917248543,4.217763403110057,4.143774491183723,null,4.133257104595127,4.157873004359727,4.093477645793445,null,4.083562909573367,4.0826550384573155,4.035144969515795,null,4.095327875510134,4.100012856220253,4.048309031146037,null,4.089999072180439,4.092122742634006,4.042306176211732,null,null,null,null,null,null,null,null,null,5.141217079024833,5.214906906751402,5.167428873819841,null,5.090052167840969,5.153590112503786,5.130531559959312,null,5.117814731298656,5.133900315661513,5.074490816895553,null,5.180547001168559,5.249712112542396,5.178085646230063,null,5.174170233615528,5.227843423026975,5.153054942450591,null],\"y\":[1,0.5003126159277786,null,2,1.5002622267484718,null,3,2.500298404531673,null,4,3.5003570278560288,null,5,4.500283767683711,null,6,5.5002779862533195,null,1,1.0851522159847904,null,2,2.1063707573910526,null,3,3.160392250484248,null,4,4.246731283480732,null,5,5.353319846485932,null,6,null,null,1,1.1968062404408841,null,2,2.2815068162475445,null,3,3.2823434243697114,null,4,4.391291349405371,null,5,5.445814572894399,null,6,6.462644014020093,null,1,1.2455939760330208,null,2,2.3876911889348715,null,3,3.4718819539572143,null,4,4.458246346807771,null,5,5.464815663632751,null,6,null,null,1,null,null,2,1.7445394634739508,null,3,2.605487250694864,null,4,4.422235505213606,null,5,5.0239884013318,null,6,6.205789937395888,null,0.6393644916462626,0.5003126159277786,0.6429922687167829,null,1.6394808715458842,1.5002622267484718,1.6428035206625249,null,2.639395982813877,2.500298404531673,2.642940367363388,null,3.6392718584381942,3.5003570278560288,3.6431486856446007,null,4.639429469344563,4.500283767683711,4.64288585961959,null,5.639443008358099,5.5002779862533195,5.642864017405758,null,1.010593582177751,1.0851522159847904,1.1117007043891445,null,2.026255393560648,2.1063707573910526,2.126512631748789,null,3.0665846561631342,3.160392250484248,3.163768196278586,null,4.132554136668834,4.246731283480732,4.221797490450301,null,5.2174155691146415,5.353319846485932,5.290016892345198,null,null,null,null,null,1.0941633687509695,1.1968062404408841,1.1884866890106491,null,2.15974859344146,2.2815068162475445,2.244547112296378,null,3.160407961440293,3.2823434243697114,3.245089267854545,null,4.249044747642807,4.391291349405371,4.312921794999783,null,5.296907686198933,5.445814572894399,5.343364260957252,null,6.312763615313371,6.462644014020093,6.351678513111542,null,1.1316714397310383,1.2455939760330208,1.2210468041423828,null,2.2460005755721064,2.3876911889348715,2.310795472666148,null,3.3218929440926694,3.4718819539572143,3.355816569812381,null,4.308539286777246,4.458246346807771,4.349586980479878,null,5.314875808706789,5.464815663632751,5.352685209073873,null,null,null,null,null,null,null,null,null,1.7724542831673378,1.7445394634739508,1.8606572724258865,null,2.6851849191180928,2.605487250694864,2.7482220138684337,null,4.275726065576354,4.422235505213606,4.330681991761037,null,4.965981940703873,5.0239884013318,5.06846982773016,null,6.101019927595317,6.205789937395888,6.194532375834713,null],\"type\":\"scatter\",\"xaxis\":\"x\",\"yaxis\":\"y\"},{\"x\":[1,1.0054282703321649,null,1,1.0093020060293159,null,1,1.0120644413004005,null,1,1.0103664381911053,null,1,1.0235262554181679,null,1,1.000417816142965,null,2,2.1605290939565513,null,2,2.1571941700043866,null,2,2.1444164442026494,null,2,2.228798090319899,null,2,2.0949826612224074,null,2,2.0873494882761987,null,3,3.2118705811740798,null,3,3.2321998154955067,null,3,3.2091831815821585,null,3,3.059783623349611,null,3,3.042665751780678,null,3,3.247707397507309,null,4,4.146146746054364,null,4,4.232590346539148,null,4,4.141308975847514,null,4,4.055513414699575,null,4,4.0721489803815265,null,5,5.249793474856443,null,5,5.175660893956733,null,5,5.194645266358007,null,5,5.249167181441117,null,5,5.024539942923205,null,5,5.233993084921533,null,5,5.210689117261989,null,0.9782525354268862,1.0054282703321649,1.0295434618925838,null,1.032313446250488,1.0093020060293159,0.9810459499535912,null,1.0342850059289204,1.0120644413004005,0.983041756793546,null,1.0330735070965968,1.0103664381911053,0.9818146100024049,null,0.9913563444166984,1.0235262554181679,1.0424316972529313,null,0.9746485555935895,1.000417816142965,1.025951505444507,null,2.0956100602772096,2.1605290939565513,2.1349393246284416,null,2.0929336555531495,2.1571941700043866,2.1328261635054115,null,2.0827656784349937,2.1444164442026494,2.1246429698078835,null,2.1539601246510975,2.228798090319899,2.17463612971459,null,2.0444782778765793,2.0949826612224074,2.0919343410562528,null,2.0386901779100817,2.0873494882761987,2.0867597969047744,null,3.1385261870226797,3.2118705811740798,3.1657590423109374,null,3.1762468992729413,3.2321998154955067,3.1572348598166857,null,3.1642598759834644,3.2091831815821585,3.136165751905689,null,3.0678374239031436,3.059783623349611,3.0180228849727944,null,3.055913133295232,3.042665751780678,3.0053627550009723,null,3.1813427199947046,3.247707397507309,3.1744107868888936,null,4.125758707324905,4.146146746054364,4.084134973492329,null,4.157616348942391,4.232590346539148,4.176426284750579,null,4.080312192118944,4.141308975847514,4.12263355846325,null,4.064874857450585,4.055513414699575,4.014852644259873,null,4.076369685349128,4.0721489803815265,4.0272495567368765,null,5.1804171980544425,5.249793474856443,5.1783323006326025,null,5.14439284725108,5.175660893956733,5.107888593175308,null,5.155870702954827,5.194645266358007,5.123675797480671,null,5.176832967307702,5.249167181441117,5.1810170585291875,null,5.0431495730370575,5.024539942923205,4.992094310841686,null,5.1770598306173605,5.233993084921533,5.158997394096288,null,5.165102295249366,5.210689117261989,5.137486134012018,null],\"y\":[1,0.5001178783705065,null,2,2.4996537708607054,null,3,3.4994174576688692,null,4,4.499569962905017,null,5,4.502218862125134,null,6,5.500000698281805,null,1,0.616696412782303,null,2,1.6112070323854508,null,3,2.5918633040567753,null,4,3.7984913513918834,null,5,4.537492512202843,null,6,5.531512788230517,null,1,0.7345881929306257,null,2,2.1852916153942497,null,3,3.273805745324424,null,4,4.485493227055504,null,5,5.492664728288882,null,6,6.067558721721357,null,1,1.4056655204363384,null,2,1.8166780897241215,null,3,2.587535342872015,null,4,4.4875172234430005,null,5,5.478725493910262,null,6,6.020319440852876,null,1,1.3557709956380437,null,2,2.313772020960571,null,3,2.959221785586452,null,4,4.49758533419435,null,5,5.176036771259918,null,6,6.269147512471238,null,0.6399245939797077,0.5001178783705065,0.6421524873361286,null,2.3568885983717904,2.4996537708607054,2.3607063664942256,null,3.3561520186043166,3.4994174576688692,3.361103556935565,null,4.356609982187038,4.499569962905017,4.360864618998116,null,4.637719368783339,4.502218862125134,4.647375112683384,null,5.640868653626353,5.500000698281805,5.641040135470874,null,0.6918101682772987,0.616696412782303,0.75769518874485,null,1.688552653656789,1.6112070323854508,1.7530689407226208,null,2.677284216724848,2.5918633040567753,2.7365562162585766,null,3.8083460750420493,3.7984913513918834,3.9022503418146703,null,4.6483853841623635,4.537492512202843,4.687368564248053,null,5.645657810280432,5.531512788230517,5.681508151680011,null,0.765931443978598,0.7345881929306257,0.8528882518261799,null,2.0854062577848262,2.1852916153942497,2.180706674795987,null,3.1536908567537503,3.273805745324424,3.2395446908490095,null,4.336360584127888,4.485493227055504,4.360897228239763,null,5.34502317745704,5.492664728288882,5.36253423330399,null,5.997680840281004,6.067558721721357,6.099345943798938,null,1.2613141729986916,1.4056655204363384,1.3212963302372038,null,1.8206276134228156,1.8166780897241215,1.916088313814199,null,2.67481403155992,2.587535342872015,2.7328106509670045,null,4.338690298599146,4.4875172234430005,4.361474345861601,null,5.328963206940859,5.478725493910262,5.358574892473928,null,5.963330592221162,6.020319440852876,6.065851872307824,null,1.219428643374148,1.3557709956380437,1.2915241203275043,null,2.1853736840103952,2.313772020960571,2.2652608062873094,null,2.919585364673297,2.959221785586452,3.0218495988035494,null,4.352276261290755,4.49758533419435,4.362348047045713,null,5.0783924257126944,5.176036771259918,5.174428843843188,null,6.150036779809744,6.269147512471238,6.2365086863094685,null],\"type\":\"scatter\",\"xaxis\":\"x2\",\"yaxis\":\"y2\"},{\"colorscale\":[[0.0,\"rgb(255,255,217)\"],[0.125,\"rgb(237,248,177)\"],[0.25,\"rgb(199,233,180)\"],[0.375,\"rgb(127,205,187)\"],[0.5,\"rgb(65,182,196)\"],[0.625,\"rgb(29,145,192)\"],[0.75,\"rgb(34,94,168)\"],[0.875,\"rgb(37,52,148)\"],[1.0,\"rgb(8,29,88)\"]],\"x\":[0.7,0.7,0.7,0.7,0.7,0.7,1.9,1.9,1.9,1.9,1.9,1.9,3.0999999999999996,3.0999999999999996,3.0999999999999996,3.0999999999999996,3.0999999999999996,3.0999999999999996,4.3,4.3,4.3,4.3,4.3,5.5,5.5,5.5,5.5,5.5,5.5,5.5],\"y\":[0.4,1.7000000000000002,3.0000000000000004,4.3,5.6,6.9,0.4,1.7000000000000002,3.0000000000000004,4.3,5.6,6.9,0.4,1.7000000000000002,3.0000000000000004,4.3,5.6,6.9,0.4,1.7000000000000002,3.0000000000000004,4.3,5.6,6.9,0.4,1.7000000000000002,3.0000000000000004,4.3,5.6,6.9],\"z\":[0.06191274982345478,0.06410544032235017,0.06511708246499379,0.06267399272250093,0.06240242558353161,0.06326196191153892,0.0047569519514600945,0.004207782392246538,0.004385810398421254,0.00458474492590373,0.005193452952756961,0.0,0.003516885432339245,0.0034203257059087226,0.0025666260923827605,0.003106674864771014,0.0043463025163580134,0.004168982936232769,0.0014658339989234797,0.001016259877049173,0.002519931076041565,0.0027642446226229687,0.0025143085559254656,0.0,0.0,0.0018568621457178776,0.0024268163745945017,0.0027073871947876243,0.002666080124114802,0.002621581049233458],\"type\":\"contour\",\"xaxis\":\"x\",\"yaxis\":\"y\"},{\"colorscale\":[[0.0,\"rgb(255,255,217)\"],[0.125,\"rgb(237,248,177)\"],[0.25,\"rgb(199,233,180)\"],[0.375,\"rgb(127,205,187)\"],[0.5,\"rgb(65,182,196)\"],[0.625,\"rgb(29,145,192)\"],[0.75,\"rgb(34,94,168)\"],[0.875,\"rgb(37,52,148)\"],[1.0,\"rgb(8,29,88)\"]],\"x\":[0.7,0.7,0.7,0.7,0.7,0.7,1.9,1.9,1.9,1.9,1.9,1.9,3.0999999999999996,3.0999999999999996,3.0999999999999996,3.0999999999999996,3.0999999999999996,3.0999999999999996,4.3,4.3,4.3,4.3,4.3,5.5,5.5,5.5,5.5,5.5,5.5,5.5],\"y\":[0.4,1.7000000000000002,3.0000000000000004,4.3,5.6,6.9,0.4,1.7000000000000002,3.0000000000000004,4.3,5.6,6.9,0.4,1.7000000000000002,3.0000000000000004,4.3,5.6,6.9,0.4,1.7000000000000002,3.0000000000000004,4.3,5.6,6.9,0.4,1.7000000000000002,3.0000000000000004,4.3,5.6,6.9],\"z\":[0.06850703672025671,0.053836031039783294,0.06467637748000737,0.08173692072998935,0.05253127069021412,0.06217925357429295,0.001911648874308744,0.0335431064436469,0.014963295255663648,0.014964816484006315,0.0012385600557309735,0.00014054797309694472,0.01629906090229141,0.032083265853183454,0.0285060108085735,0.023337829838375148,0.018876390542182594,0.010576008569667766,0.005012862350213077,0.0034725300095004327,0.010305162838707697,0.014837759072711688,0.010949509770284731,0.00017892593635200437,0.000298096801222346,0.005718967005915494,0.012783329839704104,0.04042804180137929,0.01914908484784703,0.018720353129703982],\"type\":\"contour\",\"xaxis\":\"x2\",\"yaxis\":\"y2\"}],                        {\"template\":{\"data\":{\"bar\":[{\"error_x\":{\"color\":\"#2a3f5f\"},\"error_y\":{\"color\":\"#2a3f5f\"},\"marker\":{\"line\":{\"color\":\"#E5ECF6\",\"width\":0.5},\"pattern\":{\"fillmode\":\"overlay\",\"size\":10,\"solidity\":0.2}},\"type\":\"bar\"}],\"barpolar\":[{\"marker\":{\"line\":{\"color\":\"#E5ECF6\",\"width\":0.5},\"pattern\":{\"fillmode\":\"overlay\",\"size\":10,\"solidity\":0.2}},\"type\":\"barpolar\"}],\"carpet\":[{\"aaxis\":{\"endlinecolor\":\"#2a3f5f\",\"gridcolor\":\"white\",\"linecolor\":\"white\",\"minorgridcolor\":\"white\",\"startlinecolor\":\"#2a3f5f\"},\"baxis\":{\"endlinecolor\":\"#2a3f5f\",\"gridcolor\":\"white\",\"linecolor\":\"white\",\"minorgridcolor\":\"white\",\"startlinecolor\":\"#2a3f5f\"},\"type\":\"carpet\"}],\"choropleth\":[{\"colorbar\":{\"outlinewidth\":0,\"ticks\":\"\"},\"type\":\"choropleth\"}],\"contour\":[{\"colorbar\":{\"outlinewidth\":0,\"ticks\":\"\"},\"colorscale\":[[0.0,\"#0d0887\"],[0.1111111111111111,\"#46039f\"],[0.2222222222222222,\"#7201a8\"],[0.3333333333333333,\"#9c179e\"],[0.4444444444444444,\"#bd3786\"],[0.5555555555555556,\"#d8576b\"],[0.6666666666666666,\"#ed7953\"],[0.7777777777777778,\"#fb9f3a\"],[0.8888888888888888,\"#fdca26\"],[1.0,\"#f0f921\"]],\"type\":\"contour\"}],\"contourcarpet\":[{\"colorbar\":{\"outlinewidth\":0,\"ticks\":\"\"},\"type\":\"contourcarpet\"}],\"heatmap\":[{\"colorbar\":{\"outlinewidth\":0,\"ticks\":\"\"},\"colorscale\":[[0.0,\"#0d0887\"],[0.1111111111111111,\"#46039f\"],[0.2222222222222222,\"#7201a8\"],[0.3333333333333333,\"#9c179e\"],[0.4444444444444444,\"#bd3786\"],[0.5555555555555556,\"#d8576b\"],[0.6666666666666666,\"#ed7953\"],[0.7777777777777778,\"#fb9f3a\"],[0.8888888888888888,\"#fdca26\"],[1.0,\"#f0f921\"]],\"type\":\"heatmap\"}],\"heatmapgl\":[{\"colorbar\":{\"outlinewidth\":0,\"ticks\":\"\"},\"colorscale\":[[0.0,\"#0d0887\"],[0.1111111111111111,\"#46039f\"],[0.2222222222222222,\"#7201a8\"],[0.3333333333333333,\"#9c179e\"],[0.4444444444444444,\"#bd3786\"],[0.5555555555555556,\"#d8576b\"],[0.6666666666666666,\"#ed7953\"],[0.7777777777777778,\"#fb9f3a\"],[0.8888888888888888,\"#fdca26\"],[1.0,\"#f0f921\"]],\"type\":\"heatmapgl\"}],\"histogram\":[{\"marker\":{\"pattern\":{\"fillmode\":\"overlay\",\"size\":10,\"solidity\":0.2}},\"type\":\"histogram\"}],\"histogram2d\":[{\"colorbar\":{\"outlinewidth\":0,\"ticks\":\"\"},\"colorscale\":[[0.0,\"#0d0887\"],[0.1111111111111111,\"#46039f\"],[0.2222222222222222,\"#7201a8\"],[0.3333333333333333,\"#9c179e\"],[0.4444444444444444,\"#bd3786\"],[0.5555555555555556,\"#d8576b\"],[0.6666666666666666,\"#ed7953\"],[0.7777777777777778,\"#fb9f3a\"],[0.8888888888888888,\"#fdca26\"],[1.0,\"#f0f921\"]],\"type\":\"histogram2d\"}],\"histogram2dcontour\":[{\"colorbar\":{\"outlinewidth\":0,\"ticks\":\"\"},\"colorscale\":[[0.0,\"#0d0887\"],[0.1111111111111111,\"#46039f\"],[0.2222222222222222,\"#7201a8\"],[0.3333333333333333,\"#9c179e\"],[0.4444444444444444,\"#bd3786\"],[0.5555555555555556,\"#d8576b\"],[0.6666666666666666,\"#ed7953\"],[0.7777777777777778,\"#fb9f3a\"],[0.8888888888888888,\"#fdca26\"],[1.0,\"#f0f921\"]],\"type\":\"histogram2dcontour\"}],\"mesh3d\":[{\"colorbar\":{\"outlinewidth\":0,\"ticks\":\"\"},\"type\":\"mesh3d\"}],\"parcoords\":[{\"line\":{\"colorbar\":{\"outlinewidth\":0,\"ticks\":\"\"}},\"type\":\"parcoords\"}],\"pie\":[{\"automargin\":true,\"type\":\"pie\"}],\"scatter\":[{\"marker\":{\"colorbar\":{\"outlinewidth\":0,\"ticks\":\"\"}},\"type\":\"scatter\"}],\"scatter3d\":[{\"line\":{\"colorbar\":{\"outlinewidth\":0,\"ticks\":\"\"}},\"marker\":{\"colorbar\":{\"outlinewidth\":0,\"ticks\":\"\"}},\"type\":\"scatter3d\"}],\"scattercarpet\":[{\"marker\":{\"colorbar\":{\"outlinewidth\":0,\"ticks\":\"\"}},\"type\":\"scattercarpet\"}],\"scattergeo\":[{\"marker\":{\"colorbar\":{\"outlinewidth\":0,\"ticks\":\"\"}},\"type\":\"scattergeo\"}],\"scattergl\":[{\"marker\":{\"colorbar\":{\"outlinewidth\":0,\"ticks\":\"\"}},\"type\":\"scattergl\"}],\"scattermapbox\":[{\"marker\":{\"colorbar\":{\"outlinewidth\":0,\"ticks\":\"\"}},\"type\":\"scattermapbox\"}],\"scatterpolar\":[{\"marker\":{\"colorbar\":{\"outlinewidth\":0,\"ticks\":\"\"}},\"type\":\"scatterpolar\"}],\"scatterpolargl\":[{\"marker\":{\"colorbar\":{\"outlinewidth\":0,\"ticks\":\"\"}},\"type\":\"scatterpolargl\"}],\"scatterternary\":[{\"marker\":{\"colorbar\":{\"outlinewidth\":0,\"ticks\":\"\"}},\"type\":\"scatterternary\"}],\"surface\":[{\"colorbar\":{\"outlinewidth\":0,\"ticks\":\"\"},\"colorscale\":[[0.0,\"#0d0887\"],[0.1111111111111111,\"#46039f\"],[0.2222222222222222,\"#7201a8\"],[0.3333333333333333,\"#9c179e\"],[0.4444444444444444,\"#bd3786\"],[0.5555555555555556,\"#d8576b\"],[0.6666666666666666,\"#ed7953\"],[0.7777777777777778,\"#fb9f3a\"],[0.8888888888888888,\"#fdca26\"],[1.0,\"#f0f921\"]],\"type\":\"surface\"}],\"table\":[{\"cells\":{\"fill\":{\"color\":\"#EBF0F8\"},\"line\":{\"color\":\"white\"}},\"header\":{\"fill\":{\"color\":\"#C8D4E3\"},\"line\":{\"color\":\"white\"}},\"type\":\"table\"}]},\"layout\":{\"annotationdefaults\":{\"arrowcolor\":\"#2a3f5f\",\"arrowhead\":0,\"arrowwidth\":1},\"autotypenumbers\":\"strict\",\"coloraxis\":{\"colorbar\":{\"outlinewidth\":0,\"ticks\":\"\"}},\"colorscale\":{\"diverging\":[[0,\"#8e0152\"],[0.1,\"#c51b7d\"],[0.2,\"#de77ae\"],[0.3,\"#f1b6da\"],[0.4,\"#fde0ef\"],[0.5,\"#f7f7f7\"],[0.6,\"#e6f5d0\"],[0.7,\"#b8e186\"],[0.8,\"#7fbc41\"],[0.9,\"#4d9221\"],[1,\"#276419\"]],\"sequential\":[[0.0,\"#0d0887\"],[0.1111111111111111,\"#46039f\"],[0.2222222222222222,\"#7201a8\"],[0.3333333333333333,\"#9c179e\"],[0.4444444444444444,\"#bd3786\"],[0.5555555555555556,\"#d8576b\"],[0.6666666666666666,\"#ed7953\"],[0.7777777777777778,\"#fb9f3a\"],[0.8888888888888888,\"#fdca26\"],[1.0,\"#f0f921\"]],\"sequentialminus\":[[0.0,\"#0d0887\"],[0.1111111111111111,\"#46039f\"],[0.2222222222222222,\"#7201a8\"],[0.3333333333333333,\"#9c179e\"],[0.4444444444444444,\"#bd3786\"],[0.5555555555555556,\"#d8576b\"],[0.6666666666666666,\"#ed7953\"],[0.7777777777777778,\"#fb9f3a\"],[0.8888888888888888,\"#fdca26\"],[1.0,\"#f0f921\"]]},\"colorway\":[\"#636efa\",\"#EF553B\",\"#00cc96\",\"#ab63fa\",\"#FFA15A\",\"#19d3f3\",\"#FF6692\",\"#B6E880\",\"#FF97FF\",\"#FECB52\"],\"font\":{\"color\":\"#2a3f5f\"},\"geo\":{\"bgcolor\":\"white\",\"lakecolor\":\"white\",\"landcolor\":\"#E5ECF6\",\"showlakes\":true,\"showland\":true,\"subunitcolor\":\"white\"},\"hoverlabel\":{\"align\":\"left\"},\"hovermode\":\"closest\",\"mapbox\":{\"style\":\"light\"},\"paper_bgcolor\":\"white\",\"plot_bgcolor\":\"#E5ECF6\",\"polar\":{\"angularaxis\":{\"gridcolor\":\"white\",\"linecolor\":\"white\",\"ticks\":\"\"},\"bgcolor\":\"#E5ECF6\",\"radialaxis\":{\"gridcolor\":\"white\",\"linecolor\":\"white\",\"ticks\":\"\"}},\"scene\":{\"xaxis\":{\"backgroundcolor\":\"#E5ECF6\",\"gridcolor\":\"white\",\"gridwidth\":2,\"linecolor\":\"white\",\"showbackground\":true,\"ticks\":\"\",\"zerolinecolor\":\"white\"},\"yaxis\":{\"backgroundcolor\":\"#E5ECF6\",\"gridcolor\":\"white\",\"gridwidth\":2,\"linecolor\":\"white\",\"showbackground\":true,\"ticks\":\"\",\"zerolinecolor\":\"white\"},\"zaxis\":{\"backgroundcolor\":\"#E5ECF6\",\"gridcolor\":\"white\",\"gridwidth\":2,\"linecolor\":\"white\",\"showbackground\":true,\"ticks\":\"\",\"zerolinecolor\":\"white\"}},\"shapedefaults\":{\"line\":{\"color\":\"#2a3f5f\"}},\"ternary\":{\"aaxis\":{\"gridcolor\":\"white\",\"linecolor\":\"white\",\"ticks\":\"\"},\"baxis\":{\"gridcolor\":\"white\",\"linecolor\":\"white\",\"ticks\":\"\"},\"bgcolor\":\"#E5ECF6\",\"caxis\":{\"gridcolor\":\"white\",\"linecolor\":\"white\",\"ticks\":\"\"}},\"title\":{\"x\":0.05},\"xaxis\":{\"automargin\":true,\"gridcolor\":\"white\",\"linecolor\":\"white\",\"ticks\":\"\",\"title\":{\"standoff\":15},\"zerolinecolor\":\"white\",\"zerolinewidth\":2},\"yaxis\":{\"automargin\":true,\"gridcolor\":\"white\",\"linecolor\":\"white\",\"ticks\":\"\",\"title\":{\"standoff\":15},\"zerolinecolor\":\"white\",\"zerolinewidth\":2}}},\"xaxis\":{\"anchor\":\"y\",\"domain\":[0.0,0.45]},\"yaxis\":{\"anchor\":\"x\",\"domain\":[0.0,1.0]},\"xaxis2\":{\"anchor\":\"y2\",\"domain\":[0.55,1.0]},\"yaxis2\":{\"anchor\":\"x2\",\"domain\":[0.0,1.0]},\"showlegend\":false},                        {\"responsive\": true}                    ).then(function(){\n",
              "                            \n",
              "var gd = document.getElementById('0244adb6-3821-4792-a780-d3d711a5c428');\n",
              "var x = new MutationObserver(function (mutations, observer) {{\n",
              "        var display = window.getComputedStyle(gd).display;\n",
              "        if (!display || display === 'none') {{\n",
              "            console.log([gd, 'removed!']);\n",
              "            Plotly.purge(gd);\n",
              "            observer.disconnect();\n",
              "        }}\n",
              "}});\n",
              "\n",
              "// Listen for the removal of the full notebook cells\n",
              "var notebookContainer = gd.closest('#notebook-container');\n",
              "if (notebookContainer) {{\n",
              "    x.observe(notebookContainer, {childList: true});\n",
              "}}\n",
              "\n",
              "// Listen for the clearing of the current output cell\n",
              "var outputEl = gd.closest('.output');\n",
              "if (outputEl) {{\n",
              "    x.observe(outputEl, {childList: true});\n",
              "}}\n",
              "\n",
              "                        })                };                            </script>        </div>\n",
              "</body>\n",
              "</html>"
            ]
          },
          "metadata": {}
        }
      ]
    },
    {
      "cell_type": "code",
      "source": [
        "!mkdir subplot"
      ],
      "metadata": {
        "id": "4dmWqcJ8N0na"
      },
      "execution_count": 39,
      "outputs": []
    },
    {
      "cell_type": "code",
      "source": [
        "import numpy as np\n",
        "from plotly.subplots import make_subplots\n",
        "import plotly.graph_objects as go\n",
        "import plotly.figure_factory as ff\n",
        "\n",
        "for i in range(192):\n",
        "  angin_test = kec_angin(np.array(df_y),i)\n",
        "  angin_pred = kec_angin(np.array(df_y_predict),i)\n",
        "\n",
        "  fig1 = tampilan_vektor_subplot(angin_test)\n",
        "  fig2 = tampilan_vektor_subplot(angin_pred) \n",
        " \n",
        "  # subplot setup\n",
        "  subplots = make_subplots(rows=1, cols=2)\n",
        "\n",
        "  # add all fig1.data as individual traces in fig at row=1, col=1\n",
        "  for d in fig1.data:\n",
        "      subplots.add_trace(go.Scatter(x=d['x'], y=d['y']),\n",
        "                  row=1, col=1)\n",
        "\n",
        "  # add all fig2.data as individual traces in fig at row=1, col=2\n",
        "  for d in fig2.data:\n",
        "      subplots.add_trace(go.Scatter(x=d['x'], y=d['y']),\n",
        "                  row=1, col=2)\n",
        "    \n",
        "  subplots.update_layout(showlegend=False)\n",
        "\n",
        "  subplots.add_contour( x = (angin_test['koor_x']*1.2)-0.5,\n",
        "                      y = (angin_test['koor_y']*1.3)-0.9,\n",
        "                      z = ((angin_test['Vx']**2)+(angin_test['Vy']**2))**0.5,\n",
        "                      colorscale = 'ylgnbu',\n",
        "                      row = 1, col = 1\n",
        "                     )\n",
        "\n",
        "  subplots.add_contour( x = (angin_pred['koor_x']*1.2)-0.5,\n",
        "                      y = (angin_pred['koor_y']*1.3)-0.9,\n",
        "                      z = ((angin_pred['Vx']**2)+(angin_pred['Vy']**2))**0.5,\n",
        "                      colorscale = 'ylgnbu',\n",
        "                      row = 1, col = 2\n",
        "                     )\n",
        "  subplots.write_image(f'/content/subplot/fig {i}.png')"
      ],
      "metadata": {
        "id": "_GzWRIEjMmEz"
      },
      "execution_count": 40,
      "outputs": []
    },
    {
      "cell_type": "code",
      "source": [
        "!zip -r /content/subplot.zip /content/subplot"
      ],
      "metadata": {
        "colab": {
          "base_uri": "https://localhost:8080/"
        },
        "id": "f2QeNpeJ9jUB",
        "outputId": "6304a441-b4c3-4979-8f3b-cc1b200edf32"
      },
      "execution_count": 41,
      "outputs": [
        {
          "output_type": "stream",
          "name": "stdout",
          "text": [
            "  adding: content/subplot/ (stored 0%)\n",
            "  adding: content/subplot/fig 149.png (deflated 3%)\n",
            "  adding: content/subplot/fig 36.png (deflated 3%)\n",
            "  adding: content/subplot/fig 147.png (deflated 3%)\n",
            "  adding: content/subplot/fig 7.png (deflated 4%)\n",
            "  adding: content/subplot/fig 33.png (deflated 3%)\n",
            "  adding: content/subplot/fig 115.png (deflated 3%)\n",
            "  adding: content/subplot/fig 63.png (deflated 3%)\n",
            "  adding: content/subplot/fig 173.png (deflated 4%)\n",
            "  adding: content/subplot/fig 109.png (deflated 4%)\n",
            "  adding: content/subplot/fig 86.png (deflated 3%)\n",
            "  adding: content/subplot/fig 76.png (deflated 3%)\n",
            "  adding: content/subplot/fig 77.png (deflated 3%)\n",
            "  adding: content/subplot/fig 29.png (deflated 3%)\n",
            "  adding: content/subplot/fig 153.png (deflated 4%)\n",
            "  adding: content/subplot/fig 182.png (deflated 3%)\n",
            "  adding: content/subplot/fig 127.png (deflated 4%)\n",
            "  adding: content/subplot/fig 45.png (deflated 3%)\n",
            "  adding: content/subplot/fig 122.png (deflated 4%)\n",
            "  adding: content/subplot/fig 79.png (deflated 3%)\n",
            "  adding: content/subplot/fig 67.png (deflated 3%)\n",
            "  adding: content/subplot/fig 171.png (deflated 4%)\n",
            "  adding: content/subplot/fig 44.png (deflated 3%)\n",
            "  adding: content/subplot/fig 88.png (deflated 3%)\n",
            "  adding: content/subplot/fig 64.png (deflated 3%)\n",
            "  adding: content/subplot/fig 47.png (deflated 3%)\n",
            "  adding: content/subplot/fig 186.png (deflated 4%)\n",
            "  adding: content/subplot/fig 107.png (deflated 4%)\n",
            "  adding: content/subplot/fig 174.png (deflated 3%)\n",
            "  adding: content/subplot/fig 141.png (deflated 3%)\n",
            "  adding: content/subplot/fig 184.png (deflated 3%)\n",
            "  adding: content/subplot/fig 28.png (deflated 3%)\n",
            "  adding: content/subplot/fig 132.png (deflated 3%)\n",
            "  adding: content/subplot/fig 113.png (deflated 3%)\n",
            "  adding: content/subplot/fig 25.png (deflated 3%)\n",
            "  adding: content/subplot/fig 129.png (deflated 4%)\n",
            "  adding: content/subplot/fig 111.png (deflated 3%)\n",
            "  adding: content/subplot/fig 38.png (deflated 4%)\n",
            "  adding: content/subplot/fig 157.png (deflated 3%)\n",
            "  adding: content/subplot/fig 69.png (deflated 3%)\n",
            "  adding: content/subplot/fig 138.png (deflated 4%)\n",
            "  adding: content/subplot/fig 3.png (deflated 4%)\n",
            "  adding: content/subplot/fig 177.png (deflated 4%)\n",
            "  adding: content/subplot/fig 166.png (deflated 3%)\n",
            "  adding: content/subplot/fig 6.png (deflated 3%)\n",
            "  adding: content/subplot/fig 23.png (deflated 4%)\n",
            "  adding: content/subplot/fig 73.png (deflated 3%)\n",
            "  adding: content/subplot/fig 139.png (deflated 3%)\n",
            "  adding: content/subplot/fig 170.png (deflated 3%)\n",
            "  adding: content/subplot/fig 89.png (deflated 3%)\n",
            "  adding: content/subplot/fig 1.png (deflated 4%)\n",
            "  adding: content/subplot/fig 161.png (deflated 3%)\n",
            "  adding: content/subplot/fig 180.png (deflated 4%)\n",
            "  adding: content/subplot/fig 48.png (deflated 2%)\n",
            "  adding: content/subplot/fig 92.png (deflated 3%)\n",
            "  adding: content/subplot/fig 144.png (deflated 3%)\n",
            "  adding: content/subplot/fig 135.png (deflated 4%)\n",
            "  adding: content/subplot/fig 134.png (deflated 4%)\n",
            "  adding: content/subplot/fig 66.png (deflated 3%)\n",
            "  adding: content/subplot/fig 56.png (deflated 2%)\n",
            "  adding: content/subplot/fig 168.png (deflated 4%)\n",
            "  adding: content/subplot/fig 15.png (deflated 3%)\n",
            "  adding: content/subplot/fig 78.png (deflated 3%)\n",
            "  adding: content/subplot/fig 57.png (deflated 3%)\n",
            "  adding: content/subplot/fig 114.png (deflated 3%)\n",
            "  adding: content/subplot/fig 137.png (deflated 4%)\n",
            "  adding: content/subplot/fig 41.png (deflated 4%)\n",
            "  adding: content/subplot/fig 16.png (deflated 3%)\n",
            "  adding: content/subplot/fig 43.png (deflated 3%)\n",
            "  adding: content/subplot/fig 133.png (deflated 4%)\n",
            "  adding: content/subplot/fig 120.png (deflated 4%)\n",
            "  adding: content/subplot/fig 155.png (deflated 3%)\n",
            "  adding: content/subplot/fig 183.png (deflated 4%)\n",
            "  adding: content/subplot/fig 108.png (deflated 4%)\n",
            "  adding: content/subplot/fig 51.png (deflated 3%)\n",
            "  adding: content/subplot/fig 117.png (deflated 3%)\n",
            "  adding: content/subplot/fig 50.png (deflated 2%)\n",
            "  adding: content/subplot/fig 103.png (deflated 4%)\n",
            "  adding: content/subplot/fig 163.png (deflated 3%)\n",
            "  adding: content/subplot/fig 104.png (deflated 3%)\n",
            "  adding: content/subplot/fig 11.png (deflated 3%)\n",
            "  adding: content/subplot/fig 24.png (deflated 3%)\n",
            "  adding: content/subplot/fig 9.png (deflated 4%)\n",
            "  adding: content/subplot/fig 148.png (deflated 3%)\n",
            "  adding: content/subplot/fig 99.png (deflated 4%)\n",
            "  adding: content/subplot/fig 74.png (deflated 3%)\n",
            "  adding: content/subplot/fig 17.png (deflated 3%)\n",
            "  adding: content/subplot/fig 4.png (deflated 4%)\n",
            "  adding: content/subplot/fig 188.png (deflated 4%)\n",
            "  adding: content/subplot/fig 125.png (deflated 4%)\n",
            "  adding: content/subplot/fig 116.png (deflated 5%)\n",
            "  adding: content/subplot/fig 83.png (deflated 3%)\n",
            "  adding: content/subplot/fig 93.png (deflated 3%)\n",
            "  adding: content/subplot/fig 154.png (deflated 3%)\n",
            "  adding: content/subplot/fig 13.png (deflated 3%)\n",
            "  adding: content/subplot/fig 96.png (deflated 4%)\n",
            "  adding: content/subplot/fig 42.png (deflated 3%)\n",
            "  adding: content/subplot/fig 100.png (deflated 3%)\n",
            "  adding: content/subplot/fig 179.png (deflated 4%)\n",
            "  adding: content/subplot/fig 191.png (deflated 4%)\n",
            "  adding: content/subplot/fig 10.png (deflated 3%)\n",
            "  adding: content/subplot/fig 60.png (deflated 3%)\n",
            "  adding: content/subplot/fig 105.png (deflated 4%)\n",
            "  adding: content/subplot/fig 82.png (deflated 3%)\n",
            "  adding: content/subplot/fig 181.png (deflated 4%)\n",
            "  adding: content/subplot/fig 34.png (deflated 3%)\n",
            "  adding: content/subplot/fig 167.png (deflated 3%)\n",
            "  adding: content/subplot/fig 131.png (deflated 4%)\n",
            "  adding: content/subplot/fig 81.png (deflated 3%)\n",
            "  adding: content/subplot/fig 112.png (deflated 4%)\n",
            "  adding: content/subplot/fig 110.png (deflated 4%)\n",
            "  adding: content/subplot/fig 61.png (deflated 3%)\n",
            "  adding: content/subplot/fig 102.png (deflated 4%)\n",
            "  adding: content/subplot/fig 75.png (deflated 3%)\n",
            "  adding: content/subplot/fig 158.png (deflated 3%)\n",
            "  adding: content/subplot/fig 159.png (deflated 3%)\n",
            "  adding: content/subplot/fig 84.png (deflated 3%)\n",
            "  adding: content/subplot/fig 106.png (deflated 4%)\n",
            "  adding: content/subplot/fig 143.png (deflated 3%)\n",
            "  adding: content/subplot/fig 49.png (deflated 3%)\n",
            "  adding: content/subplot/fig 145.png (deflated 3%)\n",
            "  adding: content/subplot/fig 40.png (deflated 4%)\n",
            "  adding: content/subplot/fig 97.png (deflated 4%)\n",
            "  adding: content/subplot/fig 175.png (deflated 4%)\n",
            "  adding: content/subplot/fig 39.png (deflated 4%)\n",
            "  adding: content/subplot/fig 72.png (deflated 3%)\n",
            "  adding: content/subplot/fig 87.png (deflated 3%)\n",
            "  adding: content/subplot/fig 2.png (deflated 4%)\n",
            "  adding: content/subplot/fig 162.png (deflated 3%)\n",
            "  adding: content/subplot/fig 98.png (deflated 3%)\n",
            "  adding: content/subplot/fig 95.png (deflated 3%)\n",
            "  adding: content/subplot/fig 142.png (deflated 3%)\n",
            "  adding: content/subplot/fig 164.png (deflated 3%)\n",
            "  adding: content/subplot/fig 140.png (deflated 4%)\n",
            "  adding: content/subplot/fig 121.png (deflated 4%)\n",
            "  adding: content/subplot/fig 152.png (deflated 3%)\n",
            "  adding: content/subplot/fig 150.png (deflated 3%)\n",
            "  adding: content/subplot/fig 165.png (deflated 3%)\n",
            "  adding: content/subplot/fig 160.png (deflated 3%)\n",
            "  adding: content/subplot/fig 58.png (deflated 2%)\n",
            "  adding: content/subplot/fig 146.png (deflated 3%)\n",
            "  adding: content/subplot/fig 128.png (deflated 4%)\n",
            "  adding: content/subplot/fig 190.png (deflated 4%)\n",
            "  adding: content/subplot/fig 71.png (deflated 3%)\n",
            "  adding: content/subplot/fig 27.png (deflated 3%)\n",
            "  adding: content/subplot/fig 172.png (deflated 4%)\n",
            "  adding: content/subplot/fig 80.png (deflated 2%)\n",
            "  adding: content/subplot/fig 30.png (deflated 3%)\n",
            "  adding: content/subplot/fig 91.png (deflated 3%)\n",
            "  adding: content/subplot/fig 0.png (deflated 5%)\n",
            "  adding: content/subplot/fig 119.png (deflated 3%)\n",
            "  adding: content/subplot/fig 53.png (deflated 2%)\n",
            "  adding: content/subplot/fig 5.png (deflated 4%)\n",
            "  adding: content/subplot/fig 32.png (deflated 3%)\n",
            "  adding: content/subplot/fig 14.png (deflated 3%)\n",
            "  adding: content/subplot/fig 18.png (deflated 4%)\n",
            "  adding: content/subplot/fig 124.png (deflated 4%)\n",
            "  adding: content/subplot/fig 178.png (deflated 4%)\n",
            "  adding: content/subplot/fig 169.png (deflated 4%)\n",
            "  adding: content/subplot/fig 35.png (deflated 3%)\n",
            "  adding: content/subplot/fig 26.png (deflated 3%)\n",
            "  adding: content/subplot/fig 185.png (deflated 3%)\n",
            "  adding: content/subplot/fig 94.png (deflated 3%)\n",
            "  adding: content/subplot/fig 130.png (deflated 3%)\n",
            "  adding: content/subplot/fig 176.png (deflated 4%)\n",
            "  adding: content/subplot/fig 21.png (deflated 4%)\n",
            "  adding: content/subplot/fig 90.png (deflated 3%)\n",
            "  adding: content/subplot/fig 189.png (deflated 3%)\n",
            "  adding: content/subplot/fig 123.png (deflated 3%)\n",
            "  adding: content/subplot/fig 118.png (deflated 5%)\n",
            "  adding: content/subplot/fig 22.png (deflated 4%)\n",
            "  adding: content/subplot/fig 101.png (deflated 4%)\n",
            "  adding: content/subplot/fig 65.png (deflated 3%)\n",
            "  adding: content/subplot/fig 54.png (deflated 3%)\n",
            "  adding: content/subplot/fig 156.png (deflated 3%)\n",
            "  adding: content/subplot/fig 85.png (deflated 3%)\n",
            "  adding: content/subplot/fig 126.png (deflated 4%)\n",
            "  adding: content/subplot/fig 136.png (deflated 4%)\n",
            "  adding: content/subplot/fig 187.png (deflated 4%)\n",
            "  adding: content/subplot/fig 12.png (deflated 4%)\n",
            "  adding: content/subplot/fig 19.png (deflated 4%)\n",
            "  adding: content/subplot/fig 70.png (deflated 3%)\n",
            "  adding: content/subplot/fig 37.png (deflated 3%)\n",
            "  adding: content/subplot/fig 46.png (deflated 3%)\n",
            "  adding: content/subplot/fig 59.png (deflated 2%)\n",
            "  adding: content/subplot/fig 151.png (deflated 3%)\n",
            "  adding: content/subplot/fig 31.png (deflated 3%)\n",
            "  adding: content/subplot/fig 55.png (deflated 2%)\n",
            "  adding: content/subplot/fig 20.png (deflated 4%)\n",
            "  adding: content/subplot/fig 52.png (deflated 2%)\n",
            "  adding: content/subplot/fig 68.png (deflated 3%)\n",
            "  adding: content/subplot/fig 62.png (deflated 3%)\n",
            "  adding: content/subplot/fig 8.png (deflated 4%)\n"
          ]
        }
      ]
    }
  ]
}