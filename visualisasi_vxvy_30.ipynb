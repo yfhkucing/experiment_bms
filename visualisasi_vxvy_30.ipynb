{
  "nbformat": 4,
  "nbformat_minor": 0,
  "metadata": {
    "colab": {
      "provenance": [],
      "authorship_tag": "ABX9TyN8cjLjWFJv5lxjtdWlGuzY",
      "include_colab_link": true
    },
    "kernelspec": {
      "name": "python3",
      "display_name": "Python 3"
    },
    "language_info": {
      "name": "python"
    }
  },
  "cells": [
    {
      "cell_type": "markdown",
      "metadata": {
        "id": "view-in-github",
        "colab_type": "text"
      },
      "source": [
        "<a href=\"https://colab.research.google.com/github/yfhkucing/experiment_bms/blob/master/visualisasi_vxvy_30.ipynb\" target=\"_parent\"><img src=\"https://colab.research.google.com/assets/colab-badge.svg\" alt=\"Open In Colab\"/></a>"
      ]
    },
    {
      "cell_type": "code",
      "execution_count": 1,
      "metadata": {
        "id": "tU4nfSGSgrgL",
        "colab": {
          "base_uri": "https://localhost:8080/"
        },
        "outputId": "4ff6bdbc-feb2-4782-c4fc-239370334a7d"
      },
      "outputs": [
        {
          "output_type": "stream",
          "name": "stdout",
          "text": [
            "Looking in indexes: https://pypi.org/simple, https://us-python.pkg.dev/colab-wheels/public/simple/\n",
            "Requirement already satisfied: kaleido in /usr/local/lib/python3.7/dist-packages (0.2.1)\n"
          ]
        }
      ],
      "source": [
        "! pip install -U kaleido"
      ]
    },
    {
      "cell_type": "code",
      "source": [
        "import joblib\n",
        "import numpy as np\n",
        "import pandas as pd"
      ],
      "metadata": {
        "id": "GM7QeNucg1vC"
      },
      "execution_count": 2,
      "outputs": []
    },
    {
      "cell_type": "code",
      "source": [
        "! unzip /content/models_vxvy_30_a06.zip"
      ],
      "metadata": {
        "id": "0n2v7CnJg7b4",
        "colab": {
          "base_uri": "https://localhost:8080/"
        },
        "outputId": "c1a7bc6b-73ce-4501-a104-e7ea4b83270c"
      },
      "execution_count": 3,
      "outputs": [
        {
          "output_type": "stream",
          "name": "stdout",
          "text": [
            "Archive:  /content/models_vxvy_30_a06.zip\n",
            "replace content/models/model 25? [y]es, [n]o, [A]ll, [N]one, [r]ename: A\n",
            "  inflating: content/models/model 25  \n",
            "  inflating: content/models/model 18  \n",
            "  inflating: content/models/model 27  \n",
            "  inflating: content/models/model 4  \n",
            "  inflating: content/models/model 23  \n",
            "  inflating: content/models/model 26  \n",
            "  inflating: content/models/model 3  \n",
            "  inflating: content/models/model 11  \n",
            "  inflating: content/models/model 0  \n",
            "  inflating: content/models/model 21  \n",
            "  inflating: content/models/model 14  \n",
            "  inflating: content/models/model 9  \n",
            "  inflating: content/models/model 2  \n",
            "  inflating: content/models/model 13  \n",
            "  inflating: content/models/model 19  \n",
            "  inflating: content/models/model 8  \n",
            "  inflating: content/models/model 16  \n",
            "  inflating: content/models/model 12  \n",
            "  inflating: content/models/model 28  \n",
            "  inflating: content/models/model 10  \n",
            "  inflating: content/models/model 6  \n",
            "  inflating: content/models/model 29  \n",
            "  inflating: content/models/model 5  \n",
            "  inflating: content/models/model 15  \n",
            "  inflating: content/models/model 24  \n",
            "  inflating: content/models/model 17  \n",
            "  inflating: content/models/model 7  \n",
            "  inflating: content/models/model 1  \n",
            "  inflating: content/models/model 20  \n",
            "  inflating: content/models/model 22  \n"
          ]
        }
      ]
    },
    {
      "cell_type": "code",
      "source": [
        "feature = pd.read_excel('data_model.xlsx',sheet_name='feature')\n",
        "label = pd.read_excel('data_model.xlsx',sheet_name='label_30')"
      ],
      "metadata": {
        "id": "Hrj6CFrbhBpZ"
      },
      "execution_count": 4,
      "outputs": []
    },
    {
      "cell_type": "code",
      "source": [
        "def norm(df):\n",
        "  df=(df-df.min())/(df.max()-df.min())\n",
        "  return df\n",
        "\n",
        "def remap(df,new_max,new_min):\n",
        "  df = (df-df.min())/(df.max()-df.min())*(new_max - new_min) + new_min\n",
        "  return df\n",
        "\n",
        "'''\n",
        "def rescale(df,new_max,new_min):\n",
        "  df = df *(new_max - new_min) + new_min\n",
        "  return df\n",
        "'''\n",
        "\n",
        "from sklearn.preprocessing import StandardScaler\n",
        "def standard(df):\n",
        "  scaler = StandardScaler()\n",
        "  df = scaler.fit_transform(df)\n",
        "  return df\n",
        "\n",
        "def rescale(df,df2):\n",
        "  new_max = df2.max()\n",
        "  new_min = df2.min()\n",
        "  df = (df)*(new_max - new_min) + new_min\n",
        "  return df"
      ],
      "metadata": {
        "id": "v-PIpO_ihESs"
      },
      "execution_count": 5,
      "outputs": []
    },
    {
      "cell_type": "code",
      "source": [
        "feature = norm(feature)"
      ],
      "metadata": {
        "id": "3L5xmcHahP3c"
      },
      "execution_count": 6,
      "outputs": []
    },
    {
      "cell_type": "code",
      "source": [
        "array_y = []\n",
        "array_y_not_normal = []\n",
        "\n",
        "for i in range(30):\n",
        "  frame= label[i::30]\n",
        "  frame = frame.drop(['koor_x','koor_y','Temp'],axis=1)\n",
        "  array_y_not_normal.append(frame)\n",
        "  frame = remap(frame,0.5,-0.5)\n",
        "  array_y.append(frame)"
      ],
      "metadata": {
        "id": "56GoYouthQZV"
      },
      "execution_count": 7,
      "outputs": []
    },
    {
      "cell_type": "code",
      "source": [
        "from sklearn.model_selection import train_test_split\n",
        "from sklearn.metrics import r2_score as r2\n",
        "from sklearn.metrics import mean_squared_error as mse\n",
        "from sklearn.metrics import mean_absolute_error as mae\n",
        "\n",
        "skor_r2=[]\n",
        "mae_=[]\n",
        "rmse = []\n",
        "y_predict = []\n",
        "y_test = []\n",
        "for i in range(30):\n",
        "  x = np.array(feature)\n",
        "  y = np.array(array_y[i])\n",
        "  model = joblib.load(f'/content/content/models/model {i}')\n",
        "  y_pred = model.predict(x)\n",
        "  Skor_r2 = r2(y,y_pred)\n",
        "  RMSE = mse(y,y_pred,squared=False)\n",
        "  MAE = mae(y,y_pred)\n",
        "  y_predict.append(y_pred)\n",
        "  skor_r2.append(Skor_r2)\n",
        "  mae_.append(MAE)\n",
        "  rmse.append(RMSE)"
      ],
      "metadata": {
        "id": "eMoAM8yBhWvp"
      },
      "execution_count": 8,
      "outputs": []
    },
    {
      "cell_type": "code",
      "source": [
        "skor_r2 = np.array(skor_r2)\n",
        "rmse = np.array(rmse)\n",
        "mae_=np.array(mae_)\n",
        "y_predict = np.array(y_predict)\n",
        "y = np.array(array_y)"
      ],
      "metadata": {
        "id": "3G0C77vBhb6L"
      },
      "execution_count": 9,
      "outputs": []
    },
    {
      "cell_type": "code",
      "source": [
        "y.shape,y_predict.shape"
      ],
      "metadata": {
        "id": "1bqo5_KUsvpm",
        "colab": {
          "base_uri": "https://localhost:8080/"
        },
        "outputId": "f21dc940-0bf1-40e5-b08e-64cd88b0b596"
      },
      "execution_count": 10,
      "outputs": [
        {
          "output_type": "execute_result",
          "data": {
            "text/plain": [
              "((30, 192, 2), (30, 192, 2))"
            ]
          },
          "metadata": {},
          "execution_count": 10
        }
      ]
    },
    {
      "cell_type": "code",
      "source": [
        "#error per skenario\n",
        "\n",
        "r_squared = []\n",
        "abs_error = []\n",
        "sqrt_error = []\n",
        "indexing = 0,1\n",
        "for i in range(192):\n",
        "  a = y[...,i,indexing]\n",
        "  b = y_predict[...,i,indexing]\n",
        "  r_squared.append(r2(a,b))\n",
        "  abs_error.append(mae(a,b))\n",
        "  sqrt_error.append(mse(a,b))"
      ],
      "metadata": {
        "id": "3K5i_Lu_hebD"
      },
      "execution_count": 11,
      "outputs": []
    },
    {
      "cell_type": "code",
      "source": [
        "error = pd.DataFrame(r_squared,columns=['r2'])\n",
        "abs_error = pd.DataFrame(abs_error,columns=['mae'])\n",
        "sqrt_error = pd.DataFrame(sqrt_error,columns=['rmse'])\n",
        "error = error.join(abs_error)\n",
        "error = error.join(sqrt_error)"
      ],
      "metadata": {
        "id": "sQgP16s1hgPc"
      },
      "execution_count": 12,
      "outputs": []
    },
    {
      "cell_type": "code",
      "source": [
        "r2_matrix = skor_r2.reshape(5,6)\n",
        "rmse_matrix = rmse.reshape(5,6)\n",
        "mae_matrix = mae_.reshape(5,6)"
      ],
      "metadata": {
        "id": "5EJQN12chqzR"
      },
      "execution_count": 13,
      "outputs": []
    },
    {
      "cell_type": "code",
      "source": [
        "import numpy as np\n",
        "import seaborn as sns\n",
        "import matplotlib.pylab as plt\n",
        "\n",
        "ax = sns.heatmap(r2_matrix, linewidth=0.5, cmap=\"RdYlBu\")\n",
        "plt.show()"
      ],
      "metadata": {
        "id": "XYPpLAVahtCF",
        "colab": {
          "base_uri": "https://localhost:8080/",
          "height": 265
        },
        "outputId": "55834a51-3483-42cb-9173-8e37ae305841"
      },
      "execution_count": 14,
      "outputs": [
        {
          "output_type": "display_data",
          "data": {
            "text/plain": [
              "<Figure size 432x288 with 2 Axes>"
            ],
            "image/png": "[encoded data removed]"
          },
          "metadata": {
            "needs_background": "light"
          }
        }
      ]
    },
    {
      "cell_type": "code",
      "source": [
        "bx = sns.heatmap(rmse_matrix, linewidth=0.5, cmap=\"RdYlBu_r\")\n",
        "plt.show()"
      ],
      "metadata": {
        "id": "6h3s_5mWhulT",
        "colab": {
          "base_uri": "https://localhost:8080/",
          "height": 265
        },
        "outputId": "a219cc46-0cd5-4f19-faf8-59076174e76a"
      },
      "execution_count": 15,
      "outputs": [
        {
          "output_type": "display_data",
          "data": {
            "text/plain": [
              "<Figure size 432x288 with 2 Axes>"
            ],
            "image/png": "[encoded data removed]"
          },
          "metadata": {
            "needs_background": "light"
          }
        }
      ]
    },
    {
      "cell_type": "code",
      "source": [
        "bx = sns.heatmap(mae_matrix, linewidth=0.5, cmap=\"RdYlBu_r\")\n",
        "plt.show()"
      ],
      "metadata": {
        "id": "j50fu4zjhwWe",
        "colab": {
          "base_uri": "https://localhost:8080/",
          "height": 265
        },
        "outputId": "354bfc84-9b1b-4927-8d42-40fb3d115a9e"
      },
      "execution_count": 16,
      "outputs": [
        {
          "output_type": "display_data",
          "data": {
            "text/plain": [
              "<Figure size 432x288 with 2 Axes>"
            ],
            "image/png": "[encoded data removed]"
          },
          "metadata": {
            "needs_background": "light"
          }
        }
      ]
    },
    {
      "cell_type": "code",
      "source": [
        "#_________break__________"
      ],
      "metadata": {
        "id": "3xK3MyG_EQNU"
      },
      "execution_count": 17,
      "outputs": []
    },
    {
      "cell_type": "code",
      "source": [
        "df_koor = pd.read_excel('data_model.xlsx',sheet_name='koordinat_30_aktual')"
      ],
      "metadata": {
        "id": "1XM3DjsrhyDV"
      },
      "execution_count": 18,
      "outputs": []
    },
    {
      "cell_type": "code",
      "source": [
        "y.shape"
      ],
      "metadata": {
        "colab": {
          "base_uri": "https://localhost:8080/"
        },
        "id": "6gGstsqpEZY0",
        "outputId": "376d43c3-735c-4983-e523-a72cce65b8a0"
      },
      "execution_count": 19,
      "outputs": [
        {
          "output_type": "execute_result",
          "data": {
            "text/plain": [
              "(30, 192, 2)"
            ]
          },
          "metadata": {},
          "execution_count": 19
        }
      ]
    },
    {
      "cell_type": "code",
      "source": [
        "np.array(array_y_not_normal).shape"
      ],
      "metadata": {
        "colab": {
          "base_uri": "https://localhost:8080/"
        },
        "id": "MrdnMZgvEdfy",
        "outputId": "9a7f64fa-bdd9-43c6-c2a5-2bbc161e81fa"
      },
      "execution_count": 20,
      "outputs": [
        {
          "output_type": "execute_result",
          "data": {
            "text/plain": [
              "(30, 192, 2)"
            ]
          },
          "metadata": {},
          "execution_count": 20
        }
      ]
    },
    {
      "cell_type": "code",
      "source": [
        "len(array_y_not_normal) == len(y)"
      ],
      "metadata": {
        "colab": {
          "base_uri": "https://localhost:8080/"
        },
        "id": "pdnjyGaWDBJ6",
        "outputId": "d92b2eae-995d-4b60-e29d-e8ea40888a90"
      },
      "execution_count": 21,
      "outputs": [
        {
          "output_type": "execute_result",
          "data": {
            "text/plain": [
              "True"
            ]
          },
          "metadata": {},
          "execution_count": 21
        }
      ]
    },
    {
      "cell_type": "code",
      "source": [
        "df_y = []\n",
        "df_y_predict = []\n",
        "for i in range(30):\n",
        "  q = pd.DataFrame(y[i],columns=['Vx','Vy'])\n",
        "  q = round(rescale(q,array_y_not_normal[i]),9)\n",
        "  df_y.append(q)\n",
        "  r = round(pd.DataFrame(y_predict[i],columns=['Vx','Vy']),9)\n",
        "  r = rescale(r,array_y_not_normal[i])\n",
        "  df_y_predict.append(r)"
      ],
      "metadata": {
        "id": "f6HKltxm1k-Z"
      },
      "execution_count": 22,
      "outputs": []
    },
    {
      "cell_type": "code",
      "source": [
        "np.array(df_y).shape "
      ],
      "metadata": {
        "colab": {
          "base_uri": "https://localhost:8080/"
        },
        "id": "gPmEP9UfCwv2",
        "outputId": "63892897-be13-4a10-ae11-4d022d5e0d13"
      },
      "execution_count": 23,
      "outputs": [
        {
          "output_type": "execute_result",
          "data": {
            "text/plain": [
              "(30, 192, 2)"
            ]
          },
          "metadata": {},
          "execution_count": 23
        }
      ]
    },
    {
      "cell_type": "code",
      "source": [
        "def kec_angin(y,scenarios):\n",
        "  df_x = pd.DataFrame(y[...,scenarios,0])\n",
        "  df_y = pd.DataFrame(y[...,scenarios,1])\n",
        "  df_y.rename(columns={0:1},inplace=True)\n",
        "  df_x = df_x.join(df_y)\n",
        "  df_x = df_x.join(df_koor)\n",
        "  df_x.rename(columns={0:'Vx',1:'Vy',},inplace=True)\n",
        "  return df_x"
      ],
      "metadata": {
        "id": "2gtG6Axuh0y_"
      },
      "execution_count": 24,
      "outputs": []
    },
    {
      "cell_type": "code",
      "source": [
        "#error per skenario\n",
        "\n",
        "r_squared = []\n",
        "abs_error = []\n",
        "sqrt_error = []\n",
        "indexing = 0,1\n",
        "for i in range(192):\n",
        "  a = kec_angin(np.array(df_y),i)\n",
        "  a.drop(['koor_x','koor_y'],axis=1)\n",
        "  b = kec_angin(np.array(df_y_predict),i)\n",
        "  b.drop(['koor_x','koor_y'],axis=1)\n",
        "  r_squared.append(r2(a,b))\n",
        "  abs_error.append(mae(a,b))\n",
        "  sqrt_error.append(mse(a,b))\n",
        "\n",
        "error = pd.DataFrame(r_squared,columns=['r2'])\n",
        "abs_error = pd.DataFrame(abs_error,columns=['mae'])\n",
        "sqrt_error = pd.DataFrame(sqrt_error,columns=['rmse'])\n",
        "error = error.join(abs_error)\n",
        "error = error.join(sqrt_error)"
      ],
      "metadata": {
        "id": "xhctq4Abe_je"
      },
      "execution_count": 25,
      "outputs": []
    },
    {
      "cell_type": "code",
      "source": [
        "error.describe()"
      ],
      "metadata": {
        "id": "Ly9FNnPsG3jY",
        "outputId": "a6ae31cb-d5b3-4cdf-c11a-ba59941352d6",
        "colab": {
          "base_uri": "https://localhost:8080/",
          "height": 300
        }
      },
      "execution_count": 26,
      "outputs": [
        {
          "output_type": "execute_result",
          "data": {
            "text/plain": [
              "               r2         mae        rmse\n",
              "count  192.000000  192.000000  192.000000\n",
              "mean     0.862953    0.016467    0.001573\n",
              "std      0.169628    0.008232    0.001694\n",
              "min      0.008306    0.008295    0.000300\n",
              "25%      0.823829    0.009636    0.000363\n",
              "50%      0.930258    0.012214    0.000809\n",
              "75%      0.957135    0.023347    0.002067\n",
              "max      0.964932    0.036445    0.007283"
            ],
            "text/html": [
              "\n",
              "  <div id=\"df-62736319-9c8d-49cd-b12a-32f3224db53b\">\n",
              "    <div class=\"colab-df-container\">\n",
              "      <div>\n",
              "<style scoped>\n",
              "    .dataframe tbody tr th:only-of-type {\n",
              "        vertical-align: middle;\n",
              "    }\n",
              "\n",
              "    .dataframe tbody tr th {\n",
              "        vertical-align: top;\n",
              "    }\n",
              "\n",
              "    .dataframe thead th {\n",
              "        text-align: right;\n",
              "    }\n",
              "</style>\n",
              "<table border=\"1\" class=\"dataframe\">\n",
              "  <thead>\n",
              "    <tr style=\"text-align: right;\">\n",
              "      <th></th>\n",
              "      <th>r2</th>\n",
              "      <th>mae</th>\n",
              "      <th>rmse</th>\n",
              "    </tr>\n",
              "  </thead>\n",
              "  <tbody>\n",
              "    <tr>\n",
              "      <th>count</th>\n",
              "      <td>192.000000</td>\n",
              "      <td>192.000000</td>\n",
              "      <td>192.000000</td>\n",
              "    </tr>\n",
              "    <tr>\n",
              "      <th>mean</th>\n",
              "      <td>0.862953</td>\n",
              "      <td>0.016467</td>\n",
              "      <td>0.001573</td>\n",
              "    </tr>\n",
              "    <tr>\n",
              "      <th>std</th>\n",
              "      <td>0.169628</td>\n",
              "      <td>0.008232</td>\n",
              "      <td>0.001694</td>\n",
              "    </tr>\n",
              "    <tr>\n",
              "      <th>min</th>\n",
              "      <td>0.008306</td>\n",
              "      <td>0.008295</td>\n",
              "      <td>0.000300</td>\n",
              "    </tr>\n",
              "    <tr>\n",
              "      <th>25%</th>\n",
              "      <td>0.823829</td>\n",
              "      <td>0.009636</td>\n",
              "      <td>0.000363</td>\n",
              "    </tr>\n",
              "    <tr>\n",
              "      <th>50%</th>\n",
              "      <td>0.930258</td>\n",
              "      <td>0.012214</td>\n",
              "      <td>0.000809</td>\n",
              "    </tr>\n",
              "    <tr>\n",
              "      <th>75%</th>\n",
              "      <td>0.957135</td>\n",
              "      <td>0.023347</td>\n",
              "      <td>0.002067</td>\n",
              "    </tr>\n",
              "    <tr>\n",
              "      <th>max</th>\n",
              "      <td>0.964932</td>\n",
              "      <td>0.036445</td>\n",
              "      <td>0.007283</td>\n",
              "    </tr>\n",
              "  </tbody>\n",
              "</table>\n",
              "</div>\n",
              "      <button class=\"colab-df-convert\" onclick=\"convertToInteractive('df-62736319-9c8d-49cd-b12a-32f3224db53b')\"\n",
              "              title=\"Convert this dataframe to an interactive table.\"\n",
              "              style=\"display:none;\">\n",
              "        \n",
              "  <svg xmlns=\"http://www.w3.org/2000/svg\" height=\"24px\"viewBox=\"0 0 24 24\"\n",
              "       width=\"24px\">\n",
              "    <path d=\"M0 0h24v24H0V0z\" fill=\"none\"/>\n",
              "    <path d=\"M18.56 5.44l.94 2.06.94-2.06 2.06-.94-2.06-.94-.94-2.06-.94 2.06-2.06.94zm-11 1L8.5 8.5l.94-2.06 2.06-.94-2.06-.94L8.5 2.5l-.94 2.06-2.06.94zm10 10l.94 2.06.94-2.06 2.06-.94-2.06-.94-.94-2.06-.94 2.06-2.06.94z\"/><path d=\"M17.41 7.96l-1.37-1.37c-.4-.4-.92-.59-1.43-.59-.52 0-1.04.2-1.43.59L10.3 9.45l-7.72 7.72c-.78.78-.78 2.05 0 2.83L4 21.41c.39.39.9.59 1.41.59.51 0 1.02-.2 1.41-.59l7.78-7.78 2.81-2.81c.8-.78.8-2.07 0-2.86zM5.41 20L4 18.59l7.72-7.72 1.47 1.35L5.41 20z\"/>\n",
              "  </svg>\n",
              "      </button>\n",
              "      \n",
              "  <style>\n",
              "    .colab-df-container {\n",
              "      display:flex;\n",
              "      flex-wrap:wrap;\n",
              "      gap: 12px;\n",
              "    }\n",
              "\n",
              "    .colab-df-convert {\n",
              "      background-color: #E8F0FE;\n",
              "      border: none;\n",
              "      border-radius: 50%;\n",
              "      cursor: pointer;\n",
              "      display: none;\n",
              "      fill: #1967D2;\n",
              "      height: 32px;\n",
              "      padding: 0 0 0 0;\n",
              "      width: 32px;\n",
              "    }\n",
              "\n",
              "    .colab-df-convert:hover {\n",
              "      background-color: #E2EBFA;\n",
              "      box-shadow: 0px 1px 2px rgba(60, 64, 67, 0.3), 0px 1px 3px 1px rgba(60, 64, 67, 0.15);\n",
              "      fill: #174EA6;\n",
              "    }\n",
              "\n",
              "    [theme=dark] .colab-df-convert {\n",
              "      background-color: #3B4455;\n",
              "      fill: #D2E3FC;\n",
              "    }\n",
              "\n",
              "    [theme=dark] .colab-df-convert:hover {\n",
              "      background-color: #434B5C;\n",
              "      box-shadow: 0px 1px 3px 1px rgba(0, 0, 0, 0.15);\n",
              "      filter: drop-shadow(0px 1px 2px rgba(0, 0, 0, 0.3));\n",
              "      fill: #FFFFFF;\n",
              "    }\n",
              "  </style>\n",
              "\n",
              "      <script>\n",
              "        const buttonEl =\n",
              "          document.querySelector('#df-62736319-9c8d-49cd-b12a-32f3224db53b button.colab-df-convert');\n",
              "        buttonEl.style.display =\n",
              "          google.colab.kernel.accessAllowed ? 'block' : 'none';\n",
              "\n",
              "        async function convertToInteractive(key) {\n",
              "          const element = document.querySelector('#df-62736319-9c8d-49cd-b12a-32f3224db53b');\n",
              "          const dataTable =\n",
              "            await google.colab.kernel.invokeFunction('convertToInteractive',\n",
              "                                                     [key], {});\n",
              "          if (!dataTable) return;\n",
              "\n",
              "          const docLinkHtml = 'Like what you see? Visit the ' +\n",
              "            '<a target=\"_blank\" href=https://colab.research.google.com/notebooks/data_table.ipynb>data table notebook</a>'\n",
              "            + ' to learn more about interactive tables.';\n",
              "          element.innerHTML = '';\n",
              "          dataTable['output_type'] = 'display_data';\n",
              "          await google.colab.output.renderOutput(dataTable, element);\n",
              "          const docLink = document.createElement('div');\n",
              "          docLink.innerHTML = docLinkHtml;\n",
              "          element.appendChild(docLink);\n",
              "        }\n",
              "      </script>\n",
              "    </div>\n",
              "  </div>\n",
              "  "
            ]
          },
          "metadata": {},
          "execution_count": 26
        }
      ]
    },
    {
      "cell_type": "code",
      "source": [
        "error[error.r2 == error.r2.max()]"
      ],
      "metadata": {
        "id": "ASCn_mHwfw5A",
        "outputId": "3f9e7766-9f09-454e-9f2e-0ef75a8ac81a",
        "colab": {
          "base_uri": "https://localhost:8080/",
          "height": 81
        }
      },
      "execution_count": 27,
      "outputs": [
        {
          "output_type": "execute_result",
          "data": {
            "text/plain": [
              "          r2       mae    rmse\n",
              "13  0.964932  0.009099  0.0003"
            ],
            "text/html": [
              "\n",
              "  <div id=\"df-2e3ac361-7b0c-4c80-8d00-4105adfde5ed\">\n",
              "    <div class=\"colab-df-container\">\n",
              "      <div>\n",
              "<style scoped>\n",
              "    .dataframe tbody tr th:only-of-type {\n",
              "        vertical-align: middle;\n",
              "    }\n",
              "\n",
              "    .dataframe tbody tr th {\n",
              "        vertical-align: top;\n",
              "    }\n",
              "\n",
              "    .dataframe thead th {\n",
              "        text-align: right;\n",
              "    }\n",
              "</style>\n",
              "<table border=\"1\" class=\"dataframe\">\n",
              "  <thead>\n",
              "    <tr style=\"text-align: right;\">\n",
              "      <th></th>\n",
              "      <th>r2</th>\n",
              "      <th>mae</th>\n",
              "      <th>rmse</th>\n",
              "    </tr>\n",
              "  </thead>\n",
              "  <tbody>\n",
              "    <tr>\n",
              "      <th>13</th>\n",
              "      <td>0.964932</td>\n",
              "      <td>0.009099</td>\n",
              "      <td>0.0003</td>\n",
              "    </tr>\n",
              "  </tbody>\n",
              "</table>\n",
              "</div>\n",
              "      <button class=\"colab-df-convert\" onclick=\"convertToInteractive('df-2e3ac361-7b0c-4c80-8d00-4105adfde5ed')\"\n",
              "              title=\"Convert this dataframe to an interactive table.\"\n",
              "              style=\"display:none;\">\n",
              "        \n",
              "  <svg xmlns=\"http://www.w3.org/2000/svg\" height=\"24px\"viewBox=\"0 0 24 24\"\n",
              "       width=\"24px\">\n",
              "    <path d=\"M0 0h24v24H0V0z\" fill=\"none\"/>\n",
              "    <path d=\"M18.56 5.44l.94 2.06.94-2.06 2.06-.94-2.06-.94-.94-2.06-.94 2.06-2.06.94zm-11 1L8.5 8.5l.94-2.06 2.06-.94-2.06-.94L8.5 2.5l-.94 2.06-2.06.94zm10 10l.94 2.06.94-2.06 2.06-.94-2.06-.94-.94-2.06-.94 2.06-2.06.94z\"/><path d=\"M17.41 7.96l-1.37-1.37c-.4-.4-.92-.59-1.43-.59-.52 0-1.04.2-1.43.59L10.3 9.45l-7.72 7.72c-.78.78-.78 2.05 0 2.83L4 21.41c.39.39.9.59 1.41.59.51 0 1.02-.2 1.41-.59l7.78-7.78 2.81-2.81c.8-.78.8-2.07 0-2.86zM5.41 20L4 18.59l7.72-7.72 1.47 1.35L5.41 20z\"/>\n",
              "  </svg>\n",
              "      </button>\n",
              "      \n",
              "  <style>\n",
              "    .colab-df-container {\n",
              "      display:flex;\n",
              "      flex-wrap:wrap;\n",
              "      gap: 12px;\n",
              "    }\n",
              "\n",
              "    .colab-df-convert {\n",
              "      background-color: #E8F0FE;\n",
              "      border: none;\n",
              "      border-radius: 50%;\n",
              "      cursor: pointer;\n",
              "      display: none;\n",
              "      fill: #1967D2;\n",
              "      height: 32px;\n",
              "      padding: 0 0 0 0;\n",
              "      width: 32px;\n",
              "    }\n",
              "\n",
              "    .colab-df-convert:hover {\n",
              "      background-color: #E2EBFA;\n",
              "      box-shadow: 0px 1px 2px rgba(60, 64, 67, 0.3), 0px 1px 3px 1px rgba(60, 64, 67, 0.15);\n",
              "      fill: #174EA6;\n",
              "    }\n",
              "\n",
              "    [theme=dark] .colab-df-convert {\n",
              "      background-color: #3B4455;\n",
              "      fill: #D2E3FC;\n",
              "    }\n",
              "\n",
              "    [theme=dark] .colab-df-convert:hover {\n",
              "      background-color: #434B5C;\n",
              "      box-shadow: 0px 1px 3px 1px rgba(0, 0, 0, 0.15);\n",
              "      filter: drop-shadow(0px 1px 2px rgba(0, 0, 0, 0.3));\n",
              "      fill: #FFFFFF;\n",
              "    }\n",
              "  </style>\n",
              "\n",
              "      <script>\n",
              "        const buttonEl =\n",
              "          document.querySelector('#df-2e3ac361-7b0c-4c80-8d00-4105adfde5ed button.colab-df-convert');\n",
              "        buttonEl.style.display =\n",
              "          google.colab.kernel.accessAllowed ? 'block' : 'none';\n",
              "\n",
              "        async function convertToInteractive(key) {\n",
              "          const element = document.querySelector('#df-2e3ac361-7b0c-4c80-8d00-4105adfde5ed');\n",
              "          const dataTable =\n",
              "            await google.colab.kernel.invokeFunction('convertToInteractive',\n",
              "                                                     [key], {});\n",
              "          if (!dataTable) return;\n",
              "\n",
              "          const docLinkHtml = 'Like what you see? Visit the ' +\n",
              "            '<a target=\"_blank\" href=https://colab.research.google.com/notebooks/data_table.ipynb>data table notebook</a>'\n",
              "            + ' to learn more about interactive tables.';\n",
              "          element.innerHTML = '';\n",
              "          dataTable['output_type'] = 'display_data';\n",
              "          await google.colab.output.renderOutput(dataTable, element);\n",
              "          const docLink = document.createElement('div');\n",
              "          docLink.innerHTML = docLinkHtml;\n",
              "          element.appendChild(docLink);\n",
              "        }\n",
              "      </script>\n",
              "    </div>\n",
              "  </div>\n",
              "  "
            ]
          },
          "metadata": {},
          "execution_count": 27
        }
      ]
    },
    {
      "cell_type": "code",
      "source": [
        "error[error.r2 == error.r2.min()]"
      ],
      "metadata": {
        "id": "VNa759oDfyvI",
        "outputId": "b185a5ea-7a24-4a46-f87b-a659e54f2b5e",
        "colab": {
          "base_uri": "https://localhost:8080/",
          "height": 81
        }
      },
      "execution_count": 28,
      "outputs": [
        {
          "output_type": "execute_result",
          "data": {
            "text/plain": [
              "           r2      mae      rmse\n",
              "144  0.008306  0.03253  0.006329"
            ],
            "text/html": [
              "\n",
              "  <div id=\"df-7ea420e5-912f-48bf-a522-838249111813\">\n",
              "    <div class=\"colab-df-container\">\n",
              "      <div>\n",
              "<style scoped>\n",
              "    .dataframe tbody tr th:only-of-type {\n",
              "        vertical-align: middle;\n",
              "    }\n",
              "\n",
              "    .dataframe tbody tr th {\n",
              "        vertical-align: top;\n",
              "    }\n",
              "\n",
              "    .dataframe thead th {\n",
              "        text-align: right;\n",
              "    }\n",
              "</style>\n",
              "<table border=\"1\" class=\"dataframe\">\n",
              "  <thead>\n",
              "    <tr style=\"text-align: right;\">\n",
              "      <th></th>\n",
              "      <th>r2</th>\n",
              "      <th>mae</th>\n",
              "      <th>rmse</th>\n",
              "    </tr>\n",
              "  </thead>\n",
              "  <tbody>\n",
              "    <tr>\n",
              "      <th>144</th>\n",
              "      <td>0.008306</td>\n",
              "      <td>0.03253</td>\n",
              "      <td>0.006329</td>\n",
              "    </tr>\n",
              "  </tbody>\n",
              "</table>\n",
              "</div>\n",
              "      <button class=\"colab-df-convert\" onclick=\"convertToInteractive('df-7ea420e5-912f-48bf-a522-838249111813')\"\n",
              "              title=\"Convert this dataframe to an interactive table.\"\n",
              "              style=\"display:none;\">\n",
              "        \n",
              "  <svg xmlns=\"http://www.w3.org/2000/svg\" height=\"24px\"viewBox=\"0 0 24 24\"\n",
              "       width=\"24px\">\n",
              "    <path d=\"M0 0h24v24H0V0z\" fill=\"none\"/>\n",
              "    <path d=\"M18.56 5.44l.94 2.06.94-2.06 2.06-.94-2.06-.94-.94-2.06-.94 2.06-2.06.94zm-11 1L8.5 8.5l.94-2.06 2.06-.94-2.06-.94L8.5 2.5l-.94 2.06-2.06.94zm10 10l.94 2.06.94-2.06 2.06-.94-2.06-.94-.94-2.06-.94 2.06-2.06.94z\"/><path d=\"M17.41 7.96l-1.37-1.37c-.4-.4-.92-.59-1.43-.59-.52 0-1.04.2-1.43.59L10.3 9.45l-7.72 7.72c-.78.78-.78 2.05 0 2.83L4 21.41c.39.39.9.59 1.41.59.51 0 1.02-.2 1.41-.59l7.78-7.78 2.81-2.81c.8-.78.8-2.07 0-2.86zM5.41 20L4 18.59l7.72-7.72 1.47 1.35L5.41 20z\"/>\n",
              "  </svg>\n",
              "      </button>\n",
              "      \n",
              "  <style>\n",
              "    .colab-df-container {\n",
              "      display:flex;\n",
              "      flex-wrap:wrap;\n",
              "      gap: 12px;\n",
              "    }\n",
              "\n",
              "    .colab-df-convert {\n",
              "      background-color: #E8F0FE;\n",
              "      border: none;\n",
              "      border-radius: 50%;\n",
              "      cursor: pointer;\n",
              "      display: none;\n",
              "      fill: #1967D2;\n",
              "      height: 32px;\n",
              "      padding: 0 0 0 0;\n",
              "      width: 32px;\n",
              "    }\n",
              "\n",
              "    .colab-df-convert:hover {\n",
              "      background-color: #E2EBFA;\n",
              "      box-shadow: 0px 1px 2px rgba(60, 64, 67, 0.3), 0px 1px 3px 1px rgba(60, 64, 67, 0.15);\n",
              "      fill: #174EA6;\n",
              "    }\n",
              "\n",
              "    [theme=dark] .colab-df-convert {\n",
              "      background-color: #3B4455;\n",
              "      fill: #D2E3FC;\n",
              "    }\n",
              "\n",
              "    [theme=dark] .colab-df-convert:hover {\n",
              "      background-color: #434B5C;\n",
              "      box-shadow: 0px 1px 3px 1px rgba(0, 0, 0, 0.15);\n",
              "      filter: drop-shadow(0px 1px 2px rgba(0, 0, 0, 0.3));\n",
              "      fill: #FFFFFF;\n",
              "    }\n",
              "  </style>\n",
              "\n",
              "      <script>\n",
              "        const buttonEl =\n",
              "          document.querySelector('#df-7ea420e5-912f-48bf-a522-838249111813 button.colab-df-convert');\n",
              "        buttonEl.style.display =\n",
              "          google.colab.kernel.accessAllowed ? 'block' : 'none';\n",
              "\n",
              "        async function convertToInteractive(key) {\n",
              "          const element = document.querySelector('#df-7ea420e5-912f-48bf-a522-838249111813');\n",
              "          const dataTable =\n",
              "            await google.colab.kernel.invokeFunction('convertToInteractive',\n",
              "                                                     [key], {});\n",
              "          if (!dataTable) return;\n",
              "\n",
              "          const docLinkHtml = 'Like what you see? Visit the ' +\n",
              "            '<a target=\"_blank\" href=https://colab.research.google.com/notebooks/data_table.ipynb>data table notebook</a>'\n",
              "            + ' to learn more about interactive tables.';\n",
              "          element.innerHTML = '';\n",
              "          dataTable['output_type'] = 'display_data';\n",
              "          await google.colab.output.renderOutput(dataTable, element);\n",
              "          const docLink = document.createElement('div');\n",
              "          docLink.innerHTML = docLinkHtml;\n",
              "          element.appendChild(docLink);\n",
              "        }\n",
              "      </script>\n",
              "    </div>\n",
              "  </div>\n",
              "  "
            ]
          },
          "metadata": {},
          "execution_count": 28
        }
      ]
    },
    {
      "cell_type": "code",
      "source": [
        "import plotly.graph_objects as go\n",
        "from plotly.figure_factory import create_quiver\n",
        "\n",
        "def tampilan_vektor(Y,scale,arrow):\n",
        "  x = Y['koor_x']\n",
        "  y = Y['koor_y']\n",
        "  u = Y['Vx']\n",
        "  v = Y['Vy']\n",
        "\n",
        "  fig = create_quiver(x,y,u,v, scale=scale, arrow_scale=arrow)\n",
        "  \n",
        "  fig.show()"
      ],
      "metadata": {
        "id": "1syZuX5KtYG5"
      },
      "execution_count": 29,
      "outputs": []
    },
    {
      "cell_type": "code",
      "source": [
        "import plotly.figure_factory as ff\n",
        "import plotly.graph_objs as go\n",
        "import numpy as np\n",
        "def tampilan_vektor_heatmap(Y):\n",
        "  x = Y['koor_x']\n",
        "  y = Y['koor_y']\n",
        "  a = Y['Vx']\n",
        "  b = Y['Vy']\n",
        "  angle = np.arctan(b / a)\n",
        "  norm = 0.5\n",
        "  u = norm * np.cos(angle)\n",
        "  v = norm * np.sin(angle)\n",
        "  f = ff.create_quiver(x, y, u, v, scale = 1, scaleratio = 0.5)\n",
        "  trace1 = f.data[0]\n",
        "  trace2 = go.Contour(\n",
        "       x = (x*1.2)-0.5,\n",
        "       y = (y*1.2)-0.5,\n",
        "       z = ((a**2)+(b**2))**0.5,\n",
        "       colorscale = 'ylgnbu'\n",
        "   )\n",
        "  data=[trace1,trace2]\n",
        "  fig = go.FigureWidget(data)\n",
        "  fig.show()"
      ],
      "metadata": {
        "id": "ePZ3rMuWiFmi"
      },
      "execution_count": 30,
      "outputs": []
    },
    {
      "cell_type": "code",
      "source": [
        "def tampilan_vektor_subplot(Y):\n",
        "  x = Y['koor_x']\n",
        "  y = Y['koor_y']\n",
        "  a = Y['Vx']\n",
        "  b = Y['Vy']\n",
        "  angle = np.arctan(b / a)\n",
        "  norm = 0.5\n",
        "  u = norm * np.cos(angle)\n",
        "  v = norm * np.sin(angle)\n",
        "  f = ff.create_quiver(x, y, u, v, scale = 1, scaleratio = 0.5)\n",
        "  return f"
      ],
      "metadata": {
        "id": "D5_9tiTO95Gk"
      },
      "execution_count": 31,
      "outputs": []
    },
    {
      "cell_type": "code",
      "source": [
        "scenarios=144\n",
        "angin_test = kec_angin(np.array(df_y),scenarios)\n",
        "angin_pred = kec_angin(np.array(df_y_predict),scenarios)"
      ],
      "metadata": {
        "id": "iv0kMusziQdR"
      },
      "execution_count": 32,
      "outputs": []
    },
    {
      "cell_type": "code",
      "source": [
        "import numpy as np\n",
        "from plotly.subplots import make_subplots\n",
        "import plotly.graph_objects as go\n",
        "import plotly.figure_factory as ff\n",
        "\n",
        "fig1 = tampilan_vektor_subplot(angin_test)\n",
        "fig2 = tampilan_vektor_subplot(angin_pred) \n",
        " \n",
        "# subplot setup\n",
        "subplots = make_subplots(rows=1, cols=2)\n",
        "\n",
        "# add all fig1.data as individual traces in fig at row=1, col=1\n",
        "for d in fig1.data:\n",
        "    subplots.add_trace(go.Scatter(x=d['x'], y=d['y']),\n",
        "                  row=1, col=1)\n",
        "\n",
        "# add all fig2.data as individual traces in fig at row=1, col=2\n",
        "for d in fig2.data:\n",
        "    subplots.add_trace(go.Scatter(x=d['x'], y=d['y']),\n",
        "                  row=1, col=2)\n",
        "    \n",
        "subplots.update_layout(showlegend=False)\n",
        "\n",
        "subplots.add_contour( x = (angin_test['koor_x']*1.2)-0.5,\n",
        "                      y = (angin_test['koor_y']*1.3)-0.9,\n",
        "                      z = ((angin_test['Vx']**2)+(angin_test['Vy']**2))**0.5,\n",
        "                      colorscale = 'ylgnbu',\n",
        "                      row = 1, col = 1\n",
        "                     )\n",
        "\n",
        "subplots.add_contour( x = (angin_pred['koor_x']*1.2)-0.5,\n",
        "                      y = (angin_pred['koor_y']*1.3)-0.9,\n",
        "                      z = ((angin_pred['Vx']**2)+(angin_pred['Vy']**2))**0.5,\n",
        "                      colorscale = 'ylgnbu',\n",
        "                      row = 1, col = 2\n",
        "                     )\n",
        "subplots.show()"
      ],
      "metadata": {
        "colab": {
          "base_uri": "https://localhost:8080/",
          "height": 542
        },
        "id": "uIgqrRCP1K6y",
        "outputId": "38c45388-e9a1-4ebb-a29c-f542ca64df48"
      },
      "execution_count": 33,
      "outputs": [
        {
          "output_type": "display_data",
          "data": {
            "text/html": [
              "<html>\n",
              "<head><meta charset=\"utf-8\" /></head>\n",
              "<body>\n",
              "    <div>            <script src=\"https://cdnjs.cloudflare.com/ajax/libs/mathjax/2.7.5/MathJax.js?config=TeX-AMS-MML_SVG\"></script><script type=\"text/javascript\">if (window.MathJax) {MathJax.Hub.Config({SVG: {font: \"STIX-Web\"}});}</script>                <script type=\"text/javascript\">window.PlotlyConfig = {MathJaxConfig: 'local'};</script>\n",
              "        <script src=\"https://cdn.plot.ly/plotly-2.8.3.min.js\"></script>                <div id=\"d7c018b3-2d03-4139-9eb1-7183a12c4aca\" class=\"plotly-graph-div\" style=\"height:525px; width:100%;\"></div>            <script type=\"text/javascript\">                                    window.PLOTLYENV=window.PLOTLYENV || {};                                    if (document.getElementById(\"d7c018b3-2d03-4139-9eb1-7183a12c4aca\")) {                    Plotly.newPlot(                        \"d7c018b3-2d03-4139-9eb1-7183a12c4aca\",                        [{\"x\":[1,1.0145661710064464,null,1,1.2499949644495247,null,1,1.2271394394303523,null,1,1.2359221407610508,null,1,1.0195900254495718,null,1,1.0011231607227162,null,2,2.1217714705625506,null,2,2.1684335580173872,null,2,2.0764733185642497,null,2,2.1325246740037964,null,2,2.2122016723445266,null,2,2.200170733391486,null,3,3.2105187426660784,null,3,3.174901727082634,null,3,3.1529750780568344,null,3,3.1588505097092976,null,3,3.158235236506362,null,3,3.0591859844871747,null,4,4.24860247347186,null,4,4.228596086206949,null,4,4.207077099044027,null,4,4.2442638854693,null,4,4.244172799959145,null,5,5.249042366547762,null,5,5.175660893956733,null,5,5.249741421883294,null,5,5.238902432085853,null,5,5.230839673931539,null,5,5.24785062887075,null,5,5.240008144901192,null,1.036067787184855,1.0145661710064464,0.9848519207833198,null,1.1793566281430883,1.2499949644495247,1.179682246759849,null,1.173823219090424,1.2271394394303523,1.1523909066969906,null,1.160927430947813,1.2359221407610508,1.1779002737223843,null,1.0396400801691608,1.0195900254495718,0.9884948093164003,null,1.026457784844911,1.0011231607227162,0.9751552810946656,null,2.109845996356465,2.1217714705625506,2.06504029338271,null,2.139906619316842,2.1684335580173872,2.10199503378094,null,2.0793368209567364,2.0764733185642497,2.0304929682866617,null,2.116915774627372,2.1325246740037964,2.0734140984401654,null,2.165942407639203,2.2122016723445266,2.138818329677502,null,2.1591085660818,2.200170733391486,2.1283735240620025,null,3.1650072815003436,3.2105187426660784,3.137336458419548,null,3.143924289467751,3.174901727082634,3.1072668473161595,null,3.1301388874100042,3.1529750780568344,3.0895615374951713,null,3.1338769358919367,3.1588505097092976,3.0942616924575144,null,3.1334868928693957,3.158235236506362,3.093768089687323,null,3.067423286294132,3.0591859844871747,3.017578702954289,null,4.175810992140688,4.24860247347186,4.181228008904653,null,4.174538012366952,4.228596086206949,4.15376812683742,null,4.16307228684775,4.207077099044027,4.134328618097049,null,4.180867372716848,4.2442638854693,4.169940615801754,null,4.169832508941678,4.244172799959145,4.180844663985667,null,5.181078446439816,5.249042366547762,5.176592322190913,null,5.14439284725108,5.175660893956733,5.107888593175308,null,5.180503754358204,5.249741421883294,5.178170986659397,null,5.179111820686379,5.238902432085853,5.163996131973997,null,5.155915571680575,5.230839673931539,5.175612773275646,null,5.181336041256806,5.24785062887075,5.1746231722805,null,5.1795275371706975,5.240008144901192,5.165168423016387,null],\"y\":[1,1.499150585143245,null,2,1.9968265161851355,null,3,3.2088796309386374,null,4,3.834582425374776,null,5,5.498462559889447,null,6,6.499994954014502,null,1,1.4366770383568797,null,2,2.3694868686900983,null,3,3.4760329045256046,null,4,4.423967974168746,null,5,5.264351661649298,null,6,6.299544170322271,null,1,1.2696802475992148,null,2,2.3572639688718233,null,3,3.395467447426488,null,4,4.386090743556985,null,5,5.387100038376519,null,6,6.485786040311098,null,1,0.9472056751658667,null,2,2.2024236090071057,null,3,3.28013621723376,null,4,4.106492333159546,null,5,4.892675375423695,null,6,6.043721832728741,null,1,1.3557709956380437,null,2,2.02273518820777,null,3,3.1473177238958634,null,4,3.8080307843514385,null,5,5.065423719502144,null,6,6.139944137156056,null,1.3554469943500238,1.499150585143245,1.361425303024421,null,1.946419157839006,1.9968265161851355,2.049023134125072,null,3.1033830784136525,3.2088796309386374,3.1966065947683098,null,3.832800853003788,3.834582425374776,3.9296290022799396,null,5.353921973122387,5.498462559889447,5.361962193096806,null,6.3588119972444,6.499994954014502,6.359272969554033,null,1.2885854036848297,1.4366770383568797,1.3385633586625667,null,2.2307610417021095,2.3694868686900983,2.2998902452868606,null,3.326142273009846,3.4760329045256046,3.357528771460967,null,4.27725243633779,4.423967974168746,4.33164376593415,null,5.146282522092463,5.264351661649298,5.233375217759529,null,6.174022882632392,6.299544170322271,6.256177790141384,null,1.15045429568337,1.2696802475992148,1.23685627633064,null,2.220656526046536,2.3572639688718233,2.2924404225641872,null,3.2525897599208227,3.395467447426488,3.315374429667527,null,4.244650712295835,4.386090743556985,4.30984680121359,null,5.245501740544566,5.387100038376519,5.310445306467458,null,6.33669349376445,6.485786040311098,6.360984852441059,null,0.9110725742408927,0.9472056751658667,1.0131050385704463,null,2.0984481378091444,2.2024236090071057,2.1922694972109693,null,3.1586689129322263,3.28013621723376,3.2436583598456283,null,4.026345413796959,4.106492333159546,4.126597216737953,null,4.872823813123633,4.892675375423695,4.97303823236954,null,5.9802898041135135,6.043721832728741,6.082502811194508,null,1.219428643374148,1.3557709956380437,1.2915241203275043,null,1.9650760034863357,2.02273518820777,2.067575919774592,null,3.0567620440413754,3.1473177238958634,3.1548133769168003,null,3.814777309942353,3.8080307843514385,3.9095194919783314,null,4.996118319004146,5.065423719502144,5.097842208135823,null,6.051240223182657,6.139944137156056,6.149745367324777,null],\"type\":\"scatter\",\"xaxis\":\"x\",\"yaxis\":\"y\"},{\"x\":[1,1.0094283197767833,null,1,1.0174709956825454,null,1,1.01682559763012,null,1,1.0321651738932751,null,1,1.0573155671635885,null,1,1.0207057317915114,null,2,2.230186240089005,null,2,2.2282604776741883,null,2,2.1953122777417575,null,2,2.231648216396805,null,2,2.2444199203438058,null,2,2.2039843371514696,null,3,3.2349352273971355,null,3,3.207968190033764,null,3,3.114013407956835,null,3,3.1629381752565577,null,3,3.179933278291883,null,3,3.0972738879628317,null,4,4.232188008309312,null,4,4.211776410817808,null,4,4.168615946591993,null,4,4.2107057082701695,null,4,4.236896224236078,null,5,5.248993479555704,null,5,5.17550224686924,null,5,5.206013742493296,null,5,5.212438052456458,null,5,5.243476924667142,null,5,5.200934343739609,null,5,5.224947405534707,null,1.0324036653172117,1.0094283197767833,0.981137140723963,null,1.0381345819982775,1.0174709956825454,0.986956989934411,null,1.0376756797698898,1.01682559763012,0.986488981530348,null,1.0485358735989478,1.0321651738932751,0.9976592482553187,null,1.0661261372165867,1.0573155671635885,1.0161895877987204,null,1.040432004102203,1.0207057317915114,0.9893052454573463,null,2.175303268111186,2.230186240089005,2.155286625335969,null,2.1743744443760007,2.2282604776741883,2.153449699079875,null,2.1562643958756538,2.1953122777417575,2.124240055922171,null,2.175991442423999,2.231648216396805,2.1566981186298344,null,2.1809054503841283,2.2444199203438058,2.170126632991391,null,2.1613097371718686,2.2039843371514696,2.1316493913047863,null,3.1774750869206803,3.2349352273971355,3.159935228144942,null,3.163576064683475,3.207968190033764,3.1351046112642953,null,3.1047007613444735,3.114013407956835,3.0590435196925814,null,3.136459550045537,3.1629381752565577,3.0975497199078332,null,3.1470172693370286,3.179933278291883,3.1114001029399176,null,3.0934817265816683,3.0972738879628317,3.0462215165156983,null,4.176241456437815,4.232188008309312,4.1572233453548675,null,4.165706833663998,4.211776410817808,4.1384431496704055,null,4.140020512190902,4.168615946591993,4.102143084537488,null,4.165111543575416,4.2107057082701695,4.137500713433554,null,4.178309096675382,4.236896224236078,4.161917571512763,null,5.181099769739916,5.248993479555704,5.176500788154111,null,5.144294984266468,5.17550224686924,5.10775860968339,null,5.162468697836377,5.206013742493296,5.133405030989351,null,5.166073133920151,5.212438052456458,5.139027088832287,null,5.180660352460086,5.243476924667142,5.169017415209383,null,5.159551632048861,5.200934343739609,5.129027143385616,null,5.172725350282864,5.224947405534707,5.150340610559011,null],\"y\":[1,1.4996443006226998,null,2,2.4987775628869464,null,3,3.498866311808642,null,4,4.495844336817172,null,5,5.486682343056398,null,6,6.498282139639694,null,1,1.1950824940755773,null,2,2.203932874563679,null,3,3.3121096868943773,null,4,4.188033016677166,null,5,5.105050512404797,null,6,6.2890701658551125,null,1,1.170943720889142,null,2,2.2774832026201235,null,3,3.444976146803706,null,4,4.379215775220722,null,5,5.347125426110711,null,6,6.460598700478386,null,1,1.1853507895570412,null,2,2.265712264083743,null,3,3.3691539654663685,null,4,4.269095555536438,null,5,5.159752044652827,null,6,6.044821741989494,null,1,1.3560840425733685,null,2,2.2832549233740225,null,3,3.2635911521163568,null,4,4.113472237214765,null,5,5.297492114221083,null,6,6.218162001670354,null,1.3568558767600083,1.4996443006226998,1.360725487097659,null,2.3545830248409816,2.4987775628869464,2.361753543777845,null,3.354779198231267,3.498866311808642,3.361684830206859,null,4.349461275076455,4.495844336817172,4.362662639938542,null,5.33772095402768,5.486682343056398,5.361244648222979,null,6.353563458320046,6.498282139639694,6.362061591146041,null,1.0928502215412752,1.1950824940755773,1.1873242185334811,null,2.099600800580908,2.203932874563679,2.1932844181285613,null,3.184043096063344,3.3121096868943773,3.2642039759351427,null,4.08748803150257,4.188033016677166,4.182562058910375,null,5.025278033297245,5.105050512404797,5.12559387672241,null,6.165718983994847,6.2890701658551125,6.249439086669333,null,1.0745418068744081,1.170943720889142,1.1709649030503484,null,2.1565809411543553,2.2774832026201235,2.241936113349389,null,3.2961369770522824,3.444976146803706,3.342930835608816,null,4.238875012689883,4.379215775220722,4.305748778355248,null,5.212343582311423,5.347125426110711,5.28619254906796,null,6.3107905630217145,6.460598700478386,6.350714117945186,null,1.0854511732676917,1.1853507895570412,1.1807467443242348,null,2.1473468289116586,2.265712264083743,2.2342649869687414,null,3.2304845581493558,3.3691539654663685,3.29968861841382,null,4.149996065264015,4.269095555536438,4.236474781114535,null,5.066102731058191,5.159752044652827,5.16333066773803,null,5.981089672591125,6.044821741989494,6.0832826152688835,null,1.219685996240709,1.3560840425733685,1.2917163605945423,null,2.1611266451445,2.2832549233740225,2.245679664826037,null,3.1456878980625076,3.2635911521163568,3.2328776098412884,null,4.031519122419641,4.113472237214765,4.13144793762502,null,5.172392615051496,5.297492114221083,5.254860926705341,null,6.110498508409669,6.218162001670354,6.202822361067731,null],\"type\":\"scatter\",\"xaxis\":\"x2\",\"yaxis\":\"y2\"},{\"colorscale\":[[0.0,\"rgb(255,255,217)\"],[0.125,\"rgb(237,248,177)\"],[0.25,\"rgb(199,233,180)\"],[0.375,\"rgb(127,205,187)\"],[0.5,\"rgb(65,182,196)\"],[0.625,\"rgb(29,145,192)\"],[0.75,\"rgb(34,94,168)\"],[0.875,\"rgb(37,52,148)\"],[1.0,\"rgb(8,29,88)\"]],\"x\":[0.7,0.7,0.7,0.7,0.7,0.7,1.9,1.9,1.9,1.9,1.9,1.9,3.0999999999999996,3.0999999999999996,3.0999999999999996,3.0999999999999996,3.0999999999999996,3.0999999999999996,4.3,4.3,4.3,4.3,4.3,5.5,5.5,5.5,5.5,5.5,5.5,5.5],\"y\":[0.4,1.7000000000000002,3.0000000000000004,4.3,5.6,6.9,0.4,1.7000000000000002,3.0000000000000004,4.3,5.6,6.9,0.4,1.7000000000000002,3.0000000000000004,4.3,5.6,6.9,0.4,1.7000000000000002,3.0000000000000004,4.3,5.6,6.9,0.4,1.7000000000000002,3.0000000000000004,4.3,5.6,6.9],\"z\":[0.08629704398250557,0.03489934294961189,0.0419217156821405,0.0491512314723553,0.14737015056114186,0.16411720626608564,0.17680840923195207,0.2511685200857235,0.2700635056480327,0.13939116537250137,0.12910654613277206,0.007860677099696947,0.16631416427151996,0.1984806086768872,0.28459769756629955,0.23869422936941778,0.2757067086523798,0.2262762479333616,0.11406079193017214,0.17818938056150266,0.15904147610739824,0.07230499390471622,0.060344282829477104,0.0066611457439786585,0.011064329437368764,0.13407410451778112,0.0917116395957254,0.10515402134556386,0.06910288094903949,0.0654895066434969],\"type\":\"contour\",\"xaxis\":\"x\",\"yaxis\":\"y\"},{\"colorscale\":[[0.0,\"rgb(255,255,217)\"],[0.125,\"rgb(237,248,177)\"],[0.25,\"rgb(199,233,180)\"],[0.375,\"rgb(127,205,187)\"],[0.5,\"rgb(65,182,196)\"],[0.625,\"rgb(29,145,192)\"],[0.75,\"rgb(34,94,168)\"],[0.875,\"rgb(37,52,148)\"],[1.0,\"rgb(8,29,88)\"]],\"x\":[0.7,0.7,0.7,0.7,0.7,0.7,1.9,1.9,1.9,1.9,1.9,1.9,3.0999999999999996,3.0999999999999996,3.0999999999999996,3.0999999999999996,3.0999999999999996,3.0999999999999996,4.3,4.3,4.3,4.3,4.3,5.5,5.5,5.5,5.5,5.5,5.5,5.5],\"y\":[0.4,1.7000000000000002,3.0000000000000004,4.3,5.6,6.9,0.4,1.7000000000000002,3.0000000000000004,4.3,5.6,6.9,0.4,1.7000000000000002,3.0000000000000004,4.3,5.6,6.9,0.4,1.7000000000000002,3.0000000000000004,4.3,5.6,6.9,0.4,1.7000000000000002,3.0000000000000004,4.3,5.6,6.9],\"z\":[0.38201531319676396,0.3471906401461074,0.3982181247015032,0.4036961089178934,0.3493107832806826,0.4063172086675091,0.1964827212295564,0.29094825783852885,0.2977719040273967,0.21422825269531778,0.17023518883804425,0.007841349770585856,0.17709380898627092,0.2640017173884597,0.2601424511538224,0.20700144535199014,0.18854529051257837,0.18392431330575582,0.13138873170558224,0.1095142792206016,0.09599598268469729,0.08767282052434841,0.09754229661867628,0.006405866998614806,0.010629034047489463,0.1389131310354719,0.0989351431528424,0.11979434062529472,0.08688493793766619,0.09291386651467957],\"type\":\"contour\",\"xaxis\":\"x2\",\"yaxis\":\"y2\"}],                        {\"template\":{\"data\":{\"bar\":[{\"error_x\":{\"color\":\"#2a3f5f\"},\"error_y\":{\"color\":\"#2a3f5f\"},\"marker\":{\"line\":{\"color\":\"#E5ECF6\",\"width\":0.5},\"pattern\":{\"fillmode\":\"overlay\",\"size\":10,\"solidity\":0.2}},\"type\":\"bar\"}],\"barpolar\":[{\"marker\":{\"line\":{\"color\":\"#E5ECF6\",\"width\":0.5},\"pattern\":{\"fillmode\":\"overlay\",\"size\":10,\"solidity\":0.2}},\"type\":\"barpolar\"}],\"carpet\":[{\"aaxis\":{\"endlinecolor\":\"#2a3f5f\",\"gridcolor\":\"white\",\"linecolor\":\"white\",\"minorgridcolor\":\"white\",\"startlinecolor\":\"#2a3f5f\"},\"baxis\":{\"endlinecolor\":\"#2a3f5f\",\"gridcolor\":\"white\",\"linecolor\":\"white\",\"minorgridcolor\":\"white\",\"startlinecolor\":\"#2a3f5f\"},\"type\":\"carpet\"}],\"choropleth\":[{\"colorbar\":{\"outlinewidth\":0,\"ticks\":\"\"},\"type\":\"choropleth\"}],\"contour\":[{\"colorbar\":{\"outlinewidth\":0,\"ticks\":\"\"},\"colorscale\":[[0.0,\"#0d0887\"],[0.1111111111111111,\"#46039f\"],[0.2222222222222222,\"#7201a8\"],[0.3333333333333333,\"#9c179e\"],[0.4444444444444444,\"#bd3786\"],[0.5555555555555556,\"#d8576b\"],[0.6666666666666666,\"#ed7953\"],[0.7777777777777778,\"#fb9f3a\"],[0.8888888888888888,\"#fdca26\"],[1.0,\"#f0f921\"]],\"type\":\"contour\"}],\"contourcarpet\":[{\"colorbar\":{\"outlinewidth\":0,\"ticks\":\"\"},\"type\":\"contourcarpet\"}],\"heatmap\":[{\"colorbar\":{\"outlinewidth\":0,\"ticks\":\"\"},\"colorscale\":[[0.0,\"#0d0887\"],[0.1111111111111111,\"#46039f\"],[0.2222222222222222,\"#7201a8\"],[0.3333333333333333,\"#9c179e\"],[0.4444444444444444,\"#bd3786\"],[0.5555555555555556,\"#d8576b\"],[0.6666666666666666,\"#ed7953\"],[0.7777777777777778,\"#fb9f3a\"],[0.8888888888888888,\"#fdca26\"],[1.0,\"#f0f921\"]],\"type\":\"heatmap\"}],\"heatmapgl\":[{\"colorbar\":{\"outlinewidth\":0,\"ticks\":\"\"},\"colorscale\":[[0.0,\"#0d0887\"],[0.1111111111111111,\"#46039f\"],[0.2222222222222222,\"#7201a8\"],[0.3333333333333333,\"#9c179e\"],[0.4444444444444444,\"#bd3786\"],[0.5555555555555556,\"#d8576b\"],[0.6666666666666666,\"#ed7953\"],[0.7777777777777778,\"#fb9f3a\"],[0.8888888888888888,\"#fdca26\"],[1.0,\"#f0f921\"]],\"type\":\"heatmapgl\"}],\"histogram\":[{\"marker\":{\"pattern\":{\"fillmode\":\"overlay\",\"size\":10,\"solidity\":0.2}},\"type\":\"histogram\"}],\"histogram2d\":[{\"colorbar\":{\"outlinewidth\":0,\"ticks\":\"\"},\"colorscale\":[[0.0,\"#0d0887\"],[0.1111111111111111,\"#46039f\"],[0.2222222222222222,\"#7201a8\"],[0.3333333333333333,\"#9c179e\"],[0.4444444444444444,\"#bd3786\"],[0.5555555555555556,\"#d8576b\"],[0.6666666666666666,\"#ed7953\"],[0.7777777777777778,\"#fb9f3a\"],[0.8888888888888888,\"#fdca26\"],[1.0,\"#f0f921\"]],\"type\":\"histogram2d\"}],\"histogram2dcontour\":[{\"colorbar\":{\"outlinewidth\":0,\"ticks\":\"\"},\"colorscale\":[[0.0,\"#0d0887\"],[0.1111111111111111,\"#46039f\"],[0.2222222222222222,\"#7201a8\"],[0.3333333333333333,\"#9c179e\"],[0.4444444444444444,\"#bd3786\"],[0.5555555555555556,\"#d8576b\"],[0.6666666666666666,\"#ed7953\"],[0.7777777777777778,\"#fb9f3a\"],[0.8888888888888888,\"#fdca26\"],[1.0,\"#f0f921\"]],\"type\":\"histogram2dcontour\"}],\"mesh3d\":[{\"colorbar\":{\"outlinewidth\":0,\"ticks\":\"\"},\"type\":\"mesh3d\"}],\"parcoords\":[{\"line\":{\"colorbar\":{\"outlinewidth\":0,\"ticks\":\"\"}},\"type\":\"parcoords\"}],\"pie\":[{\"automargin\":true,\"type\":\"pie\"}],\"scatter\":[{\"marker\":{\"colorbar\":{\"outlinewidth\":0,\"ticks\":\"\"}},\"type\":\"scatter\"}],\"scatter3d\":[{\"line\":{\"colorbar\":{\"outlinewidth\":0,\"ticks\":\"\"}},\"marker\":{\"colorbar\":{\"outlinewidth\":0,\"ticks\":\"\"}},\"type\":\"scatter3d\"}],\"scattercarpet\":[{\"marker\":{\"colorbar\":{\"outlinewidth\":0,\"ticks\":\"\"}},\"type\":\"scattercarpet\"}],\"scattergeo\":[{\"marker\":{\"colorbar\":{\"outlinewidth\":0,\"ticks\":\"\"}},\"type\":\"scattergeo\"}],\"scattergl\":[{\"marker\":{\"colorbar\":{\"outlinewidth\":0,\"ticks\":\"\"}},\"type\":\"scattergl\"}],\"scattermapbox\":[{\"marker\":{\"colorbar\":{\"outlinewidth\":0,\"ticks\":\"\"}},\"type\":\"scattermapbox\"}],\"scatterpolar\":[{\"marker\":{\"colorbar\":{\"outlinewidth\":0,\"ticks\":\"\"}},\"type\":\"scatterpolar\"}],\"scatterpolargl\":[{\"marker\":{\"colorbar\":{\"outlinewidth\":0,\"ticks\":\"\"}},\"type\":\"scatterpolargl\"}],\"scatterternary\":[{\"marker\":{\"colorbar\":{\"outlinewidth\":0,\"ticks\":\"\"}},\"type\":\"scatterternary\"}],\"surface\":[{\"colorbar\":{\"outlinewidth\":0,\"ticks\":\"\"},\"colorscale\":[[0.0,\"#0d0887\"],[0.1111111111111111,\"#46039f\"],[0.2222222222222222,\"#7201a8\"],[0.3333333333333333,\"#9c179e\"],[0.4444444444444444,\"#bd3786\"],[0.5555555555555556,\"#d8576b\"],[0.6666666666666666,\"#ed7953\"],[0.7777777777777778,\"#fb9f3a\"],[0.8888888888888888,\"#fdca26\"],[1.0,\"#f0f921\"]],\"type\":\"surface\"}],\"table\":[{\"cells\":{\"fill\":{\"color\":\"#EBF0F8\"},\"line\":{\"color\":\"white\"}},\"header\":{\"fill\":{\"color\":\"#C8D4E3\"},\"line\":{\"color\":\"white\"}},\"type\":\"table\"}]},\"layout\":{\"annotationdefaults\":{\"arrowcolor\":\"#2a3f5f\",\"arrowhead\":0,\"arrowwidth\":1},\"autotypenumbers\":\"strict\",\"coloraxis\":{\"colorbar\":{\"outlinewidth\":0,\"ticks\":\"\"}},\"colorscale\":{\"diverging\":[[0,\"#8e0152\"],[0.1,\"#c51b7d\"],[0.2,\"#de77ae\"],[0.3,\"#f1b6da\"],[0.4,\"#fde0ef\"],[0.5,\"#f7f7f7\"],[0.6,\"#e6f5d0\"],[0.7,\"#b8e186\"],[0.8,\"#7fbc41\"],[0.9,\"#4d9221\"],[1,\"#276419\"]],\"sequential\":[[0.0,\"#0d0887\"],[0.1111111111111111,\"#46039f\"],[0.2222222222222222,\"#7201a8\"],[0.3333333333333333,\"#9c179e\"],[0.4444444444444444,\"#bd3786\"],[0.5555555555555556,\"#d8576b\"],[0.6666666666666666,\"#ed7953\"],[0.7777777777777778,\"#fb9f3a\"],[0.8888888888888888,\"#fdca26\"],[1.0,\"#f0f921\"]],\"sequentialminus\":[[0.0,\"#0d0887\"],[0.1111111111111111,\"#46039f\"],[0.2222222222222222,\"#7201a8\"],[0.3333333333333333,\"#9c179e\"],[0.4444444444444444,\"#bd3786\"],[0.5555555555555556,\"#d8576b\"],[0.6666666666666666,\"#ed7953\"],[0.7777777777777778,\"#fb9f3a\"],[0.8888888888888888,\"#fdca26\"],[1.0,\"#f0f921\"]]},\"colorway\":[\"#636efa\",\"#EF553B\",\"#00cc96\",\"#ab63fa\",\"#FFA15A\",\"#19d3f3\",\"#FF6692\",\"#B6E880\",\"#FF97FF\",\"#FECB52\"],\"font\":{\"color\":\"#2a3f5f\"},\"geo\":{\"bgcolor\":\"white\",\"lakecolor\":\"white\",\"landcolor\":\"#E5ECF6\",\"showlakes\":true,\"showland\":true,\"subunitcolor\":\"white\"},\"hoverlabel\":{\"align\":\"left\"},\"hovermode\":\"closest\",\"mapbox\":{\"style\":\"light\"},\"paper_bgcolor\":\"white\",\"plot_bgcolor\":\"#E5ECF6\",\"polar\":{\"angularaxis\":{\"gridcolor\":\"white\",\"linecolor\":\"white\",\"ticks\":\"\"},\"bgcolor\":\"#E5ECF6\",\"radialaxis\":{\"gridcolor\":\"white\",\"linecolor\":\"white\",\"ticks\":\"\"}},\"scene\":{\"xaxis\":{\"backgroundcolor\":\"#E5ECF6\",\"gridcolor\":\"white\",\"gridwidth\":2,\"linecolor\":\"white\",\"showbackground\":true,\"ticks\":\"\",\"zerolinecolor\":\"white\"},\"yaxis\":{\"backgroundcolor\":\"#E5ECF6\",\"gridcolor\":\"white\",\"gridwidth\":2,\"linecolor\":\"white\",\"showbackground\":true,\"ticks\":\"\",\"zerolinecolor\":\"white\"},\"zaxis\":{\"backgroundcolor\":\"#E5ECF6\",\"gridcolor\":\"white\",\"gridwidth\":2,\"linecolor\":\"white\",\"showbackground\":true,\"ticks\":\"\",\"zerolinecolor\":\"white\"}},\"shapedefaults\":{\"line\":{\"color\":\"#2a3f5f\"}},\"ternary\":{\"aaxis\":{\"gridcolor\":\"white\",\"linecolor\":\"white\",\"ticks\":\"\"},\"baxis\":{\"gridcolor\":\"white\",\"linecolor\":\"white\",\"ticks\":\"\"},\"bgcolor\":\"#E5ECF6\",\"caxis\":{\"gridcolor\":\"white\",\"linecolor\":\"white\",\"ticks\":\"\"}},\"title\":{\"x\":0.05},\"xaxis\":{\"automargin\":true,\"gridcolor\":\"white\",\"linecolor\":\"white\",\"ticks\":\"\",\"title\":{\"standoff\":15},\"zerolinecolor\":\"white\",\"zerolinewidth\":2},\"yaxis\":{\"automargin\":true,\"gridcolor\":\"white\",\"linecolor\":\"white\",\"ticks\":\"\",\"title\":{\"standoff\":15},\"zerolinecolor\":\"white\",\"zerolinewidth\":2}}},\"xaxis\":{\"anchor\":\"y\",\"domain\":[0.0,0.45]},\"yaxis\":{\"anchor\":\"x\",\"domain\":[0.0,1.0]},\"xaxis2\":{\"anchor\":\"y2\",\"domain\":[0.55,1.0]},\"yaxis2\":{\"anchor\":\"x2\",\"domain\":[0.0,1.0]},\"showlegend\":false},                        {\"responsive\": true}                    ).then(function(){\n",
              "                            \n",
              "var gd = document.getElementById('d7c018b3-2d03-4139-9eb1-7183a12c4aca');\n",
              "var x = new MutationObserver(function (mutations, observer) {{\n",
              "        var display = window.getComputedStyle(gd).display;\n",
              "        if (!display || display === 'none') {{\n",
              "            console.log([gd, 'removed!']);\n",
              "            Plotly.purge(gd);\n",
              "            observer.disconnect();\n",
              "        }}\n",
              "}});\n",
              "\n",
              "// Listen for the removal of the full notebook cells\n",
              "var notebookContainer = gd.closest('#notebook-container');\n",
              "if (notebookContainer) {{\n",
              "    x.observe(notebookContainer, {childList: true});\n",
              "}}\n",
              "\n",
              "// Listen for the clearing of the current output cell\n",
              "var outputEl = gd.closest('.output');\n",
              "if (outputEl) {{\n",
              "    x.observe(outputEl, {childList: true});\n",
              "}}\n",
              "\n",
              "                        })                };                            </script>        </div>\n",
              "</body>\n",
              "</html>"
            ]
          },
          "metadata": {}
        }
      ]
    },
    {
      "cell_type": "code",
      "source": [
        "!mkdir subplot"
      ],
      "metadata": {
        "id": "4dmWqcJ8N0na",
        "outputId": "8a47a17f-a96d-4f5a-ed33-989e93d49100",
        "colab": {
          "base_uri": "https://localhost:8080/"
        }
      },
      "execution_count": 34,
      "outputs": [
        {
          "output_type": "stream",
          "name": "stdout",
          "text": [
            "mkdir: cannot create directory ‘subplot’: File exists\n"
          ]
        }
      ]
    },
    {
      "cell_type": "code",
      "source": [
        "import numpy as np\n",
        "from plotly.subplots import make_subplots\n",
        "import plotly.graph_objects as go\n",
        "import plotly.figure_factory as ff\n",
        "\n",
        "for i in range(192):\n",
        "  angin_test = kec_angin(np.array(df_y),i)\n",
        "  angin_pred = kec_angin(np.array(df_y_predict),i)\n",
        "\n",
        "  fig1 = tampilan_vektor_subplot(angin_test)\n",
        "  fig2 = tampilan_vektor_subplot(angin_pred) \n",
        " \n",
        "  # subplot setup\n",
        "  subplots = make_subplots(rows=1, cols=2)\n",
        "\n",
        "  # add all fig1.data as individual traces in fig at row=1, col=1\n",
        "  for d in fig1.data:\n",
        "      subplots.add_trace(go.Scatter(x=d['x'], y=d['y']),\n",
        "                  row=1, col=1)\n",
        "\n",
        "  # add all fig2.data as individual traces in fig at row=1, col=2\n",
        "  for d in fig2.data:\n",
        "      subplots.add_trace(go.Scatter(x=d['x'], y=d['y']),\n",
        "                  row=1, col=2)\n",
        "    \n",
        "  subplots.update_layout(showlegend=False)\n",
        "\n",
        "  subplots.add_contour( x = (angin_test['koor_x']*1.2)-0.5,\n",
        "                      y = (angin_test['koor_y']*1.3)-0.9,\n",
        "                      z = ((angin_test['Vx']**2)+(angin_test['Vy']**2))**0.5,\n",
        "                      colorscale = 'ylgnbu',\n",
        "                      row = 1, col = 1\n",
        "                     )\n",
        "\n",
        "  subplots.add_contour( x = (angin_pred['koor_x']*1.2)-0.5,\n",
        "                      y = (angin_pred['koor_y']*1.3)-0.9,\n",
        "                      z = ((angin_pred['Vx']**2)+(angin_pred['Vy']**2))**0.5,\n",
        "                      colorscale = 'ylgnbu',\n",
        "                      row = 1, col = 2\n",
        "                     )\n",
        "  subplots.write_image(f'/content/subplot/fig {i}.png')"
      ],
      "metadata": {
        "id": "_GzWRIEjMmEz"
      },
      "execution_count": 35,
      "outputs": []
    },
    {
      "cell_type": "code",
      "source": [
        "!zip -r /content/subplot.zip /content/subplot"
      ],
      "metadata": {
        "colab": {
          "base_uri": "https://localhost:8080/"
        },
        "id": "f2QeNpeJ9jUB",
        "outputId": "2060e1ba-47da-4e83-966c-b803d489ad0a"
      },
      "execution_count": 36,
      "outputs": [
        {
          "output_type": "stream",
          "name": "stdout",
          "text": [
            "  adding: content/subplot/ (stored 0%)\n",
            "  adding: content/subplot/fig 149.png (deflated 3%)\n",
            "  adding: content/subplot/fig 36.png (deflated 4%)\n",
            "  adding: content/subplot/fig 147.png (deflated 3%)\n",
            "  adding: content/subplot/fig 7.png (deflated 3%)\n",
            "  adding: content/subplot/fig 33.png (deflated 4%)\n",
            "  adding: content/subplot/fig 115.png (deflated 3%)\n",
            "  adding: content/subplot/fig 63.png (deflated 4%)\n",
            "  adding: content/subplot/fig 173.png (deflated 3%)\n",
            "  adding: content/subplot/fig 109.png (deflated 3%)\n",
            "  adding: content/subplot/fig 86.png (deflated 4%)\n",
            "  adding: content/subplot/fig 76.png (deflated 4%)\n",
            "  adding: content/subplot/fig 77.png (deflated 4%)\n",
            "  adding: content/subplot/fig 29.png (deflated 4%)\n",
            "  adding: content/subplot/fig 153.png (deflated 2%)\n",
            "  adding: content/subplot/fig 182.png (deflated 4%)\n",
            "  adding: content/subplot/fig 127.png (deflated 3%)\n",
            "  adding: content/subplot/fig 45.png (deflated 4%)\n",
            "  adding: content/subplot/fig 122.png (deflated 3%)\n",
            "  adding: content/subplot/fig 79.png (deflated 4%)\n",
            "  adding: content/subplot/fig 67.png (deflated 4%)\n",
            "  adding: content/subplot/fig 171.png (deflated 3%)\n",
            "  adding: content/subplot/fig 44.png (deflated 4%)\n",
            "  adding: content/subplot/fig 88.png (deflated 4%)\n",
            "  adding: content/subplot/fig 64.png (deflated 4%)\n",
            "  adding: content/subplot/fig 47.png (deflated 4%)\n",
            "  adding: content/subplot/fig 186.png (deflated 3%)\n",
            "  adding: content/subplot/fig 107.png (deflated 4%)\n",
            "  adding: content/subplot/fig 174.png (deflated 4%)\n",
            "  adding: content/subplot/fig 141.png (deflated 3%)\n",
            "  adding: content/subplot/fig 184.png (deflated 3%)\n",
            "  adding: content/subplot/fig 28.png (deflated 4%)\n",
            "  adding: content/subplot/fig 132.png (deflated 3%)\n",
            "  adding: content/subplot/fig 113.png (deflated 3%)\n",
            "  adding: content/subplot/fig 25.png (deflated 4%)\n",
            "  adding: content/subplot/fig 129.png (deflated 3%)\n",
            "  adding: content/subplot/fig 111.png (deflated 3%)\n",
            "  adding: content/subplot/fig 38.png (deflated 4%)\n",
            "  adding: content/subplot/fig 157.png (deflated 4%)\n",
            "  adding: content/subplot/fig 69.png (deflated 4%)\n",
            "  adding: content/subplot/fig 138.png (deflated 3%)\n",
            "  adding: content/subplot/fig 3.png (deflated 3%)\n",
            "  adding: content/subplot/fig 177.png (deflated 3%)\n",
            "  adding: content/subplot/fig 166.png (deflated 4%)\n",
            "  adding: content/subplot/fig 6.png (deflated 4%)\n",
            "  adding: content/subplot/fig 23.png (deflated 4%)\n",
            "  adding: content/subplot/fig 73.png (deflated 4%)\n",
            "  adding: content/subplot/fig 139.png (deflated 3%)\n",
            "  adding: content/subplot/fig 170.png (deflated 4%)\n",
            "  adding: content/subplot/fig 89.png (deflated 4%)\n",
            "  adding: content/subplot/fig 1.png (deflated 4%)\n",
            "  adding: content/subplot/fig 161.png (deflated 4%)\n",
            "  adding: content/subplot/fig 180.png (deflated 3%)\n",
            "  adding: content/subplot/fig 48.png (deflated 4%)\n",
            "  adding: content/subplot/fig 92.png (deflated 4%)\n",
            "  adding: content/subplot/fig 144.png (deflated 3%)\n",
            "  adding: content/subplot/fig 135.png (deflated 3%)\n",
            "  adding: content/subplot/fig 134.png (deflated 4%)\n",
            "  adding: content/subplot/fig 66.png (deflated 4%)\n",
            "  adding: content/subplot/fig 56.png (deflated 4%)\n",
            "  adding: content/subplot/fig 168.png (deflated 3%)\n",
            "  adding: content/subplot/fig 15.png (deflated 4%)\n",
            "  adding: content/subplot/fig 78.png (deflated 4%)\n",
            "  adding: content/subplot/fig 57.png (deflated 4%)\n",
            "  adding: content/subplot/fig 114.png (deflated 3%)\n",
            "  adding: content/subplot/fig 137.png (deflated 3%)\n",
            "  adding: content/subplot/fig 41.png (deflated 4%)\n",
            "  adding: content/subplot/fig 16.png (deflated 4%)\n",
            "  adding: content/subplot/fig 43.png (deflated 4%)\n",
            "  adding: content/subplot/fig 133.png (deflated 3%)\n",
            "  adding: content/subplot/fig 120.png (deflated 3%)\n",
            "  adding: content/subplot/fig 155.png (deflated 3%)\n",
            "  adding: content/subplot/fig 183.png (deflated 3%)\n",
            "  adding: content/subplot/fig 108.png (deflated 3%)\n",
            "  adding: content/subplot/fig 51.png (deflated 4%)\n",
            "  adding: content/subplot/fig 117.png (deflated 4%)\n",
            "  adding: content/subplot/fig 50.png (deflated 3%)\n",
            "  adding: content/subplot/fig 103.png (deflated 3%)\n",
            "  adding: content/subplot/fig 163.png (deflated 4%)\n",
            "  adding: content/subplot/fig 104.png (deflated 3%)\n",
            "  adding: content/subplot/fig 11.png (deflated 4%)\n",
            "  adding: content/subplot/fig 24.png (deflated 4%)\n",
            "  adding: content/subplot/fig 9.png (deflated 4%)\n",
            "  adding: content/subplot/fig 148.png (deflated 3%)\n",
            "  adding: content/subplot/fig 99.png (deflated 3%)\n",
            "  adding: content/subplot/fig 74.png (deflated 4%)\n",
            "  adding: content/subplot/fig 17.png (deflated 4%)\n",
            "  adding: content/subplot/fig 4.png (deflated 4%)\n",
            "  adding: content/subplot/fig 188.png (deflated 3%)\n",
            "  adding: content/subplot/fig 125.png (deflated 3%)\n",
            "  adding: content/subplot/fig 116.png (deflated 3%)\n",
            "  adding: content/subplot/fig 83.png (deflated 4%)\n",
            "  adding: content/subplot/fig 93.png (deflated 4%)\n",
            "  adding: content/subplot/fig 154.png (deflated 4%)\n",
            "  adding: content/subplot/fig 13.png (deflated 4%)\n",
            "  adding: content/subplot/fig 96.png (deflated 4%)\n",
            "  adding: content/subplot/fig 42.png (deflated 4%)\n",
            "  adding: content/subplot/fig 100.png (deflated 3%)\n",
            "  adding: content/subplot/fig 179.png (deflated 3%)\n",
            "  adding: content/subplot/fig 191.png (deflated 4%)\n",
            "  adding: content/subplot/fig 10.png (deflated 4%)\n",
            "  adding: content/subplot/fig 60.png (deflated 4%)\n",
            "  adding: content/subplot/fig 105.png (deflated 4%)\n",
            "  adding: content/subplot/fig 82.png (deflated 4%)\n",
            "  adding: content/subplot/fig 181.png (deflated 4%)\n",
            "  adding: content/subplot/fig 34.png (deflated 4%)\n",
            "  adding: content/subplot/fig 167.png (deflated 3%)\n",
            "  adding: content/subplot/fig 131.png (deflated 3%)\n",
            "  adding: content/subplot/fig 81.png (deflated 4%)\n",
            "  adding: content/subplot/fig 112.png (deflated 3%)\n",
            "  adding: content/subplot/fig 110.png (deflated 3%)\n",
            "  adding: content/subplot/fig 61.png (deflated 4%)\n",
            "  adding: content/subplot/fig 102.png (deflated 3%)\n",
            "  adding: content/subplot/fig 75.png (deflated 4%)\n",
            "  adding: content/subplot/fig 158.png (deflated 4%)\n",
            "  adding: content/subplot/fig 159.png (deflated 4%)\n",
            "  adding: content/subplot/fig 84.png (deflated 4%)\n",
            "  adding: content/subplot/fig 106.png (deflated 3%)\n",
            "  adding: content/subplot/fig 143.png (deflated 3%)\n",
            "  adding: content/subplot/fig 49.png (deflated 3%)\n",
            "  adding: content/subplot/fig 145.png (deflated 4%)\n",
            "  adding: content/subplot/fig 40.png (deflated 4%)\n",
            "  adding: content/subplot/fig 97.png (deflated 3%)\n",
            "  adding: content/subplot/fig 175.png (deflated 3%)\n",
            "  adding: content/subplot/fig 39.png (deflated 4%)\n",
            "  adding: content/subplot/fig 72.png (deflated 4%)\n",
            "  adding: content/subplot/fig 87.png (deflated 3%)\n",
            "  adding: content/subplot/fig 2.png (deflated 3%)\n",
            "  adding: content/subplot/fig 162.png (deflated 4%)\n",
            "  adding: content/subplot/fig 98.png (deflated 3%)\n",
            "  adding: content/subplot/fig 95.png (deflated 3%)\n",
            "  adding: content/subplot/fig 142.png (deflated 3%)\n",
            "  adding: content/subplot/fig 164.png (deflated 4%)\n",
            "  adding: content/subplot/fig 140.png (deflated 3%)\n",
            "  adding: content/subplot/fig 121.png (deflated 3%)\n",
            "  adding: content/subplot/fig 152.png (deflated 4%)\n",
            "  adding: content/subplot/fig 150.png (deflated 3%)\n",
            "  adding: content/subplot/fig 165.png (deflated 4%)\n",
            "  adding: content/subplot/fig 160.png (deflated 3%)\n",
            "  adding: content/subplot/fig 58.png (deflated 4%)\n",
            "  adding: content/subplot/fig 146.png (deflated 3%)\n",
            "  adding: content/subplot/fig 128.png (deflated 3%)\n",
            "  adding: content/subplot/fig 190.png (deflated 4%)\n",
            "  adding: content/subplot/fig 71.png (deflated 4%)\n",
            "  adding: content/subplot/fig 27.png (deflated 4%)\n",
            "  adding: content/subplot/fig 172.png (deflated 3%)\n",
            "  adding: content/subplot/fig 80.png (deflated 4%)\n",
            "  adding: content/subplot/fig 30.png (deflated 4%)\n",
            "  adding: content/subplot/fig 91.png (deflated 4%)\n",
            "  adding: content/subplot/fig 0.png (deflated 4%)\n",
            "  adding: content/subplot/fig 119.png (deflated 3%)\n",
            "  adding: content/subplot/fig 53.png (deflated 4%)\n",
            "  adding: content/subplot/fig 5.png (deflated 4%)\n",
            "  adding: content/subplot/fig 32.png (deflated 4%)\n",
            "  adding: content/subplot/fig 14.png (deflated 4%)\n",
            "  adding: content/subplot/fig 18.png (deflated 4%)\n",
            "  adding: content/subplot/fig 124.png (deflated 3%)\n",
            "  adding: content/subplot/fig 178.png (deflated 3%)\n",
            "  adding: content/subplot/fig 169.png (deflated 3%)\n",
            "  adding: content/subplot/fig 35.png (deflated 4%)\n",
            "  adding: content/subplot/fig 26.png (deflated 4%)\n",
            "  adding: content/subplot/fig 185.png (deflated 3%)\n",
            "  adding: content/subplot/fig 94.png (deflated 4%)\n",
            "  adding: content/subplot/fig 130.png (deflated 3%)\n",
            "  adding: content/subplot/fig 176.png (deflated 3%)\n",
            "  adding: content/subplot/fig 21.png (deflated 4%)\n",
            "  adding: content/subplot/fig 90.png (deflated 4%)\n",
            "  adding: content/subplot/fig 189.png (deflated 3%)\n",
            "  adding: content/subplot/fig 123.png (deflated 3%)\n",
            "  adding: content/subplot/fig 118.png (deflated 3%)\n",
            "  adding: content/subplot/fig 22.png (deflated 4%)\n",
            "  adding: content/subplot/fig 101.png (deflated 3%)\n",
            "  adding: content/subplot/fig 65.png (deflated 4%)\n",
            "  adding: content/subplot/fig 54.png (deflated 4%)\n",
            "  adding: content/subplot/fig 156.png (deflated 4%)\n",
            "  adding: content/subplot/fig 85.png (deflated 4%)\n",
            "  adding: content/subplot/fig 126.png (deflated 3%)\n",
            "  adding: content/subplot/fig 136.png (deflated 3%)\n",
            "  adding: content/subplot/fig 187.png (deflated 3%)\n",
            "  adding: content/subplot/fig 12.png (deflated 4%)\n",
            "  adding: content/subplot/fig 19.png (deflated 4%)\n",
            "  adding: content/subplot/fig 70.png (deflated 4%)\n",
            "  adding: content/subplot/fig 37.png (deflated 4%)\n",
            "  adding: content/subplot/fig 46.png (deflated 4%)\n",
            "  adding: content/subplot/fig 59.png (deflated 4%)\n",
            "  adding: content/subplot/fig 151.png (deflated 2%)\n",
            "  adding: content/subplot/fig 31.png (deflated 4%)\n",
            "  adding: content/subplot/fig 55.png (deflated 4%)\n",
            "  adding: content/subplot/fig 20.png (deflated 4%)\n",
            "  adding: content/subplot/fig 52.png (deflated 4%)\n",
            "  adding: content/subplot/fig 68.png (deflated 4%)\n",
            "  adding: content/subplot/fig 62.png (deflated 4%)\n",
            "  adding: content/subplot/fig 8.png (deflated 4%)\n"
          ]
        }
      ]
    }
  ]
}