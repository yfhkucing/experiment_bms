{
  "nbformat": 4,
  "nbformat_minor": 0,
  "metadata": {
    "colab": {
      "provenance": [],
      "authorship_tag": "ABX9TyMhFAWB9GSRYU3sBB9+fQzB",
      "include_colab_link": true
    },
    "kernelspec": {
      "name": "python3",
      "display_name": "Python 3"
    },
    "language_info": {
      "name": "python"
    }
  },
  "cells": [
    {
      "cell_type": "markdown",
      "metadata": {
        "id": "view-in-github",
        "colab_type": "text"
      },
      "source": [
        "<a href=\"https://colab.research.google.com/github/yfhkucing/experiment_bms/blob/master/model_temp_30.ipynb\" target=\"_parent\"><img src=\"https://colab.research.google.com/assets/colab-badge.svg\" alt=\"Open In Colab\"/></a>"
      ]
    },
    {
      "cell_type": "code",
      "execution_count": 1,
      "metadata": {
        "id": "3Ffi8bdmBAAh"
      },
      "outputs": [],
      "source": [
        "import pandas as pd\n",
        "import numpy as np"
      ]
    },
    {
      "cell_type": "code",
      "source": [
        "feature = pd.read_excel('/content/Koordinat dan Input Skenario.xlsx',sheet_name='InputSkenario')\n",
        "label = pd.read_excel('/content/data_big_4.xlsx',sheet_name='Sheet2')\n",
        "feature.pop('Jam')\n",
        "feature.pop('Fan')\n"
      ],
      "metadata": {
        "colab": {
          "base_uri": "https://localhost:8080/"
        },
        "id": "wh0Od6jrBB2A",
        "outputId": "0df9d472-7a3e-4f0a-9198-94aa7ba15e55"
      },
      "execution_count": 2,
      "outputs": [
        {
          "output_type": "execute_result",
          "data": {
            "text/plain": [
              "0      0.0\n",
              "1      0.0\n",
              "2      0.0\n",
              "3      0.0\n",
              "4      0.0\n",
              "      ... \n",
              "187    1.0\n",
              "188    1.0\n",
              "189    1.0\n",
              "190    1.0\n",
              "191    1.0\n",
              "Name: Fan, Length: 192, dtype: float64"
            ]
          },
          "metadata": {},
          "execution_count": 2
        }
      ]
    },
    {
      "cell_type": "code",
      "source": [
        "def norm(df):\n",
        "  df=(df-df.min())/(df.max()-df.min())\n",
        "  return df"
      ],
      "metadata": {
        "id": "eIHKEYhQBE9e"
      },
      "execution_count": 3,
      "outputs": []
    },
    {
      "cell_type": "code",
      "source": [
        "feature = norm(feature)\n",
        "label = norm(label)"
      ],
      "metadata": {
        "id": "rDRzkU0kBHLr"
      },
      "execution_count": 4,
      "outputs": []
    },
    {
      "cell_type": "code",
      "source": [
        "feature.describe()"
      ],
      "metadata": {
        "colab": {
          "base_uri": "https://localhost:8080/",
          "height": 434
        },
        "id": "lfq7NPPtDEO0",
        "outputId": "f4055148-1ec3-43b3-c3c1-5a60e57a5156"
      },
      "execution_count": 6,
      "outputs": [
        {
          "output_type": "execute_result",
          "data": {
            "text/plain": [
              "          Jendela          AC  Arah Sudut Kecepatan Angin derajat  \\\n",
              "count  192.000000  192.000000                          192.000000   \n",
              "mean     0.500000    0.500000                            0.453515   \n",
              "std      0.501307    0.501307                            0.332686   \n",
              "min      0.000000    0.000000                            0.000000   \n",
              "25%      0.000000    0.000000                            0.164966   \n",
              "50%      0.500000    0.500000                            0.408163   \n",
              "75%      1.000000    1.000000                            0.695578   \n",
              "max      1.000000    1.000000                            1.000000   \n",
              "\n",
              "       Nilai Kecepatan Angin  Dry Bulb Temperature      Fan/i1      Fan/i2  \\\n",
              "count             192.000000            192.000000  192.000000  192.000000   \n",
              "mean                0.342949              0.467448    0.750000    0.750000   \n",
              "std                 0.367592              0.318011    0.434145    0.434145   \n",
              "min                 0.000000              0.000000    0.000000    0.000000   \n",
              "25%                 0.052885              0.191406    0.750000    0.750000   \n",
              "50%                 0.163462              0.492188    1.000000    1.000000   \n",
              "75%                 0.725962              0.734375    1.000000    1.000000   \n",
              "max                 1.000000              1.000000    1.000000    1.000000   \n",
              "\n",
              "           Fan/i3      Fan/i4      Fan/i5      Fan/i6      Fan/o1      Fan/o2  \\\n",
              "count  192.000000  192.000000  192.000000  192.000000  192.000000  192.000000   \n",
              "mean     0.500000    0.500000    0.500000    0.250000    0.750000    0.750000   \n",
              "std      0.501307    0.501307    0.501307    0.434145    0.434145    0.434145   \n",
              "min      0.000000    0.000000    0.000000    0.000000    0.000000    0.000000   \n",
              "25%      0.000000    0.000000    0.000000    0.000000    0.750000    0.750000   \n",
              "50%      0.500000    0.500000    0.500000    0.000000    1.000000    1.000000   \n",
              "75%      1.000000    1.000000    1.000000    0.250000    1.000000    1.000000   \n",
              "max      1.000000    1.000000    1.000000    1.000000    1.000000    1.000000   \n",
              "\n",
              "           Fan/o3      Fan/o4      Fan/o5      Fan/o6  \n",
              "count  192.000000  192.000000  192.000000  192.000000  \n",
              "mean     0.500000    0.500000    0.500000    0.250000  \n",
              "std      0.501307    0.501307    0.501307    0.434145  \n",
              "min      0.000000    0.000000    0.000000    0.000000  \n",
              "25%      0.000000    0.000000    0.000000    0.000000  \n",
              "50%      0.500000    0.500000    0.500000    0.000000  \n",
              "75%      1.000000    1.000000    1.000000    0.250000  \n",
              "max      1.000000    1.000000    1.000000    1.000000  "
            ],
            "text/html": [
              "\n",
              "  <div id=\"df-4f0586d0-087e-4ded-a6dc-b3d7af668d91\">\n",
              "    <div class=\"colab-df-container\">\n",
              "      <div>\n",
              "<style scoped>\n",
              "    .dataframe tbody tr th:only-of-type {\n",
              "        vertical-align: middle;\n",
              "    }\n",
              "\n",
              "    .dataframe tbody tr th {\n",
              "        vertical-align: top;\n",
              "    }\n",
              "\n",
              "    .dataframe thead th {\n",
              "        text-align: right;\n",
              "    }\n",
              "</style>\n",
              "<table border=\"1\" class=\"dataframe\">\n",
              "  <thead>\n",
              "    <tr style=\"text-align: right;\">\n",
              "      <th></th>\n",
              "      <th>Jendela</th>\n",
              "      <th>AC</th>\n",
              "      <th>Arah Sudut Kecepatan Angin derajat</th>\n",
              "      <th>Nilai Kecepatan Angin</th>\n",
              "      <th>Dry Bulb Temperature</th>\n",
              "      <th>Fan/i1</th>\n",
              "      <th>Fan/i2</th>\n",
              "      <th>Fan/i3</th>\n",
              "      <th>Fan/i4</th>\n",
              "      <th>Fan/i5</th>\n",
              "      <th>Fan/i6</th>\n",
              "      <th>Fan/o1</th>\n",
              "      <th>Fan/o2</th>\n",
              "      <th>Fan/o3</th>\n",
              "      <th>Fan/o4</th>\n",
              "      <th>Fan/o5</th>\n",
              "      <th>Fan/o6</th>\n",
              "    </tr>\n",
              "  </thead>\n",
              "  <tbody>\n",
              "    <tr>\n",
              "      <th>count</th>\n",
              "      <td>192.000000</td>\n",
              "      <td>192.000000</td>\n",
              "      <td>192.000000</td>\n",
              "      <td>192.000000</td>\n",
              "      <td>192.000000</td>\n",
              "      <td>192.000000</td>\n",
              "      <td>192.000000</td>\n",
              "      <td>192.000000</td>\n",
              "      <td>192.000000</td>\n",
              "      <td>192.000000</td>\n",
              "      <td>192.000000</td>\n",
              "      <td>192.000000</td>\n",
              "      <td>192.000000</td>\n",
              "      <td>192.000000</td>\n",
              "      <td>192.000000</td>\n",
              "      <td>192.000000</td>\n",
              "      <td>192.000000</td>\n",
              "    </tr>\n",
              "    <tr>\n",
              "      <th>mean</th>\n",
              "      <td>0.500000</td>\n",
              "      <td>0.500000</td>\n",
              "      <td>0.453515</td>\n",
              "      <td>0.342949</td>\n",
              "      <td>0.467448</td>\n",
              "      <td>0.750000</td>\n",
              "      <td>0.750000</td>\n",
              "      <td>0.500000</td>\n",
              "      <td>0.500000</td>\n",
              "      <td>0.500000</td>\n",
              "      <td>0.250000</td>\n",
              "      <td>0.750000</td>\n",
              "      <td>0.750000</td>\n",
              "      <td>0.500000</td>\n",
              "      <td>0.500000</td>\n",
              "      <td>0.500000</td>\n",
              "      <td>0.250000</td>\n",
              "    </tr>\n",
              "    <tr>\n",
              "      <th>std</th>\n",
              "      <td>0.501307</td>\n",
              "      <td>0.501307</td>\n",
              "      <td>0.332686</td>\n",
              "      <td>0.367592</td>\n",
              "      <td>0.318011</td>\n",
              "      <td>0.434145</td>\n",
              "      <td>0.434145</td>\n",
              "      <td>0.501307</td>\n",
              "      <td>0.501307</td>\n",
              "      <td>0.501307</td>\n",
              "      <td>0.434145</td>\n",
              "      <td>0.434145</td>\n",
              "      <td>0.434145</td>\n",
              "      <td>0.501307</td>\n",
              "      <td>0.501307</td>\n",
              "      <td>0.501307</td>\n",
              "      <td>0.434145</td>\n",
              "    </tr>\n",
              "    <tr>\n",
              "      <th>min</th>\n",
              "      <td>0.000000</td>\n",
              "      <td>0.000000</td>\n",
              "      <td>0.000000</td>\n",
              "      <td>0.000000</td>\n",
              "      <td>0.000000</td>\n",
              "      <td>0.000000</td>\n",
              "      <td>0.000000</td>\n",
              "      <td>0.000000</td>\n",
              "      <td>0.000000</td>\n",
              "      <td>0.000000</td>\n",
              "      <td>0.000000</td>\n",
              "      <td>0.000000</td>\n",
              "      <td>0.000000</td>\n",
              "      <td>0.000000</td>\n",
              "      <td>0.000000</td>\n",
              "      <td>0.000000</td>\n",
              "      <td>0.000000</td>\n",
              "    </tr>\n",
              "    <tr>\n",
              "      <th>25%</th>\n",
              "      <td>0.000000</td>\n",
              "      <td>0.000000</td>\n",
              "      <td>0.164966</td>\n",
              "      <td>0.052885</td>\n",
              "      <td>0.191406</td>\n",
              "      <td>0.750000</td>\n",
              "      <td>0.750000</td>\n",
              "      <td>0.000000</td>\n",
              "      <td>0.000000</td>\n",
              "      <td>0.000000</td>\n",
              "      <td>0.000000</td>\n",
              "      <td>0.750000</td>\n",
              "      <td>0.750000</td>\n",
              "      <td>0.000000</td>\n",
              "      <td>0.000000</td>\n",
              "      <td>0.000000</td>\n",
              "      <td>0.000000</td>\n",
              "    </tr>\n",
              "    <tr>\n",
              "      <th>50%</th>\n",
              "      <td>0.500000</td>\n",
              "      <td>0.500000</td>\n",
              "      <td>0.408163</td>\n",
              "      <td>0.163462</td>\n",
              "      <td>0.492188</td>\n",
              "      <td>1.000000</td>\n",
              "      <td>1.000000</td>\n",
              "      <td>0.500000</td>\n",
              "      <td>0.500000</td>\n",
              "      <td>0.500000</td>\n",
              "      <td>0.000000</td>\n",
              "      <td>1.000000</td>\n",
              "      <td>1.000000</td>\n",
              "      <td>0.500000</td>\n",
              "      <td>0.500000</td>\n",
              "      <td>0.500000</td>\n",
              "      <td>0.000000</td>\n",
              "    </tr>\n",
              "    <tr>\n",
              "      <th>75%</th>\n",
              "      <td>1.000000</td>\n",
              "      <td>1.000000</td>\n",
              "      <td>0.695578</td>\n",
              "      <td>0.725962</td>\n",
              "      <td>0.734375</td>\n",
              "      <td>1.000000</td>\n",
              "      <td>1.000000</td>\n",
              "      <td>1.000000</td>\n",
              "      <td>1.000000</td>\n",
              "      <td>1.000000</td>\n",
              "      <td>0.250000</td>\n",
              "      <td>1.000000</td>\n",
              "      <td>1.000000</td>\n",
              "      <td>1.000000</td>\n",
              "      <td>1.000000</td>\n",
              "      <td>1.000000</td>\n",
              "      <td>0.250000</td>\n",
              "    </tr>\n",
              "    <tr>\n",
              "      <th>max</th>\n",
              "      <td>1.000000</td>\n",
              "      <td>1.000000</td>\n",
              "      <td>1.000000</td>\n",
              "      <td>1.000000</td>\n",
              "      <td>1.000000</td>\n",
              "      <td>1.000000</td>\n",
              "      <td>1.000000</td>\n",
              "      <td>1.000000</td>\n",
              "      <td>1.000000</td>\n",
              "      <td>1.000000</td>\n",
              "      <td>1.000000</td>\n",
              "      <td>1.000000</td>\n",
              "      <td>1.000000</td>\n",
              "      <td>1.000000</td>\n",
              "      <td>1.000000</td>\n",
              "      <td>1.000000</td>\n",
              "      <td>1.000000</td>\n",
              "    </tr>\n",
              "  </tbody>\n",
              "</table>\n",
              "</div>\n",
              "      <button class=\"colab-df-convert\" onclick=\"convertToInteractive('df-4f0586d0-087e-4ded-a6dc-b3d7af668d91')\"\n",
              "              title=\"Convert this dataframe to an interactive table.\"\n",
              "              style=\"display:none;\">\n",
              "        \n",
              "  <svg xmlns=\"http://www.w3.org/2000/svg\" height=\"24px\"viewBox=\"0 0 24 24\"\n",
              "       width=\"24px\">\n",
              "    <path d=\"M0 0h24v24H0V0z\" fill=\"none\"/>\n",
              "    <path d=\"M18.56 5.44l.94 2.06.94-2.06 2.06-.94-2.06-.94-.94-2.06-.94 2.06-2.06.94zm-11 1L8.5 8.5l.94-2.06 2.06-.94-2.06-.94L8.5 2.5l-.94 2.06-2.06.94zm10 10l.94 2.06.94-2.06 2.06-.94-2.06-.94-.94-2.06-.94 2.06-2.06.94z\"/><path d=\"M17.41 7.96l-1.37-1.37c-.4-.4-.92-.59-1.43-.59-.52 0-1.04.2-1.43.59L10.3 9.45l-7.72 7.72c-.78.78-.78 2.05 0 2.83L4 21.41c.39.39.9.59 1.41.59.51 0 1.02-.2 1.41-.59l7.78-7.78 2.81-2.81c.8-.78.8-2.07 0-2.86zM5.41 20L4 18.59l7.72-7.72 1.47 1.35L5.41 20z\"/>\n",
              "  </svg>\n",
              "      </button>\n",
              "      \n",
              "  <style>\n",
              "    .colab-df-container {\n",
              "      display:flex;\n",
              "      flex-wrap:wrap;\n",
              "      gap: 12px;\n",
              "    }\n",
              "\n",
              "    .colab-df-convert {\n",
              "      background-color: #E8F0FE;\n",
              "      border: none;\n",
              "      border-radius: 50%;\n",
              "      cursor: pointer;\n",
              "      display: none;\n",
              "      fill: #1967D2;\n",
              "      height: 32px;\n",
              "      padding: 0 0 0 0;\n",
              "      width: 32px;\n",
              "    }\n",
              "\n",
              "    .colab-df-convert:hover {\n",
              "      background-color: #E2EBFA;\n",
              "      box-shadow: 0px 1px 2px rgba(60, 64, 67, 0.3), 0px 1px 3px 1px rgba(60, 64, 67, 0.15);\n",
              "      fill: #174EA6;\n",
              "    }\n",
              "\n",
              "    [theme=dark] .colab-df-convert {\n",
              "      background-color: #3B4455;\n",
              "      fill: #D2E3FC;\n",
              "    }\n",
              "\n",
              "    [theme=dark] .colab-df-convert:hover {\n",
              "      background-color: #434B5C;\n",
              "      box-shadow: 0px 1px 3px 1px rgba(0, 0, 0, 0.15);\n",
              "      filter: drop-shadow(0px 1px 2px rgba(0, 0, 0, 0.3));\n",
              "      fill: #FFFFFF;\n",
              "    }\n",
              "  </style>\n",
              "\n",
              "      <script>\n",
              "        const buttonEl =\n",
              "          document.querySelector('#df-4f0586d0-087e-4ded-a6dc-b3d7af668d91 button.colab-df-convert');\n",
              "        buttonEl.style.display =\n",
              "          google.colab.kernel.accessAllowed ? 'block' : 'none';\n",
              "\n",
              "        async function convertToInteractive(key) {\n",
              "          const element = document.querySelector('#df-4f0586d0-087e-4ded-a6dc-b3d7af668d91');\n",
              "          const dataTable =\n",
              "            await google.colab.kernel.invokeFunction('convertToInteractive',\n",
              "                                                     [key], {});\n",
              "          if (!dataTable) return;\n",
              "\n",
              "          const docLinkHtml = 'Like what you see? Visit the ' +\n",
              "            '<a target=\"_blank\" href=https://colab.research.google.com/notebooks/data_table.ipynb>data table notebook</a>'\n",
              "            + ' to learn more about interactive tables.';\n",
              "          element.innerHTML = '';\n",
              "          dataTable['output_type'] = 'display_data';\n",
              "          await google.colab.output.renderOutput(dataTable, element);\n",
              "          const docLink = document.createElement('div');\n",
              "          docLink.innerHTML = docLinkHtml;\n",
              "          element.appendChild(docLink);\n",
              "        }\n",
              "      </script>\n",
              "    </div>\n",
              "  </div>\n",
              "  "
            ]
          },
          "metadata": {},
          "execution_count": 6
        }
      ]
    },
    {
      "cell_type": "code",
      "source": [
        "label.describe()"
      ],
      "metadata": {
        "colab": {
          "base_uri": "https://localhost:8080/",
          "height": 300
        },
        "id": "Z2VnoQf1BjEQ",
        "outputId": "eb573d7c-ca8d-4db4-b594-92d4d44f2a3e"
      },
      "execution_count": 8,
      "outputs": [
        {
          "output_type": "execute_result",
          "data": {
            "text/plain": [
              "            koor_x       koor_y           Vx           Vy         Temp\n",
              "count  5760.000000  5760.000000  5760.000000  5760.000000  5760.000000\n",
              "mean      0.414486     0.484942     0.628887     0.474154     0.388839\n",
              "std       0.312242     0.280945     0.093430     0.076190     0.228052\n",
              "min       0.000000     0.000000     0.000000     0.000000     0.000000\n",
              "25%       0.146154     0.295918     0.606943     0.464114     0.224905\n",
              "50%       0.415385     0.479592     0.614859     0.479250     0.376316\n",
              "75%       0.715385     0.729592     0.662050     0.496696     0.551096\n",
              "max       1.000000     1.000000     1.000000     1.000000     1.000000"
            ],
            "text/html": [
              "\n",
              "  <div id=\"df-9a70a723-c3d9-41c9-9263-1ee1940ad8fa\">\n",
              "    <div class=\"colab-df-container\">\n",
              "      <div>\n",
              "<style scoped>\n",
              "    .dataframe tbody tr th:only-of-type {\n",
              "        vertical-align: middle;\n",
              "    }\n",
              "\n",
              "    .dataframe tbody tr th {\n",
              "        vertical-align: top;\n",
              "    }\n",
              "\n",
              "    .dataframe thead th {\n",
              "        text-align: right;\n",
              "    }\n",
              "</style>\n",
              "<table border=\"1\" class=\"dataframe\">\n",
              "  <thead>\n",
              "    <tr style=\"text-align: right;\">\n",
              "      <th></th>\n",
              "      <th>koor_x</th>\n",
              "      <th>koor_y</th>\n",
              "      <th>Vx</th>\n",
              "      <th>Vy</th>\n",
              "      <th>Temp</th>\n",
              "    </tr>\n",
              "  </thead>\n",
              "  <tbody>\n",
              "    <tr>\n",
              "      <th>count</th>\n",
              "      <td>5760.000000</td>\n",
              "      <td>5760.000000</td>\n",
              "      <td>5760.000000</td>\n",
              "      <td>5760.000000</td>\n",
              "      <td>5760.000000</td>\n",
              "    </tr>\n",
              "    <tr>\n",
              "      <th>mean</th>\n",
              "      <td>0.414486</td>\n",
              "      <td>0.484942</td>\n",
              "      <td>0.628887</td>\n",
              "      <td>0.474154</td>\n",
              "      <td>0.388839</td>\n",
              "    </tr>\n",
              "    <tr>\n",
              "      <th>std</th>\n",
              "      <td>0.312242</td>\n",
              "      <td>0.280945</td>\n",
              "      <td>0.093430</td>\n",
              "      <td>0.076190</td>\n",
              "      <td>0.228052</td>\n",
              "    </tr>\n",
              "    <tr>\n",
              "      <th>min</th>\n",
              "      <td>0.000000</td>\n",
              "      <td>0.000000</td>\n",
              "      <td>0.000000</td>\n",
              "      <td>0.000000</td>\n",
              "      <td>0.000000</td>\n",
              "    </tr>\n",
              "    <tr>\n",
              "      <th>25%</th>\n",
              "      <td>0.146154</td>\n",
              "      <td>0.295918</td>\n",
              "      <td>0.606943</td>\n",
              "      <td>0.464114</td>\n",
              "      <td>0.224905</td>\n",
              "    </tr>\n",
              "    <tr>\n",
              "      <th>50%</th>\n",
              "      <td>0.415385</td>\n",
              "      <td>0.479592</td>\n",
              "      <td>0.614859</td>\n",
              "      <td>0.479250</td>\n",
              "      <td>0.376316</td>\n",
              "    </tr>\n",
              "    <tr>\n",
              "      <th>75%</th>\n",
              "      <td>0.715385</td>\n",
              "      <td>0.729592</td>\n",
              "      <td>0.662050</td>\n",
              "      <td>0.496696</td>\n",
              "      <td>0.551096</td>\n",
              "    </tr>\n",
              "    <tr>\n",
              "      <th>max</th>\n",
              "      <td>1.000000</td>\n",
              "      <td>1.000000</td>\n",
              "      <td>1.000000</td>\n",
              "      <td>1.000000</td>\n",
              "      <td>1.000000</td>\n",
              "    </tr>\n",
              "  </tbody>\n",
              "</table>\n",
              "</div>\n",
              "      <button class=\"colab-df-convert\" onclick=\"convertToInteractive('df-9a70a723-c3d9-41c9-9263-1ee1940ad8fa')\"\n",
              "              title=\"Convert this dataframe to an interactive table.\"\n",
              "              style=\"display:none;\">\n",
              "        \n",
              "  <svg xmlns=\"http://www.w3.org/2000/svg\" height=\"24px\"viewBox=\"0 0 24 24\"\n",
              "       width=\"24px\">\n",
              "    <path d=\"M0 0h24v24H0V0z\" fill=\"none\"/>\n",
              "    <path d=\"M18.56 5.44l.94 2.06.94-2.06 2.06-.94-2.06-.94-.94-2.06-.94 2.06-2.06.94zm-11 1L8.5 8.5l.94-2.06 2.06-.94-2.06-.94L8.5 2.5l-.94 2.06-2.06.94zm10 10l.94 2.06.94-2.06 2.06-.94-2.06-.94-.94-2.06-.94 2.06-2.06.94z\"/><path d=\"M17.41 7.96l-1.37-1.37c-.4-.4-.92-.59-1.43-.59-.52 0-1.04.2-1.43.59L10.3 9.45l-7.72 7.72c-.78.78-.78 2.05 0 2.83L4 21.41c.39.39.9.59 1.41.59.51 0 1.02-.2 1.41-.59l7.78-7.78 2.81-2.81c.8-.78.8-2.07 0-2.86zM5.41 20L4 18.59l7.72-7.72 1.47 1.35L5.41 20z\"/>\n",
              "  </svg>\n",
              "      </button>\n",
              "      \n",
              "  <style>\n",
              "    .colab-df-container {\n",
              "      display:flex;\n",
              "      flex-wrap:wrap;\n",
              "      gap: 12px;\n",
              "    }\n",
              "\n",
              "    .colab-df-convert {\n",
              "      background-color: #E8F0FE;\n",
              "      border: none;\n",
              "      border-radius: 50%;\n",
              "      cursor: pointer;\n",
              "      display: none;\n",
              "      fill: #1967D2;\n",
              "      height: 32px;\n",
              "      padding: 0 0 0 0;\n",
              "      width: 32px;\n",
              "    }\n",
              "\n",
              "    .colab-df-convert:hover {\n",
              "      background-color: #E2EBFA;\n",
              "      box-shadow: 0px 1px 2px rgba(60, 64, 67, 0.3), 0px 1px 3px 1px rgba(60, 64, 67, 0.15);\n",
              "      fill: #174EA6;\n",
              "    }\n",
              "\n",
              "    [theme=dark] .colab-df-convert {\n",
              "      background-color: #3B4455;\n",
              "      fill: #D2E3FC;\n",
              "    }\n",
              "\n",
              "    [theme=dark] .colab-df-convert:hover {\n",
              "      background-color: #434B5C;\n",
              "      box-shadow: 0px 1px 3px 1px rgba(0, 0, 0, 0.15);\n",
              "      filter: drop-shadow(0px 1px 2px rgba(0, 0, 0, 0.3));\n",
              "      fill: #FFFFFF;\n",
              "    }\n",
              "  </style>\n",
              "\n",
              "      <script>\n",
              "        const buttonEl =\n",
              "          document.querySelector('#df-9a70a723-c3d9-41c9-9263-1ee1940ad8fa button.colab-df-convert');\n",
              "        buttonEl.style.display =\n",
              "          google.colab.kernel.accessAllowed ? 'block' : 'none';\n",
              "\n",
              "        async function convertToInteractive(key) {\n",
              "          const element = document.querySelector('#df-9a70a723-c3d9-41c9-9263-1ee1940ad8fa');\n",
              "          const dataTable =\n",
              "            await google.colab.kernel.invokeFunction('convertToInteractive',\n",
              "                                                     [key], {});\n",
              "          if (!dataTable) return;\n",
              "\n",
              "          const docLinkHtml = 'Like what you see? Visit the ' +\n",
              "            '<a target=\"_blank\" href=https://colab.research.google.com/notebooks/data_table.ipynb>data table notebook</a>'\n",
              "            + ' to learn more about interactive tables.';\n",
              "          element.innerHTML = '';\n",
              "          dataTable['output_type'] = 'display_data';\n",
              "          await google.colab.output.renderOutput(dataTable, element);\n",
              "          const docLink = document.createElement('div');\n",
              "          docLink.innerHTML = docLinkHtml;\n",
              "          element.appendChild(docLink);\n",
              "        }\n",
              "      </script>\n",
              "    </div>\n",
              "  </div>\n",
              "  "
            ]
          },
          "metadata": {},
          "execution_count": 8
        }
      ]
    },
    {
      "cell_type": "code",
      "source": [
        "array_y = []\n",
        "for i in range(30):\n",
        "  frame= label[i::30]\n",
        "  frame = frame.drop(['koor_x','koor_y',],axis=1)\n",
        "  frame = frame.drop(['Vx','Vy'],axis=1)\n",
        "  array_y.append(frame)"
      ],
      "metadata": {
        "id": "v2dxN8kkBuh0"
      },
      "execution_count": 9,
      "outputs": []
    },
    {
      "cell_type": "code",
      "source": [
        "! mkdir models\n",
        "y_testing = []\n",
        "\n",
        "import joblib\n",
        "from sklearn.linear_model import LinearRegression\n",
        "\n",
        "#model\n",
        "from sklearn.svm import SVR\n",
        "from sklearn.linear_model import Lasso, LogisticRegression, Ridge, ElasticNet,LassoLars\n",
        "from sklearn.ensemble import RandomForestRegressor\n",
        "\n",
        "#preprocessing and metric\n",
        "from sklearn.model_selection import train_test_split\n",
        "from sklearn.metrics import r2_score as r2\n",
        "from sklearn.metrics import mean_squared_error as mse\n",
        "from sklearn.metrics import mean_absolute_error as mae\n",
        "\n",
        "for i in range(30):\n",
        "  x = np.array(feature)\n",
        "  y = np.array(array_y[i])\n",
        "  x_train,x_test,y_train,y_test = train_test_split(x,y, test_size=0.15, random_state= 10)\n",
        "  y_testing.append(y_test)\n",
        "  #fitting\n",
        "  regressor = LassoLars(alpha=0.1, normalize=False)\n",
        "  regressor.fit(x_train,y_train)\n",
        "  joblib.dump(regressor,f'/content/models/model {i}',)"
      ],
      "metadata": {
        "id": "jocyA-yKB7yH"
      },
      "execution_count": 10,
      "outputs": []
    },
    {
      "cell_type": "code",
      "source": [
        "skor_r2=[]\n",
        "mae_=[]\n",
        "rmse = []\n",
        "y_predict = []\n",
        "for i in range(30):\n",
        "  model = joblib.load(f'/content/models/model {i}')\n",
        "  y_pred = model.predict(x_test)\n",
        "  Skor_r2 = r2(y_test,y_pred)\n",
        "  RMSE = mse(y_test,y_pred,squared=False)\n",
        "  MAE = mae(y_test,y_pred)\n",
        "  y_predict.append(y_pred)\n",
        "  skor_r2.append(Skor_r2)\n",
        "  mae_.append(MAE)\n",
        "  rmse.append(RMSE)"
      ],
      "metadata": {
        "id": "gSsdhkEECTN6"
      },
      "execution_count": 11,
      "outputs": []
    },
    {
      "cell_type": "code",
      "source": [
        "skor_r2 = np.array(skor_r2)\n",
        "rmse = np.array(rmse)\n",
        "mae_=np.array(mae_)\n",
        "y_predict = np.array(y_predict)\n",
        "y_testing = np.array(y_testing)"
      ],
      "metadata": {
        "id": "DA3lNhyNCa06"
      },
      "execution_count": 12,
      "outputs": []
    },
    {
      "cell_type": "code",
      "source": [
        "skor_r2.shape, rmse.shape, y_predict.shape, y_testing.shape"
      ],
      "metadata": {
        "colab": {
          "base_uri": "https://localhost:8080/"
        },
        "id": "s9Vr1BEXCdud",
        "outputId": "a6e122ae-7860-4002-aff7-9568f12b7cb2"
      },
      "execution_count": 13,
      "outputs": [
        {
          "output_type": "execute_result",
          "data": {
            "text/plain": [
              "((30,), (30,), (30, 29), (30, 29, 1))"
            ]
          },
          "metadata": {},
          "execution_count": 13
        }
      ]
    },
    {
      "cell_type": "code",
      "source": [
        "r2_matrix = skor_r2.reshape(5,6)\n",
        "rmse_matrix = rmse.reshape(5,6)\n",
        "mae_matrix = mae_.reshape(5,6)"
      ],
      "metadata": {
        "id": "PR5vNWBDCgD0"
      },
      "execution_count": 14,
      "outputs": []
    },
    {
      "cell_type": "code",
      "source": [
        "import numpy as np\n",
        "import seaborn as sns\n",
        "import matplotlib.pylab as plt\n",
        "\n",
        "ax = sns.heatmap(r2_matrix, linewidth=0.5, cmap=\"RdYlBu\")\n",
        "plt.show()"
      ],
      "metadata": {
        "colab": {
          "base_uri": "https://localhost:8080/",
          "height": 265
        },
        "id": "1mN1dkPzCoGx",
        "outputId": "4b214abc-6b0f-4e2a-869b-a6c1c57d3a81"
      },
      "execution_count": 15,
      "outputs": [
        {
          "output_type": "display_data",
          "data": {
            "text/plain": [
              "<Figure size 432x288 with 2 Axes>"
            ],
            "image/png": "[encoded data removed]"
          },
          "metadata": {
            "needs_background": "light"
          }
        }
      ]
    },
    {
      "cell_type": "code",
      "source": [
        "bx = sns.heatmap(mae_matrix, linewidth=0.5, cmap=\"RdYlBu_r\")\n",
        "plt.show()"
      ],
      "metadata": {
        "colab": {
          "base_uri": "https://localhost:8080/",
          "height": 265
        },
        "id": "6AW0v825CtxM",
        "outputId": "6f74501e-4bd4-43c1-9c1b-bcb128e590a0"
      },
      "execution_count": 16,
      "outputs": [
        {
          "output_type": "display_data",
          "data": {
            "text/plain": [
              "<Figure size 432x288 with 2 Axes>"
            ],
            "image/png": "[encoded data removed]"
          },
          "metadata": {
            "needs_background": "light"
          }
        }
      ]
    },
    {
      "cell_type": "code",
      "source": [
        "cx = sns.heatmap(rmse_matrix, linewidth=0.5, cmap=\"RdYlBu_r\")\n",
        "plt.show()"
      ],
      "metadata": {
        "id": "POXNNlKlB1_F",
        "outputId": "bdc773d1-1eff-44c0-bc9f-8da6a019d657",
        "colab": {
          "base_uri": "https://localhost:8080/",
          "height": 265
        }
      },
      "execution_count": 17,
      "outputs": [
        {
          "output_type": "display_data",
          "data": {
            "text/plain": [
              "<Figure size 432x288 with 2 Axes>"
            ],
            "image/png": "[encoded data removed]"
          },
          "metadata": {
            "needs_background": "light"
          }
        }
      ]
    },
    {
      "cell_type": "code",
      "source": [
        "scenarios = 2  #0-28\n",
        "indexing = 0    #0-3 (Vx,Vy,Vz,temp)"
      ],
      "metadata": {
        "id": "-m-WCYjoC1gs"
      },
      "execution_count": 18,
      "outputs": []
    },
    {
      "cell_type": "code",
      "source": [
        "a = y_testing[(...,scenarios,indexing)]\n",
        "b = y_predict[...,scenarios]\n",
        "a = np.array(a)\n",
        "b = np.array(b)\n",
        "a = a.reshape(5,6)\n",
        "b = b.reshape(5,6)\n",
        "print('reshaped')"
      ],
      "metadata": {
        "colab": {
          "base_uri": "https://localhost:8080/"
        },
        "id": "R2e8k6Q7Cw9y",
        "outputId": "c4c33adf-e7bf-44b4-b55f-7152aad01739"
      },
      "execution_count": 19,
      "outputs": [
        {
          "output_type": "stream",
          "name": "stdout",
          "text": [
            "reshaped\n"
          ]
        }
      ]
    },
    {
      "cell_type": "code",
      "source": [
        "!zip -r /content/models_temp_30.zip /content/models"
      ],
      "metadata": {
        "colab": {
          "base_uri": "https://localhost:8080/"
        },
        "id": "75i0ZeUaDA9G",
        "outputId": "614f46e7-6f12-4bb9-c731-1da9cbbd5013"
      },
      "execution_count": 20,
      "outputs": [
        {
          "output_type": "stream",
          "name": "stdout",
          "text": [
            "  adding: content/models/ (stored 0%)\n",
            "  adding: content/models/model 26 (deflated 47%)\n",
            "  adding: content/models/model 19 (deflated 47%)\n",
            "  adding: content/models/model 24 (deflated 47%)\n",
            "  adding: content/models/model 16 (deflated 47%)\n",
            "  adding: content/models/model 9 (deflated 47%)\n",
            "  adding: content/models/model 21 (deflated 47%)\n",
            "  adding: content/models/model 13 (deflated 47%)\n",
            "  adding: content/models/model 4 (deflated 47%)\n",
            "  adding: content/models/model 0 (deflated 47%)\n",
            "  adding: content/models/model 10 (deflated 47%)\n",
            "  adding: content/models/model 27 (deflated 47%)\n",
            "  adding: content/models/model 7 (deflated 47%)\n",
            "  adding: content/models/model 14 (deflated 47%)\n",
            "  adding: content/models/model 1 (deflated 47%)\n",
            "  adding: content/models/model 2 (deflated 47%)\n",
            "  adding: content/models/model 18 (deflated 47%)\n",
            "  adding: content/models/model 15 (deflated 47%)\n",
            "  adding: content/models/model 8 (deflated 47%)\n",
            "  adding: content/models/model 12 (deflated 47%)\n",
            "  adding: content/models/model 25 (deflated 47%)\n",
            "  adding: content/models/model 6 (deflated 47%)\n",
            "  adding: content/models/model 22 (deflated 47%)\n",
            "  adding: content/models/model 3 (deflated 47%)\n",
            "  adding: content/models/model 17 (deflated 47%)\n",
            "  adding: content/models/model 29 (deflated 47%)\n",
            "  adding: content/models/model 20 (deflated 47%)\n",
            "  adding: content/models/model 23 (deflated 47%)\n",
            "  adding: content/models/model 28 (deflated 47%)\n",
            "  adding: content/models/model 11 (deflated 47%)\n",
            "  adding: content/models/model 5 (deflated 47%)\n"
          ]
        }
      ]
    }
  ]
}