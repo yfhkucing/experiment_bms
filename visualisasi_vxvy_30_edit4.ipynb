{
  "nbformat": 4,
  "nbformat_minor": 0,
  "metadata": {
    "colab": {
      "provenance": [],
      "authorship_tag": "ABX9TyMvDcSHW+K4g5iCcPqmmBNL",
      "include_colab_link": true
    },
    "kernelspec": {
      "name": "python3",
      "display_name": "Python 3"
    },
    "language_info": {
      "name": "python"
    }
  },
  "cells": [
    {
      "cell_type": "markdown",
      "metadata": {
        "id": "view-in-github",
        "colab_type": "text"
      },
      "source": [
        "<a href=\"https://colab.research.google.com/github/yfhkucing/experiment_bms/blob/master/visualisasi_vxvy_30_edit4.ipynb\" target=\"_parent\"><img src=\"https://colab.research.google.com/assets/colab-badge.svg\" alt=\"Open In Colab\"/></a>"
      ]
    },
    {
      "cell_type": "code",
      "execution_count": 40,
      "metadata": {
        "id": "tU4nfSGSgrgL",
        "colab": {
          "base_uri": "https://localhost:8080/"
        },
        "outputId": "a6272c3c-7d5f-4457-d3ee-c72eb8e4ddfa"
      },
      "outputs": [
        {
          "output_type": "stream",
          "name": "stdout",
          "text": [
            "Looking in indexes: https://pypi.org/simple, https://us-python.pkg.dev/colab-wheels/public/simple/\n",
            "Requirement already satisfied: kaleido in /usr/local/lib/python3.7/dist-packages (0.2.1)\n"
          ]
        }
      ],
      "source": [
        "! pip install -U kaleido"
      ]
    },
    {
      "cell_type": "code",
      "source": [
        "import joblib\n",
        "import numpy as np\n",
        "import pandas as pd"
      ],
      "metadata": {
        "id": "GM7QeNucg1vC"
      },
      "execution_count": 41,
      "outputs": []
    },
    {
      "cell_type": "code",
      "source": [
        "! unzip /content/models_vxvy_30_a001.zip"
      ],
      "metadata": {
        "id": "0n2v7CnJg7b4",
        "colab": {
          "base_uri": "https://localhost:8080/"
        },
        "outputId": "79ece5a1-a65c-4d27-fa40-a49012cca362"
      },
      "execution_count": 42,
      "outputs": [
        {
          "output_type": "stream",
          "name": "stdout",
          "text": [
            "Archive:  /content/models_vxvy_30_a001.zip\n",
            "replace content/models/model 25? [y]es, [n]o, [A]ll, [N]one, [r]ename: A\n",
            "  inflating: content/models/model 25  \n",
            "  inflating: content/models/model 18  \n",
            "  inflating: content/models/model 27  \n",
            "  inflating: content/models/model 4  \n",
            "  inflating: content/models/model 23  \n",
            "  inflating: content/models/model 26  \n",
            "  inflating: content/models/model 3  \n",
            "  inflating: content/models/model 11  \n",
            "  inflating: content/models/model 0  \n",
            "  inflating: content/models/model 21  \n",
            "  inflating: content/models/model 14  \n",
            "  inflating: content/models/model 9  \n",
            "  inflating: content/models/model 2  \n",
            "  inflating: content/models/model 13  \n",
            "  inflating: content/models/model 19  \n",
            "  inflating: content/models/model 8  \n",
            "  inflating: content/models/model 16  \n",
            "  inflating: content/models/model 12  \n",
            "  inflating: content/models/model 28  \n",
            "  inflating: content/models/model 10  \n",
            "  inflating: content/models/model 6  \n",
            "  inflating: content/models/model 29  \n",
            "  inflating: content/models/model 5  \n",
            "  inflating: content/models/model 15  \n",
            "  inflating: content/models/model 24  \n",
            "  inflating: content/models/model 17  \n",
            "  inflating: content/models/model 7  \n",
            "  inflating: content/models/model 1  \n",
            "  inflating: content/models/model 20  \n",
            "  inflating: content/models/model 22  \n"
          ]
        }
      ]
    },
    {
      "cell_type": "code",
      "source": [
        "feature = pd.read_excel('data_model.xlsx',sheet_name='feature')\n",
        "label = pd.read_excel('data_model.xlsx',sheet_name='label_30')"
      ],
      "metadata": {
        "id": "Hrj6CFrbhBpZ"
      },
      "execution_count": 43,
      "outputs": []
    },
    {
      "cell_type": "code",
      "source": [
        "def norm(df):\n",
        "  df=(df-df.min())/(df.max()-df.min())\n",
        "  return df\n",
        "\n",
        "def remap(df,new_max,new_min):\n",
        "  df = (df-df.min())/(df.max()-df.min())*(new_max - new_min) + new_min\n",
        "  return df\n",
        "\n",
        "'''\n",
        "def rescale(df,new_max,new_min):\n",
        "  df = df *(new_max - new_min) + new_min\n",
        "  return df\n",
        "'''\n",
        "\n",
        "from sklearn.preprocessing import StandardScaler\n",
        "def standard(df):\n",
        "  scaler = StandardScaler()\n",
        "  df = scaler.fit_transform(df)\n",
        "  return df\n",
        "\n",
        "def rescale(df,df2):\n",
        "  new_max = df2.max()\n",
        "  new_min = df2.min()\n",
        "  df = (df)*(new_max - new_min) + new_min\n",
        "  return df"
      ],
      "metadata": {
        "id": "v-PIpO_ihESs"
      },
      "execution_count": 44,
      "outputs": []
    },
    {
      "cell_type": "code",
      "source": [
        "feature = norm(feature)"
      ],
      "metadata": {
        "id": "3L5xmcHahP3c"
      },
      "execution_count": 45,
      "outputs": []
    },
    {
      "cell_type": "code",
      "source": [
        "array_y = []\n",
        "array_y_not_normal = []\n",
        "\n",
        "for i in range(30):\n",
        "  frame= label[i::30]\n",
        "  frame = frame.drop(['koor_x','koor_y','Temp'],axis=1)\n",
        "  array_y_not_normal.append(frame)\n",
        "  frame = norm(frame)\n",
        "  array_y.append(frame)"
      ],
      "metadata": {
        "id": "56GoYouthQZV"
      },
      "execution_count": 46,
      "outputs": []
    },
    {
      "cell_type": "code",
      "source": [
        "a = round(rescale(array_y[0],array_y_not_normal[0]),9)"
      ],
      "metadata": {
        "id": "X-_YkxJe1cwn"
      },
      "execution_count": 47,
      "outputs": []
    },
    {
      "cell_type": "code",
      "source": [
        "a.describe() == array_y_not_normal[0].describe()"
      ],
      "metadata": {
        "id": "aYiVdS164RVw",
        "colab": {
          "base_uri": "https://localhost:8080/",
          "height": 300
        },
        "outputId": "71bc0064-b29c-4c87-dd2d-4f713f0abf26"
      },
      "execution_count": 48,
      "outputs": [
        {
          "output_type": "execute_result",
          "data": {
            "text/plain": [
              "         Vx    Vy\n",
              "count  True  True\n",
              "mean   True  True\n",
              "std    True  True\n",
              "min    True  True\n",
              "25%    True  True\n",
              "50%    True  True\n",
              "75%    True  True\n",
              "max    True  True"
            ],
            "text/html": [
              "\n",
              "  <div id=\"df-35ad07f9-1d43-457c-aa09-2cd1d59c3386\">\n",
              "    <div class=\"colab-df-container\">\n",
              "      <div>\n",
              "<style scoped>\n",
              "    .dataframe tbody tr th:only-of-type {\n",
              "        vertical-align: middle;\n",
              "    }\n",
              "\n",
              "    .dataframe tbody tr th {\n",
              "        vertical-align: top;\n",
              "    }\n",
              "\n",
              "    .dataframe thead th {\n",
              "        text-align: right;\n",
              "    }\n",
              "</style>\n",
              "<table border=\"1\" class=\"dataframe\">\n",
              "  <thead>\n",
              "    <tr style=\"text-align: right;\">\n",
              "      <th></th>\n",
              "      <th>Vx</th>\n",
              "      <th>Vy</th>\n",
              "    </tr>\n",
              "  </thead>\n",
              "  <tbody>\n",
              "    <tr>\n",
              "      <th>count</th>\n",
              "      <td>True</td>\n",
              "      <td>True</td>\n",
              "    </tr>\n",
              "    <tr>\n",
              "      <th>mean</th>\n",
              "      <td>True</td>\n",
              "      <td>True</td>\n",
              "    </tr>\n",
              "    <tr>\n",
              "      <th>std</th>\n",
              "      <td>True</td>\n",
              "      <td>True</td>\n",
              "    </tr>\n",
              "    <tr>\n",
              "      <th>min</th>\n",
              "      <td>True</td>\n",
              "      <td>True</td>\n",
              "    </tr>\n",
              "    <tr>\n",
              "      <th>25%</th>\n",
              "      <td>True</td>\n",
              "      <td>True</td>\n",
              "    </tr>\n",
              "    <tr>\n",
              "      <th>50%</th>\n",
              "      <td>True</td>\n",
              "      <td>True</td>\n",
              "    </tr>\n",
              "    <tr>\n",
              "      <th>75%</th>\n",
              "      <td>True</td>\n",
              "      <td>True</td>\n",
              "    </tr>\n",
              "    <tr>\n",
              "      <th>max</th>\n",
              "      <td>True</td>\n",
              "      <td>True</td>\n",
              "    </tr>\n",
              "  </tbody>\n",
              "</table>\n",
              "</div>\n",
              "      <button class=\"colab-df-convert\" onclick=\"convertToInteractive('df-35ad07f9-1d43-457c-aa09-2cd1d59c3386')\"\n",
              "              title=\"Convert this dataframe to an interactive table.\"\n",
              "              style=\"display:none;\">\n",
              "        \n",
              "  <svg xmlns=\"http://www.w3.org/2000/svg\" height=\"24px\"viewBox=\"0 0 24 24\"\n",
              "       width=\"24px\">\n",
              "    <path d=\"M0 0h24v24H0V0z\" fill=\"none\"/>\n",
              "    <path d=\"M18.56 5.44l.94 2.06.94-2.06 2.06-.94-2.06-.94-.94-2.06-.94 2.06-2.06.94zm-11 1L8.5 8.5l.94-2.06 2.06-.94-2.06-.94L8.5 2.5l-.94 2.06-2.06.94zm10 10l.94 2.06.94-2.06 2.06-.94-2.06-.94-.94-2.06-.94 2.06-2.06.94z\"/><path d=\"M17.41 7.96l-1.37-1.37c-.4-.4-.92-.59-1.43-.59-.52 0-1.04.2-1.43.59L10.3 9.45l-7.72 7.72c-.78.78-.78 2.05 0 2.83L4 21.41c.39.39.9.59 1.41.59.51 0 1.02-.2 1.41-.59l7.78-7.78 2.81-2.81c.8-.78.8-2.07 0-2.86zM5.41 20L4 18.59l7.72-7.72 1.47 1.35L5.41 20z\"/>\n",
              "  </svg>\n",
              "      </button>\n",
              "      \n",
              "  <style>\n",
              "    .colab-df-container {\n",
              "      display:flex;\n",
              "      flex-wrap:wrap;\n",
              "      gap: 12px;\n",
              "    }\n",
              "\n",
              "    .colab-df-convert {\n",
              "      background-color: #E8F0FE;\n",
              "      border: none;\n",
              "      border-radius: 50%;\n",
              "      cursor: pointer;\n",
              "      display: none;\n",
              "      fill: #1967D2;\n",
              "      height: 32px;\n",
              "      padding: 0 0 0 0;\n",
              "      width: 32px;\n",
              "    }\n",
              "\n",
              "    .colab-df-convert:hover {\n",
              "      background-color: #E2EBFA;\n",
              "      box-shadow: 0px 1px 2px rgba(60, 64, 67, 0.3), 0px 1px 3px 1px rgba(60, 64, 67, 0.15);\n",
              "      fill: #174EA6;\n",
              "    }\n",
              "\n",
              "    [theme=dark] .colab-df-convert {\n",
              "      background-color: #3B4455;\n",
              "      fill: #D2E3FC;\n",
              "    }\n",
              "\n",
              "    [theme=dark] .colab-df-convert:hover {\n",
              "      background-color: #434B5C;\n",
              "      box-shadow: 0px 1px 3px 1px rgba(0, 0, 0, 0.15);\n",
              "      filter: drop-shadow(0px 1px 2px rgba(0, 0, 0, 0.3));\n",
              "      fill: #FFFFFF;\n",
              "    }\n",
              "  </style>\n",
              "\n",
              "      <script>\n",
              "        const buttonEl =\n",
              "          document.querySelector('#df-35ad07f9-1d43-457c-aa09-2cd1d59c3386 button.colab-df-convert');\n",
              "        buttonEl.style.display =\n",
              "          google.colab.kernel.accessAllowed ? 'block' : 'none';\n",
              "\n",
              "        async function convertToInteractive(key) {\n",
              "          const element = document.querySelector('#df-35ad07f9-1d43-457c-aa09-2cd1d59c3386');\n",
              "          const dataTable =\n",
              "            await google.colab.kernel.invokeFunction('convertToInteractive',\n",
              "                                                     [key], {});\n",
              "          if (!dataTable) return;\n",
              "\n",
              "          const docLinkHtml = 'Like what you see? Visit the ' +\n",
              "            '<a target=\"_blank\" href=https://colab.research.google.com/notebooks/data_table.ipynb>data table notebook</a>'\n",
              "            + ' to learn more about interactive tables.';\n",
              "          element.innerHTML = '';\n",
              "          dataTable['output_type'] = 'display_data';\n",
              "          await google.colab.output.renderOutput(dataTable, element);\n",
              "          const docLink = document.createElement('div');\n",
              "          docLink.innerHTML = docLinkHtml;\n",
              "          element.appendChild(docLink);\n",
              "        }\n",
              "      </script>\n",
              "    </div>\n",
              "  </div>\n",
              "  "
            ]
          },
          "metadata": {},
          "execution_count": 48
        }
      ]
    },
    {
      "cell_type": "code",
      "source": [
        "from sklearn.model_selection import train_test_split\n",
        "from sklearn.metrics import r2_score as r2\n",
        "from sklearn.metrics import mean_squared_error as mse\n",
        "from sklearn.metrics import mean_absolute_error as mae\n",
        "\n",
        "skor_r2=[]\n",
        "mae_=[]\n",
        "rmse = []\n",
        "y_predict = []\n",
        "y_test = []\n",
        "for i in range(30):\n",
        "  x = np.array(feature)\n",
        "  y = np.array(array_y[i])\n",
        "  model = joblib.load(f'/content/content/models/model {i}')\n",
        "  y_pred = model.predict(x)\n",
        "  Skor_r2 = r2(y,y_pred)\n",
        "  RMSE = mse(y,y_pred,squared=False)\n",
        "  MAE = mae(y,y_pred)\n",
        "  y_predict.append(y_pred)\n",
        "  skor_r2.append(Skor_r2)\n",
        "  mae_.append(MAE)\n",
        "  rmse.append(RMSE)"
      ],
      "metadata": {
        "id": "eMoAM8yBhWvp"
      },
      "execution_count": 49,
      "outputs": []
    },
    {
      "cell_type": "code",
      "source": [
        "skor_r2 = np.array(skor_r2)\n",
        "rmse = np.array(rmse)\n",
        "mae_=np.array(mae_)\n",
        "y_predict = np.array(y_predict)\n",
        "y = np.array(array_y)"
      ],
      "metadata": {
        "id": "3G0C77vBhb6L"
      },
      "execution_count": 50,
      "outputs": []
    },
    {
      "cell_type": "code",
      "source": [
        "y.shape,y_predict.shape"
      ],
      "metadata": {
        "id": "1bqo5_KUsvpm",
        "colab": {
          "base_uri": "https://localhost:8080/"
        },
        "outputId": "77b5edef-b5e8-4db9-be62-340a9e4ee5bf"
      },
      "execution_count": 51,
      "outputs": [
        {
          "output_type": "execute_result",
          "data": {
            "text/plain": [
              "((30, 192, 2), (30, 192, 2))"
            ]
          },
          "metadata": {},
          "execution_count": 51
        }
      ]
    },
    {
      "cell_type": "code",
      "source": [
        "#error per skenario\n",
        "\n",
        "r_squared = []\n",
        "abs_error = []\n",
        "sqrt_error = []\n",
        "indexing = 0,1\n",
        "for i in range(192):\n",
        "  a = y[...,i,indexing]\n",
        "  b = y_predict[...,i,indexing]\n",
        "  r_squared.append(r2(a,b))\n",
        "  abs_error.append(mae(a,b))\n",
        "  sqrt_error.append(mse(a,b))"
      ],
      "metadata": {
        "id": "3K5i_Lu_hebD"
      },
      "execution_count": 52,
      "outputs": []
    },
    {
      "cell_type": "code",
      "source": [
        "error = pd.DataFrame(r_squared,columns=['r2'])\n",
        "abs_error = pd.DataFrame(abs_error,columns=['mae'])\n",
        "sqrt_error = pd.DataFrame(sqrt_error,columns=['rmse'])\n",
        "error = error.join(abs_error)\n",
        "error = error.join(sqrt_error)"
      ],
      "metadata": {
        "id": "sQgP16s1hgPc"
      },
      "execution_count": 53,
      "outputs": []
    },
    {
      "cell_type": "code",
      "source": [
        "error.describe()"
      ],
      "metadata": {
        "id": "SAnWlj0Ghm5c",
        "colab": {
          "base_uri": "https://localhost:8080/",
          "height": 300
        },
        "outputId": "67dc4754-db5f-43cf-fbdb-f13008f42669"
      },
      "execution_count": 54,
      "outputs": [
        {
          "output_type": "execute_result",
          "data": {
            "text/plain": [
              "               r2         mae        rmse\n",
              "count  192.000000  192.000000  192.000000\n",
              "mean     0.675009    0.097834    0.020871\n",
              "std      0.318383    0.049335    0.020761\n",
              "min     -0.454753    0.034778    0.002069\n",
              "25%      0.491082    0.058504    0.005602\n",
              "50%      0.791306    0.083056    0.011629\n",
              "75%      0.891510    0.139455    0.033433\n",
              "max      0.958288    0.241807    0.099410"
            ],
            "text/html": [
              "\n",
              "  <div id=\"df-c6e9d4f2-a2f7-446d-8ce2-5ffdcfdf4c77\">\n",
              "    <div class=\"colab-df-container\">\n",
              "      <div>\n",
              "<style scoped>\n",
              "    .dataframe tbody tr th:only-of-type {\n",
              "        vertical-align: middle;\n",
              "    }\n",
              "\n",
              "    .dataframe tbody tr th {\n",
              "        vertical-align: top;\n",
              "    }\n",
              "\n",
              "    .dataframe thead th {\n",
              "        text-align: right;\n",
              "    }\n",
              "</style>\n",
              "<table border=\"1\" class=\"dataframe\">\n",
              "  <thead>\n",
              "    <tr style=\"text-align: right;\">\n",
              "      <th></th>\n",
              "      <th>r2</th>\n",
              "      <th>mae</th>\n",
              "      <th>rmse</th>\n",
              "    </tr>\n",
              "  </thead>\n",
              "  <tbody>\n",
              "    <tr>\n",
              "      <th>count</th>\n",
              "      <td>192.000000</td>\n",
              "      <td>192.000000</td>\n",
              "      <td>192.000000</td>\n",
              "    </tr>\n",
              "    <tr>\n",
              "      <th>mean</th>\n",
              "      <td>0.675009</td>\n",
              "      <td>0.097834</td>\n",
              "      <td>0.020871</td>\n",
              "    </tr>\n",
              "    <tr>\n",
              "      <th>std</th>\n",
              "      <td>0.318383</td>\n",
              "      <td>0.049335</td>\n",
              "      <td>0.020761</td>\n",
              "    </tr>\n",
              "    <tr>\n",
              "      <th>min</th>\n",
              "      <td>-0.454753</td>\n",
              "      <td>0.034778</td>\n",
              "      <td>0.002069</td>\n",
              "    </tr>\n",
              "    <tr>\n",
              "      <th>25%</th>\n",
              "      <td>0.491082</td>\n",
              "      <td>0.058504</td>\n",
              "      <td>0.005602</td>\n",
              "    </tr>\n",
              "    <tr>\n",
              "      <th>50%</th>\n",
              "      <td>0.791306</td>\n",
              "      <td>0.083056</td>\n",
              "      <td>0.011629</td>\n",
              "    </tr>\n",
              "    <tr>\n",
              "      <th>75%</th>\n",
              "      <td>0.891510</td>\n",
              "      <td>0.139455</td>\n",
              "      <td>0.033433</td>\n",
              "    </tr>\n",
              "    <tr>\n",
              "      <th>max</th>\n",
              "      <td>0.958288</td>\n",
              "      <td>0.241807</td>\n",
              "      <td>0.099410</td>\n",
              "    </tr>\n",
              "  </tbody>\n",
              "</table>\n",
              "</div>\n",
              "      <button class=\"colab-df-convert\" onclick=\"convertToInteractive('df-c6e9d4f2-a2f7-446d-8ce2-5ffdcfdf4c77')\"\n",
              "              title=\"Convert this dataframe to an interactive table.\"\n",
              "              style=\"display:none;\">\n",
              "        \n",
              "  <svg xmlns=\"http://www.w3.org/2000/svg\" height=\"24px\"viewBox=\"0 0 24 24\"\n",
              "       width=\"24px\">\n",
              "    <path d=\"M0 0h24v24H0V0z\" fill=\"none\"/>\n",
              "    <path d=\"M18.56 5.44l.94 2.06.94-2.06 2.06-.94-2.06-.94-.94-2.06-.94 2.06-2.06.94zm-11 1L8.5 8.5l.94-2.06 2.06-.94-2.06-.94L8.5 2.5l-.94 2.06-2.06.94zm10 10l.94 2.06.94-2.06 2.06-.94-2.06-.94-.94-2.06-.94 2.06-2.06.94z\"/><path d=\"M17.41 7.96l-1.37-1.37c-.4-.4-.92-.59-1.43-.59-.52 0-1.04.2-1.43.59L10.3 9.45l-7.72 7.72c-.78.78-.78 2.05 0 2.83L4 21.41c.39.39.9.59 1.41.59.51 0 1.02-.2 1.41-.59l7.78-7.78 2.81-2.81c.8-.78.8-2.07 0-2.86zM5.41 20L4 18.59l7.72-7.72 1.47 1.35L5.41 20z\"/>\n",
              "  </svg>\n",
              "      </button>\n",
              "      \n",
              "  <style>\n",
              "    .colab-df-container {\n",
              "      display:flex;\n",
              "      flex-wrap:wrap;\n",
              "      gap: 12px;\n",
              "    }\n",
              "\n",
              "    .colab-df-convert {\n",
              "      background-color: #E8F0FE;\n",
              "      border: none;\n",
              "      border-radius: 50%;\n",
              "      cursor: pointer;\n",
              "      display: none;\n",
              "      fill: #1967D2;\n",
              "      height: 32px;\n",
              "      padding: 0 0 0 0;\n",
              "      width: 32px;\n",
              "    }\n",
              "\n",
              "    .colab-df-convert:hover {\n",
              "      background-color: #E2EBFA;\n",
              "      box-shadow: 0px 1px 2px rgba(60, 64, 67, 0.3), 0px 1px 3px 1px rgba(60, 64, 67, 0.15);\n",
              "      fill: #174EA6;\n",
              "    }\n",
              "\n",
              "    [theme=dark] .colab-df-convert {\n",
              "      background-color: #3B4455;\n",
              "      fill: #D2E3FC;\n",
              "    }\n",
              "\n",
              "    [theme=dark] .colab-df-convert:hover {\n",
              "      background-color: #434B5C;\n",
              "      box-shadow: 0px 1px 3px 1px rgba(0, 0, 0, 0.15);\n",
              "      filter: drop-shadow(0px 1px 2px rgba(0, 0, 0, 0.3));\n",
              "      fill: #FFFFFF;\n",
              "    }\n",
              "  </style>\n",
              "\n",
              "      <script>\n",
              "        const buttonEl =\n",
              "          document.querySelector('#df-c6e9d4f2-a2f7-446d-8ce2-5ffdcfdf4c77 button.colab-df-convert');\n",
              "        buttonEl.style.display =\n",
              "          google.colab.kernel.accessAllowed ? 'block' : 'none';\n",
              "\n",
              "        async function convertToInteractive(key) {\n",
              "          const element = document.querySelector('#df-c6e9d4f2-a2f7-446d-8ce2-5ffdcfdf4c77');\n",
              "          const dataTable =\n",
              "            await google.colab.kernel.invokeFunction('convertToInteractive',\n",
              "                                                     [key], {});\n",
              "          if (!dataTable) return;\n",
              "\n",
              "          const docLinkHtml = 'Like what you see? Visit the ' +\n",
              "            '<a target=\"_blank\" href=https://colab.research.google.com/notebooks/data_table.ipynb>data table notebook</a>'\n",
              "            + ' to learn more about interactive tables.';\n",
              "          element.innerHTML = '';\n",
              "          dataTable['output_type'] = 'display_data';\n",
              "          await google.colab.output.renderOutput(dataTable, element);\n",
              "          const docLink = document.createElement('div');\n",
              "          docLink.innerHTML = docLinkHtml;\n",
              "          element.appendChild(docLink);\n",
              "        }\n",
              "      </script>\n",
              "    </div>\n",
              "  </div>\n",
              "  "
            ]
          },
          "metadata": {},
          "execution_count": 54
        }
      ]
    },
    {
      "cell_type": "code",
      "source": [
        "error[error.r2 == error.r2.max()]"
      ],
      "metadata": {
        "id": "KFgXmSvBhn73",
        "colab": {
          "base_uri": "https://localhost:8080/",
          "height": 81
        },
        "outputId": "16ff6d45-5bbf-4421-de34-0364489ebdd2"
      },
      "execution_count": 55,
      "outputs": [
        {
          "output_type": "execute_result",
          "data": {
            "text/plain": [
              "          r2       mae      rmse\n",
              "12  0.958288  0.034778  0.002069"
            ],
            "text/html": [
              "\n",
              "  <div id=\"df-61ba9bb0-e98f-4924-affc-8309d1f44cea\">\n",
              "    <div class=\"colab-df-container\">\n",
              "      <div>\n",
              "<style scoped>\n",
              "    .dataframe tbody tr th:only-of-type {\n",
              "        vertical-align: middle;\n",
              "    }\n",
              "\n",
              "    .dataframe tbody tr th {\n",
              "        vertical-align: top;\n",
              "    }\n",
              "\n",
              "    .dataframe thead th {\n",
              "        text-align: right;\n",
              "    }\n",
              "</style>\n",
              "<table border=\"1\" class=\"dataframe\">\n",
              "  <thead>\n",
              "    <tr style=\"text-align: right;\">\n",
              "      <th></th>\n",
              "      <th>r2</th>\n",
              "      <th>mae</th>\n",
              "      <th>rmse</th>\n",
              "    </tr>\n",
              "  </thead>\n",
              "  <tbody>\n",
              "    <tr>\n",
              "      <th>12</th>\n",
              "      <td>0.958288</td>\n",
              "      <td>0.034778</td>\n",
              "      <td>0.002069</td>\n",
              "    </tr>\n",
              "  </tbody>\n",
              "</table>\n",
              "</div>\n",
              "      <button class=\"colab-df-convert\" onclick=\"convertToInteractive('df-61ba9bb0-e98f-4924-affc-8309d1f44cea')\"\n",
              "              title=\"Convert this dataframe to an interactive table.\"\n",
              "              style=\"display:none;\">\n",
              "        \n",
              "  <svg xmlns=\"http://www.w3.org/2000/svg\" height=\"24px\"viewBox=\"0 0 24 24\"\n",
              "       width=\"24px\">\n",
              "    <path d=\"M0 0h24v24H0V0z\" fill=\"none\"/>\n",
              "    <path d=\"M18.56 5.44l.94 2.06.94-2.06 2.06-.94-2.06-.94-.94-2.06-.94 2.06-2.06.94zm-11 1L8.5 8.5l.94-2.06 2.06-.94-2.06-.94L8.5 2.5l-.94 2.06-2.06.94zm10 10l.94 2.06.94-2.06 2.06-.94-2.06-.94-.94-2.06-.94 2.06-2.06.94z\"/><path d=\"M17.41 7.96l-1.37-1.37c-.4-.4-.92-.59-1.43-.59-.52 0-1.04.2-1.43.59L10.3 9.45l-7.72 7.72c-.78.78-.78 2.05 0 2.83L4 21.41c.39.39.9.59 1.41.59.51 0 1.02-.2 1.41-.59l7.78-7.78 2.81-2.81c.8-.78.8-2.07 0-2.86zM5.41 20L4 18.59l7.72-7.72 1.47 1.35L5.41 20z\"/>\n",
              "  </svg>\n",
              "      </button>\n",
              "      \n",
              "  <style>\n",
              "    .colab-df-container {\n",
              "      display:flex;\n",
              "      flex-wrap:wrap;\n",
              "      gap: 12px;\n",
              "    }\n",
              "\n",
              "    .colab-df-convert {\n",
              "      background-color: #E8F0FE;\n",
              "      border: none;\n",
              "      border-radius: 50%;\n",
              "      cursor: pointer;\n",
              "      display: none;\n",
              "      fill: #1967D2;\n",
              "      height: 32px;\n",
              "      padding: 0 0 0 0;\n",
              "      width: 32px;\n",
              "    }\n",
              "\n",
              "    .colab-df-convert:hover {\n",
              "      background-color: #E2EBFA;\n",
              "      box-shadow: 0px 1px 2px rgba(60, 64, 67, 0.3), 0px 1px 3px 1px rgba(60, 64, 67, 0.15);\n",
              "      fill: #174EA6;\n",
              "    }\n",
              "\n",
              "    [theme=dark] .colab-df-convert {\n",
              "      background-color: #3B4455;\n",
              "      fill: #D2E3FC;\n",
              "    }\n",
              "\n",
              "    [theme=dark] .colab-df-convert:hover {\n",
              "      background-color: #434B5C;\n",
              "      box-shadow: 0px 1px 3px 1px rgba(0, 0, 0, 0.15);\n",
              "      filter: drop-shadow(0px 1px 2px rgba(0, 0, 0, 0.3));\n",
              "      fill: #FFFFFF;\n",
              "    }\n",
              "  </style>\n",
              "\n",
              "      <script>\n",
              "        const buttonEl =\n",
              "          document.querySelector('#df-61ba9bb0-e98f-4924-affc-8309d1f44cea button.colab-df-convert');\n",
              "        buttonEl.style.display =\n",
              "          google.colab.kernel.accessAllowed ? 'block' : 'none';\n",
              "\n",
              "        async function convertToInteractive(key) {\n",
              "          const element = document.querySelector('#df-61ba9bb0-e98f-4924-affc-8309d1f44cea');\n",
              "          const dataTable =\n",
              "            await google.colab.kernel.invokeFunction('convertToInteractive',\n",
              "                                                     [key], {});\n",
              "          if (!dataTable) return;\n",
              "\n",
              "          const docLinkHtml = 'Like what you see? Visit the ' +\n",
              "            '<a target=\"_blank\" href=https://colab.research.google.com/notebooks/data_table.ipynb>data table notebook</a>'\n",
              "            + ' to learn more about interactive tables.';\n",
              "          element.innerHTML = '';\n",
              "          dataTable['output_type'] = 'display_data';\n",
              "          await google.colab.output.renderOutput(dataTable, element);\n",
              "          const docLink = document.createElement('div');\n",
              "          docLink.innerHTML = docLinkHtml;\n",
              "          element.appendChild(docLink);\n",
              "        }\n",
              "      </script>\n",
              "    </div>\n",
              "  </div>\n",
              "  "
            ]
          },
          "metadata": {},
          "execution_count": 55
        }
      ]
    },
    {
      "cell_type": "code",
      "source": [
        "error[error.r2 == error.r2.min()]"
      ],
      "metadata": {
        "id": "JfK5huYphpTh",
        "colab": {
          "base_uri": "https://localhost:8080/",
          "height": 81
        },
        "outputId": "56982c6b-56af-4641-c74f-f29dd58e6e88"
      },
      "execution_count": 56,
      "outputs": [
        {
          "output_type": "execute_result",
          "data": {
            "text/plain": [
              "          r2       mae      rmse\n",
              "41 -0.454753  0.152024  0.074219"
            ],
            "text/html": [
              "\n",
              "  <div id=\"df-07f505ed-5cdc-46be-9e97-cb7ae8eee2b6\">\n",
              "    <div class=\"colab-df-container\">\n",
              "      <div>\n",
              "<style scoped>\n",
              "    .dataframe tbody tr th:only-of-type {\n",
              "        vertical-align: middle;\n",
              "    }\n",
              "\n",
              "    .dataframe tbody tr th {\n",
              "        vertical-align: top;\n",
              "    }\n",
              "\n",
              "    .dataframe thead th {\n",
              "        text-align: right;\n",
              "    }\n",
              "</style>\n",
              "<table border=\"1\" class=\"dataframe\">\n",
              "  <thead>\n",
              "    <tr style=\"text-align: right;\">\n",
              "      <th></th>\n",
              "      <th>r2</th>\n",
              "      <th>mae</th>\n",
              "      <th>rmse</th>\n",
              "    </tr>\n",
              "  </thead>\n",
              "  <tbody>\n",
              "    <tr>\n",
              "      <th>41</th>\n",
              "      <td>-0.454753</td>\n",
              "      <td>0.152024</td>\n",
              "      <td>0.074219</td>\n",
              "    </tr>\n",
              "  </tbody>\n",
              "</table>\n",
              "</div>\n",
              "      <button class=\"colab-df-convert\" onclick=\"convertToInteractive('df-07f505ed-5cdc-46be-9e97-cb7ae8eee2b6')\"\n",
              "              title=\"Convert this dataframe to an interactive table.\"\n",
              "              style=\"display:none;\">\n",
              "        \n",
              "  <svg xmlns=\"http://www.w3.org/2000/svg\" height=\"24px\"viewBox=\"0 0 24 24\"\n",
              "       width=\"24px\">\n",
              "    <path d=\"M0 0h24v24H0V0z\" fill=\"none\"/>\n",
              "    <path d=\"M18.56 5.44l.94 2.06.94-2.06 2.06-.94-2.06-.94-.94-2.06-.94 2.06-2.06.94zm-11 1L8.5 8.5l.94-2.06 2.06-.94-2.06-.94L8.5 2.5l-.94 2.06-2.06.94zm10 10l.94 2.06.94-2.06 2.06-.94-2.06-.94-.94-2.06-.94 2.06-2.06.94z\"/><path d=\"M17.41 7.96l-1.37-1.37c-.4-.4-.92-.59-1.43-.59-.52 0-1.04.2-1.43.59L10.3 9.45l-7.72 7.72c-.78.78-.78 2.05 0 2.83L4 21.41c.39.39.9.59 1.41.59.51 0 1.02-.2 1.41-.59l7.78-7.78 2.81-2.81c.8-.78.8-2.07 0-2.86zM5.41 20L4 18.59l7.72-7.72 1.47 1.35L5.41 20z\"/>\n",
              "  </svg>\n",
              "      </button>\n",
              "      \n",
              "  <style>\n",
              "    .colab-df-container {\n",
              "      display:flex;\n",
              "      flex-wrap:wrap;\n",
              "      gap: 12px;\n",
              "    }\n",
              "\n",
              "    .colab-df-convert {\n",
              "      background-color: #E8F0FE;\n",
              "      border: none;\n",
              "      border-radius: 50%;\n",
              "      cursor: pointer;\n",
              "      display: none;\n",
              "      fill: #1967D2;\n",
              "      height: 32px;\n",
              "      padding: 0 0 0 0;\n",
              "      width: 32px;\n",
              "    }\n",
              "\n",
              "    .colab-df-convert:hover {\n",
              "      background-color: #E2EBFA;\n",
              "      box-shadow: 0px 1px 2px rgba(60, 64, 67, 0.3), 0px 1px 3px 1px rgba(60, 64, 67, 0.15);\n",
              "      fill: #174EA6;\n",
              "    }\n",
              "\n",
              "    [theme=dark] .colab-df-convert {\n",
              "      background-color: #3B4455;\n",
              "      fill: #D2E3FC;\n",
              "    }\n",
              "\n",
              "    [theme=dark] .colab-df-convert:hover {\n",
              "      background-color: #434B5C;\n",
              "      box-shadow: 0px 1px 3px 1px rgba(0, 0, 0, 0.15);\n",
              "      filter: drop-shadow(0px 1px 2px rgba(0, 0, 0, 0.3));\n",
              "      fill: #FFFFFF;\n",
              "    }\n",
              "  </style>\n",
              "\n",
              "      <script>\n",
              "        const buttonEl =\n",
              "          document.querySelector('#df-07f505ed-5cdc-46be-9e97-cb7ae8eee2b6 button.colab-df-convert');\n",
              "        buttonEl.style.display =\n",
              "          google.colab.kernel.accessAllowed ? 'block' : 'none';\n",
              "\n",
              "        async function convertToInteractive(key) {\n",
              "          const element = document.querySelector('#df-07f505ed-5cdc-46be-9e97-cb7ae8eee2b6');\n",
              "          const dataTable =\n",
              "            await google.colab.kernel.invokeFunction('convertToInteractive',\n",
              "                                                     [key], {});\n",
              "          if (!dataTable) return;\n",
              "\n",
              "          const docLinkHtml = 'Like what you see? Visit the ' +\n",
              "            '<a target=\"_blank\" href=https://colab.research.google.com/notebooks/data_table.ipynb>data table notebook</a>'\n",
              "            + ' to learn more about interactive tables.';\n",
              "          element.innerHTML = '';\n",
              "          dataTable['output_type'] = 'display_data';\n",
              "          await google.colab.output.renderOutput(dataTable, element);\n",
              "          const docLink = document.createElement('div');\n",
              "          docLink.innerHTML = docLinkHtml;\n",
              "          element.appendChild(docLink);\n",
              "        }\n",
              "      </script>\n",
              "    </div>\n",
              "  </div>\n",
              "  "
            ]
          },
          "metadata": {},
          "execution_count": 56
        }
      ]
    },
    {
      "cell_type": "code",
      "source": [
        "r2_matrix = skor_r2.reshape(5,6)\n",
        "rmse_matrix = rmse.reshape(5,6)\n",
        "mae_matrix = mae_.reshape(5,6)"
      ],
      "metadata": {
        "id": "5EJQN12chqzR"
      },
      "execution_count": 57,
      "outputs": []
    },
    {
      "cell_type": "code",
      "source": [
        "import numpy as np\n",
        "import seaborn as sns\n",
        "import matplotlib.pylab as plt\n",
        "\n",
        "ax = sns.heatmap(r2_matrix, linewidth=0.5, cmap=\"RdYlBu\")\n",
        "plt.show()"
      ],
      "metadata": {
        "id": "XYPpLAVahtCF",
        "colab": {
          "base_uri": "https://localhost:8080/",
          "height": 265
        },
        "outputId": "635104bf-a2b0-4549-d772-21d637fd1e0d"
      },
      "execution_count": 58,
      "outputs": [
        {
          "output_type": "display_data",
          "data": {
            "text/plain": [
              "<Figure size 432x288 with 2 Axes>"
            ],
            "image/png": "[encoded data removed]"
          },
          "metadata": {
            "needs_background": "light"
          }
        }
      ]
    },
    {
      "cell_type": "code",
      "source": [
        "bx = sns.heatmap(rmse_matrix, linewidth=0.5, cmap=\"RdYlBu_r\")\n",
        "plt.show()"
      ],
      "metadata": {
        "id": "6h3s_5mWhulT",
        "colab": {
          "base_uri": "https://localhost:8080/",
          "height": 265
        },
        "outputId": "9d5ea900-7a82-43e6-be27-5e9337af51af"
      },
      "execution_count": 59,
      "outputs": [
        {
          "output_type": "display_data",
          "data": {
            "text/plain": [
              "<Figure size 432x288 with 2 Axes>"
            ],
            "image/png": "[encoded data removed]"
          },
          "metadata": {
            "needs_background": "light"
          }
        }
      ]
    },
    {
      "cell_type": "code",
      "source": [
        "bx = sns.heatmap(mae_matrix, linewidth=0.5, cmap=\"RdYlBu_r\")\n",
        "plt.show()"
      ],
      "metadata": {
        "id": "j50fu4zjhwWe",
        "colab": {
          "base_uri": "https://localhost:8080/",
          "height": 265
        },
        "outputId": "a53e9752-c765-4dc8-9f28-bd15839fb07c"
      },
      "execution_count": 60,
      "outputs": [
        {
          "output_type": "display_data",
          "data": {
            "text/plain": [
              "<Figure size 432x288 with 2 Axes>"
            ],
            "image/png": "[encoded data removed]"
          },
          "metadata": {
            "needs_background": "light"
          }
        }
      ]
    },
    {
      "cell_type": "code",
      "source": [
        "#_________break__________"
      ],
      "metadata": {
        "id": "3xK3MyG_EQNU"
      },
      "execution_count": 61,
      "outputs": []
    },
    {
      "cell_type": "code",
      "source": [
        "df_koor = pd.read_excel('data_model.xlsx',sheet_name='koordinat_30_aktual')"
      ],
      "metadata": {
        "id": "1XM3DjsrhyDV"
      },
      "execution_count": 62,
      "outputs": []
    },
    {
      "cell_type": "code",
      "source": [
        "y.shape"
      ],
      "metadata": {
        "colab": {
          "base_uri": "https://localhost:8080/"
        },
        "id": "6gGstsqpEZY0",
        "outputId": "4a556590-39c1-4ed9-a95d-c7ea507602b1"
      },
      "execution_count": 63,
      "outputs": [
        {
          "output_type": "execute_result",
          "data": {
            "text/plain": [
              "(30, 192, 2)"
            ]
          },
          "metadata": {},
          "execution_count": 63
        }
      ]
    },
    {
      "cell_type": "code",
      "source": [
        "np.array(array_y_not_normal).shape"
      ],
      "metadata": {
        "colab": {
          "base_uri": "https://localhost:8080/"
        },
        "id": "MrdnMZgvEdfy",
        "outputId": "8852cf24-9075-4974-fd6a-5c37d043b525"
      },
      "execution_count": 64,
      "outputs": [
        {
          "output_type": "execute_result",
          "data": {
            "text/plain": [
              "(30, 192, 2)"
            ]
          },
          "metadata": {},
          "execution_count": 64
        }
      ]
    },
    {
      "cell_type": "code",
      "source": [
        "len(array_y_not_normal) == len(y)"
      ],
      "metadata": {
        "colab": {
          "base_uri": "https://localhost:8080/"
        },
        "id": "pdnjyGaWDBJ6",
        "outputId": "bc4889c3-777b-4735-c813-59af13311a2b"
      },
      "execution_count": 65,
      "outputs": [
        {
          "output_type": "execute_result",
          "data": {
            "text/plain": [
              "True"
            ]
          },
          "metadata": {},
          "execution_count": 65
        }
      ]
    },
    {
      "cell_type": "code",
      "source": [
        "df_y = []\n",
        "df_y_predict = []\n",
        "for i in range(30):\n",
        "  q = pd.DataFrame(y[i],columns=['Vx','Vy'])\n",
        "  q = round(rescale(q,array_y_not_normal[i]),9)\n",
        "  df_y.append(q)\n",
        "  r = round(pd.DataFrame(y_predict[i],columns=['Vx','Vy']),9)\n",
        "  r = rescale(r,array_y_not_normal[i])\n",
        "  df_y_predict.append(r)"
      ],
      "metadata": {
        "id": "f6HKltxm1k-Z"
      },
      "execution_count": 66,
      "outputs": []
    },
    {
      "cell_type": "code",
      "source": [
        "np.array(df_y).shape "
      ],
      "metadata": {
        "colab": {
          "base_uri": "https://localhost:8080/"
        },
        "id": "gPmEP9UfCwv2",
        "outputId": "af6e7ec5-c11a-4723-ea5c-03c05faee865"
      },
      "execution_count": 67,
      "outputs": [
        {
          "output_type": "execute_result",
          "data": {
            "text/plain": [
              "(30, 192, 2)"
            ]
          },
          "metadata": {},
          "execution_count": 67
        }
      ]
    },
    {
      "cell_type": "code",
      "source": [
        "def kec_angin(y,scenarios):\n",
        "  df_x = pd.DataFrame(y[...,scenarios,0])\n",
        "  df_y = pd.DataFrame(y[...,scenarios,1])\n",
        "  df_y.rename(columns={0:1},inplace=True)\n",
        "  df_x = df_x.join(df_y)\n",
        "  df_x = df_x.join(df_koor)\n",
        "  df_x.rename(columns={0:'Vx',1:'Vy',},inplace=True)\n",
        "  return df_x"
      ],
      "metadata": {
        "id": "2gtG6Axuh0y_"
      },
      "execution_count": 68,
      "outputs": []
    },
    {
      "cell_type": "code",
      "source": [
        "#error per skenario\n",
        "\n",
        "r_squared = []\n",
        "abs_error = []\n",
        "sqrt_error = []\n",
        "indexing = 0,1\n",
        "for i in range(192):\n",
        "  a = kec_angin(np.array(df_y),i)\n",
        "  a.drop(['koor_x','koor_y'],axis=1)\n",
        "  b = kec_angin(np.array(df_y_predict),i)\n",
        "  b.drop(['koor_x','koor_y'],axis=1)\n",
        "  r_squared.append(r2(a,b))\n",
        "  abs_error.append(mae(a,b))\n",
        "  sqrt_error.append(mse(a,b))\n",
        "\n",
        "error = pd.DataFrame(r_squared,columns=['r2'])\n",
        "abs_error = pd.DataFrame(abs_error,columns=['mae'])\n",
        "sqrt_error = pd.DataFrame(sqrt_error,columns=['rmse'])\n",
        "error = error.join(abs_error)\n",
        "error = error.join(sqrt_error)"
      ],
      "metadata": {
        "id": "xhctq4Abe_je"
      },
      "execution_count": 69,
      "outputs": []
    },
    {
      "cell_type": "code",
      "source": [
        "error.describe()"
      ],
      "metadata": {
        "id": "Ly9FNnPsG3jY",
        "outputId": "639c62c1-da38-4036-9931-40618eaa1e77",
        "colab": {
          "base_uri": "https://localhost:8080/",
          "height": 300
        }
      },
      "execution_count": 70,
      "outputs": [
        {
          "output_type": "execute_result",
          "data": {
            "text/plain": [
              "               r2         mae        rmse\n",
              "count  192.000000  192.000000  192.000000\n",
              "mean    -0.368778    0.012896    0.001022\n",
              "std      2.681335    0.006955    0.001231\n",
              "min    -16.520172    0.004098    0.000063\n",
              "25%      0.064245    0.007593    0.000244\n",
              "50%      0.539563    0.011315    0.000530\n",
              "75%      0.753099    0.016795    0.001245\n",
              "max      0.899656    0.031606    0.005684"
            ],
            "text/html": [
              "\n",
              "  <div id=\"df-242edca7-91d8-4559-8186-aff79c26c4d7\">\n",
              "    <div class=\"colab-df-container\">\n",
              "      <div>\n",
              "<style scoped>\n",
              "    .dataframe tbody tr th:only-of-type {\n",
              "        vertical-align: middle;\n",
              "    }\n",
              "\n",
              "    .dataframe tbody tr th {\n",
              "        vertical-align: top;\n",
              "    }\n",
              "\n",
              "    .dataframe thead th {\n",
              "        text-align: right;\n",
              "    }\n",
              "</style>\n",
              "<table border=\"1\" class=\"dataframe\">\n",
              "  <thead>\n",
              "    <tr style=\"text-align: right;\">\n",
              "      <th></th>\n",
              "      <th>r2</th>\n",
              "      <th>mae</th>\n",
              "      <th>rmse</th>\n",
              "    </tr>\n",
              "  </thead>\n",
              "  <tbody>\n",
              "    <tr>\n",
              "      <th>count</th>\n",
              "      <td>192.000000</td>\n",
              "      <td>192.000000</td>\n",
              "      <td>192.000000</td>\n",
              "    </tr>\n",
              "    <tr>\n",
              "      <th>mean</th>\n",
              "      <td>-0.368778</td>\n",
              "      <td>0.012896</td>\n",
              "      <td>0.001022</td>\n",
              "    </tr>\n",
              "    <tr>\n",
              "      <th>std</th>\n",
              "      <td>2.681335</td>\n",
              "      <td>0.006955</td>\n",
              "      <td>0.001231</td>\n",
              "    </tr>\n",
              "    <tr>\n",
              "      <th>min</th>\n",
              "      <td>-16.520172</td>\n",
              "      <td>0.004098</td>\n",
              "      <td>0.000063</td>\n",
              "    </tr>\n",
              "    <tr>\n",
              "      <th>25%</th>\n",
              "      <td>0.064245</td>\n",
              "      <td>0.007593</td>\n",
              "      <td>0.000244</td>\n",
              "    </tr>\n",
              "    <tr>\n",
              "      <th>50%</th>\n",
              "      <td>0.539563</td>\n",
              "      <td>0.011315</td>\n",
              "      <td>0.000530</td>\n",
              "    </tr>\n",
              "    <tr>\n",
              "      <th>75%</th>\n",
              "      <td>0.753099</td>\n",
              "      <td>0.016795</td>\n",
              "      <td>0.001245</td>\n",
              "    </tr>\n",
              "    <tr>\n",
              "      <th>max</th>\n",
              "      <td>0.899656</td>\n",
              "      <td>0.031606</td>\n",
              "      <td>0.005684</td>\n",
              "    </tr>\n",
              "  </tbody>\n",
              "</table>\n",
              "</div>\n",
              "      <button class=\"colab-df-convert\" onclick=\"convertToInteractive('df-242edca7-91d8-4559-8186-aff79c26c4d7')\"\n",
              "              title=\"Convert this dataframe to an interactive table.\"\n",
              "              style=\"display:none;\">\n",
              "        \n",
              "  <svg xmlns=\"http://www.w3.org/2000/svg\" height=\"24px\"viewBox=\"0 0 24 24\"\n",
              "       width=\"24px\">\n",
              "    <path d=\"M0 0h24v24H0V0z\" fill=\"none\"/>\n",
              "    <path d=\"M18.56 5.44l.94 2.06.94-2.06 2.06-.94-2.06-.94-.94-2.06-.94 2.06-2.06.94zm-11 1L8.5 8.5l.94-2.06 2.06-.94-2.06-.94L8.5 2.5l-.94 2.06-2.06.94zm10 10l.94 2.06.94-2.06 2.06-.94-2.06-.94-.94-2.06-.94 2.06-2.06.94z\"/><path d=\"M17.41 7.96l-1.37-1.37c-.4-.4-.92-.59-1.43-.59-.52 0-1.04.2-1.43.59L10.3 9.45l-7.72 7.72c-.78.78-.78 2.05 0 2.83L4 21.41c.39.39.9.59 1.41.59.51 0 1.02-.2 1.41-.59l7.78-7.78 2.81-2.81c.8-.78.8-2.07 0-2.86zM5.41 20L4 18.59l7.72-7.72 1.47 1.35L5.41 20z\"/>\n",
              "  </svg>\n",
              "      </button>\n",
              "      \n",
              "  <style>\n",
              "    .colab-df-container {\n",
              "      display:flex;\n",
              "      flex-wrap:wrap;\n",
              "      gap: 12px;\n",
              "    }\n",
              "\n",
              "    .colab-df-convert {\n",
              "      background-color: #E8F0FE;\n",
              "      border: none;\n",
              "      border-radius: 50%;\n",
              "      cursor: pointer;\n",
              "      display: none;\n",
              "      fill: #1967D2;\n",
              "      height: 32px;\n",
              "      padding: 0 0 0 0;\n",
              "      width: 32px;\n",
              "    }\n",
              "\n",
              "    .colab-df-convert:hover {\n",
              "      background-color: #E2EBFA;\n",
              "      box-shadow: 0px 1px 2px rgba(60, 64, 67, 0.3), 0px 1px 3px 1px rgba(60, 64, 67, 0.15);\n",
              "      fill: #174EA6;\n",
              "    }\n",
              "\n",
              "    [theme=dark] .colab-df-convert {\n",
              "      background-color: #3B4455;\n",
              "      fill: #D2E3FC;\n",
              "    }\n",
              "\n",
              "    [theme=dark] .colab-df-convert:hover {\n",
              "      background-color: #434B5C;\n",
              "      box-shadow: 0px 1px 3px 1px rgba(0, 0, 0, 0.15);\n",
              "      filter: drop-shadow(0px 1px 2px rgba(0, 0, 0, 0.3));\n",
              "      fill: #FFFFFF;\n",
              "    }\n",
              "  </style>\n",
              "\n",
              "      <script>\n",
              "        const buttonEl =\n",
              "          document.querySelector('#df-242edca7-91d8-4559-8186-aff79c26c4d7 button.colab-df-convert');\n",
              "        buttonEl.style.display =\n",
              "          google.colab.kernel.accessAllowed ? 'block' : 'none';\n",
              "\n",
              "        async function convertToInteractive(key) {\n",
              "          const element = document.querySelector('#df-242edca7-91d8-4559-8186-aff79c26c4d7');\n",
              "          const dataTable =\n",
              "            await google.colab.kernel.invokeFunction('convertToInteractive',\n",
              "                                                     [key], {});\n",
              "          if (!dataTable) return;\n",
              "\n",
              "          const docLinkHtml = 'Like what you see? Visit the ' +\n",
              "            '<a target=\"_blank\" href=https://colab.research.google.com/notebooks/data_table.ipynb>data table notebook</a>'\n",
              "            + ' to learn more about interactive tables.';\n",
              "          element.innerHTML = '';\n",
              "          dataTable['output_type'] = 'display_data';\n",
              "          await google.colab.output.renderOutput(dataTable, element);\n",
              "          const docLink = document.createElement('div');\n",
              "          docLink.innerHTML = docLinkHtml;\n",
              "          element.appendChild(docLink);\n",
              "        }\n",
              "      </script>\n",
              "    </div>\n",
              "  </div>\n",
              "  "
            ]
          },
          "metadata": {},
          "execution_count": 70
        }
      ]
    },
    {
      "cell_type": "code",
      "source": [
        "error[error.r2 == error.r2.max()]"
      ],
      "metadata": {
        "id": "ASCn_mHwfw5A",
        "outputId": "d319a198-253c-4019-d3fe-96a459ac6ace",
        "colab": {
          "base_uri": "https://localhost:8080/",
          "height": 81
        }
      },
      "execution_count": 71,
      "outputs": [
        {
          "output_type": "execute_result",
          "data": {
            "text/plain": [
              "           r2       mae      rmse\n",
              "171  0.899656  0.010372  0.000406"
            ],
            "text/html": [
              "\n",
              "  <div id=\"df-82df42c0-763f-4e7e-a96a-6f00151bc05e\">\n",
              "    <div class=\"colab-df-container\">\n",
              "      <div>\n",
              "<style scoped>\n",
              "    .dataframe tbody tr th:only-of-type {\n",
              "        vertical-align: middle;\n",
              "    }\n",
              "\n",
              "    .dataframe tbody tr th {\n",
              "        vertical-align: top;\n",
              "    }\n",
              "\n",
              "    .dataframe thead th {\n",
              "        text-align: right;\n",
              "    }\n",
              "</style>\n",
              "<table border=\"1\" class=\"dataframe\">\n",
              "  <thead>\n",
              "    <tr style=\"text-align: right;\">\n",
              "      <th></th>\n",
              "      <th>r2</th>\n",
              "      <th>mae</th>\n",
              "      <th>rmse</th>\n",
              "    </tr>\n",
              "  </thead>\n",
              "  <tbody>\n",
              "    <tr>\n",
              "      <th>171</th>\n",
              "      <td>0.899656</td>\n",
              "      <td>0.010372</td>\n",
              "      <td>0.000406</td>\n",
              "    </tr>\n",
              "  </tbody>\n",
              "</table>\n",
              "</div>\n",
              "      <button class=\"colab-df-convert\" onclick=\"convertToInteractive('df-82df42c0-763f-4e7e-a96a-6f00151bc05e')\"\n",
              "              title=\"Convert this dataframe to an interactive table.\"\n",
              "              style=\"display:none;\">\n",
              "        \n",
              "  <svg xmlns=\"http://www.w3.org/2000/svg\" height=\"24px\"viewBox=\"0 0 24 24\"\n",
              "       width=\"24px\">\n",
              "    <path d=\"M0 0h24v24H0V0z\" fill=\"none\"/>\n",
              "    <path d=\"M18.56 5.44l.94 2.06.94-2.06 2.06-.94-2.06-.94-.94-2.06-.94 2.06-2.06.94zm-11 1L8.5 8.5l.94-2.06 2.06-.94-2.06-.94L8.5 2.5l-.94 2.06-2.06.94zm10 10l.94 2.06.94-2.06 2.06-.94-2.06-.94-.94-2.06-.94 2.06-2.06.94z\"/><path d=\"M17.41 7.96l-1.37-1.37c-.4-.4-.92-.59-1.43-.59-.52 0-1.04.2-1.43.59L10.3 9.45l-7.72 7.72c-.78.78-.78 2.05 0 2.83L4 21.41c.39.39.9.59 1.41.59.51 0 1.02-.2 1.41-.59l7.78-7.78 2.81-2.81c.8-.78.8-2.07 0-2.86zM5.41 20L4 18.59l7.72-7.72 1.47 1.35L5.41 20z\"/>\n",
              "  </svg>\n",
              "      </button>\n",
              "      \n",
              "  <style>\n",
              "    .colab-df-container {\n",
              "      display:flex;\n",
              "      flex-wrap:wrap;\n",
              "      gap: 12px;\n",
              "    }\n",
              "\n",
              "    .colab-df-convert {\n",
              "      background-color: #E8F0FE;\n",
              "      border: none;\n",
              "      border-radius: 50%;\n",
              "      cursor: pointer;\n",
              "      display: none;\n",
              "      fill: #1967D2;\n",
              "      height: 32px;\n",
              "      padding: 0 0 0 0;\n",
              "      width: 32px;\n",
              "    }\n",
              "\n",
              "    .colab-df-convert:hover {\n",
              "      background-color: #E2EBFA;\n",
              "      box-shadow: 0px 1px 2px rgba(60, 64, 67, 0.3), 0px 1px 3px 1px rgba(60, 64, 67, 0.15);\n",
              "      fill: #174EA6;\n",
              "    }\n",
              "\n",
              "    [theme=dark] .colab-df-convert {\n",
              "      background-color: #3B4455;\n",
              "      fill: #D2E3FC;\n",
              "    }\n",
              "\n",
              "    [theme=dark] .colab-df-convert:hover {\n",
              "      background-color: #434B5C;\n",
              "      box-shadow: 0px 1px 3px 1px rgba(0, 0, 0, 0.15);\n",
              "      filter: drop-shadow(0px 1px 2px rgba(0, 0, 0, 0.3));\n",
              "      fill: #FFFFFF;\n",
              "    }\n",
              "  </style>\n",
              "\n",
              "      <script>\n",
              "        const buttonEl =\n",
              "          document.querySelector('#df-82df42c0-763f-4e7e-a96a-6f00151bc05e button.colab-df-convert');\n",
              "        buttonEl.style.display =\n",
              "          google.colab.kernel.accessAllowed ? 'block' : 'none';\n",
              "\n",
              "        async function convertToInteractive(key) {\n",
              "          const element = document.querySelector('#df-82df42c0-763f-4e7e-a96a-6f00151bc05e');\n",
              "          const dataTable =\n",
              "            await google.colab.kernel.invokeFunction('convertToInteractive',\n",
              "                                                     [key], {});\n",
              "          if (!dataTable) return;\n",
              "\n",
              "          const docLinkHtml = 'Like what you see? Visit the ' +\n",
              "            '<a target=\"_blank\" href=https://colab.research.google.com/notebooks/data_table.ipynb>data table notebook</a>'\n",
              "            + ' to learn more about interactive tables.';\n",
              "          element.innerHTML = '';\n",
              "          dataTable['output_type'] = 'display_data';\n",
              "          await google.colab.output.renderOutput(dataTable, element);\n",
              "          const docLink = document.createElement('div');\n",
              "          docLink.innerHTML = docLinkHtml;\n",
              "          element.appendChild(docLink);\n",
              "        }\n",
              "      </script>\n",
              "    </div>\n",
              "  </div>\n",
              "  "
            ]
          },
          "metadata": {},
          "execution_count": 71
        }
      ]
    },
    {
      "cell_type": "code",
      "source": [
        "error[error.r2 == error.r2.min()]"
      ],
      "metadata": {
        "id": "VNa759oDfyvI",
        "outputId": "a70eb02c-af2c-4342-cf51-b2d1e8c8ec01",
        "colab": {
          "base_uri": "https://localhost:8080/",
          "height": 81
        }
      },
      "execution_count": 72,
      "outputs": [
        {
          "output_type": "execute_result",
          "data": {
            "text/plain": [
              "          r2       mae      rmse\n",
              "9 -16.520172  0.004146  0.000065"
            ],
            "text/html": [
              "\n",
              "  <div id=\"df-59cf415a-bbcd-4f8d-8a3c-42bf039d18f2\">\n",
              "    <div class=\"colab-df-container\">\n",
              "      <div>\n",
              "<style scoped>\n",
              "    .dataframe tbody tr th:only-of-type {\n",
              "        vertical-align: middle;\n",
              "    }\n",
              "\n",
              "    .dataframe tbody tr th {\n",
              "        vertical-align: top;\n",
              "    }\n",
              "\n",
              "    .dataframe thead th {\n",
              "        text-align: right;\n",
              "    }\n",
              "</style>\n",
              "<table border=\"1\" class=\"dataframe\">\n",
              "  <thead>\n",
              "    <tr style=\"text-align: right;\">\n",
              "      <th></th>\n",
              "      <th>r2</th>\n",
              "      <th>mae</th>\n",
              "      <th>rmse</th>\n",
              "    </tr>\n",
              "  </thead>\n",
              "  <tbody>\n",
              "    <tr>\n",
              "      <th>9</th>\n",
              "      <td>-16.520172</td>\n",
              "      <td>0.004146</td>\n",
              "      <td>0.000065</td>\n",
              "    </tr>\n",
              "  </tbody>\n",
              "</table>\n",
              "</div>\n",
              "      <button class=\"colab-df-convert\" onclick=\"convertToInteractive('df-59cf415a-bbcd-4f8d-8a3c-42bf039d18f2')\"\n",
              "              title=\"Convert this dataframe to an interactive table.\"\n",
              "              style=\"display:none;\">\n",
              "        \n",
              "  <svg xmlns=\"http://www.w3.org/2000/svg\" height=\"24px\"viewBox=\"0 0 24 24\"\n",
              "       width=\"24px\">\n",
              "    <path d=\"M0 0h24v24H0V0z\" fill=\"none\"/>\n",
              "    <path d=\"M18.56 5.44l.94 2.06.94-2.06 2.06-.94-2.06-.94-.94-2.06-.94 2.06-2.06.94zm-11 1L8.5 8.5l.94-2.06 2.06-.94-2.06-.94L8.5 2.5l-.94 2.06-2.06.94zm10 10l.94 2.06.94-2.06 2.06-.94-2.06-.94-.94-2.06-.94 2.06-2.06.94z\"/><path d=\"M17.41 7.96l-1.37-1.37c-.4-.4-.92-.59-1.43-.59-.52 0-1.04.2-1.43.59L10.3 9.45l-7.72 7.72c-.78.78-.78 2.05 0 2.83L4 21.41c.39.39.9.59 1.41.59.51 0 1.02-.2 1.41-.59l7.78-7.78 2.81-2.81c.8-.78.8-2.07 0-2.86zM5.41 20L4 18.59l7.72-7.72 1.47 1.35L5.41 20z\"/>\n",
              "  </svg>\n",
              "      </button>\n",
              "      \n",
              "  <style>\n",
              "    .colab-df-container {\n",
              "      display:flex;\n",
              "      flex-wrap:wrap;\n",
              "      gap: 12px;\n",
              "    }\n",
              "\n",
              "    .colab-df-convert {\n",
              "      background-color: #E8F0FE;\n",
              "      border: none;\n",
              "      border-radius: 50%;\n",
              "      cursor: pointer;\n",
              "      display: none;\n",
              "      fill: #1967D2;\n",
              "      height: 32px;\n",
              "      padding: 0 0 0 0;\n",
              "      width: 32px;\n",
              "    }\n",
              "\n",
              "    .colab-df-convert:hover {\n",
              "      background-color: #E2EBFA;\n",
              "      box-shadow: 0px 1px 2px rgba(60, 64, 67, 0.3), 0px 1px 3px 1px rgba(60, 64, 67, 0.15);\n",
              "      fill: #174EA6;\n",
              "    }\n",
              "\n",
              "    [theme=dark] .colab-df-convert {\n",
              "      background-color: #3B4455;\n",
              "      fill: #D2E3FC;\n",
              "    }\n",
              "\n",
              "    [theme=dark] .colab-df-convert:hover {\n",
              "      background-color: #434B5C;\n",
              "      box-shadow: 0px 1px 3px 1px rgba(0, 0, 0, 0.15);\n",
              "      filter: drop-shadow(0px 1px 2px rgba(0, 0, 0, 0.3));\n",
              "      fill: #FFFFFF;\n",
              "    }\n",
              "  </style>\n",
              "\n",
              "      <script>\n",
              "        const buttonEl =\n",
              "          document.querySelector('#df-59cf415a-bbcd-4f8d-8a3c-42bf039d18f2 button.colab-df-convert');\n",
              "        buttonEl.style.display =\n",
              "          google.colab.kernel.accessAllowed ? 'block' : 'none';\n",
              "\n",
              "        async function convertToInteractive(key) {\n",
              "          const element = document.querySelector('#df-59cf415a-bbcd-4f8d-8a3c-42bf039d18f2');\n",
              "          const dataTable =\n",
              "            await google.colab.kernel.invokeFunction('convertToInteractive',\n",
              "                                                     [key], {});\n",
              "          if (!dataTable) return;\n",
              "\n",
              "          const docLinkHtml = 'Like what you see? Visit the ' +\n",
              "            '<a target=\"_blank\" href=https://colab.research.google.com/notebooks/data_table.ipynb>data table notebook</a>'\n",
              "            + ' to learn more about interactive tables.';\n",
              "          element.innerHTML = '';\n",
              "          dataTable['output_type'] = 'display_data';\n",
              "          await google.colab.output.renderOutput(dataTable, element);\n",
              "          const docLink = document.createElement('div');\n",
              "          docLink.innerHTML = docLinkHtml;\n",
              "          element.appendChild(docLink);\n",
              "        }\n",
              "      </script>\n",
              "    </div>\n",
              "  </div>\n",
              "  "
            ]
          },
          "metadata": {},
          "execution_count": 72
        }
      ]
    },
    {
      "cell_type": "code",
      "source": [
        "import plotly.graph_objects as go\n",
        "from plotly.figure_factory import create_quiver\n",
        "\n",
        "def tampilan_vektor(Y,scale,arrow):\n",
        "  x = Y['koor_x']\n",
        "  y = Y['koor_y']\n",
        "  u = Y['Vx']\n",
        "  v = Y['Vy']\n",
        "\n",
        "  fig = create_quiver(x,y,u,v, scale=scale, arrow_scale=arrow)\n",
        "  \n",
        "  fig.show()"
      ],
      "metadata": {
        "id": "1syZuX5KtYG5"
      },
      "execution_count": 73,
      "outputs": []
    },
    {
      "cell_type": "code",
      "source": [
        "import plotly.figure_factory as ff\n",
        "import plotly.graph_objs as go\n",
        "import numpy as np\n",
        "def tampilan_vektor_heatmap(Y):\n",
        "  x = Y['koor_x']\n",
        "  y = Y['koor_y']\n",
        "  a = Y['Vx']\n",
        "  b = Y['Vy']\n",
        "  angle = np.arctan(b / a)\n",
        "  norm = 0.5\n",
        "  u = norm * np.cos(angle)\n",
        "  v = norm * np.sin(angle)\n",
        "  f = ff.create_quiver(x, y, u, v, scale = 1, scaleratio = 0.5)\n",
        "  trace1 = f.data[0]\n",
        "  trace2 = go.Contour(\n",
        "       x = (x*1.2)-0.5,\n",
        "       y = (y*1.2)-0.5,\n",
        "       z = ((a**2)+(b**2))**0.5,\n",
        "       colorscale = 'ylgnbu'\n",
        "   )\n",
        "  data=[trace1,trace2]\n",
        "  fig = go.FigureWidget(data)\n",
        "  fig.show()"
      ],
      "metadata": {
        "id": "ePZ3rMuWiFmi"
      },
      "execution_count": 131,
      "outputs": []
    },
    {
      "cell_type": "code",
      "source": [
        "def tampilan_vektor_subplot(Y):\n",
        "  x = Y['koor_x']\n",
        "  y = Y['koor_y']\n",
        "  a = Y['Vx']\n",
        "  b = Y['Vy']\n",
        "  angle = np.arctan(b / a)\n",
        "  norm = 0.5\n",
        "  u = norm * np.cos(angle)\n",
        "  v = norm * np.sin(angle)\n",
        "  f = ff.create_quiver(x, y, u, v, scale = 1, scaleratio = 0.5)\n",
        "  return f"
      ],
      "metadata": {
        "id": "D5_9tiTO95Gk"
      },
      "execution_count": 147,
      "outputs": []
    },
    {
      "cell_type": "code",
      "source": [
        "scenarios=171\n",
        "angin_test = kec_angin(np.array(df_y),scenarios)\n",
        "angin_pred = kec_angin(np.array(df_y_predict),scenarios)"
      ],
      "metadata": {
        "id": "iv0kMusziQdR"
      },
      "execution_count": 132,
      "outputs": []
    },
    {
      "cell_type": "code",
      "source": [
        "df_y[0]"
      ],
      "metadata": {
        "id": "JCZTl_aB2Sw9",
        "outputId": "a86a96e1-9b90-4e59-d5bc-f0afb8fb7059",
        "colab": {
          "base_uri": "https://localhost:8080/",
          "height": 424
        }
      },
      "execution_count": 122,
      "outputs": [
        {
          "output_type": "execute_result",
          "data": {
            "text/plain": [
              "           Vx        Vy\n",
              "0    0.002399 -0.073255\n",
              "1    0.002676 -0.077866\n",
              "2    0.002554 -0.078099\n",
              "3    0.002452 -0.075487\n",
              "4    0.002453 -0.075477\n",
              "..        ...       ...\n",
              "187  0.002527 -0.171082\n",
              "188 -0.002345 -0.105026\n",
              "189  0.008001 -0.093210\n",
              "190  0.003526 -0.097078\n",
              "191  0.005210 -0.102560\n",
              "\n",
              "[192 rows x 2 columns]"
            ],
            "text/html": [
              "\n",
              "  <div id=\"df-26b72b56-e8e8-4941-a909-ab251abfe202\">\n",
              "    <div class=\"colab-df-container\">\n",
              "      <div>\n",
              "<style scoped>\n",
              "    .dataframe tbody tr th:only-of-type {\n",
              "        vertical-align: middle;\n",
              "    }\n",
              "\n",
              "    .dataframe tbody tr th {\n",
              "        vertical-align: top;\n",
              "    }\n",
              "\n",
              "    .dataframe thead th {\n",
              "        text-align: right;\n",
              "    }\n",
              "</style>\n",
              "<table border=\"1\" class=\"dataframe\">\n",
              "  <thead>\n",
              "    <tr style=\"text-align: right;\">\n",
              "      <th></th>\n",
              "      <th>Vx</th>\n",
              "      <th>Vy</th>\n",
              "    </tr>\n",
              "  </thead>\n",
              "  <tbody>\n",
              "    <tr>\n",
              "      <th>0</th>\n",
              "      <td>0.002399</td>\n",
              "      <td>-0.073255</td>\n",
              "    </tr>\n",
              "    <tr>\n",
              "      <th>1</th>\n",
              "      <td>0.002676</td>\n",
              "      <td>-0.077866</td>\n",
              "    </tr>\n",
              "    <tr>\n",
              "      <th>2</th>\n",
              "      <td>0.002554</td>\n",
              "      <td>-0.078099</td>\n",
              "    </tr>\n",
              "    <tr>\n",
              "      <th>3</th>\n",
              "      <td>0.002452</td>\n",
              "      <td>-0.075487</td>\n",
              "    </tr>\n",
              "    <tr>\n",
              "      <th>4</th>\n",
              "      <td>0.002453</td>\n",
              "      <td>-0.075477</td>\n",
              "    </tr>\n",
              "    <tr>\n",
              "      <th>...</th>\n",
              "      <td>...</td>\n",
              "      <td>...</td>\n",
              "    </tr>\n",
              "    <tr>\n",
              "      <th>187</th>\n",
              "      <td>0.002527</td>\n",
              "      <td>-0.171082</td>\n",
              "    </tr>\n",
              "    <tr>\n",
              "      <th>188</th>\n",
              "      <td>-0.002345</td>\n",
              "      <td>-0.105026</td>\n",
              "    </tr>\n",
              "    <tr>\n",
              "      <th>189</th>\n",
              "      <td>0.008001</td>\n",
              "      <td>-0.093210</td>\n",
              "    </tr>\n",
              "    <tr>\n",
              "      <th>190</th>\n",
              "      <td>0.003526</td>\n",
              "      <td>-0.097078</td>\n",
              "    </tr>\n",
              "    <tr>\n",
              "      <th>191</th>\n",
              "      <td>0.005210</td>\n",
              "      <td>-0.102560</td>\n",
              "    </tr>\n",
              "  </tbody>\n",
              "</table>\n",
              "<p>192 rows × 2 columns</p>\n",
              "</div>\n",
              "      <button class=\"colab-df-convert\" onclick=\"convertToInteractive('df-26b72b56-e8e8-4941-a909-ab251abfe202')\"\n",
              "              title=\"Convert this dataframe to an interactive table.\"\n",
              "              style=\"display:none;\">\n",
              "        \n",
              "  <svg xmlns=\"http://www.w3.org/2000/svg\" height=\"24px\"viewBox=\"0 0 24 24\"\n",
              "       width=\"24px\">\n",
              "    <path d=\"M0 0h24v24H0V0z\" fill=\"none\"/>\n",
              "    <path d=\"M18.56 5.44l.94 2.06.94-2.06 2.06-.94-2.06-.94-.94-2.06-.94 2.06-2.06.94zm-11 1L8.5 8.5l.94-2.06 2.06-.94-2.06-.94L8.5 2.5l-.94 2.06-2.06.94zm10 10l.94 2.06.94-2.06 2.06-.94-2.06-.94-.94-2.06-.94 2.06-2.06.94z\"/><path d=\"M17.41 7.96l-1.37-1.37c-.4-.4-.92-.59-1.43-.59-.52 0-1.04.2-1.43.59L10.3 9.45l-7.72 7.72c-.78.78-.78 2.05 0 2.83L4 21.41c.39.39.9.59 1.41.59.51 0 1.02-.2 1.41-.59l7.78-7.78 2.81-2.81c.8-.78.8-2.07 0-2.86zM5.41 20L4 18.59l7.72-7.72 1.47 1.35L5.41 20z\"/>\n",
              "  </svg>\n",
              "      </button>\n",
              "      \n",
              "  <style>\n",
              "    .colab-df-container {\n",
              "      display:flex;\n",
              "      flex-wrap:wrap;\n",
              "      gap: 12px;\n",
              "    }\n",
              "\n",
              "    .colab-df-convert {\n",
              "      background-color: #E8F0FE;\n",
              "      border: none;\n",
              "      border-radius: 50%;\n",
              "      cursor: pointer;\n",
              "      display: none;\n",
              "      fill: #1967D2;\n",
              "      height: 32px;\n",
              "      padding: 0 0 0 0;\n",
              "      width: 32px;\n",
              "    }\n",
              "\n",
              "    .colab-df-convert:hover {\n",
              "      background-color: #E2EBFA;\n",
              "      box-shadow: 0px 1px 2px rgba(60, 64, 67, 0.3), 0px 1px 3px 1px rgba(60, 64, 67, 0.15);\n",
              "      fill: #174EA6;\n",
              "    }\n",
              "\n",
              "    [theme=dark] .colab-df-convert {\n",
              "      background-color: #3B4455;\n",
              "      fill: #D2E3FC;\n",
              "    }\n",
              "\n",
              "    [theme=dark] .colab-df-convert:hover {\n",
              "      background-color: #434B5C;\n",
              "      box-shadow: 0px 1px 3px 1px rgba(0, 0, 0, 0.15);\n",
              "      filter: drop-shadow(0px 1px 2px rgba(0, 0, 0, 0.3));\n",
              "      fill: #FFFFFF;\n",
              "    }\n",
              "  </style>\n",
              "\n",
              "      <script>\n",
              "        const buttonEl =\n",
              "          document.querySelector('#df-26b72b56-e8e8-4941-a909-ab251abfe202 button.colab-df-convert');\n",
              "        buttonEl.style.display =\n",
              "          google.colab.kernel.accessAllowed ? 'block' : 'none';\n",
              "\n",
              "        async function convertToInteractive(key) {\n",
              "          const element = document.querySelector('#df-26b72b56-e8e8-4941-a909-ab251abfe202');\n",
              "          const dataTable =\n",
              "            await google.colab.kernel.invokeFunction('convertToInteractive',\n",
              "                                                     [key], {});\n",
              "          if (!dataTable) return;\n",
              "\n",
              "          const docLinkHtml = 'Like what you see? Visit the ' +\n",
              "            '<a target=\"_blank\" href=https://colab.research.google.com/notebooks/data_table.ipynb>data table notebook</a>'\n",
              "            + ' to learn more about interactive tables.';\n",
              "          element.innerHTML = '';\n",
              "          dataTable['output_type'] = 'display_data';\n",
              "          await google.colab.output.renderOutput(dataTable, element);\n",
              "          const docLink = document.createElement('div');\n",
              "          docLink.innerHTML = docLinkHtml;\n",
              "          element.appendChild(docLink);\n",
              "        }\n",
              "      </script>\n",
              "    </div>\n",
              "  </div>\n",
              "  "
            ]
          },
          "metadata": {},
          "execution_count": 122
        }
      ]
    },
    {
      "cell_type": "code",
      "source": [
        "import numpy as np\n",
        "from plotly.subplots import make_subplots\n",
        "import plotly.graph_objects as go\n",
        "import plotly.figure_factory as ff\n",
        "\n",
        "fig1 = tampilan_vektor_subplot(angin_test)\n",
        "fig2 = tampilan_vektor_subplot(angin_pred) \n",
        " \n",
        "# subplot setup\n",
        "subplots = make_subplots(rows=1, cols=2)\n",
        "\n",
        "# add all fig1.data as individual traces in fig at row=1, col=1\n",
        "for d in fig1.data:\n",
        "    subplots.add_trace(go.Scatter(x=d['x'], y=d['y']),\n",
        "                  row=1, col=1)\n",
        "\n",
        "# add all fig2.data as individual traces in fig at row=1, col=2\n",
        "for d in fig2.data:\n",
        "    subplots.add_trace(go.Scatter(x=d['x'], y=d['y']),\n",
        "                  row=1, col=2)\n",
        "    \n",
        "subplots.update_layout(showlegend=False)\n",
        "\n",
        "subplots.add_contour( x = (angin_test['koor_x']*1.2)-0.5,\n",
        "                      y = (angin_test['koor_y']*1.3)-0.9,\n",
        "                      z = ((angin_test['Vx']**2)+(angin_test['Vy']**2))**0.5,\n",
        "                      colorscale = 'ylgnbu',\n",
        "                      row = 1, col = 1\n",
        "                     )\n",
        "\n",
        "subplots.add_contour( x = (angin_pred['koor_x']*1.2)-0.5,\n",
        "                      y = (angin_pred['koor_y']*1.3)-0.9,\n",
        "                      z = ((angin_pred['Vx']**2)+(angin_pred['Vy']**2))**0.5,\n",
        "                      colorscale = 'ylgnbu',\n",
        "                      row = 1, col = 2\n",
        "                     )\n",
        "subplots.show()"
      ],
      "metadata": {
        "id": "uIgqrRCP1K6y",
        "outputId": "5983335a-81aa-4b25-9005-d029ee4ea9fd",
        "colab": {
          "base_uri": "https://localhost:8080/",
          "height": 542
        }
      },
      "execution_count": 146,
      "outputs": [
        {
          "output_type": "display_data",
          "data": {
            "text/html": [
              "<html>\n",
              "<head><meta charset=\"utf-8\" /></head>\n",
              "<body>\n",
              "    <div>            <script src=\"https://cdnjs.cloudflare.com/ajax/libs/mathjax/2.7.5/MathJax.js?config=TeX-AMS-MML_SVG\"></script><script type=\"text/javascript\">if (window.MathJax) {MathJax.Hub.Config({SVG: {font: \"STIX-Web\"}});}</script>                <script type=\"text/javascript\">window.PlotlyConfig = {MathJaxConfig: 'local'};</script>\n",
              "        <script src=\"https://cdn.plot.ly/plotly-2.8.3.min.js\"></script>                <div id=\"e5809206-9835-4825-9d4d-f7ba1846ef60\" class=\"plotly-graph-div\" style=\"height:525px; width:100%;\"></div>            <script type=\"text/javascript\">                                    window.PLOTLYENV=window.PLOTLYENV || {};                                    if (document.getElementById(\"e5809206-9835-4825-9d4d-f7ba1846ef60\")) {                    Plotly.newPlot(                        \"e5809206-9835-4825-9d4d-f7ba1846ef60\",                        [{\"x\":[1,1.0349113194754374,null,1,1.0318766752354764,null,1,1.0299531511096796,null,1,1.2235126006694352,null,1,1.0283488136963501,null,1,1.0109829388220748,null,2,2.176731928806681,null,2,2.1135134299559457,null,2,2.134235905269315,null,2,2.2499993318198706,null,2,2.2445372585566594,null,2,null,null,3,3.0649132955622562,null,3,3.238510707061185,null,3,3.0675530561022586,null,3,3.146091391637069,null,3,3.2117708104556835,null,3,3.2466141034767917,null,4,4.12185096443149,null,4,4.202960762104114,null,4,4.224819329329732,null,4,4.216784520344593,null,4,4.224467060180875,null,5,null,null,5,null,null,5,5.1565717873528705,null,5,5.032566390286597,null,5,5.016145202549807,null,5,5.042325710418881,null,5,5.047303404533624,null,0.9996693798601443,1.0349113194754374,1.0504697135149497,null,1.0483325279442373,1.0318766752354764,0.997448256630336,null,1.0469758553195647,1.0299531511096796,0.9960423938595637,null,1.1719936726268991,1.2235126006694352,1.14901164381093,null,0.9948710049938599,1.0283488136963501,1.0458431197757434,null,0.9822600177547697,1.0109829388220748,1.033513507949992,null,2.1450527713476983,2.176731928806681,2.1087668726515245,null,2.0586582731411487,2.1135134299559457,2.1043679472769226,null,2.074753678873887,2.134235905269315,2.1180338378890875,null,2.179463266834576,2.2499993318198706,2.1795818804176412,null,2.1809333773186355,2.2445372585566594,2.1702672253709383,null,null,null,null,null,3.021842018577382,3.0649132955622562,3.071385445648682,null,3.178959677269565,3.238510707061185,3.16358568601051,null,3.073206618318077,3.0675530561022586,3.023812028887943,null,3.0840911327104075,3.146091391637069,3.125723048954712,null,3.138438212158883,3.2117708104556835,3.16570372802265,null,3.181299120814246,3.2466141034767917,3.1728842142080134,null,4.109898529276657,4.12185096443149,4.065101928319171,null,4.16072183745756,4.202960762104114,4.130767248475676,null,4.172660439579044,4.224819329329732,4.150221580211707,null,4.168447468021207,4.216784520344593,4.1428950842269225,null,4.17248149166723,4.224467060180875,4.149894604657636,null,null,null,null,null,null,null,null,null,5.092435256979431,5.1565717873528705,5.132430705807058,null,5.048818609093661,5.032566390286597,4.9979527334967635,null,5.0371917069639744,5.016145202549807,4.985995781517351,null,5.055674970582283,5.042325710418881,5.005112555605393,null,5.059156347015141,5.047303404533624,5.008780065945129,null],\"y\":[1,0.5048992031010899,null,2,2.4959188545555895,null,3,3.4963982624409584,null,4,4.223983189922687,null,5,4.503225021717037,null,6,5.500482732811645,null,1,1.353642900905816,null,2,1.5545128454393478,null,3,2.578190935438663,null,4,3.998843990279716,null,5,5.103952473324949,null,6,null,null,1,0.5171490330992506,null,2,2.1498351443043133,null,3,3.4814003930669153,null,4,3.59425473365894,null,5,4.734269882482675,null,6,6.082011803207544,null,1,1.4365883299728286,null,2,2.291937863567694,null,3,3.2186894525095324,null,4,4.249033907241282,null,5,5.220132132082125,null,6,null,null,1,null,null,2,1.6102037691042796,null,3,3.4957395696278484,null,4,4.4989562403042,null,5,5.492782037974344,null,6,6.490967974187842,null,0.6373077480240221,0.5048992031010899,0.6516361974128348,null,2.3495739890955734,2.4959188545555895,2.3626569471349135,null,3.350312978563591,3.4963982624409584,3.3626064758062966,null,4.1149730976679235,4.223983189922687,4.206708071727188,null,4.637452236907988,4.503225021717037,4.649087275296234,null,5.639046708005219,5.500482732811645,5.643554371577295,null,1.217680685821051,1.353642900905816,1.2902157413658706,null,1.6568048152282622,1.5545128454393478,1.7033934707277671,null,2.6695553649075343,2.578190935438663,2.724649025179129,null,3.947866994040616,3.998843990279716,4.05047276280104,null,5.02446546076417,5.103952473324949,5.124829462628188,null,null,null,null,null,0.6399474874688765,0.5171490330992506,0.6665894730512097,null,2.058650170744903,2.1498351443043133,2.1565407302014306,null,3.3318271704062816,3.4814003930669153,3.3595525775224995,null,3.6786577642449783,3.59425473365894,3.7386172026926063,null,4.765723341881608,4.734269882482675,4.8526392014147035,null,6.008283842709743,6.082011803207544,6.109500231930459,null,1.288505389782278,1.4365883299728286,1.338515970965353,null,2.167988305364323,2.291937863567694,2.2512883080975263,null,3.1109035495356157,3.2186894525095324,3.2031748366232984,null,4.134342506121821,4.249033907241282,4.223316113384674,null,5.11201181639052,5.220132132082125,5.204138523704465,null,null,null,null,null,null,null,null,null,1.6879599385484292,1.6102037691042796,1.7522207847298512,null,3.349303708120534,3.4957395696278484,3.3626697418886398,null,4.354983400477455,4.4989562403042,4.3616097818655835,null,5.345177197225948,5.492782037974344,5.36254869187854,null,6.342853049152856,6.490967974187842,6.3622675097909145,null],\"type\":\"scatter\",\"xaxis\":\"x\",\"yaxis\":\"y\"},{\"x\":[1,1.0045280579449511,null,1,1.0915529124332144,null,1,1.0307892674595327,null,1,1.0785657694362154,null,1,1.0156817836753345,null,1,1.0089205821930034,null,2,2.0678580868753302,null,2,2.0399616755615786,null,2,2.049638501904418,null,2,2.2494553056251365,null,2,2.2480497636354526,null,2,2.0873494882761987,null,3,3.0851717767455997,null,3,3.2120533096346238,null,3,3.008625661446351,null,3,3.136325922851685,null,3,3.171979717592416,null,3,3.248029470972457,null,4,4.121477176583454,null,4,4.214387449631927,null,4,4.234340632782057,null,4,4.22517199241806,null,4,4.230359718442504,null,5,5.249793474856443,null,5,5.175660893956733,null,5,5.015168249201834,null,5,5.173648905208061,null,5,5.059302020279128,null,5,5.143395070700093,null,5,5.119526052607883,null,0.977604260276206,1.0045280579449511,1.0288988660312794,null,1.0896129744785472,1.0915529124332144,1.0418738926529116,null,1.0475657639185212,1.0307892674595327,0.9966533025418682,null,1.0807693682485489,1.0785657694362154,1.0320655663525347,null,0.9856599711605348,1.0156817836753345,1.0368619623498505,null,0.9807706251853072,1.0089205821930034,1.032040976044772,null,2.0734168532852397,2.0678580868753302,2.0240398743669825,null,2.0540178478431,2.0399616755615786,2.0033744882963833,null,2.010504233885419,2.049638501904418,2.060785809555547,null,2.1774395333700625,2.2494553056251365,2.18082429193311,null,2.181320415934586,2.2480497636354526,2.1749247918507653,null,2.0386901779100817,2.0873494882761987,2.0867597969047744,null,3.0852781433663496,3.0851717767455997,3.037044236060611,null,3.1658602786429753,3.2120533096346238,3.1386873824601413,null,2.980557782317296,3.008625661446351,3.0318302583290855,null,3.076392498291385,3.136325922851685,3.119396669176651,null,3.104879747926611,3.171979717592416,3.142114844330359,null,3.181322372381169,3.248029470972457,3.1748936913975943,null,4.109651480544243,4.121477176583454,4.0648121487650375,null,4.167145119949622,4.214387449631927,4.140754796669292,null,4.177214026076528,4.234340632782057,4.159342341462228,null,4.172838977838195,4.22517199241806,4.150549531188179,null,4.1753857313450435,4.230359718442504,4.15545330901192,null,5.1804171980544425,5.249793474856443,5.1783323006326025,null,5.14439284725108,5.175660893956733,5.107888593175308,null,4.985287948762047,5.015168249201834,5.036496454534499,null,5.143149633638401,5.173648905208061,5.106242219878783,null,5.067503706539332,5.059302020279128,5.017664931506529,null,5.123983302143513,5.143395070700093,5.0819584653803025,null,5.108360529546751,5.119526052607883,5.063300925892637,null],\"y\":[1,0.5000820199622855,null,2,2.465265791671798,null,3,3.4961935953206384,null,4,4.474667967627458,null,5,4.500984642878558,null,6,5.5003184085306405,null,1,1.4812287607598704,null,2,2.493570924939106,null,3,2.5099550260284875,null,4,3.9670120933995703,null,5,5.062331846126876,null,6,5.531512788230517,null,1,1.4700883680585926,null,2,2.2648274447484806,null,3,2.500297696764912,null,4,3.5808807198009784,null,5,4.637106204314084,null,6,6.062654019156739,null,1,1.4370047851880443,null,2,2.257200477762527,null,3,3.174177700378723,null,4,4.2172332739750615,null,5,5.194261680411659,null,6,6.020319440852876,null,1,1.3557709956380437,null,2,1.5009211516557688,null,3,3.359700195830036,null,4,4.485729432465499,null,5,5.40957467548136,null,6,6.439151558111673,null,0.6400835787977852,0.5000820199622855,0.6419420032305682,null,2.315315978190993,2.465265791671798,2.3528915064697413,null,3.3499944275177875,3.4961935953206384,3.3626310871210694,null,4.324732726242729,4.474667967627458,4.356978017110408,null,4.6384428659621735,4.500984642878558,4.644879049042461,null,5.639351928524416,5.5003184085306405,5.643013151084655,null,1.3316413265817275,1.4812287607598704,1.3594919257004148,null,2.346228819337317,2.493570924939106,2.3626300569410428,null,2.6379160992752713,2.5099550260284875,2.6582889403182555,null,3.925120397491895,3.9670120933995703,4.027502884751804,null,4.993857203946962,5.062331846126876,5.095662822799556,null,5.645657810280432,5.531512788230517,5.681508151680011,null,1.3200885189101086,1.4700883680585926,1.3550450748579068,null,2.1466546240526103,2.2648274447484806,2.23368642807731,null,2.639397576868337,2.500297696764912,2.6429377568253285,null,3.671057981246973,3.5808807198009784,3.7270094352542573,null,4.704116474298558,4.637106204314084,4.774701107490637,null,5.994092718190895,6.062654019156739,6.095890008444083,null,1.288881148813721,1.4370047851880443,1.3387383184287658,null,2.1406987647075084,2.257200477762527,2.2286885562079117,null,3.076986120366631,3.174177700378723,3.173165180540008,null,4.109785508340152,4.2172332739750615,4.2022015368838534,null,5.0922252017854674,5.194261680411659,5.186770398487266,null,5.963330592221162,6.020319440852876,6.065851872307824,null,1.219428643374148,1.3557709956380437,1.2915241203275043,null,1.6385026568899832,1.5009211516557688,1.6447280730091964,null,3.2226630558464526,3.359700195830036,3.2939327639835807,null,4.33662903216437,4.485729432465499,4.360968014734814,null,5.26468598383835,5.40957467548136,5.323538786997998,null,6.2908231239559615,6.439151558111673,6.339879505128881,null],\"type\":\"scatter\",\"xaxis\":\"x2\",\"yaxis\":\"y2\"},{\"colorscale\":[[0.0,\"rgb(255,255,217)\"],[0.125,\"rgb(237,248,177)\"],[0.25,\"rgb(199,233,180)\"],[0.375,\"rgb(127,205,187)\"],[0.5,\"rgb(65,182,196)\"],[0.625,\"rgb(29,145,192)\"],[0.75,\"rgb(34,94,168)\"],[0.875,\"rgb(37,52,148)\"],[1.0,\"rgb(8,29,88)\"]],\"x\":[0.7,0.7,0.7,0.7,0.7,0.7,1.9,1.9,1.9,1.9,1.9,1.9,3.0999999999999996,3.0999999999999996,3.0999999999999996,3.0999999999999996,3.0999999999999996,3.0999999999999996,4.3,4.3,4.3,4.3,4.3,5.5,5.5,5.5,5.5,5.5,5.5,5.5],\"y\":[0.4,1.7000000000000002,3.0000000000000004,4.3,5.6,6.9,0.4,1.7000000000000002,3.0000000000000004,4.3,5.6,6.9,0.4,1.7000000000000002,3.0000000000000004,4.3,5.6,6.9,0.4,1.7000000000000002,3.0000000000000004,4.3,5.6,6.9,0.4,1.7000000000000002,3.0000000000000004,4.3,5.6,6.9],\"z\":[0.09724510706014983,0.08821693226244551,0.1305618893210944,0.019948394348443185,0.0927485018654776,0.16930919220478077,0.008796755122276623,0.12111388498555274,0.07854288298534758,0.036284296977785034,0.09304920499355275,0.0,0.08937387094198448,0.17742943501963618,0.14828115229660344,0.1242349552332877,0.10387582430584029,0.1233683397302667,0.06801365946233154,0.07706078178784588,0.10872241311667112,0.09284036963528527,0.11316623686135101,0.0,0.0,0.10644425654054096,0.04904596382784724,0.07655633282933097,0.06674087622023328,0.10308142824125838],\"type\":\"contour\",\"xaxis\":\"x\",\"yaxis\":\"y\"},{\"colorscale\":[[0.0,\"rgb(255,255,217)\"],[0.125,\"rgb(237,248,177)\"],[0.25,\"rgb(199,233,180)\"],[0.375,\"rgb(127,205,187)\"],[0.5,\"rgb(65,182,196)\"],[0.625,\"rgb(29,145,192)\"],[0.75,\"rgb(34,94,168)\"],[0.875,\"rgb(37,52,148)\"],[1.0,\"rgb(8,29,88)\"]],\"x\":[0.7,0.7,0.7,0.7,0.7,0.7,1.9,1.9,1.9,1.9,1.9,1.9,3.0999999999999996,3.0999999999999996,3.0999999999999996,3.0999999999999996,3.0999999999999996,3.0999999999999996,4.3,4.3,4.3,4.3,4.3,5.5,5.5,5.5,5.5,5.5,5.5,5.5],\"y\":[0.4,1.7000000000000002,3.0000000000000004,4.3,5.6,6.9,0.4,1.7000000000000002,3.0000000000000004,4.3,5.6,6.9,0.4,1.7000000000000002,3.0000000000000004,4.3,5.6,6.9,0.4,1.7000000000000002,3.0000000000000004,4.3,5.6,6.9,0.4,1.7000000000000002,3.0000000000000004,4.3,5.6,6.9],\"z\":[0.06974605016889052,0.019138388285443907,0.07666355516269499,0.03144871422845266,0.09852146939057675,0.15321208693746122,0.005422378625604477,0.06940796947181753,0.05721201606798047,0.029675701073329903,0.08245660279720962,0.00014054797309694472,0.04148862165531214,0.12031661368591172,0.08161482272158138,0.0771989564230041,0.03987639025089251,0.11611423152254809,0.05614566447836133,0.060311567129773876,0.07620517329580276,0.07926769758555333,0.08625476388510325,0.00017892593635200437,0.000298096801222346,0.05799890117352166,0.05118152466757369,0.07909933169041874,0.04340157638120498,0.06823869792501384],\"type\":\"contour\",\"xaxis\":\"x2\",\"yaxis\":\"y2\"}],                        {\"template\":{\"data\":{\"bar\":[{\"error_x\":{\"color\":\"#2a3f5f\"},\"error_y\":{\"color\":\"#2a3f5f\"},\"marker\":{\"line\":{\"color\":\"#E5ECF6\",\"width\":0.5},\"pattern\":{\"fillmode\":\"overlay\",\"size\":10,\"solidity\":0.2}},\"type\":\"bar\"}],\"barpolar\":[{\"marker\":{\"line\":{\"color\":\"#E5ECF6\",\"width\":0.5},\"pattern\":{\"fillmode\":\"overlay\",\"size\":10,\"solidity\":0.2}},\"type\":\"barpolar\"}],\"carpet\":[{\"aaxis\":{\"endlinecolor\":\"#2a3f5f\",\"gridcolor\":\"white\",\"linecolor\":\"white\",\"minorgridcolor\":\"white\",\"startlinecolor\":\"#2a3f5f\"},\"baxis\":{\"endlinecolor\":\"#2a3f5f\",\"gridcolor\":\"white\",\"linecolor\":\"white\",\"minorgridcolor\":\"white\",\"startlinecolor\":\"#2a3f5f\"},\"type\":\"carpet\"}],\"choropleth\":[{\"colorbar\":{\"outlinewidth\":0,\"ticks\":\"\"},\"type\":\"choropleth\"}],\"contour\":[{\"colorbar\":{\"outlinewidth\":0,\"ticks\":\"\"},\"colorscale\":[[0.0,\"#0d0887\"],[0.1111111111111111,\"#46039f\"],[0.2222222222222222,\"#7201a8\"],[0.3333333333333333,\"#9c179e\"],[0.4444444444444444,\"#bd3786\"],[0.5555555555555556,\"#d8576b\"],[0.6666666666666666,\"#ed7953\"],[0.7777777777777778,\"#fb9f3a\"],[0.8888888888888888,\"#fdca26\"],[1.0,\"#f0f921\"]],\"type\":\"contour\"}],\"contourcarpet\":[{\"colorbar\":{\"outlinewidth\":0,\"ticks\":\"\"},\"type\":\"contourcarpet\"}],\"heatmap\":[{\"colorbar\":{\"outlinewidth\":0,\"ticks\":\"\"},\"colorscale\":[[0.0,\"#0d0887\"],[0.1111111111111111,\"#46039f\"],[0.2222222222222222,\"#7201a8\"],[0.3333333333333333,\"#9c179e\"],[0.4444444444444444,\"#bd3786\"],[0.5555555555555556,\"#d8576b\"],[0.6666666666666666,\"#ed7953\"],[0.7777777777777778,\"#fb9f3a\"],[0.8888888888888888,\"#fdca26\"],[1.0,\"#f0f921\"]],\"type\":\"heatmap\"}],\"heatmapgl\":[{\"colorbar\":{\"outlinewidth\":0,\"ticks\":\"\"},\"colorscale\":[[0.0,\"#0d0887\"],[0.1111111111111111,\"#46039f\"],[0.2222222222222222,\"#7201a8\"],[0.3333333333333333,\"#9c179e\"],[0.4444444444444444,\"#bd3786\"],[0.5555555555555556,\"#d8576b\"],[0.6666666666666666,\"#ed7953\"],[0.7777777777777778,\"#fb9f3a\"],[0.8888888888888888,\"#fdca26\"],[1.0,\"#f0f921\"]],\"type\":\"heatmapgl\"}],\"histogram\":[{\"marker\":{\"pattern\":{\"fillmode\":\"overlay\",\"size\":10,\"solidity\":0.2}},\"type\":\"histogram\"}],\"histogram2d\":[{\"colorbar\":{\"outlinewidth\":0,\"ticks\":\"\"},\"colorscale\":[[0.0,\"#0d0887\"],[0.1111111111111111,\"#46039f\"],[0.2222222222222222,\"#7201a8\"],[0.3333333333333333,\"#9c179e\"],[0.4444444444444444,\"#bd3786\"],[0.5555555555555556,\"#d8576b\"],[0.6666666666666666,\"#ed7953\"],[0.7777777777777778,\"#fb9f3a\"],[0.8888888888888888,\"#fdca26\"],[1.0,\"#f0f921\"]],\"type\":\"histogram2d\"}],\"histogram2dcontour\":[{\"colorbar\":{\"outlinewidth\":0,\"ticks\":\"\"},\"colorscale\":[[0.0,\"#0d0887\"],[0.1111111111111111,\"#46039f\"],[0.2222222222222222,\"#7201a8\"],[0.3333333333333333,\"#9c179e\"],[0.4444444444444444,\"#bd3786\"],[0.5555555555555556,\"#d8576b\"],[0.6666666666666666,\"#ed7953\"],[0.7777777777777778,\"#fb9f3a\"],[0.8888888888888888,\"#fdca26\"],[1.0,\"#f0f921\"]],\"type\":\"histogram2dcontour\"}],\"mesh3d\":[{\"colorbar\":{\"outlinewidth\":0,\"ticks\":\"\"},\"type\":\"mesh3d\"}],\"parcoords\":[{\"line\":{\"colorbar\":{\"outlinewidth\":0,\"ticks\":\"\"}},\"type\":\"parcoords\"}],\"pie\":[{\"automargin\":true,\"type\":\"pie\"}],\"scatter\":[{\"marker\":{\"colorbar\":{\"outlinewidth\":0,\"ticks\":\"\"}},\"type\":\"scatter\"}],\"scatter3d\":[{\"line\":{\"colorbar\":{\"outlinewidth\":0,\"ticks\":\"\"}},\"marker\":{\"colorbar\":{\"outlinewidth\":0,\"ticks\":\"\"}},\"type\":\"scatter3d\"}],\"scattercarpet\":[{\"marker\":{\"colorbar\":{\"outlinewidth\":0,\"ticks\":\"\"}},\"type\":\"scattercarpet\"}],\"scattergeo\":[{\"marker\":{\"colorbar\":{\"outlinewidth\":0,\"ticks\":\"\"}},\"type\":\"scattergeo\"}],\"scattergl\":[{\"marker\":{\"colorbar\":{\"outlinewidth\":0,\"ticks\":\"\"}},\"type\":\"scattergl\"}],\"scattermapbox\":[{\"marker\":{\"colorbar\":{\"outlinewidth\":0,\"ticks\":\"\"}},\"type\":\"scattermapbox\"}],\"scatterpolar\":[{\"marker\":{\"colorbar\":{\"outlinewidth\":0,\"ticks\":\"\"}},\"type\":\"scatterpolar\"}],\"scatterpolargl\":[{\"marker\":{\"colorbar\":{\"outlinewidth\":0,\"ticks\":\"\"}},\"type\":\"scatterpolargl\"}],\"scatterternary\":[{\"marker\":{\"colorbar\":{\"outlinewidth\":0,\"ticks\":\"\"}},\"type\":\"scatterternary\"}],\"surface\":[{\"colorbar\":{\"outlinewidth\":0,\"ticks\":\"\"},\"colorscale\":[[0.0,\"#0d0887\"],[0.1111111111111111,\"#46039f\"],[0.2222222222222222,\"#7201a8\"],[0.3333333333333333,\"#9c179e\"],[0.4444444444444444,\"#bd3786\"],[0.5555555555555556,\"#d8576b\"],[0.6666666666666666,\"#ed7953\"],[0.7777777777777778,\"#fb9f3a\"],[0.8888888888888888,\"#fdca26\"],[1.0,\"#f0f921\"]],\"type\":\"surface\"}],\"table\":[{\"cells\":{\"fill\":{\"color\":\"#EBF0F8\"},\"line\":{\"color\":\"white\"}},\"header\":{\"fill\":{\"color\":\"#C8D4E3\"},\"line\":{\"color\":\"white\"}},\"type\":\"table\"}]},\"layout\":{\"annotationdefaults\":{\"arrowcolor\":\"#2a3f5f\",\"arrowhead\":0,\"arrowwidth\":1},\"autotypenumbers\":\"strict\",\"coloraxis\":{\"colorbar\":{\"outlinewidth\":0,\"ticks\":\"\"}},\"colorscale\":{\"diverging\":[[0,\"#8e0152\"],[0.1,\"#c51b7d\"],[0.2,\"#de77ae\"],[0.3,\"#f1b6da\"],[0.4,\"#fde0ef\"],[0.5,\"#f7f7f7\"],[0.6,\"#e6f5d0\"],[0.7,\"#b8e186\"],[0.8,\"#7fbc41\"],[0.9,\"#4d9221\"],[1,\"#276419\"]],\"sequential\":[[0.0,\"#0d0887\"],[0.1111111111111111,\"#46039f\"],[0.2222222222222222,\"#7201a8\"],[0.3333333333333333,\"#9c179e\"],[0.4444444444444444,\"#bd3786\"],[0.5555555555555556,\"#d8576b\"],[0.6666666666666666,\"#ed7953\"],[0.7777777777777778,\"#fb9f3a\"],[0.8888888888888888,\"#fdca26\"],[1.0,\"#f0f921\"]],\"sequentialminus\":[[0.0,\"#0d0887\"],[0.1111111111111111,\"#46039f\"],[0.2222222222222222,\"#7201a8\"],[0.3333333333333333,\"#9c179e\"],[0.4444444444444444,\"#bd3786\"],[0.5555555555555556,\"#d8576b\"],[0.6666666666666666,\"#ed7953\"],[0.7777777777777778,\"#fb9f3a\"],[0.8888888888888888,\"#fdca26\"],[1.0,\"#f0f921\"]]},\"colorway\":[\"#636efa\",\"#EF553B\",\"#00cc96\",\"#ab63fa\",\"#FFA15A\",\"#19d3f3\",\"#FF6692\",\"#B6E880\",\"#FF97FF\",\"#FECB52\"],\"font\":{\"color\":\"#2a3f5f\"},\"geo\":{\"bgcolor\":\"white\",\"lakecolor\":\"white\",\"landcolor\":\"#E5ECF6\",\"showlakes\":true,\"showland\":true,\"subunitcolor\":\"white\"},\"hoverlabel\":{\"align\":\"left\"},\"hovermode\":\"closest\",\"mapbox\":{\"style\":\"light\"},\"paper_bgcolor\":\"white\",\"plot_bgcolor\":\"#E5ECF6\",\"polar\":{\"angularaxis\":{\"gridcolor\":\"white\",\"linecolor\":\"white\",\"ticks\":\"\"},\"bgcolor\":\"#E5ECF6\",\"radialaxis\":{\"gridcolor\":\"white\",\"linecolor\":\"white\",\"ticks\":\"\"}},\"scene\":{\"xaxis\":{\"backgroundcolor\":\"#E5ECF6\",\"gridcolor\":\"white\",\"gridwidth\":2,\"linecolor\":\"white\",\"showbackground\":true,\"ticks\":\"\",\"zerolinecolor\":\"white\"},\"yaxis\":{\"backgroundcolor\":\"#E5ECF6\",\"gridcolor\":\"white\",\"gridwidth\":2,\"linecolor\":\"white\",\"showbackground\":true,\"ticks\":\"\",\"zerolinecolor\":\"white\"},\"zaxis\":{\"backgroundcolor\":\"#E5ECF6\",\"gridcolor\":\"white\",\"gridwidth\":2,\"linecolor\":\"white\",\"showbackground\":true,\"ticks\":\"\",\"zerolinecolor\":\"white\"}},\"shapedefaults\":{\"line\":{\"color\":\"#2a3f5f\"}},\"ternary\":{\"aaxis\":{\"gridcolor\":\"white\",\"linecolor\":\"white\",\"ticks\":\"\"},\"baxis\":{\"gridcolor\":\"white\",\"linecolor\":\"white\",\"ticks\":\"\"},\"bgcolor\":\"#E5ECF6\",\"caxis\":{\"gridcolor\":\"white\",\"linecolor\":\"white\",\"ticks\":\"\"}},\"title\":{\"x\":0.05},\"xaxis\":{\"automargin\":true,\"gridcolor\":\"white\",\"linecolor\":\"white\",\"ticks\":\"\",\"title\":{\"standoff\":15},\"zerolinecolor\":\"white\",\"zerolinewidth\":2},\"yaxis\":{\"automargin\":true,\"gridcolor\":\"white\",\"linecolor\":\"white\",\"ticks\":\"\",\"title\":{\"standoff\":15},\"zerolinecolor\":\"white\",\"zerolinewidth\":2}}},\"xaxis\":{\"anchor\":\"y\",\"domain\":[0.0,0.45]},\"yaxis\":{\"anchor\":\"x\",\"domain\":[0.0,1.0]},\"xaxis2\":{\"anchor\":\"y2\",\"domain\":[0.55,1.0]},\"yaxis2\":{\"anchor\":\"x2\",\"domain\":[0.0,1.0]},\"showlegend\":false},                        {\"responsive\": true}                    ).then(function(){\n",
              "                            \n",
              "var gd = document.getElementById('e5809206-9835-4825-9d4d-f7ba1846ef60');\n",
              "var x = new MutationObserver(function (mutations, observer) {{\n",
              "        var display = window.getComputedStyle(gd).display;\n",
              "        if (!display || display === 'none') {{\n",
              "            console.log([gd, 'removed!']);\n",
              "            Plotly.purge(gd);\n",
              "            observer.disconnect();\n",
              "        }}\n",
              "}});\n",
              "\n",
              "// Listen for the removal of the full notebook cells\n",
              "var notebookContainer = gd.closest('#notebook-container');\n",
              "if (notebookContainer) {{\n",
              "    x.observe(notebookContainer, {childList: true});\n",
              "}}\n",
              "\n",
              "// Listen for the clearing of the current output cell\n",
              "var outputEl = gd.closest('.output');\n",
              "if (outputEl) {{\n",
              "    x.observe(outputEl, {childList: true});\n",
              "}}\n",
              "\n",
              "                        })                };                            </script>        </div>\n",
              "</body>\n",
              "</html>"
            ]
          },
          "metadata": {}
        }
      ]
    },
    {
      "cell_type": "code",
      "source": [],
      "metadata": {
        "id": "f2QeNpeJ9jUB"
      },
      "execution_count": null,
      "outputs": []
    }
  ]
}