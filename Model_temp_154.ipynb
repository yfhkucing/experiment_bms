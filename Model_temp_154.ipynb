{
  "nbformat": 4,
  "nbformat_minor": 0,
  "metadata": {
    "colab": {
      "provenance": [],
      "authorship_tag": "ABX9TyOmV+x2yfFf730GeWstSQIh",
      "include_colab_link": true
    },
    "kernelspec": {
      "name": "python3",
      "display_name": "Python 3"
    },
    "language_info": {
      "name": "python"
    }
  },
  "cells": [
    {
      "cell_type": "markdown",
      "metadata": {
        "id": "view-in-github",
        "colab_type": "text"
      },
      "source": [
        "<a href=\"https://colab.research.google.com/github/yfhkucing/experiment_bms/blob/master/Model_temp_154.ipynb\" target=\"_parent\"><img src=\"https://colab.research.google.com/assets/colab-badge.svg\" alt=\"Open In Colab\"/></a>"
      ]
    },
    {
      "cell_type": "code",
      "execution_count": 1,
      "metadata": {
        "id": "gXZlcwFdcWwY"
      },
      "outputs": [],
      "source": [
        "import pandas as pd\n",
        "import numpy as np"
      ]
    },
    {
      "cell_type": "code",
      "source": [
        "feature = pd.read_excel('data_model.xlsx',sheet_name='feature')\n",
        "label = pd.read_excel('data_model.xlsx',sheet_name='label_154')"
      ],
      "metadata": {
        "id": "rm7Qn5xpcfNM"
      },
      "execution_count": 2,
      "outputs": []
    },
    {
      "cell_type": "code",
      "source": [
        "def norm(df):\n",
        "  df=(df-df.min())/(df.max()-df.min())\n",
        "  return df"
      ],
      "metadata": {
        "id": "L8HmUSon9Yw8"
      },
      "execution_count": 3,
      "outputs": []
    },
    {
      "cell_type": "code",
      "source": [
        "feature.count()"
      ],
      "metadata": {
        "colab": {
          "base_uri": "https://localhost:8080/"
        },
        "id": "zsHJdbzUczcM",
        "outputId": "c0821c6e-d169-443f-8619-1454c7179a5d"
      },
      "execution_count": 4,
      "outputs": [
        {
          "output_type": "execute_result",
          "data": {
            "text/plain": [
              "Jendela                               192\n",
              "AC                                    192\n",
              "Arah Sudut Kecepatan Angin derajat    192\n",
              "Nilai Kecepatan Angin                 192\n",
              "Dry Bulb Temperature                  192\n",
              "Fan/i1                                192\n",
              "Fan/i2                                192\n",
              "Fan/i3                                192\n",
              "Fan/i4                                192\n",
              "Fan/i5                                192\n",
              "Fan/i6                                192\n",
              "Fan/o1                                192\n",
              "Fan/o2                                192\n",
              "Fan/o3                                192\n",
              "Fan/o4                                192\n",
              "Fan/o5                                192\n",
              "Fan/o6                                192\n",
              "dtype: int64"
            ]
          },
          "metadata": {},
          "execution_count": 4
        }
      ]
    },
    {
      "cell_type": "code",
      "source": [
        "label.count()"
      ],
      "metadata": {
        "colab": {
          "base_uri": "https://localhost:8080/"
        },
        "id": "TFJJ5zE-iFSb",
        "outputId": "7b627e92-1891-4dc0-e5e8-5ce41b655003"
      },
      "execution_count": 5,
      "outputs": [
        {
          "output_type": "execute_result",
          "data": {
            "text/plain": [
              "koor_x    29568\n",
              "koor_y    29568\n",
              "Vx        29568\n",
              "Vy        29568\n",
              "Temp      29568\n",
              "dtype: int64"
            ]
          },
          "metadata": {},
          "execution_count": 5
        }
      ]
    },
    {
      "cell_type": "code",
      "source": [
        "array_y = []\n",
        "for i in range(154):\n",
        "  frame= label[i::154]\n",
        "  frame = frame.drop(['koor_x','koor_y'],axis=1)\n",
        "  frame = frame.drop(['Vx','Vy'],axis=1)\n",
        "  array_y.append(frame)"
      ],
      "metadata": {
        "id": "KaycxGjpiLe-"
      },
      "execution_count": 6,
      "outputs": []
    },
    {
      "cell_type": "code",
      "source": [
        "array_y[153]"
      ],
      "metadata": {
        "colab": {
          "base_uri": "https://localhost:8080/",
          "height": 424
        },
        "id": "9_N5IAV6jmv-",
        "outputId": "84aab3df-5ee2-4387-886d-82684216d0f0"
      },
      "execution_count": 7,
      "outputs": [
        {
          "output_type": "execute_result",
          "data": {
            "text/plain": [
              "            Temp\n",
              "153    29.056709\n",
              "307    30.032925\n",
              "461    29.968340\n",
              "615    29.310209\n",
              "769    29.309998\n",
              "...          ...\n",
              "28951  26.147747\n",
              "29105  25.840082\n",
              "29259  23.635651\n",
              "29413  24.730881\n",
              "29567  24.897440\n",
              "\n",
              "[192 rows x 1 columns]"
            ],
            "text/html": [
              "\n",
              "  <div id=\"df-02f13604-f1c9-475a-b7c0-acf2c5ecf936\">\n",
              "    <div class=\"colab-df-container\">\n",
              "      <div>\n",
              "<style scoped>\n",
              "    .dataframe tbody tr th:only-of-type {\n",
              "        vertical-align: middle;\n",
              "    }\n",
              "\n",
              "    .dataframe tbody tr th {\n",
              "        vertical-align: top;\n",
              "    }\n",
              "\n",
              "    .dataframe thead th {\n",
              "        text-align: right;\n",
              "    }\n",
              "</style>\n",
              "<table border=\"1\" class=\"dataframe\">\n",
              "  <thead>\n",
              "    <tr style=\"text-align: right;\">\n",
              "      <th></th>\n",
              "      <th>Temp</th>\n",
              "    </tr>\n",
              "  </thead>\n",
              "  <tbody>\n",
              "    <tr>\n",
              "      <th>153</th>\n",
              "      <td>29.056709</td>\n",
              "    </tr>\n",
              "    <tr>\n",
              "      <th>307</th>\n",
              "      <td>30.032925</td>\n",
              "    </tr>\n",
              "    <tr>\n",
              "      <th>461</th>\n",
              "      <td>29.968340</td>\n",
              "    </tr>\n",
              "    <tr>\n",
              "      <th>615</th>\n",
              "      <td>29.310209</td>\n",
              "    </tr>\n",
              "    <tr>\n",
              "      <th>769</th>\n",
              "      <td>29.309998</td>\n",
              "    </tr>\n",
              "    <tr>\n",
              "      <th>...</th>\n",
              "      <td>...</td>\n",
              "    </tr>\n",
              "    <tr>\n",
              "      <th>28951</th>\n",
              "      <td>26.147747</td>\n",
              "    </tr>\n",
              "    <tr>\n",
              "      <th>29105</th>\n",
              "      <td>25.840082</td>\n",
              "    </tr>\n",
              "    <tr>\n",
              "      <th>29259</th>\n",
              "      <td>23.635651</td>\n",
              "    </tr>\n",
              "    <tr>\n",
              "      <th>29413</th>\n",
              "      <td>24.730881</td>\n",
              "    </tr>\n",
              "    <tr>\n",
              "      <th>29567</th>\n",
              "      <td>24.897440</td>\n",
              "    </tr>\n",
              "  </tbody>\n",
              "</table>\n",
              "<p>192 rows × 1 columns</p>\n",
              "</div>\n",
              "      <button class=\"colab-df-convert\" onclick=\"convertToInteractive('df-02f13604-f1c9-475a-b7c0-acf2c5ecf936')\"\n",
              "              title=\"Convert this dataframe to an interactive table.\"\n",
              "              style=\"display:none;\">\n",
              "        \n",
              "  <svg xmlns=\"http://www.w3.org/2000/svg\" height=\"24px\"viewBox=\"0 0 24 24\"\n",
              "       width=\"24px\">\n",
              "    <path d=\"M0 0h24v24H0V0z\" fill=\"none\"/>\n",
              "    <path d=\"M18.56 5.44l.94 2.06.94-2.06 2.06-.94-2.06-.94-.94-2.06-.94 2.06-2.06.94zm-11 1L8.5 8.5l.94-2.06 2.06-.94-2.06-.94L8.5 2.5l-.94 2.06-2.06.94zm10 10l.94 2.06.94-2.06 2.06-.94-2.06-.94-.94-2.06-.94 2.06-2.06.94z\"/><path d=\"M17.41 7.96l-1.37-1.37c-.4-.4-.92-.59-1.43-.59-.52 0-1.04.2-1.43.59L10.3 9.45l-7.72 7.72c-.78.78-.78 2.05 0 2.83L4 21.41c.39.39.9.59 1.41.59.51 0 1.02-.2 1.41-.59l7.78-7.78 2.81-2.81c.8-.78.8-2.07 0-2.86zM5.41 20L4 18.59l7.72-7.72 1.47 1.35L5.41 20z\"/>\n",
              "  </svg>\n",
              "      </button>\n",
              "      \n",
              "  <style>\n",
              "    .colab-df-container {\n",
              "      display:flex;\n",
              "      flex-wrap:wrap;\n",
              "      gap: 12px;\n",
              "    }\n",
              "\n",
              "    .colab-df-convert {\n",
              "      background-color: #E8F0FE;\n",
              "      border: none;\n",
              "      border-radius: 50%;\n",
              "      cursor: pointer;\n",
              "      display: none;\n",
              "      fill: #1967D2;\n",
              "      height: 32px;\n",
              "      padding: 0 0 0 0;\n",
              "      width: 32px;\n",
              "    }\n",
              "\n",
              "    .colab-df-convert:hover {\n",
              "      background-color: #E2EBFA;\n",
              "      box-shadow: 0px 1px 2px rgba(60, 64, 67, 0.3), 0px 1px 3px 1px rgba(60, 64, 67, 0.15);\n",
              "      fill: #174EA6;\n",
              "    }\n",
              "\n",
              "    [theme=dark] .colab-df-convert {\n",
              "      background-color: #3B4455;\n",
              "      fill: #D2E3FC;\n",
              "    }\n",
              "\n",
              "    [theme=dark] .colab-df-convert:hover {\n",
              "      background-color: #434B5C;\n",
              "      box-shadow: 0px 1px 3px 1px rgba(0, 0, 0, 0.15);\n",
              "      filter: drop-shadow(0px 1px 2px rgba(0, 0, 0, 0.3));\n",
              "      fill: #FFFFFF;\n",
              "    }\n",
              "  </style>\n",
              "\n",
              "      <script>\n",
              "        const buttonEl =\n",
              "          document.querySelector('#df-02f13604-f1c9-475a-b7c0-acf2c5ecf936 button.colab-df-convert');\n",
              "        buttonEl.style.display =\n",
              "          google.colab.kernel.accessAllowed ? 'block' : 'none';\n",
              "\n",
              "        async function convertToInteractive(key) {\n",
              "          const element = document.querySelector('#df-02f13604-f1c9-475a-b7c0-acf2c5ecf936');\n",
              "          const dataTable =\n",
              "            await google.colab.kernel.invokeFunction('convertToInteractive',\n",
              "                                                     [key], {});\n",
              "          if (!dataTable) return;\n",
              "\n",
              "          const docLinkHtml = 'Like what you see? Visit the ' +\n",
              "            '<a target=\"_blank\" href=https://colab.research.google.com/notebooks/data_table.ipynb>data table notebook</a>'\n",
              "            + ' to learn more about interactive tables.';\n",
              "          element.innerHTML = '';\n",
              "          dataTable['output_type'] = 'display_data';\n",
              "          await google.colab.output.renderOutput(dataTable, element);\n",
              "          const docLink = document.createElement('div');\n",
              "          docLink.innerHTML = docLinkHtml;\n",
              "          element.appendChild(docLink);\n",
              "        }\n",
              "      </script>\n",
              "    </div>\n",
              "  </div>\n",
              "  "
            ]
          },
          "metadata": {},
          "execution_count": 7
        }
      ]
    },
    {
      "cell_type": "code",
      "source": [
        "! mkdir models\n",
        "y_testing = []\n",
        "\n",
        "import joblib\n",
        "from sklearn.linear_model import LinearRegression\n",
        "\n",
        "#model\n",
        "from sklearn.svm import SVR\n",
        "from sklearn.linear_model import Lasso, LogisticRegression, Ridge, ElasticNet,LassoLars\n",
        "from sklearn.ensemble import RandomForestRegressor\n",
        "\n",
        "#preprocessing and metric\n",
        "from sklearn.model_selection import train_test_split\n",
        "from sklearn.metrics import r2_score as r2\n",
        "from sklearn.metrics import mean_squared_error as mse\n",
        "from sklearn.metrics import mean_absolute_error as mae\n",
        "\n",
        "for i in range(154):\n",
        "  x = np.array(feature)\n",
        "  y = np.array(array_y[i])\n",
        "  x_train,x_test,y_train,y_test = train_test_split(x,y, test_size=0.15, random_state= 10)\n",
        "  y_testing.append(y_test)\n",
        "  #fitting\n",
        "  regressor = LassoLars(alpha=0.6, normalize=False)\n",
        "  regressor.fit(x_train,y_train)\n",
        "  joblib.dump(regressor,f'/content/models/model {i}',)"
      ],
      "metadata": {
        "colab": {
          "base_uri": "https://localhost:8080/"
        },
        "id": "X2kWbeffjpC2",
        "outputId": "83b490c4-4199-4928-9916-2725f750b29d"
      },
      "execution_count": 8,
      "outputs": [
        {
          "output_type": "stream",
          "name": "stdout",
          "text": [
            "mkdir: cannot create directory ‘models’: File exists\n"
          ]
        }
      ]
    },
    {
      "cell_type": "code",
      "source": [
        "skor_r2=[]\n",
        "mae_=[]\n",
        "rmse = []\n",
        "y_predict = []\n",
        "for i in range(154):\n",
        "  model = joblib.load(f'/content/models/model {i}')\n",
        "  y_pred = model.predict(x_test)\n",
        "  Skor_r2 = r2(y_test,y_pred)\n",
        "  RMSE = mse(y_test,y_pred,squared=False)\n",
        "  MAE = mae(y_test,y_pred)\n",
        "  y_predict.append(y_pred)\n",
        "  skor_r2.append(Skor_r2)\n",
        "  mae_.append(MAE)\n",
        "  rmse.append(RMSE)"
      ],
      "metadata": {
        "id": "Sv0p6AG8kf8V"
      },
      "execution_count": 9,
      "outputs": []
    },
    {
      "cell_type": "code",
      "source": [
        "skor_r2 = np.array(skor_r2)\n",
        "rmse = np.array(rmse)\n",
        "mae_=np.array(mae_)\n",
        "y_predict = np.array(y_predict)\n",
        "y_testing = np.array(y_testing)"
      ],
      "metadata": {
        "id": "3oRm0i_ukjAj"
      },
      "execution_count": 10,
      "outputs": []
    },
    {
      "cell_type": "code",
      "source": [
        "skor_r2.shape, rmse.shape, y_predict.shape, y_testing.shape"
      ],
      "metadata": {
        "colab": {
          "base_uri": "https://localhost:8080/"
        },
        "id": "TY3gSRkzknPP",
        "outputId": "b30d31d3-91fa-4525-b14e-a8c18aa1e4ef"
      },
      "execution_count": 11,
      "outputs": [
        {
          "output_type": "execute_result",
          "data": {
            "text/plain": [
              "((154,), (154,), (154, 29), (154, 29, 1))"
            ]
          },
          "metadata": {},
          "execution_count": 11
        }
      ]
    },
    {
      "cell_type": "code",
      "source": [
        "r2_matrix = skor_r2.reshape(11,14)\n",
        "rmse_matrix = rmse.reshape(11,14)\n",
        "mae_matrix = mae_.reshape(11,14)"
      ],
      "metadata": {
        "id": "fQSYU4LykoOC"
      },
      "execution_count": 12,
      "outputs": []
    },
    {
      "cell_type": "code",
      "source": [
        "import numpy as np\n",
        "import seaborn as sns\n",
        "import matplotlib.pylab as plt\n",
        "\n",
        "ax = sns.heatmap(r2_matrix, linewidth=0.5, cmap=\"RdYlBu\")\n",
        "plt.show()"
      ],
      "metadata": {
        "colab": {
          "base_uri": "https://localhost:8080/",
          "height": 265
        },
        "id": "1kY630QWkqfv",
        "outputId": "24978ac5-862e-4da3-c99c-1a1ca2570681"
      },
      "execution_count": 13,
      "outputs": [
        {
          "output_type": "display_data",
          "data": {
            "text/plain": [
              "<Figure size 432x288 with 2 Axes>"
            ],
            "image/png": "[encoded data removed]"
          },
          "metadata": {
            "needs_background": "light"
          }
        }
      ]
    },
    {
      "cell_type": "code",
      "source": [
        "bx = sns.heatmap(mae_matrix, linewidth=0.5, cmap=\"RdYlBu_r\")\n",
        "plt.show()"
      ],
      "metadata": {
        "colab": {
          "base_uri": "https://localhost:8080/",
          "height": 268
        },
        "id": "fAHSS5Uqktfm",
        "outputId": "8b2dc4e7-3a64-433d-a99f-a96819bfc082"
      },
      "execution_count": 14,
      "outputs": [
        {
          "output_type": "display_data",
          "data": {
            "text/plain": [
              "<Figure size 432x288 with 2 Axes>"
            ],
            "image/png": "[encoded data removed]"
          },
          "metadata": {
            "needs_background": "light"
          }
        }
      ]
    },
    {
      "cell_type": "code",
      "source": [
        "scenarios = 2  #0-28\n",
        "indexing = 0    #0-3 (Vx,Vy,Vz,temp)"
      ],
      "metadata": {
        "id": "9v1fsMdRkwln"
      },
      "execution_count": 15,
      "outputs": []
    },
    {
      "cell_type": "code",
      "source": [
        "a = y_testing[(...,scenarios,indexing)]\n",
        "b = y_predict[...,scenarios]\n",
        "a = np.array(a)\n",
        "b = np.array(b)\n",
        "a = a.reshape(11,14)\n",
        "b = b.reshape(11,14)\n",
        "print('reshaped')"
      ],
      "metadata": {
        "colab": {
          "base_uri": "https://localhost:8080/"
        },
        "id": "Pu-p_8BEk4iD",
        "outputId": "c649a5ad-70e3-4141-8cd2-fe9a2fc58155"
      },
      "execution_count": 16,
      "outputs": [
        {
          "output_type": "stream",
          "name": "stdout",
          "text": [
            "reshaped\n"
          ]
        }
      ]
    },
    {
      "cell_type": "code",
      "source": [
        "!zip -r /content/models_temp_154_a06.zip /content/models"
      ],
      "metadata": {
        "colab": {
          "base_uri": "https://localhost:8080/"
        },
        "id": "7TOartABlDax",
        "outputId": "640fbfdc-938f-4ab3-fc7d-528131e8252f"
      },
      "execution_count": 17,
      "outputs": [
        {
          "output_type": "stream",
          "name": "stdout",
          "text": [
            "  adding: content/models/ (stored 0%)\n",
            "  adding: content/models/model 125 (deflated 54%)\n",
            "  adding: content/models/model 111 (deflated 54%)\n",
            "  adding: content/models/model 58 (deflated 54%)\n",
            "  adding: content/models/model 68 (deflated 54%)\n",
            "  adding: content/models/model 105 (deflated 54%)\n",
            "  adding: content/models/model 108 (deflated 54%)\n",
            "  adding: content/models/model 17 (deflated 54%)\n",
            "  adding: content/models/model 106 (deflated 54%)\n",
            "  adding: content/models/model 87 (deflated 54%)\n",
            "  adding: content/models/model 63 (deflated 54%)\n",
            "  adding: content/models/model 26 (deflated 54%)\n",
            "  adding: content/models/model 150 (deflated 54%)\n",
            "  adding: content/models/model 23 (deflated 54%)\n",
            "  adding: content/models/model 52 (deflated 54%)\n",
            "  adding: content/models/model 124 (deflated 53%)\n",
            "  adding: content/models/model 41 (deflated 53%)\n",
            "  adding: content/models/model 54 (deflated 53%)\n",
            "  adding: content/models/model 7 (deflated 53%)\n",
            "  adding: content/models/model 147 (deflated 54%)\n",
            "  adding: content/models/model 48 (deflated 54%)\n",
            "  adding: content/models/model 112 (deflated 50%)\n",
            "  adding: content/models/model 73 (deflated 54%)\n",
            "  adding: content/models/model 45 (deflated 53%)\n",
            "  adding: content/models/model 133 (deflated 54%)\n",
            "  adding: content/models/model 49 (deflated 54%)\n",
            "  adding: content/models/model 98 (deflated 50%)\n",
            "  adding: content/models/model 153 (deflated 53%)\n",
            "  adding: content/models/model 130 (deflated 54%)\n",
            "  adding: content/models/model 51 (deflated 54%)\n",
            "  adding: content/models/model 15 (deflated 53%)\n",
            "  adding: content/models/model 118 (deflated 53%)\n",
            "  adding: content/models/model 114 (deflated 54%)\n",
            "  adding: content/models/model 99 (deflated 53%)\n",
            "  adding: content/models/model 34 (deflated 54%)\n",
            "  adding: content/models/model 134 (deflated 54%)\n",
            "  adding: content/models/model 66 (deflated 54%)\n",
            "  adding: content/models/model 47 (deflated 54%)\n",
            "  adding: content/models/model 59 (deflated 54%)\n",
            "  adding: content/models/model 14 (deflated 54%)\n",
            "  adding: content/models/model 76 (deflated 55%)\n",
            "  adding: content/models/model 4 (deflated 54%)\n",
            "  adding: content/models/model 149 (deflated 53%)\n",
            "  adding: content/models/model 152 (deflated 54%)\n",
            "  adding: content/models/model 12 (deflated 53%)\n",
            "  adding: content/models/model 55 (deflated 53%)\n",
            "  adding: content/models/model 109 (deflated 54%)\n",
            "  adding: content/models/model 117 (deflated 54%)\n",
            "  adding: content/models/model 13 (deflated 53%)\n",
            "  adding: content/models/model 46 (deflated 54%)\n",
            "  adding: content/models/model 21 (deflated 54%)\n",
            "  adding: content/models/model 122 (deflated 54%)\n",
            "  adding: content/models/model 67 (deflated 54%)\n",
            "  adding: content/models/model 90 (deflated 54%)\n",
            "  adding: content/models/model 82 (deflated 54%)\n",
            "  adding: content/models/model 139 (deflated 54%)\n",
            "  adding: content/models/model 38 (deflated 54%)\n",
            "  adding: content/models/model 88 (deflated 54%)\n",
            "  adding: content/models/model 65 (deflated 54%)\n",
            "  adding: content/models/model 119 (deflated 54%)\n",
            "  adding: content/models/model 71 (deflated 54%)\n",
            "  adding: content/models/model 28 (deflated 52%)\n",
            "  adding: content/models/model 0 (deflated 52%)\n",
            "  adding: content/models/model 100 (deflated 54%)\n",
            "  adding: content/models/model 75 (deflated 54%)\n",
            "  adding: content/models/model 35 (deflated 54%)\n",
            "  adding: content/models/model 143 (deflated 50%)\n",
            "  adding: content/models/model 144 (deflated 54%)\n",
            "  adding: content/models/model 31 (deflated 53%)\n",
            "  adding: content/models/model 16 (deflated 54%)\n",
            "  adding: content/models/model 146 (deflated 54%)\n",
            "  adding: content/models/model 104 (deflated 54%)\n",
            "  adding: content/models/model 151 (deflated 54%)\n",
            "  adding: content/models/model 36 (deflated 54%)\n",
            "  adding: content/models/model 43 (deflated 54%)\n",
            "  adding: content/models/model 2 (deflated 52%)\n",
            "  adding: content/models/model 110 (deflated 53%)\n",
            "  adding: content/models/model 132 (deflated 54%)\n",
            "  adding: content/models/model 97 (deflated 54%)\n",
            "  adding: content/models/model 22 (deflated 54%)\n",
            "  adding: content/models/model 127 (deflated 54%)\n",
            "  adding: content/models/model 120 (deflated 54%)\n",
            "  adding: content/models/model 93 (deflated 54%)\n",
            "  adding: content/models/model 142 (deflated 50%)\n",
            "  adding: content/models/model 25 (deflated 54%)\n",
            "  adding: content/models/model 27 (deflated 54%)\n",
            "  adding: content/models/model 1 (deflated 52%)\n",
            "  adding: content/models/model 91 (deflated 54%)\n",
            "  adding: content/models/model 131 (deflated 54%)\n",
            "  adding: content/models/model 126 (deflated 50%)\n",
            "  adding: content/models/model 8 (deflated 54%)\n",
            "  adding: content/models/model 72 (deflated 54%)\n",
            "  adding: content/models/model 30 (deflated 54%)\n",
            "  adding: content/models/model 107 (deflated 54%)\n",
            "  adding: content/models/model 69 (deflated 54%)\n",
            "  adding: content/models/model 61 (deflated 54%)\n",
            "  adding: content/models/model 6 (deflated 54%)\n",
            "  adding: content/models/model 140 (deflated 50%)\n",
            "  adding: content/models/model 81 (deflated 54%)\n",
            "  adding: content/models/model 138 (deflated 53%)\n",
            "  adding: content/models/model 103 (deflated 54%)\n",
            "  adding: content/models/model 9 (deflated 54%)\n",
            "  adding: content/models/model 19 (deflated 54%)\n",
            "  adding: content/models/model 101 (deflated 54%)\n",
            "  adding: content/models/model 57 (deflated 52%)\n",
            "  adding: content/models/model 141 (deflated 51%)\n",
            "  adding: content/models/model 89 (deflated 54%)\n",
            "  adding: content/models/model 40 (deflated 54%)\n",
            "  adding: content/models/model 64 (deflated 54%)\n",
            "  adding: content/models/model 70 (deflated 50%)\n",
            "  adding: content/models/model 102 (deflated 53%)\n",
            "  adding: content/models/model 44 (deflated 54%)\n",
            "  adding: content/models/model 78 (deflated 54%)\n",
            "  adding: content/models/model 137 (deflated 53%)\n",
            "  adding: content/models/model 123 (deflated 54%)\n",
            "  adding: content/models/model 29 (deflated 54%)\n",
            "  adding: content/models/model 121 (deflated 54%)\n",
            "  adding: content/models/model 20 (deflated 54%)\n",
            "  adding: content/models/model 92 (deflated 54%)\n",
            "  adding: content/models/model 18 (deflated 54%)\n",
            "  adding: content/models/model 32 (deflated 55%)\n",
            "  adding: content/models/model 79 (deflated 54%)\n",
            "  adding: content/models/model 24 (deflated 54%)\n",
            "  adding: content/models/model 83 (deflated 54%)\n",
            "  adding: content/models/model 135 (deflated 54%)\n",
            "  adding: content/models/model 80 (deflated 54%)\n",
            "  adding: content/models/model 86 (deflated 54%)\n",
            "  adding: content/models/model 60 (deflated 54%)\n",
            "  adding: content/models/model 129 (deflated 54%)\n",
            "  adding: content/models/model 136 (deflated 54%)\n",
            "  adding: content/models/model 84 (deflated 50%)\n",
            "  adding: content/models/model 11 (deflated 53%)\n",
            "  adding: content/models/model 94 (deflated 54%)\n",
            "  adding: content/models/model 77 (deflated 54%)\n",
            "  adding: content/models/model 128 (deflated 53%)\n",
            "  adding: content/models/model 39 (deflated 54%)\n",
            "  adding: content/models/model 10 (deflated 53%)\n",
            "  adding: content/models/model 37 (deflated 53%)\n",
            "  adding: content/models/model 115 (deflated 54%)\n",
            "  adding: content/models/model 95 (deflated 54%)\n",
            "  adding: content/models/model 5 (deflated 53%)\n",
            "  adding: content/models/model 74 (deflated 54%)\n",
            "  adding: content/models/model 96 (deflated 54%)\n",
            "  adding: content/models/model 53 (deflated 54%)\n",
            "  adding: content/models/model 85 (deflated 54%)\n",
            "  adding: content/models/model 62 (deflated 54%)\n",
            "  adding: content/models/model 116 (deflated 54%)\n",
            "  adding: content/models/model 3 (deflated 54%)\n",
            "  adding: content/models/model 42 (deflated 50%)\n",
            "  adding: content/models/model 148 (deflated 54%)\n",
            "  adding: content/models/model 145 (deflated 54%)\n",
            "  adding: content/models/model 50 (deflated 54%)\n",
            "  adding: content/models/model 113 (deflated 54%)\n",
            "  adding: content/models/model 33 (deflated 54%)\n",
            "  adding: content/models/model 56 (deflated 50%)\n"
          ]
        }
      ]
    }
  ]
}