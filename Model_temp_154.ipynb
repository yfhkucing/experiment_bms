{
  "nbformat": 4,
  "nbformat_minor": 0,
  "metadata": {
    "colab": {
      "provenance": [],
      "authorship_tag": "ABX9TyP+A0/hXAhPpt0DZuuo4sIc",
      "include_colab_link": true
    },
    "kernelspec": {
      "name": "python3",
      "display_name": "Python 3"
    },
    "language_info": {
      "name": "python"
    }
  },
  "cells": [
    {
      "cell_type": "markdown",
      "metadata": {
        "id": "view-in-github",
        "colab_type": "text"
      },
      "source": [
        "<a href=\"https://colab.research.google.com/github/yfhkucing/experiment_bms/blob/master/Model_temp_154.ipynb\" target=\"_parent\"><img src=\"https://colab.research.google.com/assets/colab-badge.svg\" alt=\"Open In Colab\"/></a>"
      ]
    },
    {
      "cell_type": "code",
      "execution_count": 1,
      "metadata": {
        "id": "gXZlcwFdcWwY"
      },
      "outputs": [],
      "source": [
        "import pandas as pd\n",
        "import numpy as np"
      ]
    },
    {
      "cell_type": "code",
      "source": [
        "feature = pd.read_excel('data_model.xlsx',sheet_name='feature')\n",
        "label = pd.read_excel('data_model.xlsx',sheet_name='label_154')"
      ],
      "metadata": {
        "id": "rm7Qn5xpcfNM"
      },
      "execution_count": 2,
      "outputs": []
    },
    {
      "cell_type": "code",
      "source": [
        "def norm(df):\n",
        "  df=(df-df.min())/(df.max()-df.min())\n",
        "  return df"
      ],
      "metadata": {
        "id": "L8HmUSon9Yw8"
      },
      "execution_count": 3,
      "outputs": []
    },
    {
      "cell_type": "code",
      "source": [
        "feature = norm(feature)"
      ],
      "metadata": {
        "id": "zsHJdbzUczcM"
      },
      "execution_count": 4,
      "outputs": []
    },
    {
      "cell_type": "code",
      "source": [
        "array_y = []\n",
        "for i in range(154):\n",
        "  frame= label[i::154]\n",
        "  frame = frame.drop(['koor_x','koor_y'],axis=1)\n",
        "  frame = frame.drop(['Vx','Vy'],axis=1)\n",
        "  frame = norm(frame)\n",
        "  array_y.append(frame)"
      ],
      "metadata": {
        "id": "KaycxGjpiLe-"
      },
      "execution_count": 5,
      "outputs": []
    },
    {
      "cell_type": "code",
      "source": [
        "! mkdir models\n",
        "y_testing = []\n",
        "\n",
        "import joblib\n",
        "from sklearn.linear_model import LinearRegression\n",
        "\n",
        "#model\n",
        "from sklearn.svm import SVR\n",
        "from sklearn.linear_model import Lasso, LogisticRegression, Ridge, ElasticNet,LassoLars\n",
        "from sklearn.ensemble import RandomForestRegressor\n",
        "\n",
        "#preprocessing and metric\n",
        "from sklearn.model_selection import train_test_split\n",
        "from sklearn.metrics import r2_score as r2\n",
        "from sklearn.metrics import mean_squared_error as mse\n",
        "from sklearn.metrics import mean_absolute_error as mae\n",
        "\n",
        "for i in range(154):\n",
        "  x = np.array(feature)\n",
        "  y = np.array(array_y[i])\n",
        "  x_train,x_test,y_train,y_test = train_test_split(x,y, test_size=0.15, random_state= 10)\n",
        "  y_testing.append(y_test)\n",
        "  #fitting\n",
        "  regressor = LassoLars(alpha=0.005, normalize=False)\n",
        "  regressor.fit(x_train,y_train)\n",
        "  joblib.dump(regressor,f'/content/models/model {i}',)"
      ],
      "metadata": {
        "colab": {
          "base_uri": "https://localhost:8080/"
        },
        "id": "X2kWbeffjpC2",
        "outputId": "05e0a12f-37de-46bb-a6e0-2adb30a797fd"
      },
      "execution_count": 6,
      "outputs": [
        {
          "output_type": "stream",
          "name": "stdout",
          "text": [
            "mkdir: cannot create directory ‘models’: File exists\n"
          ]
        },
        {
          "output_type": "stream",
          "name": "stderr",
          "text": [
            "/usr/local/lib/python3.7/dist-packages/sklearn/linear_model/_least_angle.py:660: ConvergenceWarning: Regressors in active set degenerate. Dropping a regressor, after 5 iterations, i.e. alpha=6.412e-03, with an active set of 5 regressors, and the smallest cholesky pivot element being 8.429e-08. Reduce max_iter or increase eps parameters.\n",
            "  ConvergenceWarning,\n",
            "/usr/local/lib/python3.7/dist-packages/sklearn/linear_model/_least_angle.py:660: ConvergenceWarning: Regressors in active set degenerate. Dropping a regressor, after 5 iterations, i.e. alpha=5.430e-03, with an active set of 5 regressors, and the smallest cholesky pivot element being 8.429e-08. Reduce max_iter or increase eps parameters.\n",
            "  ConvergenceWarning,\n",
            "/usr/local/lib/python3.7/dist-packages/sklearn/linear_model/_least_angle.py:660: ConvergenceWarning: Regressors in active set degenerate. Dropping a regressor, after 4 iterations, i.e. alpha=5.217e-03, with an active set of 4 regressors, and the smallest cholesky pivot element being 2.220e-16. Reduce max_iter or increase eps parameters.\n",
            "  ConvergenceWarning,\n",
            "/usr/local/lib/python3.7/dist-packages/sklearn/linear_model/_least_angle.py:660: ConvergenceWarning: Regressors in active set degenerate. Dropping a regressor, after 4 iterations, i.e. alpha=5.758e-03, with an active set of 4 regressors, and the smallest cholesky pivot element being 2.220e-16. Reduce max_iter or increase eps parameters.\n",
            "  ConvergenceWarning,\n",
            "/usr/local/lib/python3.7/dist-packages/sklearn/linear_model/_least_angle.py:660: ConvergenceWarning: Regressors in active set degenerate. Dropping a regressor, after 4 iterations, i.e. alpha=1.040e-02, with an active set of 4 regressors, and the smallest cholesky pivot element being 5.960e-08. Reduce max_iter or increase eps parameters.\n",
            "  ConvergenceWarning,\n",
            "/usr/local/lib/python3.7/dist-packages/sklearn/linear_model/_least_angle.py:660: ConvergenceWarning: Regressors in active set degenerate. Dropping a regressor, after 5 iterations, i.e. alpha=6.663e-03, with an active set of 5 regressors, and the smallest cholesky pivot element being 5.960e-08. Reduce max_iter or increase eps parameters.\n",
            "  ConvergenceWarning,\n",
            "/usr/local/lib/python3.7/dist-packages/sklearn/linear_model/_least_angle.py:660: ConvergenceWarning: Regressors in active set degenerate. Dropping a regressor, after 5 iterations, i.e. alpha=6.663e-03, with an active set of 5 regressors, and the smallest cholesky pivot element being 8.429e-08. Reduce max_iter or increase eps parameters.\n",
            "  ConvergenceWarning,\n",
            "/usr/local/lib/python3.7/dist-packages/sklearn/linear_model/_least_angle.py:660: ConvergenceWarning: Regressors in active set degenerate. Dropping a regressor, after 4 iterations, i.e. alpha=7.085e-03, with an active set of 4 regressors, and the smallest cholesky pivot element being 5.960e-08. Reduce max_iter or increase eps parameters.\n",
            "  ConvergenceWarning,\n",
            "/usr/local/lib/python3.7/dist-packages/sklearn/linear_model/_least_angle.py:660: ConvergenceWarning: Regressors in active set degenerate. Dropping a regressor, after 6 iterations, i.e. alpha=5.031e-03, with an active set of 6 regressors, and the smallest cholesky pivot element being 5.960e-08. Reduce max_iter or increase eps parameters.\n",
            "  ConvergenceWarning,\n",
            "/usr/local/lib/python3.7/dist-packages/sklearn/linear_model/_least_angle.py:660: ConvergenceWarning: Regressors in active set degenerate. Dropping a regressor, after 5 iterations, i.e. alpha=6.661e-03, with an active set of 5 regressors, and the smallest cholesky pivot element being 8.429e-08. Reduce max_iter or increase eps parameters.\n",
            "  ConvergenceWarning,\n",
            "/usr/local/lib/python3.7/dist-packages/sklearn/linear_model/_least_angle.py:660: ConvergenceWarning: Regressors in active set degenerate. Dropping a regressor, after 5 iterations, i.e. alpha=9.144e-03, with an active set of 5 regressors, and the smallest cholesky pivot element being 8.429e-08. Reduce max_iter or increase eps parameters.\n",
            "  ConvergenceWarning,\n",
            "/usr/local/lib/python3.7/dist-packages/sklearn/linear_model/_least_angle.py:660: ConvergenceWarning: Regressors in active set degenerate. Dropping a regressor, after 5 iterations, i.e. alpha=8.717e-03, with an active set of 5 regressors, and the smallest cholesky pivot element being 8.429e-08. Reduce max_iter or increase eps parameters.\n",
            "  ConvergenceWarning,\n",
            "/usr/local/lib/python3.7/dist-packages/sklearn/linear_model/_least_angle.py:660: ConvergenceWarning: Regressors in active set degenerate. Dropping a regressor, after 1 iterations, i.e. alpha=8.430e-03, with an active set of 1 regressors, and the smallest cholesky pivot element being 8.429e-08. Reduce max_iter or increase eps parameters.\n",
            "  ConvergenceWarning,\n",
            "/usr/local/lib/python3.7/dist-packages/sklearn/linear_model/_least_angle.py:660: ConvergenceWarning: Regressors in active set degenerate. Dropping a regressor, after 2 iterations, i.e. alpha=8.319e-03, with an active set of 2 regressors, and the smallest cholesky pivot element being 8.429e-08. Reduce max_iter or increase eps parameters.\n",
            "  ConvergenceWarning,\n",
            "/usr/local/lib/python3.7/dist-packages/sklearn/linear_model/_least_angle.py:660: ConvergenceWarning: Regressors in active set degenerate. Dropping a regressor, after 5 iterations, i.e. alpha=5.220e-03, with an active set of 5 regressors, and the smallest cholesky pivot element being 2.220e-16. Reduce max_iter or increase eps parameters.\n",
            "  ConvergenceWarning,\n",
            "/usr/local/lib/python3.7/dist-packages/sklearn/linear_model/_least_angle.py:660: ConvergenceWarning: Regressors in active set degenerate. Dropping a regressor, after 5 iterations, i.e. alpha=6.122e-03, with an active set of 5 regressors, and the smallest cholesky pivot element being 2.220e-16. Reduce max_iter or increase eps parameters.\n",
            "  ConvergenceWarning,\n",
            "/usr/local/lib/python3.7/dist-packages/sklearn/linear_model/_least_angle.py:660: ConvergenceWarning: Regressors in active set degenerate. Dropping a regressor, after 5 iterations, i.e. alpha=7.889e-03, with an active set of 5 regressors, and the smallest cholesky pivot element being 2.220e-16. Reduce max_iter or increase eps parameters.\n",
            "  ConvergenceWarning,\n",
            "/usr/local/lib/python3.7/dist-packages/sklearn/linear_model/_least_angle.py:660: ConvergenceWarning: Regressors in active set degenerate. Dropping a regressor, after 5 iterations, i.e. alpha=5.889e-03, with an active set of 5 regressors, and the smallest cholesky pivot element being 2.220e-16. Reduce max_iter or increase eps parameters.\n",
            "  ConvergenceWarning,\n",
            "/usr/local/lib/python3.7/dist-packages/sklearn/linear_model/_least_angle.py:660: ConvergenceWarning: Regressors in active set degenerate. Dropping a regressor, after 5 iterations, i.e. alpha=5.424e-03, with an active set of 5 regressors, and the smallest cholesky pivot element being 8.429e-08. Reduce max_iter or increase eps parameters.\n",
            "  ConvergenceWarning,\n",
            "/usr/local/lib/python3.7/dist-packages/sklearn/linear_model/_least_angle.py:660: ConvergenceWarning: Regressors in active set degenerate. Dropping a regressor, after 5 iterations, i.e. alpha=6.111e-03, with an active set of 5 regressors, and the smallest cholesky pivot element being 2.220e-16. Reduce max_iter or increase eps parameters.\n",
            "  ConvergenceWarning,\n",
            "/usr/local/lib/python3.7/dist-packages/sklearn/linear_model/_least_angle.py:660: ConvergenceWarning: Regressors in active set degenerate. Dropping a regressor, after 5 iterations, i.e. alpha=5.906e-03, with an active set of 5 regressors, and the smallest cholesky pivot element being 2.220e-16. Reduce max_iter or increase eps parameters.\n",
            "  ConvergenceWarning,\n",
            "/usr/local/lib/python3.7/dist-packages/sklearn/linear_model/_least_angle.py:660: ConvergenceWarning: Regressors in active set degenerate. Dropping a regressor, after 5 iterations, i.e. alpha=6.769e-03, with an active set of 5 regressors, and the smallest cholesky pivot element being 8.429e-08. Reduce max_iter or increase eps parameters.\n",
            "  ConvergenceWarning,\n",
            "/usr/local/lib/python3.7/dist-packages/sklearn/linear_model/_least_angle.py:660: ConvergenceWarning: Regressors in active set degenerate. Dropping a regressor, after 5 iterations, i.e. alpha=6.439e-03, with an active set of 5 regressors, and the smallest cholesky pivot element being 8.429e-08. Reduce max_iter or increase eps parameters.\n",
            "  ConvergenceWarning,\n",
            "/usr/local/lib/python3.7/dist-packages/sklearn/linear_model/_least_angle.py:660: ConvergenceWarning: Regressors in active set degenerate. Dropping a regressor, after 5 iterations, i.e. alpha=5.219e-03, with an active set of 5 regressors, and the smallest cholesky pivot element being 2.220e-16. Reduce max_iter or increase eps parameters.\n",
            "  ConvergenceWarning,\n"
          ]
        }
      ]
    },
    {
      "cell_type": "code",
      "source": [
        "skor_r2=[]\n",
        "mae_=[]\n",
        "rmse = []\n",
        "y_predict = []\n",
        "for i in range(154):\n",
        "  model = joblib.load(f'/content/models/model {i}')\n",
        "  y_pred = model.predict(x_test)\n",
        "  Skor_r2 = r2(y_test,y_pred)\n",
        "  RMSE = mse(y_test,y_pred,squared=False)\n",
        "  MAE = mae(y_test,y_pred)\n",
        "  y_predict.append(y_pred)\n",
        "  skor_r2.append(Skor_r2)\n",
        "  mae_.append(MAE)\n",
        "  rmse.append(RMSE)"
      ],
      "metadata": {
        "id": "Sv0p6AG8kf8V"
      },
      "execution_count": 7,
      "outputs": []
    },
    {
      "cell_type": "code",
      "source": [
        "skor_r2 = np.array(skor_r2)\n",
        "rmse = np.array(rmse)\n",
        "mae_=np.array(mae_)\n",
        "y_predict = np.array(y_predict)\n",
        "y_testing = np.array(y_testing)"
      ],
      "metadata": {
        "id": "3oRm0i_ukjAj"
      },
      "execution_count": 8,
      "outputs": []
    },
    {
      "cell_type": "code",
      "source": [
        "skor_r2.shape, rmse.shape, y_predict.shape, y_testing.shape"
      ],
      "metadata": {
        "colab": {
          "base_uri": "https://localhost:8080/"
        },
        "id": "TY3gSRkzknPP",
        "outputId": "627ad6e2-d9dd-4ea6-b633-592213a07e88"
      },
      "execution_count": 9,
      "outputs": [
        {
          "output_type": "execute_result",
          "data": {
            "text/plain": [
              "((154,), (154,), (154, 29), (154, 29, 1))"
            ]
          },
          "metadata": {},
          "execution_count": 9
        }
      ]
    },
    {
      "cell_type": "code",
      "source": [
        "r2_matrix = skor_r2.reshape(11,14)\n",
        "rmse_matrix = rmse.reshape(11,14)\n",
        "mae_matrix = mae_.reshape(11,14)"
      ],
      "metadata": {
        "id": "fQSYU4LykoOC"
      },
      "execution_count": 10,
      "outputs": []
    },
    {
      "cell_type": "code",
      "source": [
        "import numpy as np\n",
        "import seaborn as sns\n",
        "import matplotlib.pylab as plt\n",
        "\n",
        "ax = sns.heatmap(r2_matrix, linewidth=0.5, cmap=\"RdYlBu\")\n",
        "plt.show()"
      ],
      "metadata": {
        "colab": {
          "base_uri": "https://localhost:8080/",
          "height": 267
        },
        "id": "1kY630QWkqfv",
        "outputId": "40fe8425-d3e1-45f8-cfb5-b050d6336663"
      },
      "execution_count": 11,
      "outputs": [
        {
          "output_type": "display_data",
          "data": {
            "text/plain": [
              "<Figure size 432x288 with 2 Axes>"
            ],
            "image/png": "[encoded data removed]"
          },
          "metadata": {
            "needs_background": "light"
          }
        }
      ]
    },
    {
      "cell_type": "code",
      "source": [
        "bx = sns.heatmap(mae_matrix, linewidth=0.5, cmap=\"RdYlBu_r\")\n",
        "plt.show()"
      ],
      "metadata": {
        "colab": {
          "base_uri": "https://localhost:8080/",
          "height": 266
        },
        "id": "fAHSS5Uqktfm",
        "outputId": "38b998b2-61f9-4f25-f848-a572f0c6f903"
      },
      "execution_count": 12,
      "outputs": [
        {
          "output_type": "display_data",
          "data": {
            "text/plain": [
              "<Figure size 432x288 with 2 Axes>"
            ],
            "image/png": "[encoded data removed]"
          },
          "metadata": {
            "needs_background": "light"
          }
        }
      ]
    },
    {
      "cell_type": "code",
      "source": [
        "scenarios = 2  #0-28\n",
        "indexing = 0    #0-3 (Vx,Vy,Vz,temp)"
      ],
      "metadata": {
        "id": "9v1fsMdRkwln"
      },
      "execution_count": 13,
      "outputs": []
    },
    {
      "cell_type": "code",
      "source": [
        "a = y_testing[(...,scenarios,indexing)]\n",
        "b = y_predict[...,scenarios]\n",
        "a = np.array(a)\n",
        "b = np.array(b)\n",
        "a = a.reshape(11,14)\n",
        "b = b.reshape(11,14)\n",
        "print('reshaped')"
      ],
      "metadata": {
        "colab": {
          "base_uri": "https://localhost:8080/"
        },
        "id": "Pu-p_8BEk4iD",
        "outputId": "0725318e-5266-49db-b6e8-b57885de9b5d"
      },
      "execution_count": 14,
      "outputs": [
        {
          "output_type": "stream",
          "name": "stdout",
          "text": [
            "reshaped\n"
          ]
        }
      ]
    },
    {
      "cell_type": "code",
      "source": [
        "!zip -r /content/models_temp_154_a0005.zip /content/models"
      ],
      "metadata": {
        "colab": {
          "base_uri": "https://localhost:8080/"
        },
        "id": "7TOartABlDax",
        "outputId": "06b3f70e-5e75-44c7-eb9e-85d170151b42"
      },
      "execution_count": 15,
      "outputs": [
        {
          "output_type": "stream",
          "name": "stdout",
          "text": [
            "  adding: content/models/ (stored 0%)\n",
            "  adding: content/models/model 44 (deflated 53%)\n",
            "  adding: content/models/model 107 (deflated 53%)\n",
            "  adding: content/models/model 43 (deflated 53%)\n",
            "  adding: content/models/model 117 (deflated 54%)\n",
            "  adding: content/models/model 25 (deflated 53%)\n",
            "  adding: content/models/model 126 (deflated 54%)\n",
            "  adding: content/models/model 100 (deflated 53%)\n",
            "  adding: content/models/model 81 (deflated 53%)\n",
            "  adding: content/models/model 68 (deflated 54%)\n",
            "  adding: content/models/model 18 (deflated 54%)\n",
            "  adding: content/models/model 75 (deflated 54%)\n",
            "  adding: content/models/model 106 (deflated 53%)\n",
            "  adding: content/models/model 102 (deflated 53%)\n",
            "  adding: content/models/model 27 (deflated 54%)\n",
            "  adding: content/models/model 59 (deflated 54%)\n",
            "  adding: content/models/model 86 (deflated 53%)\n",
            "  adding: content/models/model 112 (deflated 53%)\n",
            "  adding: content/models/model 96 (deflated 53%)\n",
            "  adding: content/models/model 4 (deflated 54%)\n",
            "  adding: content/models/model 40 (deflated 54%)\n",
            "  adding: content/models/model 136 (deflated 54%)\n",
            "  adding: content/models/model 23 (deflated 53%)\n",
            "  adding: content/models/model 77 (deflated 54%)\n",
            "  adding: content/models/model 65 (deflated 54%)\n",
            "  adding: content/models/model 80 (deflated 54%)\n",
            "  adding: content/models/model 109 (deflated 54%)\n",
            "  adding: content/models/model 26 (deflated 53%)\n",
            "  adding: content/models/model 74 (deflated 54%)\n",
            "  adding: content/models/model 3 (deflated 54%)\n",
            "  adding: content/models/model 37 (deflated 54%)\n",
            "  adding: content/models/model 137 (deflated 54%)\n",
            "  adding: content/models/model 11 (deflated 53%)\n",
            "  adding: content/models/model 45 (deflated 54%)\n",
            "  adding: content/models/model 50 (deflated 54%)\n",
            "  adding: content/models/model 0 (deflated 53%)\n",
            "  adding: content/models/model 132 (deflated 53%)\n",
            "  adding: content/models/model 70 (deflated 54%)\n",
            "  adding: content/models/model 79 (deflated 53%)\n",
            "  adding: content/models/model 141 (deflated 53%)\n",
            "  adding: content/models/model 32 (deflated 54%)\n",
            "  adding: content/models/model 58 (deflated 54%)\n",
            "  adding: content/models/model 47 (deflated 53%)\n",
            "  adding: content/models/model 88 (deflated 53%)\n",
            "  adding: content/models/model 55 (deflated 54%)\n",
            "  adding: content/models/model 71 (deflated 54%)\n",
            "  adding: content/models/model 34 (deflated 53%)\n",
            "  adding: content/models/model 54 (deflated 54%)\n",
            "  adding: content/models/model 147 (deflated 54%)\n",
            "  adding: content/models/model 51 (deflated 54%)\n",
            "  adding: content/models/model 56 (deflated 53%)\n",
            "  adding: content/models/model 49 (deflated 54%)\n",
            "  adding: content/models/model 21 (deflated 54%)\n",
            "  adding: content/models/model 150 (deflated 53%)\n",
            "  adding: content/models/model 14 (deflated 53%)\n",
            "  adding: content/models/model 9 (deflated 54%)\n",
            "  adding: content/models/model 101 (deflated 53%)\n",
            "  adding: content/models/model 2 (deflated 53%)\n",
            "  adding: content/models/model 122 (deflated 53%)\n",
            "  adding: content/models/model 131 (deflated 54%)\n",
            "  adding: content/models/model 115 (deflated 53%)\n",
            "  adding: content/models/model 146 (deflated 54%)\n",
            "  adding: content/models/model 30 (deflated 54%)\n",
            "  adding: content/models/model 103 (deflated 54%)\n",
            "  adding: content/models/model 42 (deflated 52%)\n",
            "  adding: content/models/model 67 (deflated 53%)\n",
            "  adding: content/models/model 139 (deflated 54%)\n",
            "  adding: content/models/model 118 (deflated 53%)\n",
            "  adding: content/models/model 111 (deflated 54%)\n",
            "  adding: content/models/model 90 (deflated 54%)\n",
            "  adding: content/models/model 87 (deflated 54%)\n",
            "  adding: content/models/model 13 (deflated 54%)\n",
            "  adding: content/models/model 116 (deflated 53%)\n",
            "  adding: content/models/model 53 (deflated 53%)\n",
            "  adding: content/models/model 110 (deflated 53%)\n",
            "  adding: content/models/model 19 (deflated 54%)\n",
            "  adding: content/models/model 8 (deflated 54%)\n",
            "  adding: content/models/model 113 (deflated 53%)\n",
            "  adding: content/models/model 63 (deflated 54%)\n",
            "  adding: content/models/model 85 (deflated 53%)\n",
            "  adding: content/models/model 143 (deflated 54%)\n",
            "  adding: content/models/model 138 (deflated 54%)\n",
            "  adding: content/models/model 16 (deflated 54%)\n",
            "  adding: content/models/model 12 (deflated 54%)\n",
            "  adding: content/models/model 28 (deflated 53%)\n",
            "  adding: content/models/model 152 (deflated 53%)\n",
            "  adding: content/models/model 148 (deflated 53%)\n",
            "  adding: content/models/model 52 (deflated 53%)\n",
            "  adding: content/models/model 140 (deflated 53%)\n",
            "  adding: content/models/model 31 (deflated 53%)\n",
            "  adding: content/models/model 10 (deflated 53%)\n",
            "  adding: content/models/model 134 (deflated 53%)\n",
            "  adding: content/models/model 128 (deflated 53%)\n",
            "  adding: content/models/model 36 (deflated 54%)\n",
            "  adding: content/models/model 129 (deflated 54%)\n",
            "  adding: content/models/model 6 (deflated 54%)\n",
            "  adding: content/models/model 130 (deflated 53%)\n",
            "  adding: content/models/model 124 (deflated 54%)\n",
            "  adding: content/models/model 41 (deflated 54%)\n",
            "  adding: content/models/model 153 (deflated 53%)\n",
            "  adding: content/models/model 125 (deflated 53%)\n",
            "  adding: content/models/model 46 (deflated 54%)\n",
            "  adding: content/models/model 119 (deflated 54%)\n",
            "  adding: content/models/model 57 (deflated 53%)\n",
            "  adding: content/models/model 91 (deflated 54%)\n",
            "  adding: content/models/model 108 (deflated 54%)\n",
            "  adding: content/models/model 151 (deflated 54%)\n",
            "  adding: content/models/model 62 (deflated 53%)\n",
            "  adding: content/models/model 29 (deflated 54%)\n",
            "  adding: content/models/model 144 (deflated 53%)\n",
            "  adding: content/models/model 94 (deflated 54%)\n",
            "  adding: content/models/model 133 (deflated 54%)\n",
            "  adding: content/models/model 93 (deflated 54%)\n",
            "  adding: content/models/model 39 (deflated 53%)\n",
            "  adding: content/models/model 149 (deflated 53%)\n",
            "  adding: content/models/model 5 (deflated 54%)\n",
            "  adding: content/models/model 142 (deflated 53%)\n",
            "  adding: content/models/model 104 (deflated 53%)\n",
            "  adding: content/models/model 64 (deflated 54%)\n",
            "  adding: content/models/model 145 (deflated 53%)\n",
            "  adding: content/models/model 38 (deflated 53%)\n",
            "  adding: content/models/model 82 (deflated 54%)\n",
            "  adding: content/models/model 48 (deflated 54%)\n",
            "  adding: content/models/model 95 (deflated 54%)\n",
            "  adding: content/models/model 15 (deflated 53%)\n",
            "  adding: content/models/model 83 (deflated 54%)\n",
            "  adding: content/models/model 98 (deflated 54%)\n",
            "  adding: content/models/model 24 (deflated 53%)\n",
            "  adding: content/models/model 120 (deflated 54%)\n",
            "  adding: content/models/model 17 (deflated 54%)\n",
            "  adding: content/models/model 73 (deflated 54%)\n",
            "  adding: content/models/model 114 (deflated 54%)\n",
            "  adding: content/models/model 7 (deflated 54%)\n",
            "  adding: content/models/model 72 (deflated 53%)\n",
            "  adding: content/models/model 78 (deflated 54%)\n",
            "  adding: content/models/model 33 (deflated 54%)\n",
            "  adding: content/models/model 99 (deflated 53%)\n",
            "  adding: content/models/model 121 (deflated 53%)\n",
            "  adding: content/models/model 105 (deflated 53%)\n",
            "  adding: content/models/model 35 (deflated 53%)\n",
            "  adding: content/models/model 135 (deflated 54%)\n",
            "  adding: content/models/model 60 (deflated 54%)\n",
            "  adding: content/models/model 76 (deflated 54%)\n",
            "  adding: content/models/model 84 (deflated 53%)\n",
            "  adding: content/models/model 89 (deflated 53%)\n",
            "  adding: content/models/model 92 (deflated 54%)\n",
            "  adding: content/models/model 127 (deflated 54%)\n",
            "  adding: content/models/model 1 (deflated 53%)\n",
            "  adding: content/models/model 20 (deflated 54%)\n",
            "  adding: content/models/model 69 (deflated 54%)\n",
            "  adding: content/models/model 61 (deflated 54%)\n",
            "  adding: content/models/model 22 (deflated 54%)\n",
            "  adding: content/models/model 123 (deflated 54%)\n",
            "  adding: content/models/model 97 (deflated 54%)\n",
            "  adding: content/models/model 66 (deflated 53%)\n"
          ]
        }
      ]
    }
  ]
}