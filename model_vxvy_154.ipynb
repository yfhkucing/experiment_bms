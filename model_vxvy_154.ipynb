{
  "nbformat": 4,
  "nbformat_minor": 0,
  "metadata": {
    "colab": {
      "provenance": [],
      "authorship_tag": "ABX9TyPLlVNrPbRNVxvxX3eD6MbW",
      "include_colab_link": true
    },
    "kernelspec": {
      "name": "python3",
      "display_name": "Python 3"
    },
    "language_info": {
      "name": "python"
    }
  },
  "cells": [
    {
      "cell_type": "markdown",
      "metadata": {
        "id": "view-in-github",
        "colab_type": "text"
      },
      "source": [
        "<a href=\"https://colab.research.google.com/github/yfhkucing/experiment_bms/blob/master/model_vxvy_154.ipynb\" target=\"_parent\"><img src=\"https://colab.research.google.com/assets/colab-badge.svg\" alt=\"Open In Colab\"/></a>"
      ]
    },
    {
      "cell_type": "code",
      "execution_count": 1,
      "metadata": {
        "id": "ZMFDR6QOSIkh"
      },
      "outputs": [],
      "source": [
        "import numpy as np\n",
        "import pandas as pd"
      ]
    },
    {
      "cell_type": "code",
      "source": [
        "feature = pd.read_excel('data_model.xlsx',sheet_name='feature')\n",
        "label = pd.read_excel('data_model.xlsx', sheet_name='label_154')"
      ],
      "metadata": {
        "id": "BAKm586_SJ52"
      },
      "execution_count": 2,
      "outputs": []
    },
    {
      "cell_type": "code",
      "source": [
        "feature.describe()"
      ],
      "metadata": {
        "colab": {
          "base_uri": "https://localhost:8080/",
          "height": 434
        },
        "id": "O_iF6gieSL4l",
        "outputId": "a0ad6097-3064-4926-f2e3-16d139d2c4a1"
      },
      "execution_count": 3,
      "outputs": [
        {
          "output_type": "execute_result",
          "data": {
            "text/plain": [
              "          Jendela          AC  Arah Sudut Kecepatan Angin derajat  \\\n",
              "count  192.000000  192.000000                          192.000000   \n",
              "mean     0.500000    0.500000                          180.333333   \n",
              "std      0.501307    0.501307                           97.809588   \n",
              "min      0.000000    0.000000                           47.000000   \n",
              "25%      0.000000    0.000000                           95.500000   \n",
              "50%      0.500000    0.500000                          167.000000   \n",
              "75%      1.000000    1.000000                          251.500000   \n",
              "max      1.000000    1.000000                          341.000000   \n",
              "\n",
              "       Nilai Kecepatan Angin  Dry Bulb Temperature      Fan/i1      Fan/i2  \\\n",
              "count             192.000000            192.000000  192.000000  192.000000   \n",
              "mean                1.883333             29.691667    0.750000    0.750000   \n",
              "std                 1.911479              2.035274    0.434145    0.434145   \n",
              "min                 0.100000             26.700000    0.000000    0.000000   \n",
              "25%                 0.375000             27.925000    0.750000    0.750000   \n",
              "50%                 0.950000             29.850000    1.000000    1.000000   \n",
              "75%                 3.875000             31.400000    1.000000    1.000000   \n",
              "max                 5.300000             33.100000    1.000000    1.000000   \n",
              "\n",
              "           Fan/i3      Fan/i4      Fan/i5      Fan/i6      Fan/o1      Fan/o2  \\\n",
              "count  192.000000  192.000000  192.000000  192.000000  192.000000  192.000000   \n",
              "mean     0.500000    0.500000    0.500000    0.250000    0.750000    0.750000   \n",
              "std      0.501307    0.501307    0.501307    0.434145    0.434145    0.434145   \n",
              "min      0.000000    0.000000    0.000000    0.000000    0.000000    0.000000   \n",
              "25%      0.000000    0.000000    0.000000    0.000000    0.750000    0.750000   \n",
              "50%      0.500000    0.500000    0.500000    0.000000    1.000000    1.000000   \n",
              "75%      1.000000    1.000000    1.000000    0.250000    1.000000    1.000000   \n",
              "max      1.000000    1.000000    1.000000    1.000000    1.000000    1.000000   \n",
              "\n",
              "           Fan/o3      Fan/o4      Fan/o5      Fan/o6  \n",
              "count  192.000000  192.000000  192.000000  192.000000  \n",
              "mean     0.500000    0.500000    0.500000    0.250000  \n",
              "std      0.501307    0.501307    0.501307    0.434145  \n",
              "min      0.000000    0.000000    0.000000    0.000000  \n",
              "25%      0.000000    0.000000    0.000000    0.000000  \n",
              "50%      0.500000    0.500000    0.500000    0.000000  \n",
              "75%      1.000000    1.000000    1.000000    0.250000  \n",
              "max      1.000000    1.000000    1.000000    1.000000  "
            ],
            "text/html": [
              "\n",
              "  <div id=\"df-e5eca253-bef3-4a86-8840-5a3e0580c5fc\">\n",
              "    <div class=\"colab-df-container\">\n",
              "      <div>\n",
              "<style scoped>\n",
              "    .dataframe tbody tr th:only-of-type {\n",
              "        vertical-align: middle;\n",
              "    }\n",
              "\n",
              "    .dataframe tbody tr th {\n",
              "        vertical-align: top;\n",
              "    }\n",
              "\n",
              "    .dataframe thead th {\n",
              "        text-align: right;\n",
              "    }\n",
              "</style>\n",
              "<table border=\"1\" class=\"dataframe\">\n",
              "  <thead>\n",
              "    <tr style=\"text-align: right;\">\n",
              "      <th></th>\n",
              "      <th>Jendela</th>\n",
              "      <th>AC</th>\n",
              "      <th>Arah Sudut Kecepatan Angin derajat</th>\n",
              "      <th>Nilai Kecepatan Angin</th>\n",
              "      <th>Dry Bulb Temperature</th>\n",
              "      <th>Fan/i1</th>\n",
              "      <th>Fan/i2</th>\n",
              "      <th>Fan/i3</th>\n",
              "      <th>Fan/i4</th>\n",
              "      <th>Fan/i5</th>\n",
              "      <th>Fan/i6</th>\n",
              "      <th>Fan/o1</th>\n",
              "      <th>Fan/o2</th>\n",
              "      <th>Fan/o3</th>\n",
              "      <th>Fan/o4</th>\n",
              "      <th>Fan/o5</th>\n",
              "      <th>Fan/o6</th>\n",
              "    </tr>\n",
              "  </thead>\n",
              "  <tbody>\n",
              "    <tr>\n",
              "      <th>count</th>\n",
              "      <td>192.000000</td>\n",
              "      <td>192.000000</td>\n",
              "      <td>192.000000</td>\n",
              "      <td>192.000000</td>\n",
              "      <td>192.000000</td>\n",
              "      <td>192.000000</td>\n",
              "      <td>192.000000</td>\n",
              "      <td>192.000000</td>\n",
              "      <td>192.000000</td>\n",
              "      <td>192.000000</td>\n",
              "      <td>192.000000</td>\n",
              "      <td>192.000000</td>\n",
              "      <td>192.000000</td>\n",
              "      <td>192.000000</td>\n",
              "      <td>192.000000</td>\n",
              "      <td>192.000000</td>\n",
              "      <td>192.000000</td>\n",
              "    </tr>\n",
              "    <tr>\n",
              "      <th>mean</th>\n",
              "      <td>0.500000</td>\n",
              "      <td>0.500000</td>\n",
              "      <td>180.333333</td>\n",
              "      <td>1.883333</td>\n",
              "      <td>29.691667</td>\n",
              "      <td>0.750000</td>\n",
              "      <td>0.750000</td>\n",
              "      <td>0.500000</td>\n",
              "      <td>0.500000</td>\n",
              "      <td>0.500000</td>\n",
              "      <td>0.250000</td>\n",
              "      <td>0.750000</td>\n",
              "      <td>0.750000</td>\n",
              "      <td>0.500000</td>\n",
              "      <td>0.500000</td>\n",
              "      <td>0.500000</td>\n",
              "      <td>0.250000</td>\n",
              "    </tr>\n",
              "    <tr>\n",
              "      <th>std</th>\n",
              "      <td>0.501307</td>\n",
              "      <td>0.501307</td>\n",
              "      <td>97.809588</td>\n",
              "      <td>1.911479</td>\n",
              "      <td>2.035274</td>\n",
              "      <td>0.434145</td>\n",
              "      <td>0.434145</td>\n",
              "      <td>0.501307</td>\n",
              "      <td>0.501307</td>\n",
              "      <td>0.501307</td>\n",
              "      <td>0.434145</td>\n",
              "      <td>0.434145</td>\n",
              "      <td>0.434145</td>\n",
              "      <td>0.501307</td>\n",
              "      <td>0.501307</td>\n",
              "      <td>0.501307</td>\n",
              "      <td>0.434145</td>\n",
              "    </tr>\n",
              "    <tr>\n",
              "      <th>min</th>\n",
              "      <td>0.000000</td>\n",
              "      <td>0.000000</td>\n",
              "      <td>47.000000</td>\n",
              "      <td>0.100000</td>\n",
              "      <td>26.700000</td>\n",
              "      <td>0.000000</td>\n",
              "      <td>0.000000</td>\n",
              "      <td>0.000000</td>\n",
              "      <td>0.000000</td>\n",
              "      <td>0.000000</td>\n",
              "      <td>0.000000</td>\n",
              "      <td>0.000000</td>\n",
              "      <td>0.000000</td>\n",
              "      <td>0.000000</td>\n",
              "      <td>0.000000</td>\n",
              "      <td>0.000000</td>\n",
              "      <td>0.000000</td>\n",
              "    </tr>\n",
              "    <tr>\n",
              "      <th>25%</th>\n",
              "      <td>0.000000</td>\n",
              "      <td>0.000000</td>\n",
              "      <td>95.500000</td>\n",
              "      <td>0.375000</td>\n",
              "      <td>27.925000</td>\n",
              "      <td>0.750000</td>\n",
              "      <td>0.750000</td>\n",
              "      <td>0.000000</td>\n",
              "      <td>0.000000</td>\n",
              "      <td>0.000000</td>\n",
              "      <td>0.000000</td>\n",
              "      <td>0.750000</td>\n",
              "      <td>0.750000</td>\n",
              "      <td>0.000000</td>\n",
              "      <td>0.000000</td>\n",
              "      <td>0.000000</td>\n",
              "      <td>0.000000</td>\n",
              "    </tr>\n",
              "    <tr>\n",
              "      <th>50%</th>\n",
              "      <td>0.500000</td>\n",
              "      <td>0.500000</td>\n",
              "      <td>167.000000</td>\n",
              "      <td>0.950000</td>\n",
              "      <td>29.850000</td>\n",
              "      <td>1.000000</td>\n",
              "      <td>1.000000</td>\n",
              "      <td>0.500000</td>\n",
              "      <td>0.500000</td>\n",
              "      <td>0.500000</td>\n",
              "      <td>0.000000</td>\n",
              "      <td>1.000000</td>\n",
              "      <td>1.000000</td>\n",
              "      <td>0.500000</td>\n",
              "      <td>0.500000</td>\n",
              "      <td>0.500000</td>\n",
              "      <td>0.000000</td>\n",
              "    </tr>\n",
              "    <tr>\n",
              "      <th>75%</th>\n",
              "      <td>1.000000</td>\n",
              "      <td>1.000000</td>\n",
              "      <td>251.500000</td>\n",
              "      <td>3.875000</td>\n",
              "      <td>31.400000</td>\n",
              "      <td>1.000000</td>\n",
              "      <td>1.000000</td>\n",
              "      <td>1.000000</td>\n",
              "      <td>1.000000</td>\n",
              "      <td>1.000000</td>\n",
              "      <td>0.250000</td>\n",
              "      <td>1.000000</td>\n",
              "      <td>1.000000</td>\n",
              "      <td>1.000000</td>\n",
              "      <td>1.000000</td>\n",
              "      <td>1.000000</td>\n",
              "      <td>0.250000</td>\n",
              "    </tr>\n",
              "    <tr>\n",
              "      <th>max</th>\n",
              "      <td>1.000000</td>\n",
              "      <td>1.000000</td>\n",
              "      <td>341.000000</td>\n",
              "      <td>5.300000</td>\n",
              "      <td>33.100000</td>\n",
              "      <td>1.000000</td>\n",
              "      <td>1.000000</td>\n",
              "      <td>1.000000</td>\n",
              "      <td>1.000000</td>\n",
              "      <td>1.000000</td>\n",
              "      <td>1.000000</td>\n",
              "      <td>1.000000</td>\n",
              "      <td>1.000000</td>\n",
              "      <td>1.000000</td>\n",
              "      <td>1.000000</td>\n",
              "      <td>1.000000</td>\n",
              "      <td>1.000000</td>\n",
              "    </tr>\n",
              "  </tbody>\n",
              "</table>\n",
              "</div>\n",
              "      <button class=\"colab-df-convert\" onclick=\"convertToInteractive('df-e5eca253-bef3-4a86-8840-5a3e0580c5fc')\"\n",
              "              title=\"Convert this dataframe to an interactive table.\"\n",
              "              style=\"display:none;\">\n",
              "        \n",
              "  <svg xmlns=\"http://www.w3.org/2000/svg\" height=\"24px\"viewBox=\"0 0 24 24\"\n",
              "       width=\"24px\">\n",
              "    <path d=\"M0 0h24v24H0V0z\" fill=\"none\"/>\n",
              "    <path d=\"M18.56 5.44l.94 2.06.94-2.06 2.06-.94-2.06-.94-.94-2.06-.94 2.06-2.06.94zm-11 1L8.5 8.5l.94-2.06 2.06-.94-2.06-.94L8.5 2.5l-.94 2.06-2.06.94zm10 10l.94 2.06.94-2.06 2.06-.94-2.06-.94-.94-2.06-.94 2.06-2.06.94z\"/><path d=\"M17.41 7.96l-1.37-1.37c-.4-.4-.92-.59-1.43-.59-.52 0-1.04.2-1.43.59L10.3 9.45l-7.72 7.72c-.78.78-.78 2.05 0 2.83L4 21.41c.39.39.9.59 1.41.59.51 0 1.02-.2 1.41-.59l7.78-7.78 2.81-2.81c.8-.78.8-2.07 0-2.86zM5.41 20L4 18.59l7.72-7.72 1.47 1.35L5.41 20z\"/>\n",
              "  </svg>\n",
              "      </button>\n",
              "      \n",
              "  <style>\n",
              "    .colab-df-container {\n",
              "      display:flex;\n",
              "      flex-wrap:wrap;\n",
              "      gap: 12px;\n",
              "    }\n",
              "\n",
              "    .colab-df-convert {\n",
              "      background-color: #E8F0FE;\n",
              "      border: none;\n",
              "      border-radius: 50%;\n",
              "      cursor: pointer;\n",
              "      display: none;\n",
              "      fill: #1967D2;\n",
              "      height: 32px;\n",
              "      padding: 0 0 0 0;\n",
              "      width: 32px;\n",
              "    }\n",
              "\n",
              "    .colab-df-convert:hover {\n",
              "      background-color: #E2EBFA;\n",
              "      box-shadow: 0px 1px 2px rgba(60, 64, 67, 0.3), 0px 1px 3px 1px rgba(60, 64, 67, 0.15);\n",
              "      fill: #174EA6;\n",
              "    }\n",
              "\n",
              "    [theme=dark] .colab-df-convert {\n",
              "      background-color: #3B4455;\n",
              "      fill: #D2E3FC;\n",
              "    }\n",
              "\n",
              "    [theme=dark] .colab-df-convert:hover {\n",
              "      background-color: #434B5C;\n",
              "      box-shadow: 0px 1px 3px 1px rgba(0, 0, 0, 0.15);\n",
              "      filter: drop-shadow(0px 1px 2px rgba(0, 0, 0, 0.3));\n",
              "      fill: #FFFFFF;\n",
              "    }\n",
              "  </style>\n",
              "\n",
              "      <script>\n",
              "        const buttonEl =\n",
              "          document.querySelector('#df-e5eca253-bef3-4a86-8840-5a3e0580c5fc button.colab-df-convert');\n",
              "        buttonEl.style.display =\n",
              "          google.colab.kernel.accessAllowed ? 'block' : 'none';\n",
              "\n",
              "        async function convertToInteractive(key) {\n",
              "          const element = document.querySelector('#df-e5eca253-bef3-4a86-8840-5a3e0580c5fc');\n",
              "          const dataTable =\n",
              "            await google.colab.kernel.invokeFunction('convertToInteractive',\n",
              "                                                     [key], {});\n",
              "          if (!dataTable) return;\n",
              "\n",
              "          const docLinkHtml = 'Like what you see? Visit the ' +\n",
              "            '<a target=\"_blank\" href=https://colab.research.google.com/notebooks/data_table.ipynb>data table notebook</a>'\n",
              "            + ' to learn more about interactive tables.';\n",
              "          element.innerHTML = '';\n",
              "          dataTable['output_type'] = 'display_data';\n",
              "          await google.colab.output.renderOutput(dataTable, element);\n",
              "          const docLink = document.createElement('div');\n",
              "          docLink.innerHTML = docLinkHtml;\n",
              "          element.appendChild(docLink);\n",
              "        }\n",
              "      </script>\n",
              "    </div>\n",
              "  </div>\n",
              "  "
            ]
          },
          "metadata": {},
          "execution_count": 3
        }
      ]
    },
    {
      "cell_type": "code",
      "source": [
        "label.describe()"
      ],
      "metadata": {
        "colab": {
          "base_uri": "https://localhost:8080/",
          "height": 300
        },
        "id": "NTfswA-fSNT7",
        "outputId": "5f390722-061f-407d-92d0-22d06c2b21fc"
      },
      "execution_count": 4,
      "outputs": [
        {
          "output_type": "execute_result",
          "data": {
            "text/plain": [
              "             koor_x        koor_y            Vx            Vy          Temp\n",
              "count  29568.000000  29568.000000  29568.000000  29568.000000  29568.000000\n",
              "mean      54.005344     96.213542      0.015283     -0.005514     25.651682\n",
              "std       35.032021     60.529928      0.058716      0.097097      3.151404\n",
              "min        1.000000      6.000000     -0.428469     -2.194303     18.201416\n",
              "25%       20.000000     45.000000      0.000000     -0.009981     23.531268\n",
              "50%       55.000000     96.000000      0.006029      0.001129     25.356838\n",
              "75%       84.000000    141.000000      0.035409      0.017831     27.980284\n",
              "max      131.000000    215.000000      0.330079      0.511868     34.240810"
            ],
            "text/html": [
              "\n",
              "  <div id=\"df-5054be8a-3fb5-4cc6-9e3d-61917fe01283\">\n",
              "    <div class=\"colab-df-container\">\n",
              "      <div>\n",
              "<style scoped>\n",
              "    .dataframe tbody tr th:only-of-type {\n",
              "        vertical-align: middle;\n",
              "    }\n",
              "\n",
              "    .dataframe tbody tr th {\n",
              "        vertical-align: top;\n",
              "    }\n",
              "\n",
              "    .dataframe thead th {\n",
              "        text-align: right;\n",
              "    }\n",
              "</style>\n",
              "<table border=\"1\" class=\"dataframe\">\n",
              "  <thead>\n",
              "    <tr style=\"text-align: right;\">\n",
              "      <th></th>\n",
              "      <th>koor_x</th>\n",
              "      <th>koor_y</th>\n",
              "      <th>Vx</th>\n",
              "      <th>Vy</th>\n",
              "      <th>Temp</th>\n",
              "    </tr>\n",
              "  </thead>\n",
              "  <tbody>\n",
              "    <tr>\n",
              "      <th>count</th>\n",
              "      <td>29568.000000</td>\n",
              "      <td>29568.000000</td>\n",
              "      <td>29568.000000</td>\n",
              "      <td>29568.000000</td>\n",
              "      <td>29568.000000</td>\n",
              "    </tr>\n",
              "    <tr>\n",
              "      <th>mean</th>\n",
              "      <td>54.005344</td>\n",
              "      <td>96.213542</td>\n",
              "      <td>0.015283</td>\n",
              "      <td>-0.005514</td>\n",
              "      <td>25.651682</td>\n",
              "    </tr>\n",
              "    <tr>\n",
              "      <th>std</th>\n",
              "      <td>35.032021</td>\n",
              "      <td>60.529928</td>\n",
              "      <td>0.058716</td>\n",
              "      <td>0.097097</td>\n",
              "      <td>3.151404</td>\n",
              "    </tr>\n",
              "    <tr>\n",
              "      <th>min</th>\n",
              "      <td>1.000000</td>\n",
              "      <td>6.000000</td>\n",
              "      <td>-0.428469</td>\n",
              "      <td>-2.194303</td>\n",
              "      <td>18.201416</td>\n",
              "    </tr>\n",
              "    <tr>\n",
              "      <th>25%</th>\n",
              "      <td>20.000000</td>\n",
              "      <td>45.000000</td>\n",
              "      <td>0.000000</td>\n",
              "      <td>-0.009981</td>\n",
              "      <td>23.531268</td>\n",
              "    </tr>\n",
              "    <tr>\n",
              "      <th>50%</th>\n",
              "      <td>55.000000</td>\n",
              "      <td>96.000000</td>\n",
              "      <td>0.006029</td>\n",
              "      <td>0.001129</td>\n",
              "      <td>25.356838</td>\n",
              "    </tr>\n",
              "    <tr>\n",
              "      <th>75%</th>\n",
              "      <td>84.000000</td>\n",
              "      <td>141.000000</td>\n",
              "      <td>0.035409</td>\n",
              "      <td>0.017831</td>\n",
              "      <td>27.980284</td>\n",
              "    </tr>\n",
              "    <tr>\n",
              "      <th>max</th>\n",
              "      <td>131.000000</td>\n",
              "      <td>215.000000</td>\n",
              "      <td>0.330079</td>\n",
              "      <td>0.511868</td>\n",
              "      <td>34.240810</td>\n",
              "    </tr>\n",
              "  </tbody>\n",
              "</table>\n",
              "</div>\n",
              "      <button class=\"colab-df-convert\" onclick=\"convertToInteractive('df-5054be8a-3fb5-4cc6-9e3d-61917fe01283')\"\n",
              "              title=\"Convert this dataframe to an interactive table.\"\n",
              "              style=\"display:none;\">\n",
              "        \n",
              "  <svg xmlns=\"http://www.w3.org/2000/svg\" height=\"24px\"viewBox=\"0 0 24 24\"\n",
              "       width=\"24px\">\n",
              "    <path d=\"M0 0h24v24H0V0z\" fill=\"none\"/>\n",
              "    <path d=\"M18.56 5.44l.94 2.06.94-2.06 2.06-.94-2.06-.94-.94-2.06-.94 2.06-2.06.94zm-11 1L8.5 8.5l.94-2.06 2.06-.94-2.06-.94L8.5 2.5l-.94 2.06-2.06.94zm10 10l.94 2.06.94-2.06 2.06-.94-2.06-.94-.94-2.06-.94 2.06-2.06.94z\"/><path d=\"M17.41 7.96l-1.37-1.37c-.4-.4-.92-.59-1.43-.59-.52 0-1.04.2-1.43.59L10.3 9.45l-7.72 7.72c-.78.78-.78 2.05 0 2.83L4 21.41c.39.39.9.59 1.41.59.51 0 1.02-.2 1.41-.59l7.78-7.78 2.81-2.81c.8-.78.8-2.07 0-2.86zM5.41 20L4 18.59l7.72-7.72 1.47 1.35L5.41 20z\"/>\n",
              "  </svg>\n",
              "      </button>\n",
              "      \n",
              "  <style>\n",
              "    .colab-df-container {\n",
              "      display:flex;\n",
              "      flex-wrap:wrap;\n",
              "      gap: 12px;\n",
              "    }\n",
              "\n",
              "    .colab-df-convert {\n",
              "      background-color: #E8F0FE;\n",
              "      border: none;\n",
              "      border-radius: 50%;\n",
              "      cursor: pointer;\n",
              "      display: none;\n",
              "      fill: #1967D2;\n",
              "      height: 32px;\n",
              "      padding: 0 0 0 0;\n",
              "      width: 32px;\n",
              "    }\n",
              "\n",
              "    .colab-df-convert:hover {\n",
              "      background-color: #E2EBFA;\n",
              "      box-shadow: 0px 1px 2px rgba(60, 64, 67, 0.3), 0px 1px 3px 1px rgba(60, 64, 67, 0.15);\n",
              "      fill: #174EA6;\n",
              "    }\n",
              "\n",
              "    [theme=dark] .colab-df-convert {\n",
              "      background-color: #3B4455;\n",
              "      fill: #D2E3FC;\n",
              "    }\n",
              "\n",
              "    [theme=dark] .colab-df-convert:hover {\n",
              "      background-color: #434B5C;\n",
              "      box-shadow: 0px 1px 3px 1px rgba(0, 0, 0, 0.15);\n",
              "      filter: drop-shadow(0px 1px 2px rgba(0, 0, 0, 0.3));\n",
              "      fill: #FFFFFF;\n",
              "    }\n",
              "  </style>\n",
              "\n",
              "      <script>\n",
              "        const buttonEl =\n",
              "          document.querySelector('#df-5054be8a-3fb5-4cc6-9e3d-61917fe01283 button.colab-df-convert');\n",
              "        buttonEl.style.display =\n",
              "          google.colab.kernel.accessAllowed ? 'block' : 'none';\n",
              "\n",
              "        async function convertToInteractive(key) {\n",
              "          const element = document.querySelector('#df-5054be8a-3fb5-4cc6-9e3d-61917fe01283');\n",
              "          const dataTable =\n",
              "            await google.colab.kernel.invokeFunction('convertToInteractive',\n",
              "                                                     [key], {});\n",
              "          if (!dataTable) return;\n",
              "\n",
              "          const docLinkHtml = 'Like what you see? Visit the ' +\n",
              "            '<a target=\"_blank\" href=https://colab.research.google.com/notebooks/data_table.ipynb>data table notebook</a>'\n",
              "            + ' to learn more about interactive tables.';\n",
              "          element.innerHTML = '';\n",
              "          dataTable['output_type'] = 'display_data';\n",
              "          await google.colab.output.renderOutput(dataTable, element);\n",
              "          const docLink = document.createElement('div');\n",
              "          docLink.innerHTML = docLinkHtml;\n",
              "          element.appendChild(docLink);\n",
              "        }\n",
              "      </script>\n",
              "    </div>\n",
              "  </div>\n",
              "  "
            ]
          },
          "metadata": {},
          "execution_count": 4
        }
      ]
    },
    {
      "cell_type": "code",
      "source": [
        "def norm(df):\n",
        "  df=(df-df.min())/(df.max()-df.min())\n",
        "  return df\n",
        "\n",
        "def remap(df,new_max,new_min):\n",
        "  df = (df-df.min())/(df.max()-df.min())*(new_max - new_min) + new_min\n",
        "  return df\n",
        "\n",
        "from sklearn.preprocessing import StandardScaler\n",
        "def standard(df):\n",
        "  scaler = StandardScaler()\n",
        "  df = scaler.fit_transform(df)\n",
        "  return df"
      ],
      "metadata": {
        "id": "dXlm2PggSPWO"
      },
      "execution_count": 5,
      "outputs": []
    },
    {
      "cell_type": "code",
      "source": [
        "feature = norm(feature)"
      ],
      "metadata": {
        "id": "ZkCj0-j0SRPJ"
      },
      "execution_count": 6,
      "outputs": []
    },
    {
      "cell_type": "code",
      "source": [
        "array_y = []\n",
        "\n",
        "for i in range(154):\n",
        "  frame= label[i::154]\n",
        "  frame = frame.drop(['koor_x','koor_y','Temp'],axis=1)\n",
        "  frame = norm(frame)\n",
        "  array_y.append(frame)"
      ],
      "metadata": {
        "id": "E6W0-4HdSUXh"
      },
      "execution_count": 7,
      "outputs": []
    },
    {
      "cell_type": "code",
      "source": [
        "! mkdir models\n",
        "\n",
        "y_testing = []\n",
        "\n",
        "import joblib\n",
        "from sklearn.linear_model import LinearRegression\n",
        "\n",
        "#model\n",
        "from sklearn.svm import SVR\n",
        "from sklearn.linear_model import Lasso\n",
        "from sklearn.ensemble import RandomForestRegressor\n",
        "\n",
        "#preprocessing and metric\n",
        "from sklearn.model_selection import train_test_split\n",
        "from sklearn.metrics import r2_score as r2\n",
        "from sklearn.metrics import mean_squared_error as mse\n",
        "from sklearn.metrics import mean_absolute_error as mae\n",
        "\n",
        "for i in range(154):\n",
        "  x = np.array(feature)\n",
        "  y = np.array(array_y[i])\n",
        "  x_train,x_test,y_train,y_test = train_test_split(x,y, test_size=0.25, random_state= 10)\n",
        "  y_testing.append(y_test)\n",
        "  #fitting\n",
        "  regressor = Lasso(alpha=0.6)\n",
        "  regressor.fit(x_train,y_train)\n",
        "  joblib.dump(regressor,f'/content/models/model {i}')"
      ],
      "metadata": {
        "colab": {
          "base_uri": "https://localhost:8080/"
        },
        "id": "ej8sAP1USX3x",
        "outputId": "c9255e7a-8896-4bd2-c576-aaccd7194bfc"
      },
      "execution_count": 8,
      "outputs": [
        {
          "output_type": "stream",
          "name": "stdout",
          "text": [
            "mkdir: cannot create directory ‘models’: File exists\n"
          ]
        }
      ]
    },
    {
      "cell_type": "code",
      "source": [
        "skor_r2=[]\n",
        "mae_=[]\n",
        "rmse = []\n",
        "y_predict = []\n",
        "for i in range(154):\n",
        "  model = joblib.load(f'/content/models/model {i}')\n",
        "  y_pred = model.predict(x_test)\n",
        "  Skor_r2 = r2(y_test,y_pred)\n",
        "  RMSE = mse(y_test,y_pred,squared=False)\n",
        "  MAE = mae(y_test,y_pred)\n",
        "  y_predict.append(y_pred)\n",
        "  skor_r2.append(Skor_r2)\n",
        "  mae_.append(MAE)\n",
        "  rmse.append(RMSE)"
      ],
      "metadata": {
        "id": "DKzEXKdxScuW"
      },
      "execution_count": 9,
      "outputs": []
    },
    {
      "cell_type": "code",
      "source": [
        "skor_r2 = np.array(skor_r2)\n",
        "rmse = np.array(rmse)\n",
        "mae_=np.array(mae_)\n",
        "y_predict = np.array(y_predict)\n",
        "y_testing = np.array(y_testing)"
      ],
      "metadata": {
        "id": "X4BLt8WDSfnr"
      },
      "execution_count": 10,
      "outputs": []
    },
    {
      "cell_type": "code",
      "source": [
        "skor_r2.shape, rmse.shape, y_predict.shape, y_testing.shape"
      ],
      "metadata": {
        "colab": {
          "base_uri": "https://localhost:8080/"
        },
        "id": "KRTua8ENShVn",
        "outputId": "6f1be520-5acf-4783-b916-40b15fb06c7a"
      },
      "execution_count": 11,
      "outputs": [
        {
          "output_type": "execute_result",
          "data": {
            "text/plain": [
              "((154,), (154,), (154, 48, 2), (154, 48, 2))"
            ]
          },
          "metadata": {},
          "execution_count": 11
        }
      ]
    },
    {
      "cell_type": "code",
      "source": [
        "r2_matrix = skor_r2.reshape(11,14)\n",
        "rmse_matrix = rmse.reshape(11,14)\n",
        "mae_matrix = mae_.reshape(11,14)"
      ],
      "metadata": {
        "id": "azJ91zLQSjH_"
      },
      "execution_count": 12,
      "outputs": []
    },
    {
      "cell_type": "code",
      "source": [
        "import numpy as np\n",
        "import seaborn as sns\n",
        "import matplotlib.pylab as plt\n",
        "\n",
        "ax = sns.heatmap(r2_matrix, linewidth=0.5, cmap=\"RdYlBu\")\n",
        "plt.show()"
      ],
      "metadata": {
        "colab": {
          "base_uri": "https://localhost:8080/",
          "height": 265
        },
        "id": "DL2ME9VrSk96",
        "outputId": "8dd513a7-68d5-4cec-b6e7-bcea8c186cce"
      },
      "execution_count": 13,
      "outputs": [
        {
          "output_type": "display_data",
          "data": {
            "text/plain": [
              "<Figure size 432x288 with 2 Axes>"
            ],
            "image/png": "[encoded data removed]"
          },
          "metadata": {
            "needs_background": "light"
          }
        }
      ]
    },
    {
      "cell_type": "code",
      "source": [
        "bx = sns.heatmap(rmse_matrix, linewidth=0.5, cmap=\"RdYlBu_r\")\n",
        "plt.show()"
      ],
      "metadata": {
        "colab": {
          "base_uri": "https://localhost:8080/",
          "height": 265
        },
        "id": "f2HWOTZJSmj_",
        "outputId": "270bd8c0-da56-4a04-bea1-0f8cdcc1d23c"
      },
      "execution_count": 14,
      "outputs": [
        {
          "output_type": "display_data",
          "data": {
            "text/plain": [
              "<Figure size 432x288 with 2 Axes>"
            ],
            "image/png": "[encoded data removed]"
          },
          "metadata": {
            "needs_background": "light"
          }
        }
      ]
    },
    {
      "cell_type": "code",
      "source": [
        "bx = sns.heatmap(mae_matrix, linewidth=0.5, cmap=\"RdYlBu_r\")\n",
        "plt.show()"
      ],
      "metadata": {
        "colab": {
          "base_uri": "https://localhost:8080/",
          "height": 265
        },
        "id": "mbtT4GOnSoB6",
        "outputId": "0ffce4c1-05d9-42f7-ce9b-861094f903e6"
      },
      "execution_count": 15,
      "outputs": [
        {
          "output_type": "display_data",
          "data": {
            "text/plain": [
              "<Figure size 432x288 with 2 Axes>"
            ],
            "image/png": "[encoded data removed]"
          },
          "metadata": {
            "needs_background": "light"
          }
        }
      ]
    },
    {
      "cell_type": "code",
      "source": [
        "scenarios = 0   #0-28\n",
        "indexing = 0,1    # vx,vy"
      ],
      "metadata": {
        "id": "YsdhFo9pSpmA"
      },
      "execution_count": 16,
      "outputs": []
    },
    {
      "cell_type": "code",
      "source": [
        "a = y_testing[(...,scenarios,indexing)]\n",
        "b = y_predict[(...,scenarios,indexing)]"
      ],
      "metadata": {
        "id": "RIsXkUC3SukB"
      },
      "execution_count": 17,
      "outputs": []
    },
    {
      "cell_type": "code",
      "source": [
        "r2(a,b), mse(a,b), mae(a,b)"
      ],
      "metadata": {
        "colab": {
          "base_uri": "https://localhost:8080/"
        },
        "id": "3R9GuHwuSygS",
        "outputId": "02eb51cd-47da-4c1a-e4db-07789a393e98"
      },
      "execution_count": 18,
      "outputs": [
        {
          "output_type": "execute_result",
          "data": {
            "text/plain": [
              "(0.7804465476853056, 0.01264643302304927, 0.08544250428808836)"
            ]
          },
          "metadata": {},
          "execution_count": 18
        }
      ]
    },
    {
      "cell_type": "code",
      "source": [
        "import plotly.graph_objects as go\n",
        "from plotly.figure_factory import create_quiver"
      ],
      "metadata": {
        "id": "HkBXV7QrS0Ua"
      },
      "execution_count": 19,
      "outputs": []
    },
    {
      "cell_type": "code",
      "source": [
        "df_koor = pd.read_excel('data_model.xlsx',sheet_name='koordinat_154')"
      ],
      "metadata": {
        "id": "CaiwjOuDS1wq"
      },
      "execution_count": 20,
      "outputs": []
    },
    {
      "cell_type": "code",
      "source": [
        "def kec_angin(y,scenarios):\n",
        "  df_x = pd.DataFrame(y[...,scenarios,0])\n",
        "  df_y = pd.DataFrame(y[...,scenarios,1])\n",
        "  df_y.rename(columns={0:1},inplace=True)\n",
        "  df_x = df_x.join(df_y)\n",
        "  df_x = df_x.join(df_koor)\n",
        "  df_x.rename(columns={0:'Vx',1:'Vy',},inplace=True)\n",
        "  return df_x"
      ],
      "metadata": {
        "id": "YAfhWv-ZS3iX"
      },
      "execution_count": 21,
      "outputs": []
    },
    {
      "cell_type": "code",
      "source": [
        "angin_test = kec_angin(y_testing,scenarios)\n",
        "angin_pred = kec_angin(y_predict,scenarios)"
      ],
      "metadata": {
        "id": "a6LBZW9bS48e"
      },
      "execution_count": 22,
      "outputs": []
    },
    {
      "cell_type": "code",
      "source": [
        "def tampilan_vektor(Y,scale,arrow):\n",
        "  x = Y['koor_x']\n",
        "  y = Y['koor_y']\n",
        "  u = Y['Vx']\n",
        "  v = Y['Vy']\n",
        "\n",
        "  fig = create_quiver(x,y,u,v, scale=scale, arrow_scale=arrow)\n",
        "  \n",
        "  fig.show()"
      ],
      "metadata": {
        "id": "3uW_AzEoS6kz"
      },
      "execution_count": 23,
      "outputs": []
    },
    {
      "cell_type": "code",
      "source": [
        "tampilan_vektor(angin_test,50,0.1)"
      ],
      "metadata": {
        "colab": {
          "base_uri": "https://localhost:8080/",
          "height": 542
        },
        "id": "yfiIM41_S8UR",
        "outputId": "2914c9a6-1d23-4b11-a4fe-bee6f8340dcc"
      },
      "execution_count": 24,
      "outputs": [
        {
          "output_type": "display_data",
          "data": {
            "text/html": [
              "<html>\n",
              "<head><meta charset=\"utf-8\" /></head>\n",
              "<body>\n",
              "    <div>            <script src=\"https://cdnjs.cloudflare.com/ajax/libs/mathjax/2.7.5/MathJax.js?config=TeX-AMS-MML_SVG\"></script><script type=\"text/javascript\">if (window.MathJax) {MathJax.Hub.Config({SVG: {font: \"STIX-Web\"}});}</script>                <script type=\"text/javascript\">window.PlotlyConfig = {MathJaxConfig: 'local'};</script>\n",
              "        <script src=\"https://cdn.plot.ly/plotly-2.8.3.min.js\"></script>                <div id=\"b0518ef8-0347-4bf1-b51b-cb152be4e957\" class=\"plotly-graph-div\" style=\"height:525px; width:100%;\"></div>            <script type=\"text/javascript\">                                    window.PLOTLYENV=window.PLOTLYENV || {};                                    if (document.getElementById(\"b0518ef8-0347-4bf1-b51b-cb152be4e957\")) {                    Plotly.newPlot(                        \"b0518ef8-0347-4bf1-b51b-cb152be4e957\",                        [{\"mode\":\"lines\",\"x\":[1,29.44206328677635,null,1,17.410240071958064,null,1,16.973442677739836,null,1,19.336649771262476,null,1,19.1873535701513,null,1,20.389491808785948,null,1,20.21607077484269,null,1,23.396415162425743,null,1,20.086602819207286,null,1,13.297127665861249,null,1,9.854731884006439,null,1,14.927750066281517,null,1,20.13676656062967,null,1,25.78945190475614,null,11,28.224909866153094,null,11,30.877881354801445,null,11,29.214203032504386,null,11,35.50517151407991,null,11,43.04841517439514,null,11,43.22167790959178,null,11,39.74514739878295,null,11,40.99384329881954,null,11,40.50062780722063,null,11,36.412833846169534,null,11,34.330074309296876,null,11,38.616665281251386,null,11,35.143967678091734,null,11,22.09651781791949,null,20,70.0,null,20,37.0254995385003,null,20,35.709703576998,null,20,46.09954930292887,null,20,54.447792732309864,null,20,54.677799272029766,null,20,49.34355811144877,null,20,49.83159294949836,null,20,45.15107306616669,null,20,50.3205591008129,null,20,52.46828360557632,null,20,50.782163069793825,null,20,44.50880947232428,null,20,22.811280293494125,null,30,52.22827304489578,null,30,42.538887364084204,null,30,50.695850174893096,null,30,59.69076432757274,null,30,67.68814864969332,null,30,65.40063643323194,null,30,49.829263419287,null,30,42.28205943821713,null,30,48.966927216811484,null,30,63.20946652103896,null,30,66.58014581002232,null,30,62.33331719623143,null,30,53.2017797329279,null,30,34.06153109443374,null,39,71.28377642686345,null,39,53.95970982491282,null,39,64.58888889405557,null,39,72.04405931041805,null,39,78.77430013843792,null,39,74.68683760439464,null,39,73.76499909544171,null,39,86.84552658490782,null,39,73.2298560213846,null,39,78.66141166341865,null,39,75.6696246127097,null,39,67.40510259973743,null,39,50.216069645685245,null,39,43.80109739832274,null,49,49.0,null,49,66.13624934941294,null,49,79.87245923275471,null,49,87.99124310759169,null,49,90.80283955272026,null,49,87.24545855666199,null,49,89.2204370709955,null,49,95.4978241395629,null,49,84.26640820242216,null,49,85.76526200979723,null,49,82.50748891476809,null,49,69.01456838507676,null,49,63.66956615901081,null,49,57.33127617772579,null,59,59.0,null,59,80.87983113649243,null,59,89.30819702539642,null,59,99.2415931361097,null,59,99.8947381046257,null,59,94.3298722712606,null,59,91.95799384389176,null,59,91.06464875971344,null,59,91.20008062318541,null,59,87.12536734728712,null,59,84.7337042328092,null,59,77.91751547453767,null,59,68.72847988835248,null,59,69.35405179171278,null,69,69.0,null,69,87.88630278492607,null,69,106.68052930682664,null,69,109.41011635215182,null,69,108.5156438591713,null,69,99.174952529318,null,69,97.99181382972783,null,69,90.75751811286511,null,69,86.76649948723039,null,69,83.05185796394129,null,69,83.01091176392136,null,69,88.03739997644861,null,69,84.65081901784517,null,69,81.00279062951891,null,79,79.0,null,79,95.06168783939216,null,79,120.41170264127908,null,79,123.35848188536932,null,79,115.86282678080028,null,79,106.0400711938334,null,79,100.248878575112,null,79,93.73139525773463,null,79,94.06573559003043,null,79,97.10042736118244,null,79,98.93015841599745,null,79,99.85352668341054,null,79,99.96001395477315,null,79,101.2412434433665,null,87,87.0,null,87,93.49776013704108,null,87,120.8388941745344,null,87,134.36507696126802,null,87,131.41416004060284,null,87,125.05777692068617,null,87,115.47168883053027,null,87,108.16145521848043,null,87,117.01079022163182,null,87,120.64149066735762,null,87,121.52430966809894,null,87,124.89621073848883,null,87,120.0764258206573,null,87,115.27513603717905,null,97,97.0,null,97,97.0,null,97,97.0,null,97,97.0,null,97,134.54170295145929,null,97,133.7058737516102,null,97,125.56806010726126,null,97,125.92602998059299,null,97,135.4422961669241,null,97,136.42457943079944,null,97,138.35578825577926,null,97,137.76043841476923,null,97,130.79057427287842,null,97,128.80809142803247,null,28.088703047294967,29.44206328677635,25.450064128155823,null,16.93493671765343,17.410240071958064,14.801427126073861,null,16.30786732383577,16.973442677739836,14.63699278908014,null,18.39349653117327,19.336649771262476,16.83364011535349,null,18.109004826624584,19.1873535701513,16.847597925378928,null,19.26874928350395,20.389491808785948,17.86620185936695,null,19.12219751737116,20.21607077484269,17.698504050790337,null,21.842982073309454,23.396415162425743,20.740699039504214,null,18.883329040109167,20.086602819207286,17.702768633289285,null,12.982924871920321,13.297127665861249,11.300226434907763,null,10.22403783190076,9.854731884006439,7.821280694024406,null,14.696073887387865,14.927750066281517,12.541865452888132,null,19.578466296982217,20.13676656062967,17.098531159731877,null,25.090714730113383,25.78945190475614,21.829296073753596,null,27.403718475676605,28.224909866153094,25.808877117644293,null,29.67583145464776,30.877881354801445,28.344111569762187,null,28.332914331320914,29.214203032504386,26.67234129705972,null,34.053794310928,35.50517151407991,32.351082948657044,null,40.92548852722186,43.04841517439514,39.14820997211597,null,41.10555114607407,43.22167790959178,39.28211008091275,null,38.113253255437996,39.74514739878295,35.97472096331998,null,39.30395514733472,40.99384329881954,37.04673280692245,null,38.743998897107446,40.50062780722063,36.712952265534454,null,34.933335860466634,36.412833846169534,33.116281344171654,null,33.13806353609578,34.330074309296876,31.13746534833134,null,37.335963271346536,38.616665281251386,34.70713197605497,null,33.8951485912952,35.143967678091734,31.855205112169013,null,21.72965294427596,22.09651781791949,20.377919509579364,null,65.53384665915166,70.0,65.06922713298924,null,36.108187432153265,37.0254995385003,34.743064388542805,null,34.693919901108906,35.709703576998,33.7730287476793,null,44.41993420960517,46.09954930292887,42.87405361909252,null,52.042582425344875,54.447792732309864,50.37893571269205,null,52.4674757129881,54.677799272029766,50.37082841486717,null,47.92450621459614,49.34355811144877,45.24782500331522,null,48.453815527018556,49.83159294949836,45.602864819791655,null,44.112500054946636,45.15107306616669,41.46279052436193,null,48.629898132312455,50.3205591008129,46.312818940285965,null,50.34131236057693,52.46828360557632,48.493213547826876,null,48.66871380757528,50.782163069793825,47.110458034309616,null,42.76081294250517,44.50880947232428,41.650656521065216,null,22.652467578912287,22.811280293494125,22.44174513872451,null,50.13949862958549,52.22827304489578,50.13949862958549,null,42.21475494566954,42.538887364084204,40.50647979671975,null,49.092578080325424,50.695850174893096,48.40957473141321,null,57.341020197917665,59.69076432757274,56.46047002840509,null,65.3448582964742,67.68814864969332,62.948383967472594,null,63.55512005153058,65.40063643323194,60.59300944944673,null,49.098266024704095,49.829263419287,46.83357831172512,null,42.63572691687171,42.28205943821713,39.620119835133245,null,48.61839527039908,48.966927216811484,45.75084285429966,null,61.259300426008835,63.20946652103896,58.9182944900577,null,64.42388012599883,66.58014581002232,61.861592877055685,null,60.05611260483587,62.33331719623143,58.53384587266123,null,51.64287032909936,53.2017797329279,50.40018089592997,null,33.794123769543305,34.06153109443374,33.565620259617795,null,68.25009377892088,71.28377642686345,68.25009377892088,null,53.311184937988635,53.95970982491282,51.7967289255232,null,62.440758977254745,64.58888889405557,61.927880797285496,null,69.31120250765017,72.04405931041805,68.56666437422359,null,76.42947864601453,78.77430013843792,73.6439983634585,null,72.81765967002382,74.68683760439464,69.84908394755851,null,71.76215987368107,73.76499909544171,69.23415569487928,null,83.57735455112407,86.84552658490782,81.12168096480079,null,71.53269514411978,73.2298560213846,68.49390827587759,null,76.16561359590109,78.66141166341865,73.70330255692286,null,73.23770316169788,75.6696246127097,71.209910932611,null,65.50307490458492,67.40510259973743,63.968717233761964,null,49.770415453414124,50.216069645685245,48.55379226190212,null,43.792414482562236,43.80109739832274,42.90746915470758,null,50.71010071662835,49.0,47.28989928337165,null,65.20409840125727,66.13624934941294,63.84783888525047,null,77.16831790406093,79.87245923275471,76.77447613614181,null,85.28963539778596,87.99124310759169,83.36489413270274,null,88.4378921822402,90.80283955272026,85.3114229520826,null,85.14106544400973,87.24545855666199,82.16205663246053,null,86.75651786025206,89.2204370709955,84.12538669765925,null,92.34244551529683,95.4978241395629,89.91447031851934,null,81.9991372546786,84.26640820242216,79.90576244027775,null,83.42816766478226,85.76526200979723,81.1927472724388,null,80.18021197187655,82.50748891476809,78.537417842805,null,67.92071723189156,69.01456838507676,66.34691109432765,null,63.31916371025199,63.66956615901081,61.26299199381901,null,57.33599558507458,57.33127617772579,55.76078902118934,null,59.0,59.0,59.0,null,79.57571898228382,80.87983113649243,78.0718801181003,null,86.77725144777945,89.30819702539642,86.1430647841953,null,96.58896679074572,99.2415931361097,94.33127385773945,null,97.20826483989275,99.8947381046257,94.89551464418084,null,92.10315460401398,94.3298722712606,89.91674588518477,null,90.14401853766908,91.95799384389176,87.57789242791193,null,89.40390832902824,91.06464875971344,86.69920642487968,null,89.41513121503502,91.20008062318541,86.93339440127208,null,85.46247383325982,87.12536734728712,83.50242083068669,null,83.00512878618589,84.7337042328092,81.62592528482092,null,76.43179147642542,77.91751547453767,75.84790953364465,null,67.8670814522572,68.72847988835248,67.76152217193798,null,68.57526248391672,69.35405179171278,68.18691588672732,null,69.0,69.0,69.0,null,86.93010418652995,87.88630278492607,85.29303751113753,null,103.96505831255128,106.68052930682664,102.31437723371558,null,106.64138781231837,109.41011635215182,104.58422726374185,null,105.37754156251454,108.5156438591713,104.22723436781462,null,96.86153442941131,99.174952529318,95.81733458435166,null,96.07643332707752,97.99181382972783,94.45851562857932,null,89.82736771043562,90.75751811286511,87.59859267183958,null,86.10169433702971,86.76649948723039,84.09229494436165,null,82.20910284221915,83.05185796394129,81.25372763825396,null,82.06402049000614,83.01091176392136,81.3246129588287,null,86.48470742642478,88.03739997644861,86.01223167110874,null,83.34943120906104,84.65081901784517,83.01081499856433,null,80.08930956053537,81.00279062951891,79.66048494182303,null,79.0,79.0,79.0,null,94.5110373186307,95.06168783939216,92.59372845214492,null,117.17347950804887,120.41170264127908,115.86707149727123,null,119.53564981071867,123.35848188536932,118.84464634063058,null,112.66244468478094,115.86282678080028,112.13526361537419,null,103.92498870936956,106.0400711938334,103.07328260502307,null,98.51864121891876,100.248878575112,97.98563305190353,null,93.03561984362976,93.73139525773463,91.65857398832475,null,92.98437581833899,94.06573559003043,92.31566324958922,null,95.77527067510914,97.10042736118244,95.02381644238083,null,97.45813893062923,98.93015841599745,96.65653334244428,null,98.07638739490882,99.85352668341054,97.71148494355967,null,98.12560274923163,99.96001395477315,97.85523107134065,null,99.60485179751797,101.2412434433665,98.69764862104815,null,87.0,87.0,87.0,null,93.51068163273528,93.49776013704108,92.263659190864,null,118.1220937310139,120.8388941745344,117.19606278778184,null,130.72961921014672,134.36507696126802,129.09881205169728,null,128.38403463069892,131.41416004060284,126.09715376079497,null,122.33145774533664,125.05777692068617,120.63157366885869,null,113.52801408324983,115.47168883053027,112.06443639873834,null,106.74897211302402,108.16145521848043,105.59688566115733,null,114.72462466675466,117.01079022163182,113.65677215346471,null,118.43952766317707,120.64149066735762,116.52092156506735,null,118.98525808379672,121.52430966809894,117.57491344583312,null,122.16919927847516,124.89621073848883,120.50106428116138,null,118.11185892423087,120.0764258206573,115.82465806395491,null,113.52597396774755,115.27513603717905,111.71031076943959,null,97.0,97.0,97.0,null,97.0,97.0,97.0,null,97.0,97.0,97.0,null,97.0,97.0,97.0,null,131.80921991672915,134.54170295145929,130.21865373914486,null,131.0273677304478,133.7058737516102,129.48593203199513,null,123.65038330182021,125.56806010726126,122.11669785810997,null,124.03951178047524,125.92602998059299,122.3762327964317,null,132.64315037586286,135.4422961669241,131.01665355116035,null,133.75739290937744,136.42457943079944,131.6823686784794,null,135.51160030825724,138.35578825577926,133.42763039315324,null,134.95489724993848,137.76043841476923,132.90552293992855,null,128.6972361820847,130.79057427287842,126.53336170440373,null,126.76085724133175,128.80809142803247,124.87735985549207,null],\"y\":[6,44.57432041110299,null,16,47.189823658252436,null,30,54.4265515841948,null,45,67.80357526098248,null,63,81.44053524129069,null,78,98.50387165064586,null,94,114.81300611036227,null,104,120.11429992232439,null,113,130.25863856059146,null,129,153.59940547142432,null,145,180.12595946123076,null,163,194.49242049829377,null,178,214.25422633205798,null,191,238.67875109119365,null,6,29.315020900884743,null,16,35.46844229606558,null,30,54.27595372182527,null,45,69.89197486607748,null,63,88.98207429867038,null,78,104.65692504878362,null,94,125.26325062792759,null,104,136.99838305521905,null,113,142.69191539164763,null,129,155.56355995039735,null,145,174.24678892171983,null,163,201.43094254229953,null,178,207.8219786017657,null,191,210.76102082106738,null,6,12.792283074976899,null,16,35.95676380836144,null,30,43.4625280323438,null,45,67.59926236333786,null,63,87.32088789385602,null,78,108.65093297918011,null,94,133.1304615168851,null,104,145.6781111121904,null,113,151.73616192338824,null,129,162.8734316858669,null,145,172.01739720327384,null,163,185.78017543226835,null,178,194.22940114937717,null,191,194.0805559891706,null,6,6.0,null,16,40.973311985943226,null,30,39.98484098437822,null,45,57.872782300926076,null,63,98.03411094006377,null,78,121.30316006071244,null,94,127.10751950101603,null,104,148.08522627374947,null,113,154.92081185944875,null,129,163.2232172817092,null,145,182.45813366470884,null,163,185.25405084877042,null,178,196.16690416368414,null,191,194.34049783886462,null,6,6.0,null,16,38.13986576549946,null,30,37.497777396708614,null,45,55.88441935300911,null,63,103.72099753352435,null,78,121.39767379780682,null,94,130.95694870805679,null,104,139.8995461852814,null,113,157.4240920826217,null,129,164.99657925167352,null,145,174.64433921010385,null,163,185.4308085468807,null,178,195.78584120341628,null,191,203.9370352174261,null,6,56.0,null,16,35.82718770331879,null,30,35.75758147004967,null,45,73.13783490012891,null,63,108.70592246054657,null,78,121.55019535666082,null,94,132.46456435297526,null,104,139.4946228191243,null,113,143.60309246767898,null,129,161.6796598967407,null,145,169.01604351570745,null,163,186.00750655006505,null,178,208.0592195599883,null,191,214.0279794132672,null,6,6.0,null,16,37.984653441180114,null,30,39.27118878756043,null,45,78.00526265870423,null,63,96.81014599350267,null,78,109.96315716333908,null,94,131.51425405540667,null,104,143.54009664239533,null,113,149.2805650806341,null,129,157.654057967381,null,145,165.16260633005612,null,163,171.5357829673909,null,178,179.54317344137692,null,191,196.6772474482535,null,6,6.0,null,16,39.93231374436358,null,30,54.13134300782882,null,45,75.07367531884962,null,63,79.81636618701435,null,78,93.2651805081752,null,94,117.65237442985406,null,104,136.58251132410385,null,113,142.3754539298395,null,129,142.96665112580075,null,145,155.80941496585186,null,163,169.90713346181707,null,178,182.95023783108425,null,191,197.2689965354471,null,6,6.0,null,16,44.02918050151402,null,30,49.09840745159995,null,45,55.10179493185755,null,63,70.70687165207066,null,78,90.45111027767017,null,94,101.79205812020986,null,104,124.13106365483569,null,113,122.77592375477478,null,129,139.98552596086097,null,145,156.71868972965234,null,163,168.33451696442472,null,178,181.9525695074857,null,191,204.2624231960219,null,6,6.0,null,16,34.230248513226854,null,30,43.53766673254545,null,45,68.84080572845967,null,63,96.43196175036991,null,78,102.85064271286683,null,94,115.3960743697759,null,104,120.8423771866807,null,113,128.61095938541175,null,129,157.0481447591647,null,145,165.61785929112204,null,163,187.38650222606034,null,178,211.4366396966583,null,191,217.54322024213505,null,6,6.0,null,16,16.0,null,30,30.0,null,45,45.0,null,63,86.25252194385769,null,78,100.53428238852163,null,94,116.42098124393026,null,104,128.3155120612264,null,113,136.7777928645823,null,129,159.33482488372388,null,145,175.46560203794286,null,163,192.95984812594148,null,178,209.63372859622103,null,191,218.5348897220685,null,39.976744130706415,44.57432041110299,41.922295843070614,null,43.69767567858311,47.189823658252436,44.82020221086705,null,51.58488264129888,54.4265515841948,52.67753047210787,null,65.03358976266637,67.80357526098248,66.28789047924232,null,79.08564762485457,81.44053524129069,80.32973587981013,null,95.91397828513524,98.50387165064586,97.24029763862582,null,112.19999495647754,114.81300611036227,113.51445161259112,null,117.83404853732708,120.11429992232439,119.36605356209388,null,127.98405676738903,130.25863856059146,129.28965729375412,null,150.86723095502535,153.59940547142432,151.7084040283797,null,176.5223493040486,180.12595946123076,177.12804863766425,null,191.05674387561305,194.49242049829377,192.0094580903878,null,210.19292747221863,214.25422633205798,211.50195940058993,null,233.35056484498242,238.67875109119365,235.04626322366832,null,26.534998977362342,29.315020900884743,27.713252205601023,null,32.95914355668669,35.46844229606558,34.318870722682654,null,51.37179783115733,54.27595372182527,52.61772269750532,null,66.71476812888677,69.89197486607748,68.39102058357992,null,85.4444375944225,88.98207429867038,87.63667830468393,null,101.04994718298191,104.65692504878362,103.25403976234833,null,121.34232409291828,125.26325062792759,123.30860797956811,null,132.87169949133846,136.99838305521905,134.92339920812844,null,138.89280711751226,142.69191539164763,140.91076890767684,null,152.19823171624026,155.56355995039735,153.93657193111594,null,170.70055421267108,174.24678892171983,172.29642528448392,null,196.87506964884787,201.43094254229953,198.764160812382,null,204.19385695026313,207.8219786017657,205.84540160740536,null,208.52456901514194,210.76102082106738,209.28361553804208,null,10.443916529964074,12.792283074976899,13.864117963220762,null,33.499135060578084,35.95676380836144,34.663747819047884,null,41.66016070053124,43.4625280323438,42.73476771433297,null,64.58296919620221,67.59926236333786,66.36828351486683,null,83.85728810461849,87.32088789385602,86.21365590613,null,104.58463683738238,108.65093297918011,106.95673801283006,null,128.44979212825243,133.1304615168851,130.457009718445,null,140.7413491965263,145.6781111121904,142.7819503357704,null,147.23593601020218,151.73616192338824,148.9563707331791,null,158.653346109339,162.8734316858669,160.72739450321387,null,168.36811162356625,172.01739720327384,170.58907302602978,null,182.58672717437676,185.78017543226835,184.69235113937773,null,191.86608564654617,194.22940114937717,193.54258695223933,null,193.6949269671855,194.0805559891706,193.8872298649674,null,5.239748286730265,6.0,6.760251713269735,null,38.19773308162486,40.973311985943226,39.055443492306566,null,38.33873308079778,39.98484098437822,39.75441260941048,null,55.6476525001332,57.872782300926076,57.67862039428621,null,93.45297078716177,98.03411094006377,96.03099198773121,null,116.0232209894648,121.30316006071244,118.44476713880758,null,123.3182295725823,127.10751950101603,124.6746310759237,null,143.5224989192982,148.08522627374947,144.36264126517688,null,150.33283698676678,154.92081185944875,151.63025121979504,null,158.87145615786224,163.2232172817092,161.1431174577212,null,177.68710581411315,182.45813366470884,180.1893351566767,null,182.05698953408708,185.25405084877042,184.26871869041696,null,193.6662259822036,196.16690416368414,195.2533211881369,null,193.8876811772674,194.34049783886462,194.16550626667538,null,4.895829815939032,6.0,7.104170184060968,null,35.547746707153706,38.13986576549946,36.57105112683913,null,35.91802524280142,37.497777396708614,37.668408332219315,null,53.7314451081118,55.88441935300911,55.99179188839402,null,98.53411426079228,103.72099753352435,101.25483662759763,null,116.09906468387003,121.39767379780682,118.540188146329,null,126.29509851195039,130.95694870805679,128.67316450661832,null,134.88967893528798,139.8995461852814,138.16250570730043,null,152.0788629048613,157.4240920826217,154.4203229573515,null,160.25750709187818,164.99657925167352,162.97050743220234,null,170.60450750314922,174.64433921010385,173.1128575562967,null,182.35149029366994,185.4308085468807,184.29451374613845,null,193.73090665530745,195.78584120341628,194.49813100486105,null,202.55714436253032,203.9370352174261,202.8855587665893,null,51.30153689607046,56.0,51.30153689607046,null,33.377947259889154,35.82718770331879,34.55013575159928,null,34.160645494791474,35.75758147004967,36.272446081112,null,69.16016426246412,73.13783490012891,71.82732237368502,null,102.98122933678358,108.70592246054657,105.84071197183185,null,116.14974391390639,121.55019535666082,118.76588735732747,null,127.47445765938741,132.46456435297526,130.225697589716,null,134.56890005739876,139.4946228191243,137.74953855270778,null,139.52116025237092,143.60309246767898,141.9335246499657,null,157.351330353065,161.6796598967407,159.86622238946433,null,165.61325001237788,169.01604351570745,167.90529724460032,null,183.16096958252055,186.00750655006505,184.53004669205362,null,204.73284816725482,208.0592195599883,205.73630559130086,null,211.57911075340235,214.0279794132672,212.14900360788064,null,6.0,6.0,6.0,null,35.17043748213441,37.984653441180114,36.66710607838332,null,37.363380629545205,39.27118878756043,39.436583407658944,null,73.52743893674918,78.00526265870423,76.28012602716227,null,92.23434910494282,96.81014599350267,95.03171394250478,null,105.75125007320867,109.96315716333908,108.16795566878749,null,126.86183750656988,131.51425405540667,129.11629706221277,null,138.72786736194482,143.54009664239533,140.9212185148417,null,144.76999953322863,149.2805650806341,146.97261477119662,null,153.99951306750842,157.654057967381,155.92340150174965,null,162.38779657063904,165.16260633005612,164.1480856126402,null,170.08666460528548,171.5357829673909,171.38069887607887,null,179.06542896325593,179.54317344137692,179.73089618040697,null,195.78963126712324,196.6772474482535,196.49789012268386,null,6.0,6.0,6.0,null,37.03746228343318,39.93231374436358,38.32936148051166,null,50.57498850900699,54.13134300782882,53.15248851582857,null,70.8655668624892,75.07367531884962,73.62978161980318,null,76.88463004794527,79.81636618701435,79.58765928320923,null,90.79867860143324,93.2651805081752,92.86276691921775,null,114.43819982614268,117.65237442985406,116.4213566904056,null,132.77660583197317,136.58251132410385,134.26490772464777,null,139.00741413072703,142.3754539298395,140.22271427093062,null,141.1736133783182,142.96665112580075,142.13481707328205,null,154.3144608130475,155.80941496585186,155.27286362297144,null,168.60695780048246,169.90713346181707,169.90919265418108,null,181.949778098619,182.95023783108425,183.02035717134848,null,196.26938393989627,197.2689965354471,197.09042317417948,null,6.0,6.0,6.0,null,40.84595701543101,44.02918050151402,41.94464117080722,null,45.88738054922381,49.09840745159995,48.72010784376987,null,52.63538728322734,55.10179493185755,55.66968614965595,null,68.72187968009531,70.70687165207066,71.24344553988703,null,88.35626373029322,90.45111027767017,90.20591353534346,null,100.3330897190033,101.79205812020986,101.7865986181572,null,121.73551906658989,124.13106365483569,122.74320585007739,null,121.34200890882114,122.77592375477478,122.37256591798291,null,138.3341531167409,139.98552596086097,139.5722952688064,null,154.93584153943468,156.71868972965234,156.29914466702323,null,167.12000372322143,168.33451696442472,168.54646896024258,null,180.86427476986097,181.9525695074857,182.29802416524487,null,202.25546774789362,204.2624231960219,203.77685840194187,null,6.0,6.0,6.0,null,32.294929027592936,34.230248513226854,32.73940199826626,null,41.108183835866626,43.53766673254545,43.422900522977905,null,64.98052176570485,68.84080572845967,68.2204838478897,null,91.77133123657036,96.43196175036991,94.80943871312559,null,99.21379352325309,102.85064271286683,101.81709878666696,null,112.41171194041523,115.3960743697759,114.35929015932359,null,118.53594703611857,120.8423771866807,119.98347582547946,null,126.11757957433385,128.61095938541175,128.17043852891766,null,153.26187454749862,157.0481447591647,155.56308803944637,null,162.4996133338048,165.61785929112204,164.86121520198537,null,183.79879386437176,187.38650222606034,186.39104735002732,null,207.1633429479874,211.4366396966583,209.4259037279638,null,214.08190681479323,217.54322024213505,216.01604003079098,null,6.0,6.0,6.0,null,16.0,16.0,16.0,null,30.0,30.0,30.0,null,45.0,45.0,45.0,null,82.78349775291237,86.25252194385769,85.35150147774192,null,97.1613376808597,100.53428238852163,99.67216732114363,null,113.33701298011802,116.42098124393026,115.29118338260238,null,125.04127284378939,128.3155120612264,127.01992982775037,null,133.228607250762,136.7777928645823,135.85821517971783,null,155.13588374336945,159.33482488372388,157.8326838048647,null,171.1883206329986,175.46560203794286,174.0172231583161,null,188.75045420669645,192.95984812594148,191.53863240442374,null,205.50542475765306,209.63372859622103,207.81683616882637,null,214.85955565455717,218.5348897220685,217.0353572523835,null],\"type\":\"scatter\"}],                        {\"hovermode\":\"closest\",\"template\":{\"data\":{\"bar\":[{\"error_x\":{\"color\":\"#2a3f5f\"},\"error_y\":{\"color\":\"#2a3f5f\"},\"marker\":{\"line\":{\"color\":\"#E5ECF6\",\"width\":0.5},\"pattern\":{\"fillmode\":\"overlay\",\"size\":10,\"solidity\":0.2}},\"type\":\"bar\"}],\"barpolar\":[{\"marker\":{\"line\":{\"color\":\"#E5ECF6\",\"width\":0.5},\"pattern\":{\"fillmode\":\"overlay\",\"size\":10,\"solidity\":0.2}},\"type\":\"barpolar\"}],\"carpet\":[{\"aaxis\":{\"endlinecolor\":\"#2a3f5f\",\"gridcolor\":\"white\",\"linecolor\":\"white\",\"minorgridcolor\":\"white\",\"startlinecolor\":\"#2a3f5f\"},\"baxis\":{\"endlinecolor\":\"#2a3f5f\",\"gridcolor\":\"white\",\"linecolor\":\"white\",\"minorgridcolor\":\"white\",\"startlinecolor\":\"#2a3f5f\"},\"type\":\"carpet\"}],\"choropleth\":[{\"colorbar\":{\"outlinewidth\":0,\"ticks\":\"\"},\"type\":\"choropleth\"}],\"contour\":[{\"colorbar\":{\"outlinewidth\":0,\"ticks\":\"\"},\"colorscale\":[[0.0,\"#0d0887\"],[0.1111111111111111,\"#46039f\"],[0.2222222222222222,\"#7201a8\"],[0.3333333333333333,\"#9c179e\"],[0.4444444444444444,\"#bd3786\"],[0.5555555555555556,\"#d8576b\"],[0.6666666666666666,\"#ed7953\"],[0.7777777777777778,\"#fb9f3a\"],[0.8888888888888888,\"#fdca26\"],[1.0,\"#f0f921\"]],\"type\":\"contour\"}],\"contourcarpet\":[{\"colorbar\":{\"outlinewidth\":0,\"ticks\":\"\"},\"type\":\"contourcarpet\"}],\"heatmap\":[{\"colorbar\":{\"outlinewidth\":0,\"ticks\":\"\"},\"colorscale\":[[0.0,\"#0d0887\"],[0.1111111111111111,\"#46039f\"],[0.2222222222222222,\"#7201a8\"],[0.3333333333333333,\"#9c179e\"],[0.4444444444444444,\"#bd3786\"],[0.5555555555555556,\"#d8576b\"],[0.6666666666666666,\"#ed7953\"],[0.7777777777777778,\"#fb9f3a\"],[0.8888888888888888,\"#fdca26\"],[1.0,\"#f0f921\"]],\"type\":\"heatmap\"}],\"heatmapgl\":[{\"colorbar\":{\"outlinewidth\":0,\"ticks\":\"\"},\"colorscale\":[[0.0,\"#0d0887\"],[0.1111111111111111,\"#46039f\"],[0.2222222222222222,\"#7201a8\"],[0.3333333333333333,\"#9c179e\"],[0.4444444444444444,\"#bd3786\"],[0.5555555555555556,\"#d8576b\"],[0.6666666666666666,\"#ed7953\"],[0.7777777777777778,\"#fb9f3a\"],[0.8888888888888888,\"#fdca26\"],[1.0,\"#f0f921\"]],\"type\":\"heatmapgl\"}],\"histogram\":[{\"marker\":{\"pattern\":{\"fillmode\":\"overlay\",\"size\":10,\"solidity\":0.2}},\"type\":\"histogram\"}],\"histogram2d\":[{\"colorbar\":{\"outlinewidth\":0,\"ticks\":\"\"},\"colorscale\":[[0.0,\"#0d0887\"],[0.1111111111111111,\"#46039f\"],[0.2222222222222222,\"#7201a8\"],[0.3333333333333333,\"#9c179e\"],[0.4444444444444444,\"#bd3786\"],[0.5555555555555556,\"#d8576b\"],[0.6666666666666666,\"#ed7953\"],[0.7777777777777778,\"#fb9f3a\"],[0.8888888888888888,\"#fdca26\"],[1.0,\"#f0f921\"]],\"type\":\"histogram2d\"}],\"histogram2dcontour\":[{\"colorbar\":{\"outlinewidth\":0,\"ticks\":\"\"},\"colorscale\":[[0.0,\"#0d0887\"],[0.1111111111111111,\"#46039f\"],[0.2222222222222222,\"#7201a8\"],[0.3333333333333333,\"#9c179e\"],[0.4444444444444444,\"#bd3786\"],[0.5555555555555556,\"#d8576b\"],[0.6666666666666666,\"#ed7953\"],[0.7777777777777778,\"#fb9f3a\"],[0.8888888888888888,\"#fdca26\"],[1.0,\"#f0f921\"]],\"type\":\"histogram2dcontour\"}],\"mesh3d\":[{\"colorbar\":{\"outlinewidth\":0,\"ticks\":\"\"},\"type\":\"mesh3d\"}],\"parcoords\":[{\"line\":{\"colorbar\":{\"outlinewidth\":0,\"ticks\":\"\"}},\"type\":\"parcoords\"}],\"pie\":[{\"automargin\":true,\"type\":\"pie\"}],\"scatter\":[{\"marker\":{\"colorbar\":{\"outlinewidth\":0,\"ticks\":\"\"}},\"type\":\"scatter\"}],\"scatter3d\":[{\"line\":{\"colorbar\":{\"outlinewidth\":0,\"ticks\":\"\"}},\"marker\":{\"colorbar\":{\"outlinewidth\":0,\"ticks\":\"\"}},\"type\":\"scatter3d\"}],\"scattercarpet\":[{\"marker\":{\"colorbar\":{\"outlinewidth\":0,\"ticks\":\"\"}},\"type\":\"scattercarpet\"}],\"scattergeo\":[{\"marker\":{\"colorbar\":{\"outlinewidth\":0,\"ticks\":\"\"}},\"type\":\"scattergeo\"}],\"scattergl\":[{\"marker\":{\"colorbar\":{\"outlinewidth\":0,\"ticks\":\"\"}},\"type\":\"scattergl\"}],\"scattermapbox\":[{\"marker\":{\"colorbar\":{\"outlinewidth\":0,\"ticks\":\"\"}},\"type\":\"scattermapbox\"}],\"scatterpolar\":[{\"marker\":{\"colorbar\":{\"outlinewidth\":0,\"ticks\":\"\"}},\"type\":\"scatterpolar\"}],\"scatterpolargl\":[{\"marker\":{\"colorbar\":{\"outlinewidth\":0,\"ticks\":\"\"}},\"type\":\"scatterpolargl\"}],\"scatterternary\":[{\"marker\":{\"colorbar\":{\"outlinewidth\":0,\"ticks\":\"\"}},\"type\":\"scatterternary\"}],\"surface\":[{\"colorbar\":{\"outlinewidth\":0,\"ticks\":\"\"},\"colorscale\":[[0.0,\"#0d0887\"],[0.1111111111111111,\"#46039f\"],[0.2222222222222222,\"#7201a8\"],[0.3333333333333333,\"#9c179e\"],[0.4444444444444444,\"#bd3786\"],[0.5555555555555556,\"#d8576b\"],[0.6666666666666666,\"#ed7953\"],[0.7777777777777778,\"#fb9f3a\"],[0.8888888888888888,\"#fdca26\"],[1.0,\"#f0f921\"]],\"type\":\"surface\"}],\"table\":[{\"cells\":{\"fill\":{\"color\":\"#EBF0F8\"},\"line\":{\"color\":\"white\"}},\"header\":{\"fill\":{\"color\":\"#C8D4E3\"},\"line\":{\"color\":\"white\"}},\"type\":\"table\"}]},\"layout\":{\"annotationdefaults\":{\"arrowcolor\":\"#2a3f5f\",\"arrowhead\":0,\"arrowwidth\":1},\"autotypenumbers\":\"strict\",\"coloraxis\":{\"colorbar\":{\"outlinewidth\":0,\"ticks\":\"\"}},\"colorscale\":{\"diverging\":[[0,\"#8e0152\"],[0.1,\"#c51b7d\"],[0.2,\"#de77ae\"],[0.3,\"#f1b6da\"],[0.4,\"#fde0ef\"],[0.5,\"#f7f7f7\"],[0.6,\"#e6f5d0\"],[0.7,\"#b8e186\"],[0.8,\"#7fbc41\"],[0.9,\"#4d9221\"],[1,\"#276419\"]],\"sequential\":[[0.0,\"#0d0887\"],[0.1111111111111111,\"#46039f\"],[0.2222222222222222,\"#7201a8\"],[0.3333333333333333,\"#9c179e\"],[0.4444444444444444,\"#bd3786\"],[0.5555555555555556,\"#d8576b\"],[0.6666666666666666,\"#ed7953\"],[0.7777777777777778,\"#fb9f3a\"],[0.8888888888888888,\"#fdca26\"],[1.0,\"#f0f921\"]],\"sequentialminus\":[[0.0,\"#0d0887\"],[0.1111111111111111,\"#46039f\"],[0.2222222222222222,\"#7201a8\"],[0.3333333333333333,\"#9c179e\"],[0.4444444444444444,\"#bd3786\"],[0.5555555555555556,\"#d8576b\"],[0.6666666666666666,\"#ed7953\"],[0.7777777777777778,\"#fb9f3a\"],[0.8888888888888888,\"#fdca26\"],[1.0,\"#f0f921\"]]},\"colorway\":[\"#636efa\",\"#EF553B\",\"#00cc96\",\"#ab63fa\",\"#FFA15A\",\"#19d3f3\",\"#FF6692\",\"#B6E880\",\"#FF97FF\",\"#FECB52\"],\"font\":{\"color\":\"#2a3f5f\"},\"geo\":{\"bgcolor\":\"white\",\"lakecolor\":\"white\",\"landcolor\":\"#E5ECF6\",\"showlakes\":true,\"showland\":true,\"subunitcolor\":\"white\"},\"hoverlabel\":{\"align\":\"left\"},\"hovermode\":\"closest\",\"mapbox\":{\"style\":\"light\"},\"paper_bgcolor\":\"white\",\"plot_bgcolor\":\"#E5ECF6\",\"polar\":{\"angularaxis\":{\"gridcolor\":\"white\",\"linecolor\":\"white\",\"ticks\":\"\"},\"bgcolor\":\"#E5ECF6\",\"radialaxis\":{\"gridcolor\":\"white\",\"linecolor\":\"white\",\"ticks\":\"\"}},\"scene\":{\"xaxis\":{\"backgroundcolor\":\"#E5ECF6\",\"gridcolor\":\"white\",\"gridwidth\":2,\"linecolor\":\"white\",\"showbackground\":true,\"ticks\":\"\",\"zerolinecolor\":\"white\"},\"yaxis\":{\"backgroundcolor\":\"#E5ECF6\",\"gridcolor\":\"white\",\"gridwidth\":2,\"linecolor\":\"white\",\"showbackground\":true,\"ticks\":\"\",\"zerolinecolor\":\"white\"},\"zaxis\":{\"backgroundcolor\":\"#E5ECF6\",\"gridcolor\":\"white\",\"gridwidth\":2,\"linecolor\":\"white\",\"showbackground\":true,\"ticks\":\"\",\"zerolinecolor\":\"white\"}},\"shapedefaults\":{\"line\":{\"color\":\"#2a3f5f\"}},\"ternary\":{\"aaxis\":{\"gridcolor\":\"white\",\"linecolor\":\"white\",\"ticks\":\"\"},\"baxis\":{\"gridcolor\":\"white\",\"linecolor\":\"white\",\"ticks\":\"\"},\"bgcolor\":\"#E5ECF6\",\"caxis\":{\"gridcolor\":\"white\",\"linecolor\":\"white\",\"ticks\":\"\"}},\"title\":{\"x\":0.05},\"xaxis\":{\"automargin\":true,\"gridcolor\":\"white\",\"linecolor\":\"white\",\"ticks\":\"\",\"title\":{\"standoff\":15},\"zerolinecolor\":\"white\",\"zerolinewidth\":2},\"yaxis\":{\"automargin\":true,\"gridcolor\":\"white\",\"linecolor\":\"white\",\"ticks\":\"\",\"title\":{\"standoff\":15},\"zerolinecolor\":\"white\",\"zerolinewidth\":2}}}},                        {\"responsive\": true}                    ).then(function(){\n",
              "                            \n",
              "var gd = document.getElementById('b0518ef8-0347-4bf1-b51b-cb152be4e957');\n",
              "var x = new MutationObserver(function (mutations, observer) {{\n",
              "        var display = window.getComputedStyle(gd).display;\n",
              "        if (!display || display === 'none') {{\n",
              "            console.log([gd, 'removed!']);\n",
              "            Plotly.purge(gd);\n",
              "            observer.disconnect();\n",
              "        }}\n",
              "}});\n",
              "\n",
              "// Listen for the removal of the full notebook cells\n",
              "var notebookContainer = gd.closest('#notebook-container');\n",
              "if (notebookContainer) {{\n",
              "    x.observe(notebookContainer, {childList: true});\n",
              "}}\n",
              "\n",
              "// Listen for the clearing of the current output cell\n",
              "var outputEl = gd.closest('.output');\n",
              "if (outputEl) {{\n",
              "    x.observe(outputEl, {childList: true});\n",
              "}}\n",
              "\n",
              "                        })                };                            </script>        </div>\n",
              "</body>\n",
              "</html>"
            ]
          },
          "metadata": {}
        }
      ]
    },
    {
      "cell_type": "code",
      "source": [
        "tampilan_vektor(angin_pred,50,0.1)"
      ],
      "metadata": {
        "colab": {
          "base_uri": "https://localhost:8080/",
          "height": 542
        },
        "id": "1KoWQsNMS91g",
        "outputId": "497fc7b3-2273-464d-e32f-7c886d337587"
      },
      "execution_count": 25,
      "outputs": [
        {
          "output_type": "display_data",
          "data": {
            "text/html": [
              "<html>\n",
              "<head><meta charset=\"utf-8\" /></head>\n",
              "<body>\n",
              "    <div>            <script src=\"https://cdnjs.cloudflare.com/ajax/libs/mathjax/2.7.5/MathJax.js?config=TeX-AMS-MML_SVG\"></script><script type=\"text/javascript\">if (window.MathJax) {MathJax.Hub.Config({SVG: {font: \"STIX-Web\"}});}</script>                <script type=\"text/javascript\">window.PlotlyConfig = {MathJaxConfig: 'local'};</script>\n",
              "        <script src=\"https://cdn.plot.ly/plotly-2.8.3.min.js\"></script>                <div id=\"57ac4e29-c52a-4fbd-82d9-18b1e441686d\" class=\"plotly-graph-div\" style=\"height:525px; width:100%;\"></div>            <script type=\"text/javascript\">                                    window.PLOTLYENV=window.PLOTLYENV || {};                                    if (document.getElementById(\"57ac4e29-c52a-4fbd-82d9-18b1e441686d\")) {                    Plotly.newPlot(                        \"57ac4e29-c52a-4fbd-82d9-18b1e441686d\",                        [{\"mode\":\"lines\",\"x\":[1,26.99940112251519,null,1,16.271197516668256,null,1,18.29000523565345,null,1,22.574514356988995,null,1,21.30011757977259,null,1,23.128946130321943,null,1,24.577721704007836,null,1,27.714716228279027,null,1,22.155726027915296,null,1,14.577864999851268,null,1,10.884552650435555,null,1,17.395134992379223,null,1,21.29818606664802,null,1,25.957571927551626,null,11,29.9105184968843,null,11,32.811609702234705,null,11,33.311429333555154,null,11,37.55681126110211,null,11,43.321714124441165,null,11,43.928880385462314,null,11,41.953815234874,null,11,43.177629764460114,null,11,41.61097735550628,null,11,37.20277717425368,null,11,35.73311401823416,null,11,41.399680434524626,null,11,38.93194831754473,null,11,29.324023664782388,null,20,68.98007448871675,null,20,40.007198813625834,null,20,39.831523731197855,null,20,47.622528527932545,null,20,54.152001122244634,null,20,54.930387920501,null,20,52.55284969865879,null,20,53.75583239614397,null,20,47.761509224840175,null,20,51.49276632271225,null,20,54.08488855789243,null,20,53.386378314116534,null,20,49.247458380433386,null,20,34.09430514456075,null,30,51.814618659589634,null,30,48.4048944543825,null,30,55.17810861174776,null,30,60.570578793746364,null,30,66.00103236599205,null,30,63.91269758875443,null,30,57.75283208581422,null,30,58.37837289655581,null,30,55.2054139961522,null,30,64.72684331133644,null,30,67.7893670726396,null,30,65.0704216801001,null,30,59.69382426481355,null,30,46.91948696102299,null,39,70.69409132371835,null,39,61.01308849149366,null,39,67.84459722052368,null,39,71.84299069275048,null,39,75.56621099970894,null,39,69.96032581347399,null,39,65.89482472865078,null,39,68.27667187799148,null,39,72.8599782438965,null,39,79.38792899914178,null,39,76.95719895578587,null,39,71.24607265182246,null,39,60.7527831022391,null,39,56.24492918251491,null,49,49.83333382934914,null,49,71.69935322109484,null,49,81.05350484814136,null,49,85.62930108692902,null,49,84.43399966426853,null,49,80.60334068750723,null,49,77.20011403507911,null,49,78.96383596078604,null,49,81.70292449117795,null,49,86.55768757180707,null,49,85.04731346550072,null,49,77.07076475556624,null,49,74.31465696966204,null,49,71.11105951160928,null,59,59.97039030182473,null,59,85.23707241289247,null,59,89.61446723890172,null,59,93.7930829682999,null,59,92.99234373185776,null,59,91.3512379232032,null,59,90.23639364613776,null,59,88.82503752025846,null,59,91.31349982987481,null,59,89.88902034857941,null,59,90.32027475219928,null,59,87.94141527008284,null,59,79.800988622608,null,59,82.02153140378759,null,69,69.88883997152999,null,69,92.65815063953362,null,69,104.18642032036388,null,69,101.18259985188514,null,69,104.67945325497064,null,69,98.60727373421307,null,69,98.83349866493984,null,69,93.58068316132774,null,69,92.10083169859972,null,69,90.37873399369067,null,69,91.78832756342554,null,69,96.03819522338777,null,69,92.46393499628243,null,69,91.16818613834849,null,79,79.91202733708397,null,79,101.86946428223384,null,79,114.68473465365372,null,79,117.7751140024543,null,79,112.90431088339227,null,79,106.1098375682704,null,79,102.63529714767884,null,79,98.59260401380753,null,79,99.37938743371996,null,79,102.38687135986787,null,79,104.0667209451656,null,79,105.24080130173189,null,79,104.86352501405625,null,79,107.24783416731412,null,87,87.96280813452026,null,87,103.91528028143767,null,87,113.39765250971153,null,87,128.32922662356606,null,87,128.57676900631355,null,87,123.65793925841604,null,87,115.95008221941463,null,87,108.73372226777441,null,87,114.06907678071215,null,87,117.71468098491793,null,87,118.6275451756436,null,87,120.12701693244655,null,87,119.15373816843834,null,87,118.61593074151997,null,97,97.97378924433042,null,97,98.0136854244155,null,97,98.00524604672215,null,97,97.97948545629997,null,97,133.3869012962947,null,97,133.29198070448174,null,97,126.50208729908883,null,97,122.11843411502424,null,97,130.13751912996042,null,97,131.51336967363895,null,97,133.5350561804423,null,97,132.26602360156247,null,97,128.9852117989672,null,97,130.29236464565133,null,25.672995271141758,26.99940112251519,23.43951789795255,null,15.7148318185233,16.271197516668256,13.957516891417763,null,17.387699102523214,18.29000523565345,15.942853302125028,null,21.26405908262087,22.574514356988995,19.83028724369668,null,20.01971470751701,21.30011757977259,18.76534631386845,null,21.777166717478412,23.128946130321943,20.32184406627899,null,23.106609598737755,24.577721704007836,21.61767158923793,null,25.753454984881117,27.714716228279027,24.655253130456266,null,20.71464053661015,22.155726027915296,19.620835592060367,null,14.015919893319483,14.577864999851268,12.588006197105553,null,10.951740408049666,10.884552650435555,8.959676655744628,null,16.70014060659288,17.395134992379223,15.008851904340048,null,20.355350511797383,21.29818606664802,18.42621048906496,null,24.82072740927107,25.957571927551626,22.403927211221422,null,29.060128498988178,29.9105184968843,27.206893557428902,null,31.556811592712997,32.811609702234705,29.967166074825958,null,32.21218545753459,33.311429333555154,30.217496108790115,null,36.07958017011475,37.55681126110211,34.04299443735712,null,41.29365895513928,43.321714124441165,39.27527404296525,null,41.80304575084575,43.928880385462314,39.866109838286725,null,40.100560302369736,41.953815234874,37.989655815101955,null,41.224714276837815,43.177629764460114,39.08312900327358,null,39.715297433261476,41.61097735550628,37.75367537054833,null,35.655156635411444,37.20277717425368,33.8258864421472,null,34.403447140581015,35.73311401823416,32.41447594948907,null,39.79500340588041,41.399680434524626,37.291086387454335,null,37.27371692345951,38.93194831754473,35.34069056799592,null,28.322577511442923,29.324023664782388,26.881679853941378,null,64.88584764256171,68.98007448871675,63.86905842235355,null,38.88457652928099,40.007198813625834,37.369697680418525,null,38.63998172347614,39.831523731197855,37.29595843709012,null,46.00043313320129,47.622528527932545,44.05328667763451,null,51.770111080612985,54.152001122244634,50.11541447594722,null,52.40241122252772,54.930387920501,50.893599064457476,null,50.36160492560868,52.55284969865879,48.62615994223241,null,51.66579470227792,53.75583239614397,49.501848767781546,null,46.22265082342662,47.761509224840175,44.08291055416128,null,49.58067444484558,51.49276632271225,47.48615417626139,null,51.76670179116048,54.08488855789243,49.997211672992066,null,51.003505179985865,53.386378314116534,49.494664780938805,null,47.17933622846694,49.247458380433386,45.818856369032595,null,33.145104568286484,34.09430514456075,32.39464281294529,null,49.79664197250228,51.814618659589634,49.732788110742,null,47.54548484807406,48.4048944543825,45.80531535966559,null,53.54681674015235,55.17810861174776,52.07746390978207,null,58.46374532743477,60.570578793746364,56.932022798930426,null,63.666857015638165,66.00103236599205,61.56922682534645,null,61.77064854451109,63.91269758875443,59.68124429797845,null,55.992983795225456,57.75283208581422,54.29685407301298,null,57.056027296924654,58.37837289655581,54.3673289760261,null,53.898344249716175,55.2054139961522,51.775415435380616,null,62.3351680334154,64.72684331133644,60.59200690868721,null,65.43324776621226,67.7893670726396,63.04340850260107,null,62.53159443317442,65.0704216801001,61.018165634897734,null,57.66317287237732,59.69382426481355,56.14386214833801,null,45.742423217763424,46.91948696102299,44.916727295331214,null,67.74882852828772,70.69409132371835,67.68281337126642,null,59.67108615467678,61.01308849149366,58.21798346507778,null,65.83310938393656,67.84459722052368,64.43507402557724,null,69.44025180319953,71.84299069275048,68.07326638259785,null,73.35612669419268,75.56621099970894,70.9040955759198,null,68.17014991956827,69.96032581347399,65.9318637665699,null,64.45462261350218,65.89482472865078,62.28045317683066,null,66.73540917796461,68.27667187799148,64.31572007303456,null,70.95642654282875,72.8599782438965,68.39993560581208,null,76.63144512730413,79.38792899914178,74.55396510111568,null,74.29140218263264,76.95719895578587,72.48937577604819,null,68.97386880655795,71.24607265182246,67.45799719303821,null,59.50957033023397,60.7527831022391,57.90780992169813,null,55.27052341760677,56.24492918251491,53.97834840766608,null,51.430738063374704,49.83333382934914,48.07931406530544,null,70.18460125801052,71.69935322109484,68.94802224048402,null,78.54810587448125,81.05350484814136,77.53481542657671,null,83.27222070654489,85.62930108692902,81.10232468012666,null,82.43271828325534,84.43399966426853,79.77586744339301,null,78.75197007392585,80.60334068750723,76.51522609384187,null,75.5258176215158,77.20011403507911,73.57452263582543,null,77.02434537344485,78.96383596078604,75.27196743956922,null,79.34623159562113,81.70292449117795,77.91347802223905,null,84.02854964121187,86.55768757180707,82.02828912940032,null,82.4162220608095,85.04731346550072,80.90372597765443,null,75.27401062518143,77.07076475556624,73.5919407858265,null,73.01228619610782,74.31465696966204,70.85942847279266,null,69.92976264411139,71.11105951160928,68.13683648694372,null,59.91076733061673,59.97039030182473,59.847639551851344,null,83.48610822196181,85.23707241289247,82.05707993633902,null,87.3448359145551,89.61446723890172,86.13046077251077,null,91.6922852597619,93.7930829682999,89.35492001289724,null,90.83179385222732,92.99234373185776,88.76442269787923,null,89.26468050883675,91.3512379232032,87.35775142762499,null,88.42123365269319,90.23639364613776,86.18103191773442,null,87.21493175718811,88.82503752025846,84.82986974883886,null,89.40855212836813,91.31349982987481,87.14549606300149,null,87.96944667819409,89.88902034857941,86.00335712199156,null,88.1484061553276,90.32027475219928,86.60585713594519,null,85.77353993677742,87.94141527008284,84.67008373050878,null,78.12372871340743,79.800988622608,77.5689414290653,null,80.2599374786934,82.02153140378759,79.45649269301573,null,69.8330111569413,69.88883997152999,69.77762151365744,null,91.19129966987607,92.65815063953362,89.67872369370893,null,101.945848329708,104.18642032036388,99.8141084056363,null,99.21243288138544,101.18259985188514,97.10441650268042,null,102.04675098486766,104.67945325497064,100.60661173759928,null,96.48726678887267,98.60727373421307,95.16293334962776,null,96.88227769919376,98.83349866493984,95.17785592115187,null,92.39537997814901,93.58068316132774,90.14632902839125,null,90.97321409397198,92.10083169859972,88.8869130869892,null,88.96301615750475,90.37873399369067,87.7765641147534,null,90.2102800347579,91.78832756342554,89.08357044181257,null,94.123686159898,96.03819522338777,92.8711857807203,null,90.65476609168273,92.46393499628243,89.86332658676076,null,89.45507778755237,91.16818613834849,88.7150383030617,null,79.85599416094546,79.91202733708397,79.79665544149991,null,100.55966536503794,101.86946428223384,98.88120983396132,null,112.22251977951005,114.68473465365372,110.44041316204907,null,114.7517147459582,117.7751140024543,113.51117555930267,null,110.29978443390915,112.90431088339227,109.13691118288436,null,104.25553731902713,106.1098375682704,102.869154954792,null,100.92436959087628,102.63529714767884,99.90424184053019,null,97.62449904947879,98.59260401380753,95.87850389538521,null,98.07951788289284,99.37938743371996,96.84918498702633,null,100.91064083429566,102.38687135986787,99.46780779741265,null,102.52910846148858,104.0667209451656,100.89333088894828,null,103.50087089975366,105.24080130173189,102.04907423436077,null,103.01619873243769,104.86352501405625,101.85009857503073,null,105.17308819254089,107.24783416731412,104.01372387804552,null,87.88441620180355,87.96280813452026,87.8602513273887,null,102.99059846585513,103.91528028143767,101.66092928522174,null,111.50527531598543,113.39765250971153,110.32889384954834,null,125.30866626533413,128.32922662356606,123.58243312560728,null,125.85049920597511,128.57676900631355,123.48916220038137,null,121.10155983971093,123.65793925841604,119.32487967425082,null,114.08267572012264,115.95008221941463,112.37665299216076,null,107.49459245677151,108.73372226777441,105.88824839132971,null,112.28409552703927,114.06907678071215,110.76673569392057,null,115.88311806863136,117.71468098491793,113.77377208694037,null,116.601377032202,118.6275451756436,114.70967915606016,null,118.18754594079498,120.12701693244655,115.84064525208414,null,117.24077185254973,119.15373816843834,115.0237783868142,null,116.4852699786046,118.61593074151997,114.80474014101841,null,97.91535690477566,97.97378924433042,97.84920907046558,null,97.95035590736285,98.0136854244155,97.88650439884385,null,97.94370063698065,98.00524604672215,97.87786699802786,null,97.92048719439876,97.97948545629997,97.85440066711074,null,130.87707057395485,133.3869012962947,129.0582314903559,null,130.73604602050665,133.29198070448174,129.02725409611563,null,124.44357202517989,126.50208729908883,123.01602382645068,null,120.57001920814677,122.11843411502424,118.94612758518464,null,127.97001498040217,130.13751912996042,126.07720684000354,null,129.259989376381,131.51336967363895,127.28035821074198,null,131.13393278101051,133.5350561804423,129.06983504132202,null,129.90503466815147,132.26602360156247,127.99916810640347,null,126.87247613341584,128.9852117989672,125.0866939641658,null,128.0592162891653,130.29236464565133,126.2685951249309,null],\"y\":[6,38.65125485697655,null,16,41.6902255817172,null,30,51.12223254380689,null,45,65.96034205738236,null,63,81.33763914387585,null,78,99.27539385616939,null,94,115.76681751872832,null,104,120.05463707117319,null,113,128.99035854897403,null,129,149.87470174021712,null,145,174.1220238219743,null,163,187.72498674796472,null,178,206.20214043497887,null,191,226.3312552668629,null,6,33.092482383334946,null,16,39.23906279948823,null,30,59.16040747408765,null,45,74.77289163373064,null,63,92.50681343718605,null,78,106.31610871986989,null,94,124.8593591409877,null,104,135.30788223085796,null,113,141.67699609208844,null,129,155.7421412007659,null,145,174.07681360156118,null,163,199.60481798058697,null,178,206.25895481867823,null,191,212.0645145559385,null,6,20.86446398041508,null,16,38.14604722009038,null,30,49.64830599328543,null,45,73.46537687274056,null,63,87.1900460682835,null,78,100.05735813392667,null,94,119.37050839318246,null,104,135.63477322497766,null,113,144.2809100724207,null,129,159.61983788758613,null,145,170.86821496772953,null,163,185.05777098938805,null,178,197.88888499673695,null,191,201.9710169121034,null,6,6.9334810099105395,null,16,41.43957603619117,null,30,51.480501354143605,null,45,67.39228534334971,null,63,93.66530190144924,null,78,108.54504664865784,null,94,118.79575772526107,null,104,143.3061399067715,null,113,144.03514304293657,null,129,154.48331083336748,null,145,179.93711277314458,null,163,185.1248488986745,null,178,200.21083690080548,null,191,203.07086685602007,null,6,6.965077032881686,null,16,37.242940188691875,null,30,50.43790966177267,null,45,64.98398993856988,null,63,98.84629686471538,null,78,110.72155451480387,null,94,125.78423082820153,null,104,139.37348826010606,null,113,150.37339725313217,null,129,159.3707262091037,null,145,171.34386368390835,null,163,185.16056046845668,null,178,201.41617065242053,null,191,209.8903348992268,null,6,54.99454116183533,null,16,34.077575862966484,null,30,44.813315351132566,null,45,76.72175774969018,null,63,101.84056088083224,null,78,110.69900945503906,null,94,122.52602432588817,null,104,129.61805156907104,null,113,133.94545601101967,null,129,158.24185242953536,null,145,167.11121351579123,null,163,187.59021598843788,null,178,209.4726744217698,null,191,217.21082693747164,null,6,6.922866386633726,null,16,36.89099594730715,null,30,47.7529769187894,null,45,79.169993967856,null,63,93.22294438926598,null,78,105.87743819222936,null,94,126.74955844962722,null,104,138.8672739733667,null,113,146.08366640867382,null,129,157.74230647769815,null,145,167.5505580516877,null,163,179.13145055637767,null,178,186.11044751557029,null,191,202.74557699826235,null,6,6.8097424137841065,null,16,38.112381473492405,null,30,61.16395285002061,null,45,75.81713781836791,null,63,84.05342734005406,null,78,97.36045968473707,null,94,118.9169794718635,null,104,136.87892531546373,null,113,143.49968032140455,null,129,146.3447685158946,null,145,161.4713923277976,null,163,181.3103305992285,null,178,189.5700715347686,null,191,201.81865350524117,null,6,6.867474045074691,null,16,40.53737833619952,null,30,56.052655848461,null,45,63.13546966259074,null,63,80.00006964089116,null,78,98.2675542842959,null,94,108.91327002595185,null,104,129.52474157101122,null,113,130.98626367299943,null,129,150.09280790969618,null,145,168.913468321407,null,163,184.22384739208906,null,178,195.04724385628683,null,191,207.94877242056805,null,6,6.35326683071758,null,16,35.43846300548579,null,30,47.19754653919551,null,45,70.2358402482033,null,63,97.52043763611444,null,78,103.97332642727378,null,94,118.94038379396596,null,104,127.48317923357322,null,113,135.18231678351592,null,129,159.8365753136723,null,145,172.65477287021338,null,163,197.30939280199257,null,178,210.41027625125176,null,191,215.56770266869935,null,6,6.967016645085546,null,16,16.933446607824525,null,30,30.962423416244658,null,45,45.966120396381086,null,63,89.58964857907613,null,78,102.98086673748806,null,94,114.86935852444678,null,104,127.73970736302327,null,113,140.67100384781003,null,129,157.94027156397635,null,145,175.1750902683393,null,163,190.86190519681244,null,178,204.10638882093036,null,191,217.17713019506868,null,34.69380864229604,38.65125485697655,36.47227242195688,null,38.75382832483015,41.6902255817172,39.79843975751125,null,48.54603893133298,51.12223254380689,49.728744945092934,null,63.25282233207938,65.96034205738236,64.7286060305912,null,78.92015981284618,81.33763914387585,80.30876963767852,null,96.51930626235989,99.27539385616939,98.03301532778764,null,112.91500016304433,115.76681751872832,114.52781131434382,null,117.6322975653254,120.05463707117319,119.45969177998552,null,126.76418791093224,128.99035854897403,128.21132480057747,null,147.44873108824768,149.87470174021712,148.37751175490882,null,171.04737712176703,174.1220238219743,171.72352034460943,null,184.8408513463618,187.72498674796472,185.96234463034926,null,202.85776725849053,206.20214043497887,204.24624496004373,null,222.15760404835328,226.3312552668629,223.86480251389767,null,29.899843981229033,33.092482383334946,31.193399630562446,null,36.3093042291701,39.23906279948823,37.80130620447448,null,55.6571296759903,59.16040747408765,57.18332132768291,null,71.06685853758363,74.77289163373064,72.88345141634261,null,88.62861222246576,92.50681343718605,90.8395476819403,null,102.5290308396276,106.31610871986989,104.78149891742552,null,120.90084510198008,124.8593591409877,123.01821076660165,null,131.2653638859887,135.30788223085796,133.4664433947729,null,137.93528284443735,141.67699609208844,140.02919701693116,null,152.33301416526157,155.7421412007659,154.12538968619532,null,170.49856456368508,174.07681360156118,172.1904092039664,null,195.12535994050302,199.60481798058697,197.20482055235715,null,202.64815279056162,206.25895481867823,204.55881058394797,null,209.45837914706004,212.0645145559385,210.7118161870864,null,17.792444059308398,20.86446398041508,21.142878478654968,null,35.38071300428271,38.14604722009038,36.749286005439004,null,47.12369111911098,49.64830599328543,48.48024723689311,null,69.84576029660606,73.46537687274056,71.73525252983423,null,83.74885805773093,87.1900460682835,86.08499252146862,null,96.78995483837929,100.05735813392667,99.17933409497748,null,115.87308740895699,119.37050839318246,118.09983347287583,null,131.50755946558232,135.63477322497766,133.81659439242358,null,140.3919664993669,144.2809100724207,142.29096557217025,null,155.665398271182,159.61983788758613,157.81963036146516,null,167.27162604894065,170.86821496772953,169.6031697429026,null,181.84313713680478,185.05777098938805,184.1268999160286,null,195.0196191593089,197.88888499673695,197.02026314074635,null,200.45802492205948,201.9710169121034,201.42213217518315,null,6.099658588190103,6.9334810099105395,7.591866388299634,null,38.41955338455991,41.43957603619117,39.678522312396254,null,48.600852461210636,51.480501354143605,50.32313652442248,null,64.24252343932332,67.39228534334971,66.33367418744048,null,89.55239828538399,93.66530190144924,92.0150139353217,null,104.51486858594075,108.54504664865784,106.83463372391392,null,115.51651590837042,118.79575772526107,117.41492142990711,null,138.6419734280314,143.3061399067715,140.58316846111725,null,140.25671762193363,144.03514304293657,141.98086948344297,null,150.90093492637746,154.48331083336748,153.27639091169573,null,175.3616255924586,179.93711277314458,177.94657054093273,null,181.84631410911376,185.1248488986745,184.24527223901768,null,197.10811234399497,200.21083690080548,199.13928955018272,null,201.35789586937037,203.07086685602007,202.51525694045154,null,5.7903876905413,6.965077032881686,7.9583912219642965,null,34.49386480669073,37.242940188691875,35.99964874287099,null,47.53083104487352,50.43790966177267,49.50391769998046,null,61.98281271225867,64.98398993856988,64.2294055890543,null,94.22720872738826,98.84629686471538,96.72848487278769,null,106.58782867577,110.72155451480387,108.70563969019675,null,121.87763293069864,125.78423082820153,123.71734729238102,null,135.04814651997728,139.37348826010606,137.05078882233911,null,145.70336723068715,150.37339725313217,148.01952615308346,null,155.13546295195198,159.3707262091037,157.89816000493465,null,167.57013759052262,171.34386368390835,170.16656291594236,null,181.97526831498118,185.16056046845668,184.18102959299443,null,198.47178137607023,201.41617065242053,199.95975937494222,null,207.5254127532645,209.8903348992268,208.70503538339347,null,50.362058587403304,54.99454116183533,50.41906197855373,null,31.602475794745892,34.077575862966484,33.15520300316166,null,42.325024606424044,44.813315351132566,44.51761347087431,null,72.48809170134892,76.72175774969018,74.99368346288303,null,96.97882787176437,101.84056088083224,99.40265620051933,null,106.54540975469706,110.69900945503906,108.70720557699929,null,118.88095416554073,122.52602432588817,120.80995557435632,null,126.18591862024466,129.61805156907104,128.23556571422364,null,130.85872107360044,133.94545601101967,133.09573285792868,null,154.20946856629186,158.24185242953536,156.77856570354987,null,163.80054836625257,167.11121351579123,166.26632982984776,null,184.3194148391552,187.59021598843788,186.2395682361472,null,205.64939817021596,209.4726744217698,207.38102269121674,null,213.99157209736347,217.21082693747164,215.5040576460121,null,6.802956010273426,6.922866386633726,6.869334616295812,null,34.03052374734152,36.89099594730715,35.825245200762204,null,45.03766633074369,47.7529769187894,47.13181922532132,null,74.7690713271107,79.169993967856,77.14905837182265,null,89.22030997964983,93.22294438926598,91.54552323467891,null,102.15133839353837,105.87743819222936,104.36429339978972,null,122.60375902553317,126.74955844962722,124.74045419189898,null,134.57074560666015,138.8672739733667,136.6108983281346,null,141.8696319050797,146.08366640867382,144.08000547371324,null,153.9849464308711,157.74230647769815,156.09787986423322,null,164.36028226613553,167.5505580516877,166.50271523808482,null,176.62573535146544,179.13145055637767,178.60544475120975,null,184.636879036403,186.11044751557029,186.059750458407,null,200.85447104801838,202.74557699826235,202.42923654207834,null,6.70325139924145,6.8097424137841065,6.764051634132704,null,35.225340896372664,38.112381473492405,36.84365371088337,null,57.03205274514337,61.16395285002061,59.43894564936098,null,71.8205643768082,75.81713781836791,74.02198385959508,null,80.8547431370793,84.05342734005406,83.2953614802886,null,94.52854317405424,97.36045968473707,96.5537999752658,null,115.55518354873621,118.9169794718635,117.59591504659397,null,132.9486080878445,136.87892531546373,134.63002584342053,null,139.84355289111951,143.49968032140455,141.42374284481897,null,143.98369765106767,146.3447685158946,145.44608918399635,null,159.14418103940798,161.4713923277976,160.702994451287,null,178.6649616038469,181.3103305992285,180.514483084961,null,187.6803266094086,189.5700715347686,189.28535429149116,null,200.04383599863888,201.81865350524117,201.56022923870051,null,6.754764977132053,6.867474045074691,6.817151321241331,null,37.44943725544456,40.53737833619952,39.01380074576274,null,52.384017197115526,56.052655848461,54.824996809271745,null,60.10510595608956,63.13546966259074,62.75747996580727,null,77.24298991468237,80.00006964089116,79.56218136822154,null,95.43581611099928,98.2675542842959,97.29023821712637,null,106.70350627463499,108.91327002595185,108.32025581823378,null,126.45609391754401,129.52474157101122,127.79630696412912,null,128.59909164699968,130.98626367299943,129.99312384919372,null,147.31085420581246,150.09280790969618,148.91061042470065,null,165.80900500046764,168.913468321407,167.52366969854165,null,181.33196985196594,184.22384739208906,183.1269463764057,null,192.5607422774163,195.04724385628683,194.32991158385923,null,205.38997595401486,207.94877242056805,207.32224161212375,null,6.287140629701832,6.35326683071758,6.3530005849345805,null,33.03330832229318,35.43846300548579,34.19038163954342,null,44.67865289186181,47.19754653919551,46.48435867082836,null,66.45090416081332,70.2358402482033,69.27798976347955,null,92.85456833536298,97.52043763611444,95.69858683427451,null,100.27885674525778,103.97332642727378,102.78640747309521,null,115.60660320589272,118.94038379396596,117.58690545988755,null,124.53314512923261,127.48317923357322,126.0198192902375,null,132.17204389215212,135.18231678351592,134.02367779619865,null,155.88838112714924,159.8365753136723,157.989389045682,null,168.97434851724714,172.65477287021338,171.13780002404965,null,192.9523537701061,197.30939280199257,195.21837518594353,null,206.26498389447582,210.41027625125176,208.46442912184088,null,212.17776526159653,215.56770266869935,214.34042229431435,null,6.842841250837655,6.967016645085546,6.909452358220631,null,16.811061235482917,16.933446607824525,16.880401402312064,null,30.837603758315243,30.962423416244658,30.90636663771074,null,45.84183440003917,45.966120396381086,45.908835151268995,null,85.84653360351773,89.58964857907613,88.33554424282485,null,99.39217427987076,102.98086673748806,101.87469196829461,null,111.89924949120689,114.86935852444678,113.91731111649504,null,124.6498035365446,127.73970736302327,126.36800562377198,null,136.93741013102886,140.67100384781003,139.2041499394861,null,154.0403488365125,157.94027156397635,156.40120236499845,null,171.08998678754395,175.1750902683393,173.5891318177932,null,187.03757348069104,190.86190519681244,189.4499115700376,null,200.5592320555123,204.10638882093036,202.74714940026922,null,213.57861865452728,217.17713019506868,215.8559505200785,null],\"type\":\"scatter\"}],                        {\"hovermode\":\"closest\",\"template\":{\"data\":{\"bar\":[{\"error_x\":{\"color\":\"#2a3f5f\"},\"error_y\":{\"color\":\"#2a3f5f\"},\"marker\":{\"line\":{\"color\":\"#E5ECF6\",\"width\":0.5},\"pattern\":{\"fillmode\":\"overlay\",\"size\":10,\"solidity\":0.2}},\"type\":\"bar\"}],\"barpolar\":[{\"marker\":{\"line\":{\"color\":\"#E5ECF6\",\"width\":0.5},\"pattern\":{\"fillmode\":\"overlay\",\"size\":10,\"solidity\":0.2}},\"type\":\"barpolar\"}],\"carpet\":[{\"aaxis\":{\"endlinecolor\":\"#2a3f5f\",\"gridcolor\":\"white\",\"linecolor\":\"white\",\"minorgridcolor\":\"white\",\"startlinecolor\":\"#2a3f5f\"},\"baxis\":{\"endlinecolor\":\"#2a3f5f\",\"gridcolor\":\"white\",\"linecolor\":\"white\",\"minorgridcolor\":\"white\",\"startlinecolor\":\"#2a3f5f\"},\"type\":\"carpet\"}],\"choropleth\":[{\"colorbar\":{\"outlinewidth\":0,\"ticks\":\"\"},\"type\":\"choropleth\"}],\"contour\":[{\"colorbar\":{\"outlinewidth\":0,\"ticks\":\"\"},\"colorscale\":[[0.0,\"#0d0887\"],[0.1111111111111111,\"#46039f\"],[0.2222222222222222,\"#7201a8\"],[0.3333333333333333,\"#9c179e\"],[0.4444444444444444,\"#bd3786\"],[0.5555555555555556,\"#d8576b\"],[0.6666666666666666,\"#ed7953\"],[0.7777777777777778,\"#fb9f3a\"],[0.8888888888888888,\"#fdca26\"],[1.0,\"#f0f921\"]],\"type\":\"contour\"}],\"contourcarpet\":[{\"colorbar\":{\"outlinewidth\":0,\"ticks\":\"\"},\"type\":\"contourcarpet\"}],\"heatmap\":[{\"colorbar\":{\"outlinewidth\":0,\"ticks\":\"\"},\"colorscale\":[[0.0,\"#0d0887\"],[0.1111111111111111,\"#46039f\"],[0.2222222222222222,\"#7201a8\"],[0.3333333333333333,\"#9c179e\"],[0.4444444444444444,\"#bd3786\"],[0.5555555555555556,\"#d8576b\"],[0.6666666666666666,\"#ed7953\"],[0.7777777777777778,\"#fb9f3a\"],[0.8888888888888888,\"#fdca26\"],[1.0,\"#f0f921\"]],\"type\":\"heatmap\"}],\"heatmapgl\":[{\"colorbar\":{\"outlinewidth\":0,\"ticks\":\"\"},\"colorscale\":[[0.0,\"#0d0887\"],[0.1111111111111111,\"#46039f\"],[0.2222222222222222,\"#7201a8\"],[0.3333333333333333,\"#9c179e\"],[0.4444444444444444,\"#bd3786\"],[0.5555555555555556,\"#d8576b\"],[0.6666666666666666,\"#ed7953\"],[0.7777777777777778,\"#fb9f3a\"],[0.8888888888888888,\"#fdca26\"],[1.0,\"#f0f921\"]],\"type\":\"heatmapgl\"}],\"histogram\":[{\"marker\":{\"pattern\":{\"fillmode\":\"overlay\",\"size\":10,\"solidity\":0.2}},\"type\":\"histogram\"}],\"histogram2d\":[{\"colorbar\":{\"outlinewidth\":0,\"ticks\":\"\"},\"colorscale\":[[0.0,\"#0d0887\"],[0.1111111111111111,\"#46039f\"],[0.2222222222222222,\"#7201a8\"],[0.3333333333333333,\"#9c179e\"],[0.4444444444444444,\"#bd3786\"],[0.5555555555555556,\"#d8576b\"],[0.6666666666666666,\"#ed7953\"],[0.7777777777777778,\"#fb9f3a\"],[0.8888888888888888,\"#fdca26\"],[1.0,\"#f0f921\"]],\"type\":\"histogram2d\"}],\"histogram2dcontour\":[{\"colorbar\":{\"outlinewidth\":0,\"ticks\":\"\"},\"colorscale\":[[0.0,\"#0d0887\"],[0.1111111111111111,\"#46039f\"],[0.2222222222222222,\"#7201a8\"],[0.3333333333333333,\"#9c179e\"],[0.4444444444444444,\"#bd3786\"],[0.5555555555555556,\"#d8576b\"],[0.6666666666666666,\"#ed7953\"],[0.7777777777777778,\"#fb9f3a\"],[0.8888888888888888,\"#fdca26\"],[1.0,\"#f0f921\"]],\"type\":\"histogram2dcontour\"}],\"mesh3d\":[{\"colorbar\":{\"outlinewidth\":0,\"ticks\":\"\"},\"type\":\"mesh3d\"}],\"parcoords\":[{\"line\":{\"colorbar\":{\"outlinewidth\":0,\"ticks\":\"\"}},\"type\":\"parcoords\"}],\"pie\":[{\"automargin\":true,\"type\":\"pie\"}],\"scatter\":[{\"marker\":{\"colorbar\":{\"outlinewidth\":0,\"ticks\":\"\"}},\"type\":\"scatter\"}],\"scatter3d\":[{\"line\":{\"colorbar\":{\"outlinewidth\":0,\"ticks\":\"\"}},\"marker\":{\"colorbar\":{\"outlinewidth\":0,\"ticks\":\"\"}},\"type\":\"scatter3d\"}],\"scattercarpet\":[{\"marker\":{\"colorbar\":{\"outlinewidth\":0,\"ticks\":\"\"}},\"type\":\"scattercarpet\"}],\"scattergeo\":[{\"marker\":{\"colorbar\":{\"outlinewidth\":0,\"ticks\":\"\"}},\"type\":\"scattergeo\"}],\"scattergl\":[{\"marker\":{\"colorbar\":{\"outlinewidth\":0,\"ticks\":\"\"}},\"type\":\"scattergl\"}],\"scattermapbox\":[{\"marker\":{\"colorbar\":{\"outlinewidth\":0,\"ticks\":\"\"}},\"type\":\"scattermapbox\"}],\"scatterpolar\":[{\"marker\":{\"colorbar\":{\"outlinewidth\":0,\"ticks\":\"\"}},\"type\":\"scatterpolar\"}],\"scatterpolargl\":[{\"marker\":{\"colorbar\":{\"outlinewidth\":0,\"ticks\":\"\"}},\"type\":\"scatterpolargl\"}],\"scatterternary\":[{\"marker\":{\"colorbar\":{\"outlinewidth\":0,\"ticks\":\"\"}},\"type\":\"scatterternary\"}],\"surface\":[{\"colorbar\":{\"outlinewidth\":0,\"ticks\":\"\"},\"colorscale\":[[0.0,\"#0d0887\"],[0.1111111111111111,\"#46039f\"],[0.2222222222222222,\"#7201a8\"],[0.3333333333333333,\"#9c179e\"],[0.4444444444444444,\"#bd3786\"],[0.5555555555555556,\"#d8576b\"],[0.6666666666666666,\"#ed7953\"],[0.7777777777777778,\"#fb9f3a\"],[0.8888888888888888,\"#fdca26\"],[1.0,\"#f0f921\"]],\"type\":\"surface\"}],\"table\":[{\"cells\":{\"fill\":{\"color\":\"#EBF0F8\"},\"line\":{\"color\":\"white\"}},\"header\":{\"fill\":{\"color\":\"#C8D4E3\"},\"line\":{\"color\":\"white\"}},\"type\":\"table\"}]},\"layout\":{\"annotationdefaults\":{\"arrowcolor\":\"#2a3f5f\",\"arrowhead\":0,\"arrowwidth\":1},\"autotypenumbers\":\"strict\",\"coloraxis\":{\"colorbar\":{\"outlinewidth\":0,\"ticks\":\"\"}},\"colorscale\":{\"diverging\":[[0,\"#8e0152\"],[0.1,\"#c51b7d\"],[0.2,\"#de77ae\"],[0.3,\"#f1b6da\"],[0.4,\"#fde0ef\"],[0.5,\"#f7f7f7\"],[0.6,\"#e6f5d0\"],[0.7,\"#b8e186\"],[0.8,\"#7fbc41\"],[0.9,\"#4d9221\"],[1,\"#276419\"]],\"sequential\":[[0.0,\"#0d0887\"],[0.1111111111111111,\"#46039f\"],[0.2222222222222222,\"#7201a8\"],[0.3333333333333333,\"#9c179e\"],[0.4444444444444444,\"#bd3786\"],[0.5555555555555556,\"#d8576b\"],[0.6666666666666666,\"#ed7953\"],[0.7777777777777778,\"#fb9f3a\"],[0.8888888888888888,\"#fdca26\"],[1.0,\"#f0f921\"]],\"sequentialminus\":[[0.0,\"#0d0887\"],[0.1111111111111111,\"#46039f\"],[0.2222222222222222,\"#7201a8\"],[0.3333333333333333,\"#9c179e\"],[0.4444444444444444,\"#bd3786\"],[0.5555555555555556,\"#d8576b\"],[0.6666666666666666,\"#ed7953\"],[0.7777777777777778,\"#fb9f3a\"],[0.8888888888888888,\"#fdca26\"],[1.0,\"#f0f921\"]]},\"colorway\":[\"#636efa\",\"#EF553B\",\"#00cc96\",\"#ab63fa\",\"#FFA15A\",\"#19d3f3\",\"#FF6692\",\"#B6E880\",\"#FF97FF\",\"#FECB52\"],\"font\":{\"color\":\"#2a3f5f\"},\"geo\":{\"bgcolor\":\"white\",\"lakecolor\":\"white\",\"landcolor\":\"#E5ECF6\",\"showlakes\":true,\"showland\":true,\"subunitcolor\":\"white\"},\"hoverlabel\":{\"align\":\"left\"},\"hovermode\":\"closest\",\"mapbox\":{\"style\":\"light\"},\"paper_bgcolor\":\"white\",\"plot_bgcolor\":\"#E5ECF6\",\"polar\":{\"angularaxis\":{\"gridcolor\":\"white\",\"linecolor\":\"white\",\"ticks\":\"\"},\"bgcolor\":\"#E5ECF6\",\"radialaxis\":{\"gridcolor\":\"white\",\"linecolor\":\"white\",\"ticks\":\"\"}},\"scene\":{\"xaxis\":{\"backgroundcolor\":\"#E5ECF6\",\"gridcolor\":\"white\",\"gridwidth\":2,\"linecolor\":\"white\",\"showbackground\":true,\"ticks\":\"\",\"zerolinecolor\":\"white\"},\"yaxis\":{\"backgroundcolor\":\"#E5ECF6\",\"gridcolor\":\"white\",\"gridwidth\":2,\"linecolor\":\"white\",\"showbackground\":true,\"ticks\":\"\",\"zerolinecolor\":\"white\"},\"zaxis\":{\"backgroundcolor\":\"#E5ECF6\",\"gridcolor\":\"white\",\"gridwidth\":2,\"linecolor\":\"white\",\"showbackground\":true,\"ticks\":\"\",\"zerolinecolor\":\"white\"}},\"shapedefaults\":{\"line\":{\"color\":\"#2a3f5f\"}},\"ternary\":{\"aaxis\":{\"gridcolor\":\"white\",\"linecolor\":\"white\",\"ticks\":\"\"},\"baxis\":{\"gridcolor\":\"white\",\"linecolor\":\"white\",\"ticks\":\"\"},\"bgcolor\":\"#E5ECF6\",\"caxis\":{\"gridcolor\":\"white\",\"linecolor\":\"white\",\"ticks\":\"\"}},\"title\":{\"x\":0.05},\"xaxis\":{\"automargin\":true,\"gridcolor\":\"white\",\"linecolor\":\"white\",\"ticks\":\"\",\"title\":{\"standoff\":15},\"zerolinecolor\":\"white\",\"zerolinewidth\":2},\"yaxis\":{\"automargin\":true,\"gridcolor\":\"white\",\"linecolor\":\"white\",\"ticks\":\"\",\"title\":{\"standoff\":15},\"zerolinecolor\":\"white\",\"zerolinewidth\":2}}}},                        {\"responsive\": true}                    ).then(function(){\n",
              "                            \n",
              "var gd = document.getElementById('57ac4e29-c52a-4fbd-82d9-18b1e441686d');\n",
              "var x = new MutationObserver(function (mutations, observer) {{\n",
              "        var display = window.getComputedStyle(gd).display;\n",
              "        if (!display || display === 'none') {{\n",
              "            console.log([gd, 'removed!']);\n",
              "            Plotly.purge(gd);\n",
              "            observer.disconnect();\n",
              "        }}\n",
              "}});\n",
              "\n",
              "// Listen for the removal of the full notebook cells\n",
              "var notebookContainer = gd.closest('#notebook-container');\n",
              "if (notebookContainer) {{\n",
              "    x.observe(notebookContainer, {childList: true});\n",
              "}}\n",
              "\n",
              "// Listen for the clearing of the current output cell\n",
              "var outputEl = gd.closest('.output');\n",
              "if (outputEl) {{\n",
              "    x.observe(outputEl, {childList: true});\n",
              "}}\n",
              "\n",
              "                        })                };                            </script>        </div>\n",
              "</body>\n",
              "</html>"
            ]
          },
          "metadata": {}
        }
      ]
    },
    {
      "cell_type": "code",
      "source": [
        "!zip -r /content/models_vxvy_154_a06.zip /content/models"
      ],
      "metadata": {
        "colab": {
          "base_uri": "https://localhost:8080/"
        },
        "id": "zo2CczK4S_dW",
        "outputId": "46373332-a39e-4fe4-eebc-de5d392d9505"
      },
      "execution_count": 26,
      "outputs": [
        {
          "output_type": "stream",
          "name": "stdout",
          "text": [
            "  adding: content/models/ (stored 0%)\n",
            "  adding: content/models/model 108 (deflated 46%)\n",
            "  adding: content/models/model 21 (deflated 44%)\n",
            "  adding: content/models/model 137 (deflated 45%)\n",
            "  adding: content/models/model 59 (deflated 44%)\n",
            "  adding: content/models/model 148 (deflated 44%)\n",
            "  adding: content/models/model 71 (deflated 45%)\n",
            "  adding: content/models/model 139 (deflated 45%)\n",
            "  adding: content/models/model 56 (deflated 45%)\n",
            "  adding: content/models/model 66 (deflated 45%)\n",
            "  adding: content/models/model 88 (deflated 45%)\n",
            "  adding: content/models/model 151 (deflated 44%)\n",
            "  adding: content/models/model 134 (deflated 44%)\n",
            "  adding: content/models/model 122 (deflated 45%)\n",
            "  adding: content/models/model 121 (deflated 45%)\n",
            "  adding: content/models/model 79 (deflated 45%)\n",
            "  adding: content/models/model 92 (deflated 46%)\n",
            "  adding: content/models/model 75 (deflated 45%)\n",
            "  adding: content/models/model 37 (deflated 44%)\n",
            "  adding: content/models/model 44 (deflated 46%)\n",
            "  adding: content/models/model 83 (deflated 45%)\n",
            "  adding: content/models/model 128 (deflated 45%)\n",
            "  adding: content/models/model 9 (deflated 45%)\n",
            "  adding: content/models/model 64 (deflated 45%)\n",
            "  adding: content/models/model 115 (deflated 45%)\n",
            "  adding: content/models/model 116 (deflated 44%)\n",
            "  adding: content/models/model 31 (deflated 44%)\n",
            "  adding: content/models/model 19 (deflated 45%)\n",
            "  adding: content/models/model 29 (deflated 44%)\n",
            "  adding: content/models/model 24 (deflated 44%)\n",
            "  adding: content/models/model 61 (deflated 45%)\n",
            "  adding: content/models/model 38 (deflated 45%)\n",
            "  adding: content/models/model 111 (deflated 45%)\n",
            "  adding: content/models/model 119 (deflated 46%)\n",
            "  adding: content/models/model 6 (deflated 44%)\n",
            "  adding: content/models/model 60 (deflated 45%)\n",
            "  adding: content/models/model 91 (deflated 45%)\n",
            "  adding: content/models/model 103 (deflated 46%)\n",
            "  adding: content/models/model 4 (deflated 45%)\n",
            "  adding: content/models/model 10 (deflated 45%)\n",
            "  adding: content/models/model 112 (deflated 45%)\n",
            "  adding: content/models/model 7 (deflated 45%)\n",
            "  adding: content/models/model 43 (deflated 45%)\n",
            "  adding: content/models/model 35 (deflated 45%)\n",
            "  adding: content/models/model 98 (deflated 45%)\n",
            "  adding: content/models/model 25 (deflated 45%)\n",
            "  adding: content/models/model 147 (deflated 45%)\n",
            "  adding: content/models/model 143 (deflated 46%)\n",
            "  adding: content/models/model 17 (deflated 45%)\n",
            "  adding: content/models/model 3 (deflated 45%)\n",
            "  adding: content/models/model 76 (deflated 45%)\n",
            "  adding: content/models/model 11 (deflated 45%)\n",
            "  adding: content/models/model 118 (deflated 45%)\n",
            "  adding: content/models/model 50 (deflated 45%)\n",
            "  adding: content/models/model 15 (deflated 45%)\n",
            "  adding: content/models/model 18 (deflated 45%)\n",
            "  adding: content/models/model 105 (deflated 46%)\n",
            "  adding: content/models/model 63 (deflated 44%)\n",
            "  adding: content/models/model 146 (deflated 45%)\n",
            "  adding: content/models/model 94 (deflated 45%)\n",
            "  adding: content/models/model 138 (deflated 45%)\n",
            "  adding: content/models/model 49 (deflated 45%)\n",
            "  adding: content/models/model 110 (deflated 45%)\n",
            "  adding: content/models/model 124 (deflated 45%)\n",
            "  adding: content/models/model 14 (deflated 45%)\n",
            "  adding: content/models/model 133 (deflated 45%)\n",
            "  adding: content/models/model 23 (deflated 45%)\n",
            "  adding: content/models/model 52 (deflated 45%)\n",
            "  adding: content/models/model 28 (deflated 46%)\n",
            "  adding: content/models/model 45 (deflated 46%)\n",
            "  adding: content/models/model 65 (deflated 45%)\n",
            "  adding: content/models/model 149 (deflated 44%)\n",
            "  adding: content/models/model 40 (deflated 46%)\n",
            "  adding: content/models/model 81 (deflated 45%)\n",
            "  adding: content/models/model 140 (deflated 45%)\n",
            "  adding: content/models/model 12 (deflated 45%)\n",
            "  adding: content/models/model 120 (deflated 46%)\n",
            "  adding: content/models/model 78 (deflated 45%)\n",
            "  adding: content/models/model 41 (deflated 45%)\n",
            "  adding: content/models/model 84 (deflated 45%)\n",
            "  adding: content/models/model 135 (deflated 44%)\n",
            "  adding: content/models/model 123 (deflated 45%)\n",
            "  adding: content/models/model 34 (deflated 45%)\n",
            "  adding: content/models/model 26 (deflated 45%)\n",
            "  adding: content/models/model 106 (deflated 45%)\n",
            "  adding: content/models/model 125 (deflated 45%)\n",
            "  adding: content/models/model 13 (deflated 44%)\n",
            "  adding: content/models/model 55 (deflated 45%)\n",
            "  adding: content/models/model 150 (deflated 45%)\n",
            "  adding: content/models/model 69 (deflated 45%)\n",
            "  adding: content/models/model 0 (deflated 45%)\n",
            "  adding: content/models/model 82 (deflated 45%)\n",
            "  adding: content/models/model 104 (deflated 45%)\n",
            "  adding: content/models/model 145 (deflated 45%)\n",
            "  adding: content/models/model 39 (deflated 45%)\n",
            "  adding: content/models/model 109 (deflated 45%)\n",
            "  adding: content/models/model 51 (deflated 44%)\n",
            "  adding: content/models/model 132 (deflated 45%)\n",
            "  adding: content/models/model 117 (deflated 45%)\n",
            "  adding: content/models/model 114 (deflated 44%)\n",
            "  adding: content/models/model 130 (deflated 45%)\n",
            "  adding: content/models/model 1 (deflated 45%)\n",
            "  adding: content/models/model 102 (deflated 44%)\n",
            "  adding: content/models/model 85 (deflated 45%)\n",
            "  adding: content/models/model 16 (deflated 45%)\n",
            "  adding: content/models/model 93 (deflated 45%)\n",
            "  adding: content/models/model 2 (deflated 44%)\n",
            "  adding: content/models/model 142 (deflated 45%)\n",
            "  adding: content/models/model 54 (deflated 46%)\n",
            "  adding: content/models/model 86 (deflated 45%)\n",
            "  adding: content/models/model 129 (deflated 45%)\n",
            "  adding: content/models/model 57 (deflated 46%)\n",
            "  adding: content/models/model 68 (deflated 45%)\n",
            "  adding: content/models/model 136 (deflated 46%)\n",
            "  adding: content/models/model 48 (deflated 45%)\n",
            "  adding: content/models/model 46 (deflated 44%)\n",
            "  adding: content/models/model 5 (deflated 45%)\n",
            "  adding: content/models/model 144 (deflated 44%)\n",
            "  adding: content/models/model 74 (deflated 45%)\n",
            "  adding: content/models/model 87 (deflated 45%)\n",
            "  adding: content/models/model 127 (deflated 46%)\n",
            "  adding: content/models/model 27 (deflated 45%)\n",
            "  adding: content/models/model 97 (deflated 45%)\n",
            "  adding: content/models/model 100 (deflated 45%)\n",
            "  adding: content/models/model 22 (deflated 45%)\n",
            "  adding: content/models/model 33 (deflated 45%)\n",
            "  adding: content/models/model 72 (deflated 45%)\n",
            "  adding: content/models/model 80 (deflated 45%)\n",
            "  adding: content/models/model 77 (deflated 45%)\n",
            "  adding: content/models/model 47 (deflated 45%)\n",
            "  adding: content/models/model 30 (deflated 46%)\n",
            "  adding: content/models/model 8 (deflated 45%)\n",
            "  adding: content/models/model 67 (deflated 45%)\n",
            "  adding: content/models/model 20 (deflated 45%)\n",
            "  adding: content/models/model 36 (deflated 45%)\n",
            "  adding: content/models/model 62 (deflated 45%)\n",
            "  adding: content/models/model 42 (deflated 45%)\n",
            "  adding: content/models/model 90 (deflated 45%)\n",
            "  adding: content/models/model 113 (deflated 45%)\n",
            "  adding: content/models/model 53 (deflated 45%)\n",
            "  adding: content/models/model 153 (deflated 45%)\n",
            "  adding: content/models/model 126 (deflated 45%)\n",
            "  adding: content/models/model 141 (deflated 45%)\n",
            "  adding: content/models/model 73 (deflated 44%)\n",
            "  adding: content/models/model 58 (deflated 46%)\n",
            "  adding: content/models/model 131 (deflated 46%)\n",
            "  adding: content/models/model 95 (deflated 45%)\n",
            "  adding: content/models/model 89 (deflated 45%)\n",
            "  adding: content/models/model 101 (deflated 45%)\n",
            "  adding: content/models/model 70 (deflated 45%)\n",
            "  adding: content/models/model 96 (deflated 46%)\n",
            "  adding: content/models/model 107 (deflated 45%)\n",
            "  adding: content/models/model 152 (deflated 45%)\n",
            "  adding: content/models/model 32 (deflated 44%)\n",
            "  adding: content/models/model 99 (deflated 46%)\n"
          ]
        }
      ]
    }
  ]
}