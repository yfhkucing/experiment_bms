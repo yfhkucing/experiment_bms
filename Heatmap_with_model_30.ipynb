{
  "nbformat": 4,
  "nbformat_minor": 0,
  "metadata": {
    "colab": {
      "provenance": [],
      "authorship_tag": "ABX9TyNtxvgjamq7fUzZt7/uViIC",
      "include_colab_link": true
    },
    "kernelspec": {
      "name": "python3",
      "display_name": "Python 3"
    },
    "language_info": {
      "name": "python"
    }
  },
  "cells": [
    {
      "cell_type": "markdown",
      "metadata": {
        "id": "view-in-github",
        "colab_type": "text"
      },
      "source": [
        "<a href=\"https://colab.research.google.com/github/yfhkucing/experiment_bms/blob/master/Heatmap_with_model_30.ipynb\" target=\"_parent\"><img src=\"https://colab.research.google.com/assets/colab-badge.svg\" alt=\"Open In Colab\"/></a>"
      ]
    },
    {
      "cell_type": "code",
      "execution_count": 41,
      "metadata": {
        "colab": {
          "base_uri": "https://localhost:8080/"
        },
        "id": "NXu4P_QUDucM",
        "outputId": "1e220e06-8c43-4d38-8857-7623d9f380b4"
      },
      "outputs": [
        {
          "output_type": "stream",
          "name": "stdout",
          "text": [
            "Looking in indexes: https://pypi.org/simple, https://us-python.pkg.dev/colab-wheels/public/simple/\n",
            "Requirement already satisfied: kaleido in /usr/local/lib/python3.7/dist-packages (0.2.1)\n"
          ]
        }
      ],
      "source": [
        "! pip install -U kaleido"
      ]
    },
    {
      "cell_type": "code",
      "source": [
        "import joblib\n",
        "import numpy as np\n",
        "import pandas as pd"
      ],
      "metadata": {
        "id": "qw0CDLlED9Ln"
      },
      "execution_count": 42,
      "outputs": []
    },
    {
      "cell_type": "code",
      "source": [
        "! unzip /content/models_temp_30.zip"
      ],
      "metadata": {
        "colab": {
          "base_uri": "https://localhost:8080/"
        },
        "id": "Lt4Vet59D-DM",
        "outputId": "fbf9a118-3ae7-4281-ca36-d92222738885"
      },
      "execution_count": 43,
      "outputs": [
        {
          "output_type": "stream",
          "name": "stdout",
          "text": [
            "Archive:  /content/models_temp_30.zip\n",
            "replace content/models/model 26? [y]es, [n]o, [A]ll, [N]one, [r]ename: A\n",
            "  inflating: content/models/model 26  \n",
            "  inflating: content/models/model 19  \n",
            "  inflating: content/models/model 24  \n",
            "  inflating: content/models/model 16  \n",
            "  inflating: content/models/model 9  \n",
            "  inflating: content/models/model 21  \n",
            "  inflating: content/models/model 13  \n",
            "  inflating: content/models/model 4  \n",
            "  inflating: content/models/model 0  \n",
            "  inflating: content/models/model 10  \n",
            "  inflating: content/models/model 27  \n",
            "  inflating: content/models/model 7  \n",
            "  inflating: content/models/model 14  \n",
            "  inflating: content/models/model 1  \n",
            "  inflating: content/models/model 2  \n",
            "  inflating: content/models/model 18  \n",
            "  inflating: content/models/model 15  \n",
            "  inflating: content/models/model 8  \n",
            "  inflating: content/models/model 12  \n",
            "  inflating: content/models/model 25  \n",
            "  inflating: content/models/model 6  \n",
            "  inflating: content/models/model 22  \n",
            "  inflating: content/models/model 3  \n",
            "  inflating: content/models/model 17  \n",
            "  inflating: content/models/model 29  \n",
            "  inflating: content/models/model 20  \n",
            "  inflating: content/models/model 23  \n",
            "  inflating: content/models/model 28  \n",
            "  inflating: content/models/model 11  \n",
            "  inflating: content/models/model 5  \n"
          ]
        }
      ]
    },
    {
      "cell_type": "code",
      "source": [
        "feature = pd.read_excel('/content/Koordinat dan Input Skenario.xlsx',sheet_name='InputSkenario')\n",
        "label = pd.read_excel('/content/data_big_4.xlsx',sheet_name='Sheet2')\n",
        "feature.pop('Jam')\n",
        "feature.pop('Fan')"
      ],
      "metadata": {
        "colab": {
          "base_uri": "https://localhost:8080/"
        },
        "id": "WzUeTqK_EKT6",
        "outputId": "bd1d3c8a-c55a-436c-8a2b-98cb73f255ad"
      },
      "execution_count": 44,
      "outputs": [
        {
          "output_type": "execute_result",
          "data": {
            "text/plain": [
              "0      0.0\n",
              "1      0.0\n",
              "2      0.0\n",
              "3      0.0\n",
              "4      0.0\n",
              "      ... \n",
              "187    1.0\n",
              "188    1.0\n",
              "189    1.0\n",
              "190    1.0\n",
              "191    1.0\n",
              "Name: Fan, Length: 192, dtype: float64"
            ]
          },
          "metadata": {},
          "execution_count": 44
        }
      ]
    },
    {
      "cell_type": "code",
      "source": [
        "def norm(df):\n",
        "  df=(df-df.min())/(df.max()-df.min())\n",
        "  return df"
      ],
      "metadata": {
        "id": "4-DWQb7sELJ1"
      },
      "execution_count": 45,
      "outputs": []
    },
    {
      "cell_type": "code",
      "source": [
        "feature = norm(feature)\n",
        "label = norm(label)"
      ],
      "metadata": {
        "id": "a1XbnNhOCzmM"
      },
      "execution_count": 66,
      "outputs": []
    },
    {
      "cell_type": "code",
      "source": [
        "array_y = []\n",
        "\n",
        "for i in range(30):\n",
        "  frame= label[i::30]\n",
        "  frame = frame.drop(['koor_x','koor_y'],axis=1)\n",
        "  frame = frame.drop(['Vx','Vy'],axis=1)\n",
        "  array_y.append(frame)"
      ],
      "metadata": {
        "id": "E0bKC3j2EipE"
      },
      "execution_count": 47,
      "outputs": []
    },
    {
      "cell_type": "code",
      "source": [
        "len(array_y)"
      ],
      "metadata": {
        "colab": {
          "base_uri": "https://localhost:8080/"
        },
        "id": "TiZH9RzUFE-g",
        "outputId": "363514c8-8e15-4fd7-adb9-1eab2b4e976c"
      },
      "execution_count": 48,
      "outputs": [
        {
          "output_type": "execute_result",
          "data": {
            "text/plain": [
              "30"
            ]
          },
          "metadata": {},
          "execution_count": 48
        }
      ]
    },
    {
      "cell_type": "code",
      "source": [
        "from sklearn.model_selection import train_test_split\n",
        "from sklearn.metrics import r2_score as r2\n",
        "from sklearn.metrics import mean_squared_error as mse\n",
        "from sklearn.metrics import mean_absolute_error as mae\n",
        "\n",
        "skor_r2=[]\n",
        "mae_=[]\n",
        "rmse = []\n",
        "y_predict = []\n",
        "y_test = []\n",
        "for i in range(30):\n",
        "  x = np.array(feature)\n",
        "  y = np.array(array_y[i])\n",
        "  model = joblib.load(f'/content/content/models/model {i}')\n",
        "  y_pred = model.predict(x)\n",
        "  Skor_r2 = r2(y,y_pred)\n",
        "  RMSE = mse(y,y_pred,squared=False)\n",
        "  MAE = mae(y,y_pred)\n",
        "  y_predict.append(y_pred)\n",
        "  skor_r2.append(Skor_r2)\n",
        "  mae_.append(MAE)\n",
        "  rmse.append(RMSE)"
      ],
      "metadata": {
        "id": "bVqomvIxErwf"
      },
      "execution_count": 49,
      "outputs": []
    },
    {
      "cell_type": "code",
      "source": [
        "skor_r2 = np.array(skor_r2)\n",
        "rmse = np.array(rmse)\n",
        "mae_=np.array(mae_)\n",
        "y_predict = np.array(y_predict)\n",
        "y = np.array(array_y)"
      ],
      "metadata": {
        "id": "4Qt09poyFLkU"
      },
      "execution_count": 50,
      "outputs": []
    },
    {
      "cell_type": "code",
      "source": [
        "#error per skenario\n",
        "\n",
        "r_squared = []\n",
        "abs_error = []\n",
        "sqrt_error = []\n",
        "for i in range(192):\n",
        "  a = y[...,i,0]\n",
        "  b = y_predict[...,i]\n",
        "  r_squared.append(r2(a,b))\n",
        "  abs_error.append(mae(a,b))\n",
        "  sqrt_error.append(mse(a,b))"
      ],
      "metadata": {
        "id": "iFE02HBIFSEg"
      },
      "execution_count": 51,
      "outputs": []
    },
    {
      "cell_type": "code",
      "source": [
        "error = pd.DataFrame(r_squared,columns=['r2'])\n",
        "abs_error = pd.DataFrame(abs_error,columns=['mae'])\n",
        "sqrt_error = pd.DataFrame(sqrt_error,columns=['rmse'])\n",
        "error = error.join(abs_error)\n",
        "error = error.join(sqrt_error)"
      ],
      "metadata": {
        "id": "MnTGB6WoFXB4"
      },
      "execution_count": 52,
      "outputs": []
    },
    {
      "cell_type": "code",
      "source": [
        "y_predict[...,191] == y_predict[...,0]"
      ],
      "metadata": {
        "id": "AKnOWgg2HE18",
        "outputId": "40dbc17f-aa7b-42ec-bc7a-fecea7f2fc19",
        "colab": {
          "base_uri": "https://localhost:8080/"
        }
      },
      "execution_count": 53,
      "outputs": [
        {
          "output_type": "execute_result",
          "data": {
            "text/plain": [
              "array([ True,  True,  True,  True,  True,  True,  True,  True,  True,\n",
              "        True,  True,  True,  True,  True,  True,  True,  True,  True,\n",
              "        True,  True,  True,  True,  True,  True,  True,  True,  True,\n",
              "        True,  True,  True])"
            ]
          },
          "metadata": {},
          "execution_count": 53
        }
      ]
    },
    {
      "cell_type": "code",
      "source": [
        "error.describe()"
      ],
      "metadata": {
        "colab": {
          "base_uri": "https://localhost:8080/",
          "height": 300
        },
        "id": "k_ua-Q_sFZbM",
        "outputId": "50512f2a-2d5b-4696-c294-7a595425e177"
      },
      "execution_count": 54,
      "outputs": [
        {
          "output_type": "execute_result",
          "data": {
            "text/plain": [
              "                r2         mae        rmse\n",
              "count   192.000000  192.000000  192.000000\n",
              "mean   -248.665328   24.967817  633.144946\n",
              "std     379.795378    2.339685  122.134616\n",
              "min   -3715.593455   20.428914  417.400470\n",
              "25%    -234.991326   23.203825  540.350285\n",
              "50%    -159.672788   24.231011  589.467691\n",
              "75%    -105.388436   26.592161  715.071965\n",
              "max     -39.008665   30.552896  947.274039"
            ],
            "text/html": [
              "\n",
              "  <div id=\"df-26044b0c-bfa7-4eb5-8e38-418536767a22\">\n",
              "    <div class=\"colab-df-container\">\n",
              "      <div>\n",
              "<style scoped>\n",
              "    .dataframe tbody tr th:only-of-type {\n",
              "        vertical-align: middle;\n",
              "    }\n",
              "\n",
              "    .dataframe tbody tr th {\n",
              "        vertical-align: top;\n",
              "    }\n",
              "\n",
              "    .dataframe thead th {\n",
              "        text-align: right;\n",
              "    }\n",
              "</style>\n",
              "<table border=\"1\" class=\"dataframe\">\n",
              "  <thead>\n",
              "    <tr style=\"text-align: right;\">\n",
              "      <th></th>\n",
              "      <th>r2</th>\n",
              "      <th>mae</th>\n",
              "      <th>rmse</th>\n",
              "    </tr>\n",
              "  </thead>\n",
              "  <tbody>\n",
              "    <tr>\n",
              "      <th>count</th>\n",
              "      <td>192.000000</td>\n",
              "      <td>192.000000</td>\n",
              "      <td>192.000000</td>\n",
              "    </tr>\n",
              "    <tr>\n",
              "      <th>mean</th>\n",
              "      <td>-248.665328</td>\n",
              "      <td>24.967817</td>\n",
              "      <td>633.144946</td>\n",
              "    </tr>\n",
              "    <tr>\n",
              "      <th>std</th>\n",
              "      <td>379.795378</td>\n",
              "      <td>2.339685</td>\n",
              "      <td>122.134616</td>\n",
              "    </tr>\n",
              "    <tr>\n",
              "      <th>min</th>\n",
              "      <td>-3715.593455</td>\n",
              "      <td>20.428914</td>\n",
              "      <td>417.400470</td>\n",
              "    </tr>\n",
              "    <tr>\n",
              "      <th>25%</th>\n",
              "      <td>-234.991326</td>\n",
              "      <td>23.203825</td>\n",
              "      <td>540.350285</td>\n",
              "    </tr>\n",
              "    <tr>\n",
              "      <th>50%</th>\n",
              "      <td>-159.672788</td>\n",
              "      <td>24.231011</td>\n",
              "      <td>589.467691</td>\n",
              "    </tr>\n",
              "    <tr>\n",
              "      <th>75%</th>\n",
              "      <td>-105.388436</td>\n",
              "      <td>26.592161</td>\n",
              "      <td>715.071965</td>\n",
              "    </tr>\n",
              "    <tr>\n",
              "      <th>max</th>\n",
              "      <td>-39.008665</td>\n",
              "      <td>30.552896</td>\n",
              "      <td>947.274039</td>\n",
              "    </tr>\n",
              "  </tbody>\n",
              "</table>\n",
              "</div>\n",
              "      <button class=\"colab-df-convert\" onclick=\"convertToInteractive('df-26044b0c-bfa7-4eb5-8e38-418536767a22')\"\n",
              "              title=\"Convert this dataframe to an interactive table.\"\n",
              "              style=\"display:none;\">\n",
              "        \n",
              "  <svg xmlns=\"http://www.w3.org/2000/svg\" height=\"24px\"viewBox=\"0 0 24 24\"\n",
              "       width=\"24px\">\n",
              "    <path d=\"M0 0h24v24H0V0z\" fill=\"none\"/>\n",
              "    <path d=\"M18.56 5.44l.94 2.06.94-2.06 2.06-.94-2.06-.94-.94-2.06-.94 2.06-2.06.94zm-11 1L8.5 8.5l.94-2.06 2.06-.94-2.06-.94L8.5 2.5l-.94 2.06-2.06.94zm10 10l.94 2.06.94-2.06 2.06-.94-2.06-.94-.94-2.06-.94 2.06-2.06.94z\"/><path d=\"M17.41 7.96l-1.37-1.37c-.4-.4-.92-.59-1.43-.59-.52 0-1.04.2-1.43.59L10.3 9.45l-7.72 7.72c-.78.78-.78 2.05 0 2.83L4 21.41c.39.39.9.59 1.41.59.51 0 1.02-.2 1.41-.59l7.78-7.78 2.81-2.81c.8-.78.8-2.07 0-2.86zM5.41 20L4 18.59l7.72-7.72 1.47 1.35L5.41 20z\"/>\n",
              "  </svg>\n",
              "      </button>\n",
              "      \n",
              "  <style>\n",
              "    .colab-df-container {\n",
              "      display:flex;\n",
              "      flex-wrap:wrap;\n",
              "      gap: 12px;\n",
              "    }\n",
              "\n",
              "    .colab-df-convert {\n",
              "      background-color: #E8F0FE;\n",
              "      border: none;\n",
              "      border-radius: 50%;\n",
              "      cursor: pointer;\n",
              "      display: none;\n",
              "      fill: #1967D2;\n",
              "      height: 32px;\n",
              "      padding: 0 0 0 0;\n",
              "      width: 32px;\n",
              "    }\n",
              "\n",
              "    .colab-df-convert:hover {\n",
              "      background-color: #E2EBFA;\n",
              "      box-shadow: 0px 1px 2px rgba(60, 64, 67, 0.3), 0px 1px 3px 1px rgba(60, 64, 67, 0.15);\n",
              "      fill: #174EA6;\n",
              "    }\n",
              "\n",
              "    [theme=dark] .colab-df-convert {\n",
              "      background-color: #3B4455;\n",
              "      fill: #D2E3FC;\n",
              "    }\n",
              "\n",
              "    [theme=dark] .colab-df-convert:hover {\n",
              "      background-color: #434B5C;\n",
              "      box-shadow: 0px 1px 3px 1px rgba(0, 0, 0, 0.15);\n",
              "      filter: drop-shadow(0px 1px 2px rgba(0, 0, 0, 0.3));\n",
              "      fill: #FFFFFF;\n",
              "    }\n",
              "  </style>\n",
              "\n",
              "      <script>\n",
              "        const buttonEl =\n",
              "          document.querySelector('#df-26044b0c-bfa7-4eb5-8e38-418536767a22 button.colab-df-convert');\n",
              "        buttonEl.style.display =\n",
              "          google.colab.kernel.accessAllowed ? 'block' : 'none';\n",
              "\n",
              "        async function convertToInteractive(key) {\n",
              "          const element = document.querySelector('#df-26044b0c-bfa7-4eb5-8e38-418536767a22');\n",
              "          const dataTable =\n",
              "            await google.colab.kernel.invokeFunction('convertToInteractive',\n",
              "                                                     [key], {});\n",
              "          if (!dataTable) return;\n",
              "\n",
              "          const docLinkHtml = 'Like what you see? Visit the ' +\n",
              "            '<a target=\"_blank\" href=https://colab.research.google.com/notebooks/data_table.ipynb>data table notebook</a>'\n",
              "            + ' to learn more about interactive tables.';\n",
              "          element.innerHTML = '';\n",
              "          dataTable['output_type'] = 'display_data';\n",
              "          await google.colab.output.renderOutput(dataTable, element);\n",
              "          const docLink = document.createElement('div');\n",
              "          docLink.innerHTML = docLinkHtml;\n",
              "          element.appendChild(docLink);\n",
              "        }\n",
              "      </script>\n",
              "    </div>\n",
              "  </div>\n",
              "  "
            ]
          },
          "metadata": {},
          "execution_count": 54
        }
      ]
    },
    {
      "cell_type": "code",
      "source": [
        "error[error.r2 == error.r2.max()]"
      ],
      "metadata": {
        "id": "SvZiGH8gDlbG",
        "outputId": "abc021cd-dcc9-4bee-d7a3-07da2389ff86",
        "colab": {
          "base_uri": "https://localhost:8080/",
          "height": 81
        }
      },
      "execution_count": 55,
      "outputs": [
        {
          "output_type": "execute_result",
          "data": {
            "text/plain": [
              "            r2        mae        rmse\n",
              "158 -39.008665  26.165326  701.313379"
            ],
            "text/html": [
              "\n",
              "  <div id=\"df-ac174f9b-e2d0-47ab-8e85-8d8df140e153\">\n",
              "    <div class=\"colab-df-container\">\n",
              "      <div>\n",
              "<style scoped>\n",
              "    .dataframe tbody tr th:only-of-type {\n",
              "        vertical-align: middle;\n",
              "    }\n",
              "\n",
              "    .dataframe tbody tr th {\n",
              "        vertical-align: top;\n",
              "    }\n",
              "\n",
              "    .dataframe thead th {\n",
              "        text-align: right;\n",
              "    }\n",
              "</style>\n",
              "<table border=\"1\" class=\"dataframe\">\n",
              "  <thead>\n",
              "    <tr style=\"text-align: right;\">\n",
              "      <th></th>\n",
              "      <th>r2</th>\n",
              "      <th>mae</th>\n",
              "      <th>rmse</th>\n",
              "    </tr>\n",
              "  </thead>\n",
              "  <tbody>\n",
              "    <tr>\n",
              "      <th>158</th>\n",
              "      <td>-39.008665</td>\n",
              "      <td>26.165326</td>\n",
              "      <td>701.313379</td>\n",
              "    </tr>\n",
              "  </tbody>\n",
              "</table>\n",
              "</div>\n",
              "      <button class=\"colab-df-convert\" onclick=\"convertToInteractive('df-ac174f9b-e2d0-47ab-8e85-8d8df140e153')\"\n",
              "              title=\"Convert this dataframe to an interactive table.\"\n",
              "              style=\"display:none;\">\n",
              "        \n",
              "  <svg xmlns=\"http://www.w3.org/2000/svg\" height=\"24px\"viewBox=\"0 0 24 24\"\n",
              "       width=\"24px\">\n",
              "    <path d=\"M0 0h24v24H0V0z\" fill=\"none\"/>\n",
              "    <path d=\"M18.56 5.44l.94 2.06.94-2.06 2.06-.94-2.06-.94-.94-2.06-.94 2.06-2.06.94zm-11 1L8.5 8.5l.94-2.06 2.06-.94-2.06-.94L8.5 2.5l-.94 2.06-2.06.94zm10 10l.94 2.06.94-2.06 2.06-.94-2.06-.94-.94-2.06-.94 2.06-2.06.94z\"/><path d=\"M17.41 7.96l-1.37-1.37c-.4-.4-.92-.59-1.43-.59-.52 0-1.04.2-1.43.59L10.3 9.45l-7.72 7.72c-.78.78-.78 2.05 0 2.83L4 21.41c.39.39.9.59 1.41.59.51 0 1.02-.2 1.41-.59l7.78-7.78 2.81-2.81c.8-.78.8-2.07 0-2.86zM5.41 20L4 18.59l7.72-7.72 1.47 1.35L5.41 20z\"/>\n",
              "  </svg>\n",
              "      </button>\n",
              "      \n",
              "  <style>\n",
              "    .colab-df-container {\n",
              "      display:flex;\n",
              "      flex-wrap:wrap;\n",
              "      gap: 12px;\n",
              "    }\n",
              "\n",
              "    .colab-df-convert {\n",
              "      background-color: #E8F0FE;\n",
              "      border: none;\n",
              "      border-radius: 50%;\n",
              "      cursor: pointer;\n",
              "      display: none;\n",
              "      fill: #1967D2;\n",
              "      height: 32px;\n",
              "      padding: 0 0 0 0;\n",
              "      width: 32px;\n",
              "    }\n",
              "\n",
              "    .colab-df-convert:hover {\n",
              "      background-color: #E2EBFA;\n",
              "      box-shadow: 0px 1px 2px rgba(60, 64, 67, 0.3), 0px 1px 3px 1px rgba(60, 64, 67, 0.15);\n",
              "      fill: #174EA6;\n",
              "    }\n",
              "\n",
              "    [theme=dark] .colab-df-convert {\n",
              "      background-color: #3B4455;\n",
              "      fill: #D2E3FC;\n",
              "    }\n",
              "\n",
              "    [theme=dark] .colab-df-convert:hover {\n",
              "      background-color: #434B5C;\n",
              "      box-shadow: 0px 1px 3px 1px rgba(0, 0, 0, 0.15);\n",
              "      filter: drop-shadow(0px 1px 2px rgba(0, 0, 0, 0.3));\n",
              "      fill: #FFFFFF;\n",
              "    }\n",
              "  </style>\n",
              "\n",
              "      <script>\n",
              "        const buttonEl =\n",
              "          document.querySelector('#df-ac174f9b-e2d0-47ab-8e85-8d8df140e153 button.colab-df-convert');\n",
              "        buttonEl.style.display =\n",
              "          google.colab.kernel.accessAllowed ? 'block' : 'none';\n",
              "\n",
              "        async function convertToInteractive(key) {\n",
              "          const element = document.querySelector('#df-ac174f9b-e2d0-47ab-8e85-8d8df140e153');\n",
              "          const dataTable =\n",
              "            await google.colab.kernel.invokeFunction('convertToInteractive',\n",
              "                                                     [key], {});\n",
              "          if (!dataTable) return;\n",
              "\n",
              "          const docLinkHtml = 'Like what you see? Visit the ' +\n",
              "            '<a target=\"_blank\" href=https://colab.research.google.com/notebooks/data_table.ipynb>data table notebook</a>'\n",
              "            + ' to learn more about interactive tables.';\n",
              "          element.innerHTML = '';\n",
              "          dataTable['output_type'] = 'display_data';\n",
              "          await google.colab.output.renderOutput(dataTable, element);\n",
              "          const docLink = document.createElement('div');\n",
              "          docLink.innerHTML = docLinkHtml;\n",
              "          element.appendChild(docLink);\n",
              "        }\n",
              "      </script>\n",
              "    </div>\n",
              "  </div>\n",
              "  "
            ]
          },
          "metadata": {},
          "execution_count": 55
        }
      ]
    },
    {
      "cell_type": "code",
      "source": [
        "error[error.r2 == error.r2.min()]"
      ],
      "metadata": {
        "id": "POCgr96lD50_",
        "outputId": "fb31f249-203f-4efc-8be2-e286e21ddc77",
        "colab": {
          "base_uri": "https://localhost:8080/",
          "height": 81
        }
      },
      "execution_count": 56,
      "outputs": [
        {
          "output_type": "execute_result",
          "data": {
            "text/plain": [
              "             r2        mae       rmse\n",
              "57 -3715.593455  20.428914  417.40047"
            ],
            "text/html": [
              "\n",
              "  <div id=\"df-d1d046a4-86a1-4e7f-a241-27d3acfcf491\">\n",
              "    <div class=\"colab-df-container\">\n",
              "      <div>\n",
              "<style scoped>\n",
              "    .dataframe tbody tr th:only-of-type {\n",
              "        vertical-align: middle;\n",
              "    }\n",
              "\n",
              "    .dataframe tbody tr th {\n",
              "        vertical-align: top;\n",
              "    }\n",
              "\n",
              "    .dataframe thead th {\n",
              "        text-align: right;\n",
              "    }\n",
              "</style>\n",
              "<table border=\"1\" class=\"dataframe\">\n",
              "  <thead>\n",
              "    <tr style=\"text-align: right;\">\n",
              "      <th></th>\n",
              "      <th>r2</th>\n",
              "      <th>mae</th>\n",
              "      <th>rmse</th>\n",
              "    </tr>\n",
              "  </thead>\n",
              "  <tbody>\n",
              "    <tr>\n",
              "      <th>57</th>\n",
              "      <td>-3715.593455</td>\n",
              "      <td>20.428914</td>\n",
              "      <td>417.40047</td>\n",
              "    </tr>\n",
              "  </tbody>\n",
              "</table>\n",
              "</div>\n",
              "      <button class=\"colab-df-convert\" onclick=\"convertToInteractive('df-d1d046a4-86a1-4e7f-a241-27d3acfcf491')\"\n",
              "              title=\"Convert this dataframe to an interactive table.\"\n",
              "              style=\"display:none;\">\n",
              "        \n",
              "  <svg xmlns=\"http://www.w3.org/2000/svg\" height=\"24px\"viewBox=\"0 0 24 24\"\n",
              "       width=\"24px\">\n",
              "    <path d=\"M0 0h24v24H0V0z\" fill=\"none\"/>\n",
              "    <path d=\"M18.56 5.44l.94 2.06.94-2.06 2.06-.94-2.06-.94-.94-2.06-.94 2.06-2.06.94zm-11 1L8.5 8.5l.94-2.06 2.06-.94-2.06-.94L8.5 2.5l-.94 2.06-2.06.94zm10 10l.94 2.06.94-2.06 2.06-.94-2.06-.94-.94-2.06-.94 2.06-2.06.94z\"/><path d=\"M17.41 7.96l-1.37-1.37c-.4-.4-.92-.59-1.43-.59-.52 0-1.04.2-1.43.59L10.3 9.45l-7.72 7.72c-.78.78-.78 2.05 0 2.83L4 21.41c.39.39.9.59 1.41.59.51 0 1.02-.2 1.41-.59l7.78-7.78 2.81-2.81c.8-.78.8-2.07 0-2.86zM5.41 20L4 18.59l7.72-7.72 1.47 1.35L5.41 20z\"/>\n",
              "  </svg>\n",
              "      </button>\n",
              "      \n",
              "  <style>\n",
              "    .colab-df-container {\n",
              "      display:flex;\n",
              "      flex-wrap:wrap;\n",
              "      gap: 12px;\n",
              "    }\n",
              "\n",
              "    .colab-df-convert {\n",
              "      background-color: #E8F0FE;\n",
              "      border: none;\n",
              "      border-radius: 50%;\n",
              "      cursor: pointer;\n",
              "      display: none;\n",
              "      fill: #1967D2;\n",
              "      height: 32px;\n",
              "      padding: 0 0 0 0;\n",
              "      width: 32px;\n",
              "    }\n",
              "\n",
              "    .colab-df-convert:hover {\n",
              "      background-color: #E2EBFA;\n",
              "      box-shadow: 0px 1px 2px rgba(60, 64, 67, 0.3), 0px 1px 3px 1px rgba(60, 64, 67, 0.15);\n",
              "      fill: #174EA6;\n",
              "    }\n",
              "\n",
              "    [theme=dark] .colab-df-convert {\n",
              "      background-color: #3B4455;\n",
              "      fill: #D2E3FC;\n",
              "    }\n",
              "\n",
              "    [theme=dark] .colab-df-convert:hover {\n",
              "      background-color: #434B5C;\n",
              "      box-shadow: 0px 1px 3px 1px rgba(0, 0, 0, 0.15);\n",
              "      filter: drop-shadow(0px 1px 2px rgba(0, 0, 0, 0.3));\n",
              "      fill: #FFFFFF;\n",
              "    }\n",
              "  </style>\n",
              "\n",
              "      <script>\n",
              "        const buttonEl =\n",
              "          document.querySelector('#df-d1d046a4-86a1-4e7f-a241-27d3acfcf491 button.colab-df-convert');\n",
              "        buttonEl.style.display =\n",
              "          google.colab.kernel.accessAllowed ? 'block' : 'none';\n",
              "\n",
              "        async function convertToInteractive(key) {\n",
              "          const element = document.querySelector('#df-d1d046a4-86a1-4e7f-a241-27d3acfcf491');\n",
              "          const dataTable =\n",
              "            await google.colab.kernel.invokeFunction('convertToInteractive',\n",
              "                                                     [key], {});\n",
              "          if (!dataTable) return;\n",
              "\n",
              "          const docLinkHtml = 'Like what you see? Visit the ' +\n",
              "            '<a target=\"_blank\" href=https://colab.research.google.com/notebooks/data_table.ipynb>data table notebook</a>'\n",
              "            + ' to learn more about interactive tables.';\n",
              "          element.innerHTML = '';\n",
              "          dataTable['output_type'] = 'display_data';\n",
              "          await google.colab.output.renderOutput(dataTable, element);\n",
              "          const docLink = document.createElement('div');\n",
              "          docLink.innerHTML = docLinkHtml;\n",
              "          element.appendChild(docLink);\n",
              "        }\n",
              "      </script>\n",
              "    </div>\n",
              "  </div>\n",
              "  "
            ]
          },
          "metadata": {},
          "execution_count": 56
        }
      ]
    },
    {
      "cell_type": "code",
      "source": [
        "r2_matrix = skor_r2.reshape(5,6)\n",
        "rmse_matrix = rmse.reshape(5,6)\n",
        "mae_matrix = mae_.reshape(5,6)"
      ],
      "metadata": {
        "id": "p6jGOpBOFxMx"
      },
      "execution_count": 57,
      "outputs": []
    },
    {
      "cell_type": "code",
      "source": [
        "import numpy as np\n",
        "import seaborn as sns\n",
        "import matplotlib.pylab as plt\n",
        "\n",
        "ax = sns.heatmap(r2_matrix, linewidth=0.5, cmap=\"RdYlBu\")\n",
        "plt.show()"
      ],
      "metadata": {
        "colab": {
          "base_uri": "https://localhost:8080/",
          "height": 265
        },
        "id": "qzu_TSWdF27T",
        "outputId": "f34f9bc9-82c4-4dd6-bc0d-ce56045cb92b"
      },
      "execution_count": 58,
      "outputs": [
        {
          "output_type": "display_data",
          "data": {
            "text/plain": [
              "<Figure size 432x288 with 2 Axes>"
            ],
            "image/png": "[encoded data removed]"
          },
          "metadata": {
            "needs_background": "light"
          }
        }
      ]
    },
    {
      "cell_type": "code",
      "source": [
        "bx = sns.heatmap(rmse_matrix, linewidth=0.5, cmap=\"RdYlBu_r\")\n",
        "plt.show()"
      ],
      "metadata": {
        "colab": {
          "base_uri": "https://localhost:8080/",
          "height": 265
        },
        "id": "7YOMr4FBF5T6",
        "outputId": "5ca4d2de-cbcf-48b6-8393-7f19d1bdc236"
      },
      "execution_count": 59,
      "outputs": [
        {
          "output_type": "display_data",
          "data": {
            "text/plain": [
              "<Figure size 432x288 with 2 Axes>"
            ],
            "image/png": "[encoded data removed]"
          },
          "metadata": {
            "needs_background": "light"
          }
        }
      ]
    },
    {
      "cell_type": "code",
      "source": [
        "bx = sns.heatmap(mae_matrix, linewidth=0.5, cmap=\"RdYlBu_r\")\n",
        "plt.show()"
      ],
      "metadata": {
        "colab": {
          "base_uri": "https://localhost:8080/",
          "height": 265
        },
        "id": "h0YDzpVnF8Bf",
        "outputId": "af1b20b4-35fb-4d54-9db8-ed0236156bf4"
      },
      "execution_count": 60,
      "outputs": [
        {
          "output_type": "display_data",
          "data": {
            "text/plain": [
              "<Figure size 432x288 with 2 Axes>"
            ],
            "image/png": "[encoded data removed]"
          },
          "metadata": {
            "needs_background": "light"
          }
        }
      ]
    },
    {
      "cell_type": "code",
      "source": [
        "! mkdir subplot"
      ],
      "metadata": {
        "id": "XUzJzVoTF-Ue",
        "outputId": "51a04b90-7653-45b8-9a06-ede06d595997",
        "colab": {
          "base_uri": "https://localhost:8080/"
        }
      },
      "execution_count": 61,
      "outputs": [
        {
          "output_type": "stream",
          "name": "stdout",
          "text": [
            "mkdir: cannot create directory ‘subplot’: File exists\n"
          ]
        }
      ]
    },
    {
      "cell_type": "code",
      "source": [
        "df_koor = pd.read_excel('koordinat_30.xlsx',sheet_name='Sheet2',header=None,names=['koor_x','koor_y'])"
      ],
      "metadata": {
        "id": "3NW0UjnXGAl-"
      },
      "execution_count": 62,
      "outputs": []
    },
    {
      "cell_type": "code",
      "source": [
        "def suhu(y):\n",
        "  df_y = pd.DataFrame(y)\n",
        "  df_z = pd.DataFrame(y)\n",
        "  df_z.rename(columns={0:1},inplace=True)\n",
        "  df_y = df_y.join(df_z)\n",
        "  df_y = df_y.join(df_koor)\n",
        "  df_y.rename(columns={0:'Vx',1:'suhu'},inplace=True)\n",
        "  df_y.pop('Vx')\n",
        "  return df_y"
      ],
      "metadata": {
        "id": "IjjNitdWGF37"
      },
      "execution_count": 63,
      "outputs": []
    },
    {
      "cell_type": "code",
      "source": [
        "from plotly.subplots import make_subplots\n",
        "for i in range(192):\n",
        "  a = y[(...,i,0)]\n",
        "  b = y_predict[(...,i)]\n",
        "  a = np.array(a)\n",
        "  b = np.array(b)\n",
        "  a = suhu(a)\n",
        "  b = suhu(b)\n",
        "  \n",
        "  fig = make_subplots(rows=1, cols=2)\n",
        "\n",
        "  fig.add_contour(\n",
        "     z = a['suhu'].tolist(),\n",
        "     x = a['koor_x'].tolist(),\n",
        "     y = a['koor_y'].tolist(),\n",
        "     row=1, col=1\n",
        "  )\n",
        "\n",
        "  fig.add_contour(\n",
        "     z = b['suhu'].tolist(),\n",
        "     x = b['koor_x'].tolist(),\n",
        "     y = b['koor_y'].tolist(),\n",
        "     row=1, col=2\n",
        "  )\n",
        "  fig.write_image(f'/content/subplot/fig {i}.png')"
      ],
      "metadata": {
        "id": "pnh3bZIcGItr"
      },
      "execution_count": 64,
      "outputs": []
    },
    {
      "cell_type": "code",
      "source": [
        "!zip -r /content/subplot.zip /content/subplot"
      ],
      "metadata": {
        "colab": {
          "base_uri": "https://localhost:8080/"
        },
        "id": "dfzyDWSUGSCa",
        "outputId": "ab09bc81-b055-4bc1-8b07-269697561a6a"
      },
      "execution_count": 65,
      "outputs": [
        {
          "output_type": "stream",
          "name": "stdout",
          "text": [
            "updating: content/subplot/ (stored 0%)\n",
            "updating: content/subplot/fig 39.png (deflated 4%)\n",
            "updating: content/subplot/fig 104.png (deflated 5%)\n",
            "updating: content/subplot/fig 172.png (deflated 4%)\n",
            "updating: content/subplot/fig 146.png (deflated 4%)\n",
            "updating: content/subplot/fig 153.png (deflated 5%)\n",
            "updating: content/subplot/fig 70.png (deflated 4%)\n",
            "updating: content/subplot/fig 32.png (deflated 3%)\n",
            "updating: content/subplot/fig 180.png (deflated 4%)\n",
            "updating: content/subplot/fig 84.png (deflated 4%)\n",
            "updating: content/subplot/fig 93.png (deflated 4%)\n",
            "updating: content/subplot/fig 189.png (deflated 5%)\n",
            "updating: content/subplot/fig 0.png (deflated 4%)\n",
            "updating: content/subplot/fig 125.png (deflated 5%)\n",
            "updating: content/subplot/fig 3.png (deflated 4%)\n",
            "updating: content/subplot/fig 137.png (deflated 4%)\n",
            "updating: content/subplot/fig 144.png (deflated 5%)\n",
            "updating: content/subplot/fig 67.png (deflated 4%)\n",
            "updating: content/subplot/fig 129.png (deflated 5%)\n",
            "updating: content/subplot/fig 135.png (deflated 5%)\n",
            "updating: content/subplot/fig 53.png (deflated 4%)\n",
            "updating: content/subplot/fig 23.png (deflated 4%)\n",
            "updating: content/subplot/fig 132.png (deflated 5%)\n",
            "updating: content/subplot/fig 107.png (deflated 5%)\n",
            "updating: content/subplot/fig 29.png (deflated 4%)\n",
            "updating: content/subplot/fig 173.png (deflated 6%)\n",
            "updating: content/subplot/fig 114.png (deflated 5%)\n",
            "updating: content/subplot/fig 136.png (deflated 5%)\n",
            "updating: content/subplot/fig 128.png (deflated 4%)\n",
            "updating: content/subplot/fig 168.png (deflated 5%)\n",
            "updating: content/subplot/fig 28.png (deflated 4%)\n",
            "updating: content/subplot/fig 47.png (deflated 4%)\n",
            "updating: content/subplot/fig 141.png (deflated 4%)\n",
            "updating: content/subplot/fig 43.png (deflated 3%)\n",
            "updating: content/subplot/fig 138.png (deflated 5%)\n",
            "updating: content/subplot/fig 34.png (deflated 4%)\n",
            "updating: content/subplot/fig 69.png (deflated 5%)\n",
            "updating: content/subplot/fig 64.png (deflated 4%)\n",
            "updating: content/subplot/fig 152.png (deflated 4%)\n",
            "updating: content/subplot/fig 14.png (deflated 4%)\n",
            "updating: content/subplot/fig 19.png (deflated 4%)\n",
            "updating: content/subplot/fig 133.png (deflated 4%)\n",
            "updating: content/subplot/fig 61.png (deflated 4%)\n",
            "updating: content/subplot/fig 100.png (deflated 5%)\n",
            "updating: content/subplot/fig 123.png (deflated 5%)\n",
            "updating: content/subplot/fig 147.png (deflated 4%)\n",
            "updating: content/subplot/fig 102.png (deflated 5%)\n",
            "updating: content/subplot/fig 120.png (deflated 5%)\n",
            "updating: content/subplot/fig 46.png (deflated 4%)\n",
            "updating: content/subplot/fig 83.png (deflated 4%)\n",
            "updating: content/subplot/fig 181.png (deflated 6%)\n",
            "updating: content/subplot/fig 179.png (deflated 4%)\n",
            "updating: content/subplot/fig 20.png (deflated 4%)\n",
            "updating: content/subplot/fig 49.png (deflated 5%)\n",
            "updating: content/subplot/fig 74.png (deflated 4%)\n",
            "updating: content/subplot/fig 96.png (deflated 4%)\n",
            "updating: content/subplot/fig 71.png (deflated 4%)\n",
            "updating: content/subplot/fig 91.png (deflated 4%)\n",
            "updating: content/subplot/fig 92.png (deflated 3%)\n",
            "updating: content/subplot/fig 16.png (deflated 4%)\n",
            "updating: content/subplot/fig 27.png (deflated 4%)\n",
            "updating: content/subplot/fig 174.png (deflated 4%)\n",
            "updating: content/subplot/fig 119.png (deflated 4%)\n",
            "updating: content/subplot/fig 150.png (deflated 5%)\n",
            "updating: content/subplot/fig 182.png (deflated 4%)\n",
            "updating: content/subplot/fig 18.png (deflated 4%)\n",
            "updating: content/subplot/fig 151.png (deflated 3%)\n",
            "updating: content/subplot/fig 149.png (deflated 4%)\n",
            "updating: content/subplot/fig 90.png (deflated 4%)\n",
            "updating: content/subplot/fig 78.png (deflated 4%)\n",
            "updating: content/subplot/fig 115.png (deflated 5%)\n",
            "updating: content/subplot/fig 62.png (deflated 4%)\n",
            "updating: content/subplot/fig 85.png (deflated 4%)\n",
            "updating: content/subplot/fig 77.png (deflated 4%)\n",
            "updating: content/subplot/fig 65.png (deflated 4%)\n",
            "updating: content/subplot/fig 166.png (deflated 4%)\n",
            "updating: content/subplot/fig 98.png (deflated 4%)\n",
            "updating: content/subplot/fig 73.png (deflated 4%)\n",
            "updating: content/subplot/fig 82.png (deflated 4%)\n",
            "updating: content/subplot/fig 122.png (deflated 4%)\n",
            "updating: content/subplot/fig 148.png (deflated 5%)\n",
            "updating: content/subplot/fig 116.png (deflated 5%)\n",
            "updating: content/subplot/fig 5.png (deflated 4%)\n",
            "updating: content/subplot/fig 130.png (deflated 5%)\n",
            "updating: content/subplot/fig 40.png (deflated 3%)\n",
            "updating: content/subplot/fig 167.png (deflated 4%)\n",
            "updating: content/subplot/fig 15.png (deflated 4%)\n",
            "updating: content/subplot/fig 103.png (deflated 5%)\n",
            "updating: content/subplot/fig 161.png (deflated 4%)\n",
            "updating: content/subplot/fig 131.png (deflated 5%)\n",
            "updating: content/subplot/fig 79.png (deflated 4%)\n",
            "updating: content/subplot/fig 175.png (deflated 5%)\n",
            "updating: content/subplot/fig 134.png (deflated 4%)\n",
            "updating: content/subplot/fig 190.png (deflated 4%)\n",
            "updating: content/subplot/fig 12.png (deflated 5%)\n",
            "updating: content/subplot/fig 36.png (deflated 4%)\n",
            "updating: content/subplot/fig 188.png (deflated 4%)\n",
            "updating: content/subplot/fig 6.png (deflated 4%)\n",
            "updating: content/subplot/fig 76.png (deflated 4%)\n",
            "updating: content/subplot/fig 95.png (deflated 4%)\n",
            "updating: content/subplot/fig 97.png (deflated 5%)\n",
            "updating: content/subplot/fig 127.png (deflated 4%)\n",
            "updating: content/subplot/fig 176.png (deflated 4%)\n",
            "updating: content/subplot/fig 94.png (deflated 4%)\n",
            "updating: content/subplot/fig 58.png (deflated 4%)\n",
            "updating: content/subplot/fig 26.png (deflated 4%)\n",
            "updating: content/subplot/fig 52.png (deflated 4%)\n",
            "updating: content/subplot/fig 183.png (deflated 4%)\n",
            "updating: content/subplot/fig 11.png (deflated 4%)\n",
            "updating: content/subplot/fig 165.png (deflated 5%)\n",
            "updating: content/subplot/fig 2.png (deflated 4%)\n",
            "updating: content/subplot/fig 118.png (deflated 4%)\n",
            "updating: content/subplot/fig 171.png (deflated 4%)\n",
            "updating: content/subplot/fig 111.png (deflated 5%)\n",
            "updating: content/subplot/fig 163.png (deflated 4%)\n",
            "updating: content/subplot/fig 8.png (deflated 4%)\n",
            "updating: content/subplot/fig 160.png (deflated 4%)\n",
            "updating: content/subplot/fig 157.png (deflated 4%)\n",
            "updating: content/subplot/fig 186.png (deflated 4%)\n",
            "updating: content/subplot/fig 124.png (deflated 5%)\n",
            "updating: content/subplot/fig 184.png (deflated 3%)\n",
            "updating: content/subplot/fig 21.png (deflated 4%)\n",
            "updating: content/subplot/fig 55.png (deflated 6%)\n",
            "updating: content/subplot/fig 59.png (deflated 4%)\n",
            "updating: content/subplot/fig 140.png (deflated 5%)\n",
            "updating: content/subplot/fig 191.png (deflated 4%)\n",
            "updating: content/subplot/fig 158.png (deflated 4%)\n",
            "updating: content/subplot/fig 164.png (deflated 5%)\n",
            "updating: content/subplot/fig 60.png (deflated 5%)\n",
            "updating: content/subplot/fig 51.png (deflated 4%)\n",
            "updating: content/subplot/fig 108.png (deflated 4%)\n",
            "updating: content/subplot/fig 86.png (deflated 4%)\n",
            "updating: content/subplot/fig 156.png (deflated 5%)\n",
            "updating: content/subplot/fig 142.png (deflated 5%)\n",
            "updating: content/subplot/fig 10.png (deflated 4%)\n",
            "updating: content/subplot/fig 89.png (deflated 3%)\n",
            "updating: content/subplot/fig 170.png (deflated 4%)\n",
            "updating: content/subplot/fig 44.png (deflated 4%)\n",
            "updating: content/subplot/fig 66.png (deflated 4%)\n",
            "updating: content/subplot/fig 42.png (deflated 3%)\n",
            "updating: content/subplot/fig 117.png (deflated 4%)\n",
            "updating: content/subplot/fig 13.png (deflated 4%)\n",
            "updating: content/subplot/fig 22.png (deflated 4%)\n",
            "updating: content/subplot/fig 110.png (deflated 4%)\n",
            "updating: content/subplot/fig 88.png (deflated 3%)\n",
            "updating: content/subplot/fig 68.png (deflated 3%)\n",
            "updating: content/subplot/fig 4.png (deflated 4%)\n",
            "updating: content/subplot/fig 25.png (deflated 4%)\n",
            "updating: content/subplot/fig 101.png (deflated 5%)\n",
            "updating: content/subplot/fig 105.png (deflated 4%)\n",
            "updating: content/subplot/fig 1.png (deflated 4%)\n",
            "updating: content/subplot/fig 155.png (deflated 4%)\n",
            "updating: content/subplot/fig 109.png (deflated 4%)\n",
            "updating: content/subplot/fig 112.png (deflated 5%)\n",
            "updating: content/subplot/fig 7.png (deflated 4%)\n",
            "updating: content/subplot/fig 154.png (deflated 4%)\n",
            "updating: content/subplot/fig 31.png (deflated 3%)\n",
            "updating: content/subplot/fig 33.png (deflated 4%)\n",
            "updating: content/subplot/fig 63.png (deflated 4%)\n",
            "updating: content/subplot/fig 87.png (deflated 4%)\n",
            "updating: content/subplot/fig 72.png (deflated 4%)\n",
            "updating: content/subplot/fig 185.png (deflated 6%)\n",
            "updating: content/subplot/fig 139.png (deflated 5%)\n",
            "updating: content/subplot/fig 57.png (deflated 3%)\n",
            "updating: content/subplot/fig 121.png (deflated 5%)\n",
            "updating: content/subplot/fig 126.png (deflated 5%)\n",
            "updating: content/subplot/fig 48.png (deflated 4%)\n",
            "updating: content/subplot/fig 143.png (deflated 5%)\n",
            "updating: content/subplot/fig 75.png (deflated 4%)\n",
            "updating: content/subplot/fig 145.png (deflated 4%)\n",
            "updating: content/subplot/fig 24.png (deflated 4%)\n",
            "updating: content/subplot/fig 159.png (deflated 3%)\n",
            "updating: content/subplot/fig 56.png (deflated 4%)\n",
            "updating: content/subplot/fig 38.png (deflated 4%)\n",
            "updating: content/subplot/fig 37.png (deflated 4%)\n",
            "updating: content/subplot/fig 17.png (deflated 4%)\n",
            "updating: content/subplot/fig 177.png (deflated 5%)\n",
            "updating: content/subplot/fig 113.png (deflated 5%)\n",
            "updating: content/subplot/fig 30.png (deflated 3%)\n",
            "updating: content/subplot/fig 50.png (deflated 5%)\n",
            "updating: content/subplot/fig 106.png (deflated 5%)\n",
            "updating: content/subplot/fig 162.png (deflated 4%)\n",
            "updating: content/subplot/fig 187.png (deflated 6%)\n",
            "updating: content/subplot/fig 41.png (deflated 3%)\n",
            "updating: content/subplot/fig 9.png (deflated 5%)\n",
            "updating: content/subplot/fig 178.png (deflated 4%)\n",
            "updating: content/subplot/fig 35.png (deflated 4%)\n",
            "updating: content/subplot/fig 99.png (deflated 4%)\n",
            "updating: content/subplot/fig 54.png (deflated 4%)\n",
            "updating: content/subplot/fig 80.png (deflated 4%)\n",
            "updating: content/subplot/fig 81.png (deflated 4%)\n",
            "updating: content/subplot/fig 169.png (deflated 5%)\n",
            "updating: content/subplot/fig 45.png (deflated 4%)\n"
          ]
        }
      ]
    }
  ]
}