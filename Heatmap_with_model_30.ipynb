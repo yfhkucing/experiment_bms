{
  "nbformat": 4,
  "nbformat_minor": 0,
  "metadata": {
    "colab": {
      "provenance": [],
      "authorship_tag": "ABX9TyPbUHUwWG7whsR0frqVEkUH",
      "include_colab_link": true
    },
    "kernelspec": {
      "name": "python3",
      "display_name": "Python 3"
    },
    "language_info": {
      "name": "python"
    }
  },
  "cells": [
    {
      "cell_type": "markdown",
      "metadata": {
        "id": "view-in-github",
        "colab_type": "text"
      },
      "source": [
        "<a href=\"https://colab.research.google.com/github/yfhkucing/experiment_bms/blob/master/Heatmap_with_model_30.ipynb\" target=\"_parent\"><img src=\"https://colab.research.google.com/assets/colab-badge.svg\" alt=\"Open In Colab\"/></a>"
      ]
    },
    {
      "cell_type": "code",
      "execution_count": 1,
      "metadata": {
        "id": "NXu4P_QUDucM",
        "colab": {
          "base_uri": "https://localhost:8080/"
        },
        "outputId": "356b73cd-879b-4994-c69c-f0b5b2f24895"
      },
      "outputs": [
        {
          "output_type": "stream",
          "name": "stdout",
          "text": [
            "Looking in indexes: https://pypi.org/simple, https://us-python.pkg.dev/colab-wheels/public/simple/\n",
            "Collecting kaleido\n",
            "  Downloading kaleido-0.2.1-py2.py3-none-manylinux1_x86_64.whl (79.9 MB)\n",
            "\u001b[K     |████████████████████████████████| 79.9 MB 1.3 MB/s \n",
            "\u001b[?25hInstalling collected packages: kaleido\n",
            "Successfully installed kaleido-0.2.1\n"
          ]
        }
      ],
      "source": [
        "! pip install -U kaleido"
      ]
    },
    {
      "cell_type": "code",
      "source": [
        "import joblib\n",
        "import numpy as np\n",
        "import pandas as pd"
      ],
      "metadata": {
        "id": "qw0CDLlED9Ln"
      },
      "execution_count": 2,
      "outputs": []
    },
    {
      "cell_type": "code",
      "source": [
        "! unzip /content/model_30_a0001_norm.zip"
      ],
      "metadata": {
        "id": "Lt4Vet59D-DM",
        "colab": {
          "base_uri": "https://localhost:8080/"
        },
        "outputId": "1d95367a-5b1d-460e-b309-ecfc1acd05c7"
      },
      "execution_count": 3,
      "outputs": [
        {
          "output_type": "stream",
          "name": "stdout",
          "text": [
            "Archive:  /content/model_30_a0001_norm.zip\n",
            "   creating: content/models/\n",
            "  inflating: content/models/model 25  \n",
            "  inflating: content/models/model 18  \n",
            "  inflating: content/models/model 27  \n",
            "  inflating: content/models/model 4  \n",
            "  inflating: content/models/model 23  \n",
            "  inflating: content/models/model 26  \n",
            "  inflating: content/models/model 3  \n",
            "  inflating: content/models/model 11  \n",
            "  inflating: content/models/model 0  \n",
            "  inflating: content/models/model 21  \n",
            "  inflating: content/models/model 14  \n",
            "  inflating: content/models/model 9  \n",
            "  inflating: content/models/model 2  \n",
            "  inflating: content/models/model 13  \n",
            "  inflating: content/models/model 19  \n",
            "  inflating: content/models/model 8  \n",
            "  inflating: content/models/model 16  \n",
            "  inflating: content/models/model 12  \n",
            "  inflating: content/models/model 28  \n",
            "  inflating: content/models/model 10  \n",
            "  inflating: content/models/model 6  \n",
            "  inflating: content/models/model 29  \n",
            "  inflating: content/models/model 5  \n",
            "  inflating: content/models/model 15  \n",
            "  inflating: content/models/model 24  \n",
            "  inflating: content/models/model 17  \n",
            "  inflating: content/models/model 7  \n",
            "  inflating: content/models/model 1  \n",
            "  inflating: content/models/model 20  \n",
            "  inflating: content/models/model 22  \n"
          ]
        }
      ]
    },
    {
      "cell_type": "code",
      "source": [
        "feature = pd.read_excel('data_model.xlsx',sheet_name='feature')\n",
        "label = pd.read_excel('data_model.xlsx',sheet_name='label_30')"
      ],
      "metadata": {
        "id": "WzUeTqK_EKT6"
      },
      "execution_count": 4,
      "outputs": []
    },
    {
      "cell_type": "code",
      "source": [
        "def norm(df):\n",
        "  df=(df-df.min())/(df.max()-df.min())\n",
        "  return df\n",
        "\n",
        "def remap(df,new_max,new_min):\n",
        "  df = (df-df.min())/(df.max()-df.min())*(new_max - new_min) + new_min\n",
        "  return df\n",
        "\n",
        "from sklearn.preprocessing import StandardScaler\n",
        "def standard(df):\n",
        "  scaler = StandardScaler()\n",
        "  df = scaler.fit_transform(df)\n",
        "  return df\n",
        "\n",
        "def rescale(df,df2):\n",
        "  new_max = df2.max()\n",
        "  new_min = df2.min()\n",
        "  df = (df)*(new_max - new_min) + new_min\n",
        "  return df"
      ],
      "metadata": {
        "id": "4-DWQb7sELJ1"
      },
      "execution_count": 6,
      "outputs": []
    },
    {
      "cell_type": "code",
      "source": [
        "feature = norm(feature)"
      ],
      "metadata": {
        "id": "a1XbnNhOCzmM"
      },
      "execution_count": 7,
      "outputs": []
    },
    {
      "cell_type": "code",
      "source": [
        "array_y = []\n",
        "array_y_not_normal = []\n",
        "for i in range(30):\n",
        "  frame= label[i::30]\n",
        "  frame = frame.drop(['koor_x','koor_y'],axis=1)\n",
        "  frame = frame.drop(['Vx','Vy'],axis=1)\n",
        "  array_y_not_normal.append(frame)\n",
        "  frame = norm(frame)\n",
        "  array_y.append(frame)"
      ],
      "metadata": {
        "id": "E0bKC3j2EipE"
      },
      "execution_count": 11,
      "outputs": []
    },
    {
      "cell_type": "code",
      "source": [
        "from sklearn.model_selection import train_test_split\n",
        "from sklearn.metrics import r2_score as r2\n",
        "from sklearn.metrics import mean_squared_error as mse\n",
        "from sklearn.metrics import mean_absolute_error as mae\n",
        "\n",
        "skor_r2=[]\n",
        "mae_=[]\n",
        "rmse = []\n",
        "y_predict = []\n",
        "y_test = []\n",
        "for i in range(30):\n",
        "  x = np.array(feature)\n",
        "  y = np.array(array_y[i])\n",
        "  model = joblib.load(f'/content/content/models/model {i}')\n",
        "  y_pred = model.predict(x)\n",
        "  Skor_r2 = r2(y,y_pred)\n",
        "  RMSE = mse(y,y_pred,squared=False)\n",
        "  MAE = mae(y,y_pred)\n",
        "  y_predict.append(y_pred)\n",
        "  skor_r2.append(Skor_r2)\n",
        "  mae_.append(MAE)\n",
        "  rmse.append(RMSE)"
      ],
      "metadata": {
        "id": "bVqomvIxErwf"
      },
      "execution_count": 14,
      "outputs": []
    },
    {
      "cell_type": "code",
      "source": [
        "skor_r2 = np.array(skor_r2)\n",
        "rmse = np.array(rmse)\n",
        "mae_=np.array(mae_)\n",
        "y_predict = np.array(y_predict)\n",
        "y = np.array(array_y)"
      ],
      "metadata": {
        "id": "4Qt09poyFLkU"
      },
      "execution_count": 15,
      "outputs": []
    },
    {
      "cell_type": "code",
      "source": [
        "#error per skenario\n",
        "\n",
        "r_squared = []\n",
        "abs_error = []\n",
        "sqrt_error = []\n",
        "for i in range(192):\n",
        "  a = y[...,i,0]\n",
        "  b = y_predict[...,i]\n",
        "  r_squared.append(r2(a,b))\n",
        "  abs_error.append(mae(a,b))\n",
        "  sqrt_error.append(mse(a,b))"
      ],
      "metadata": {
        "id": "iFE02HBIFSEg"
      },
      "execution_count": 16,
      "outputs": []
    },
    {
      "cell_type": "code",
      "source": [
        "error = pd.DataFrame(r_squared,columns=['r2'])\n",
        "abs_error = pd.DataFrame(abs_error,columns=['mae'])\n",
        "sqrt_error = pd.DataFrame(sqrt_error,columns=['rmse'])\n",
        "error = error.join(abs_error)\n",
        "error = error.join(sqrt_error)"
      ],
      "metadata": {
        "id": "MnTGB6WoFXB4"
      },
      "execution_count": 17,
      "outputs": []
    },
    {
      "cell_type": "code",
      "source": [
        "df_koor = pd.read_excel('data_model.xlsx',sheet_name='koordinat_30_aktual')"
      ],
      "metadata": {
        "id": "80jx_GOzep_1"
      },
      "execution_count": 26,
      "outputs": []
    },
    {
      "cell_type": "code",
      "source": [
        "df_y = []\n",
        "df_y_predict = []\n",
        "for i in range(30):\n",
        "  q = pd.DataFrame(y[i],columns=['Temp'])\n",
        "  q = round(rescale(q,array_y_not_normal[i]),9)\n",
        "  df_y.append(q)\n",
        "  r = round(pd.DataFrame(y_predict[i],columns=['Temp']),9)\n",
        "  r = rescale(r,array_y_not_normal[i])\n",
        "  df_y_predict.append(r)"
      ],
      "metadata": {
        "id": "4PdgjNKwcqtF"
      },
      "execution_count": 27,
      "outputs": []
    },
    {
      "cell_type": "code",
      "source": [
        "def suhu(y,scenarios):\n",
        "  df_x = pd.DataFrame(y[...,scenarios,0])\n",
        "  df_x = df_x.join(df_koor)\n",
        "  df_x.rename(columns={0:'Temp'},inplace=True)\n",
        "  return df_x"
      ],
      "metadata": {
        "id": "i577cTyveDwx"
      },
      "execution_count": 28,
      "outputs": []
    },
    {
      "cell_type": "code",
      "source": [
        "#error per skenario\n",
        "\n",
        "r_squared = []\n",
        "abs_error = []\n",
        "sqrt_error = []\n",
        "indexing = 0,1\n",
        "for i in range(192):\n",
        "  a = suhu(np.array(df_y),i)\n",
        "  a.drop(['koor_x','koor_y'],axis=1)\n",
        "  b = suhu(np.array(df_y_predict),i)\n",
        "  b.drop(['koor_x','koor_y'],axis=1)\n",
        "  r_squared.append(r2(a,b))\n",
        "  abs_error.append(mae(a,b))\n",
        "  sqrt_error.append(mse(a,b))\n",
        "\n",
        "error = pd.DataFrame(r_squared,columns=['r2'])\n",
        "abs_error = pd.DataFrame(abs_error,columns=['mae'])\n",
        "sqrt_error = pd.DataFrame(sqrt_error,columns=['rmse'])\n",
        "error = error.join(abs_error)\n",
        "error = error.join(sqrt_error)"
      ],
      "metadata": {
        "id": "n4kYNfvTdBXh"
      },
      "execution_count": 29,
      "outputs": []
    },
    {
      "cell_type": "code",
      "source": [
        "error.describe()"
      ],
      "metadata": {
        "id": "wQwMlbfAdGC7",
        "outputId": "2630d08e-addc-4fd2-d2a6-5bf52b91fa7e",
        "colab": {
          "base_uri": "https://localhost:8080/",
          "height": 300
        }
      },
      "execution_count": 30,
      "outputs": [
        {
          "output_type": "execute_result",
          "data": {
            "text/plain": [
              "               r2         mae        rmse\n",
              "count  192.000000  192.000000  192.000000\n",
              "mean     0.470006    0.431498    0.985852\n",
              "std      1.481320    0.299594    1.148082\n",
              "min    -12.220564    0.053752    0.013232\n",
              "25%      0.630498    0.151187    0.106445\n",
              "50%      0.898773    0.386277    0.525368\n",
              "75%      0.971126    0.655874    1.587635\n",
              "max      0.996769    1.274811    5.613169"
            ],
            "text/html": [
              "\n",
              "  <div id=\"df-1a1a3083-c696-419c-a380-4c585d4a4515\">\n",
              "    <div class=\"colab-df-container\">\n",
              "      <div>\n",
              "<style scoped>\n",
              "    .dataframe tbody tr th:only-of-type {\n",
              "        vertical-align: middle;\n",
              "    }\n",
              "\n",
              "    .dataframe tbody tr th {\n",
              "        vertical-align: top;\n",
              "    }\n",
              "\n",
              "    .dataframe thead th {\n",
              "        text-align: right;\n",
              "    }\n",
              "</style>\n",
              "<table border=\"1\" class=\"dataframe\">\n",
              "  <thead>\n",
              "    <tr style=\"text-align: right;\">\n",
              "      <th></th>\n",
              "      <th>r2</th>\n",
              "      <th>mae</th>\n",
              "      <th>rmse</th>\n",
              "    </tr>\n",
              "  </thead>\n",
              "  <tbody>\n",
              "    <tr>\n",
              "      <th>count</th>\n",
              "      <td>192.000000</td>\n",
              "      <td>192.000000</td>\n",
              "      <td>192.000000</td>\n",
              "    </tr>\n",
              "    <tr>\n",
              "      <th>mean</th>\n",
              "      <td>0.470006</td>\n",
              "      <td>0.431498</td>\n",
              "      <td>0.985852</td>\n",
              "    </tr>\n",
              "    <tr>\n",
              "      <th>std</th>\n",
              "      <td>1.481320</td>\n",
              "      <td>0.299594</td>\n",
              "      <td>1.148082</td>\n",
              "    </tr>\n",
              "    <tr>\n",
              "      <th>min</th>\n",
              "      <td>-12.220564</td>\n",
              "      <td>0.053752</td>\n",
              "      <td>0.013232</td>\n",
              "    </tr>\n",
              "    <tr>\n",
              "      <th>25%</th>\n",
              "      <td>0.630498</td>\n",
              "      <td>0.151187</td>\n",
              "      <td>0.106445</td>\n",
              "    </tr>\n",
              "    <tr>\n",
              "      <th>50%</th>\n",
              "      <td>0.898773</td>\n",
              "      <td>0.386277</td>\n",
              "      <td>0.525368</td>\n",
              "    </tr>\n",
              "    <tr>\n",
              "      <th>75%</th>\n",
              "      <td>0.971126</td>\n",
              "      <td>0.655874</td>\n",
              "      <td>1.587635</td>\n",
              "    </tr>\n",
              "    <tr>\n",
              "      <th>max</th>\n",
              "      <td>0.996769</td>\n",
              "      <td>1.274811</td>\n",
              "      <td>5.613169</td>\n",
              "    </tr>\n",
              "  </tbody>\n",
              "</table>\n",
              "</div>\n",
              "      <button class=\"colab-df-convert\" onclick=\"convertToInteractive('df-1a1a3083-c696-419c-a380-4c585d4a4515')\"\n",
              "              title=\"Convert this dataframe to an interactive table.\"\n",
              "              style=\"display:none;\">\n",
              "        \n",
              "  <svg xmlns=\"http://www.w3.org/2000/svg\" height=\"24px\"viewBox=\"0 0 24 24\"\n",
              "       width=\"24px\">\n",
              "    <path d=\"M0 0h24v24H0V0z\" fill=\"none\"/>\n",
              "    <path d=\"M18.56 5.44l.94 2.06.94-2.06 2.06-.94-2.06-.94-.94-2.06-.94 2.06-2.06.94zm-11 1L8.5 8.5l.94-2.06 2.06-.94-2.06-.94L8.5 2.5l-.94 2.06-2.06.94zm10 10l.94 2.06.94-2.06 2.06-.94-2.06-.94-.94-2.06-.94 2.06-2.06.94z\"/><path d=\"M17.41 7.96l-1.37-1.37c-.4-.4-.92-.59-1.43-.59-.52 0-1.04.2-1.43.59L10.3 9.45l-7.72 7.72c-.78.78-.78 2.05 0 2.83L4 21.41c.39.39.9.59 1.41.59.51 0 1.02-.2 1.41-.59l7.78-7.78 2.81-2.81c.8-.78.8-2.07 0-2.86zM5.41 20L4 18.59l7.72-7.72 1.47 1.35L5.41 20z\"/>\n",
              "  </svg>\n",
              "      </button>\n",
              "      \n",
              "  <style>\n",
              "    .colab-df-container {\n",
              "      display:flex;\n",
              "      flex-wrap:wrap;\n",
              "      gap: 12px;\n",
              "    }\n",
              "\n",
              "    .colab-df-convert {\n",
              "      background-color: #E8F0FE;\n",
              "      border: none;\n",
              "      border-radius: 50%;\n",
              "      cursor: pointer;\n",
              "      display: none;\n",
              "      fill: #1967D2;\n",
              "      height: 32px;\n",
              "      padding: 0 0 0 0;\n",
              "      width: 32px;\n",
              "    }\n",
              "\n",
              "    .colab-df-convert:hover {\n",
              "      background-color: #E2EBFA;\n",
              "      box-shadow: 0px 1px 2px rgba(60, 64, 67, 0.3), 0px 1px 3px 1px rgba(60, 64, 67, 0.15);\n",
              "      fill: #174EA6;\n",
              "    }\n",
              "\n",
              "    [theme=dark] .colab-df-convert {\n",
              "      background-color: #3B4455;\n",
              "      fill: #D2E3FC;\n",
              "    }\n",
              "\n",
              "    [theme=dark] .colab-df-convert:hover {\n",
              "      background-color: #434B5C;\n",
              "      box-shadow: 0px 1px 3px 1px rgba(0, 0, 0, 0.15);\n",
              "      filter: drop-shadow(0px 1px 2px rgba(0, 0, 0, 0.3));\n",
              "      fill: #FFFFFF;\n",
              "    }\n",
              "  </style>\n",
              "\n",
              "      <script>\n",
              "        const buttonEl =\n",
              "          document.querySelector('#df-1a1a3083-c696-419c-a380-4c585d4a4515 button.colab-df-convert');\n",
              "        buttonEl.style.display =\n",
              "          google.colab.kernel.accessAllowed ? 'block' : 'none';\n",
              "\n",
              "        async function convertToInteractive(key) {\n",
              "          const element = document.querySelector('#df-1a1a3083-c696-419c-a380-4c585d4a4515');\n",
              "          const dataTable =\n",
              "            await google.colab.kernel.invokeFunction('convertToInteractive',\n",
              "                                                     [key], {});\n",
              "          if (!dataTable) return;\n",
              "\n",
              "          const docLinkHtml = 'Like what you see? Visit the ' +\n",
              "            '<a target=\"_blank\" href=https://colab.research.google.com/notebooks/data_table.ipynb>data table notebook</a>'\n",
              "            + ' to learn more about interactive tables.';\n",
              "          element.innerHTML = '';\n",
              "          dataTable['output_type'] = 'display_data';\n",
              "          await google.colab.output.renderOutput(dataTable, element);\n",
              "          const docLink = document.createElement('div');\n",
              "          docLink.innerHTML = docLinkHtml;\n",
              "          element.appendChild(docLink);\n",
              "        }\n",
              "      </script>\n",
              "    </div>\n",
              "  </div>\n",
              "  "
            ]
          },
          "metadata": {},
          "execution_count": 30
        }
      ]
    },
    {
      "cell_type": "code",
      "source": [
        "min_error = error[error.r2 == error.r2.max()]\n",
        "min_error"
      ],
      "metadata": {
        "id": "P_bIaU4qdHf5",
        "outputId": "0b4e3def-456c-4e24-f837-103db7fb7899",
        "colab": {
          "base_uri": "https://localhost:8080/",
          "height": 81
        }
      },
      "execution_count": 31,
      "outputs": [
        {
          "output_type": "execute_result",
          "data": {
            "text/plain": [
              "           r2      mae      rmse\n",
              "117  0.996769  0.05919  0.014805"
            ],
            "text/html": [
              "\n",
              "  <div id=\"df-4d8c6fd3-78ef-45aa-b1af-4cb3688d6f33\">\n",
              "    <div class=\"colab-df-container\">\n",
              "      <div>\n",
              "<style scoped>\n",
              "    .dataframe tbody tr th:only-of-type {\n",
              "        vertical-align: middle;\n",
              "    }\n",
              "\n",
              "    .dataframe tbody tr th {\n",
              "        vertical-align: top;\n",
              "    }\n",
              "\n",
              "    .dataframe thead th {\n",
              "        text-align: right;\n",
              "    }\n",
              "</style>\n",
              "<table border=\"1\" class=\"dataframe\">\n",
              "  <thead>\n",
              "    <tr style=\"text-align: right;\">\n",
              "      <th></th>\n",
              "      <th>r2</th>\n",
              "      <th>mae</th>\n",
              "      <th>rmse</th>\n",
              "    </tr>\n",
              "  </thead>\n",
              "  <tbody>\n",
              "    <tr>\n",
              "      <th>117</th>\n",
              "      <td>0.996769</td>\n",
              "      <td>0.05919</td>\n",
              "      <td>0.014805</td>\n",
              "    </tr>\n",
              "  </tbody>\n",
              "</table>\n",
              "</div>\n",
              "      <button class=\"colab-df-convert\" onclick=\"convertToInteractive('df-4d8c6fd3-78ef-45aa-b1af-4cb3688d6f33')\"\n",
              "              title=\"Convert this dataframe to an interactive table.\"\n",
              "              style=\"display:none;\">\n",
              "        \n",
              "  <svg xmlns=\"http://www.w3.org/2000/svg\" height=\"24px\"viewBox=\"0 0 24 24\"\n",
              "       width=\"24px\">\n",
              "    <path d=\"M0 0h24v24H0V0z\" fill=\"none\"/>\n",
              "    <path d=\"M18.56 5.44l.94 2.06.94-2.06 2.06-.94-2.06-.94-.94-2.06-.94 2.06-2.06.94zm-11 1L8.5 8.5l.94-2.06 2.06-.94-2.06-.94L8.5 2.5l-.94 2.06-2.06.94zm10 10l.94 2.06.94-2.06 2.06-.94-2.06-.94-.94-2.06-.94 2.06-2.06.94z\"/><path d=\"M17.41 7.96l-1.37-1.37c-.4-.4-.92-.59-1.43-.59-.52 0-1.04.2-1.43.59L10.3 9.45l-7.72 7.72c-.78.78-.78 2.05 0 2.83L4 21.41c.39.39.9.59 1.41.59.51 0 1.02-.2 1.41-.59l7.78-7.78 2.81-2.81c.8-.78.8-2.07 0-2.86zM5.41 20L4 18.59l7.72-7.72 1.47 1.35L5.41 20z\"/>\n",
              "  </svg>\n",
              "      </button>\n",
              "      \n",
              "  <style>\n",
              "    .colab-df-container {\n",
              "      display:flex;\n",
              "      flex-wrap:wrap;\n",
              "      gap: 12px;\n",
              "    }\n",
              "\n",
              "    .colab-df-convert {\n",
              "      background-color: #E8F0FE;\n",
              "      border: none;\n",
              "      border-radius: 50%;\n",
              "      cursor: pointer;\n",
              "      display: none;\n",
              "      fill: #1967D2;\n",
              "      height: 32px;\n",
              "      padding: 0 0 0 0;\n",
              "      width: 32px;\n",
              "    }\n",
              "\n",
              "    .colab-df-convert:hover {\n",
              "      background-color: #E2EBFA;\n",
              "      box-shadow: 0px 1px 2px rgba(60, 64, 67, 0.3), 0px 1px 3px 1px rgba(60, 64, 67, 0.15);\n",
              "      fill: #174EA6;\n",
              "    }\n",
              "\n",
              "    [theme=dark] .colab-df-convert {\n",
              "      background-color: #3B4455;\n",
              "      fill: #D2E3FC;\n",
              "    }\n",
              "\n",
              "    [theme=dark] .colab-df-convert:hover {\n",
              "      background-color: #434B5C;\n",
              "      box-shadow: 0px 1px 3px 1px rgba(0, 0, 0, 0.15);\n",
              "      filter: drop-shadow(0px 1px 2px rgba(0, 0, 0, 0.3));\n",
              "      fill: #FFFFFF;\n",
              "    }\n",
              "  </style>\n",
              "\n",
              "      <script>\n",
              "        const buttonEl =\n",
              "          document.querySelector('#df-4d8c6fd3-78ef-45aa-b1af-4cb3688d6f33 button.colab-df-convert');\n",
              "        buttonEl.style.display =\n",
              "          google.colab.kernel.accessAllowed ? 'block' : 'none';\n",
              "\n",
              "        async function convertToInteractive(key) {\n",
              "          const element = document.querySelector('#df-4d8c6fd3-78ef-45aa-b1af-4cb3688d6f33');\n",
              "          const dataTable =\n",
              "            await google.colab.kernel.invokeFunction('convertToInteractive',\n",
              "                                                     [key], {});\n",
              "          if (!dataTable) return;\n",
              "\n",
              "          const docLinkHtml = 'Like what you see? Visit the ' +\n",
              "            '<a target=\"_blank\" href=https://colab.research.google.com/notebooks/data_table.ipynb>data table notebook</a>'\n",
              "            + ' to learn more about interactive tables.';\n",
              "          element.innerHTML = '';\n",
              "          dataTable['output_type'] = 'display_data';\n",
              "          await google.colab.output.renderOutput(dataTable, element);\n",
              "          const docLink = document.createElement('div');\n",
              "          docLink.innerHTML = docLinkHtml;\n",
              "          element.appendChild(docLink);\n",
              "        }\n",
              "      </script>\n",
              "    </div>\n",
              "  </div>\n",
              "  "
            ]
          },
          "metadata": {},
          "execution_count": 31
        }
      ]
    },
    {
      "cell_type": "code",
      "source": [
        "max_error = error[error.r2 == error.r2.min()]\n",
        "max_error"
      ],
      "metadata": {
        "id": "olcJl2ScdJcy",
        "outputId": "ac1f0f35-c51f-4e8b-8212-8687dc5c2a85",
        "colab": {
          "base_uri": "https://localhost:8080/",
          "height": 81
        }
      },
      "execution_count": 32,
      "outputs": [
        {
          "output_type": "execute_result",
          "data": {
            "text/plain": [
              "           r2       mae      rmse\n",
              "59 -12.220564  0.773119  2.285103"
            ],
            "text/html": [
              "\n",
              "  <div id=\"df-97f181f7-e22a-4407-968c-d5c32813da94\">\n",
              "    <div class=\"colab-df-container\">\n",
              "      <div>\n",
              "<style scoped>\n",
              "    .dataframe tbody tr th:only-of-type {\n",
              "        vertical-align: middle;\n",
              "    }\n",
              "\n",
              "    .dataframe tbody tr th {\n",
              "        vertical-align: top;\n",
              "    }\n",
              "\n",
              "    .dataframe thead th {\n",
              "        text-align: right;\n",
              "    }\n",
              "</style>\n",
              "<table border=\"1\" class=\"dataframe\">\n",
              "  <thead>\n",
              "    <tr style=\"text-align: right;\">\n",
              "      <th></th>\n",
              "      <th>r2</th>\n",
              "      <th>mae</th>\n",
              "      <th>rmse</th>\n",
              "    </tr>\n",
              "  </thead>\n",
              "  <tbody>\n",
              "    <tr>\n",
              "      <th>59</th>\n",
              "      <td>-12.220564</td>\n",
              "      <td>0.773119</td>\n",
              "      <td>2.285103</td>\n",
              "    </tr>\n",
              "  </tbody>\n",
              "</table>\n",
              "</div>\n",
              "      <button class=\"colab-df-convert\" onclick=\"convertToInteractive('df-97f181f7-e22a-4407-968c-d5c32813da94')\"\n",
              "              title=\"Convert this dataframe to an interactive table.\"\n",
              "              style=\"display:none;\">\n",
              "        \n",
              "  <svg xmlns=\"http://www.w3.org/2000/svg\" height=\"24px\"viewBox=\"0 0 24 24\"\n",
              "       width=\"24px\">\n",
              "    <path d=\"M0 0h24v24H0V0z\" fill=\"none\"/>\n",
              "    <path d=\"M18.56 5.44l.94 2.06.94-2.06 2.06-.94-2.06-.94-.94-2.06-.94 2.06-2.06.94zm-11 1L8.5 8.5l.94-2.06 2.06-.94-2.06-.94L8.5 2.5l-.94 2.06-2.06.94zm10 10l.94 2.06.94-2.06 2.06-.94-2.06-.94-.94-2.06-.94 2.06-2.06.94z\"/><path d=\"M17.41 7.96l-1.37-1.37c-.4-.4-.92-.59-1.43-.59-.52 0-1.04.2-1.43.59L10.3 9.45l-7.72 7.72c-.78.78-.78 2.05 0 2.83L4 21.41c.39.39.9.59 1.41.59.51 0 1.02-.2 1.41-.59l7.78-7.78 2.81-2.81c.8-.78.8-2.07 0-2.86zM5.41 20L4 18.59l7.72-7.72 1.47 1.35L5.41 20z\"/>\n",
              "  </svg>\n",
              "      </button>\n",
              "      \n",
              "  <style>\n",
              "    .colab-df-container {\n",
              "      display:flex;\n",
              "      flex-wrap:wrap;\n",
              "      gap: 12px;\n",
              "    }\n",
              "\n",
              "    .colab-df-convert {\n",
              "      background-color: #E8F0FE;\n",
              "      border: none;\n",
              "      border-radius: 50%;\n",
              "      cursor: pointer;\n",
              "      display: none;\n",
              "      fill: #1967D2;\n",
              "      height: 32px;\n",
              "      padding: 0 0 0 0;\n",
              "      width: 32px;\n",
              "    }\n",
              "\n",
              "    .colab-df-convert:hover {\n",
              "      background-color: #E2EBFA;\n",
              "      box-shadow: 0px 1px 2px rgba(60, 64, 67, 0.3), 0px 1px 3px 1px rgba(60, 64, 67, 0.15);\n",
              "      fill: #174EA6;\n",
              "    }\n",
              "\n",
              "    [theme=dark] .colab-df-convert {\n",
              "      background-color: #3B4455;\n",
              "      fill: #D2E3FC;\n",
              "    }\n",
              "\n",
              "    [theme=dark] .colab-df-convert:hover {\n",
              "      background-color: #434B5C;\n",
              "      box-shadow: 0px 1px 3px 1px rgba(0, 0, 0, 0.15);\n",
              "      filter: drop-shadow(0px 1px 2px rgba(0, 0, 0, 0.3));\n",
              "      fill: #FFFFFF;\n",
              "    }\n",
              "  </style>\n",
              "\n",
              "      <script>\n",
              "        const buttonEl =\n",
              "          document.querySelector('#df-97f181f7-e22a-4407-968c-d5c32813da94 button.colab-df-convert');\n",
              "        buttonEl.style.display =\n",
              "          google.colab.kernel.accessAllowed ? 'block' : 'none';\n",
              "\n",
              "        async function convertToInteractive(key) {\n",
              "          const element = document.querySelector('#df-97f181f7-e22a-4407-968c-d5c32813da94');\n",
              "          const dataTable =\n",
              "            await google.colab.kernel.invokeFunction('convertToInteractive',\n",
              "                                                     [key], {});\n",
              "          if (!dataTable) return;\n",
              "\n",
              "          const docLinkHtml = 'Like what you see? Visit the ' +\n",
              "            '<a target=\"_blank\" href=https://colab.research.google.com/notebooks/data_table.ipynb>data table notebook</a>'\n",
              "            + ' to learn more about interactive tables.';\n",
              "          element.innerHTML = '';\n",
              "          dataTable['output_type'] = 'display_data';\n",
              "          await google.colab.output.renderOutput(dataTable, element);\n",
              "          const docLink = document.createElement('div');\n",
              "          docLink.innerHTML = docLinkHtml;\n",
              "          element.appendChild(docLink);\n",
              "        }\n",
              "      </script>\n",
              "    </div>\n",
              "  </div>\n",
              "  "
            ]
          },
          "metadata": {},
          "execution_count": 32
        }
      ]
    },
    {
      "cell_type": "code",
      "source": [
        "writer = pd.ExcelWriter('temp_30_a0001.xlsx')\n",
        "\n",
        "# Write each dataframe to a different worksheet.\n",
        "error.to_excel(writer, sheet_name='metric',index=False)\n",
        "error.describe().to_excel(writer, sheet_name='metric summary',index=False)\n",
        "min_error.to_excel(writer, sheet_name='minimum error',index=False)\n",
        "max_error.to_excel(writer, sheet_name='maximum error',index=False)\n",
        "\n",
        "# Close the Pandas Excel writer and output the Excel file.\n",
        "writer.save()"
      ],
      "metadata": {
        "id": "mDcT6JezdMgJ"
      },
      "execution_count": 33,
      "outputs": []
    },
    {
      "cell_type": "code",
      "source": [
        "r2_matrix = skor_r2.reshape(5,6)\n",
        "rmse_matrix = rmse.reshape(5,6)\n",
        "mae_matrix = mae_.reshape(5,6)"
      ],
      "metadata": {
        "id": "p6jGOpBOFxMx"
      },
      "execution_count": 34,
      "outputs": []
    },
    {
      "cell_type": "code",
      "source": [
        "import numpy as np\n",
        "import seaborn as sns\n",
        "import matplotlib.pylab as plt\n",
        "\n",
        "ax = sns.heatmap(r2_matrix, linewidth=0.5, cmap=\"RdYlBu\")\n",
        "plt.show()"
      ],
      "metadata": {
        "colab": {
          "base_uri": "https://localhost:8080/",
          "height": 265
        },
        "id": "qzu_TSWdF27T",
        "outputId": "be80cb1f-653f-4b11-8cea-a433eba27a20"
      },
      "execution_count": 35,
      "outputs": [
        {
          "output_type": "display_data",
          "data": {
            "text/plain": [
              "<Figure size 432x288 with 2 Axes>"
            ],
            "image/png": "[encoded data removed]"
          },
          "metadata": {
            "needs_background": "light"
          }
        }
      ]
    },
    {
      "cell_type": "code",
      "source": [
        "bx = sns.heatmap(rmse_matrix, linewidth=0.5, cmap=\"RdYlBu_r\")\n",
        "plt.show()"
      ],
      "metadata": {
        "colab": {
          "base_uri": "https://localhost:8080/",
          "height": 265
        },
        "id": "7YOMr4FBF5T6",
        "outputId": "ba91a801-0f40-4d7a-fc34-1a270d3b471f"
      },
      "execution_count": 36,
      "outputs": [
        {
          "output_type": "display_data",
          "data": {
            "text/plain": [
              "<Figure size 432x288 with 2 Axes>"
            ],
            "image/png": "[encoded data removed]"
          },
          "metadata": {
            "needs_background": "light"
          }
        }
      ]
    },
    {
      "cell_type": "code",
      "source": [
        "bx = sns.heatmap(mae_matrix, linewidth=0.5, cmap=\"RdYlBu_r\")\n",
        "plt.show()"
      ],
      "metadata": {
        "colab": {
          "base_uri": "https://localhost:8080/",
          "height": 265
        },
        "id": "h0YDzpVnF8Bf",
        "outputId": "3ae4b9f1-ae61-40ce-c208-deb3f9f10e35"
      },
      "execution_count": 37,
      "outputs": [
        {
          "output_type": "display_data",
          "data": {
            "text/plain": [
              "<Figure size 432x288 with 2 Axes>"
            ],
            "image/png": "[encoded data removed]"
          },
          "metadata": {
            "needs_background": "light"
          }
        }
      ]
    },
    {
      "cell_type": "code",
      "source": [
        "! mkdir subplot"
      ],
      "metadata": {
        "id": "XUzJzVoTF-Ue"
      },
      "execution_count": 38,
      "outputs": []
    },
    {
      "cell_type": "code",
      "source": [
        "df_koor = pd.read_excel('data_model.xlsx',sheet_name='koordinat_30')"
      ],
      "metadata": {
        "id": "3NW0UjnXGAl-"
      },
      "execution_count": 39,
      "outputs": []
    },
    {
      "cell_type": "code",
      "source": [
        "def suhu(y):\n",
        "  df_y = pd.DataFrame(y)\n",
        "  df_z = pd.DataFrame(y)\n",
        "  df_z.rename(columns={0:1},inplace=True)\n",
        "  df_y = df_y.join(df_z)\n",
        "  df_y = df_y.join(df_koor)\n",
        "  df_y.rename(columns={0:'Vx',1:'suhu'},inplace=True)\n",
        "  df_y.pop('Vx')\n",
        "  return df_y"
      ],
      "metadata": {
        "id": "IjjNitdWGF37"
      },
      "execution_count": 40,
      "outputs": []
    },
    {
      "cell_type": "code",
      "source": [
        "from plotly.subplots import make_subplots\n",
        "for i in range(192):\n",
        "  a = y[(...,i,0)]\n",
        "  b = y_predict[(...,i)]\n",
        "  a = np.array(a)\n",
        "  b = np.array(b)\n",
        "  a = suhu(a)\n",
        "  b = suhu(b)\n",
        "  \n",
        "  fig = make_subplots(rows=1, cols=2)\n",
        "\n",
        "  fig.add_contour(\n",
        "     z = a['suhu'].tolist(),\n",
        "     x = a['koor_x'].tolist(),\n",
        "     y = a['koor_y'].tolist(),\n",
        "     row=1, col=1\n",
        "  )\n",
        "\n",
        "  fig.add_contour(\n",
        "     z = b['suhu'].tolist(),\n",
        "     x = b['koor_x'].tolist(),\n",
        "     y = b['koor_y'].tolist(),\n",
        "     row=1, col=2\n",
        "  )\n",
        "  fig.write_image(f'/content/subplot/fig {i}.png')"
      ],
      "metadata": {
        "id": "pnh3bZIcGItr"
      },
      "execution_count": 41,
      "outputs": []
    },
    {
      "cell_type": "code",
      "source": [
        "!zip -r /content/subplot.zip /content/subplot"
      ],
      "metadata": {
        "colab": {
          "base_uri": "https://localhost:8080/"
        },
        "id": "dfzyDWSUGSCa",
        "outputId": "0d8fd775-c504-4d00-8963-a260f9361433"
      },
      "execution_count": null,
      "outputs": [
        {
          "output_type": "stream",
          "name": "stdout",
          "text": [
            "  adding: content/subplot/ (stored 0%)\n",
            "  adding: content/subplot/fig 39.png (deflated 3%)\n",
            "  adding: content/subplot/fig 104.png (deflated 6%)\n",
            "  adding: content/subplot/fig 172.png (deflated 4%)\n",
            "  adding: content/subplot/fig 146.png (deflated 4%)\n",
            "  adding: content/subplot/fig 153.png (deflated 5%)\n",
            "  adding: content/subplot/fig 70.png (deflated 4%)\n",
            "  adding: content/subplot/fig 32.png (deflated 4%)\n",
            "  adding: content/subplot/fig 180.png (deflated 4%)\n",
            "  adding: content/subplot/fig 84.png (deflated 4%)\n",
            "  adding: content/subplot/fig 93.png (deflated 4%)\n",
            "  adding: content/subplot/fig 189.png (deflated 5%)\n",
            "  adding: content/subplot/fig 0.png (deflated 4%)\n",
            "  adding: content/subplot/fig 125.png (deflated 4%)\n",
            "  adding: content/subplot/fig 3.png (deflated 3%)\n",
            "  adding: content/subplot/fig 137.png (deflated 4%)\n",
            "  adding: content/subplot/fig 144.png (deflated 5%)\n",
            "  adding: content/subplot/fig 67.png (deflated 4%)\n",
            "  adding: content/subplot/fig 129.png (deflated 5%)\n",
            "  adding: content/subplot/fig 135.png (deflated 5%)\n",
            "  adding: content/subplot/fig 53.png (deflated 4%)\n",
            "  adding: content/subplot/fig 23.png (deflated 4%)\n",
            "  adding: content/subplot/fig 132.png (deflated 5%)\n",
            "  adding: content/subplot/fig 107.png (deflated 4%)\n",
            "  adding: content/subplot/fig 29.png (deflated 3%)\n",
            "  adding: content/subplot/fig 173.png (deflated 5%)\n",
            "  adding: content/subplot/fig 114.png (deflated 4%)\n",
            "  adding: content/subplot/fig 136.png (deflated 4%)\n",
            "  adding: content/subplot/fig 128.png (deflated 5%)\n",
            "  adding: content/subplot/fig 168.png (deflated 4%)\n",
            "  adding: content/subplot/fig 28.png (deflated 3%)\n",
            "  adding: content/subplot/fig 47.png (deflated 3%)\n",
            "  adding: content/subplot/fig 141.png (deflated 4%)\n",
            "  adding: content/subplot/fig 43.png (deflated 4%)\n",
            "  adding: content/subplot/fig 138.png (deflated 4%)\n",
            "  adding: content/subplot/fig 34.png (deflated 3%)\n",
            "  adding: content/subplot/fig 69.png (deflated 4%)\n",
            "  adding: content/subplot/fig 64.png (deflated 4%)\n",
            "  adding: content/subplot/fig 152.png (deflated 4%)\n",
            "  adding: content/subplot/fig 14.png (deflated 4%)\n",
            "  adding: content/subplot/fig 19.png (deflated 4%)\n",
            "  adding: content/subplot/fig 133.png (deflated 5%)\n",
            "  adding: content/subplot/fig 61.png (deflated 5%)\n",
            "  adding: content/subplot/fig 100.png (deflated 5%)\n",
            "  adding: content/subplot/fig 123.png (deflated 5%)\n",
            "  adding: content/subplot/fig 147.png (deflated 4%)\n",
            "  adding: content/subplot/fig 102.png (deflated 5%)\n",
            "  adding: content/subplot/fig 120.png (deflated 5%)\n",
            "  adding: content/subplot/fig 46.png (deflated 4%)\n",
            "  adding: content/subplot/fig 83.png (deflated 3%)\n",
            "  adding: content/subplot/fig 181.png (deflated 6%)\n",
            "  adding: content/subplot/fig 179.png (deflated 4%)\n",
            "  adding: content/subplot/fig 20.png (deflated 4%)\n",
            "  adding: content/subplot/fig 49.png (deflated 5%)\n",
            "  adding: content/subplot/fig 74.png (deflated 5%)\n",
            "  adding: content/subplot/fig 96.png (deflated 4%)\n",
            "  adding: content/subplot/fig 71.png (deflated 4%)\n",
            "  adding: content/subplot/fig 91.png (deflated 5%)\n",
            "  adding: content/subplot/fig 92.png (deflated 3%)\n",
            "  adding: content/subplot/fig 16.png (deflated 4%)\n",
            "  adding: content/subplot/fig 27.png (deflated 3%)\n",
            "  adding: content/subplot/fig 174.png (deflated 4%)\n",
            "  adding: content/subplot/fig 119.png (deflated 4%)\n",
            "  adding: content/subplot/fig 150.png (deflated 4%)\n",
            "  adding: content/subplot/fig 182.png (deflated 4%)\n",
            "  adding: content/subplot/fig 18.png (deflated 3%)\n",
            "  adding: content/subplot/fig 151.png (deflated 4%)\n",
            "  adding: content/subplot/fig 149.png (deflated 4%)\n",
            "  adding: content/subplot/fig 90.png (deflated 3%)\n",
            "  adding: content/subplot/fig 78.png (deflated 3%)\n",
            "  adding: content/subplot/fig 115.png (deflated 6%)\n",
            "  adding: content/subplot/fig 62.png (deflated 4%)\n",
            "  adding: content/subplot/fig 85.png (deflated 4%)\n",
            "  adding: content/subplot/fig 77.png (deflated 3%)\n",
            "  adding: content/subplot/fig 65.png (deflated 4%)\n",
            "  adding: content/subplot/fig 166.png (deflated 4%)\n",
            "  adding: content/subplot/fig 98.png (deflated 5%)\n",
            "  adding: content/subplot/fig 73.png (deflated 4%)\n",
            "  adding: content/subplot/fig 82.png (deflated 4%)\n",
            "  adding: content/subplot/fig 122.png (deflated 4%)\n",
            "  adding: content/subplot/fig 148.png (deflated 4%)\n",
            "  adding: content/subplot/fig 116.png (deflated 6%)\n",
            "  adding: content/subplot/fig 5.png (deflated 4%)\n",
            "  adding: content/subplot/fig 130.png (deflated 5%)\n",
            "  adding: content/subplot/fig 40.png (deflated 3%)\n",
            "  adding: content/subplot/fig 167.png (deflated 4%)\n",
            "  adding: content/subplot/fig 15.png (deflated 4%)\n",
            "  adding: content/subplot/fig 103.png (deflated 6%)\n",
            "  adding: content/subplot/fig 161.png (deflated 4%)\n",
            "  adding: content/subplot/fig 131.png (deflated 4%)\n",
            "  adding: content/subplot/fig 79.png (deflated 4%)\n",
            "  adding: content/subplot/fig 175.png (deflated 5%)\n",
            "  adding: content/subplot/fig 134.png (deflated 4%)\n",
            "  adding: content/subplot/fig 190.png (deflated 4%)\n",
            "  adding: content/subplot/fig 12.png (deflated 4%)\n",
            "  adding: content/subplot/fig 36.png (deflated 3%)\n",
            "  adding: content/subplot/fig 188.png (deflated 3%)\n",
            "  adding: content/subplot/fig 6.png (deflated 3%)\n",
            "  adding: content/subplot/fig 76.png (deflated 3%)\n",
            "  adding: content/subplot/fig 95.png (deflated 3%)\n",
            "  adding: content/subplot/fig 97.png (deflated 6%)\n",
            "  adding: content/subplot/fig 127.png (deflated 5%)\n",
            "  adding: content/subplot/fig 176.png (deflated 4%)\n",
            "  adding: content/subplot/fig 94.png (deflated 4%)\n",
            "  adding: content/subplot/fig 58.png (deflated 4%)\n",
            "  adding: content/subplot/fig 26.png (deflated 4%)\n",
            "  adding: content/subplot/fig 52.png (deflated 4%)\n",
            "  adding: content/subplot/fig 183.png (deflated 4%)\n",
            "  adding: content/subplot/fig 11.png (deflated 4%)\n",
            "  adding: content/subplot/fig 165.png (deflated 5%)\n",
            "  adding: content/subplot/fig 2.png (deflated 4%)\n",
            "  adding: content/subplot/fig 118.png (deflated 4%)\n",
            "  adding: content/subplot/fig 171.png (deflated 4%)\n",
            "  adding: content/subplot/fig 111.png (deflated 5%)\n",
            "  adding: content/subplot/fig 163.png (deflated 4%)\n",
            "  adding: content/subplot/fig 8.png (deflated 4%)\n",
            "  adding: content/subplot/fig 160.png (deflated 4%)\n",
            "  adding: content/subplot/fig 157.png (deflated 5%)\n",
            "  adding: content/subplot/fig 186.png (deflated 4%)\n",
            "  adding: content/subplot/fig 124.png (deflated 4%)\n",
            "  adding: content/subplot/fig 184.png (deflated 4%)\n",
            "  adding: content/subplot/fig 21.png (deflated 4%)\n",
            "  adding: content/subplot/fig 55.png (deflated 6%)\n",
            "  adding: content/subplot/fig 59.png (deflated 4%)\n",
            "  adding: content/subplot/fig 140.png (deflated 5%)\n",
            "  adding: content/subplot/fig 191.png (deflated 4%)\n",
            "  adding: content/subplot/fig 158.png (deflated 4%)\n",
            "  adding: content/subplot/fig 164.png (deflated 4%)\n",
            "  adding: content/subplot/fig 60.png (deflated 4%)\n",
            "  adding: content/subplot/fig 51.png (deflated 3%)\n",
            "  adding: content/subplot/fig 108.png (deflated 4%)\n",
            "  adding: content/subplot/fig 86.png (deflated 4%)\n",
            "  adding: content/subplot/fig 156.png (deflated 5%)\n",
            "  adding: content/subplot/fig 142.png (deflated 4%)\n",
            "  adding: content/subplot/fig 10.png (deflated 4%)\n",
            "  adding: content/subplot/fig 89.png (deflated 3%)\n",
            "  adding: content/subplot/fig 170.png (deflated 4%)\n",
            "  adding: content/subplot/fig 44.png (deflated 4%)\n",
            "  adding: content/subplot/fig 66.png (deflated 3%)\n",
            "  adding: content/subplot/fig 42.png (deflated 3%)\n",
            "  adding: content/subplot/fig 117.png (deflated 4%)\n",
            "  adding: content/subplot/fig 13.png (deflated 5%)\n",
            "  adding: content/subplot/fig 22.png (deflated 4%)\n",
            "  adding: content/subplot/fig 110.png (deflated 4%)\n",
            "  adding: content/subplot/fig 88.png (deflated 3%)\n",
            "  adding: content/subplot/fig 68.png (deflated 4%)\n",
            "  adding: content/subplot/fig 4.png (deflated 3%)\n",
            "  adding: content/subplot/fig 25.png (deflated 4%)\n",
            "  adding: content/subplot/fig 101.png (deflated 4%)\n",
            "  adding: content/subplot/fig 105.png (deflated 5%)\n",
            "  adding: content/subplot/fig 1.png (deflated 4%)\n",
            "  adding: content/subplot/fig 155.png (deflated 4%)\n",
            "  adding: content/subplot/fig 109.png (deflated 5%)\n",
            "  adding: content/subplot/fig 112.png (deflated 4%)\n",
            "  adding: content/subplot/fig 7.png (deflated 5%)\n",
            "  adding: content/subplot/fig 154.png (deflated 4%)\n",
            "  adding: content/subplot/fig 31.png (deflated 3%)\n",
            "  adding: content/subplot/fig 33.png (deflated 4%)\n",
            "  adding: content/subplot/fig 63.png (deflated 4%)\n",
            "  adding: content/subplot/fig 87.png (deflated 3%)\n",
            "  adding: content/subplot/fig 72.png (deflated 4%)\n",
            "  adding: content/subplot/fig 185.png (deflated 5%)\n",
            "  adding: content/subplot/fig 139.png (deflated 6%)\n",
            "  adding: content/subplot/fig 57.png (deflated 3%)\n",
            "  adding: content/subplot/fig 121.png (deflated 5%)\n",
            "  adding: content/subplot/fig 126.png (deflated 4%)\n",
            "  adding: content/subplot/fig 48.png (deflated 4%)\n",
            "  adding: content/subplot/fig 143.png (deflated 4%)\n",
            "  adding: content/subplot/fig 75.png (deflated 4%)\n",
            "  adding: content/subplot/fig 145.png (deflated 5%)\n",
            "  adding: content/subplot/fig 24.png (deflated 4%)\n",
            "  adding: content/subplot/fig 159.png (deflated 3%)\n",
            "  adding: content/subplot/fig 56.png (deflated 3%)\n",
            "  adding: content/subplot/fig 38.png (deflated 4%)\n",
            "  adding: content/subplot/fig 37.png (deflated 5%)\n",
            "  adding: content/subplot/fig 17.png (deflated 3%)\n",
            "  adding: content/subplot/fig 177.png (deflated 5%)\n",
            "  adding: content/subplot/fig 113.png (deflated 4%)\n",
            "  adding: content/subplot/fig 30.png (deflated 3%)\n",
            "  adding: content/subplot/fig 50.png (deflated 5%)\n",
            "  adding: content/subplot/fig 106.png (deflated 5%)\n",
            "  adding: content/subplot/fig 162.png (deflated 4%)\n",
            "  adding: content/subplot/fig 187.png (deflated 6%)\n",
            "  adding: content/subplot/fig 41.png (deflated 3%)\n",
            "  adding: content/subplot/fig 9.png (deflated 4%)\n",
            "  adding: content/subplot/fig 178.png (deflated 4%)\n",
            "  adding: content/subplot/fig 35.png (deflated 3%)\n",
            "  adding: content/subplot/fig 99.png (deflated 4%)\n",
            "  adding: content/subplot/fig 54.png (deflated 3%)\n",
            "  adding: content/subplot/fig 80.png (deflated 3%)\n",
            "  adding: content/subplot/fig 81.png (deflated 4%)\n",
            "  adding: content/subplot/fig 169.png (deflated 5%)\n",
            "  adding: content/subplot/fig 45.png (deflated 4%)\n"
          ]
        }
      ]
    }
  ]
}