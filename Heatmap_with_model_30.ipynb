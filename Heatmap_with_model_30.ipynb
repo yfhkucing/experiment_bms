{
  "nbformat": 4,
  "nbformat_minor": 0,
  "metadata": {
    "colab": {
      "provenance": [],
      "authorship_tag": "ABX9TyOiBxhk0xO79Kh4M0k7CPXs",
      "include_colab_link": true
    },
    "kernelspec": {
      "name": "python3",
      "display_name": "Python 3"
    },
    "language_info": {
      "name": "python"
    }
  },
  "cells": [
    {
      "cell_type": "markdown",
      "metadata": {
        "id": "view-in-github",
        "colab_type": "text"
      },
      "source": [
        "<a href=\"https://colab.research.google.com/github/yfhkucing/experiment_bms/blob/master/Heatmap_with_model_30.ipynb\" target=\"_parent\"><img src=\"https://colab.research.google.com/assets/colab-badge.svg\" alt=\"Open In Colab\"/></a>"
      ]
    },
    {
      "cell_type": "code",
      "execution_count": 1,
      "metadata": {
        "id": "NXu4P_QUDucM",
        "colab": {
          "base_uri": "https://localhost:8080/",
          "height": 0
        },
        "outputId": "b85b7959-50e7-48e3-c51f-4c48b3590f24"
      },
      "outputs": [
        {
          "output_type": "stream",
          "name": "stdout",
          "text": [
            "Looking in indexes: https://pypi.org/simple, https://us-python.pkg.dev/colab-wheels/public/simple/\n",
            "Requirement already satisfied: kaleido in /usr/local/lib/python3.7/dist-packages (0.2.1)\n"
          ]
        }
      ],
      "source": [
        "! pip install -U kaleido"
      ]
    },
    {
      "cell_type": "code",
      "source": [
        "import joblib\n",
        "import numpy as np\n",
        "import pandas as pd"
      ],
      "metadata": {
        "id": "qw0CDLlED9Ln"
      },
      "execution_count": 2,
      "outputs": []
    },
    {
      "cell_type": "code",
      "source": [
        "! unzip /content/model_30_a06.zip"
      ],
      "metadata": {
        "id": "Lt4Vet59D-DM",
        "colab": {
          "base_uri": "https://localhost:8080/",
          "height": 0
        },
        "outputId": "7907894c-35fd-4378-d0c3-5c6dbc39c94a"
      },
      "execution_count": 3,
      "outputs": [
        {
          "output_type": "stream",
          "name": "stdout",
          "text": [
            "Archive:  /content/model_30_a06.zip\n",
            "replace content/models/model 26? [y]es, [n]o, [A]ll, [N]one, [r]ename: A\n",
            "  inflating: content/models/model 26  \n",
            "  inflating: content/models/model 19  \n",
            "  inflating: content/models/model 24  \n",
            "  inflating: content/models/model 16  \n",
            "  inflating: content/models/model 9  \n",
            "  inflating: content/models/model 21  \n",
            "  inflating: content/models/model 13  \n",
            "  inflating: content/models/model 4  \n",
            "  inflating: content/models/model 0  \n",
            "  inflating: content/models/model 10  \n",
            "  inflating: content/models/model 27  \n",
            "  inflating: content/models/model 7  \n",
            "  inflating: content/models/model 14  \n",
            "  inflating: content/models/model 1  \n",
            "  inflating: content/models/model 2  \n",
            "  inflating: content/models/model 18  \n",
            "  inflating: content/models/model 15  \n",
            "  inflating: content/models/model 8  \n",
            "  inflating: content/models/model 12  \n",
            "  inflating: content/models/model 25  \n",
            "  inflating: content/models/model 6  \n",
            "  inflating: content/models/model 22  \n",
            "  inflating: content/models/model 3  \n",
            "  inflating: content/models/model 17  \n",
            "  inflating: content/models/model 29  \n",
            "  inflating: content/models/model 20  \n",
            "  inflating: content/models/model 23  \n",
            "  inflating: content/models/model 28  \n",
            "  inflating: content/models/model 11  \n",
            "  inflating: content/models/model 5  \n"
          ]
        }
      ]
    },
    {
      "cell_type": "code",
      "source": [
        "feature = pd.read_excel('data_model.xlsx',sheet_name='feature')\n",
        "label = pd.read_excel('data_model.xlsx',sheet_name='label_30')"
      ],
      "metadata": {
        "id": "WzUeTqK_EKT6"
      },
      "execution_count": 4,
      "outputs": []
    },
    {
      "cell_type": "code",
      "source": [
        "def norm(df):\n",
        "  df=(df-df.min())/(df.max()-df.min())\n",
        "  return df"
      ],
      "metadata": {
        "id": "4-DWQb7sELJ1"
      },
      "execution_count": 5,
      "outputs": []
    },
    {
      "cell_type": "code",
      "source": [
        "#feature = norm(feature)\n",
        "#label = norm(label)"
      ],
      "metadata": {
        "id": "a1XbnNhOCzmM"
      },
      "execution_count": 6,
      "outputs": []
    },
    {
      "cell_type": "code",
      "source": [
        "array_y = []\n",
        "\n",
        "for i in range(30):\n",
        "  frame= label[i::30]\n",
        "  frame = frame.drop(['koor_x','koor_y'],axis=1)\n",
        "  frame = frame.drop(['Vx','Vy'],axis=1)\n",
        "  array_y.append(frame)"
      ],
      "metadata": {
        "id": "E0bKC3j2EipE"
      },
      "execution_count": 7,
      "outputs": []
    },
    {
      "cell_type": "code",
      "source": [
        "array_y[1]"
      ],
      "metadata": {
        "id": "TiZH9RzUFE-g",
        "colab": {
          "base_uri": "https://localhost:8080/",
          "height": 424
        },
        "outputId": "cf9e7685-d7ff-4917-8af8-3808fbfe78b8"
      },
      "execution_count": 8,
      "outputs": [
        {
          "output_type": "execute_result",
          "data": {
            "text/plain": [
              "           Temp\n",
              "1     27.366829\n",
              "31    28.245829\n",
              "61    28.196787\n",
              "91    27.706491\n",
              "121   27.706661\n",
              "...         ...\n",
              "5611  24.951159\n",
              "5641  24.706320\n",
              "5671  22.822241\n",
              "5701  23.753382\n",
              "5731  23.830648\n",
              "\n",
              "[192 rows x 1 columns]"
            ],
            "text/html": [
              "\n",
              "  <div id=\"df-5ec5c108-cb23-4546-809a-4d6d6dc62d64\">\n",
              "    <div class=\"colab-df-container\">\n",
              "      <div>\n",
              "<style scoped>\n",
              "    .dataframe tbody tr th:only-of-type {\n",
              "        vertical-align: middle;\n",
              "    }\n",
              "\n",
              "    .dataframe tbody tr th {\n",
              "        vertical-align: top;\n",
              "    }\n",
              "\n",
              "    .dataframe thead th {\n",
              "        text-align: right;\n",
              "    }\n",
              "</style>\n",
              "<table border=\"1\" class=\"dataframe\">\n",
              "  <thead>\n",
              "    <tr style=\"text-align: right;\">\n",
              "      <th></th>\n",
              "      <th>Temp</th>\n",
              "    </tr>\n",
              "  </thead>\n",
              "  <tbody>\n",
              "    <tr>\n",
              "      <th>1</th>\n",
              "      <td>27.366829</td>\n",
              "    </tr>\n",
              "    <tr>\n",
              "      <th>31</th>\n",
              "      <td>28.245829</td>\n",
              "    </tr>\n",
              "    <tr>\n",
              "      <th>61</th>\n",
              "      <td>28.196787</td>\n",
              "    </tr>\n",
              "    <tr>\n",
              "      <th>91</th>\n",
              "      <td>27.706491</td>\n",
              "    </tr>\n",
              "    <tr>\n",
              "      <th>121</th>\n",
              "      <td>27.706661</td>\n",
              "    </tr>\n",
              "    <tr>\n",
              "      <th>...</th>\n",
              "      <td>...</td>\n",
              "    </tr>\n",
              "    <tr>\n",
              "      <th>5611</th>\n",
              "      <td>24.951159</td>\n",
              "    </tr>\n",
              "    <tr>\n",
              "      <th>5641</th>\n",
              "      <td>24.706320</td>\n",
              "    </tr>\n",
              "    <tr>\n",
              "      <th>5671</th>\n",
              "      <td>22.822241</td>\n",
              "    </tr>\n",
              "    <tr>\n",
              "      <th>5701</th>\n",
              "      <td>23.753382</td>\n",
              "    </tr>\n",
              "    <tr>\n",
              "      <th>5731</th>\n",
              "      <td>23.830648</td>\n",
              "    </tr>\n",
              "  </tbody>\n",
              "</table>\n",
              "<p>192 rows × 1 columns</p>\n",
              "</div>\n",
              "      <button class=\"colab-df-convert\" onclick=\"convertToInteractive('df-5ec5c108-cb23-4546-809a-4d6d6dc62d64')\"\n",
              "              title=\"Convert this dataframe to an interactive table.\"\n",
              "              style=\"display:none;\">\n",
              "        \n",
              "  <svg xmlns=\"http://www.w3.org/2000/svg\" height=\"24px\"viewBox=\"0 0 24 24\"\n",
              "       width=\"24px\">\n",
              "    <path d=\"M0 0h24v24H0V0z\" fill=\"none\"/>\n",
              "    <path d=\"M18.56 5.44l.94 2.06.94-2.06 2.06-.94-2.06-.94-.94-2.06-.94 2.06-2.06.94zm-11 1L8.5 8.5l.94-2.06 2.06-.94-2.06-.94L8.5 2.5l-.94 2.06-2.06.94zm10 10l.94 2.06.94-2.06 2.06-.94-2.06-.94-.94-2.06-.94 2.06-2.06.94z\"/><path d=\"M17.41 7.96l-1.37-1.37c-.4-.4-.92-.59-1.43-.59-.52 0-1.04.2-1.43.59L10.3 9.45l-7.72 7.72c-.78.78-.78 2.05 0 2.83L4 21.41c.39.39.9.59 1.41.59.51 0 1.02-.2 1.41-.59l7.78-7.78 2.81-2.81c.8-.78.8-2.07 0-2.86zM5.41 20L4 18.59l7.72-7.72 1.47 1.35L5.41 20z\"/>\n",
              "  </svg>\n",
              "      </button>\n",
              "      \n",
              "  <style>\n",
              "    .colab-df-container {\n",
              "      display:flex;\n",
              "      flex-wrap:wrap;\n",
              "      gap: 12px;\n",
              "    }\n",
              "\n",
              "    .colab-df-convert {\n",
              "      background-color: #E8F0FE;\n",
              "      border: none;\n",
              "      border-radius: 50%;\n",
              "      cursor: pointer;\n",
              "      display: none;\n",
              "      fill: #1967D2;\n",
              "      height: 32px;\n",
              "      padding: 0 0 0 0;\n",
              "      width: 32px;\n",
              "    }\n",
              "\n",
              "    .colab-df-convert:hover {\n",
              "      background-color: #E2EBFA;\n",
              "      box-shadow: 0px 1px 2px rgba(60, 64, 67, 0.3), 0px 1px 3px 1px rgba(60, 64, 67, 0.15);\n",
              "      fill: #174EA6;\n",
              "    }\n",
              "\n",
              "    [theme=dark] .colab-df-convert {\n",
              "      background-color: #3B4455;\n",
              "      fill: #D2E3FC;\n",
              "    }\n",
              "\n",
              "    [theme=dark] .colab-df-convert:hover {\n",
              "      background-color: #434B5C;\n",
              "      box-shadow: 0px 1px 3px 1px rgba(0, 0, 0, 0.15);\n",
              "      filter: drop-shadow(0px 1px 2px rgba(0, 0, 0, 0.3));\n",
              "      fill: #FFFFFF;\n",
              "    }\n",
              "  </style>\n",
              "\n",
              "      <script>\n",
              "        const buttonEl =\n",
              "          document.querySelector('#df-5ec5c108-cb23-4546-809a-4d6d6dc62d64 button.colab-df-convert');\n",
              "        buttonEl.style.display =\n",
              "          google.colab.kernel.accessAllowed ? 'block' : 'none';\n",
              "\n",
              "        async function convertToInteractive(key) {\n",
              "          const element = document.querySelector('#df-5ec5c108-cb23-4546-809a-4d6d6dc62d64');\n",
              "          const dataTable =\n",
              "            await google.colab.kernel.invokeFunction('convertToInteractive',\n",
              "                                                     [key], {});\n",
              "          if (!dataTable) return;\n",
              "\n",
              "          const docLinkHtml = 'Like what you see? Visit the ' +\n",
              "            '<a target=\"_blank\" href=https://colab.research.google.com/notebooks/data_table.ipynb>data table notebook</a>'\n",
              "            + ' to learn more about interactive tables.';\n",
              "          element.innerHTML = '';\n",
              "          dataTable['output_type'] = 'display_data';\n",
              "          await google.colab.output.renderOutput(dataTable, element);\n",
              "          const docLink = document.createElement('div');\n",
              "          docLink.innerHTML = docLinkHtml;\n",
              "          element.appendChild(docLink);\n",
              "        }\n",
              "      </script>\n",
              "    </div>\n",
              "  </div>\n",
              "  "
            ]
          },
          "metadata": {},
          "execution_count": 8
        }
      ]
    },
    {
      "cell_type": "code",
      "source": [
        "from sklearn.model_selection import train_test_split\n",
        "from sklearn.metrics import r2_score as r2\n",
        "from sklearn.metrics import mean_squared_error as mse\n",
        "from sklearn.metrics import mean_absolute_error as mae\n",
        "\n",
        "skor_r2=[]\n",
        "mae_=[]\n",
        "rmse = []\n",
        "y_predict = []\n",
        "y_test = []\n",
        "for i in range(30):\n",
        "  x = np.array(feature)\n",
        "  y = np.array(array_y[i])\n",
        "  model = joblib.load(f'/content/content/models/model {i}')\n",
        "  y_pred = model.predict(x)\n",
        "  Skor_r2 = r2(y,y_pred)\n",
        "  RMSE = mse(y,y_pred,squared=False)\n",
        "  MAE = mae(y,y_pred)\n",
        "  y_predict.append(y_pred)\n",
        "  skor_r2.append(Skor_r2)\n",
        "  mae_.append(MAE)\n",
        "  rmse.append(RMSE)"
      ],
      "metadata": {
        "id": "bVqomvIxErwf"
      },
      "execution_count": 9,
      "outputs": []
    },
    {
      "cell_type": "code",
      "source": [
        "skor_r2 = np.array(skor_r2)\n",
        "rmse = np.array(rmse)\n",
        "mae_=np.array(mae_)\n",
        "y_predict = np.array(y_predict)\n",
        "y = np.array(array_y)"
      ],
      "metadata": {
        "id": "4Qt09poyFLkU"
      },
      "execution_count": 10,
      "outputs": []
    },
    {
      "cell_type": "code",
      "source": [
        "#error per skenario\n",
        "\n",
        "r_squared = []\n",
        "abs_error = []\n",
        "sqrt_error = []\n",
        "for i in range(192):\n",
        "  a = y[...,i,0]\n",
        "  b = y_predict[...,i]\n",
        "  r_squared.append(r2(a,b))\n",
        "  abs_error.append(mae(a,b))\n",
        "  sqrt_error.append(mse(a,b))"
      ],
      "metadata": {
        "id": "iFE02HBIFSEg"
      },
      "execution_count": 11,
      "outputs": []
    },
    {
      "cell_type": "code",
      "source": [
        "error = pd.DataFrame(r_squared,columns=['r2'])\n",
        "abs_error = pd.DataFrame(abs_error,columns=['mae'])\n",
        "sqrt_error = pd.DataFrame(sqrt_error,columns=['rmse'])\n",
        "error = error.join(abs_error)\n",
        "error = error.join(sqrt_error)"
      ],
      "metadata": {
        "id": "MnTGB6WoFXB4"
      },
      "execution_count": 12,
      "outputs": []
    },
    {
      "cell_type": "code",
      "source": [
        "y_predict[...,191] == y_predict[...,5]"
      ],
      "metadata": {
        "id": "AKnOWgg2HE18",
        "outputId": "eea96048-8e43-4950-ab40-e71cb9ac7d33",
        "colab": {
          "base_uri": "https://localhost:8080/",
          "height": 0
        }
      },
      "execution_count": 13,
      "outputs": [
        {
          "output_type": "execute_result",
          "data": {
            "text/plain": [
              "array([False, False, False, False, False, False, False, False, False,\n",
              "       False, False, False, False, False, False, False, False, False,\n",
              "       False, False, False, False, False, False, False, False, False,\n",
              "       False, False, False])"
            ]
          },
          "metadata": {},
          "execution_count": 13
        }
      ]
    },
    {
      "cell_type": "code",
      "source": [
        "error.describe()"
      ],
      "metadata": {
        "colab": {
          "base_uri": "https://localhost:8080/",
          "height": 300
        },
        "id": "k_ua-Q_sFZbM",
        "outputId": "c8f1d934-644c-4b7f-b8f3-0ba1b678f497"
      },
      "execution_count": 14,
      "outputs": [
        {
          "output_type": "execute_result",
          "data": {
            "text/plain": [
              "               r2         mae        rmse\n",
              "count  192.000000  192.000000  192.000000\n",
              "mean    -2.638142    1.848386    5.209293\n",
              "std     13.158122    1.001200    4.998860\n",
              "min   -110.766347    0.226716    0.083983\n",
              "25%     -0.663736    1.141549    1.598720\n",
              "50%      0.135731    1.677876    3.327663\n",
              "75%      0.626977    2.519923    7.467711\n",
              "max      0.977630    4.709978   24.838215"
            ],
            "text/html": [
              "\n",
              "  <div id=\"df-110b7431-d9e3-44f2-93eb-54c81267c4ed\">\n",
              "    <div class=\"colab-df-container\">\n",
              "      <div>\n",
              "<style scoped>\n",
              "    .dataframe tbody tr th:only-of-type {\n",
              "        vertical-align: middle;\n",
              "    }\n",
              "\n",
              "    .dataframe tbody tr th {\n",
              "        vertical-align: top;\n",
              "    }\n",
              "\n",
              "    .dataframe thead th {\n",
              "        text-align: right;\n",
              "    }\n",
              "</style>\n",
              "<table border=\"1\" class=\"dataframe\">\n",
              "  <thead>\n",
              "    <tr style=\"text-align: right;\">\n",
              "      <th></th>\n",
              "      <th>r2</th>\n",
              "      <th>mae</th>\n",
              "      <th>rmse</th>\n",
              "    </tr>\n",
              "  </thead>\n",
              "  <tbody>\n",
              "    <tr>\n",
              "      <th>count</th>\n",
              "      <td>192.000000</td>\n",
              "      <td>192.000000</td>\n",
              "      <td>192.000000</td>\n",
              "    </tr>\n",
              "    <tr>\n",
              "      <th>mean</th>\n",
              "      <td>-2.638142</td>\n",
              "      <td>1.848386</td>\n",
              "      <td>5.209293</td>\n",
              "    </tr>\n",
              "    <tr>\n",
              "      <th>std</th>\n",
              "      <td>13.158122</td>\n",
              "      <td>1.001200</td>\n",
              "      <td>4.998860</td>\n",
              "    </tr>\n",
              "    <tr>\n",
              "      <th>min</th>\n",
              "      <td>-110.766347</td>\n",
              "      <td>0.226716</td>\n",
              "      <td>0.083983</td>\n",
              "    </tr>\n",
              "    <tr>\n",
              "      <th>25%</th>\n",
              "      <td>-0.663736</td>\n",
              "      <td>1.141549</td>\n",
              "      <td>1.598720</td>\n",
              "    </tr>\n",
              "    <tr>\n",
              "      <th>50%</th>\n",
              "      <td>0.135731</td>\n",
              "      <td>1.677876</td>\n",
              "      <td>3.327663</td>\n",
              "    </tr>\n",
              "    <tr>\n",
              "      <th>75%</th>\n",
              "      <td>0.626977</td>\n",
              "      <td>2.519923</td>\n",
              "      <td>7.467711</td>\n",
              "    </tr>\n",
              "    <tr>\n",
              "      <th>max</th>\n",
              "      <td>0.977630</td>\n",
              "      <td>4.709978</td>\n",
              "      <td>24.838215</td>\n",
              "    </tr>\n",
              "  </tbody>\n",
              "</table>\n",
              "</div>\n",
              "      <button class=\"colab-df-convert\" onclick=\"convertToInteractive('df-110b7431-d9e3-44f2-93eb-54c81267c4ed')\"\n",
              "              title=\"Convert this dataframe to an interactive table.\"\n",
              "              style=\"display:none;\">\n",
              "        \n",
              "  <svg xmlns=\"http://www.w3.org/2000/svg\" height=\"24px\"viewBox=\"0 0 24 24\"\n",
              "       width=\"24px\">\n",
              "    <path d=\"M0 0h24v24H0V0z\" fill=\"none\"/>\n",
              "    <path d=\"M18.56 5.44l.94 2.06.94-2.06 2.06-.94-2.06-.94-.94-2.06-.94 2.06-2.06.94zm-11 1L8.5 8.5l.94-2.06 2.06-.94-2.06-.94L8.5 2.5l-.94 2.06-2.06.94zm10 10l.94 2.06.94-2.06 2.06-.94-2.06-.94-.94-2.06-.94 2.06-2.06.94z\"/><path d=\"M17.41 7.96l-1.37-1.37c-.4-.4-.92-.59-1.43-.59-.52 0-1.04.2-1.43.59L10.3 9.45l-7.72 7.72c-.78.78-.78 2.05 0 2.83L4 21.41c.39.39.9.59 1.41.59.51 0 1.02-.2 1.41-.59l7.78-7.78 2.81-2.81c.8-.78.8-2.07 0-2.86zM5.41 20L4 18.59l7.72-7.72 1.47 1.35L5.41 20z\"/>\n",
              "  </svg>\n",
              "      </button>\n",
              "      \n",
              "  <style>\n",
              "    .colab-df-container {\n",
              "      display:flex;\n",
              "      flex-wrap:wrap;\n",
              "      gap: 12px;\n",
              "    }\n",
              "\n",
              "    .colab-df-convert {\n",
              "      background-color: #E8F0FE;\n",
              "      border: none;\n",
              "      border-radius: 50%;\n",
              "      cursor: pointer;\n",
              "      display: none;\n",
              "      fill: #1967D2;\n",
              "      height: 32px;\n",
              "      padding: 0 0 0 0;\n",
              "      width: 32px;\n",
              "    }\n",
              "\n",
              "    .colab-df-convert:hover {\n",
              "      background-color: #E2EBFA;\n",
              "      box-shadow: 0px 1px 2px rgba(60, 64, 67, 0.3), 0px 1px 3px 1px rgba(60, 64, 67, 0.15);\n",
              "      fill: #174EA6;\n",
              "    }\n",
              "\n",
              "    [theme=dark] .colab-df-convert {\n",
              "      background-color: #3B4455;\n",
              "      fill: #D2E3FC;\n",
              "    }\n",
              "\n",
              "    [theme=dark] .colab-df-convert:hover {\n",
              "      background-color: #434B5C;\n",
              "      box-shadow: 0px 1px 3px 1px rgba(0, 0, 0, 0.15);\n",
              "      filter: drop-shadow(0px 1px 2px rgba(0, 0, 0, 0.3));\n",
              "      fill: #FFFFFF;\n",
              "    }\n",
              "  </style>\n",
              "\n",
              "      <script>\n",
              "        const buttonEl =\n",
              "          document.querySelector('#df-110b7431-d9e3-44f2-93eb-54c81267c4ed button.colab-df-convert');\n",
              "        buttonEl.style.display =\n",
              "          google.colab.kernel.accessAllowed ? 'block' : 'none';\n",
              "\n",
              "        async function convertToInteractive(key) {\n",
              "          const element = document.querySelector('#df-110b7431-d9e3-44f2-93eb-54c81267c4ed');\n",
              "          const dataTable =\n",
              "            await google.colab.kernel.invokeFunction('convertToInteractive',\n",
              "                                                     [key], {});\n",
              "          if (!dataTable) return;\n",
              "\n",
              "          const docLinkHtml = 'Like what you see? Visit the ' +\n",
              "            '<a target=\"_blank\" href=https://colab.research.google.com/notebooks/data_table.ipynb>data table notebook</a>'\n",
              "            + ' to learn more about interactive tables.';\n",
              "          element.innerHTML = '';\n",
              "          dataTable['output_type'] = 'display_data';\n",
              "          await google.colab.output.renderOutput(dataTable, element);\n",
              "          const docLink = document.createElement('div');\n",
              "          docLink.innerHTML = docLinkHtml;\n",
              "          element.appendChild(docLink);\n",
              "        }\n",
              "      </script>\n",
              "    </div>\n",
              "  </div>\n",
              "  "
            ]
          },
          "metadata": {},
          "execution_count": 14
        }
      ]
    },
    {
      "cell_type": "code",
      "source": [
        "error[error.r2 == error.r2.max()]"
      ],
      "metadata": {
        "id": "SvZiGH8gDlbG",
        "outputId": "4354935c-3a15-4b79-a8b6-bda414faf41f",
        "colab": {
          "base_uri": "https://localhost:8080/",
          "height": 81
        }
      },
      "execution_count": 15,
      "outputs": [
        {
          "output_type": "execute_result",
          "data": {
            "text/plain": [
              "         r2       mae      rmse\n",
              "14  0.97763  0.321164  0.162187"
            ],
            "text/html": [
              "\n",
              "  <div id=\"df-237badd2-19c2-4349-b3e0-a010ee81c3fe\">\n",
              "    <div class=\"colab-df-container\">\n",
              "      <div>\n",
              "<style scoped>\n",
              "    .dataframe tbody tr th:only-of-type {\n",
              "        vertical-align: middle;\n",
              "    }\n",
              "\n",
              "    .dataframe tbody tr th {\n",
              "        vertical-align: top;\n",
              "    }\n",
              "\n",
              "    .dataframe thead th {\n",
              "        text-align: right;\n",
              "    }\n",
              "</style>\n",
              "<table border=\"1\" class=\"dataframe\">\n",
              "  <thead>\n",
              "    <tr style=\"text-align: right;\">\n",
              "      <th></th>\n",
              "      <th>r2</th>\n",
              "      <th>mae</th>\n",
              "      <th>rmse</th>\n",
              "    </tr>\n",
              "  </thead>\n",
              "  <tbody>\n",
              "    <tr>\n",
              "      <th>14</th>\n",
              "      <td>0.97763</td>\n",
              "      <td>0.321164</td>\n",
              "      <td>0.162187</td>\n",
              "    </tr>\n",
              "  </tbody>\n",
              "</table>\n",
              "</div>\n",
              "      <button class=\"colab-df-convert\" onclick=\"convertToInteractive('df-237badd2-19c2-4349-b3e0-a010ee81c3fe')\"\n",
              "              title=\"Convert this dataframe to an interactive table.\"\n",
              "              style=\"display:none;\">\n",
              "        \n",
              "  <svg xmlns=\"http://www.w3.org/2000/svg\" height=\"24px\"viewBox=\"0 0 24 24\"\n",
              "       width=\"24px\">\n",
              "    <path d=\"M0 0h24v24H0V0z\" fill=\"none\"/>\n",
              "    <path d=\"M18.56 5.44l.94 2.06.94-2.06 2.06-.94-2.06-.94-.94-2.06-.94 2.06-2.06.94zm-11 1L8.5 8.5l.94-2.06 2.06-.94-2.06-.94L8.5 2.5l-.94 2.06-2.06.94zm10 10l.94 2.06.94-2.06 2.06-.94-2.06-.94-.94-2.06-.94 2.06-2.06.94z\"/><path d=\"M17.41 7.96l-1.37-1.37c-.4-.4-.92-.59-1.43-.59-.52 0-1.04.2-1.43.59L10.3 9.45l-7.72 7.72c-.78.78-.78 2.05 0 2.83L4 21.41c.39.39.9.59 1.41.59.51 0 1.02-.2 1.41-.59l7.78-7.78 2.81-2.81c.8-.78.8-2.07 0-2.86zM5.41 20L4 18.59l7.72-7.72 1.47 1.35L5.41 20z\"/>\n",
              "  </svg>\n",
              "      </button>\n",
              "      \n",
              "  <style>\n",
              "    .colab-df-container {\n",
              "      display:flex;\n",
              "      flex-wrap:wrap;\n",
              "      gap: 12px;\n",
              "    }\n",
              "\n",
              "    .colab-df-convert {\n",
              "      background-color: #E8F0FE;\n",
              "      border: none;\n",
              "      border-radius: 50%;\n",
              "      cursor: pointer;\n",
              "      display: none;\n",
              "      fill: #1967D2;\n",
              "      height: 32px;\n",
              "      padding: 0 0 0 0;\n",
              "      width: 32px;\n",
              "    }\n",
              "\n",
              "    .colab-df-convert:hover {\n",
              "      background-color: #E2EBFA;\n",
              "      box-shadow: 0px 1px 2px rgba(60, 64, 67, 0.3), 0px 1px 3px 1px rgba(60, 64, 67, 0.15);\n",
              "      fill: #174EA6;\n",
              "    }\n",
              "\n",
              "    [theme=dark] .colab-df-convert {\n",
              "      background-color: #3B4455;\n",
              "      fill: #D2E3FC;\n",
              "    }\n",
              "\n",
              "    [theme=dark] .colab-df-convert:hover {\n",
              "      background-color: #434B5C;\n",
              "      box-shadow: 0px 1px 3px 1px rgba(0, 0, 0, 0.15);\n",
              "      filter: drop-shadow(0px 1px 2px rgba(0, 0, 0, 0.3));\n",
              "      fill: #FFFFFF;\n",
              "    }\n",
              "  </style>\n",
              "\n",
              "      <script>\n",
              "        const buttonEl =\n",
              "          document.querySelector('#df-237badd2-19c2-4349-b3e0-a010ee81c3fe button.colab-df-convert');\n",
              "        buttonEl.style.display =\n",
              "          google.colab.kernel.accessAllowed ? 'block' : 'none';\n",
              "\n",
              "        async function convertToInteractive(key) {\n",
              "          const element = document.querySelector('#df-237badd2-19c2-4349-b3e0-a010ee81c3fe');\n",
              "          const dataTable =\n",
              "            await google.colab.kernel.invokeFunction('convertToInteractive',\n",
              "                                                     [key], {});\n",
              "          if (!dataTable) return;\n",
              "\n",
              "          const docLinkHtml = 'Like what you see? Visit the ' +\n",
              "            '<a target=\"_blank\" href=https://colab.research.google.com/notebooks/data_table.ipynb>data table notebook</a>'\n",
              "            + ' to learn more about interactive tables.';\n",
              "          element.innerHTML = '';\n",
              "          dataTable['output_type'] = 'display_data';\n",
              "          await google.colab.output.renderOutput(dataTable, element);\n",
              "          const docLink = document.createElement('div');\n",
              "          docLink.innerHTML = docLinkHtml;\n",
              "          element.appendChild(docLink);\n",
              "        }\n",
              "      </script>\n",
              "    </div>\n",
              "  </div>\n",
              "  "
            ]
          },
          "metadata": {},
          "execution_count": 15
        }
      ]
    },
    {
      "cell_type": "code",
      "source": [
        "error[error.r2 == error.r2.min()]"
      ],
      "metadata": {
        "id": "POCgr96lD50_",
        "outputId": "49778a9c-f95e-411c-949b-3ef6defc5e2b",
        "colab": {
          "base_uri": "https://localhost:8080/",
          "height": 81
        }
      },
      "execution_count": 16,
      "outputs": [
        {
          "output_type": "execute_result",
          "data": {
            "text/plain": [
              "            r2       mae       rmse\n",
              "59 -110.766347  4.095335  19.318212"
            ],
            "text/html": [
              "\n",
              "  <div id=\"df-0f4c95d1-73ab-4d7a-b984-e6748f58b2a0\">\n",
              "    <div class=\"colab-df-container\">\n",
              "      <div>\n",
              "<style scoped>\n",
              "    .dataframe tbody tr th:only-of-type {\n",
              "        vertical-align: middle;\n",
              "    }\n",
              "\n",
              "    .dataframe tbody tr th {\n",
              "        vertical-align: top;\n",
              "    }\n",
              "\n",
              "    .dataframe thead th {\n",
              "        text-align: right;\n",
              "    }\n",
              "</style>\n",
              "<table border=\"1\" class=\"dataframe\">\n",
              "  <thead>\n",
              "    <tr style=\"text-align: right;\">\n",
              "      <th></th>\n",
              "      <th>r2</th>\n",
              "      <th>mae</th>\n",
              "      <th>rmse</th>\n",
              "    </tr>\n",
              "  </thead>\n",
              "  <tbody>\n",
              "    <tr>\n",
              "      <th>59</th>\n",
              "      <td>-110.766347</td>\n",
              "      <td>4.095335</td>\n",
              "      <td>19.318212</td>\n",
              "    </tr>\n",
              "  </tbody>\n",
              "</table>\n",
              "</div>\n",
              "      <button class=\"colab-df-convert\" onclick=\"convertToInteractive('df-0f4c95d1-73ab-4d7a-b984-e6748f58b2a0')\"\n",
              "              title=\"Convert this dataframe to an interactive table.\"\n",
              "              style=\"display:none;\">\n",
              "        \n",
              "  <svg xmlns=\"http://www.w3.org/2000/svg\" height=\"24px\"viewBox=\"0 0 24 24\"\n",
              "       width=\"24px\">\n",
              "    <path d=\"M0 0h24v24H0V0z\" fill=\"none\"/>\n",
              "    <path d=\"M18.56 5.44l.94 2.06.94-2.06 2.06-.94-2.06-.94-.94-2.06-.94 2.06-2.06.94zm-11 1L8.5 8.5l.94-2.06 2.06-.94-2.06-.94L8.5 2.5l-.94 2.06-2.06.94zm10 10l.94 2.06.94-2.06 2.06-.94-2.06-.94-.94-2.06-.94 2.06-2.06.94z\"/><path d=\"M17.41 7.96l-1.37-1.37c-.4-.4-.92-.59-1.43-.59-.52 0-1.04.2-1.43.59L10.3 9.45l-7.72 7.72c-.78.78-.78 2.05 0 2.83L4 21.41c.39.39.9.59 1.41.59.51 0 1.02-.2 1.41-.59l7.78-7.78 2.81-2.81c.8-.78.8-2.07 0-2.86zM5.41 20L4 18.59l7.72-7.72 1.47 1.35L5.41 20z\"/>\n",
              "  </svg>\n",
              "      </button>\n",
              "      \n",
              "  <style>\n",
              "    .colab-df-container {\n",
              "      display:flex;\n",
              "      flex-wrap:wrap;\n",
              "      gap: 12px;\n",
              "    }\n",
              "\n",
              "    .colab-df-convert {\n",
              "      background-color: #E8F0FE;\n",
              "      border: none;\n",
              "      border-radius: 50%;\n",
              "      cursor: pointer;\n",
              "      display: none;\n",
              "      fill: #1967D2;\n",
              "      height: 32px;\n",
              "      padding: 0 0 0 0;\n",
              "      width: 32px;\n",
              "    }\n",
              "\n",
              "    .colab-df-convert:hover {\n",
              "      background-color: #E2EBFA;\n",
              "      box-shadow: 0px 1px 2px rgba(60, 64, 67, 0.3), 0px 1px 3px 1px rgba(60, 64, 67, 0.15);\n",
              "      fill: #174EA6;\n",
              "    }\n",
              "\n",
              "    [theme=dark] .colab-df-convert {\n",
              "      background-color: #3B4455;\n",
              "      fill: #D2E3FC;\n",
              "    }\n",
              "\n",
              "    [theme=dark] .colab-df-convert:hover {\n",
              "      background-color: #434B5C;\n",
              "      box-shadow: 0px 1px 3px 1px rgba(0, 0, 0, 0.15);\n",
              "      filter: drop-shadow(0px 1px 2px rgba(0, 0, 0, 0.3));\n",
              "      fill: #FFFFFF;\n",
              "    }\n",
              "  </style>\n",
              "\n",
              "      <script>\n",
              "        const buttonEl =\n",
              "          document.querySelector('#df-0f4c95d1-73ab-4d7a-b984-e6748f58b2a0 button.colab-df-convert');\n",
              "        buttonEl.style.display =\n",
              "          google.colab.kernel.accessAllowed ? 'block' : 'none';\n",
              "\n",
              "        async function convertToInteractive(key) {\n",
              "          const element = document.querySelector('#df-0f4c95d1-73ab-4d7a-b984-e6748f58b2a0');\n",
              "          const dataTable =\n",
              "            await google.colab.kernel.invokeFunction('convertToInteractive',\n",
              "                                                     [key], {});\n",
              "          if (!dataTable) return;\n",
              "\n",
              "          const docLinkHtml = 'Like what you see? Visit the ' +\n",
              "            '<a target=\"_blank\" href=https://colab.research.google.com/notebooks/data_table.ipynb>data table notebook</a>'\n",
              "            + ' to learn more about interactive tables.';\n",
              "          element.innerHTML = '';\n",
              "          dataTable['output_type'] = 'display_data';\n",
              "          await google.colab.output.renderOutput(dataTable, element);\n",
              "          const docLink = document.createElement('div');\n",
              "          docLink.innerHTML = docLinkHtml;\n",
              "          element.appendChild(docLink);\n",
              "        }\n",
              "      </script>\n",
              "    </div>\n",
              "  </div>\n",
              "  "
            ]
          },
          "metadata": {},
          "execution_count": 16
        }
      ]
    },
    {
      "cell_type": "code",
      "source": [
        "r2_matrix = skor_r2.reshape(5,6)\n",
        "rmse_matrix = rmse.reshape(5,6)\n",
        "mae_matrix = mae_.reshape(5,6)"
      ],
      "metadata": {
        "id": "p6jGOpBOFxMx"
      },
      "execution_count": 17,
      "outputs": []
    },
    {
      "cell_type": "code",
      "source": [
        "import numpy as np\n",
        "import seaborn as sns\n",
        "import matplotlib.pylab as plt\n",
        "\n",
        "ax = sns.heatmap(r2_matrix, linewidth=0.5, cmap=\"RdYlBu\")\n",
        "plt.show()"
      ],
      "metadata": {
        "colab": {
          "base_uri": "https://localhost:8080/",
          "height": 268
        },
        "id": "qzu_TSWdF27T",
        "outputId": "cac3b051-6300-4bd9-ff96-c4f3402f8799"
      },
      "execution_count": 18,
      "outputs": [
        {
          "output_type": "display_data",
          "data": {
            "text/plain": [
              "<Figure size 432x288 with 2 Axes>"
            ],
            "image/png": "[encoded data removed]"
          },
          "metadata": {
            "needs_background": "light"
          }
        }
      ]
    },
    {
      "cell_type": "code",
      "source": [
        "bx = sns.heatmap(rmse_matrix, linewidth=0.5, cmap=\"RdYlBu_r\")\n",
        "plt.show()"
      ],
      "metadata": {
        "colab": {
          "base_uri": "https://localhost:8080/",
          "height": 265
        },
        "id": "7YOMr4FBF5T6",
        "outputId": "9e459ad8-3fc1-4a9c-c80d-6cd59de997e8"
      },
      "execution_count": 19,
      "outputs": [
        {
          "output_type": "display_data",
          "data": {
            "text/plain": [
              "<Figure size 432x288 with 2 Axes>"
            ],
            "image/png": "[encoded data removed]"
          },
          "metadata": {
            "needs_background": "light"
          }
        }
      ]
    },
    {
      "cell_type": "code",
      "source": [
        "bx = sns.heatmap(mae_matrix, linewidth=0.5, cmap=\"RdYlBu_r\")\n",
        "plt.show()"
      ],
      "metadata": {
        "colab": {
          "base_uri": "https://localhost:8080/",
          "height": 265
        },
        "id": "h0YDzpVnF8Bf",
        "outputId": "91a69b65-2e79-48fd-92c7-b0c840a8fc1a"
      },
      "execution_count": 20,
      "outputs": [
        {
          "output_type": "display_data",
          "data": {
            "text/plain": [
              "<Figure size 432x288 with 2 Axes>"
            ],
            "image/png": "[encoded data removed]"
          },
          "metadata": {
            "needs_background": "light"
          }
        }
      ]
    },
    {
      "cell_type": "code",
      "source": [
        "! mkdir subplot"
      ],
      "metadata": {
        "id": "XUzJzVoTF-Ue",
        "colab": {
          "base_uri": "https://localhost:8080/",
          "height": 0
        },
        "outputId": "af2d6192-3367-46fc-b67b-b910eec389b0"
      },
      "execution_count": 21,
      "outputs": [
        {
          "output_type": "stream",
          "name": "stdout",
          "text": [
            "mkdir: cannot create directory ‘subplot’: File exists\n"
          ]
        }
      ]
    },
    {
      "cell_type": "code",
      "source": [
        "df_koor = pd.read_excel('data_model.xlsx',sheet_name='koordinat_30')"
      ],
      "metadata": {
        "id": "3NW0UjnXGAl-"
      },
      "execution_count": 22,
      "outputs": []
    },
    {
      "cell_type": "code",
      "source": [
        "def suhu(y):\n",
        "  df_y = pd.DataFrame(y)\n",
        "  df_z = pd.DataFrame(y)\n",
        "  df_z.rename(columns={0:1},inplace=True)\n",
        "  df_y = df_y.join(df_z)\n",
        "  df_y = df_y.join(df_koor)\n",
        "  df_y.rename(columns={0:'Vx',1:'suhu'},inplace=True)\n",
        "  df_y.pop('Vx')\n",
        "  return df_y"
      ],
      "metadata": {
        "id": "IjjNitdWGF37"
      },
      "execution_count": 23,
      "outputs": []
    },
    {
      "cell_type": "code",
      "source": [
        "from plotly.subplots import make_subplots\n",
        "for i in range(192):\n",
        "  a = y[(...,i,0)]\n",
        "  b = y_predict[(...,i)]\n",
        "  a = np.array(a)\n",
        "  b = np.array(b)\n",
        "  a = suhu(a)\n",
        "  b = suhu(b)\n",
        "  \n",
        "  fig = make_subplots(rows=1, cols=2)\n",
        "\n",
        "  fig.add_contour(\n",
        "     z = a['suhu'].tolist(),\n",
        "     x = a['koor_x'].tolist(),\n",
        "     y = a['koor_y'].tolist(),\n",
        "     row=1, col=1\n",
        "  )\n",
        "\n",
        "  fig.add_contour(\n",
        "     z = b['suhu'].tolist(),\n",
        "     x = b['koor_x'].tolist(),\n",
        "     y = b['koor_y'].tolist(),\n",
        "     row=1, col=2\n",
        "  )\n",
        "  fig.write_image(f'/content/subplot/fig {i}.png')"
      ],
      "metadata": {
        "id": "pnh3bZIcGItr"
      },
      "execution_count": 24,
      "outputs": []
    },
    {
      "cell_type": "code",
      "source": [
        "!zip -r /content/subplot.zip /content/subplot"
      ],
      "metadata": {
        "colab": {
          "base_uri": "https://localhost:8080/",
          "height": 0
        },
        "id": "dfzyDWSUGSCa",
        "outputId": "0d8fd775-c504-4d00-8963-a260f9361433"
      },
      "execution_count": 25,
      "outputs": [
        {
          "output_type": "stream",
          "name": "stdout",
          "text": [
            "  adding: content/subplot/ (stored 0%)\n",
            "  adding: content/subplot/fig 39.png (deflated 3%)\n",
            "  adding: content/subplot/fig 104.png (deflated 6%)\n",
            "  adding: content/subplot/fig 172.png (deflated 4%)\n",
            "  adding: content/subplot/fig 146.png (deflated 4%)\n",
            "  adding: content/subplot/fig 153.png (deflated 5%)\n",
            "  adding: content/subplot/fig 70.png (deflated 4%)\n",
            "  adding: content/subplot/fig 32.png (deflated 4%)\n",
            "  adding: content/subplot/fig 180.png (deflated 4%)\n",
            "  adding: content/subplot/fig 84.png (deflated 4%)\n",
            "  adding: content/subplot/fig 93.png (deflated 4%)\n",
            "  adding: content/subplot/fig 189.png (deflated 5%)\n",
            "  adding: content/subplot/fig 0.png (deflated 4%)\n",
            "  adding: content/subplot/fig 125.png (deflated 4%)\n",
            "  adding: content/subplot/fig 3.png (deflated 3%)\n",
            "  adding: content/subplot/fig 137.png (deflated 4%)\n",
            "  adding: content/subplot/fig 144.png (deflated 5%)\n",
            "  adding: content/subplot/fig 67.png (deflated 4%)\n",
            "  adding: content/subplot/fig 129.png (deflated 5%)\n",
            "  adding: content/subplot/fig 135.png (deflated 5%)\n",
            "  adding: content/subplot/fig 53.png (deflated 4%)\n",
            "  adding: content/subplot/fig 23.png (deflated 4%)\n",
            "  adding: content/subplot/fig 132.png (deflated 5%)\n",
            "  adding: content/subplot/fig 107.png (deflated 4%)\n",
            "  adding: content/subplot/fig 29.png (deflated 3%)\n",
            "  adding: content/subplot/fig 173.png (deflated 5%)\n",
            "  adding: content/subplot/fig 114.png (deflated 4%)\n",
            "  adding: content/subplot/fig 136.png (deflated 4%)\n",
            "  adding: content/subplot/fig 128.png (deflated 5%)\n",
            "  adding: content/subplot/fig 168.png (deflated 4%)\n",
            "  adding: content/subplot/fig 28.png (deflated 3%)\n",
            "  adding: content/subplot/fig 47.png (deflated 3%)\n",
            "  adding: content/subplot/fig 141.png (deflated 4%)\n",
            "  adding: content/subplot/fig 43.png (deflated 4%)\n",
            "  adding: content/subplot/fig 138.png (deflated 4%)\n",
            "  adding: content/subplot/fig 34.png (deflated 3%)\n",
            "  adding: content/subplot/fig 69.png (deflated 4%)\n",
            "  adding: content/subplot/fig 64.png (deflated 4%)\n",
            "  adding: content/subplot/fig 152.png (deflated 4%)\n",
            "  adding: content/subplot/fig 14.png (deflated 4%)\n",
            "  adding: content/subplot/fig 19.png (deflated 4%)\n",
            "  adding: content/subplot/fig 133.png (deflated 5%)\n",
            "  adding: content/subplot/fig 61.png (deflated 5%)\n",
            "  adding: content/subplot/fig 100.png (deflated 5%)\n",
            "  adding: content/subplot/fig 123.png (deflated 5%)\n",
            "  adding: content/subplot/fig 147.png (deflated 4%)\n",
            "  adding: content/subplot/fig 102.png (deflated 5%)\n",
            "  adding: content/subplot/fig 120.png (deflated 5%)\n",
            "  adding: content/subplot/fig 46.png (deflated 4%)\n",
            "  adding: content/subplot/fig 83.png (deflated 3%)\n",
            "  adding: content/subplot/fig 181.png (deflated 6%)\n",
            "  adding: content/subplot/fig 179.png (deflated 4%)\n",
            "  adding: content/subplot/fig 20.png (deflated 4%)\n",
            "  adding: content/subplot/fig 49.png (deflated 5%)\n",
            "  adding: content/subplot/fig 74.png (deflated 5%)\n",
            "  adding: content/subplot/fig 96.png (deflated 4%)\n",
            "  adding: content/subplot/fig 71.png (deflated 4%)\n",
            "  adding: content/subplot/fig 91.png (deflated 5%)\n",
            "  adding: content/subplot/fig 92.png (deflated 3%)\n",
            "  adding: content/subplot/fig 16.png (deflated 4%)\n",
            "  adding: content/subplot/fig 27.png (deflated 3%)\n",
            "  adding: content/subplot/fig 174.png (deflated 4%)\n",
            "  adding: content/subplot/fig 119.png (deflated 4%)\n",
            "  adding: content/subplot/fig 150.png (deflated 4%)\n",
            "  adding: content/subplot/fig 182.png (deflated 4%)\n",
            "  adding: content/subplot/fig 18.png (deflated 3%)\n",
            "  adding: content/subplot/fig 151.png (deflated 4%)\n",
            "  adding: content/subplot/fig 149.png (deflated 4%)\n",
            "  adding: content/subplot/fig 90.png (deflated 3%)\n",
            "  adding: content/subplot/fig 78.png (deflated 3%)\n",
            "  adding: content/subplot/fig 115.png (deflated 6%)\n",
            "  adding: content/subplot/fig 62.png (deflated 4%)\n",
            "  adding: content/subplot/fig 85.png (deflated 4%)\n",
            "  adding: content/subplot/fig 77.png (deflated 3%)\n",
            "  adding: content/subplot/fig 65.png (deflated 4%)\n",
            "  adding: content/subplot/fig 166.png (deflated 4%)\n",
            "  adding: content/subplot/fig 98.png (deflated 5%)\n",
            "  adding: content/subplot/fig 73.png (deflated 4%)\n",
            "  adding: content/subplot/fig 82.png (deflated 4%)\n",
            "  adding: content/subplot/fig 122.png (deflated 4%)\n",
            "  adding: content/subplot/fig 148.png (deflated 4%)\n",
            "  adding: content/subplot/fig 116.png (deflated 6%)\n",
            "  adding: content/subplot/fig 5.png (deflated 4%)\n",
            "  adding: content/subplot/fig 130.png (deflated 5%)\n",
            "  adding: content/subplot/fig 40.png (deflated 3%)\n",
            "  adding: content/subplot/fig 167.png (deflated 4%)\n",
            "  adding: content/subplot/fig 15.png (deflated 4%)\n",
            "  adding: content/subplot/fig 103.png (deflated 6%)\n",
            "  adding: content/subplot/fig 161.png (deflated 4%)\n",
            "  adding: content/subplot/fig 131.png (deflated 4%)\n",
            "  adding: content/subplot/fig 79.png (deflated 4%)\n",
            "  adding: content/subplot/fig 175.png (deflated 5%)\n",
            "  adding: content/subplot/fig 134.png (deflated 4%)\n",
            "  adding: content/subplot/fig 190.png (deflated 4%)\n",
            "  adding: content/subplot/fig 12.png (deflated 4%)\n",
            "  adding: content/subplot/fig 36.png (deflated 3%)\n",
            "  adding: content/subplot/fig 188.png (deflated 3%)\n",
            "  adding: content/subplot/fig 6.png (deflated 3%)\n",
            "  adding: content/subplot/fig 76.png (deflated 3%)\n",
            "  adding: content/subplot/fig 95.png (deflated 3%)\n",
            "  adding: content/subplot/fig 97.png (deflated 6%)\n",
            "  adding: content/subplot/fig 127.png (deflated 5%)\n",
            "  adding: content/subplot/fig 176.png (deflated 4%)\n",
            "  adding: content/subplot/fig 94.png (deflated 4%)\n",
            "  adding: content/subplot/fig 58.png (deflated 4%)\n",
            "  adding: content/subplot/fig 26.png (deflated 4%)\n",
            "  adding: content/subplot/fig 52.png (deflated 4%)\n",
            "  adding: content/subplot/fig 183.png (deflated 4%)\n",
            "  adding: content/subplot/fig 11.png (deflated 4%)\n",
            "  adding: content/subplot/fig 165.png (deflated 5%)\n",
            "  adding: content/subplot/fig 2.png (deflated 4%)\n",
            "  adding: content/subplot/fig 118.png (deflated 4%)\n",
            "  adding: content/subplot/fig 171.png (deflated 4%)\n",
            "  adding: content/subplot/fig 111.png (deflated 5%)\n",
            "  adding: content/subplot/fig 163.png (deflated 4%)\n",
            "  adding: content/subplot/fig 8.png (deflated 4%)\n",
            "  adding: content/subplot/fig 160.png (deflated 4%)\n",
            "  adding: content/subplot/fig 157.png (deflated 5%)\n",
            "  adding: content/subplot/fig 186.png (deflated 4%)\n",
            "  adding: content/subplot/fig 124.png (deflated 4%)\n",
            "  adding: content/subplot/fig 184.png (deflated 4%)\n",
            "  adding: content/subplot/fig 21.png (deflated 4%)\n",
            "  adding: content/subplot/fig 55.png (deflated 6%)\n",
            "  adding: content/subplot/fig 59.png (deflated 4%)\n",
            "  adding: content/subplot/fig 140.png (deflated 5%)\n",
            "  adding: content/subplot/fig 191.png (deflated 4%)\n",
            "  adding: content/subplot/fig 158.png (deflated 4%)\n",
            "  adding: content/subplot/fig 164.png (deflated 4%)\n",
            "  adding: content/subplot/fig 60.png (deflated 4%)\n",
            "  adding: content/subplot/fig 51.png (deflated 3%)\n",
            "  adding: content/subplot/fig 108.png (deflated 4%)\n",
            "  adding: content/subplot/fig 86.png (deflated 4%)\n",
            "  adding: content/subplot/fig 156.png (deflated 5%)\n",
            "  adding: content/subplot/fig 142.png (deflated 4%)\n",
            "  adding: content/subplot/fig 10.png (deflated 4%)\n",
            "  adding: content/subplot/fig 89.png (deflated 3%)\n",
            "  adding: content/subplot/fig 170.png (deflated 4%)\n",
            "  adding: content/subplot/fig 44.png (deflated 4%)\n",
            "  adding: content/subplot/fig 66.png (deflated 3%)\n",
            "  adding: content/subplot/fig 42.png (deflated 3%)\n",
            "  adding: content/subplot/fig 117.png (deflated 4%)\n",
            "  adding: content/subplot/fig 13.png (deflated 5%)\n",
            "  adding: content/subplot/fig 22.png (deflated 4%)\n",
            "  adding: content/subplot/fig 110.png (deflated 4%)\n",
            "  adding: content/subplot/fig 88.png (deflated 3%)\n",
            "  adding: content/subplot/fig 68.png (deflated 4%)\n",
            "  adding: content/subplot/fig 4.png (deflated 3%)\n",
            "  adding: content/subplot/fig 25.png (deflated 4%)\n",
            "  adding: content/subplot/fig 101.png (deflated 4%)\n",
            "  adding: content/subplot/fig 105.png (deflated 5%)\n",
            "  adding: content/subplot/fig 1.png (deflated 4%)\n",
            "  adding: content/subplot/fig 155.png (deflated 4%)\n",
            "  adding: content/subplot/fig 109.png (deflated 5%)\n",
            "  adding: content/subplot/fig 112.png (deflated 4%)\n",
            "  adding: content/subplot/fig 7.png (deflated 5%)\n",
            "  adding: content/subplot/fig 154.png (deflated 4%)\n",
            "  adding: content/subplot/fig 31.png (deflated 3%)\n",
            "  adding: content/subplot/fig 33.png (deflated 4%)\n",
            "  adding: content/subplot/fig 63.png (deflated 4%)\n",
            "  adding: content/subplot/fig 87.png (deflated 3%)\n",
            "  adding: content/subplot/fig 72.png (deflated 4%)\n",
            "  adding: content/subplot/fig 185.png (deflated 5%)\n",
            "  adding: content/subplot/fig 139.png (deflated 6%)\n",
            "  adding: content/subplot/fig 57.png (deflated 3%)\n",
            "  adding: content/subplot/fig 121.png (deflated 5%)\n",
            "  adding: content/subplot/fig 126.png (deflated 4%)\n",
            "  adding: content/subplot/fig 48.png (deflated 4%)\n",
            "  adding: content/subplot/fig 143.png (deflated 4%)\n",
            "  adding: content/subplot/fig 75.png (deflated 4%)\n",
            "  adding: content/subplot/fig 145.png (deflated 5%)\n",
            "  adding: content/subplot/fig 24.png (deflated 4%)\n",
            "  adding: content/subplot/fig 159.png (deflated 3%)\n",
            "  adding: content/subplot/fig 56.png (deflated 3%)\n",
            "  adding: content/subplot/fig 38.png (deflated 4%)\n",
            "  adding: content/subplot/fig 37.png (deflated 5%)\n",
            "  adding: content/subplot/fig 17.png (deflated 3%)\n",
            "  adding: content/subplot/fig 177.png (deflated 5%)\n",
            "  adding: content/subplot/fig 113.png (deflated 4%)\n",
            "  adding: content/subplot/fig 30.png (deflated 3%)\n",
            "  adding: content/subplot/fig 50.png (deflated 5%)\n",
            "  adding: content/subplot/fig 106.png (deflated 5%)\n",
            "  adding: content/subplot/fig 162.png (deflated 4%)\n",
            "  adding: content/subplot/fig 187.png (deflated 6%)\n",
            "  adding: content/subplot/fig 41.png (deflated 3%)\n",
            "  adding: content/subplot/fig 9.png (deflated 4%)\n",
            "  adding: content/subplot/fig 178.png (deflated 4%)\n",
            "  adding: content/subplot/fig 35.png (deflated 3%)\n",
            "  adding: content/subplot/fig 99.png (deflated 4%)\n",
            "  adding: content/subplot/fig 54.png (deflated 3%)\n",
            "  adding: content/subplot/fig 80.png (deflated 3%)\n",
            "  adding: content/subplot/fig 81.png (deflated 4%)\n",
            "  adding: content/subplot/fig 169.png (deflated 5%)\n",
            "  adding: content/subplot/fig 45.png (deflated 4%)\n"
          ]
        }
      ]
    }
  ]
}