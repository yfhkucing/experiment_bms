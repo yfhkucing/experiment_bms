{
  "nbformat": 4,
  "nbformat_minor": 0,
  "metadata": {
    "colab": {
      "provenance": [],
      "authorship_tag": "ABX9TyMNXiiCyJQepk0mwlitYhmZ",
      "include_colab_link": true
    },
    "kernelspec": {
      "name": "python3",
      "display_name": "Python 3"
    },
    "language_info": {
      "name": "python"
    }
  },
  "cells": [
    {
      "cell_type": "markdown",
      "metadata": {
        "id": "view-in-github",
        "colab_type": "text"
      },
      "source": [
        "<a href=\"https://colab.research.google.com/github/yfhkucing/experiment_bms/blob/master/Heatmap_with_model_30.ipynb\" target=\"_parent\"><img src=\"https://colab.research.google.com/assets/colab-badge.svg\" alt=\"Open In Colab\"/></a>"
      ]
    },
    {
      "cell_type": "code",
      "execution_count": null,
      "metadata": {
        "id": "NXu4P_QUDucM"
      },
      "outputs": [],
      "source": [
        "! pip install -U kaleido"
      ]
    },
    {
      "cell_type": "code",
      "source": [
        "import joblib\n",
        "import numpy as np\n",
        "import pandas as pd"
      ],
      "metadata": {
        "id": "qw0CDLlED9Ln"
      },
      "execution_count": 2,
      "outputs": []
    },
    {
      "cell_type": "code",
      "source": [
        "! unzip /content/model_30_a01_norm.zip"
      ],
      "metadata": {
        "id": "Lt4Vet59D-DM"
      },
      "execution_count": null,
      "outputs": []
    },
    {
      "cell_type": "code",
      "source": [
        "feature = pd.read_excel('data_model.xlsx',sheet_name='feature')\n",
        "label = pd.read_excel('data_model.xlsx',sheet_name='label_30')"
      ],
      "metadata": {
        "id": "WzUeTqK_EKT6"
      },
      "execution_count": 4,
      "outputs": []
    },
    {
      "cell_type": "code",
      "source": [
        "def norm(df):\n",
        "  df=(df-df.min())/(df.max()-df.min())\n",
        "  return df"
      ],
      "metadata": {
        "id": "4-DWQb7sELJ1"
      },
      "execution_count": 5,
      "outputs": []
    },
    {
      "cell_type": "code",
      "source": [
        "feature = norm(feature)\n",
        "label = norm(label)"
      ],
      "metadata": {
        "id": "a1XbnNhOCzmM"
      },
      "execution_count": 6,
      "outputs": []
    },
    {
      "cell_type": "code",
      "source": [
        "array_y = []\n",
        "\n",
        "for i in range(30):\n",
        "  frame= label[i::30]\n",
        "  frame = frame.drop(['koor_x','koor_y'],axis=1)\n",
        "  frame = frame.drop(['Vx','Vy'],axis=1)\n",
        "  array_y.append(frame)"
      ],
      "metadata": {
        "id": "E0bKC3j2EipE"
      },
      "execution_count": 7,
      "outputs": []
    },
    {
      "cell_type": "code",
      "source": [
        "array_y[1]"
      ],
      "metadata": {
        "id": "TiZH9RzUFE-g"
      },
      "execution_count": null,
      "outputs": []
    },
    {
      "cell_type": "code",
      "source": [
        "from sklearn.model_selection import train_test_split\n",
        "from sklearn.metrics import r2_score as r2\n",
        "from sklearn.metrics import mean_squared_error as mse\n",
        "from sklearn.metrics import mean_absolute_error as mae\n",
        "\n",
        "skor_r2=[]\n",
        "mae_=[]\n",
        "rmse = []\n",
        "y_predict = []\n",
        "y_test = []\n",
        "for i in range(30):\n",
        "  x = np.array(feature)\n",
        "  y = np.array(array_y[i])\n",
        "  model = joblib.load(f'/content/content/models/model {i}')\n",
        "  y_pred = model.predict(x)\n",
        "  Skor_r2 = r2(y,y_pred)\n",
        "  RMSE = mse(y,y_pred,squared=False)\n",
        "  MAE = mae(y,y_pred)\n",
        "  y_predict.append(y_pred)\n",
        "  skor_r2.append(Skor_r2)\n",
        "  mae_.append(MAE)\n",
        "  rmse.append(RMSE)"
      ],
      "metadata": {
        "id": "bVqomvIxErwf"
      },
      "execution_count": 9,
      "outputs": []
    },
    {
      "cell_type": "code",
      "source": [
        "skor_r2 = np.array(skor_r2)\n",
        "rmse = np.array(rmse)\n",
        "mae_=np.array(mae_)\n",
        "y_predict = np.array(y_predict)\n",
        "y = np.array(array_y)"
      ],
      "metadata": {
        "id": "4Qt09poyFLkU"
      },
      "execution_count": 10,
      "outputs": []
    },
    {
      "cell_type": "code",
      "source": [
        "#error per skenario\n",
        "\n",
        "r_squared = []\n",
        "abs_error = []\n",
        "sqrt_error = []\n",
        "for i in range(192):\n",
        "  a = y[...,i,0]\n",
        "  b = y_predict[...,i]\n",
        "  r_squared.append(r2(a,b))\n",
        "  abs_error.append(mae(a,b))\n",
        "  sqrt_error.append(mse(a,b))"
      ],
      "metadata": {
        "id": "iFE02HBIFSEg"
      },
      "execution_count": 11,
      "outputs": []
    },
    {
      "cell_type": "code",
      "source": [
        "error = pd.DataFrame(r_squared,columns=['r2'])\n",
        "abs_error = pd.DataFrame(abs_error,columns=['mae'])\n",
        "sqrt_error = pd.DataFrame(sqrt_error,columns=['rmse'])\n",
        "error = error.join(abs_error)\n",
        "error = error.join(sqrt_error)"
      ],
      "metadata": {
        "id": "MnTGB6WoFXB4"
      },
      "execution_count": 12,
      "outputs": []
    },
    {
      "cell_type": "code",
      "source": [
        "y_predict[...,191] == y_predict[...,5]"
      ],
      "metadata": {
        "id": "AKnOWgg2HE18",
        "outputId": "e5ec3a80-c5af-437f-95db-893f7e57ffca",
        "colab": {
          "base_uri": "https://localhost:8080/",
          "height": 0
        }
      },
      "execution_count": 14,
      "outputs": [
        {
          "output_type": "execute_result",
          "data": {
            "text/plain": [
              "array([ True,  True,  True,  True,  True,  True,  True,  True,  True,\n",
              "        True,  True,  True,  True,  True,  True,  True,  True,  True,\n",
              "        True,  True,  True,  True,  True,  True,  True,  True,  True,\n",
              "        True,  True,  True])"
            ]
          },
          "metadata": {},
          "execution_count": 14
        }
      ]
    },
    {
      "cell_type": "code",
      "source": [
        "error.describe()"
      ],
      "metadata": {
        "colab": {
          "base_uri": "https://localhost:8080/",
          "height": 300
        },
        "id": "k_ua-Q_sFZbM",
        "outputId": "8a049956-9df9-4835-f548-ea76d1694eea"
      },
      "execution_count": 15,
      "outputs": [
        {
          "output_type": "execute_result",
          "data": {
            "text/plain": [
              "               r2         mae        rmse\n",
              "count  192.000000  192.000000  192.000000\n",
              "mean    -4.367468    0.151596    0.035166\n",
              "std     20.888008    0.078502    0.032104\n",
              "min   -224.381375    0.026906    0.001045\n",
              "25%     -1.381928    0.092243    0.012838\n",
              "50%     -0.070071    0.141089    0.025597\n",
              "75%      0.470942    0.200154    0.046489\n",
              "max      0.946350    0.384584    0.169410"
            ],
            "text/html": [
              "\n",
              "  <div id=\"df-068b7254-7d9e-4bf8-a3f1-dd9a2d70aae5\">\n",
              "    <div class=\"colab-df-container\">\n",
              "      <div>\n",
              "<style scoped>\n",
              "    .dataframe tbody tr th:only-of-type {\n",
              "        vertical-align: middle;\n",
              "    }\n",
              "\n",
              "    .dataframe tbody tr th {\n",
              "        vertical-align: top;\n",
              "    }\n",
              "\n",
              "    .dataframe thead th {\n",
              "        text-align: right;\n",
              "    }\n",
              "</style>\n",
              "<table border=\"1\" class=\"dataframe\">\n",
              "  <thead>\n",
              "    <tr style=\"text-align: right;\">\n",
              "      <th></th>\n",
              "      <th>r2</th>\n",
              "      <th>mae</th>\n",
              "      <th>rmse</th>\n",
              "    </tr>\n",
              "  </thead>\n",
              "  <tbody>\n",
              "    <tr>\n",
              "      <th>count</th>\n",
              "      <td>192.000000</td>\n",
              "      <td>192.000000</td>\n",
              "      <td>192.000000</td>\n",
              "    </tr>\n",
              "    <tr>\n",
              "      <th>mean</th>\n",
              "      <td>-4.367468</td>\n",
              "      <td>0.151596</td>\n",
              "      <td>0.035166</td>\n",
              "    </tr>\n",
              "    <tr>\n",
              "      <th>std</th>\n",
              "      <td>20.888008</td>\n",
              "      <td>0.078502</td>\n",
              "      <td>0.032104</td>\n",
              "    </tr>\n",
              "    <tr>\n",
              "      <th>min</th>\n",
              "      <td>-224.381375</td>\n",
              "      <td>0.026906</td>\n",
              "      <td>0.001045</td>\n",
              "    </tr>\n",
              "    <tr>\n",
              "      <th>25%</th>\n",
              "      <td>-1.381928</td>\n",
              "      <td>0.092243</td>\n",
              "      <td>0.012838</td>\n",
              "    </tr>\n",
              "    <tr>\n",
              "      <th>50%</th>\n",
              "      <td>-0.070071</td>\n",
              "      <td>0.141089</td>\n",
              "      <td>0.025597</td>\n",
              "    </tr>\n",
              "    <tr>\n",
              "      <th>75%</th>\n",
              "      <td>0.470942</td>\n",
              "      <td>0.200154</td>\n",
              "      <td>0.046489</td>\n",
              "    </tr>\n",
              "    <tr>\n",
              "      <th>max</th>\n",
              "      <td>0.946350</td>\n",
              "      <td>0.384584</td>\n",
              "      <td>0.169410</td>\n",
              "    </tr>\n",
              "  </tbody>\n",
              "</table>\n",
              "</div>\n",
              "      <button class=\"colab-df-convert\" onclick=\"convertToInteractive('df-068b7254-7d9e-4bf8-a3f1-dd9a2d70aae5')\"\n",
              "              title=\"Convert this dataframe to an interactive table.\"\n",
              "              style=\"display:none;\">\n",
              "        \n",
              "  <svg xmlns=\"http://www.w3.org/2000/svg\" height=\"24px\"viewBox=\"0 0 24 24\"\n",
              "       width=\"24px\">\n",
              "    <path d=\"M0 0h24v24H0V0z\" fill=\"none\"/>\n",
              "    <path d=\"M18.56 5.44l.94 2.06.94-2.06 2.06-.94-2.06-.94-.94-2.06-.94 2.06-2.06.94zm-11 1L8.5 8.5l.94-2.06 2.06-.94-2.06-.94L8.5 2.5l-.94 2.06-2.06.94zm10 10l.94 2.06.94-2.06 2.06-.94-2.06-.94-.94-2.06-.94 2.06-2.06.94z\"/><path d=\"M17.41 7.96l-1.37-1.37c-.4-.4-.92-.59-1.43-.59-.52 0-1.04.2-1.43.59L10.3 9.45l-7.72 7.72c-.78.78-.78 2.05 0 2.83L4 21.41c.39.39.9.59 1.41.59.51 0 1.02-.2 1.41-.59l7.78-7.78 2.81-2.81c.8-.78.8-2.07 0-2.86zM5.41 20L4 18.59l7.72-7.72 1.47 1.35L5.41 20z\"/>\n",
              "  </svg>\n",
              "      </button>\n",
              "      \n",
              "  <style>\n",
              "    .colab-df-container {\n",
              "      display:flex;\n",
              "      flex-wrap:wrap;\n",
              "      gap: 12px;\n",
              "    }\n",
              "\n",
              "    .colab-df-convert {\n",
              "      background-color: #E8F0FE;\n",
              "      border: none;\n",
              "      border-radius: 50%;\n",
              "      cursor: pointer;\n",
              "      display: none;\n",
              "      fill: #1967D2;\n",
              "      height: 32px;\n",
              "      padding: 0 0 0 0;\n",
              "      width: 32px;\n",
              "    }\n",
              "\n",
              "    .colab-df-convert:hover {\n",
              "      background-color: #E2EBFA;\n",
              "      box-shadow: 0px 1px 2px rgba(60, 64, 67, 0.3), 0px 1px 3px 1px rgba(60, 64, 67, 0.15);\n",
              "      fill: #174EA6;\n",
              "    }\n",
              "\n",
              "    [theme=dark] .colab-df-convert {\n",
              "      background-color: #3B4455;\n",
              "      fill: #D2E3FC;\n",
              "    }\n",
              "\n",
              "    [theme=dark] .colab-df-convert:hover {\n",
              "      background-color: #434B5C;\n",
              "      box-shadow: 0px 1px 3px 1px rgba(0, 0, 0, 0.15);\n",
              "      filter: drop-shadow(0px 1px 2px rgba(0, 0, 0, 0.3));\n",
              "      fill: #FFFFFF;\n",
              "    }\n",
              "  </style>\n",
              "\n",
              "      <script>\n",
              "        const buttonEl =\n",
              "          document.querySelector('#df-068b7254-7d9e-4bf8-a3f1-dd9a2d70aae5 button.colab-df-convert');\n",
              "        buttonEl.style.display =\n",
              "          google.colab.kernel.accessAllowed ? 'block' : 'none';\n",
              "\n",
              "        async function convertToInteractive(key) {\n",
              "          const element = document.querySelector('#df-068b7254-7d9e-4bf8-a3f1-dd9a2d70aae5');\n",
              "          const dataTable =\n",
              "            await google.colab.kernel.invokeFunction('convertToInteractive',\n",
              "                                                     [key], {});\n",
              "          if (!dataTable) return;\n",
              "\n",
              "          const docLinkHtml = 'Like what you see? Visit the ' +\n",
              "            '<a target=\"_blank\" href=https://colab.research.google.com/notebooks/data_table.ipynb>data table notebook</a>'\n",
              "            + ' to learn more about interactive tables.';\n",
              "          element.innerHTML = '';\n",
              "          dataTable['output_type'] = 'display_data';\n",
              "          await google.colab.output.renderOutput(dataTable, element);\n",
              "          const docLink = document.createElement('div');\n",
              "          docLink.innerHTML = docLinkHtml;\n",
              "          element.appendChild(docLink);\n",
              "        }\n",
              "      </script>\n",
              "    </div>\n",
              "  </div>\n",
              "  "
            ]
          },
          "metadata": {},
          "execution_count": 15
        }
      ]
    },
    {
      "cell_type": "code",
      "source": [
        "error[error.r2 == error.r2.max()]"
      ],
      "metadata": {
        "id": "SvZiGH8gDlbG",
        "outputId": "f6071953-6d18-4e4d-81ec-2d20e3d5e5f0",
        "colab": {
          "base_uri": "https://localhost:8080/",
          "height": 81
        }
      },
      "execution_count": 16,
      "outputs": [
        {
          "output_type": "execute_result",
          "data": {
            "text/plain": [
              "         r2       mae      rmse\n",
              "99  0.94635  0.026906  0.001045"
            ],
            "text/html": [
              "\n",
              "  <div id=\"df-618a0a12-3f4b-4d85-b65e-550d5e77d799\">\n",
              "    <div class=\"colab-df-container\">\n",
              "      <div>\n",
              "<style scoped>\n",
              "    .dataframe tbody tr th:only-of-type {\n",
              "        vertical-align: middle;\n",
              "    }\n",
              "\n",
              "    .dataframe tbody tr th {\n",
              "        vertical-align: top;\n",
              "    }\n",
              "\n",
              "    .dataframe thead th {\n",
              "        text-align: right;\n",
              "    }\n",
              "</style>\n",
              "<table border=\"1\" class=\"dataframe\">\n",
              "  <thead>\n",
              "    <tr style=\"text-align: right;\">\n",
              "      <th></th>\n",
              "      <th>r2</th>\n",
              "      <th>mae</th>\n",
              "      <th>rmse</th>\n",
              "    </tr>\n",
              "  </thead>\n",
              "  <tbody>\n",
              "    <tr>\n",
              "      <th>99</th>\n",
              "      <td>0.94635</td>\n",
              "      <td>0.026906</td>\n",
              "      <td>0.001045</td>\n",
              "    </tr>\n",
              "  </tbody>\n",
              "</table>\n",
              "</div>\n",
              "      <button class=\"colab-df-convert\" onclick=\"convertToInteractive('df-618a0a12-3f4b-4d85-b65e-550d5e77d799')\"\n",
              "              title=\"Convert this dataframe to an interactive table.\"\n",
              "              style=\"display:none;\">\n",
              "        \n",
              "  <svg xmlns=\"http://www.w3.org/2000/svg\" height=\"24px\"viewBox=\"0 0 24 24\"\n",
              "       width=\"24px\">\n",
              "    <path d=\"M0 0h24v24H0V0z\" fill=\"none\"/>\n",
              "    <path d=\"M18.56 5.44l.94 2.06.94-2.06 2.06-.94-2.06-.94-.94-2.06-.94 2.06-2.06.94zm-11 1L8.5 8.5l.94-2.06 2.06-.94-2.06-.94L8.5 2.5l-.94 2.06-2.06.94zm10 10l.94 2.06.94-2.06 2.06-.94-2.06-.94-.94-2.06-.94 2.06-2.06.94z\"/><path d=\"M17.41 7.96l-1.37-1.37c-.4-.4-.92-.59-1.43-.59-.52 0-1.04.2-1.43.59L10.3 9.45l-7.72 7.72c-.78.78-.78 2.05 0 2.83L4 21.41c.39.39.9.59 1.41.59.51 0 1.02-.2 1.41-.59l7.78-7.78 2.81-2.81c.8-.78.8-2.07 0-2.86zM5.41 20L4 18.59l7.72-7.72 1.47 1.35L5.41 20z\"/>\n",
              "  </svg>\n",
              "      </button>\n",
              "      \n",
              "  <style>\n",
              "    .colab-df-container {\n",
              "      display:flex;\n",
              "      flex-wrap:wrap;\n",
              "      gap: 12px;\n",
              "    }\n",
              "\n",
              "    .colab-df-convert {\n",
              "      background-color: #E8F0FE;\n",
              "      border: none;\n",
              "      border-radius: 50%;\n",
              "      cursor: pointer;\n",
              "      display: none;\n",
              "      fill: #1967D2;\n",
              "      height: 32px;\n",
              "      padding: 0 0 0 0;\n",
              "      width: 32px;\n",
              "    }\n",
              "\n",
              "    .colab-df-convert:hover {\n",
              "      background-color: #E2EBFA;\n",
              "      box-shadow: 0px 1px 2px rgba(60, 64, 67, 0.3), 0px 1px 3px 1px rgba(60, 64, 67, 0.15);\n",
              "      fill: #174EA6;\n",
              "    }\n",
              "\n",
              "    [theme=dark] .colab-df-convert {\n",
              "      background-color: #3B4455;\n",
              "      fill: #D2E3FC;\n",
              "    }\n",
              "\n",
              "    [theme=dark] .colab-df-convert:hover {\n",
              "      background-color: #434B5C;\n",
              "      box-shadow: 0px 1px 3px 1px rgba(0, 0, 0, 0.15);\n",
              "      filter: drop-shadow(0px 1px 2px rgba(0, 0, 0, 0.3));\n",
              "      fill: #FFFFFF;\n",
              "    }\n",
              "  </style>\n",
              "\n",
              "      <script>\n",
              "        const buttonEl =\n",
              "          document.querySelector('#df-618a0a12-3f4b-4d85-b65e-550d5e77d799 button.colab-df-convert');\n",
              "        buttonEl.style.display =\n",
              "          google.colab.kernel.accessAllowed ? 'block' : 'none';\n",
              "\n",
              "        async function convertToInteractive(key) {\n",
              "          const element = document.querySelector('#df-618a0a12-3f4b-4d85-b65e-550d5e77d799');\n",
              "          const dataTable =\n",
              "            await google.colab.kernel.invokeFunction('convertToInteractive',\n",
              "                                                     [key], {});\n",
              "          if (!dataTable) return;\n",
              "\n",
              "          const docLinkHtml = 'Like what you see? Visit the ' +\n",
              "            '<a target=\"_blank\" href=https://colab.research.google.com/notebooks/data_table.ipynb>data table notebook</a>'\n",
              "            + ' to learn more about interactive tables.';\n",
              "          element.innerHTML = '';\n",
              "          dataTable['output_type'] = 'display_data';\n",
              "          await google.colab.output.renderOutput(dataTable, element);\n",
              "          const docLink = document.createElement('div');\n",
              "          docLink.innerHTML = docLinkHtml;\n",
              "          element.appendChild(docLink);\n",
              "        }\n",
              "      </script>\n",
              "    </div>\n",
              "  </div>\n",
              "  "
            ]
          },
          "metadata": {},
          "execution_count": 16
        }
      ]
    },
    {
      "cell_type": "code",
      "source": [
        "error[error.r2 == error.r2.min()]"
      ],
      "metadata": {
        "id": "POCgr96lD50_",
        "outputId": "9bb9e607-a18f-4e1e-f8f2-c134760a5016",
        "colab": {
          "base_uri": "https://localhost:8080/",
          "height": 81
        }
      },
      "execution_count": 17,
      "outputs": [
        {
          "output_type": "execute_result",
          "data": {
            "text/plain": [
              "            r2       mae      rmse\n",
              "57 -224.381375  0.338265  0.128477"
            ],
            "text/html": [
              "\n",
              "  <div id=\"df-78c0f5ef-1e96-43c9-b85f-0535503c3f06\">\n",
              "    <div class=\"colab-df-container\">\n",
              "      <div>\n",
              "<style scoped>\n",
              "    .dataframe tbody tr th:only-of-type {\n",
              "        vertical-align: middle;\n",
              "    }\n",
              "\n",
              "    .dataframe tbody tr th {\n",
              "        vertical-align: top;\n",
              "    }\n",
              "\n",
              "    .dataframe thead th {\n",
              "        text-align: right;\n",
              "    }\n",
              "</style>\n",
              "<table border=\"1\" class=\"dataframe\">\n",
              "  <thead>\n",
              "    <tr style=\"text-align: right;\">\n",
              "      <th></th>\n",
              "      <th>r2</th>\n",
              "      <th>mae</th>\n",
              "      <th>rmse</th>\n",
              "    </tr>\n",
              "  </thead>\n",
              "  <tbody>\n",
              "    <tr>\n",
              "      <th>57</th>\n",
              "      <td>-224.381375</td>\n",
              "      <td>0.338265</td>\n",
              "      <td>0.128477</td>\n",
              "    </tr>\n",
              "  </tbody>\n",
              "</table>\n",
              "</div>\n",
              "      <button class=\"colab-df-convert\" onclick=\"convertToInteractive('df-78c0f5ef-1e96-43c9-b85f-0535503c3f06')\"\n",
              "              title=\"Convert this dataframe to an interactive table.\"\n",
              "              style=\"display:none;\">\n",
              "        \n",
              "  <svg xmlns=\"http://www.w3.org/2000/svg\" height=\"24px\"viewBox=\"0 0 24 24\"\n",
              "       width=\"24px\">\n",
              "    <path d=\"M0 0h24v24H0V0z\" fill=\"none\"/>\n",
              "    <path d=\"M18.56 5.44l.94 2.06.94-2.06 2.06-.94-2.06-.94-.94-2.06-.94 2.06-2.06.94zm-11 1L8.5 8.5l.94-2.06 2.06-.94-2.06-.94L8.5 2.5l-.94 2.06-2.06.94zm10 10l.94 2.06.94-2.06 2.06-.94-2.06-.94-.94-2.06-.94 2.06-2.06.94z\"/><path d=\"M17.41 7.96l-1.37-1.37c-.4-.4-.92-.59-1.43-.59-.52 0-1.04.2-1.43.59L10.3 9.45l-7.72 7.72c-.78.78-.78 2.05 0 2.83L4 21.41c.39.39.9.59 1.41.59.51 0 1.02-.2 1.41-.59l7.78-7.78 2.81-2.81c.8-.78.8-2.07 0-2.86zM5.41 20L4 18.59l7.72-7.72 1.47 1.35L5.41 20z\"/>\n",
              "  </svg>\n",
              "      </button>\n",
              "      \n",
              "  <style>\n",
              "    .colab-df-container {\n",
              "      display:flex;\n",
              "      flex-wrap:wrap;\n",
              "      gap: 12px;\n",
              "    }\n",
              "\n",
              "    .colab-df-convert {\n",
              "      background-color: #E8F0FE;\n",
              "      border: none;\n",
              "      border-radius: 50%;\n",
              "      cursor: pointer;\n",
              "      display: none;\n",
              "      fill: #1967D2;\n",
              "      height: 32px;\n",
              "      padding: 0 0 0 0;\n",
              "      width: 32px;\n",
              "    }\n",
              "\n",
              "    .colab-df-convert:hover {\n",
              "      background-color: #E2EBFA;\n",
              "      box-shadow: 0px 1px 2px rgba(60, 64, 67, 0.3), 0px 1px 3px 1px rgba(60, 64, 67, 0.15);\n",
              "      fill: #174EA6;\n",
              "    }\n",
              "\n",
              "    [theme=dark] .colab-df-convert {\n",
              "      background-color: #3B4455;\n",
              "      fill: #D2E3FC;\n",
              "    }\n",
              "\n",
              "    [theme=dark] .colab-df-convert:hover {\n",
              "      background-color: #434B5C;\n",
              "      box-shadow: 0px 1px 3px 1px rgba(0, 0, 0, 0.15);\n",
              "      filter: drop-shadow(0px 1px 2px rgba(0, 0, 0, 0.3));\n",
              "      fill: #FFFFFF;\n",
              "    }\n",
              "  </style>\n",
              "\n",
              "      <script>\n",
              "        const buttonEl =\n",
              "          document.querySelector('#df-78c0f5ef-1e96-43c9-b85f-0535503c3f06 button.colab-df-convert');\n",
              "        buttonEl.style.display =\n",
              "          google.colab.kernel.accessAllowed ? 'block' : 'none';\n",
              "\n",
              "        async function convertToInteractive(key) {\n",
              "          const element = document.querySelector('#df-78c0f5ef-1e96-43c9-b85f-0535503c3f06');\n",
              "          const dataTable =\n",
              "            await google.colab.kernel.invokeFunction('convertToInteractive',\n",
              "                                                     [key], {});\n",
              "          if (!dataTable) return;\n",
              "\n",
              "          const docLinkHtml = 'Like what you see? Visit the ' +\n",
              "            '<a target=\"_blank\" href=https://colab.research.google.com/notebooks/data_table.ipynb>data table notebook</a>'\n",
              "            + ' to learn more about interactive tables.';\n",
              "          element.innerHTML = '';\n",
              "          dataTable['output_type'] = 'display_data';\n",
              "          await google.colab.output.renderOutput(dataTable, element);\n",
              "          const docLink = document.createElement('div');\n",
              "          docLink.innerHTML = docLinkHtml;\n",
              "          element.appendChild(docLink);\n",
              "        }\n",
              "      </script>\n",
              "    </div>\n",
              "  </div>\n",
              "  "
            ]
          },
          "metadata": {},
          "execution_count": 17
        }
      ]
    },
    {
      "cell_type": "code",
      "source": [
        "r2_matrix = skor_r2.reshape(5,6)\n",
        "rmse_matrix = rmse.reshape(5,6)\n",
        "mae_matrix = mae_.reshape(5,6)"
      ],
      "metadata": {
        "id": "p6jGOpBOFxMx"
      },
      "execution_count": 18,
      "outputs": []
    },
    {
      "cell_type": "code",
      "source": [
        "import numpy as np\n",
        "import seaborn as sns\n",
        "import matplotlib.pylab as plt\n",
        "\n",
        "ax = sns.heatmap(r2_matrix, linewidth=0.5, cmap=\"RdYlBu\")\n",
        "plt.show()"
      ],
      "metadata": {
        "colab": {
          "base_uri": "https://localhost:8080/",
          "height": 265
        },
        "id": "qzu_TSWdF27T",
        "outputId": "c84216d5-7e94-4e2a-ba28-d923a3529d8a"
      },
      "execution_count": 19,
      "outputs": [
        {
          "output_type": "display_data",
          "data": {
            "text/plain": [
              "<Figure size 432x288 with 2 Axes>"
            ],
            "image/png": "[encoded data removed]"
          },
          "metadata": {
            "needs_background": "light"
          }
        }
      ]
    },
    {
      "cell_type": "code",
      "source": [
        "bx = sns.heatmap(rmse_matrix, linewidth=0.5, cmap=\"RdYlBu_r\")\n",
        "plt.show()"
      ],
      "metadata": {
        "colab": {
          "base_uri": "https://localhost:8080/",
          "height": 265
        },
        "id": "7YOMr4FBF5T6",
        "outputId": "d6abb83b-7e74-4d41-f70a-3796c6086f86"
      },
      "execution_count": 20,
      "outputs": [
        {
          "output_type": "display_data",
          "data": {
            "text/plain": [
              "<Figure size 432x288 with 2 Axes>"
            ],
            "image/png": "[encoded data removed]"
          },
          "metadata": {
            "needs_background": "light"
          }
        }
      ]
    },
    {
      "cell_type": "code",
      "source": [
        "bx = sns.heatmap(mae_matrix, linewidth=0.5, cmap=\"RdYlBu_r\")\n",
        "plt.show()"
      ],
      "metadata": {
        "colab": {
          "base_uri": "https://localhost:8080/",
          "height": 268
        },
        "id": "h0YDzpVnF8Bf",
        "outputId": "4bce5393-6cf5-446e-bf0b-92356bcca8aa"
      },
      "execution_count": 21,
      "outputs": [
        {
          "output_type": "display_data",
          "data": {
            "text/plain": [
              "<Figure size 432x288 with 2 Axes>"
            ],
            "image/png": "[encoded data removed]"
          },
          "metadata": {
            "needs_background": "light"
          }
        }
      ]
    },
    {
      "cell_type": "code",
      "source": [
        "! mkdir subplot"
      ],
      "metadata": {
        "id": "XUzJzVoTF-Ue"
      },
      "execution_count": 22,
      "outputs": []
    },
    {
      "cell_type": "code",
      "source": [
        "df_koor = pd.read_excel('data_model.xlsx',sheet_name='koordinat_30')"
      ],
      "metadata": {
        "id": "3NW0UjnXGAl-"
      },
      "execution_count": 23,
      "outputs": []
    },
    {
      "cell_type": "code",
      "source": [
        "def suhu(y):\n",
        "  df_y = pd.DataFrame(y)\n",
        "  df_z = pd.DataFrame(y)\n",
        "  df_z.rename(columns={0:1},inplace=True)\n",
        "  df_y = df_y.join(df_z)\n",
        "  df_y = df_y.join(df_koor)\n",
        "  df_y.rename(columns={0:'Vx',1:'suhu'},inplace=True)\n",
        "  df_y.pop('Vx')\n",
        "  return df_y"
      ],
      "metadata": {
        "id": "IjjNitdWGF37"
      },
      "execution_count": 24,
      "outputs": []
    },
    {
      "cell_type": "code",
      "source": [
        "from plotly.subplots import make_subplots\n",
        "for i in range(192):\n",
        "  a = y[(...,i,0)]\n",
        "  b = y_predict[(...,i)]\n",
        "  a = np.array(a)\n",
        "  b = np.array(b)\n",
        "  a = suhu(a)\n",
        "  b = suhu(b)\n",
        "  \n",
        "  fig = make_subplots(rows=1, cols=2)\n",
        "\n",
        "  fig.add_contour(\n",
        "     z = a['suhu'].tolist(),\n",
        "     x = a['koor_x'].tolist(),\n",
        "     y = a['koor_y'].tolist(),\n",
        "     row=1, col=1\n",
        "  )\n",
        "\n",
        "  fig.add_contour(\n",
        "     z = b['suhu'].tolist(),\n",
        "     x = b['koor_x'].tolist(),\n",
        "     y = b['koor_y'].tolist(),\n",
        "     row=1, col=2\n",
        "  )\n",
        "  fig.write_image(f'/content/subplot/fig {i}.png')"
      ],
      "metadata": {
        "id": "pnh3bZIcGItr"
      },
      "execution_count": 25,
      "outputs": []
    },
    {
      "cell_type": "code",
      "source": [
        "!zip -r /content/subplot.zip /content/subplot"
      ],
      "metadata": {
        "colab": {
          "base_uri": "https://localhost:8080/",
          "height": 0
        },
        "id": "dfzyDWSUGSCa",
        "outputId": "97bec5d5-c954-42aa-d8d3-2b92832e3b72"
      },
      "execution_count": 26,
      "outputs": [
        {
          "output_type": "stream",
          "name": "stdout",
          "text": [
            "  adding: content/subplot/ (stored 0%)\n",
            "  adding: content/subplot/fig 39.png (deflated 4%)\n",
            "  adding: content/subplot/fig 104.png (deflated 4%)\n",
            "  adding: content/subplot/fig 172.png (deflated 5%)\n",
            "  adding: content/subplot/fig 146.png (deflated 5%)\n",
            "  adding: content/subplot/fig 153.png (deflated 4%)\n",
            "  adding: content/subplot/fig 70.png (deflated 5%)\n",
            "  adding: content/subplot/fig 32.png (deflated 4%)\n",
            "  adding: content/subplot/fig 180.png (deflated 6%)\n",
            "  adding: content/subplot/fig 84.png (deflated 4%)\n",
            "  adding: content/subplot/fig 93.png (deflated 5%)\n",
            "  adding: content/subplot/fig 189.png (deflated 5%)\n",
            "  adding: content/subplot/fig 0.png (deflated 4%)\n",
            "  adding: content/subplot/fig 125.png (deflated 6%)\n",
            "  adding: content/subplot/fig 3.png (deflated 4%)\n",
            "  adding: content/subplot/fig 137.png (deflated 6%)\n",
            "  adding: content/subplot/fig 144.png (deflated 4%)\n",
            "  adding: content/subplot/fig 67.png (deflated 4%)\n",
            "  adding: content/subplot/fig 129.png (deflated 5%)\n",
            "  adding: content/subplot/fig 135.png (deflated 4%)\n",
            "  adding: content/subplot/fig 53.png (deflated 5%)\n",
            "  adding: content/subplot/fig 23.png (deflated 5%)\n",
            "  adding: content/subplot/fig 132.png (deflated 4%)\n",
            "  adding: content/subplot/fig 107.png (deflated 4%)\n",
            "  adding: content/subplot/fig 29.png (deflated 4%)\n",
            "  adding: content/subplot/fig 173.png (deflated 5%)\n",
            "  adding: content/subplot/fig 114.png (deflated 4%)\n",
            "  adding: content/subplot/fig 136.png (deflated 4%)\n",
            "  adding: content/subplot/fig 128.png (deflated 5%)\n",
            "  adding: content/subplot/fig 168.png (deflated 5%)\n",
            "  adding: content/subplot/fig 28.png (deflated 4%)\n",
            "  adding: content/subplot/fig 47.png (deflated 5%)\n",
            "  adding: content/subplot/fig 141.png (deflated 5%)\n",
            "  adding: content/subplot/fig 43.png (deflated 4%)\n",
            "  adding: content/subplot/fig 138.png (deflated 4%)\n",
            "  adding: content/subplot/fig 34.png (deflated 4%)\n",
            "  adding: content/subplot/fig 69.png (deflated 4%)\n",
            "  adding: content/subplot/fig 64.png (deflated 5%)\n",
            "  adding: content/subplot/fig 152.png (deflated 5%)\n",
            "  adding: content/subplot/fig 14.png (deflated 4%)\n",
            "  adding: content/subplot/fig 19.png (deflated 4%)\n",
            "  adding: content/subplot/fig 133.png (deflated 5%)\n",
            "  adding: content/subplot/fig 61.png (deflated 4%)\n",
            "  adding: content/subplot/fig 100.png (deflated 4%)\n",
            "  adding: content/subplot/fig 123.png (deflated 4%)\n",
            "  adding: content/subplot/fig 147.png (deflated 5%)\n",
            "  adding: content/subplot/fig 102.png (deflated 5%)\n",
            "  adding: content/subplot/fig 120.png (deflated 4%)\n",
            "  adding: content/subplot/fig 46.png (deflated 5%)\n",
            "  adding: content/subplot/fig 83.png (deflated 5%)\n",
            "  adding: content/subplot/fig 181.png (deflated 4%)\n",
            "  adding: content/subplot/fig 179.png (deflated 4%)\n",
            "  adding: content/subplot/fig 20.png (deflated 4%)\n",
            "  adding: content/subplot/fig 49.png (deflated 5%)\n",
            "  adding: content/subplot/fig 74.png (deflated 4%)\n",
            "  adding: content/subplot/fig 96.png (deflated 5%)\n",
            "  adding: content/subplot/fig 71.png (deflated 5%)\n",
            "  adding: content/subplot/fig 91.png (deflated 4%)\n",
            "  adding: content/subplot/fig 92.png (deflated 4%)\n",
            "  adding: content/subplot/fig 16.png (deflated 5%)\n",
            "  adding: content/subplot/fig 27.png (deflated 4%)\n",
            "  adding: content/subplot/fig 174.png (deflated 5%)\n",
            "  adding: content/subplot/fig 119.png (deflated 4%)\n",
            "  adding: content/subplot/fig 150.png (deflated 5%)\n",
            "  adding: content/subplot/fig 182.png (deflated 4%)\n",
            "  adding: content/subplot/fig 18.png (deflated 4%)\n",
            "  adding: content/subplot/fig 151.png (deflated 5%)\n",
            "  adding: content/subplot/fig 149.png (deflated 5%)\n",
            "  adding: content/subplot/fig 90.png (deflated 4%)\n",
            "  adding: content/subplot/fig 78.png (deflated 4%)\n",
            "  adding: content/subplot/fig 115.png (deflated 6%)\n",
            "  adding: content/subplot/fig 62.png (deflated 4%)\n",
            "  adding: content/subplot/fig 85.png (deflated 4%)\n",
            "  adding: content/subplot/fig 77.png (deflated 4%)\n",
            "  adding: content/subplot/fig 65.png (deflated 5%)\n",
            "  adding: content/subplot/fig 166.png (deflated 5%)\n",
            "  adding: content/subplot/fig 98.png (deflated 5%)\n",
            "  adding: content/subplot/fig 73.png (deflated 4%)\n",
            "  adding: content/subplot/fig 82.png (deflated 5%)\n",
            "  adding: content/subplot/fig 122.png (deflated 5%)\n",
            "  adding: content/subplot/fig 148.png (deflated 5%)\n",
            "  adding: content/subplot/fig 116.png (deflated 5%)\n",
            "  adding: content/subplot/fig 5.png (deflated 5%)\n",
            "  adding: content/subplot/fig 130.png (deflated 4%)\n",
            "  adding: content/subplot/fig 40.png (deflated 4%)\n",
            "  adding: content/subplot/fig 167.png (deflated 6%)\n",
            "  adding: content/subplot/fig 15.png (deflated 5%)\n",
            "  adding: content/subplot/fig 103.png (deflated 4%)\n",
            "  adding: content/subplot/fig 161.png (deflated 5%)\n",
            "  adding: content/subplot/fig 131.png (deflated 4%)\n",
            "  adding: content/subplot/fig 79.png (deflated 4%)\n",
            "  adding: content/subplot/fig 175.png (deflated 4%)\n",
            "  adding: content/subplot/fig 134.png (deflated 5%)\n",
            "  adding: content/subplot/fig 190.png (deflated 4%)\n",
            "  adding: content/subplot/fig 12.png (deflated 4%)\n",
            "  adding: content/subplot/fig 36.png (deflated 4%)\n",
            "  adding: content/subplot/fig 188.png (deflated 5%)\n",
            "  adding: content/subplot/fig 6.png (deflated 5%)\n",
            "  adding: content/subplot/fig 76.png (deflated 5%)\n",
            "  adding: content/subplot/fig 95.png (deflated 5%)\n",
            "  adding: content/subplot/fig 97.png (deflated 4%)\n",
            "  adding: content/subplot/fig 127.png (deflated 6%)\n",
            "  adding: content/subplot/fig 176.png (deflated 5%)\n",
            "  adding: content/subplot/fig 94.png (deflated 4%)\n",
            "  adding: content/subplot/fig 58.png (deflated 4%)\n",
            "  adding: content/subplot/fig 26.png (deflated 5%)\n",
            "  adding: content/subplot/fig 52.png (deflated 5%)\n",
            "  adding: content/subplot/fig 183.png (deflated 6%)\n",
            "  adding: content/subplot/fig 11.png (deflated 4%)\n",
            "  adding: content/subplot/fig 165.png (deflated 4%)\n",
            "  adding: content/subplot/fig 2.png (deflated 4%)\n",
            "  adding: content/subplot/fig 118.png (deflated 4%)\n",
            "  adding: content/subplot/fig 171.png (deflated 5%)\n",
            "  adding: content/subplot/fig 111.png (deflated 5%)\n",
            "  adding: content/subplot/fig 163.png (deflated 4%)\n",
            "  adding: content/subplot/fig 8.png (deflated 4%)\n",
            "  adding: content/subplot/fig 160.png (deflated 5%)\n",
            "  adding: content/subplot/fig 157.png (deflated 5%)\n",
            "  adding: content/subplot/fig 186.png (deflated 5%)\n",
            "  adding: content/subplot/fig 124.png (deflated 4%)\n",
            "  adding: content/subplot/fig 184.png (deflated 5%)\n",
            "  adding: content/subplot/fig 21.png (deflated 3%)\n",
            "  adding: content/subplot/fig 55.png (deflated 4%)\n",
            "  adding: content/subplot/fig 59.png (deflated 4%)\n",
            "  adding: content/subplot/fig 140.png (deflated 6%)\n",
            "  adding: content/subplot/fig 191.png (deflated 5%)\n",
            "  adding: content/subplot/fig 158.png (deflated 4%)\n",
            "  adding: content/subplot/fig 164.png (deflated 5%)\n",
            "  adding: content/subplot/fig 60.png (deflated 4%)\n",
            "  adding: content/subplot/fig 51.png (deflated 4%)\n",
            "  adding: content/subplot/fig 108.png (deflated 5%)\n",
            "  adding: content/subplot/fig 86.png (deflated 5%)\n",
            "  adding: content/subplot/fig 156.png (deflated 5%)\n",
            "  adding: content/subplot/fig 142.png (deflated 4%)\n",
            "  adding: content/subplot/fig 10.png (deflated 5%)\n",
            "  adding: content/subplot/fig 89.png (deflated 4%)\n",
            "  adding: content/subplot/fig 170.png (deflated 4%)\n",
            "  adding: content/subplot/fig 44.png (deflated 4%)\n",
            "  adding: content/subplot/fig 66.png (deflated 4%)\n",
            "  adding: content/subplot/fig 42.png (deflated 4%)\n",
            "  adding: content/subplot/fig 117.png (deflated 5%)\n",
            "  adding: content/subplot/fig 13.png (deflated 4%)\n",
            "  adding: content/subplot/fig 22.png (deflated 3%)\n",
            "  adding: content/subplot/fig 110.png (deflated 5%)\n",
            "  adding: content/subplot/fig 88.png (deflated 4%)\n",
            "  adding: content/subplot/fig 68.png (deflated 4%)\n",
            "  adding: content/subplot/fig 4.png (deflated 4%)\n",
            "  adding: content/subplot/fig 25.png (deflated 5%)\n",
            "  adding: content/subplot/fig 101.png (deflated 4%)\n",
            "  adding: content/subplot/fig 105.png (deflated 5%)\n",
            "  adding: content/subplot/fig 1.png (deflated 4%)\n",
            "  adding: content/subplot/fig 155.png (deflated 5%)\n",
            "  adding: content/subplot/fig 109.png (deflated 5%)\n",
            "  adding: content/subplot/fig 112.png (deflated 4%)\n",
            "  adding: content/subplot/fig 7.png (deflated 5%)\n",
            "  adding: content/subplot/fig 154.png (deflated 5%)\n",
            "  adding: content/subplot/fig 31.png (deflated 4%)\n",
            "  adding: content/subplot/fig 33.png (deflated 5%)\n",
            "  adding: content/subplot/fig 63.png (deflated 5%)\n",
            "  adding: content/subplot/fig 87.png (deflated 4%)\n",
            "  adding: content/subplot/fig 72.png (deflated 5%)\n",
            "  adding: content/subplot/fig 185.png (deflated 4%)\n",
            "  adding: content/subplot/fig 139.png (deflated 6%)\n",
            "  adding: content/subplot/fig 57.png (deflated 4%)\n",
            "  adding: content/subplot/fig 121.png (deflated 5%)\n",
            "  adding: content/subplot/fig 126.png (deflated 4%)\n",
            "  adding: content/subplot/fig 48.png (deflated 6%)\n",
            "  adding: content/subplot/fig 143.png (deflated 4%)\n",
            "  adding: content/subplot/fig 75.png (deflated 5%)\n",
            "  adding: content/subplot/fig 145.png (deflated 5%)\n",
            "  adding: content/subplot/fig 24.png (deflated 4%)\n",
            "  adding: content/subplot/fig 159.png (deflated 3%)\n",
            "  adding: content/subplot/fig 56.png (deflated 4%)\n",
            "  adding: content/subplot/fig 38.png (deflated 4%)\n",
            "  adding: content/subplot/fig 37.png (deflated 4%)\n",
            "  adding: content/subplot/fig 17.png (deflated 4%)\n",
            "  adding: content/subplot/fig 177.png (deflated 5%)\n",
            "  adding: content/subplot/fig 113.png (deflated 5%)\n",
            "  adding: content/subplot/fig 30.png (deflated 4%)\n",
            "  adding: content/subplot/fig 50.png (deflated 5%)\n",
            "  adding: content/subplot/fig 106.png (deflated 5%)\n",
            "  adding: content/subplot/fig 162.png (deflated 5%)\n",
            "  adding: content/subplot/fig 187.png (deflated 5%)\n",
            "  adding: content/subplot/fig 41.png (deflated 4%)\n",
            "  adding: content/subplot/fig 9.png (deflated 4%)\n",
            "  adding: content/subplot/fig 178.png (deflated 5%)\n",
            "  adding: content/subplot/fig 35.png (deflated 4%)\n",
            "  adding: content/subplot/fig 99.png (deflated 5%)\n",
            "  adding: content/subplot/fig 54.png (deflated 5%)\n",
            "  adding: content/subplot/fig 80.png (deflated 4%)\n",
            "  adding: content/subplot/fig 81.png (deflated 3%)\n",
            "  adding: content/subplot/fig 169.png (deflated 5%)\n",
            "  adding: content/subplot/fig 45.png (deflated 5%)\n"
          ]
        }
      ]
    }
  ]
}