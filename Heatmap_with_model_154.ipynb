{
  "nbformat": 4,
  "nbformat_minor": 0,
  "metadata": {
    "colab": {
      "provenance": [],
      "authorship_tag": "ABX9TyOGIN3/voJxmZqEVCqG9bHW",
      "include_colab_link": true
    },
    "kernelspec": {
      "name": "python3",
      "display_name": "Python 3"
    },
    "language_info": {
      "name": "python"
    }
  },
  "cells": [
    {
      "cell_type": "markdown",
      "metadata": {
        "id": "view-in-github",
        "colab_type": "text"
      },
      "source": [
        "<a href=\"https://colab.research.google.com/github/yfhkucing/experiment_bms/blob/master/Heatmap_with_model_154.ipynb\" target=\"_parent\"><img src=\"https://colab.research.google.com/assets/colab-badge.svg\" alt=\"Open In Colab\"/></a>"
      ]
    },
    {
      "cell_type": "code",
      "execution_count": 1,
      "metadata": {
        "colab": {
          "base_uri": "https://localhost:8080/"
        },
        "id": "M-XBnonilzWS",
        "outputId": "4d203a27-31f7-4056-fdb6-99ede72587fa"
      },
      "outputs": [
        {
          "output_type": "stream",
          "name": "stdout",
          "text": [
            "Looking in indexes: https://pypi.org/simple, https://us-python.pkg.dev/colab-wheels/public/simple/\n",
            "Requirement already satisfied: kaleido in /usr/local/lib/python3.7/dist-packages (0.2.1)\n"
          ]
        }
      ],
      "source": [
        "! pip install -U kaleido"
      ]
    },
    {
      "cell_type": "code",
      "source": [
        "import joblib\n",
        "import numpy as np\n",
        "import pandas as pd"
      ],
      "metadata": {
        "id": "8aVZjO6bl0oe"
      },
      "execution_count": 2,
      "outputs": []
    },
    {
      "cell_type": "code",
      "source": [
        "! unzip /content/models_temp_154_a0005.zip"
      ],
      "metadata": {
        "colab": {
          "base_uri": "https://localhost:8080/"
        },
        "id": "M0f4lRDql2m4",
        "outputId": "7414fa1d-e479-43fd-b685-89f4d69cf906"
      },
      "execution_count": 3,
      "outputs": [
        {
          "output_type": "stream",
          "name": "stdout",
          "text": [
            "Archive:  /content/models_temp_154_a0005.zip\n",
            "replace content/models/model 44? [y]es, [n]o, [A]ll, [N]one, [r]ename: A\n",
            "  inflating: content/models/model 44  \n",
            "  inflating: content/models/model 107  \n",
            "  inflating: content/models/model 43  \n",
            "  inflating: content/models/model 117  \n",
            "  inflating: content/models/model 25  \n",
            "  inflating: content/models/model 126  \n",
            "  inflating: content/models/model 100  \n",
            "  inflating: content/models/model 81  \n",
            "  inflating: content/models/model 68  \n",
            "  inflating: content/models/model 18  \n",
            "  inflating: content/models/model 75  \n",
            "  inflating: content/models/model 106  \n",
            "  inflating: content/models/model 102  \n",
            "  inflating: content/models/model 27  \n",
            "  inflating: content/models/model 59  \n",
            "  inflating: content/models/model 86  \n",
            "  inflating: content/models/model 112  \n",
            "  inflating: content/models/model 96  \n",
            "  inflating: content/models/model 4  \n",
            "  inflating: content/models/model 40  \n",
            "  inflating: content/models/model 136  \n",
            "  inflating: content/models/model 23  \n",
            "  inflating: content/models/model 77  \n",
            "  inflating: content/models/model 65  \n",
            "  inflating: content/models/model 80  \n",
            "  inflating: content/models/model 109  \n",
            "  inflating: content/models/model 26  \n",
            "  inflating: content/models/model 74  \n",
            "  inflating: content/models/model 3  \n",
            "  inflating: content/models/model 37  \n",
            "  inflating: content/models/model 137  \n",
            "  inflating: content/models/model 11  \n",
            "  inflating: content/models/model 45  \n",
            "  inflating: content/models/model 50  \n",
            "  inflating: content/models/model 0  \n",
            "  inflating: content/models/model 132  \n",
            "  inflating: content/models/model 70  \n",
            "  inflating: content/models/model 79  \n",
            "  inflating: content/models/model 141  \n",
            "  inflating: content/models/model 32  \n",
            "  inflating: content/models/model 58  \n",
            "  inflating: content/models/model 47  \n",
            "  inflating: content/models/model 88  \n",
            "  inflating: content/models/model 55  \n",
            "  inflating: content/models/model 71  \n",
            "  inflating: content/models/model 34  \n",
            "  inflating: content/models/model 54  \n",
            "  inflating: content/models/model 147  \n",
            "  inflating: content/models/model 51  \n",
            "  inflating: content/models/model 56  \n",
            "  inflating: content/models/model 49  \n",
            "  inflating: content/models/model 21  \n",
            "  inflating: content/models/model 150  \n",
            "  inflating: content/models/model 14  \n",
            "  inflating: content/models/model 9  \n",
            "  inflating: content/models/model 101  \n",
            "  inflating: content/models/model 2  \n",
            "  inflating: content/models/model 122  \n",
            "  inflating: content/models/model 131  \n",
            "  inflating: content/models/model 115  \n",
            "  inflating: content/models/model 146  \n",
            "  inflating: content/models/model 30  \n",
            "  inflating: content/models/model 103  \n",
            "  inflating: content/models/model 42  \n",
            "  inflating: content/models/model 67  \n",
            "  inflating: content/models/model 139  \n",
            "  inflating: content/models/model 118  \n",
            "  inflating: content/models/model 111  \n",
            "  inflating: content/models/model 90  \n",
            "  inflating: content/models/model 87  \n",
            "  inflating: content/models/model 13  \n",
            "  inflating: content/models/model 116  \n",
            "  inflating: content/models/model 53  \n",
            "  inflating: content/models/model 110  \n",
            "  inflating: content/models/model 19  \n",
            "  inflating: content/models/model 8  \n",
            "  inflating: content/models/model 113  \n",
            "  inflating: content/models/model 63  \n",
            "  inflating: content/models/model 85  \n",
            "  inflating: content/models/model 143  \n",
            "  inflating: content/models/model 138  \n",
            "  inflating: content/models/model 16  \n",
            "  inflating: content/models/model 12  \n",
            "  inflating: content/models/model 28  \n",
            "  inflating: content/models/model 152  \n",
            "  inflating: content/models/model 148  \n",
            "  inflating: content/models/model 52  \n",
            "  inflating: content/models/model 140  \n",
            "  inflating: content/models/model 31  \n",
            "  inflating: content/models/model 10  \n",
            "  inflating: content/models/model 134  \n",
            "  inflating: content/models/model 128  \n",
            "  inflating: content/models/model 36  \n",
            "  inflating: content/models/model 129  \n",
            "  inflating: content/models/model 6  \n",
            "  inflating: content/models/model 130  \n",
            "  inflating: content/models/model 124  \n",
            "  inflating: content/models/model 41  \n",
            "  inflating: content/models/model 153  \n",
            "  inflating: content/models/model 125  \n",
            "  inflating: content/models/model 46  \n",
            "  inflating: content/models/model 119  \n",
            "  inflating: content/models/model 57  \n",
            "  inflating: content/models/model 91  \n",
            "  inflating: content/models/model 108  \n",
            "  inflating: content/models/model 151  \n",
            "  inflating: content/models/model 62  \n",
            "  inflating: content/models/model 29  \n",
            "  inflating: content/models/model 144  \n",
            "  inflating: content/models/model 94  \n",
            "  inflating: content/models/model 133  \n",
            "  inflating: content/models/model 93  \n",
            "  inflating: content/models/model 39  \n",
            "  inflating: content/models/model 149  \n",
            "  inflating: content/models/model 5  \n",
            "  inflating: content/models/model 142  \n",
            "  inflating: content/models/model 104  \n",
            "  inflating: content/models/model 64  \n",
            "  inflating: content/models/model 145  \n",
            "  inflating: content/models/model 38  \n",
            "  inflating: content/models/model 82  \n",
            "  inflating: content/models/model 48  \n",
            "  inflating: content/models/model 95  \n",
            "  inflating: content/models/model 15  \n",
            "  inflating: content/models/model 83  \n",
            "  inflating: content/models/model 98  \n",
            "  inflating: content/models/model 24  \n",
            "  inflating: content/models/model 120  \n",
            "  inflating: content/models/model 17  \n",
            "  inflating: content/models/model 73  \n",
            "  inflating: content/models/model 114  \n",
            "  inflating: content/models/model 7  \n",
            "  inflating: content/models/model 72  \n",
            "  inflating: content/models/model 78  \n",
            "  inflating: content/models/model 33  \n",
            "  inflating: content/models/model 99  \n",
            "  inflating: content/models/model 121  \n",
            "  inflating: content/models/model 105  \n",
            "  inflating: content/models/model 35  \n",
            "  inflating: content/models/model 135  \n",
            "  inflating: content/models/model 60  \n",
            "  inflating: content/models/model 76  \n",
            "  inflating: content/models/model 84  \n",
            "  inflating: content/models/model 89  \n",
            "  inflating: content/models/model 92  \n",
            "  inflating: content/models/model 127  \n",
            "  inflating: content/models/model 1  \n",
            "  inflating: content/models/model 20  \n",
            "  inflating: content/models/model 69  \n",
            "  inflating: content/models/model 61  \n",
            "  inflating: content/models/model 22  \n",
            "  inflating: content/models/model 123  \n",
            "  inflating: content/models/model 97  \n",
            "  inflating: content/models/model 66  \n"
          ]
        }
      ]
    },
    {
      "cell_type": "code",
      "source": [
        "feature = pd.read_excel('data_model.xlsx',sheet_name='feature')\n",
        "label = pd.read_excel('data_model.xlsx',sheet_name='label_154')"
      ],
      "metadata": {
        "id": "B8BE7V-omGXG"
      },
      "execution_count": 4,
      "outputs": []
    },
    {
      "cell_type": "code",
      "source": [
        "def norm(df):\n",
        "  df=(df-df.min())/(df.max()-df.min())\n",
        "  return df\n",
        "\n",
        "def remap(df,new_max,new_min):\n",
        "  df = (df-df.min())/(df.max()-df.min())*(new_max - new_min) + new_min\n",
        "  return df\n",
        "\n",
        "from sklearn.preprocessing import StandardScaler\n",
        "def standard(df):\n",
        "  scaler = StandardScaler()\n",
        "  df = scaler.fit_transform(df)\n",
        "  return df\n",
        "\n",
        "def rescale(df,df2):\n",
        "  new_max = df2.max()\n",
        "  new_min = df2.min()\n",
        "  df = (df)*(new_max - new_min) + new_min\n",
        "  return df"
      ],
      "metadata": {
        "id": "kwglDoAr4OCR"
      },
      "execution_count": 5,
      "outputs": []
    },
    {
      "cell_type": "code",
      "source": [
        "feature = norm(feature)"
      ],
      "metadata": {
        "id": "91uSvKkZmaXI"
      },
      "execution_count": 6,
      "outputs": []
    },
    {
      "cell_type": "code",
      "source": [
        "array_y = []\n",
        "array_y_not_normal = []\n",
        "for i in range(154):\n",
        "  frame= label[i::154]\n",
        "  frame = frame.drop(['koor_x','koor_y',],axis=1)\n",
        "  frame = frame.drop(['Vx','Vy'],axis=1)\n",
        "  array_y_not_normal.append(frame)\n",
        "  frame = norm(frame)\n",
        "  array_y.append(frame)"
      ],
      "metadata": {
        "id": "KuWQo7LcmcYg"
      },
      "execution_count": 7,
      "outputs": []
    },
    {
      "cell_type": "code",
      "source": [
        "from sklearn.model_selection import train_test_split\n",
        "from sklearn.metrics import r2_score as r2\n",
        "from sklearn.metrics import mean_squared_error as mse\n",
        "from sklearn.metrics import mean_absolute_error as mae\n",
        "\n",
        "skor_r2=[]\n",
        "mae_=[]\n",
        "rmse = []\n",
        "y_predict = []\n",
        "y_test = []\n",
        "for i in range(154):\n",
        "  x = np.array(feature)\n",
        "  y = np.array(array_y[i])\n",
        "  model = joblib.load(f'/content/content/models/model {i}')\n",
        "  y_pred = model.predict(x)\n",
        "  Skor_r2 = r2(y,y_pred)\n",
        "  RMSE = mse(y,y_pred,squared=False)\n",
        "  MAE = mae(y,y_pred)\n",
        "  y_predict.append(y_pred)\n",
        "  skor_r2.append(Skor_r2)\n",
        "  mae_.append(MAE)\n",
        "  rmse.append(RMSE)"
      ],
      "metadata": {
        "id": "32FAhPH-omhH"
      },
      "execution_count": 8,
      "outputs": []
    },
    {
      "cell_type": "code",
      "source": [
        "skor_r2 = np.array(skor_r2)\n",
        "rmse = np.array(rmse)\n",
        "mae_=np.array(mae_)\n",
        "y_predict = np.array(y_predict)\n",
        "y = np.array(array_y)"
      ],
      "metadata": {
        "id": "h9E-pZJ6qh4e"
      },
      "execution_count": 9,
      "outputs": []
    },
    {
      "cell_type": "code",
      "source": [
        "#error per skenario\n",
        "\n",
        "r_squared = []\n",
        "abs_error = []\n",
        "sqrt_error = []\n",
        "for i in range(192):\n",
        "  a = y[...,i,0]\n",
        "  b = y_predict[...,i]\n",
        "  r_squared.append(r2(a,b))\n",
        "  abs_error.append(mae(a,b))\n",
        "  sqrt_error.append(mse(a,b))"
      ],
      "metadata": {
        "id": "o81_NGxKzyJ-"
      },
      "execution_count": 10,
      "outputs": []
    },
    {
      "cell_type": "code",
      "source": [
        "error = pd.DataFrame(r_squared,columns=['r2'])\n",
        "abs_error = pd.DataFrame(abs_error,columns=['mae'])\n",
        "sqrt_error = pd.DataFrame(sqrt_error,columns=['rmse'])\n",
        "error = error.join(abs_error)\n",
        "error = error.join(sqrt_error)"
      ],
      "metadata": {
        "id": "9pUzIX5z1Jls"
      },
      "execution_count": 11,
      "outputs": []
    },
    {
      "cell_type": "code",
      "source": [
        "df_koor = pd.read_excel('data_model.xlsx',sheet_name='koordinat_154_aktual')"
      ],
      "metadata": {
        "id": "834iBmnd4pBW"
      },
      "execution_count": 12,
      "outputs": []
    },
    {
      "cell_type": "code",
      "source": [
        "df_y = []\n",
        "df_y_predict = []\n",
        "for i in range(30):\n",
        "  q = pd.DataFrame(y[i],columns=['Temp'])\n",
        "  q = round(rescale(q,array_y_not_normal[i]),9)\n",
        "  df_y.append(q)\n",
        "  r = round(pd.DataFrame(y_predict[i],columns=['Temp']),9)\n",
        "  r = rescale(r,array_y_not_normal[i])\n",
        "  df_y_predict.append(r)"
      ],
      "metadata": {
        "id": "TJB08y165I5A"
      },
      "execution_count": 13,
      "outputs": []
    },
    {
      "cell_type": "code",
      "source": [
        "def suhu(y,scenarios):\n",
        "  df_x = pd.DataFrame(y[...,scenarios,0])\n",
        "  df_x = df_x.join(df_koor)\n",
        "  df_x.rename(columns={0:'Temp'},inplace=True)\n",
        "  return df_x"
      ],
      "metadata": {
        "id": "gSpPIi9M5LFg"
      },
      "execution_count": 14,
      "outputs": []
    },
    {
      "cell_type": "code",
      "source": [
        "#error per skenario\n",
        "\n",
        "r_squared = []\n",
        "abs_error = []\n",
        "sqrt_error = []\n",
        "indexing = 0,1\n",
        "for i in range(192):\n",
        "  a = suhu(np.array(df_y),i)\n",
        "  a.drop(['koor_x','koor_y'],axis=1)\n",
        "  b = suhu(np.array(df_y_predict),i)\n",
        "  b.drop(['koor_x','koor_y'],axis=1)\n",
        "  r_squared.append(r2(a,b))\n",
        "  abs_error.append(mae(a,b))\n",
        "  sqrt_error.append(mse(a,b))\n",
        "\n",
        "error = pd.DataFrame(r_squared,columns=['r2'])\n",
        "abs_error = pd.DataFrame(abs_error,columns=['mae'])\n",
        "sqrt_error = pd.DataFrame(sqrt_error,columns=['rmse'])\n",
        "error = error.join(abs_error)\n",
        "error = error.join(sqrt_error)"
      ],
      "metadata": {
        "id": "5oEA0dIc5O0T"
      },
      "execution_count": 15,
      "outputs": []
    },
    {
      "cell_type": "code",
      "source": [
        "error.describe()"
      ],
      "metadata": {
        "id": "6NGgggOV5Spx",
        "outputId": "ebacdbb5-07a0-4733-878c-b085194d011e",
        "colab": {
          "base_uri": "https://localhost:8080/",
          "height": 300
        }
      },
      "execution_count": 16,
      "outputs": [
        {
          "output_type": "execute_result",
          "data": {
            "text/plain": [
              "               r2         mae        rmse\n",
              "count  192.000000  192.000000  192.000000\n",
              "mean    -0.802768    0.444143    0.949362\n",
              "std      2.323199    0.310818    1.056524\n",
              "min    -11.383180    0.046661    0.009099\n",
              "25%     -1.305173    0.137694    0.079612\n",
              "50%     -0.038922    0.390784    0.476244\n",
              "75%      0.805609    0.703323    1.588381\n",
              "max      0.985565    1.191222    4.368936"
            ],
            "text/html": [
              "\n",
              "  <div id=\"df-12c5c7f7-4c84-4969-9142-ce8badefdfb8\">\n",
              "    <div class=\"colab-df-container\">\n",
              "      <div>\n",
              "<style scoped>\n",
              "    .dataframe tbody tr th:only-of-type {\n",
              "        vertical-align: middle;\n",
              "    }\n",
              "\n",
              "    .dataframe tbody tr th {\n",
              "        vertical-align: top;\n",
              "    }\n",
              "\n",
              "    .dataframe thead th {\n",
              "        text-align: right;\n",
              "    }\n",
              "</style>\n",
              "<table border=\"1\" class=\"dataframe\">\n",
              "  <thead>\n",
              "    <tr style=\"text-align: right;\">\n",
              "      <th></th>\n",
              "      <th>r2</th>\n",
              "      <th>mae</th>\n",
              "      <th>rmse</th>\n",
              "    </tr>\n",
              "  </thead>\n",
              "  <tbody>\n",
              "    <tr>\n",
              "      <th>count</th>\n",
              "      <td>192.000000</td>\n",
              "      <td>192.000000</td>\n",
              "      <td>192.000000</td>\n",
              "    </tr>\n",
              "    <tr>\n",
              "      <th>mean</th>\n",
              "      <td>-0.802768</td>\n",
              "      <td>0.444143</td>\n",
              "      <td>0.949362</td>\n",
              "    </tr>\n",
              "    <tr>\n",
              "      <th>std</th>\n",
              "      <td>2.323199</td>\n",
              "      <td>0.310818</td>\n",
              "      <td>1.056524</td>\n",
              "    </tr>\n",
              "    <tr>\n",
              "      <th>min</th>\n",
              "      <td>-11.383180</td>\n",
              "      <td>0.046661</td>\n",
              "      <td>0.009099</td>\n",
              "    </tr>\n",
              "    <tr>\n",
              "      <th>25%</th>\n",
              "      <td>-1.305173</td>\n",
              "      <td>0.137694</td>\n",
              "      <td>0.079612</td>\n",
              "    </tr>\n",
              "    <tr>\n",
              "      <th>50%</th>\n",
              "      <td>-0.038922</td>\n",
              "      <td>0.390784</td>\n",
              "      <td>0.476244</td>\n",
              "    </tr>\n",
              "    <tr>\n",
              "      <th>75%</th>\n",
              "      <td>0.805609</td>\n",
              "      <td>0.703323</td>\n",
              "      <td>1.588381</td>\n",
              "    </tr>\n",
              "    <tr>\n",
              "      <th>max</th>\n",
              "      <td>0.985565</td>\n",
              "      <td>1.191222</td>\n",
              "      <td>4.368936</td>\n",
              "    </tr>\n",
              "  </tbody>\n",
              "</table>\n",
              "</div>\n",
              "      <button class=\"colab-df-convert\" onclick=\"convertToInteractive('df-12c5c7f7-4c84-4969-9142-ce8badefdfb8')\"\n",
              "              title=\"Convert this dataframe to an interactive table.\"\n",
              "              style=\"display:none;\">\n",
              "        \n",
              "  <svg xmlns=\"http://www.w3.org/2000/svg\" height=\"24px\"viewBox=\"0 0 24 24\"\n",
              "       width=\"24px\">\n",
              "    <path d=\"M0 0h24v24H0V0z\" fill=\"none\"/>\n",
              "    <path d=\"M18.56 5.44l.94 2.06.94-2.06 2.06-.94-2.06-.94-.94-2.06-.94 2.06-2.06.94zm-11 1L8.5 8.5l.94-2.06 2.06-.94-2.06-.94L8.5 2.5l-.94 2.06-2.06.94zm10 10l.94 2.06.94-2.06 2.06-.94-2.06-.94-.94-2.06-.94 2.06-2.06.94z\"/><path d=\"M17.41 7.96l-1.37-1.37c-.4-.4-.92-.59-1.43-.59-.52 0-1.04.2-1.43.59L10.3 9.45l-7.72 7.72c-.78.78-.78 2.05 0 2.83L4 21.41c.39.39.9.59 1.41.59.51 0 1.02-.2 1.41-.59l7.78-7.78 2.81-2.81c.8-.78.8-2.07 0-2.86zM5.41 20L4 18.59l7.72-7.72 1.47 1.35L5.41 20z\"/>\n",
              "  </svg>\n",
              "      </button>\n",
              "      \n",
              "  <style>\n",
              "    .colab-df-container {\n",
              "      display:flex;\n",
              "      flex-wrap:wrap;\n",
              "      gap: 12px;\n",
              "    }\n",
              "\n",
              "    .colab-df-convert {\n",
              "      background-color: #E8F0FE;\n",
              "      border: none;\n",
              "      border-radius: 50%;\n",
              "      cursor: pointer;\n",
              "      display: none;\n",
              "      fill: #1967D2;\n",
              "      height: 32px;\n",
              "      padding: 0 0 0 0;\n",
              "      width: 32px;\n",
              "    }\n",
              "\n",
              "    .colab-df-convert:hover {\n",
              "      background-color: #E2EBFA;\n",
              "      box-shadow: 0px 1px 2px rgba(60, 64, 67, 0.3), 0px 1px 3px 1px rgba(60, 64, 67, 0.15);\n",
              "      fill: #174EA6;\n",
              "    }\n",
              "\n",
              "    [theme=dark] .colab-df-convert {\n",
              "      background-color: #3B4455;\n",
              "      fill: #D2E3FC;\n",
              "    }\n",
              "\n",
              "    [theme=dark] .colab-df-convert:hover {\n",
              "      background-color: #434B5C;\n",
              "      box-shadow: 0px 1px 3px 1px rgba(0, 0, 0, 0.15);\n",
              "      filter: drop-shadow(0px 1px 2px rgba(0, 0, 0, 0.3));\n",
              "      fill: #FFFFFF;\n",
              "    }\n",
              "  </style>\n",
              "\n",
              "      <script>\n",
              "        const buttonEl =\n",
              "          document.querySelector('#df-12c5c7f7-4c84-4969-9142-ce8badefdfb8 button.colab-df-convert');\n",
              "        buttonEl.style.display =\n",
              "          google.colab.kernel.accessAllowed ? 'block' : 'none';\n",
              "\n",
              "        async function convertToInteractive(key) {\n",
              "          const element = document.querySelector('#df-12c5c7f7-4c84-4969-9142-ce8badefdfb8');\n",
              "          const dataTable =\n",
              "            await google.colab.kernel.invokeFunction('convertToInteractive',\n",
              "                                                     [key], {});\n",
              "          if (!dataTable) return;\n",
              "\n",
              "          const docLinkHtml = 'Like what you see? Visit the ' +\n",
              "            '<a target=\"_blank\" href=https://colab.research.google.com/notebooks/data_table.ipynb>data table notebook</a>'\n",
              "            + ' to learn more about interactive tables.';\n",
              "          element.innerHTML = '';\n",
              "          dataTable['output_type'] = 'display_data';\n",
              "          await google.colab.output.renderOutput(dataTable, element);\n",
              "          const docLink = document.createElement('div');\n",
              "          docLink.innerHTML = docLinkHtml;\n",
              "          element.appendChild(docLink);\n",
              "        }\n",
              "      </script>\n",
              "    </div>\n",
              "  </div>\n",
              "  "
            ]
          },
          "metadata": {},
          "execution_count": 16
        }
      ]
    },
    {
      "cell_type": "code",
      "source": [
        "min_error = error[error.r2 == error.r2.max()]\n",
        "min_error"
      ],
      "metadata": {
        "id": "e9ywDrH05Uje",
        "outputId": "81373503-8dd6-4463-a6cc-c16530ecdd0d",
        "colab": {
          "base_uri": "https://localhost:8080/",
          "height": 81
        }
      },
      "execution_count": 17,
      "outputs": [
        {
          "output_type": "execute_result",
          "data": {
            "text/plain": [
              "          r2       mae      rmse\n",
              "82  0.985565  0.048941  0.011141"
            ],
            "text/html": [
              "\n",
              "  <div id=\"df-5097dc04-f30e-4582-b4e7-3ea2d2a651e4\">\n",
              "    <div class=\"colab-df-container\">\n",
              "      <div>\n",
              "<style scoped>\n",
              "    .dataframe tbody tr th:only-of-type {\n",
              "        vertical-align: middle;\n",
              "    }\n",
              "\n",
              "    .dataframe tbody tr th {\n",
              "        vertical-align: top;\n",
              "    }\n",
              "\n",
              "    .dataframe thead th {\n",
              "        text-align: right;\n",
              "    }\n",
              "</style>\n",
              "<table border=\"1\" class=\"dataframe\">\n",
              "  <thead>\n",
              "    <tr style=\"text-align: right;\">\n",
              "      <th></th>\n",
              "      <th>r2</th>\n",
              "      <th>mae</th>\n",
              "      <th>rmse</th>\n",
              "    </tr>\n",
              "  </thead>\n",
              "  <tbody>\n",
              "    <tr>\n",
              "      <th>82</th>\n",
              "      <td>0.985565</td>\n",
              "      <td>0.048941</td>\n",
              "      <td>0.011141</td>\n",
              "    </tr>\n",
              "  </tbody>\n",
              "</table>\n",
              "</div>\n",
              "      <button class=\"colab-df-convert\" onclick=\"convertToInteractive('df-5097dc04-f30e-4582-b4e7-3ea2d2a651e4')\"\n",
              "              title=\"Convert this dataframe to an interactive table.\"\n",
              "              style=\"display:none;\">\n",
              "        \n",
              "  <svg xmlns=\"http://www.w3.org/2000/svg\" height=\"24px\"viewBox=\"0 0 24 24\"\n",
              "       width=\"24px\">\n",
              "    <path d=\"M0 0h24v24H0V0z\" fill=\"none\"/>\n",
              "    <path d=\"M18.56 5.44l.94 2.06.94-2.06 2.06-.94-2.06-.94-.94-2.06-.94 2.06-2.06.94zm-11 1L8.5 8.5l.94-2.06 2.06-.94-2.06-.94L8.5 2.5l-.94 2.06-2.06.94zm10 10l.94 2.06.94-2.06 2.06-.94-2.06-.94-.94-2.06-.94 2.06-2.06.94z\"/><path d=\"M17.41 7.96l-1.37-1.37c-.4-.4-.92-.59-1.43-.59-.52 0-1.04.2-1.43.59L10.3 9.45l-7.72 7.72c-.78.78-.78 2.05 0 2.83L4 21.41c.39.39.9.59 1.41.59.51 0 1.02-.2 1.41-.59l7.78-7.78 2.81-2.81c.8-.78.8-2.07 0-2.86zM5.41 20L4 18.59l7.72-7.72 1.47 1.35L5.41 20z\"/>\n",
              "  </svg>\n",
              "      </button>\n",
              "      \n",
              "  <style>\n",
              "    .colab-df-container {\n",
              "      display:flex;\n",
              "      flex-wrap:wrap;\n",
              "      gap: 12px;\n",
              "    }\n",
              "\n",
              "    .colab-df-convert {\n",
              "      background-color: #E8F0FE;\n",
              "      border: none;\n",
              "      border-radius: 50%;\n",
              "      cursor: pointer;\n",
              "      display: none;\n",
              "      fill: #1967D2;\n",
              "      height: 32px;\n",
              "      padding: 0 0 0 0;\n",
              "      width: 32px;\n",
              "    }\n",
              "\n",
              "    .colab-df-convert:hover {\n",
              "      background-color: #E2EBFA;\n",
              "      box-shadow: 0px 1px 2px rgba(60, 64, 67, 0.3), 0px 1px 3px 1px rgba(60, 64, 67, 0.15);\n",
              "      fill: #174EA6;\n",
              "    }\n",
              "\n",
              "    [theme=dark] .colab-df-convert {\n",
              "      background-color: #3B4455;\n",
              "      fill: #D2E3FC;\n",
              "    }\n",
              "\n",
              "    [theme=dark] .colab-df-convert:hover {\n",
              "      background-color: #434B5C;\n",
              "      box-shadow: 0px 1px 3px 1px rgba(0, 0, 0, 0.15);\n",
              "      filter: drop-shadow(0px 1px 2px rgba(0, 0, 0, 0.3));\n",
              "      fill: #FFFFFF;\n",
              "    }\n",
              "  </style>\n",
              "\n",
              "      <script>\n",
              "        const buttonEl =\n",
              "          document.querySelector('#df-5097dc04-f30e-4582-b4e7-3ea2d2a651e4 button.colab-df-convert');\n",
              "        buttonEl.style.display =\n",
              "          google.colab.kernel.accessAllowed ? 'block' : 'none';\n",
              "\n",
              "        async function convertToInteractive(key) {\n",
              "          const element = document.querySelector('#df-5097dc04-f30e-4582-b4e7-3ea2d2a651e4');\n",
              "          const dataTable =\n",
              "            await google.colab.kernel.invokeFunction('convertToInteractive',\n",
              "                                                     [key], {});\n",
              "          if (!dataTable) return;\n",
              "\n",
              "          const docLinkHtml = 'Like what you see? Visit the ' +\n",
              "            '<a target=\"_blank\" href=https://colab.research.google.com/notebooks/data_table.ipynb>data table notebook</a>'\n",
              "            + ' to learn more about interactive tables.';\n",
              "          element.innerHTML = '';\n",
              "          dataTable['output_type'] = 'display_data';\n",
              "          await google.colab.output.renderOutput(dataTable, element);\n",
              "          const docLink = document.createElement('div');\n",
              "          docLink.innerHTML = docLinkHtml;\n",
              "          element.appendChild(docLink);\n",
              "        }\n",
              "      </script>\n",
              "    </div>\n",
              "  </div>\n",
              "  "
            ]
          },
          "metadata": {},
          "execution_count": 17
        }
      ]
    },
    {
      "cell_type": "code",
      "source": [
        "max_error = error[error.r2 == error.r2.min()]\n",
        "max_error"
      ],
      "metadata": {
        "id": "ofc4XZs15WSH",
        "outputId": "feb5dc79-b79f-4be0-e375-23ae5b0e74a4",
        "colab": {
          "base_uri": "https://localhost:8080/",
          "height": 81
        }
      },
      "execution_count": 18,
      "outputs": [
        {
          "output_type": "execute_result",
          "data": {
            "text/plain": [
              "           r2       mae      rmse\n",
              "153 -11.38318  0.808134  2.035737"
            ],
            "text/html": [
              "\n",
              "  <div id=\"df-121fcfff-3e31-48b7-a0c8-0d4b9cc5e91c\">\n",
              "    <div class=\"colab-df-container\">\n",
              "      <div>\n",
              "<style scoped>\n",
              "    .dataframe tbody tr th:only-of-type {\n",
              "        vertical-align: middle;\n",
              "    }\n",
              "\n",
              "    .dataframe tbody tr th {\n",
              "        vertical-align: top;\n",
              "    }\n",
              "\n",
              "    .dataframe thead th {\n",
              "        text-align: right;\n",
              "    }\n",
              "</style>\n",
              "<table border=\"1\" class=\"dataframe\">\n",
              "  <thead>\n",
              "    <tr style=\"text-align: right;\">\n",
              "      <th></th>\n",
              "      <th>r2</th>\n",
              "      <th>mae</th>\n",
              "      <th>rmse</th>\n",
              "    </tr>\n",
              "  </thead>\n",
              "  <tbody>\n",
              "    <tr>\n",
              "      <th>153</th>\n",
              "      <td>-11.38318</td>\n",
              "      <td>0.808134</td>\n",
              "      <td>2.035737</td>\n",
              "    </tr>\n",
              "  </tbody>\n",
              "</table>\n",
              "</div>\n",
              "      <button class=\"colab-df-convert\" onclick=\"convertToInteractive('df-121fcfff-3e31-48b7-a0c8-0d4b9cc5e91c')\"\n",
              "              title=\"Convert this dataframe to an interactive table.\"\n",
              "              style=\"display:none;\">\n",
              "        \n",
              "  <svg xmlns=\"http://www.w3.org/2000/svg\" height=\"24px\"viewBox=\"0 0 24 24\"\n",
              "       width=\"24px\">\n",
              "    <path d=\"M0 0h24v24H0V0z\" fill=\"none\"/>\n",
              "    <path d=\"M18.56 5.44l.94 2.06.94-2.06 2.06-.94-2.06-.94-.94-2.06-.94 2.06-2.06.94zm-11 1L8.5 8.5l.94-2.06 2.06-.94-2.06-.94L8.5 2.5l-.94 2.06-2.06.94zm10 10l.94 2.06.94-2.06 2.06-.94-2.06-.94-.94-2.06-.94 2.06-2.06.94z\"/><path d=\"M17.41 7.96l-1.37-1.37c-.4-.4-.92-.59-1.43-.59-.52 0-1.04.2-1.43.59L10.3 9.45l-7.72 7.72c-.78.78-.78 2.05 0 2.83L4 21.41c.39.39.9.59 1.41.59.51 0 1.02-.2 1.41-.59l7.78-7.78 2.81-2.81c.8-.78.8-2.07 0-2.86zM5.41 20L4 18.59l7.72-7.72 1.47 1.35L5.41 20z\"/>\n",
              "  </svg>\n",
              "      </button>\n",
              "      \n",
              "  <style>\n",
              "    .colab-df-container {\n",
              "      display:flex;\n",
              "      flex-wrap:wrap;\n",
              "      gap: 12px;\n",
              "    }\n",
              "\n",
              "    .colab-df-convert {\n",
              "      background-color: #E8F0FE;\n",
              "      border: none;\n",
              "      border-radius: 50%;\n",
              "      cursor: pointer;\n",
              "      display: none;\n",
              "      fill: #1967D2;\n",
              "      height: 32px;\n",
              "      padding: 0 0 0 0;\n",
              "      width: 32px;\n",
              "    }\n",
              "\n",
              "    .colab-df-convert:hover {\n",
              "      background-color: #E2EBFA;\n",
              "      box-shadow: 0px 1px 2px rgba(60, 64, 67, 0.3), 0px 1px 3px 1px rgba(60, 64, 67, 0.15);\n",
              "      fill: #174EA6;\n",
              "    }\n",
              "\n",
              "    [theme=dark] .colab-df-convert {\n",
              "      background-color: #3B4455;\n",
              "      fill: #D2E3FC;\n",
              "    }\n",
              "\n",
              "    [theme=dark] .colab-df-convert:hover {\n",
              "      background-color: #434B5C;\n",
              "      box-shadow: 0px 1px 3px 1px rgba(0, 0, 0, 0.15);\n",
              "      filter: drop-shadow(0px 1px 2px rgba(0, 0, 0, 0.3));\n",
              "      fill: #FFFFFF;\n",
              "    }\n",
              "  </style>\n",
              "\n",
              "      <script>\n",
              "        const buttonEl =\n",
              "          document.querySelector('#df-121fcfff-3e31-48b7-a0c8-0d4b9cc5e91c button.colab-df-convert');\n",
              "        buttonEl.style.display =\n",
              "          google.colab.kernel.accessAllowed ? 'block' : 'none';\n",
              "\n",
              "        async function convertToInteractive(key) {\n",
              "          const element = document.querySelector('#df-121fcfff-3e31-48b7-a0c8-0d4b9cc5e91c');\n",
              "          const dataTable =\n",
              "            await google.colab.kernel.invokeFunction('convertToInteractive',\n",
              "                                                     [key], {});\n",
              "          if (!dataTable) return;\n",
              "\n",
              "          const docLinkHtml = 'Like what you see? Visit the ' +\n",
              "            '<a target=\"_blank\" href=https://colab.research.google.com/notebooks/data_table.ipynb>data table notebook</a>'\n",
              "            + ' to learn more about interactive tables.';\n",
              "          element.innerHTML = '';\n",
              "          dataTable['output_type'] = 'display_data';\n",
              "          await google.colab.output.renderOutput(dataTable, element);\n",
              "          const docLink = document.createElement('div');\n",
              "          docLink.innerHTML = docLinkHtml;\n",
              "          element.appendChild(docLink);\n",
              "        }\n",
              "      </script>\n",
              "    </div>\n",
              "  </div>\n",
              "  "
            ]
          },
          "metadata": {},
          "execution_count": 18
        }
      ]
    },
    {
      "cell_type": "code",
      "source": [
        "writer = pd.ExcelWriter('temp_30_a00001.xlsx')\n",
        "\n",
        "# Write each dataframe to a different worksheet.\n",
        "error.to_excel(writer, sheet_name='metric',index=False)\n",
        "error.describe().to_excel(writer, sheet_name='metric summary',index=False)\n",
        "min_error.to_excel(writer, sheet_name='minimum error',index=False)\n",
        "max_error.to_excel(writer, sheet_name='maximum error',index=False)\n",
        "\n",
        "# Close the Pandas Excel writer and output the Excel file.\n",
        "#writer.save()"
      ],
      "metadata": {
        "id": "bwAzkRVI5bcw"
      },
      "execution_count": 19,
      "outputs": []
    },
    {
      "cell_type": "code",
      "source": [
        "r2_matrix = skor_r2.reshape(11,14)\n",
        "rmse_matrix = rmse.reshape(11,14)\n",
        "mae_matrix = mae_.reshape(11,14)"
      ],
      "metadata": {
        "id": "MCRSONdnqlhy"
      },
      "execution_count": 20,
      "outputs": []
    },
    {
      "cell_type": "code",
      "source": [
        "import numpy as np\n",
        "import seaborn as sns\n",
        "import matplotlib.pylab as plt\n",
        "\n",
        "ax = sns.heatmap(r2_matrix, linewidth=0.5, cmap=\"RdYlBu\")\n",
        "plt.show()"
      ],
      "metadata": {
        "colab": {
          "base_uri": "https://localhost:8080/",
          "height": 265
        },
        "id": "3-1qFr0BqoND",
        "outputId": "5005ec73-0b53-4ddd-edf2-fb9c5e59b0fa"
      },
      "execution_count": 21,
      "outputs": [
        {
          "output_type": "display_data",
          "data": {
            "text/plain": [
              "<Figure size 432x288 with 2 Axes>"
            ],
            "image/png": "[encoded data removed]"
          },
          "metadata": {
            "needs_background": "light"
          }
        }
      ]
    },
    {
      "cell_type": "code",
      "source": [
        "bx = sns.heatmap(rmse_matrix, linewidth=0.5, cmap=\"RdYlBu_r\")\n",
        "plt.show()"
      ],
      "metadata": {
        "colab": {
          "base_uri": "https://localhost:8080/",
          "height": 265
        },
        "id": "yGiQnZvBquJG",
        "outputId": "1adaf482-fb8f-4e0f-b4ca-0518cf93b8f8"
      },
      "execution_count": 22,
      "outputs": [
        {
          "output_type": "display_data",
          "data": {
            "text/plain": [
              "<Figure size 432x288 with 2 Axes>"
            ],
            "image/png": "[encoded data removed]"
          },
          "metadata": {
            "needs_background": "light"
          }
        }
      ]
    },
    {
      "cell_type": "code",
      "source": [
        "bx = sns.heatmap(mae_matrix, linewidth=0.5, cmap=\"RdYlBu_r\")\n",
        "plt.show()"
      ],
      "metadata": {
        "colab": {
          "base_uri": "https://localhost:8080/",
          "height": 269
        },
        "id": "2InIA6sWqzOb",
        "outputId": "e14e1fbb-9522-4337-c120-cdc93defe5da"
      },
      "execution_count": 23,
      "outputs": [
        {
          "output_type": "display_data",
          "data": {
            "text/plain": [
              "<Figure size 432x288 with 2 Axes>"
            ],
            "image/png": "[encoded data removed]"
          },
          "metadata": {
            "needs_background": "light"
          }
        }
      ]
    },
    {
      "cell_type": "code",
      "source": [
        "! mkdir subplot"
      ],
      "metadata": {
        "id": "yGwUuU-1rE8i",
        "outputId": "6f772e18-66b1-459a-f1cc-20c064a21d60",
        "colab": {
          "base_uri": "https://localhost:8080/"
        }
      },
      "execution_count": 24,
      "outputs": [
        {
          "output_type": "stream",
          "name": "stdout",
          "text": [
            "mkdir: cannot create directory ‘subplot’: File exists\n"
          ]
        }
      ]
    },
    {
      "cell_type": "code",
      "source": [
        "'''\n",
        "def suhu(y):\n",
        "  df_y = pd.DataFrame(y)\n",
        "  df_z = pd.DataFrame(y)\n",
        "  df_z.rename(columns={0:1},inplace=True)\n",
        "  df_y = df_y.join(df_z)\n",
        "  df_y = df_y.join(df_koor)\n",
        "  df_y.rename(columns={0:'Vx',1:'suhu'},inplace=True)\n",
        "  df_y.pop('Vx')\n",
        "  return df_y\n",
        "'''"
      ],
      "metadata": {
        "id": "Qs4LuqtjrmNS",
        "outputId": "7f91dcf7-8784-4503-bdff-df955743011a",
        "colab": {
          "base_uri": "https://localhost:8080/",
          "height": 70
        }
      },
      "execution_count": 25,
      "outputs": [
        {
          "output_type": "execute_result",
          "data": {
            "text/plain": [
              "\"\\ndef suhu(y):\\n  df_y = pd.DataFrame(y)\\n  df_z = pd.DataFrame(y)\\n  df_z.rename(columns={0:1},inplace=True)\\n  df_y = df_y.join(df_z)\\n  df_y = df_y.join(df_koor)\\n  df_y.rename(columns={0:'Vx',1:'suhu'},inplace=True)\\n  df_y.pop('Vx')\\n  return df_y\\n\""
            ],
            "application/vnd.google.colaboratory.intrinsic+json": {
              "type": "string"
            }
          },
          "metadata": {},
          "execution_count": 25
        }
      ]
    },
    {
      "cell_type": "code",
      "source": [
        "def suhu(y):\n",
        "  df_y = pd.DataFrame(y)\n",
        "  df_z = pd.DataFrame(y)\n",
        "  df_z.rename(columns={0:1},inplace=True)\n",
        "  df_y = df_y.join(df_z)\n",
        "  df_y = df_y.join(df_koor)\n",
        "  df_y.rename(columns={0:'Vx',1:'suhu'},inplace=True)\n",
        "  df_y.pop('Vx')\n",
        "  return df_y"
      ],
      "metadata": {
        "id": "VeWupRqF4741"
      },
      "execution_count": 26,
      "outputs": []
    },
    {
      "cell_type": "code",
      "source": [
        "from plotly.subplots import make_subplots\n",
        "for i in range(192):\n",
        "  a = y[(...,i,0)]\n",
        "  b = y_predict[(...,i)]\n",
        "  a = np.array(a)\n",
        "  b = np.array(b)\n",
        "  a = suhu(a)\n",
        "  b = suhu(b)\n",
        "  \n",
        "  fig = make_subplots(rows=1, cols=2)\n",
        "\n",
        "  fig.add_contour(\n",
        "     z = a['suhu'].tolist(),\n",
        "     x = a['koor_x'].tolist(),\n",
        "     y = a['koor_y'].tolist(),\n",
        "     row=1, col=1\n",
        "  )\n",
        "\n",
        "  fig.add_contour(\n",
        "     z = b['suhu'].tolist(),\n",
        "     x = b['koor_x'].tolist(),\n",
        "     y = b['koor_y'].tolist(),\n",
        "     row=1, col=2\n",
        "  )\n",
        "  fig.write_image(f'/content/subplot/fig {i}.png')"
      ],
      "metadata": {
        "id": "Ydp6GkFkrUc5"
      },
      "execution_count": 27,
      "outputs": []
    },
    {
      "cell_type": "code",
      "source": [
        "!zip -r /content/subplot.zip /content/subplot"
      ],
      "metadata": {
        "colab": {
          "base_uri": "https://localhost:8080/"
        },
        "id": "5WRgqVH3srBi",
        "outputId": "90909cb3-95a0-4e7b-dbcc-aaafb29ffa91"
      },
      "execution_count": 28,
      "outputs": [
        {
          "output_type": "stream",
          "name": "stdout",
          "text": [
            "updating: content/subplot/ (stored 0%)\n",
            "updating: content/subplot/fig 135.png (deflated 5%)\n",
            "updating: content/subplot/fig 168.png (deflated 4%)\n",
            "updating: content/subplot/fig 154.png (deflated 4%)\n",
            "updating: content/subplot/fig 79.png (deflated 4%)\n",
            "updating: content/subplot/fig 71.png (deflated 4%)\n",
            "updating: content/subplot/fig 15.png (deflated 4%)\n",
            "updating: content/subplot/fig 110.png (deflated 8%)\n",
            "updating: content/subplot/fig 146.png (deflated 4%)\n",
            "updating: content/subplot/fig 118.png (deflated 5%)\n",
            "updating: content/subplot/fig 53.png (deflated 4%)\n",
            "updating: content/subplot/fig 38.png (deflated 3%)\n",
            "updating: content/subplot/fig 151.png (deflated 4%)\n",
            "updating: content/subplot/fig 123.png (deflated 5%)\n",
            "updating: content/subplot/fig 188.png (deflated 5%)\n",
            "updating: content/subplot/fig 5.png (deflated 5%)\n",
            "updating: content/subplot/fig 43.png (deflated 3%)\n",
            "updating: content/subplot/fig 88.png (deflated 4%)\n",
            "updating: content/subplot/fig 12.png (deflated 4%)\n",
            "updating: content/subplot/fig 132.png (deflated 5%)\n",
            "updating: content/subplot/fig 21.png (deflated 3%)\n",
            "updating: content/subplot/fig 101.png (deflated 8%)\n",
            "updating: content/subplot/fig 179.png (deflated 4%)\n",
            "updating: content/subplot/fig 103.png (deflated 7%)\n",
            "updating: content/subplot/fig 147.png (deflated 4%)\n",
            "updating: content/subplot/fig 125.png (deflated 8%)\n",
            "updating: content/subplot/fig 143.png (deflated 6%)\n",
            "updating: content/subplot/fig 170.png (deflated 4%)\n",
            "updating: content/subplot/fig 114.png (deflated 6%)\n",
            "updating: content/subplot/fig 45.png (deflated 4%)\n",
            "updating: content/subplot/fig 11.png (deflated 5%)\n",
            "updating: content/subplot/fig 20.png (deflated 4%)\n",
            "updating: content/subplot/fig 119.png (deflated 5%)\n",
            "updating: content/subplot/fig 155.png (deflated 4%)\n",
            "updating: content/subplot/fig 176.png (deflated 5%)\n",
            "updating: content/subplot/fig 26.png (deflated 5%)\n",
            "updating: content/subplot/fig 78.png (deflated 4%)\n",
            "updating: content/subplot/fig 25.png (deflated 4%)\n",
            "updating: content/subplot/fig 191.png (deflated 5%)\n",
            "updating: content/subplot/fig 51.png (deflated 3%)\n",
            "updating: content/subplot/fig 95.png (deflated 4%)\n",
            "updating: content/subplot/fig 34.png (deflated 4%)\n",
            "updating: content/subplot/fig 171.png (deflated 4%)\n",
            "updating: content/subplot/fig 18.png (deflated 4%)\n",
            "updating: content/subplot/fig 93.png (deflated 4%)\n",
            "updating: content/subplot/fig 75.png (deflated 4%)\n",
            "updating: content/subplot/fig 16.png (deflated 4%)\n",
            "updating: content/subplot/fig 9.png (deflated 4%)\n",
            "updating: content/subplot/fig 124.png (deflated 6%)\n",
            "updating: content/subplot/fig 19.png (deflated 4%)\n",
            "updating: content/subplot/fig 159.png (deflated 3%)\n",
            "updating: content/subplot/fig 28.png (deflated 4%)\n",
            "updating: content/subplot/fig 109.png (deflated 10%)\n",
            "updating: content/subplot/fig 161.png (deflated 4%)\n",
            "updating: content/subplot/fig 120.png (deflated 5%)\n",
            "updating: content/subplot/fig 17.png (deflated 4%)\n",
            "updating: content/subplot/fig 60.png (deflated 4%)\n",
            "updating: content/subplot/fig 61.png (deflated 5%)\n",
            "updating: content/subplot/fig 157.png (deflated 4%)\n",
            "updating: content/subplot/fig 56.png (deflated 3%)\n",
            "updating: content/subplot/fig 185.png (deflated 4%)\n",
            "updating: content/subplot/fig 150.png (deflated 4%)\n",
            "updating: content/subplot/fig 68.png (deflated 4%)\n",
            "updating: content/subplot/fig 35.png (deflated 4%)\n",
            "updating: content/subplot/fig 81.png (deflated 5%)\n",
            "updating: content/subplot/fig 172.png (deflated 5%)\n",
            "updating: content/subplot/fig 121.png (deflated 8%)\n",
            "updating: content/subplot/fig 100.png (deflated 9%)\n",
            "updating: content/subplot/fig 66.png (deflated 4%)\n",
            "updating: content/subplot/fig 141.png (deflated 5%)\n",
            "updating: content/subplot/fig 145.png (deflated 4%)\n",
            "updating: content/subplot/fig 77.png (deflated 4%)\n",
            "updating: content/subplot/fig 158.png (deflated 4%)\n",
            "updating: content/subplot/fig 96.png (deflated 5%)\n",
            "updating: content/subplot/fig 129.png (deflated 5%)\n",
            "updating: content/subplot/fig 46.png (deflated 4%)\n",
            "updating: content/subplot/fig 116.png (deflated 7%)\n",
            "updating: content/subplot/fig 112.png (deflated 5%)\n",
            "updating: content/subplot/fig 106.png (deflated 5%)\n",
            "updating: content/subplot/fig 90.png (deflated 4%)\n",
            "updating: content/subplot/fig 85.png (deflated 4%)\n",
            "updating: content/subplot/fig 174.png (deflated 5%)\n",
            "updating: content/subplot/fig 73.png (deflated 4%)\n",
            "updating: content/subplot/fig 130.png (deflated 5%)\n",
            "updating: content/subplot/fig 29.png (deflated 4%)\n",
            "updating: content/subplot/fig 138.png (deflated 8%)\n",
            "updating: content/subplot/fig 181.png (deflated 4%)\n",
            "updating: content/subplot/fig 23.png (deflated 4%)\n",
            "updating: content/subplot/fig 24.png (deflated 4%)\n",
            "updating: content/subplot/fig 156.png (deflated 5%)\n",
            "updating: content/subplot/fig 189.png (deflated 5%)\n",
            "updating: content/subplot/fig 33.png (deflated 4%)\n",
            "updating: content/subplot/fig 186.png (deflated 5%)\n",
            "updating: content/subplot/fig 55.png (deflated 3%)\n",
            "updating: content/subplot/fig 102.png (deflated 5%)\n",
            "updating: content/subplot/fig 7.png (deflated 4%)\n",
            "updating: content/subplot/fig 65.png (deflated 4%)\n",
            "updating: content/subplot/fig 37.png (deflated 3%)\n",
            "updating: content/subplot/fig 0.png (deflated 5%)\n",
            "updating: content/subplot/fig 113.png (deflated 6%)\n",
            "updating: content/subplot/fig 177.png (deflated 5%)\n",
            "updating: content/subplot/fig 48.png (deflated 4%)\n",
            "updating: content/subplot/fig 144.png (deflated 4%)\n",
            "updating: content/subplot/fig 22.png (deflated 3%)\n",
            "updating: content/subplot/fig 122.png (deflated 11%)\n",
            "updating: content/subplot/fig 160.png (deflated 4%)\n",
            "updating: content/subplot/fig 162.png (deflated 5%)\n",
            "updating: content/subplot/fig 163.png (deflated 4%)\n",
            "updating: content/subplot/fig 10.png (deflated 5%)\n",
            "updating: content/subplot/fig 148.png (deflated 5%)\n",
            "updating: content/subplot/fig 164.png (deflated 4%)\n",
            "updating: content/subplot/fig 152.png (deflated 4%)\n",
            "updating: content/subplot/fig 70.png (deflated 4%)\n",
            "updating: content/subplot/fig 131.png (deflated 8%)\n",
            "updating: content/subplot/fig 27.png (deflated 4%)\n",
            "updating: content/subplot/fig 105.png (deflated 4%)\n",
            "updating: content/subplot/fig 108.png (deflated 5%)\n",
            "updating: content/subplot/fig 107.png (deflated 5%)\n",
            "updating: content/subplot/fig 183.png (deflated 4%)\n",
            "updating: content/subplot/fig 30.png (deflated 4%)\n",
            "updating: content/subplot/fig 31.png (deflated 3%)\n",
            "updating: content/subplot/fig 76.png (deflated 4%)\n",
            "updating: content/subplot/fig 14.png (deflated 5%)\n",
            "updating: content/subplot/fig 87.png (deflated 4%)\n",
            "updating: content/subplot/fig 41.png (deflated 3%)\n",
            "updating: content/subplot/fig 54.png (deflated 3%)\n",
            "updating: content/subplot/fig 36.png (deflated 4%)\n",
            "updating: content/subplot/fig 173.png (deflated 4%)\n",
            "updating: content/subplot/fig 115.png (deflated 8%)\n",
            "updating: content/subplot/fig 128.png (deflated 9%)\n",
            "updating: content/subplot/fig 137.png (deflated 8%)\n",
            "updating: content/subplot/fig 13.png (deflated 4%)\n",
            "updating: content/subplot/fig 111.png (deflated 5%)\n",
            "updating: content/subplot/fig 50.png (deflated 4%)\n",
            "updating: content/subplot/fig 6.png (deflated 5%)\n",
            "updating: content/subplot/fig 133.png (deflated 7%)\n",
            "updating: content/subplot/fig 94.png (deflated 4%)\n",
            "updating: content/subplot/fig 149.png (deflated 4%)\n",
            "updating: content/subplot/fig 117.png (deflated 4%)\n",
            "updating: content/subplot/fig 127.png (deflated 10%)\n",
            "updating: content/subplot/fig 99.png (deflated 5%)\n",
            "updating: content/subplot/fig 2.png (deflated 5%)\n",
            "updating: content/subplot/fig 97.png (deflated 7%)\n",
            "updating: content/subplot/fig 32.png (deflated 3%)\n",
            "updating: content/subplot/fig 63.png (deflated 4%)\n",
            "updating: content/subplot/fig 80.png (deflated 4%)\n",
            "updating: content/subplot/fig 52.png (deflated 3%)\n",
            "updating: content/subplot/fig 69.png (deflated 5%)\n",
            "updating: content/subplot/fig 8.png (deflated 5%)\n",
            "updating: content/subplot/fig 134.png (deflated 7%)\n",
            "updating: content/subplot/fig 1.png (deflated 5%)\n",
            "updating: content/subplot/fig 92.png (deflated 4%)\n",
            "updating: content/subplot/fig 180.png (deflated 4%)\n",
            "updating: content/subplot/fig 187.png (deflated 5%)\n",
            "updating: content/subplot/fig 126.png (deflated 6%)\n",
            "updating: content/subplot/fig 178.png (deflated 4%)\n",
            "updating: content/subplot/fig 153.png (deflated 3%)\n",
            "updating: content/subplot/fig 175.png (deflated 4%)\n",
            "updating: content/subplot/fig 62.png (deflated 5%)\n",
            "updating: content/subplot/fig 72.png (deflated 4%)\n",
            "updating: content/subplot/fig 89.png (deflated 4%)\n",
            "updating: content/subplot/fig 42.png (deflated 4%)\n",
            "updating: content/subplot/fig 58.png (deflated 3%)\n",
            "updating: content/subplot/fig 182.png (deflated 4%)\n",
            "updating: content/subplot/fig 3.png (deflated 5%)\n",
            "updating: content/subplot/fig 165.png (deflated 5%)\n",
            "updating: content/subplot/fig 59.png (deflated 4%)\n",
            "updating: content/subplot/fig 104.png (deflated 5%)\n",
            "updating: content/subplot/fig 67.png (deflated 4%)\n",
            "updating: content/subplot/fig 57.png (deflated 4%)\n",
            "updating: content/subplot/fig 169.png (deflated 4%)\n",
            "updating: content/subplot/fig 84.png (deflated 4%)\n",
            "updating: content/subplot/fig 136.png (deflated 5%)\n",
            "updating: content/subplot/fig 167.png (deflated 5%)\n",
            "updating: content/subplot/fig 91.png (deflated 3%)\n",
            "updating: content/subplot/fig 86.png (deflated 4%)\n",
            "updating: content/subplot/fig 82.png (deflated 4%)\n",
            "updating: content/subplot/fig 140.png (deflated 8%)\n",
            "updating: content/subplot/fig 98.png (deflated 8%)\n",
            "updating: content/subplot/fig 190.png (deflated 4%)\n",
            "updating: content/subplot/fig 47.png (deflated 4%)\n",
            "updating: content/subplot/fig 44.png (deflated 4%)\n",
            "updating: content/subplot/fig 139.png (deflated 8%)\n",
            "updating: content/subplot/fig 40.png (deflated 3%)\n",
            "updating: content/subplot/fig 74.png (deflated 4%)\n",
            "updating: content/subplot/fig 49.png (deflated 4%)\n",
            "updating: content/subplot/fig 166.png (deflated 4%)\n",
            "updating: content/subplot/fig 83.png (deflated 4%)\n",
            "updating: content/subplot/fig 64.png (deflated 5%)\n",
            "updating: content/subplot/fig 39.png (deflated 4%)\n",
            "updating: content/subplot/fig 184.png (deflated 5%)\n",
            "updating: content/subplot/fig 4.png (deflated 5%)\n",
            "updating: content/subplot/fig 142.png (deflated 5%)\n"
          ]
        }
      ]
    }
  ]
}