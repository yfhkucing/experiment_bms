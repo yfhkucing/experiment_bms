{
  "nbformat": 4,
  "nbformat_minor": 0,
  "metadata": {
    "colab": {
      "provenance": [],
      "authorship_tag": "ABX9TyMxmGzyjXeCW9WbhP5TmhU9",
      "include_colab_link": true
    },
    "kernelspec": {
      "name": "python3",
      "display_name": "Python 3"
    },
    "language_info": {
      "name": "python"
    }
  },
  "cells": [
    {
      "cell_type": "markdown",
      "metadata": {
        "id": "view-in-github",
        "colab_type": "text"
      },
      "source": [
        "<a href=\"https://colab.research.google.com/github/yfhkucing/experiment_bms/blob/master/model_vxvy_30.ipynb\" target=\"_parent\"><img src=\"https://colab.research.google.com/assets/colab-badge.svg\" alt=\"Open In Colab\"/></a>"
      ]
    },
    {
      "cell_type": "code",
      "execution_count": 1,
      "metadata": {
        "id": "eeNOSiMtHfLH"
      },
      "outputs": [],
      "source": [
        "import numpy as np\n",
        "import pandas as pd"
      ]
    },
    {
      "cell_type": "code",
      "source": [
        "feature = pd.read_excel('data_model.xlsx',sheet_name='feature')\n",
        "label = pd.read_excel('data_model.xlsx', sheet_name='label_30')"
      ],
      "metadata": {
        "id": "G0QUMx-YHhVS"
      },
      "execution_count": 2,
      "outputs": []
    },
    {
      "cell_type": "code",
      "source": [
        "feature.describe()"
      ],
      "metadata": {
        "colab": {
          "base_uri": "https://localhost:8080/",
          "height": 434
        },
        "id": "aXYpwfOtHsCY",
        "outputId": "43eec3b0-d953-4607-bc32-8d5151056564"
      },
      "execution_count": 3,
      "outputs": [
        {
          "output_type": "execute_result",
          "data": {
            "text/plain": [
              "          Jendela          AC  Arah Sudut Kecepatan Angin derajat  \\\n",
              "count  192.000000  192.000000                          192.000000   \n",
              "mean     0.500000    0.500000                          180.333333   \n",
              "std      0.501307    0.501307                           97.809588   \n",
              "min      0.000000    0.000000                           47.000000   \n",
              "25%      0.000000    0.000000                           95.500000   \n",
              "50%      0.500000    0.500000                          167.000000   \n",
              "75%      1.000000    1.000000                          251.500000   \n",
              "max      1.000000    1.000000                          341.000000   \n",
              "\n",
              "       Nilai Kecepatan Angin  Dry Bulb Temperature      Fan/i1      Fan/i2  \\\n",
              "count             192.000000            192.000000  192.000000  192.000000   \n",
              "mean                1.883333             29.691667    0.750000    0.750000   \n",
              "std                 1.911479              2.035274    0.434145    0.434145   \n",
              "min                 0.100000             26.700000    0.000000    0.000000   \n",
              "25%                 0.375000             27.925000    0.750000    0.750000   \n",
              "50%                 0.950000             29.850000    1.000000    1.000000   \n",
              "75%                 3.875000             31.400000    1.000000    1.000000   \n",
              "max                 5.300000             33.100000    1.000000    1.000000   \n",
              "\n",
              "           Fan/i3      Fan/i4      Fan/i5      Fan/i6      Fan/o1      Fan/o2  \\\n",
              "count  192.000000  192.000000  192.000000  192.000000  192.000000  192.000000   \n",
              "mean     0.500000    0.500000    0.500000    0.250000    0.750000    0.750000   \n",
              "std      0.501307    0.501307    0.501307    0.434145    0.434145    0.434145   \n",
              "min      0.000000    0.000000    0.000000    0.000000    0.000000    0.000000   \n",
              "25%      0.000000    0.000000    0.000000    0.000000    0.750000    0.750000   \n",
              "50%      0.500000    0.500000    0.500000    0.000000    1.000000    1.000000   \n",
              "75%      1.000000    1.000000    1.000000    0.250000    1.000000    1.000000   \n",
              "max      1.000000    1.000000    1.000000    1.000000    1.000000    1.000000   \n",
              "\n",
              "           Fan/o3      Fan/o4      Fan/o5      Fan/o6  \n",
              "count  192.000000  192.000000  192.000000  192.000000  \n",
              "mean     0.500000    0.500000    0.500000    0.250000  \n",
              "std      0.501307    0.501307    0.501307    0.434145  \n",
              "min      0.000000    0.000000    0.000000    0.000000  \n",
              "25%      0.000000    0.000000    0.000000    0.000000  \n",
              "50%      0.500000    0.500000    0.500000    0.000000  \n",
              "75%      1.000000    1.000000    1.000000    0.250000  \n",
              "max      1.000000    1.000000    1.000000    1.000000  "
            ],
            "text/html": [
              "\n",
              "  <div id=\"df-44747e1e-80d2-44f7-88a5-05819c457561\">\n",
              "    <div class=\"colab-df-container\">\n",
              "      <div>\n",
              "<style scoped>\n",
              "    .dataframe tbody tr th:only-of-type {\n",
              "        vertical-align: middle;\n",
              "    }\n",
              "\n",
              "    .dataframe tbody tr th {\n",
              "        vertical-align: top;\n",
              "    }\n",
              "\n",
              "    .dataframe thead th {\n",
              "        text-align: right;\n",
              "    }\n",
              "</style>\n",
              "<table border=\"1\" class=\"dataframe\">\n",
              "  <thead>\n",
              "    <tr style=\"text-align: right;\">\n",
              "      <th></th>\n",
              "      <th>Jendela</th>\n",
              "      <th>AC</th>\n",
              "      <th>Arah Sudut Kecepatan Angin derajat</th>\n",
              "      <th>Nilai Kecepatan Angin</th>\n",
              "      <th>Dry Bulb Temperature</th>\n",
              "      <th>Fan/i1</th>\n",
              "      <th>Fan/i2</th>\n",
              "      <th>Fan/i3</th>\n",
              "      <th>Fan/i4</th>\n",
              "      <th>Fan/i5</th>\n",
              "      <th>Fan/i6</th>\n",
              "      <th>Fan/o1</th>\n",
              "      <th>Fan/o2</th>\n",
              "      <th>Fan/o3</th>\n",
              "      <th>Fan/o4</th>\n",
              "      <th>Fan/o5</th>\n",
              "      <th>Fan/o6</th>\n",
              "    </tr>\n",
              "  </thead>\n",
              "  <tbody>\n",
              "    <tr>\n",
              "      <th>count</th>\n",
              "      <td>192.000000</td>\n",
              "      <td>192.000000</td>\n",
              "      <td>192.000000</td>\n",
              "      <td>192.000000</td>\n",
              "      <td>192.000000</td>\n",
              "      <td>192.000000</td>\n",
              "      <td>192.000000</td>\n",
              "      <td>192.000000</td>\n",
              "      <td>192.000000</td>\n",
              "      <td>192.000000</td>\n",
              "      <td>192.000000</td>\n",
              "      <td>192.000000</td>\n",
              "      <td>192.000000</td>\n",
              "      <td>192.000000</td>\n",
              "      <td>192.000000</td>\n",
              "      <td>192.000000</td>\n",
              "      <td>192.000000</td>\n",
              "    </tr>\n",
              "    <tr>\n",
              "      <th>mean</th>\n",
              "      <td>0.500000</td>\n",
              "      <td>0.500000</td>\n",
              "      <td>180.333333</td>\n",
              "      <td>1.883333</td>\n",
              "      <td>29.691667</td>\n",
              "      <td>0.750000</td>\n",
              "      <td>0.750000</td>\n",
              "      <td>0.500000</td>\n",
              "      <td>0.500000</td>\n",
              "      <td>0.500000</td>\n",
              "      <td>0.250000</td>\n",
              "      <td>0.750000</td>\n",
              "      <td>0.750000</td>\n",
              "      <td>0.500000</td>\n",
              "      <td>0.500000</td>\n",
              "      <td>0.500000</td>\n",
              "      <td>0.250000</td>\n",
              "    </tr>\n",
              "    <tr>\n",
              "      <th>std</th>\n",
              "      <td>0.501307</td>\n",
              "      <td>0.501307</td>\n",
              "      <td>97.809588</td>\n",
              "      <td>1.911479</td>\n",
              "      <td>2.035274</td>\n",
              "      <td>0.434145</td>\n",
              "      <td>0.434145</td>\n",
              "      <td>0.501307</td>\n",
              "      <td>0.501307</td>\n",
              "      <td>0.501307</td>\n",
              "      <td>0.434145</td>\n",
              "      <td>0.434145</td>\n",
              "      <td>0.434145</td>\n",
              "      <td>0.501307</td>\n",
              "      <td>0.501307</td>\n",
              "      <td>0.501307</td>\n",
              "      <td>0.434145</td>\n",
              "    </tr>\n",
              "    <tr>\n",
              "      <th>min</th>\n",
              "      <td>0.000000</td>\n",
              "      <td>0.000000</td>\n",
              "      <td>47.000000</td>\n",
              "      <td>0.100000</td>\n",
              "      <td>26.700000</td>\n",
              "      <td>0.000000</td>\n",
              "      <td>0.000000</td>\n",
              "      <td>0.000000</td>\n",
              "      <td>0.000000</td>\n",
              "      <td>0.000000</td>\n",
              "      <td>0.000000</td>\n",
              "      <td>0.000000</td>\n",
              "      <td>0.000000</td>\n",
              "      <td>0.000000</td>\n",
              "      <td>0.000000</td>\n",
              "      <td>0.000000</td>\n",
              "      <td>0.000000</td>\n",
              "    </tr>\n",
              "    <tr>\n",
              "      <th>25%</th>\n",
              "      <td>0.000000</td>\n",
              "      <td>0.000000</td>\n",
              "      <td>95.500000</td>\n",
              "      <td>0.375000</td>\n",
              "      <td>27.925000</td>\n",
              "      <td>0.750000</td>\n",
              "      <td>0.750000</td>\n",
              "      <td>0.000000</td>\n",
              "      <td>0.000000</td>\n",
              "      <td>0.000000</td>\n",
              "      <td>0.000000</td>\n",
              "      <td>0.750000</td>\n",
              "      <td>0.750000</td>\n",
              "      <td>0.000000</td>\n",
              "      <td>0.000000</td>\n",
              "      <td>0.000000</td>\n",
              "      <td>0.000000</td>\n",
              "    </tr>\n",
              "    <tr>\n",
              "      <th>50%</th>\n",
              "      <td>0.500000</td>\n",
              "      <td>0.500000</td>\n",
              "      <td>167.000000</td>\n",
              "      <td>0.950000</td>\n",
              "      <td>29.850000</td>\n",
              "      <td>1.000000</td>\n",
              "      <td>1.000000</td>\n",
              "      <td>0.500000</td>\n",
              "      <td>0.500000</td>\n",
              "      <td>0.500000</td>\n",
              "      <td>0.000000</td>\n",
              "      <td>1.000000</td>\n",
              "      <td>1.000000</td>\n",
              "      <td>0.500000</td>\n",
              "      <td>0.500000</td>\n",
              "      <td>0.500000</td>\n",
              "      <td>0.000000</td>\n",
              "    </tr>\n",
              "    <tr>\n",
              "      <th>75%</th>\n",
              "      <td>1.000000</td>\n",
              "      <td>1.000000</td>\n",
              "      <td>251.500000</td>\n",
              "      <td>3.875000</td>\n",
              "      <td>31.400000</td>\n",
              "      <td>1.000000</td>\n",
              "      <td>1.000000</td>\n",
              "      <td>1.000000</td>\n",
              "      <td>1.000000</td>\n",
              "      <td>1.000000</td>\n",
              "      <td>0.250000</td>\n",
              "      <td>1.000000</td>\n",
              "      <td>1.000000</td>\n",
              "      <td>1.000000</td>\n",
              "      <td>1.000000</td>\n",
              "      <td>1.000000</td>\n",
              "      <td>0.250000</td>\n",
              "    </tr>\n",
              "    <tr>\n",
              "      <th>max</th>\n",
              "      <td>1.000000</td>\n",
              "      <td>1.000000</td>\n",
              "      <td>341.000000</td>\n",
              "      <td>5.300000</td>\n",
              "      <td>33.100000</td>\n",
              "      <td>1.000000</td>\n",
              "      <td>1.000000</td>\n",
              "      <td>1.000000</td>\n",
              "      <td>1.000000</td>\n",
              "      <td>1.000000</td>\n",
              "      <td>1.000000</td>\n",
              "      <td>1.000000</td>\n",
              "      <td>1.000000</td>\n",
              "      <td>1.000000</td>\n",
              "      <td>1.000000</td>\n",
              "      <td>1.000000</td>\n",
              "      <td>1.000000</td>\n",
              "    </tr>\n",
              "  </tbody>\n",
              "</table>\n",
              "</div>\n",
              "      <button class=\"colab-df-convert\" onclick=\"convertToInteractive('df-44747e1e-80d2-44f7-88a5-05819c457561')\"\n",
              "              title=\"Convert this dataframe to an interactive table.\"\n",
              "              style=\"display:none;\">\n",
              "        \n",
              "  <svg xmlns=\"http://www.w3.org/2000/svg\" height=\"24px\"viewBox=\"0 0 24 24\"\n",
              "       width=\"24px\">\n",
              "    <path d=\"M0 0h24v24H0V0z\" fill=\"none\"/>\n",
              "    <path d=\"M18.56 5.44l.94 2.06.94-2.06 2.06-.94-2.06-.94-.94-2.06-.94 2.06-2.06.94zm-11 1L8.5 8.5l.94-2.06 2.06-.94-2.06-.94L8.5 2.5l-.94 2.06-2.06.94zm10 10l.94 2.06.94-2.06 2.06-.94-2.06-.94-.94-2.06-.94 2.06-2.06.94z\"/><path d=\"M17.41 7.96l-1.37-1.37c-.4-.4-.92-.59-1.43-.59-.52 0-1.04.2-1.43.59L10.3 9.45l-7.72 7.72c-.78.78-.78 2.05 0 2.83L4 21.41c.39.39.9.59 1.41.59.51 0 1.02-.2 1.41-.59l7.78-7.78 2.81-2.81c.8-.78.8-2.07 0-2.86zM5.41 20L4 18.59l7.72-7.72 1.47 1.35L5.41 20z\"/>\n",
              "  </svg>\n",
              "      </button>\n",
              "      \n",
              "  <style>\n",
              "    .colab-df-container {\n",
              "      display:flex;\n",
              "      flex-wrap:wrap;\n",
              "      gap: 12px;\n",
              "    }\n",
              "\n",
              "    .colab-df-convert {\n",
              "      background-color: #E8F0FE;\n",
              "      border: none;\n",
              "      border-radius: 50%;\n",
              "      cursor: pointer;\n",
              "      display: none;\n",
              "      fill: #1967D2;\n",
              "      height: 32px;\n",
              "      padding: 0 0 0 0;\n",
              "      width: 32px;\n",
              "    }\n",
              "\n",
              "    .colab-df-convert:hover {\n",
              "      background-color: #E2EBFA;\n",
              "      box-shadow: 0px 1px 2px rgba(60, 64, 67, 0.3), 0px 1px 3px 1px rgba(60, 64, 67, 0.15);\n",
              "      fill: #174EA6;\n",
              "    }\n",
              "\n",
              "    [theme=dark] .colab-df-convert {\n",
              "      background-color: #3B4455;\n",
              "      fill: #D2E3FC;\n",
              "    }\n",
              "\n",
              "    [theme=dark] .colab-df-convert:hover {\n",
              "      background-color: #434B5C;\n",
              "      box-shadow: 0px 1px 3px 1px rgba(0, 0, 0, 0.15);\n",
              "      filter: drop-shadow(0px 1px 2px rgba(0, 0, 0, 0.3));\n",
              "      fill: #FFFFFF;\n",
              "    }\n",
              "  </style>\n",
              "\n",
              "      <script>\n",
              "        const buttonEl =\n",
              "          document.querySelector('#df-44747e1e-80d2-44f7-88a5-05819c457561 button.colab-df-convert');\n",
              "        buttonEl.style.display =\n",
              "          google.colab.kernel.accessAllowed ? 'block' : 'none';\n",
              "\n",
              "        async function convertToInteractive(key) {\n",
              "          const element = document.querySelector('#df-44747e1e-80d2-44f7-88a5-05819c457561');\n",
              "          const dataTable =\n",
              "            await google.colab.kernel.invokeFunction('convertToInteractive',\n",
              "                                                     [key], {});\n",
              "          if (!dataTable) return;\n",
              "\n",
              "          const docLinkHtml = 'Like what you see? Visit the ' +\n",
              "            '<a target=\"_blank\" href=https://colab.research.google.com/notebooks/data_table.ipynb>data table notebook</a>'\n",
              "            + ' to learn more about interactive tables.';\n",
              "          element.innerHTML = '';\n",
              "          dataTable['output_type'] = 'display_data';\n",
              "          await google.colab.output.renderOutput(dataTable, element);\n",
              "          const docLink = document.createElement('div');\n",
              "          docLink.innerHTML = docLinkHtml;\n",
              "          element.appendChild(docLink);\n",
              "        }\n",
              "      </script>\n",
              "    </div>\n",
              "  </div>\n",
              "  "
            ]
          },
          "metadata": {},
          "execution_count": 3
        }
      ]
    },
    {
      "cell_type": "code",
      "source": [
        "label.describe()"
      ],
      "metadata": {
        "colab": {
          "base_uri": "https://localhost:8080/",
          "height": 300
        },
        "id": "AhhcDBnvH5IW",
        "outputId": "3b77b3a5-9157-4799-a2ff-e6045ac4f69b"
      },
      "execution_count": 4,
      "outputs": [
        {
          "output_type": "execute_result",
          "data": {
            "text/plain": [
              "            koor_x       koor_y           Vx           Vy         Temp\n",
              "count  5760.000000  5760.000000  5760.000000  5760.000000  5760.000000\n",
              "mean     54.883160   101.048611     0.012273    -0.004701    25.359077\n",
              "std      40.591469    55.065126     0.052255     0.070281     3.200991\n",
              "min       1.000000     6.000000    -0.339456    -0.442086    19.901247\n",
              "25%      20.000000    64.000000     0.000000    -0.013963    23.058064\n",
              "50%      55.000000   100.000000     0.004428     0.000000    25.183301\n",
              "75%      94.000000   149.000000     0.030821     0.016093    27.636549\n",
              "max     131.000000   202.000000     0.219833     0.480368    33.937473"
            ],
            "text/html": [
              "\n",
              "  <div id=\"df-0317fa9f-4872-4c42-a9e1-d211e376cf0d\">\n",
              "    <div class=\"colab-df-container\">\n",
              "      <div>\n",
              "<style scoped>\n",
              "    .dataframe tbody tr th:only-of-type {\n",
              "        vertical-align: middle;\n",
              "    }\n",
              "\n",
              "    .dataframe tbody tr th {\n",
              "        vertical-align: top;\n",
              "    }\n",
              "\n",
              "    .dataframe thead th {\n",
              "        text-align: right;\n",
              "    }\n",
              "</style>\n",
              "<table border=\"1\" class=\"dataframe\">\n",
              "  <thead>\n",
              "    <tr style=\"text-align: right;\">\n",
              "      <th></th>\n",
              "      <th>koor_x</th>\n",
              "      <th>koor_y</th>\n",
              "      <th>Vx</th>\n",
              "      <th>Vy</th>\n",
              "      <th>Temp</th>\n",
              "    </tr>\n",
              "  </thead>\n",
              "  <tbody>\n",
              "    <tr>\n",
              "      <th>count</th>\n",
              "      <td>5760.000000</td>\n",
              "      <td>5760.000000</td>\n",
              "      <td>5760.000000</td>\n",
              "      <td>5760.000000</td>\n",
              "      <td>5760.000000</td>\n",
              "    </tr>\n",
              "    <tr>\n",
              "      <th>mean</th>\n",
              "      <td>54.883160</td>\n",
              "      <td>101.048611</td>\n",
              "      <td>0.012273</td>\n",
              "      <td>-0.004701</td>\n",
              "      <td>25.359077</td>\n",
              "    </tr>\n",
              "    <tr>\n",
              "      <th>std</th>\n",
              "      <td>40.591469</td>\n",
              "      <td>55.065126</td>\n",
              "      <td>0.052255</td>\n",
              "      <td>0.070281</td>\n",
              "      <td>3.200991</td>\n",
              "    </tr>\n",
              "    <tr>\n",
              "      <th>min</th>\n",
              "      <td>1.000000</td>\n",
              "      <td>6.000000</td>\n",
              "      <td>-0.339456</td>\n",
              "      <td>-0.442086</td>\n",
              "      <td>19.901247</td>\n",
              "    </tr>\n",
              "    <tr>\n",
              "      <th>25%</th>\n",
              "      <td>20.000000</td>\n",
              "      <td>64.000000</td>\n",
              "      <td>0.000000</td>\n",
              "      <td>-0.013963</td>\n",
              "      <td>23.058064</td>\n",
              "    </tr>\n",
              "    <tr>\n",
              "      <th>50%</th>\n",
              "      <td>55.000000</td>\n",
              "      <td>100.000000</td>\n",
              "      <td>0.004428</td>\n",
              "      <td>0.000000</td>\n",
              "      <td>25.183301</td>\n",
              "    </tr>\n",
              "    <tr>\n",
              "      <th>75%</th>\n",
              "      <td>94.000000</td>\n",
              "      <td>149.000000</td>\n",
              "      <td>0.030821</td>\n",
              "      <td>0.016093</td>\n",
              "      <td>27.636549</td>\n",
              "    </tr>\n",
              "    <tr>\n",
              "      <th>max</th>\n",
              "      <td>131.000000</td>\n",
              "      <td>202.000000</td>\n",
              "      <td>0.219833</td>\n",
              "      <td>0.480368</td>\n",
              "      <td>33.937473</td>\n",
              "    </tr>\n",
              "  </tbody>\n",
              "</table>\n",
              "</div>\n",
              "      <button class=\"colab-df-convert\" onclick=\"convertToInteractive('df-0317fa9f-4872-4c42-a9e1-d211e376cf0d')\"\n",
              "              title=\"Convert this dataframe to an interactive table.\"\n",
              "              style=\"display:none;\">\n",
              "        \n",
              "  <svg xmlns=\"http://www.w3.org/2000/svg\" height=\"24px\"viewBox=\"0 0 24 24\"\n",
              "       width=\"24px\">\n",
              "    <path d=\"M0 0h24v24H0V0z\" fill=\"none\"/>\n",
              "    <path d=\"M18.56 5.44l.94 2.06.94-2.06 2.06-.94-2.06-.94-.94-2.06-.94 2.06-2.06.94zm-11 1L8.5 8.5l.94-2.06 2.06-.94-2.06-.94L8.5 2.5l-.94 2.06-2.06.94zm10 10l.94 2.06.94-2.06 2.06-.94-2.06-.94-.94-2.06-.94 2.06-2.06.94z\"/><path d=\"M17.41 7.96l-1.37-1.37c-.4-.4-.92-.59-1.43-.59-.52 0-1.04.2-1.43.59L10.3 9.45l-7.72 7.72c-.78.78-.78 2.05 0 2.83L4 21.41c.39.39.9.59 1.41.59.51 0 1.02-.2 1.41-.59l7.78-7.78 2.81-2.81c.8-.78.8-2.07 0-2.86zM5.41 20L4 18.59l7.72-7.72 1.47 1.35L5.41 20z\"/>\n",
              "  </svg>\n",
              "      </button>\n",
              "      \n",
              "  <style>\n",
              "    .colab-df-container {\n",
              "      display:flex;\n",
              "      flex-wrap:wrap;\n",
              "      gap: 12px;\n",
              "    }\n",
              "\n",
              "    .colab-df-convert {\n",
              "      background-color: #E8F0FE;\n",
              "      border: none;\n",
              "      border-radius: 50%;\n",
              "      cursor: pointer;\n",
              "      display: none;\n",
              "      fill: #1967D2;\n",
              "      height: 32px;\n",
              "      padding: 0 0 0 0;\n",
              "      width: 32px;\n",
              "    }\n",
              "\n",
              "    .colab-df-convert:hover {\n",
              "      background-color: #E2EBFA;\n",
              "      box-shadow: 0px 1px 2px rgba(60, 64, 67, 0.3), 0px 1px 3px 1px rgba(60, 64, 67, 0.15);\n",
              "      fill: #174EA6;\n",
              "    }\n",
              "\n",
              "    [theme=dark] .colab-df-convert {\n",
              "      background-color: #3B4455;\n",
              "      fill: #D2E3FC;\n",
              "    }\n",
              "\n",
              "    [theme=dark] .colab-df-convert:hover {\n",
              "      background-color: #434B5C;\n",
              "      box-shadow: 0px 1px 3px 1px rgba(0, 0, 0, 0.15);\n",
              "      filter: drop-shadow(0px 1px 2px rgba(0, 0, 0, 0.3));\n",
              "      fill: #FFFFFF;\n",
              "    }\n",
              "  </style>\n",
              "\n",
              "      <script>\n",
              "        const buttonEl =\n",
              "          document.querySelector('#df-0317fa9f-4872-4c42-a9e1-d211e376cf0d button.colab-df-convert');\n",
              "        buttonEl.style.display =\n",
              "          google.colab.kernel.accessAllowed ? 'block' : 'none';\n",
              "\n",
              "        async function convertToInteractive(key) {\n",
              "          const element = document.querySelector('#df-0317fa9f-4872-4c42-a9e1-d211e376cf0d');\n",
              "          const dataTable =\n",
              "            await google.colab.kernel.invokeFunction('convertToInteractive',\n",
              "                                                     [key], {});\n",
              "          if (!dataTable) return;\n",
              "\n",
              "          const docLinkHtml = 'Like what you see? Visit the ' +\n",
              "            '<a target=\"_blank\" href=https://colab.research.google.com/notebooks/data_table.ipynb>data table notebook</a>'\n",
              "            + ' to learn more about interactive tables.';\n",
              "          element.innerHTML = '';\n",
              "          dataTable['output_type'] = 'display_data';\n",
              "          await google.colab.output.renderOutput(dataTable, element);\n",
              "          const docLink = document.createElement('div');\n",
              "          docLink.innerHTML = docLinkHtml;\n",
              "          element.appendChild(docLink);\n",
              "        }\n",
              "      </script>\n",
              "    </div>\n",
              "  </div>\n",
              "  "
            ]
          },
          "metadata": {},
          "execution_count": 4
        }
      ]
    },
    {
      "cell_type": "code",
      "source": [
        "def norm(df):\n",
        "  df=(df-df.min())/(df.max()-df.min())\n",
        "  return df\n",
        "\n",
        "def remap(df,new_max,new_min):\n",
        "  df = (df-df.min())/(df.max()-df.min())*(new_max - new_min) + new_min\n",
        "  return df\n",
        "\n",
        "from sklearn.preprocessing import StandardScaler\n",
        "def standard(df):\n",
        "  scaler = StandardScaler()\n",
        "  df = scaler.fit_transform(df)\n",
        "  return df"
      ],
      "metadata": {
        "id": "dZl0K3u0H8hk"
      },
      "execution_count": 5,
      "outputs": []
    },
    {
      "cell_type": "code",
      "source": [
        "feature = norm(feature)"
      ],
      "metadata": {
        "id": "W6rjs5I5IGYZ"
      },
      "execution_count": 6,
      "outputs": []
    },
    {
      "cell_type": "code",
      "source": [
        "array_y = []\n",
        "\n",
        "for i in range(30):\n",
        "  frame= label[i::30]\n",
        "  frame = frame.drop(['koor_x','koor_y','Temp'],axis=1)\n",
        "  frame = norm(frame)\n",
        "  array_y.append(frame)"
      ],
      "metadata": {
        "id": "PRVeZqtHIOsI"
      },
      "execution_count": 7,
      "outputs": []
    },
    {
      "cell_type": "code",
      "source": [
        "! mkdir models\n",
        "\n",
        "y_testing = []\n",
        "\n",
        "import joblib\n",
        "from sklearn.linear_model import LinearRegression\n",
        "\n",
        "#model\n",
        "from sklearn.svm import SVR\n",
        "from sklearn.linear_model import Lasso\n",
        "from sklearn.ensemble import RandomForestRegressor\n",
        "\n",
        "#preprocessing and metric\n",
        "from sklearn.model_selection import train_test_split\n",
        "from sklearn.metrics import r2_score as r2\n",
        "from sklearn.metrics import mean_squared_error as mse\n",
        "from sklearn.metrics import mean_absolute_error as mae\n",
        "\n",
        "for i in range(30):\n",
        "  x = np.array(feature)\n",
        "  y = np.array(array_y[i])\n",
        "  x_train,x_test,y_train,y_test = train_test_split(x,y, test_size=0.25, random_state= 10)\n",
        "  y_testing.append(y_test)\n",
        "  #fitting\n",
        "  regressor = Lasso(alpha=0.6)\n",
        "  regressor.fit(x_train,y_train)\n",
        "  joblib.dump(regressor,f'/content/models/model {i}')"
      ],
      "metadata": {
        "colab": {
          "base_uri": "https://localhost:8080/"
        },
        "id": "Tr7AejRlJbDe",
        "outputId": "207de3fb-5a4b-4f6f-d2ef-fad1a83031c4"
      },
      "execution_count": 8,
      "outputs": [
        {
          "output_type": "stream",
          "name": "stdout",
          "text": [
            "mkdir: cannot create directory ‘models’: File exists\n"
          ]
        }
      ]
    },
    {
      "cell_type": "code",
      "source": [
        "skor_r2=[]\n",
        "mae_=[]\n",
        "rmse = []\n",
        "y_predict = []\n",
        "for i in range(30):\n",
        "  model = joblib.load(f'/content/models/model {i}')\n",
        "  y_pred = model.predict(x_test)\n",
        "  Skor_r2 = r2(y_test,y_pred)\n",
        "  RMSE = mse(y_test,y_pred,squared=False)\n",
        "  MAE = mae(y_test,y_pred)\n",
        "  y_predict.append(y_pred)\n",
        "  skor_r2.append(Skor_r2)\n",
        "  mae_.append(MAE)\n",
        "  rmse.append(RMSE)"
      ],
      "metadata": {
        "id": "2CjDsuDtJwYx"
      },
      "execution_count": 9,
      "outputs": []
    },
    {
      "cell_type": "code",
      "source": [
        "skor_r2 = np.array(skor_r2)\n",
        "rmse = np.array(rmse)\n",
        "mae_=np.array(mae_)\n",
        "y_predict = np.array(y_predict)\n",
        "y_testing = np.array(y_testing)"
      ],
      "metadata": {
        "id": "cLIfl39UJ1J-"
      },
      "execution_count": 10,
      "outputs": []
    },
    {
      "cell_type": "code",
      "source": [
        "skor_r2.shape, rmse.shape, y_predict.shape, y_testing.shape"
      ],
      "metadata": {
        "colab": {
          "base_uri": "https://localhost:8080/"
        },
        "id": "nkbShFzIJ4Bc",
        "outputId": "f4b65e14-e612-41bd-d6cf-ec58c44a7b5b"
      },
      "execution_count": 11,
      "outputs": [
        {
          "output_type": "execute_result",
          "data": {
            "text/plain": [
              "((30,), (30,), (30, 48, 2), (30, 48, 2))"
            ]
          },
          "metadata": {},
          "execution_count": 11
        }
      ]
    },
    {
      "cell_type": "code",
      "source": [
        "r2_matrix = skor_r2.reshape(5,6)\n",
        "rmse_matrix = rmse.reshape(5,6)\n",
        "mae_matrix = mae_.reshape(5,6)"
      ],
      "metadata": {
        "id": "vA2i9FMeJ7NM"
      },
      "execution_count": 12,
      "outputs": []
    },
    {
      "cell_type": "code",
      "source": [
        "import numpy as np\n",
        "import seaborn as sns\n",
        "import matplotlib.pylab as plt\n",
        "\n",
        "ax = sns.heatmap(r2_matrix, linewidth=0.5, cmap=\"RdYlBu\")\n",
        "plt.show()"
      ],
      "metadata": {
        "colab": {
          "base_uri": "https://localhost:8080/",
          "height": 265
        },
        "id": "mwQmOMOrJ9qA",
        "outputId": "186b769d-3821-44b0-9698-a40eb27da651"
      },
      "execution_count": 13,
      "outputs": [
        {
          "output_type": "display_data",
          "data": {
            "text/plain": [
              "<Figure size 432x288 with 2 Axes>"
            ],
            "image/png": "[encoded data removed]"
          },
          "metadata": {
            "needs_background": "light"
          }
        }
      ]
    },
    {
      "cell_type": "code",
      "source": [
        "bx = sns.heatmap(rmse_matrix, linewidth=0.5, cmap=\"RdYlBu_r\")\n",
        "plt.show()"
      ],
      "metadata": {
        "colab": {
          "base_uri": "https://localhost:8080/",
          "height": 267
        },
        "id": "dmit5v__KAiJ",
        "outputId": "5ebdb0b1-9db6-4138-c2c5-02857fd69943"
      },
      "execution_count": 14,
      "outputs": [
        {
          "output_type": "display_data",
          "data": {
            "text/plain": [
              "<Figure size 432x288 with 2 Axes>"
            ],
            "image/png": "[encoded data removed]"
          },
          "metadata": {
            "needs_background": "light"
          }
        }
      ]
    },
    {
      "cell_type": "code",
      "source": [
        "bx = sns.heatmap(mae_matrix, linewidth=0.5, cmap=\"RdYlBu_r\")\n",
        "plt.show()"
      ],
      "metadata": {
        "colab": {
          "base_uri": "https://localhost:8080/",
          "height": 265
        },
        "id": "qMbuajF7KGuu",
        "outputId": "e2f361c0-0d6e-4ee0-eca6-5665420288a1"
      },
      "execution_count": 15,
      "outputs": [
        {
          "output_type": "display_data",
          "data": {
            "text/plain": [
              "<Figure size 432x288 with 2 Axes>"
            ],
            "image/png": "[encoded data removed]"
          },
          "metadata": {
            "needs_background": "light"
          }
        }
      ]
    },
    {
      "cell_type": "code",
      "source": [
        "scenarios = 5   #0-28\n",
        "indexing = 1    # vx,vy"
      ],
      "metadata": {
        "id": "pF3Is4dPKJRU"
      },
      "execution_count": 16,
      "outputs": []
    },
    {
      "cell_type": "code",
      "source": [
        "a = y_testing[(...,scenarios,indexing)]\n",
        "b = y_predict[(...,scenarios,indexing)]"
      ],
      "metadata": {
        "id": "D2ypC3SuKMgu"
      },
      "execution_count": 17,
      "outputs": []
    },
    {
      "cell_type": "code",
      "source": [
        "a"
      ],
      "metadata": {
        "colab": {
          "base_uri": "https://localhost:8080/"
        },
        "id": "KyY9GoM0KSKk",
        "outputId": "c488dc4a-6fc4-486b-fa35-cf4e698eb57f"
      },
      "execution_count": 18,
      "outputs": [
        {
          "output_type": "execute_result",
          "data": {
            "text/plain": [
              "array([0.48716176, 0.36674391, 0.41144634, 0.3365736 , 0.68812754,\n",
              "       0.70720743, 0.49887857, 0.78184687, 0.77992268, 0.55035412,\n",
              "       0.34795648, 0.        , 0.1889422 , 0.9197449 , 0.76062956,\n",
              "       0.61764042, 0.47622337, 0.60695294, 0.0852211 , 0.17822064,\n",
              "       0.26696201, 0.31520881, 0.14420931, 0.        , 0.        ,\n",
              "       0.43533022, 0.31783964, 0.56227358, 0.68333786, 0.35028424])"
            ]
          },
          "metadata": {},
          "execution_count": 18
        }
      ]
    },
    {
      "cell_type": "code",
      "source": [
        "b"
      ],
      "metadata": {
        "colab": {
          "base_uri": "https://localhost:8080/"
        },
        "id": "GtGL9fhvKU-J",
        "outputId": "3150d3b6-224b-4e5e-dd1e-4d18617604b2"
      },
      "execution_count": 19,
      "outputs": [
        {
          "output_type": "execute_result",
          "data": {
            "text/plain": [
              "array([0.42244465, 0.36675278, 0.43533635, 0.31980717, 0.58244048,\n",
              "       0.56404281, 0.48380092, 0.50741017, 0.6256182 , 0.5173643 ,\n",
              "       0.3977777 , 0.01866962, 0.29626631, 0.77681122, 0.57052049,\n",
              "       0.41890912, 0.44222427, 0.62945349, 0.34000139, 0.2982654 ,\n",
              "       0.35972527, 0.47826937, 0.34094488, 0.00706534, 0.01924847,\n",
              "       0.53179297, 0.41738717, 0.55342008, 0.60350181, 0.52212778])"
            ]
          },
          "metadata": {},
          "execution_count": 19
        }
      ]
    },
    {
      "cell_type": "code",
      "source": [
        "r2(a,b), mse(a,b), mae(a,b)"
      ],
      "metadata": {
        "colab": {
          "base_uri": "https://localhost:8080/"
        },
        "id": "HJeF2MnGKerv",
        "outputId": "485c099c-772c-4d83-e1eb-4506618c69f6"
      },
      "execution_count": 20,
      "outputs": [
        {
          "output_type": "execute_result",
          "data": {
            "text/plain": [
              "(0.7546457571590256, 0.015268801429354016, 0.09684576791989023)"
            ]
          },
          "metadata": {},
          "execution_count": 20
        }
      ]
    },
    {
      "cell_type": "code",
      "source": [
        "import plotly.graph_objects as go\n",
        "from plotly.figure_factory import create_quiver"
      ],
      "metadata": {
        "id": "aoKLJoViL8ya"
      },
      "execution_count": 21,
      "outputs": []
    },
    {
      "cell_type": "code",
      "source": [
        "df_koor = pd.read_excel('data_model.xlsx',sheet_name='koordinat_30')"
      ],
      "metadata": {
        "id": "v76L1e4YMKC9"
      },
      "execution_count": 22,
      "outputs": []
    },
    {
      "cell_type": "code",
      "source": [
        "def kec_angin(y,scenarios):\n",
        "  df_x = pd.DataFrame(y[...,scenarios,0])\n",
        "  df_y = pd.DataFrame(y[...,scenarios,1])\n",
        "  df_y.rename(columns={0:1},inplace=True)\n",
        "  df_x = df_x.join(df_y)\n",
        "  df_x = df_x.join(df_koor)\n",
        "  df_x.rename(columns={0:'Vx',1:'Vy',},inplace=True)\n",
        "  return df_x"
      ],
      "metadata": {
        "id": "C7HsaMsiMDxX"
      },
      "execution_count": 23,
      "outputs": []
    },
    {
      "cell_type": "code",
      "source": [
        "angin_test = kec_angin(y_testing,scenarios)\n",
        "angin_pred = kec_angin(y_predict,scenarios)"
      ],
      "metadata": {
        "id": "jWNXkoS0MVbG"
      },
      "execution_count": 24,
      "outputs": []
    },
    {
      "cell_type": "code",
      "source": [
        "def tampilan_vektor(Y,scale,arrow):\n",
        "  x = Y['koor_x']\n",
        "  y = Y['koor_y']\n",
        "  u = Y['Vx']\n",
        "  v = Y['Vy']\n",
        "\n",
        "  fig = create_quiver(x,y,u,v, scale=scale, arrow_scale=arrow)\n",
        "  \n",
        "  fig.show()"
      ],
      "metadata": {
        "id": "O7-Y1uOiMYlN"
      },
      "execution_count": 25,
      "outputs": []
    },
    {
      "cell_type": "code",
      "source": [
        "tampilan_vektor(angin_test,50,0.1)"
      ],
      "metadata": {
        "colab": {
          "base_uri": "https://localhost:8080/",
          "height": 542
        },
        "id": "YEphvPRRMdBf",
        "outputId": "c196187e-142c-4fb2-8cc7-063d9f2e0667"
      },
      "execution_count": 26,
      "outputs": [
        {
          "output_type": "display_data",
          "data": {
            "text/html": [
              "<html>\n",
              "<head><meta charset=\"utf-8\" /></head>\n",
              "<body>\n",
              "    <div>            <script src=\"https://cdnjs.cloudflare.com/ajax/libs/mathjax/2.7.5/MathJax.js?config=TeX-AMS-MML_SVG\"></script><script type=\"text/javascript\">if (window.MathJax) {MathJax.Hub.Config({SVG: {font: \"STIX-Web\"}});}</script>                <script type=\"text/javascript\">window.PlotlyConfig = {MathJaxConfig: 'local'};</script>\n",
              "        <script src=\"https://cdn.plot.ly/plotly-2.8.3.min.js\"></script>                <div id=\"4bf24378-8125-4f56-a999-363462417dbd\" class=\"plotly-graph-div\" style=\"height:525px; width:100%;\"></div>            <script type=\"text/javascript\">                                    window.PLOTLYENV=window.PLOTLYENV || {};                                    if (document.getElementById(\"4bf24378-8125-4f56-a999-363462417dbd\")) {                    Plotly.newPlot(                        \"4bf24378-8125-4f56-a999-363462417dbd\",                        [{\"mode\":\"lines\",\"x\":[1,17.52615532076566,null,1,18.84615833765172,null,1,20.122915308884778,null,1,20.185143450866978,null,1,9.855339325970544,null,1,20.252821269563057,null,20,53.85335874993941,null,20,49.496899084082166,null,20,45.26363879729726,null,20,52.154812906166306,null,20,44.410356976556656,null,30,52.22827304489578,null,49,79.14555811473781,null,49,90.65042870973073,null,49,89.6244615583991,null,49,84.76693955158197,null,49,83.37449951787607,null,49,64.48897608753879,null,79,111.82299524186024,null,79,98.08382414103168,null,79,94.41797624752837,null,79,98.98860151522479,null,79,98.46083994102405,null,87,87.0,null,97,97.0,null,97,135.09384473235363,null,97,121.28560625520491,null,97,135.97852023863675,null,97,137.16447539642755,null,97,128.6555742523186,null,16.806300370608508,17.52615532076566,15.140109029945759,null,17.79633703913371,18.84615833765172,16.54199897631608,null,19.02956374555219,20.122915308884778,17.622334391482784,null,18.957904429060456,20.185143450866978,17.80675492677374,null,10.199977017549212,9.855339325970544,7.846442230557918,null,19.653043797402944,20.252821269563057,17.234251926459493,null,51.52531620231092,53.85335874993941,49.81905101634067,null,48.06213414210189,49.496899084082166,45.38806034498672,null,44.22337962921544,45.26363879729726,41.555886974974925,null,50.07440984353635,52.154812906166306,48.192087886661064,null,42.71157436366267,44.410356976556656,41.52149312512662,null,50.13949862958549,52.22827304489578,50.13949862958549,null,76.6359124591377,79.14555811473781,75.98969206835955,null,88.30942506909811,90.65042870973073,85.16371224814264,null,87.10776404668404,89.6244615583991,84.50625772014847,null,82.46217395286543,84.76693955158197,80.34971931735507,null,80.95874308799638,83.37449951787607,79.32996323972438,null,64.0714390852664,64.48897608753879,61.99553778321326,null,108.88437925661336,111.82299524186024,108.59290594293371,null,96.59530650564507,98.08382414103168,95.9857560320776,null,93.42569231453425,94.41797624752837,92.51262847907154,null,97.64932618867094,98.98860151522479,96.57124857304129,null,96.87873161703192,98.46083994102405,96.38550672764099,null,87.0,87.0,87.0,null,97.0,97.0,97.0,null,132.25865277741906,135.09384473235363,130.76973572881684,null,119.54704354498607,121.28560625520491,118.45996796755813,null,133.27728190643592,135.97852023863675,131.35419300335735,null,134.5588258390256,137.16447539642755,132.22167272427748,null,126.27994462160018,128.6555742523186,125.08190197670815,null],\"y\":[30,54.358087866716886,null,63,81.3371957367912,null,94,114.57231688733394,null,113,129.82867990015725,null,145,179.4063768307102,null,178,213.36037157671583,null,63,87.94392829292444,null,94,133.0923436718307,null,113,151.99613379935562,null,145,172.51770610017783,null,178,195.39782380891629,null,6,6.0,null,30,39.44711011016133,null,63,108.98724493779517,null,94,132.03147822288406,null,113,143.88202079225061,null,145,168.81116843637326,null,178,208.34764680623633,null,63,67.26105478533324,null,94,102.91103178369035,null,113,126.3481002987784,null,145,160.76044038147649,null,178,185.21046550935569,null,6,6.0,null,30,30.0,null,63,84.76651109090511,null,94,109.89198178296819,null,113,141.11367898362974,null,145,179.16689280377696,null,178,195.51421178359155,null,51.50394852309297,54.358087866716886,52.63440412537908,null,79.00368842156863,81.3371957367912,80.22443754805987,null,111.9851092267093,114.57231688733394,113.29319367365918,null,127.59113071690376,129.82867990015725,128.90347181946157,null,175.87036454658386,179.4063768307102,176.476105431677,null,209.37909828382314,213.36037157671583,210.696068821831,null,84.44211269672608,87.94392829292444,86.757818819068,null,128.41001161882605,133.0923436718307,130.42771834930613,null,147.46762854607422,151.99613379935562,149.19576321855013,null,168.83212819197087,172.51770610017783,171.0316469357263,null,192.92807976464383,195.39782380891629,194.59784652299436,null,5.239748286730265,6.0,6.760251713269735,null,37.52833333363079,39.44711011016133,39.59041095503777,null,103.24132890627538,108.98724493779517,106.09038602565091,null,127.06824986204848,132.03147822288406,129.8471266949948,null,139.75675870773188,143.88202079225061,142.20336146608238,null,165.39797338399302,168.81116843637326,167.74932763436345,null,204.96614664788981,208.34764680623633,206.02565501217538,null,65.73803405777915,67.26105478533324,67.98325916517891,null,101.42096347582634,102.91103178369035,102.72637392940985,null,124.56646331895404,126.3481002987784,125.62111500814832,null,158.59579299328382,160.76044038147649,159.9630938643072,null,183.86730345961172,185.21046550935569,185.1985033127851,null,6.0,6.0,6.0,null,30.0,30.0,30.0,null,81.41824188214876,84.76651109090511,84.02401432918583,null,107.56800732864066,109.89198178296819,109.22924063507185,null,137.13871340735957,141.11367898362974,139.80500122308777,null,174.58254913631907,179.16689280377696,177.32996106265637,null,192.78572982211585,195.51421178359155,194.95109863068274,null],\"type\":\"scatter\"}],                        {\"hovermode\":\"closest\",\"template\":{\"data\":{\"bar\":[{\"error_x\":{\"color\":\"#2a3f5f\"},\"error_y\":{\"color\":\"#2a3f5f\"},\"marker\":{\"line\":{\"color\":\"#E5ECF6\",\"width\":0.5},\"pattern\":{\"fillmode\":\"overlay\",\"size\":10,\"solidity\":0.2}},\"type\":\"bar\"}],\"barpolar\":[{\"marker\":{\"line\":{\"color\":\"#E5ECF6\",\"width\":0.5},\"pattern\":{\"fillmode\":\"overlay\",\"size\":10,\"solidity\":0.2}},\"type\":\"barpolar\"}],\"carpet\":[{\"aaxis\":{\"endlinecolor\":\"#2a3f5f\",\"gridcolor\":\"white\",\"linecolor\":\"white\",\"minorgridcolor\":\"white\",\"startlinecolor\":\"#2a3f5f\"},\"baxis\":{\"endlinecolor\":\"#2a3f5f\",\"gridcolor\":\"white\",\"linecolor\":\"white\",\"minorgridcolor\":\"white\",\"startlinecolor\":\"#2a3f5f\"},\"type\":\"carpet\"}],\"choropleth\":[{\"colorbar\":{\"outlinewidth\":0,\"ticks\":\"\"},\"type\":\"choropleth\"}],\"contour\":[{\"colorbar\":{\"outlinewidth\":0,\"ticks\":\"\"},\"colorscale\":[[0.0,\"#0d0887\"],[0.1111111111111111,\"#46039f\"],[0.2222222222222222,\"#7201a8\"],[0.3333333333333333,\"#9c179e\"],[0.4444444444444444,\"#bd3786\"],[0.5555555555555556,\"#d8576b\"],[0.6666666666666666,\"#ed7953\"],[0.7777777777777778,\"#fb9f3a\"],[0.8888888888888888,\"#fdca26\"],[1.0,\"#f0f921\"]],\"type\":\"contour\"}],\"contourcarpet\":[{\"colorbar\":{\"outlinewidth\":0,\"ticks\":\"\"},\"type\":\"contourcarpet\"}],\"heatmap\":[{\"colorbar\":{\"outlinewidth\":0,\"ticks\":\"\"},\"colorscale\":[[0.0,\"#0d0887\"],[0.1111111111111111,\"#46039f\"],[0.2222222222222222,\"#7201a8\"],[0.3333333333333333,\"#9c179e\"],[0.4444444444444444,\"#bd3786\"],[0.5555555555555556,\"#d8576b\"],[0.6666666666666666,\"#ed7953\"],[0.7777777777777778,\"#fb9f3a\"],[0.8888888888888888,\"#fdca26\"],[1.0,\"#f0f921\"]],\"type\":\"heatmap\"}],\"heatmapgl\":[{\"colorbar\":{\"outlinewidth\":0,\"ticks\":\"\"},\"colorscale\":[[0.0,\"#0d0887\"],[0.1111111111111111,\"#46039f\"],[0.2222222222222222,\"#7201a8\"],[0.3333333333333333,\"#9c179e\"],[0.4444444444444444,\"#bd3786\"],[0.5555555555555556,\"#d8576b\"],[0.6666666666666666,\"#ed7953\"],[0.7777777777777778,\"#fb9f3a\"],[0.8888888888888888,\"#fdca26\"],[1.0,\"#f0f921\"]],\"type\":\"heatmapgl\"}],\"histogram\":[{\"marker\":{\"pattern\":{\"fillmode\":\"overlay\",\"size\":10,\"solidity\":0.2}},\"type\":\"histogram\"}],\"histogram2d\":[{\"colorbar\":{\"outlinewidth\":0,\"ticks\":\"\"},\"colorscale\":[[0.0,\"#0d0887\"],[0.1111111111111111,\"#46039f\"],[0.2222222222222222,\"#7201a8\"],[0.3333333333333333,\"#9c179e\"],[0.4444444444444444,\"#bd3786\"],[0.5555555555555556,\"#d8576b\"],[0.6666666666666666,\"#ed7953\"],[0.7777777777777778,\"#fb9f3a\"],[0.8888888888888888,\"#fdca26\"],[1.0,\"#f0f921\"]],\"type\":\"histogram2d\"}],\"histogram2dcontour\":[{\"colorbar\":{\"outlinewidth\":0,\"ticks\":\"\"},\"colorscale\":[[0.0,\"#0d0887\"],[0.1111111111111111,\"#46039f\"],[0.2222222222222222,\"#7201a8\"],[0.3333333333333333,\"#9c179e\"],[0.4444444444444444,\"#bd3786\"],[0.5555555555555556,\"#d8576b\"],[0.6666666666666666,\"#ed7953\"],[0.7777777777777778,\"#fb9f3a\"],[0.8888888888888888,\"#fdca26\"],[1.0,\"#f0f921\"]],\"type\":\"histogram2dcontour\"}],\"mesh3d\":[{\"colorbar\":{\"outlinewidth\":0,\"ticks\":\"\"},\"type\":\"mesh3d\"}],\"parcoords\":[{\"line\":{\"colorbar\":{\"outlinewidth\":0,\"ticks\":\"\"}},\"type\":\"parcoords\"}],\"pie\":[{\"automargin\":true,\"type\":\"pie\"}],\"scatter\":[{\"marker\":{\"colorbar\":{\"outlinewidth\":0,\"ticks\":\"\"}},\"type\":\"scatter\"}],\"scatter3d\":[{\"line\":{\"colorbar\":{\"outlinewidth\":0,\"ticks\":\"\"}},\"marker\":{\"colorbar\":{\"outlinewidth\":0,\"ticks\":\"\"}},\"type\":\"scatter3d\"}],\"scattercarpet\":[{\"marker\":{\"colorbar\":{\"outlinewidth\":0,\"ticks\":\"\"}},\"type\":\"scattercarpet\"}],\"scattergeo\":[{\"marker\":{\"colorbar\":{\"outlinewidth\":0,\"ticks\":\"\"}},\"type\":\"scattergeo\"}],\"scattergl\":[{\"marker\":{\"colorbar\":{\"outlinewidth\":0,\"ticks\":\"\"}},\"type\":\"scattergl\"}],\"scattermapbox\":[{\"marker\":{\"colorbar\":{\"outlinewidth\":0,\"ticks\":\"\"}},\"type\":\"scattermapbox\"}],\"scatterpolar\":[{\"marker\":{\"colorbar\":{\"outlinewidth\":0,\"ticks\":\"\"}},\"type\":\"scatterpolar\"}],\"scatterpolargl\":[{\"marker\":{\"colorbar\":{\"outlinewidth\":0,\"ticks\":\"\"}},\"type\":\"scatterpolargl\"}],\"scatterternary\":[{\"marker\":{\"colorbar\":{\"outlinewidth\":0,\"ticks\":\"\"}},\"type\":\"scatterternary\"}],\"surface\":[{\"colorbar\":{\"outlinewidth\":0,\"ticks\":\"\"},\"colorscale\":[[0.0,\"#0d0887\"],[0.1111111111111111,\"#46039f\"],[0.2222222222222222,\"#7201a8\"],[0.3333333333333333,\"#9c179e\"],[0.4444444444444444,\"#bd3786\"],[0.5555555555555556,\"#d8576b\"],[0.6666666666666666,\"#ed7953\"],[0.7777777777777778,\"#fb9f3a\"],[0.8888888888888888,\"#fdca26\"],[1.0,\"#f0f921\"]],\"type\":\"surface\"}],\"table\":[{\"cells\":{\"fill\":{\"color\":\"#EBF0F8\"},\"line\":{\"color\":\"white\"}},\"header\":{\"fill\":{\"color\":\"#C8D4E3\"},\"line\":{\"color\":\"white\"}},\"type\":\"table\"}]},\"layout\":{\"annotationdefaults\":{\"arrowcolor\":\"#2a3f5f\",\"arrowhead\":0,\"arrowwidth\":1},\"autotypenumbers\":\"strict\",\"coloraxis\":{\"colorbar\":{\"outlinewidth\":0,\"ticks\":\"\"}},\"colorscale\":{\"diverging\":[[0,\"#8e0152\"],[0.1,\"#c51b7d\"],[0.2,\"#de77ae\"],[0.3,\"#f1b6da\"],[0.4,\"#fde0ef\"],[0.5,\"#f7f7f7\"],[0.6,\"#e6f5d0\"],[0.7,\"#b8e186\"],[0.8,\"#7fbc41\"],[0.9,\"#4d9221\"],[1,\"#276419\"]],\"sequential\":[[0.0,\"#0d0887\"],[0.1111111111111111,\"#46039f\"],[0.2222222222222222,\"#7201a8\"],[0.3333333333333333,\"#9c179e\"],[0.4444444444444444,\"#bd3786\"],[0.5555555555555556,\"#d8576b\"],[0.6666666666666666,\"#ed7953\"],[0.7777777777777778,\"#fb9f3a\"],[0.8888888888888888,\"#fdca26\"],[1.0,\"#f0f921\"]],\"sequentialminus\":[[0.0,\"#0d0887\"],[0.1111111111111111,\"#46039f\"],[0.2222222222222222,\"#7201a8\"],[0.3333333333333333,\"#9c179e\"],[0.4444444444444444,\"#bd3786\"],[0.5555555555555556,\"#d8576b\"],[0.6666666666666666,\"#ed7953\"],[0.7777777777777778,\"#fb9f3a\"],[0.8888888888888888,\"#fdca26\"],[1.0,\"#f0f921\"]]},\"colorway\":[\"#636efa\",\"#EF553B\",\"#00cc96\",\"#ab63fa\",\"#FFA15A\",\"#19d3f3\",\"#FF6692\",\"#B6E880\",\"#FF97FF\",\"#FECB52\"],\"font\":{\"color\":\"#2a3f5f\"},\"geo\":{\"bgcolor\":\"white\",\"lakecolor\":\"white\",\"landcolor\":\"#E5ECF6\",\"showlakes\":true,\"showland\":true,\"subunitcolor\":\"white\"},\"hoverlabel\":{\"align\":\"left\"},\"hovermode\":\"closest\",\"mapbox\":{\"style\":\"light\"},\"paper_bgcolor\":\"white\",\"plot_bgcolor\":\"#E5ECF6\",\"polar\":{\"angularaxis\":{\"gridcolor\":\"white\",\"linecolor\":\"white\",\"ticks\":\"\"},\"bgcolor\":\"#E5ECF6\",\"radialaxis\":{\"gridcolor\":\"white\",\"linecolor\":\"white\",\"ticks\":\"\"}},\"scene\":{\"xaxis\":{\"backgroundcolor\":\"#E5ECF6\",\"gridcolor\":\"white\",\"gridwidth\":2,\"linecolor\":\"white\",\"showbackground\":true,\"ticks\":\"\",\"zerolinecolor\":\"white\"},\"yaxis\":{\"backgroundcolor\":\"#E5ECF6\",\"gridcolor\":\"white\",\"gridwidth\":2,\"linecolor\":\"white\",\"showbackground\":true,\"ticks\":\"\",\"zerolinecolor\":\"white\"},\"zaxis\":{\"backgroundcolor\":\"#E5ECF6\",\"gridcolor\":\"white\",\"gridwidth\":2,\"linecolor\":\"white\",\"showbackground\":true,\"ticks\":\"\",\"zerolinecolor\":\"white\"}},\"shapedefaults\":{\"line\":{\"color\":\"#2a3f5f\"}},\"ternary\":{\"aaxis\":{\"gridcolor\":\"white\",\"linecolor\":\"white\",\"ticks\":\"\"},\"baxis\":{\"gridcolor\":\"white\",\"linecolor\":\"white\",\"ticks\":\"\"},\"bgcolor\":\"#E5ECF6\",\"caxis\":{\"gridcolor\":\"white\",\"linecolor\":\"white\",\"ticks\":\"\"}},\"title\":{\"x\":0.05},\"xaxis\":{\"automargin\":true,\"gridcolor\":\"white\",\"linecolor\":\"white\",\"ticks\":\"\",\"title\":{\"standoff\":15},\"zerolinecolor\":\"white\",\"zerolinewidth\":2},\"yaxis\":{\"automargin\":true,\"gridcolor\":\"white\",\"linecolor\":\"white\",\"ticks\":\"\",\"title\":{\"standoff\":15},\"zerolinecolor\":\"white\",\"zerolinewidth\":2}}}},                        {\"responsive\": true}                    ).then(function(){\n",
              "                            \n",
              "var gd = document.getElementById('4bf24378-8125-4f56-a999-363462417dbd');\n",
              "var x = new MutationObserver(function (mutations, observer) {{\n",
              "        var display = window.getComputedStyle(gd).display;\n",
              "        if (!display || display === 'none') {{\n",
              "            console.log([gd, 'removed!']);\n",
              "            Plotly.purge(gd);\n",
              "            observer.disconnect();\n",
              "        }}\n",
              "}});\n",
              "\n",
              "// Listen for the removal of the full notebook cells\n",
              "var notebookContainer = gd.closest('#notebook-container');\n",
              "if (notebookContainer) {{\n",
              "    x.observe(notebookContainer, {childList: true});\n",
              "}}\n",
              "\n",
              "// Listen for the clearing of the current output cell\n",
              "var outputEl = gd.closest('.output');\n",
              "if (outputEl) {{\n",
              "    x.observe(outputEl, {childList: true});\n",
              "}}\n",
              "\n",
              "                        })                };                            </script>        </div>\n",
              "</body>\n",
              "</html>"
            ]
          },
          "metadata": {}
        }
      ]
    },
    {
      "cell_type": "code",
      "source": [
        "tampilan_vektor(angin_pred,50,0.1)"
      ],
      "metadata": {
        "colab": {
          "base_uri": "https://localhost:8080/",
          "height": 542
        },
        "id": "TO0XLHWkMfG0",
        "outputId": "7a5096ae-f6dd-4fef-b457-9740f508541d"
      },
      "execution_count": 27,
      "outputs": [
        {
          "output_type": "display_data",
          "data": {
            "text/html": [
              "<html>\n",
              "<head><meta charset=\"utf-8\" /></head>\n",
              "<body>\n",
              "    <div>            <script src=\"https://cdnjs.cloudflare.com/ajax/libs/mathjax/2.7.5/MathJax.js?config=TeX-AMS-MML_SVG\"></script><script type=\"text/javascript\">if (window.MathJax) {MathJax.Hub.Config({SVG: {font: \"STIX-Web\"}});}</script>                <script type=\"text/javascript\">window.PlotlyConfig = {MathJaxConfig: 'local'};</script>\n",
              "        <script src=\"https://cdn.plot.ly/plotly-2.8.3.min.js\"></script>                <div id=\"19ce8f64-a62a-4860-a65f-eb190941351c\" class=\"plotly-graph-div\" style=\"height:525px; width:100%;\"></div>            <script type=\"text/javascript\">                                    window.PLOTLYENV=window.PLOTLYENV || {};                                    if (document.getElementById(\"19ce8f64-a62a-4860-a65f-eb190941351c\")) {                    Plotly.newPlot(                        \"19ce8f64-a62a-4860-a65f-eb190941351c\",                        [{\"mode\":\"lines\",\"x\":[1,18.29000523565345,null,1,21.30011757977259,null,1,24.577721704007836,null,1,22.155726027915296,null,1,10.884552650435555,null,1,21.29818606664802,null,20,54.152001122244634,null,20,52.55284969865879,null,20,47.761509224840175,null,20,54.08488855789243,null,20,49.247458380433386,null,30,51.814618659589634,null,49,81.05350484814136,null,49,84.43399966426853,null,49,77.20011403507911,null,49,81.70292449117795,null,49,85.04731346550072,null,49,74.31465696966204,null,79,112.90431088339227,null,79,102.63529714767884,null,79,99.37938743371996,null,79,104.0667209451656,null,79,104.86352501405625,null,87,87.96280813452026,null,97,98.00524604672215,null,97,133.3869012962947,null,97,126.50208729908883,null,97,130.13751912996042,null,97,133.5350561804423,null,97,128.9852117989672,null,17.387699102523214,18.29000523565345,15.942853302125028,null,20.01971470751701,21.30011757977259,18.76534631386845,null,23.106609598737755,24.577721704007836,21.61767158923793,null,20.71464053661015,22.155726027915296,19.620835592060367,null,10.951740408049666,10.884552650435555,8.959676655744628,null,20.355350511797383,21.29818606664802,18.42621048906496,null,51.770111080612985,54.152001122244634,50.11541447594722,null,50.36160492560868,52.55284969865879,48.62615994223241,null,46.22265082342662,47.761509224840175,44.08291055416128,null,51.76670179116048,54.08488855789243,49.997211672992066,null,47.17933622846694,49.247458380433386,45.818856369032595,null,49.79664197250228,51.814618659589634,49.732788110742,null,78.54810587448125,81.05350484814136,77.53481542657671,null,82.43271828325534,84.43399966426853,79.77586744339301,null,75.5258176215158,77.20011403507911,73.57452263582543,null,79.34623159562113,81.70292449117795,77.91347802223905,null,82.4162220608095,85.04731346550072,80.90372597765443,null,73.01228619610782,74.31465696966204,70.85942847279266,null,110.29978443390915,112.90431088339227,109.13691118288436,null,100.92436959087628,102.63529714767884,99.90424184053019,null,98.07951788289284,99.37938743371996,96.84918498702633,null,102.52910846148858,104.0667209451656,100.89333088894828,null,103.01619873243769,104.86352501405625,101.85009857503073,null,87.88441620180355,87.96280813452026,87.8602513273887,null,97.94370063698065,98.00524604672215,97.87786699802786,null,130.87707057395485,133.3869012962947,129.0582314903559,null,124.44357202517989,126.50208729908883,123.01602382645068,null,127.97001498040217,130.13751912996042,126.07720684000354,null,131.13393278101051,133.5350561804423,129.06983504132202,null,126.87247613341584,128.9852117989672,125.0866939641658,null],\"y\":[30,51.12223254380689,null,63,81.33763914387585,null,94,115.76681751872832,null,113,128.99035854897403,null,145,174.1220238219743,null,178,206.20214043497887,null,63,87.1900460682835,null,94,119.37050839318246,null,113,144.2809100724207,null,145,170.86821496772953,null,178,197.88888499673695,null,6,6.9334810099105395,null,30,44.813315351132566,null,63,101.84056088083224,null,94,122.52602432588817,null,113,133.94545601101967,null,145,167.11121351579123,null,178,209.4726744217698,null,63,80.00006964089116,null,94,108.91327002595185,null,113,130.98626367299943,null,145,168.913468321407,null,178,195.04724385628683,null,6,6.35326683071758,null,30,30.962423416244658,null,63,89.58964857907613,null,94,114.86935852444678,null,113,140.67100384781003,null,145,175.1750902683393,null,178,204.10638882093036,null,48.54603893133298,51.12223254380689,49.728744945092934,null,78.92015981284618,81.33763914387585,80.30876963767852,null,112.91500016304433,115.76681751872832,114.52781131434382,null,126.76418791093224,128.99035854897403,128.21132480057747,null,171.04737712176703,174.1220238219743,171.72352034460943,null,202.85776725849053,206.20214043497887,204.24624496004373,null,83.74885805773093,87.1900460682835,86.08499252146862,null,115.87308740895699,119.37050839318246,118.09983347287583,null,140.3919664993669,144.2809100724207,142.29096557217025,null,167.27162604894065,170.86821496772953,169.6031697429026,null,195.0196191593089,197.88888499673695,197.02026314074635,null,6.099658588190103,6.9334810099105395,7.591866388299634,null,42.325024606424044,44.813315351132566,44.51761347087431,null,96.97882787176437,101.84056088083224,99.40265620051933,null,118.88095416554073,122.52602432588817,120.80995557435632,null,130.85872107360044,133.94545601101967,133.09573285792868,null,163.80054836625257,167.11121351579123,166.26632982984776,null,205.64939817021596,209.4726744217698,207.38102269121674,null,77.24298991468237,80.00006964089116,79.56218136822154,null,106.70350627463499,108.91327002595185,108.32025581823378,null,128.59909164699968,130.98626367299943,129.99312384919372,null,165.80900500046764,168.913468321407,167.52366969854165,null,192.5607422774163,195.04724385628683,194.32991158385923,null,6.287140629701832,6.35326683071758,6.3530005849345805,null,30.837603758315243,30.962423416244658,30.90636663771074,null,85.84653360351773,89.58964857907613,88.33554424282485,null,111.89924949120689,114.86935852444678,113.91731111649504,null,136.93741013102886,140.67100384781003,139.2041499394861,null,171.08998678754395,175.1750902683393,173.5891318177932,null,200.5592320555123,204.10638882093036,202.74714940026922,null],\"type\":\"scatter\"}],                        {\"hovermode\":\"closest\",\"template\":{\"data\":{\"bar\":[{\"error_x\":{\"color\":\"#2a3f5f\"},\"error_y\":{\"color\":\"#2a3f5f\"},\"marker\":{\"line\":{\"color\":\"#E5ECF6\",\"width\":0.5},\"pattern\":{\"fillmode\":\"overlay\",\"size\":10,\"solidity\":0.2}},\"type\":\"bar\"}],\"barpolar\":[{\"marker\":{\"line\":{\"color\":\"#E5ECF6\",\"width\":0.5},\"pattern\":{\"fillmode\":\"overlay\",\"size\":10,\"solidity\":0.2}},\"type\":\"barpolar\"}],\"carpet\":[{\"aaxis\":{\"endlinecolor\":\"#2a3f5f\",\"gridcolor\":\"white\",\"linecolor\":\"white\",\"minorgridcolor\":\"white\",\"startlinecolor\":\"#2a3f5f\"},\"baxis\":{\"endlinecolor\":\"#2a3f5f\",\"gridcolor\":\"white\",\"linecolor\":\"white\",\"minorgridcolor\":\"white\",\"startlinecolor\":\"#2a3f5f\"},\"type\":\"carpet\"}],\"choropleth\":[{\"colorbar\":{\"outlinewidth\":0,\"ticks\":\"\"},\"type\":\"choropleth\"}],\"contour\":[{\"colorbar\":{\"outlinewidth\":0,\"ticks\":\"\"},\"colorscale\":[[0.0,\"#0d0887\"],[0.1111111111111111,\"#46039f\"],[0.2222222222222222,\"#7201a8\"],[0.3333333333333333,\"#9c179e\"],[0.4444444444444444,\"#bd3786\"],[0.5555555555555556,\"#d8576b\"],[0.6666666666666666,\"#ed7953\"],[0.7777777777777778,\"#fb9f3a\"],[0.8888888888888888,\"#fdca26\"],[1.0,\"#f0f921\"]],\"type\":\"contour\"}],\"contourcarpet\":[{\"colorbar\":{\"outlinewidth\":0,\"ticks\":\"\"},\"type\":\"contourcarpet\"}],\"heatmap\":[{\"colorbar\":{\"outlinewidth\":0,\"ticks\":\"\"},\"colorscale\":[[0.0,\"#0d0887\"],[0.1111111111111111,\"#46039f\"],[0.2222222222222222,\"#7201a8\"],[0.3333333333333333,\"#9c179e\"],[0.4444444444444444,\"#bd3786\"],[0.5555555555555556,\"#d8576b\"],[0.6666666666666666,\"#ed7953\"],[0.7777777777777778,\"#fb9f3a\"],[0.8888888888888888,\"#fdca26\"],[1.0,\"#f0f921\"]],\"type\":\"heatmap\"}],\"heatmapgl\":[{\"colorbar\":{\"outlinewidth\":0,\"ticks\":\"\"},\"colorscale\":[[0.0,\"#0d0887\"],[0.1111111111111111,\"#46039f\"],[0.2222222222222222,\"#7201a8\"],[0.3333333333333333,\"#9c179e\"],[0.4444444444444444,\"#bd3786\"],[0.5555555555555556,\"#d8576b\"],[0.6666666666666666,\"#ed7953\"],[0.7777777777777778,\"#fb9f3a\"],[0.8888888888888888,\"#fdca26\"],[1.0,\"#f0f921\"]],\"type\":\"heatmapgl\"}],\"histogram\":[{\"marker\":{\"pattern\":{\"fillmode\":\"overlay\",\"size\":10,\"solidity\":0.2}},\"type\":\"histogram\"}],\"histogram2d\":[{\"colorbar\":{\"outlinewidth\":0,\"ticks\":\"\"},\"colorscale\":[[0.0,\"#0d0887\"],[0.1111111111111111,\"#46039f\"],[0.2222222222222222,\"#7201a8\"],[0.3333333333333333,\"#9c179e\"],[0.4444444444444444,\"#bd3786\"],[0.5555555555555556,\"#d8576b\"],[0.6666666666666666,\"#ed7953\"],[0.7777777777777778,\"#fb9f3a\"],[0.8888888888888888,\"#fdca26\"],[1.0,\"#f0f921\"]],\"type\":\"histogram2d\"}],\"histogram2dcontour\":[{\"colorbar\":{\"outlinewidth\":0,\"ticks\":\"\"},\"colorscale\":[[0.0,\"#0d0887\"],[0.1111111111111111,\"#46039f\"],[0.2222222222222222,\"#7201a8\"],[0.3333333333333333,\"#9c179e\"],[0.4444444444444444,\"#bd3786\"],[0.5555555555555556,\"#d8576b\"],[0.6666666666666666,\"#ed7953\"],[0.7777777777777778,\"#fb9f3a\"],[0.8888888888888888,\"#fdca26\"],[1.0,\"#f0f921\"]],\"type\":\"histogram2dcontour\"}],\"mesh3d\":[{\"colorbar\":{\"outlinewidth\":0,\"ticks\":\"\"},\"type\":\"mesh3d\"}],\"parcoords\":[{\"line\":{\"colorbar\":{\"outlinewidth\":0,\"ticks\":\"\"}},\"type\":\"parcoords\"}],\"pie\":[{\"automargin\":true,\"type\":\"pie\"}],\"scatter\":[{\"marker\":{\"colorbar\":{\"outlinewidth\":0,\"ticks\":\"\"}},\"type\":\"scatter\"}],\"scatter3d\":[{\"line\":{\"colorbar\":{\"outlinewidth\":0,\"ticks\":\"\"}},\"marker\":{\"colorbar\":{\"outlinewidth\":0,\"ticks\":\"\"}},\"type\":\"scatter3d\"}],\"scattercarpet\":[{\"marker\":{\"colorbar\":{\"outlinewidth\":0,\"ticks\":\"\"}},\"type\":\"scattercarpet\"}],\"scattergeo\":[{\"marker\":{\"colorbar\":{\"outlinewidth\":0,\"ticks\":\"\"}},\"type\":\"scattergeo\"}],\"scattergl\":[{\"marker\":{\"colorbar\":{\"outlinewidth\":0,\"ticks\":\"\"}},\"type\":\"scattergl\"}],\"scattermapbox\":[{\"marker\":{\"colorbar\":{\"outlinewidth\":0,\"ticks\":\"\"}},\"type\":\"scattermapbox\"}],\"scatterpolar\":[{\"marker\":{\"colorbar\":{\"outlinewidth\":0,\"ticks\":\"\"}},\"type\":\"scatterpolar\"}],\"scatterpolargl\":[{\"marker\":{\"colorbar\":{\"outlinewidth\":0,\"ticks\":\"\"}},\"type\":\"scatterpolargl\"}],\"scatterternary\":[{\"marker\":{\"colorbar\":{\"outlinewidth\":0,\"ticks\":\"\"}},\"type\":\"scatterternary\"}],\"surface\":[{\"colorbar\":{\"outlinewidth\":0,\"ticks\":\"\"},\"colorscale\":[[0.0,\"#0d0887\"],[0.1111111111111111,\"#46039f\"],[0.2222222222222222,\"#7201a8\"],[0.3333333333333333,\"#9c179e\"],[0.4444444444444444,\"#bd3786\"],[0.5555555555555556,\"#d8576b\"],[0.6666666666666666,\"#ed7953\"],[0.7777777777777778,\"#fb9f3a\"],[0.8888888888888888,\"#fdca26\"],[1.0,\"#f0f921\"]],\"type\":\"surface\"}],\"table\":[{\"cells\":{\"fill\":{\"color\":\"#EBF0F8\"},\"line\":{\"color\":\"white\"}},\"header\":{\"fill\":{\"color\":\"#C8D4E3\"},\"line\":{\"color\":\"white\"}},\"type\":\"table\"}]},\"layout\":{\"annotationdefaults\":{\"arrowcolor\":\"#2a3f5f\",\"arrowhead\":0,\"arrowwidth\":1},\"autotypenumbers\":\"strict\",\"coloraxis\":{\"colorbar\":{\"outlinewidth\":0,\"ticks\":\"\"}},\"colorscale\":{\"diverging\":[[0,\"#8e0152\"],[0.1,\"#c51b7d\"],[0.2,\"#de77ae\"],[0.3,\"#f1b6da\"],[0.4,\"#fde0ef\"],[0.5,\"#f7f7f7\"],[0.6,\"#e6f5d0\"],[0.7,\"#b8e186\"],[0.8,\"#7fbc41\"],[0.9,\"#4d9221\"],[1,\"#276419\"]],\"sequential\":[[0.0,\"#0d0887\"],[0.1111111111111111,\"#46039f\"],[0.2222222222222222,\"#7201a8\"],[0.3333333333333333,\"#9c179e\"],[0.4444444444444444,\"#bd3786\"],[0.5555555555555556,\"#d8576b\"],[0.6666666666666666,\"#ed7953\"],[0.7777777777777778,\"#fb9f3a\"],[0.8888888888888888,\"#fdca26\"],[1.0,\"#f0f921\"]],\"sequentialminus\":[[0.0,\"#0d0887\"],[0.1111111111111111,\"#46039f\"],[0.2222222222222222,\"#7201a8\"],[0.3333333333333333,\"#9c179e\"],[0.4444444444444444,\"#bd3786\"],[0.5555555555555556,\"#d8576b\"],[0.6666666666666666,\"#ed7953\"],[0.7777777777777778,\"#fb9f3a\"],[0.8888888888888888,\"#fdca26\"],[1.0,\"#f0f921\"]]},\"colorway\":[\"#636efa\",\"#EF553B\",\"#00cc96\",\"#ab63fa\",\"#FFA15A\",\"#19d3f3\",\"#FF6692\",\"#B6E880\",\"#FF97FF\",\"#FECB52\"],\"font\":{\"color\":\"#2a3f5f\"},\"geo\":{\"bgcolor\":\"white\",\"lakecolor\":\"white\",\"landcolor\":\"#E5ECF6\",\"showlakes\":true,\"showland\":true,\"subunitcolor\":\"white\"},\"hoverlabel\":{\"align\":\"left\"},\"hovermode\":\"closest\",\"mapbox\":{\"style\":\"light\"},\"paper_bgcolor\":\"white\",\"plot_bgcolor\":\"#E5ECF6\",\"polar\":{\"angularaxis\":{\"gridcolor\":\"white\",\"linecolor\":\"white\",\"ticks\":\"\"},\"bgcolor\":\"#E5ECF6\",\"radialaxis\":{\"gridcolor\":\"white\",\"linecolor\":\"white\",\"ticks\":\"\"}},\"scene\":{\"xaxis\":{\"backgroundcolor\":\"#E5ECF6\",\"gridcolor\":\"white\",\"gridwidth\":2,\"linecolor\":\"white\",\"showbackground\":true,\"ticks\":\"\",\"zerolinecolor\":\"white\"},\"yaxis\":{\"backgroundcolor\":\"#E5ECF6\",\"gridcolor\":\"white\",\"gridwidth\":2,\"linecolor\":\"white\",\"showbackground\":true,\"ticks\":\"\",\"zerolinecolor\":\"white\"},\"zaxis\":{\"backgroundcolor\":\"#E5ECF6\",\"gridcolor\":\"white\",\"gridwidth\":2,\"linecolor\":\"white\",\"showbackground\":true,\"ticks\":\"\",\"zerolinecolor\":\"white\"}},\"shapedefaults\":{\"line\":{\"color\":\"#2a3f5f\"}},\"ternary\":{\"aaxis\":{\"gridcolor\":\"white\",\"linecolor\":\"white\",\"ticks\":\"\"},\"baxis\":{\"gridcolor\":\"white\",\"linecolor\":\"white\",\"ticks\":\"\"},\"bgcolor\":\"#E5ECF6\",\"caxis\":{\"gridcolor\":\"white\",\"linecolor\":\"white\",\"ticks\":\"\"}},\"title\":{\"x\":0.05},\"xaxis\":{\"automargin\":true,\"gridcolor\":\"white\",\"linecolor\":\"white\",\"ticks\":\"\",\"title\":{\"standoff\":15},\"zerolinecolor\":\"white\",\"zerolinewidth\":2},\"yaxis\":{\"automargin\":true,\"gridcolor\":\"white\",\"linecolor\":\"white\",\"ticks\":\"\",\"title\":{\"standoff\":15},\"zerolinecolor\":\"white\",\"zerolinewidth\":2}}}},                        {\"responsive\": true}                    ).then(function(){\n",
              "                            \n",
              "var gd = document.getElementById('19ce8f64-a62a-4860-a65f-eb190941351c');\n",
              "var x = new MutationObserver(function (mutations, observer) {{\n",
              "        var display = window.getComputedStyle(gd).display;\n",
              "        if (!display || display === 'none') {{\n",
              "            console.log([gd, 'removed!']);\n",
              "            Plotly.purge(gd);\n",
              "            observer.disconnect();\n",
              "        }}\n",
              "}});\n",
              "\n",
              "// Listen for the removal of the full notebook cells\n",
              "var notebookContainer = gd.closest('#notebook-container');\n",
              "if (notebookContainer) {{\n",
              "    x.observe(notebookContainer, {childList: true});\n",
              "}}\n",
              "\n",
              "// Listen for the clearing of the current output cell\n",
              "var outputEl = gd.closest('.output');\n",
              "if (outputEl) {{\n",
              "    x.observe(outputEl, {childList: true});\n",
              "}}\n",
              "\n",
              "                        })                };                            </script>        </div>\n",
              "</body>\n",
              "</html>"
            ]
          },
          "metadata": {}
        }
      ]
    },
    {
      "cell_type": "code",
      "source": [
        "!zip -r /content/models_vxvy_30_a06.zip /content/models"
      ],
      "metadata": {
        "colab": {
          "base_uri": "https://localhost:8080/"
        },
        "id": "jh0tiaySMiqT",
        "outputId": "5d28666d-7c39-49ba-a5db-5b047ca5f7b9"
      },
      "execution_count": 28,
      "outputs": [
        {
          "output_type": "stream",
          "name": "stdout",
          "text": [
            "  adding: content/models/ (stored 0%)\n",
            "  adding: content/models/model 4 (deflated 45%)\n",
            "  adding: content/models/model 20 (deflated 46%)\n",
            "  adding: content/models/model 3 (deflated 45%)\n",
            "  adding: content/models/model 6 (deflated 44%)\n",
            "  adding: content/models/model 21 (deflated 45%)\n",
            "  adding: content/models/model 27 (deflated 44%)\n",
            "  adding: content/models/model 1 (deflated 45%)\n",
            "  adding: content/models/model 7 (deflated 45%)\n",
            "  adding: content/models/model 22 (deflated 45%)\n",
            "  adding: content/models/model 2 (deflated 44%)\n",
            "  adding: content/models/model 8 (deflated 45%)\n",
            "  adding: content/models/model 0 (deflated 44%)\n",
            "  adding: content/models/model 25 (deflated 44%)\n",
            "  adding: content/models/model 16 (deflated 45%)\n",
            "  adding: content/models/model 13 (deflated 45%)\n",
            "  adding: content/models/model 19 (deflated 45%)\n",
            "  adding: content/models/model 17 (deflated 45%)\n",
            "  adding: content/models/model 18 (deflated 44%)\n",
            "  adding: content/models/model 9 (deflated 45%)\n",
            "  adding: content/models/model 24 (deflated 45%)\n",
            "  adding: content/models/model 23 (deflated 45%)\n",
            "  adding: content/models/model 29 (deflated 45%)\n",
            "  adding: content/models/model 12 (deflated 45%)\n",
            "  adding: content/models/model 10 (deflated 46%)\n",
            "  adding: content/models/model 28 (deflated 45%)\n",
            "  adding: content/models/model 5 (deflated 45%)\n",
            "  adding: content/models/model 15 (deflated 45%)\n",
            "  adding: content/models/model 14 (deflated 45%)\n",
            "  adding: content/models/model 26 (deflated 45%)\n",
            "  adding: content/models/model 11 (deflated 45%)\n"
          ]
        }
      ]
    }
  ]
}