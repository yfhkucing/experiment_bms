{
  "nbformat": 4,
  "nbformat_minor": 0,
  "metadata": {
    "colab": {
      "provenance": [],
      "authorship_tag": "ABX9TyOjkzKk0Xm/OsHdmczph5uN",
      "include_colab_link": true
    },
    "kernelspec": {
      "name": "python3",
      "display_name": "Python 3"
    },
    "language_info": {
      "name": "python"
    }
  },
  "cells": [
    {
      "cell_type": "markdown",
      "metadata": {
        "id": "view-in-github",
        "colab_type": "text"
      },
      "source": [
        "<a href=\"https://colab.research.google.com/github/yfhkucing/experiment_bms/blob/master/visualisasi_vxvy_154.ipynb\" target=\"_parent\"><img src=\"https://colab.research.google.com/assets/colab-badge.svg\" alt=\"Open In Colab\"/></a>"
      ]
    },
    {
      "cell_type": "code",
      "execution_count": 1,
      "metadata": {
        "colab": {
          "base_uri": "https://localhost:8080/"
        },
        "id": "kbeY_d-lWPpl",
        "outputId": "3e4df3c5-733c-46e6-ac60-755f66cf58c5"
      },
      "outputs": [
        {
          "output_type": "stream",
          "name": "stdout",
          "text": [
            "Looking in indexes: https://pypi.org/simple, https://us-python.pkg.dev/colab-wheels/public/simple/\n",
            "Requirement already satisfied: kaleido in /usr/local/lib/python3.7/dist-packages (0.2.1)\n"
          ]
        }
      ],
      "source": [
        "! pip install -U kaleido"
      ]
    },
    {
      "cell_type": "code",
      "source": [
        "import joblib\n",
        "import numpy as np\n",
        "import pandas as pd"
      ],
      "metadata": {
        "id": "3XxIxeLdWVAB"
      },
      "execution_count": 2,
      "outputs": []
    },
    {
      "cell_type": "code",
      "source": [
        "! unzip /content/models_vxvy_154_a06.zip"
      ],
      "metadata": {
        "colab": {
          "base_uri": "https://localhost:8080/"
        },
        "id": "3SInKUe7WWT0",
        "outputId": "115ba156-4add-4984-b429-784ffc3b5b85"
      },
      "execution_count": 3,
      "outputs": [
        {
          "output_type": "stream",
          "name": "stdout",
          "text": [
            "Archive:  /content/models_vxvy_154_a06.zip\n",
            "replace content/models/model 108? [y]es, [n]o, [A]ll, [N]one, [r]ename: A\n",
            "  inflating: content/models/model 108  \n",
            "  inflating: content/models/model 21  \n",
            "  inflating: content/models/model 137  \n",
            "  inflating: content/models/model 59  \n",
            "  inflating: content/models/model 148  \n",
            "  inflating: content/models/model 71  \n",
            "  inflating: content/models/model 139  \n",
            "  inflating: content/models/model 56  \n",
            "  inflating: content/models/model 66  \n",
            "  inflating: content/models/model 88  \n",
            "  inflating: content/models/model 151  \n",
            "  inflating: content/models/model 134  \n",
            "  inflating: content/models/model 122  \n",
            "  inflating: content/models/model 121  \n",
            "  inflating: content/models/model 79  \n",
            "  inflating: content/models/model 92  \n",
            "  inflating: content/models/model 75  \n",
            "  inflating: content/models/model 37  \n",
            "  inflating: content/models/model 44  \n",
            "  inflating: content/models/model 83  \n",
            "  inflating: content/models/model 128  \n",
            "  inflating: content/models/model 9  \n",
            "  inflating: content/models/model 64  \n",
            "  inflating: content/models/model 115  \n",
            "  inflating: content/models/model 116  \n",
            "  inflating: content/models/model 31  \n",
            "  inflating: content/models/model 19  \n",
            "  inflating: content/models/model 29  \n",
            "  inflating: content/models/model 24  \n",
            "  inflating: content/models/model 61  \n",
            "  inflating: content/models/model 38  \n",
            "  inflating: content/models/model 111  \n",
            "  inflating: content/models/model 119  \n",
            "  inflating: content/models/model 6  \n",
            "  inflating: content/models/model 60  \n",
            "  inflating: content/models/model 91  \n",
            "  inflating: content/models/model 103  \n",
            "  inflating: content/models/model 4  \n",
            "  inflating: content/models/model 10  \n",
            "  inflating: content/models/model 112  \n",
            "  inflating: content/models/model 7  \n",
            "  inflating: content/models/model 43  \n",
            "  inflating: content/models/model 35  \n",
            "  inflating: content/models/model 98  \n",
            "  inflating: content/models/model 25  \n",
            "  inflating: content/models/model 147  \n",
            "  inflating: content/models/model 143  \n",
            "  inflating: content/models/model 17  \n",
            "  inflating: content/models/model 3  \n",
            "  inflating: content/models/model 76  \n",
            "  inflating: content/models/model 11  \n",
            "  inflating: content/models/model 118  \n",
            "  inflating: content/models/model 50  \n",
            "  inflating: content/models/model 15  \n",
            "  inflating: content/models/model 18  \n",
            "  inflating: content/models/model 105  \n",
            "  inflating: content/models/model 63  \n",
            "  inflating: content/models/model 146  \n",
            "  inflating: content/models/model 94  \n",
            "  inflating: content/models/model 138  \n",
            "  inflating: content/models/model 49  \n",
            "  inflating: content/models/model 110  \n",
            "  inflating: content/models/model 124  \n",
            "  inflating: content/models/model 14  \n",
            "  inflating: content/models/model 133  \n",
            "  inflating: content/models/model 23  \n",
            "  inflating: content/models/model 52  \n",
            "  inflating: content/models/model 28  \n",
            "  inflating: content/models/model 45  \n",
            "  inflating: content/models/model 65  \n",
            "  inflating: content/models/model 149  \n",
            "  inflating: content/models/model 40  \n",
            "  inflating: content/models/model 81  \n",
            "  inflating: content/models/model 140  \n",
            "  inflating: content/models/model 12  \n",
            "  inflating: content/models/model 120  \n",
            "  inflating: content/models/model 78  \n",
            "  inflating: content/models/model 41  \n",
            "  inflating: content/models/model 84  \n",
            "  inflating: content/models/model 135  \n",
            "  inflating: content/models/model 123  \n",
            "  inflating: content/models/model 34  \n",
            "  inflating: content/models/model 26  \n",
            "  inflating: content/models/model 106  \n",
            "  inflating: content/models/model 125  \n",
            "  inflating: content/models/model 13  \n",
            "  inflating: content/models/model 55  \n",
            "  inflating: content/models/model 150  \n",
            "  inflating: content/models/model 69  \n",
            "  inflating: content/models/model 0  \n",
            "  inflating: content/models/model 82  \n",
            "  inflating: content/models/model 104  \n",
            "  inflating: content/models/model 145  \n",
            "  inflating: content/models/model 39  \n",
            "  inflating: content/models/model 109  \n",
            "  inflating: content/models/model 51  \n",
            "  inflating: content/models/model 132  \n",
            "  inflating: content/models/model 117  \n",
            "  inflating: content/models/model 114  \n",
            "  inflating: content/models/model 130  \n",
            "  inflating: content/models/model 1  \n",
            "  inflating: content/models/model 102  \n",
            "  inflating: content/models/model 85  \n",
            "  inflating: content/models/model 16  \n",
            "  inflating: content/models/model 93  \n",
            "  inflating: content/models/model 2  \n",
            "  inflating: content/models/model 142  \n",
            "  inflating: content/models/model 54  \n",
            "  inflating: content/models/model 86  \n",
            "  inflating: content/models/model 129  \n",
            "  inflating: content/models/model 57  \n",
            "  inflating: content/models/model 68  \n",
            "  inflating: content/models/model 136  \n",
            "  inflating: content/models/model 48  \n",
            "  inflating: content/models/model 46  \n",
            "  inflating: content/models/model 5  \n",
            "  inflating: content/models/model 144  \n",
            "  inflating: content/models/model 74  \n",
            "  inflating: content/models/model 87  \n",
            "  inflating: content/models/model 127  \n",
            "  inflating: content/models/model 27  \n",
            "  inflating: content/models/model 97  \n",
            "  inflating: content/models/model 100  \n",
            "  inflating: content/models/model 22  \n",
            "  inflating: content/models/model 33  \n",
            "  inflating: content/models/model 72  \n",
            "  inflating: content/models/model 80  \n",
            "  inflating: content/models/model 77  \n",
            "  inflating: content/models/model 47  \n",
            "  inflating: content/models/model 30  \n",
            "  inflating: content/models/model 8  \n",
            "  inflating: content/models/model 67  \n",
            "  inflating: content/models/model 20  \n",
            "  inflating: content/models/model 36  \n",
            "  inflating: content/models/model 62  \n",
            "  inflating: content/models/model 42  \n",
            "  inflating: content/models/model 90  \n",
            "  inflating: content/models/model 113  \n",
            "  inflating: content/models/model 53  \n",
            "  inflating: content/models/model 153  \n",
            "  inflating: content/models/model 126  \n",
            "  inflating: content/models/model 141  \n",
            "  inflating: content/models/model 73  \n",
            "  inflating: content/models/model 58  \n",
            "  inflating: content/models/model 131  \n",
            "  inflating: content/models/model 95  \n",
            "  inflating: content/models/model 89  \n",
            "  inflating: content/models/model 101  \n",
            "  inflating: content/models/model 70  \n",
            "  inflating: content/models/model 96  \n",
            "  inflating: content/models/model 107  \n",
            "  inflating: content/models/model 152  \n",
            "  inflating: content/models/model 32  \n",
            "  inflating: content/models/model 99  \n"
          ]
        }
      ]
    },
    {
      "cell_type": "code",
      "source": [
        "feature = pd.read_excel('data_model.xlsx',sheet_name='feature')\n",
        "label = pd.read_excel('data_model.xlsx',sheet_name='label_154')"
      ],
      "metadata": {
        "id": "JkueMorFWcay"
      },
      "execution_count": 4,
      "outputs": []
    },
    {
      "cell_type": "code",
      "source": [
        "def norm(df):\n",
        "  df=(df-df.min())/(df.max()-df.min())\n",
        "  return df\n",
        "\n",
        "def remap(df,new_max,new_min):\n",
        "  df = (df-df.min())/(df.max()-df.min())*(new_max - new_min) + new_min\n",
        "  return df\n",
        "\n",
        "def rescale(df,new_max,new_min):\n",
        "  df = df *(new_max - new_min) + new_min\n",
        "  return df\n",
        "\n",
        "from sklearn.preprocessing import StandardScaler\n",
        "def standard(df):\n",
        "  scaler = StandardScaler()\n",
        "  df = scaler.fit_transform(df)\n",
        "  return df"
      ],
      "metadata": {
        "id": "GtTdHcSFWfek"
      },
      "execution_count": 5,
      "outputs": []
    },
    {
      "cell_type": "code",
      "source": [
        "feature = norm(feature)"
      ],
      "metadata": {
        "id": "Of2vhvUTWhaN"
      },
      "execution_count": 6,
      "outputs": []
    },
    {
      "cell_type": "code",
      "source": [
        "array_y = []\n",
        "array_y_not_normal = []\n",
        "\n",
        "for i in range(154):\n",
        "  frame= label[i::154]\n",
        "  frame = frame.drop(['koor_x','koor_y','Temp'],axis=1)\n",
        "  array_y_not_normal.append(frame)\n",
        "  frame = norm(frame)\n",
        "  array_y.append(frame)"
      ],
      "metadata": {
        "id": "FIitcdrfWjN8"
      },
      "execution_count": 7,
      "outputs": []
    },
    {
      "cell_type": "code",
      "source": [
        "from sklearn.model_selection import train_test_split\n",
        "from sklearn.metrics import r2_score as r2\n",
        "from sklearn.metrics import mean_squared_error as mse\n",
        "from sklearn.metrics import mean_absolute_error as mae\n",
        "\n",
        "skor_r2=[]\n",
        "mae_=[]\n",
        "rmse = []\n",
        "y_predict = []\n",
        "y_test = []\n",
        "for i in range(154):\n",
        "  x = np.array(feature)\n",
        "  y = np.array(array_y[i])\n",
        "  model = joblib.load(f'/content/content/models/model {i}')\n",
        "  y_pred = model.predict(x)\n",
        "  Skor_r2 = r2(y,y_pred)\n",
        "  RMSE = mse(y,y_pred,squared=False)\n",
        "  MAE = mae(y,y_pred)\n",
        "  y_predict.append(y_pred)\n",
        "  skor_r2.append(Skor_r2)\n",
        "  mae_.append(MAE)\n",
        "  rmse.append(RMSE)"
      ],
      "metadata": {
        "id": "isN_QnUlWonD"
      },
      "execution_count": 8,
      "outputs": []
    },
    {
      "cell_type": "code",
      "source": [
        "skor_r2 = np.array(skor_r2)\n",
        "rmse = np.array(rmse)\n",
        "mae_=np.array(mae_)\n",
        "y_predict = np.array(y_predict)\n",
        "y = np.array(array_y)"
      ],
      "metadata": {
        "id": "u0wNx_f3WrIv"
      },
      "execution_count": 9,
      "outputs": []
    },
    {
      "cell_type": "code",
      "source": [
        "y.shape,y_predict.shape"
      ],
      "metadata": {
        "colab": {
          "base_uri": "https://localhost:8080/"
        },
        "id": "8-OixLJUWuXK",
        "outputId": "bf5fbcf3-cf43-44cc-86f8-4baa627c55a0"
      },
      "execution_count": 10,
      "outputs": [
        {
          "output_type": "execute_result",
          "data": {
            "text/plain": [
              "((154, 192, 2), (154, 192, 2))"
            ]
          },
          "metadata": {},
          "execution_count": 10
        }
      ]
    },
    {
      "cell_type": "code",
      "source": [
        "#error per skenario\n",
        "\n",
        "r_squared = []\n",
        "abs_error = []\n",
        "sqrt_error = []\n",
        "indexing = 0,1\n",
        "for i in range(192):\n",
        "  a = y[...,i,indexing]\n",
        "  b = y_predict[...,i,indexing]\n",
        "  r_squared.append(r2(a,b))\n",
        "  abs_error.append(mae(a,b))\n",
        "  sqrt_error.append(mse(a,b))"
      ],
      "metadata": {
        "id": "aVxLZrO3WxOF"
      },
      "execution_count": 11,
      "outputs": []
    },
    {
      "cell_type": "code",
      "source": [
        "error = pd.DataFrame(r_squared,columns=['r2'])\n",
        "abs_error = pd.DataFrame(abs_error,columns=['mae'])\n",
        "sqrt_error = pd.DataFrame(sqrt_error,columns=['rmse'])\n",
        "error = error.join(abs_error)\n",
        "error = error.join(sqrt_error)"
      ],
      "metadata": {
        "id": "vcjE3udpWzV6"
      },
      "execution_count": 12,
      "outputs": []
    },
    {
      "cell_type": "code",
      "source": [
        "error.describe()"
      ],
      "metadata": {
        "colab": {
          "base_uri": "https://localhost:8080/",
          "height": 300
        },
        "id": "FlNAz9-xW1ZD",
        "outputId": "6af9486d-f894-44ef-dbdb-24ab2ff46734"
      },
      "execution_count": 13,
      "outputs": [
        {
          "output_type": "execute_result",
          "data": {
            "text/plain": [
              "               r2         mae        rmse\n",
              "count  192.000000  192.000000  192.000000\n",
              "mean     0.519147    0.126245    0.031936\n",
              "std      0.326243    0.055382    0.026318\n",
              "min     -0.339332    0.065792    0.007480\n",
              "25%      0.201461    0.080989    0.010771\n",
              "50%      0.751433    0.087813    0.014043\n",
              "75%      0.792901    0.177282    0.055210\n",
              "max      0.852240    0.270257    0.114889"
            ],
            "text/html": [
              "\n",
              "  <div id=\"df-95881538-5ca5-4034-a561-b256e20d422d\">\n",
              "    <div class=\"colab-df-container\">\n",
              "      <div>\n",
              "<style scoped>\n",
              "    .dataframe tbody tr th:only-of-type {\n",
              "        vertical-align: middle;\n",
              "    }\n",
              "\n",
              "    .dataframe tbody tr th {\n",
              "        vertical-align: top;\n",
              "    }\n",
              "\n",
              "    .dataframe thead th {\n",
              "        text-align: right;\n",
              "    }\n",
              "</style>\n",
              "<table border=\"1\" class=\"dataframe\">\n",
              "  <thead>\n",
              "    <tr style=\"text-align: right;\">\n",
              "      <th></th>\n",
              "      <th>r2</th>\n",
              "      <th>mae</th>\n",
              "      <th>rmse</th>\n",
              "    </tr>\n",
              "  </thead>\n",
              "  <tbody>\n",
              "    <tr>\n",
              "      <th>count</th>\n",
              "      <td>192.000000</td>\n",
              "      <td>192.000000</td>\n",
              "      <td>192.000000</td>\n",
              "    </tr>\n",
              "    <tr>\n",
              "      <th>mean</th>\n",
              "      <td>0.519147</td>\n",
              "      <td>0.126245</td>\n",
              "      <td>0.031936</td>\n",
              "    </tr>\n",
              "    <tr>\n",
              "      <th>std</th>\n",
              "      <td>0.326243</td>\n",
              "      <td>0.055382</td>\n",
              "      <td>0.026318</td>\n",
              "    </tr>\n",
              "    <tr>\n",
              "      <th>min</th>\n",
              "      <td>-0.339332</td>\n",
              "      <td>0.065792</td>\n",
              "      <td>0.007480</td>\n",
              "    </tr>\n",
              "    <tr>\n",
              "      <th>25%</th>\n",
              "      <td>0.201461</td>\n",
              "      <td>0.080989</td>\n",
              "      <td>0.010771</td>\n",
              "    </tr>\n",
              "    <tr>\n",
              "      <th>50%</th>\n",
              "      <td>0.751433</td>\n",
              "      <td>0.087813</td>\n",
              "      <td>0.014043</td>\n",
              "    </tr>\n",
              "    <tr>\n",
              "      <th>75%</th>\n",
              "      <td>0.792901</td>\n",
              "      <td>0.177282</td>\n",
              "      <td>0.055210</td>\n",
              "    </tr>\n",
              "    <tr>\n",
              "      <th>max</th>\n",
              "      <td>0.852240</td>\n",
              "      <td>0.270257</td>\n",
              "      <td>0.114889</td>\n",
              "    </tr>\n",
              "  </tbody>\n",
              "</table>\n",
              "</div>\n",
              "      <button class=\"colab-df-convert\" onclick=\"convertToInteractive('df-95881538-5ca5-4034-a561-b256e20d422d')\"\n",
              "              title=\"Convert this dataframe to an interactive table.\"\n",
              "              style=\"display:none;\">\n",
              "        \n",
              "  <svg xmlns=\"http://www.w3.org/2000/svg\" height=\"24px\"viewBox=\"0 0 24 24\"\n",
              "       width=\"24px\">\n",
              "    <path d=\"M0 0h24v24H0V0z\" fill=\"none\"/>\n",
              "    <path d=\"M18.56 5.44l.94 2.06.94-2.06 2.06-.94-2.06-.94-.94-2.06-.94 2.06-2.06.94zm-11 1L8.5 8.5l.94-2.06 2.06-.94-2.06-.94L8.5 2.5l-.94 2.06-2.06.94zm10 10l.94 2.06.94-2.06 2.06-.94-2.06-.94-.94-2.06-.94 2.06-2.06.94z\"/><path d=\"M17.41 7.96l-1.37-1.37c-.4-.4-.92-.59-1.43-.59-.52 0-1.04.2-1.43.59L10.3 9.45l-7.72 7.72c-.78.78-.78 2.05 0 2.83L4 21.41c.39.39.9.59 1.41.59.51 0 1.02-.2 1.41-.59l7.78-7.78 2.81-2.81c.8-.78.8-2.07 0-2.86zM5.41 20L4 18.59l7.72-7.72 1.47 1.35L5.41 20z\"/>\n",
              "  </svg>\n",
              "      </button>\n",
              "      \n",
              "  <style>\n",
              "    .colab-df-container {\n",
              "      display:flex;\n",
              "      flex-wrap:wrap;\n",
              "      gap: 12px;\n",
              "    }\n",
              "\n",
              "    .colab-df-convert {\n",
              "      background-color: #E8F0FE;\n",
              "      border: none;\n",
              "      border-radius: 50%;\n",
              "      cursor: pointer;\n",
              "      display: none;\n",
              "      fill: #1967D2;\n",
              "      height: 32px;\n",
              "      padding: 0 0 0 0;\n",
              "      width: 32px;\n",
              "    }\n",
              "\n",
              "    .colab-df-convert:hover {\n",
              "      background-color: #E2EBFA;\n",
              "      box-shadow: 0px 1px 2px rgba(60, 64, 67, 0.3), 0px 1px 3px 1px rgba(60, 64, 67, 0.15);\n",
              "      fill: #174EA6;\n",
              "    }\n",
              "\n",
              "    [theme=dark] .colab-df-convert {\n",
              "      background-color: #3B4455;\n",
              "      fill: #D2E3FC;\n",
              "    }\n",
              "\n",
              "    [theme=dark] .colab-df-convert:hover {\n",
              "      background-color: #434B5C;\n",
              "      box-shadow: 0px 1px 3px 1px rgba(0, 0, 0, 0.15);\n",
              "      filter: drop-shadow(0px 1px 2px rgba(0, 0, 0, 0.3));\n",
              "      fill: #FFFFFF;\n",
              "    }\n",
              "  </style>\n",
              "\n",
              "      <script>\n",
              "        const buttonEl =\n",
              "          document.querySelector('#df-95881538-5ca5-4034-a561-b256e20d422d button.colab-df-convert');\n",
              "        buttonEl.style.display =\n",
              "          google.colab.kernel.accessAllowed ? 'block' : 'none';\n",
              "\n",
              "        async function convertToInteractive(key) {\n",
              "          const element = document.querySelector('#df-95881538-5ca5-4034-a561-b256e20d422d');\n",
              "          const dataTable =\n",
              "            await google.colab.kernel.invokeFunction('convertToInteractive',\n",
              "                                                     [key], {});\n",
              "          if (!dataTable) return;\n",
              "\n",
              "          const docLinkHtml = 'Like what you see? Visit the ' +\n",
              "            '<a target=\"_blank\" href=https://colab.research.google.com/notebooks/data_table.ipynb>data table notebook</a>'\n",
              "            + ' to learn more about interactive tables.';\n",
              "          element.innerHTML = '';\n",
              "          dataTable['output_type'] = 'display_data';\n",
              "          await google.colab.output.renderOutput(dataTable, element);\n",
              "          const docLink = document.createElement('div');\n",
              "          docLink.innerHTML = docLinkHtml;\n",
              "          element.appendChild(docLink);\n",
              "        }\n",
              "      </script>\n",
              "    </div>\n",
              "  </div>\n",
              "  "
            ]
          },
          "metadata": {},
          "execution_count": 13
        }
      ]
    },
    {
      "cell_type": "code",
      "source": [
        "error[error.r2 == error.r2.max()]"
      ],
      "metadata": {
        "colab": {
          "base_uri": "https://localhost:8080/",
          "height": 81
        },
        "id": "zGeCVv1qW3K0",
        "outputId": "7a548e06-4abb-4875-aca5-8516a38f30af"
      },
      "execution_count": 14,
      "outputs": [
        {
          "output_type": "execute_result",
          "data": {
            "text/plain": [
              "          r2       mae      rmse\n",
              "105  0.85224  0.067555  0.007775"
            ],
            "text/html": [
              "\n",
              "  <div id=\"df-4cef39f3-b681-4f12-bfca-7a06ef487c84\">\n",
              "    <div class=\"colab-df-container\">\n",
              "      <div>\n",
              "<style scoped>\n",
              "    .dataframe tbody tr th:only-of-type {\n",
              "        vertical-align: middle;\n",
              "    }\n",
              "\n",
              "    .dataframe tbody tr th {\n",
              "        vertical-align: top;\n",
              "    }\n",
              "\n",
              "    .dataframe thead th {\n",
              "        text-align: right;\n",
              "    }\n",
              "</style>\n",
              "<table border=\"1\" class=\"dataframe\">\n",
              "  <thead>\n",
              "    <tr style=\"text-align: right;\">\n",
              "      <th></th>\n",
              "      <th>r2</th>\n",
              "      <th>mae</th>\n",
              "      <th>rmse</th>\n",
              "    </tr>\n",
              "  </thead>\n",
              "  <tbody>\n",
              "    <tr>\n",
              "      <th>105</th>\n",
              "      <td>0.85224</td>\n",
              "      <td>0.067555</td>\n",
              "      <td>0.007775</td>\n",
              "    </tr>\n",
              "  </tbody>\n",
              "</table>\n",
              "</div>\n",
              "      <button class=\"colab-df-convert\" onclick=\"convertToInteractive('df-4cef39f3-b681-4f12-bfca-7a06ef487c84')\"\n",
              "              title=\"Convert this dataframe to an interactive table.\"\n",
              "              style=\"display:none;\">\n",
              "        \n",
              "  <svg xmlns=\"http://www.w3.org/2000/svg\" height=\"24px\"viewBox=\"0 0 24 24\"\n",
              "       width=\"24px\">\n",
              "    <path d=\"M0 0h24v24H0V0z\" fill=\"none\"/>\n",
              "    <path d=\"M18.56 5.44l.94 2.06.94-2.06 2.06-.94-2.06-.94-.94-2.06-.94 2.06-2.06.94zm-11 1L8.5 8.5l.94-2.06 2.06-.94-2.06-.94L8.5 2.5l-.94 2.06-2.06.94zm10 10l.94 2.06.94-2.06 2.06-.94-2.06-.94-.94-2.06-.94 2.06-2.06.94z\"/><path d=\"M17.41 7.96l-1.37-1.37c-.4-.4-.92-.59-1.43-.59-.52 0-1.04.2-1.43.59L10.3 9.45l-7.72 7.72c-.78.78-.78 2.05 0 2.83L4 21.41c.39.39.9.59 1.41.59.51 0 1.02-.2 1.41-.59l7.78-7.78 2.81-2.81c.8-.78.8-2.07 0-2.86zM5.41 20L4 18.59l7.72-7.72 1.47 1.35L5.41 20z\"/>\n",
              "  </svg>\n",
              "      </button>\n",
              "      \n",
              "  <style>\n",
              "    .colab-df-container {\n",
              "      display:flex;\n",
              "      flex-wrap:wrap;\n",
              "      gap: 12px;\n",
              "    }\n",
              "\n",
              "    .colab-df-convert {\n",
              "      background-color: #E8F0FE;\n",
              "      border: none;\n",
              "      border-radius: 50%;\n",
              "      cursor: pointer;\n",
              "      display: none;\n",
              "      fill: #1967D2;\n",
              "      height: 32px;\n",
              "      padding: 0 0 0 0;\n",
              "      width: 32px;\n",
              "    }\n",
              "\n",
              "    .colab-df-convert:hover {\n",
              "      background-color: #E2EBFA;\n",
              "      box-shadow: 0px 1px 2px rgba(60, 64, 67, 0.3), 0px 1px 3px 1px rgba(60, 64, 67, 0.15);\n",
              "      fill: #174EA6;\n",
              "    }\n",
              "\n",
              "    [theme=dark] .colab-df-convert {\n",
              "      background-color: #3B4455;\n",
              "      fill: #D2E3FC;\n",
              "    }\n",
              "\n",
              "    [theme=dark] .colab-df-convert:hover {\n",
              "      background-color: #434B5C;\n",
              "      box-shadow: 0px 1px 3px 1px rgba(0, 0, 0, 0.15);\n",
              "      filter: drop-shadow(0px 1px 2px rgba(0, 0, 0, 0.3));\n",
              "      fill: #FFFFFF;\n",
              "    }\n",
              "  </style>\n",
              "\n",
              "      <script>\n",
              "        const buttonEl =\n",
              "          document.querySelector('#df-4cef39f3-b681-4f12-bfca-7a06ef487c84 button.colab-df-convert');\n",
              "        buttonEl.style.display =\n",
              "          google.colab.kernel.accessAllowed ? 'block' : 'none';\n",
              "\n",
              "        async function convertToInteractive(key) {\n",
              "          const element = document.querySelector('#df-4cef39f3-b681-4f12-bfca-7a06ef487c84');\n",
              "          const dataTable =\n",
              "            await google.colab.kernel.invokeFunction('convertToInteractive',\n",
              "                                                     [key], {});\n",
              "          if (!dataTable) return;\n",
              "\n",
              "          const docLinkHtml = 'Like what you see? Visit the ' +\n",
              "            '<a target=\"_blank\" href=https://colab.research.google.com/notebooks/data_table.ipynb>data table notebook</a>'\n",
              "            + ' to learn more about interactive tables.';\n",
              "          element.innerHTML = '';\n",
              "          dataTable['output_type'] = 'display_data';\n",
              "          await google.colab.output.renderOutput(dataTable, element);\n",
              "          const docLink = document.createElement('div');\n",
              "          docLink.innerHTML = docLinkHtml;\n",
              "          element.appendChild(docLink);\n",
              "        }\n",
              "      </script>\n",
              "    </div>\n",
              "  </div>\n",
              "  "
            ]
          },
          "metadata": {},
          "execution_count": 14
        }
      ]
    },
    {
      "cell_type": "code",
      "source": [
        "error[error.r2 == error.r2.min()]"
      ],
      "metadata": {
        "colab": {
          "base_uri": "https://localhost:8080/",
          "height": 81
        },
        "id": "EkJyniEEW4zg",
        "outputId": "e5f32911-8cde-4f1e-8a67-0b601eb02537"
      },
      "execution_count": 15,
      "outputs": [
        {
          "output_type": "execute_result",
          "data": {
            "text/plain": [
              "          r2       mae      rmse\n",
              "38 -0.339332  0.162882  0.079708"
            ],
            "text/html": [
              "\n",
              "  <div id=\"df-16a6e9a8-893b-4a83-9d7f-e7b89541cad6\">\n",
              "    <div class=\"colab-df-container\">\n",
              "      <div>\n",
              "<style scoped>\n",
              "    .dataframe tbody tr th:only-of-type {\n",
              "        vertical-align: middle;\n",
              "    }\n",
              "\n",
              "    .dataframe tbody tr th {\n",
              "        vertical-align: top;\n",
              "    }\n",
              "\n",
              "    .dataframe thead th {\n",
              "        text-align: right;\n",
              "    }\n",
              "</style>\n",
              "<table border=\"1\" class=\"dataframe\">\n",
              "  <thead>\n",
              "    <tr style=\"text-align: right;\">\n",
              "      <th></th>\n",
              "      <th>r2</th>\n",
              "      <th>mae</th>\n",
              "      <th>rmse</th>\n",
              "    </tr>\n",
              "  </thead>\n",
              "  <tbody>\n",
              "    <tr>\n",
              "      <th>38</th>\n",
              "      <td>-0.339332</td>\n",
              "      <td>0.162882</td>\n",
              "      <td>0.079708</td>\n",
              "    </tr>\n",
              "  </tbody>\n",
              "</table>\n",
              "</div>\n",
              "      <button class=\"colab-df-convert\" onclick=\"convertToInteractive('df-16a6e9a8-893b-4a83-9d7f-e7b89541cad6')\"\n",
              "              title=\"Convert this dataframe to an interactive table.\"\n",
              "              style=\"display:none;\">\n",
              "        \n",
              "  <svg xmlns=\"http://www.w3.org/2000/svg\" height=\"24px\"viewBox=\"0 0 24 24\"\n",
              "       width=\"24px\">\n",
              "    <path d=\"M0 0h24v24H0V0z\" fill=\"none\"/>\n",
              "    <path d=\"M18.56 5.44l.94 2.06.94-2.06 2.06-.94-2.06-.94-.94-2.06-.94 2.06-2.06.94zm-11 1L8.5 8.5l.94-2.06 2.06-.94-2.06-.94L8.5 2.5l-.94 2.06-2.06.94zm10 10l.94 2.06.94-2.06 2.06-.94-2.06-.94-.94-2.06-.94 2.06-2.06.94z\"/><path d=\"M17.41 7.96l-1.37-1.37c-.4-.4-.92-.59-1.43-.59-.52 0-1.04.2-1.43.59L10.3 9.45l-7.72 7.72c-.78.78-.78 2.05 0 2.83L4 21.41c.39.39.9.59 1.41.59.51 0 1.02-.2 1.41-.59l7.78-7.78 2.81-2.81c.8-.78.8-2.07 0-2.86zM5.41 20L4 18.59l7.72-7.72 1.47 1.35L5.41 20z\"/>\n",
              "  </svg>\n",
              "      </button>\n",
              "      \n",
              "  <style>\n",
              "    .colab-df-container {\n",
              "      display:flex;\n",
              "      flex-wrap:wrap;\n",
              "      gap: 12px;\n",
              "    }\n",
              "\n",
              "    .colab-df-convert {\n",
              "      background-color: #E8F0FE;\n",
              "      border: none;\n",
              "      border-radius: 50%;\n",
              "      cursor: pointer;\n",
              "      display: none;\n",
              "      fill: #1967D2;\n",
              "      height: 32px;\n",
              "      padding: 0 0 0 0;\n",
              "      width: 32px;\n",
              "    }\n",
              "\n",
              "    .colab-df-convert:hover {\n",
              "      background-color: #E2EBFA;\n",
              "      box-shadow: 0px 1px 2px rgba(60, 64, 67, 0.3), 0px 1px 3px 1px rgba(60, 64, 67, 0.15);\n",
              "      fill: #174EA6;\n",
              "    }\n",
              "\n",
              "    [theme=dark] .colab-df-convert {\n",
              "      background-color: #3B4455;\n",
              "      fill: #D2E3FC;\n",
              "    }\n",
              "\n",
              "    [theme=dark] .colab-df-convert:hover {\n",
              "      background-color: #434B5C;\n",
              "      box-shadow: 0px 1px 3px 1px rgba(0, 0, 0, 0.15);\n",
              "      filter: drop-shadow(0px 1px 2px rgba(0, 0, 0, 0.3));\n",
              "      fill: #FFFFFF;\n",
              "    }\n",
              "  </style>\n",
              "\n",
              "      <script>\n",
              "        const buttonEl =\n",
              "          document.querySelector('#df-16a6e9a8-893b-4a83-9d7f-e7b89541cad6 button.colab-df-convert');\n",
              "        buttonEl.style.display =\n",
              "          google.colab.kernel.accessAllowed ? 'block' : 'none';\n",
              "\n",
              "        async function convertToInteractive(key) {\n",
              "          const element = document.querySelector('#df-16a6e9a8-893b-4a83-9d7f-e7b89541cad6');\n",
              "          const dataTable =\n",
              "            await google.colab.kernel.invokeFunction('convertToInteractive',\n",
              "                                                     [key], {});\n",
              "          if (!dataTable) return;\n",
              "\n",
              "          const docLinkHtml = 'Like what you see? Visit the ' +\n",
              "            '<a target=\"_blank\" href=https://colab.research.google.com/notebooks/data_table.ipynb>data table notebook</a>'\n",
              "            + ' to learn more about interactive tables.';\n",
              "          element.innerHTML = '';\n",
              "          dataTable['output_type'] = 'display_data';\n",
              "          await google.colab.output.renderOutput(dataTable, element);\n",
              "          const docLink = document.createElement('div');\n",
              "          docLink.innerHTML = docLinkHtml;\n",
              "          element.appendChild(docLink);\n",
              "        }\n",
              "      </script>\n",
              "    </div>\n",
              "  </div>\n",
              "  "
            ]
          },
          "metadata": {},
          "execution_count": 15
        }
      ]
    },
    {
      "cell_type": "code",
      "source": [
        "r2_matrix = skor_r2.reshape(11,14)\n",
        "rmse_matrix = rmse.reshape(11,14)\n",
        "mae_matrix = mae_.reshape(11,14)"
      ],
      "metadata": {
        "id": "PuddAAdGW6Uf"
      },
      "execution_count": 16,
      "outputs": []
    },
    {
      "cell_type": "code",
      "source": [
        "import numpy as np\n",
        "import seaborn as sns\n",
        "import matplotlib.pylab as plt\n",
        "\n",
        "ax = sns.heatmap(r2_matrix, linewidth=0.5, cmap=\"RdYlBu\")\n",
        "plt.show()"
      ],
      "metadata": {
        "colab": {
          "base_uri": "https://localhost:8080/",
          "height": 265
        },
        "id": "Y1mw5FAsW_dB",
        "outputId": "66f5a883-9b94-440d-f8c1-54bd7f50443b"
      },
      "execution_count": 17,
      "outputs": [
        {
          "output_type": "display_data",
          "data": {
            "text/plain": [
              "<Figure size 432x288 with 2 Axes>"
            ],
            "image/png": "[encoded data removed]"
          },
          "metadata": {
            "needs_background": "light"
          }
        }
      ]
    },
    {
      "cell_type": "code",
      "source": [
        "bx = sns.heatmap(rmse_matrix, linewidth=0.5, cmap=\"RdYlBu_r\")\n",
        "plt.show()"
      ],
      "metadata": {
        "colab": {
          "base_uri": "https://localhost:8080/",
          "height": 265
        },
        "id": "F6T1vOpcXBN_",
        "outputId": "78e06ecc-c324-42ef-99a8-b9066c18b288"
      },
      "execution_count": 18,
      "outputs": [
        {
          "output_type": "display_data",
          "data": {
            "text/plain": [
              "<Figure size 432x288 with 2 Axes>"
            ],
            "image/png": "[encoded data removed]"
          },
          "metadata": {
            "needs_background": "light"
          }
        }
      ]
    },
    {
      "cell_type": "code",
      "source": [
        "bx = sns.heatmap(mae_matrix, linewidth=0.5, cmap=\"RdYlBu_r\")\n",
        "plt.show()"
      ],
      "metadata": {
        "colab": {
          "base_uri": "https://localhost:8080/",
          "height": 265
        },
        "id": "VWtFjMOTXDPn",
        "outputId": "caf1227f-734e-42a7-b79e-f4726d02ee42"
      },
      "execution_count": 19,
      "outputs": [
        {
          "output_type": "display_data",
          "data": {
            "text/plain": [
              "<Figure size 432x288 with 2 Axes>"
            ],
            "image/png": "[encoded data removed]"
          },
          "metadata": {
            "needs_background": "light"
          }
        }
      ]
    },
    {
      "cell_type": "code",
      "source": [
        "df_koor = pd.read_excel('data_model.xlsx',sheet_name='koordinat_154')"
      ],
      "metadata": {
        "id": "j7qB1WqVXFZB"
      },
      "execution_count": 20,
      "outputs": []
    },
    {
      "cell_type": "code",
      "source": [
        "import plotly.graph_objects as go\n",
        "from plotly.figure_factory import create_quiver\n",
        "\n",
        "def tampilan_vektor(Y,scale,arrow):\n",
        "  x = Y['koor_x']\n",
        "  y = Y['koor_y']\n",
        "  u = Y['Vx']\n",
        "  v = Y['Vy']\n",
        "\n",
        "  fig = create_quiver(x,y,u,v, scale=scale, arrow_scale=arrow)\n",
        "  \n",
        "  fig.show()"
      ],
      "metadata": {
        "id": "uZNPFzePXIoB"
      },
      "execution_count": 21,
      "outputs": []
    },
    {
      "cell_type": "code",
      "source": [
        "def kec_angin(y,scenarios):\n",
        "  df_x = pd.DataFrame(y[...,scenarios,0])\n",
        "  df_y = pd.DataFrame(y[...,scenarios,1])\n",
        "  df_y.rename(columns={0:1},inplace=True)\n",
        "  df_x = df_x.join(df_y)\n",
        "  df_x = df_x.join(df_koor)\n",
        "  df_x.rename(columns={0:'Vx',1:'Vy',},inplace=True)\n",
        "  return df_x"
      ],
      "metadata": {
        "id": "4uqm3In7aLWU"
      },
      "execution_count": 22,
      "outputs": []
    },
    {
      "cell_type": "code",
      "source": [
        "scenarios=0\n",
        "angin_test = kec_angin(y,scenarios)\n",
        "angin_pred = kec_angin(y_predict,scenarios)"
      ],
      "metadata": {
        "id": "JySx7uKNXLMW"
      },
      "execution_count": 23,
      "outputs": []
    },
    {
      "cell_type": "code",
      "source": [
        "tampilan_vektor(angin_test,50,0.1)"
      ],
      "metadata": {
        "colab": {
          "base_uri": "https://localhost:8080/",
          "height": 542
        },
        "id": "j3ioVpH5XN-e",
        "outputId": "85ded431-5277-4cd8-cf8a-b74fa016078b"
      },
      "execution_count": 24,
      "outputs": [
        {
          "output_type": "display_data",
          "data": {
            "text/html": [
              "<html>\n",
              "<head><meta charset=\"utf-8\" /></head>\n",
              "<body>\n",
              "    <div>            <script src=\"https://cdnjs.cloudflare.com/ajax/libs/mathjax/2.7.5/MathJax.js?config=TeX-AMS-MML_SVG\"></script><script type=\"text/javascript\">if (window.MathJax) {MathJax.Hub.Config({SVG: {font: \"STIX-Web\"}});}</script>                <script type=\"text/javascript\">window.PlotlyConfig = {MathJaxConfig: 'local'};</script>\n",
              "        <script src=\"https://cdn.plot.ly/plotly-2.8.3.min.js\"></script>                <div id=\"63a0b570-065e-4dfb-9990-3e61b43e368c\" class=\"plotly-graph-div\" style=\"height:525px; width:100%;\"></div>            <script type=\"text/javascript\">                                    window.PLOTLYENV=window.PLOTLYENV || {};                                    if (document.getElementById(\"63a0b570-065e-4dfb-9990-3e61b43e368c\")) {                    Plotly.newPlot(                        \"63a0b570-065e-4dfb-9990-3e61b43e368c\",                        [{\"mode\":\"lines\",\"x\":[1,30.039986033546445,null,1,17.64283523497636,null,1,19.784300186339514,null,1,21.97337907753275,null,1,20.506572464984558,null,1,22.64075296364114,null,1,23.584655819733626,null,1,27.11715078858244,null,1,21.870448596179255,null,1,14.418372800418632,null,1,10.29788598343965,null,1,15.548792443290766,null,1,21.032862581108407,null,1,28.79969776446758,null,11,27.278847861532014,null,11,29.40866134892512,null,11,29.902595127170734,null,11,36.699356153798064,null,11,43.62833532819338,null,11,44.811589408435786,null,11,42.73372364095298,null,11,44.03915844130333,null,11,42.430760302818854,null,11,37.10113060417258,null,11,34.45183168388863,null,11,38.66971577683472,null,11,35.22901438152407,null,11,22.31901713398581,null,20,70.0,null,20,35.49806181379825,null,20,36.37974552213041,null,20,47.17622697310895,null,20,55.02044512294849,null,20,56.67721750211372,null,20,55.274680181910576,null,20,56.79534618748504,null,20,49.274314189009694,null,20,51.12597240428303,null,20,52.51354728691669,null,20,50.732632506597234,null,20,44.51413487832015,null,20,22.937710789872543,null,30,52.22827304489578,null,30,41.7109429372949,null,30,51.10939019187417,null,30,60.185931529898085,null,30,68.02233689683042,null,30,67.4911929818051,null,30,62.61702797701459,null,30,68.52099729321073,null,30,57.28713752492946,null,30,63.85027325496862,null,30,66.50339518645188,null,30,62.18093095840443,null,30,53.099464618155075,null,30,33.976797266831305,null,39,71.28377642686345,null,39,53.40782681178675,null,39,64.04085847555001,null,39,72.08584890075865,null,39,78.80955216549117,null,39,74.51380666982024,null,39,67.27877223514423,null,39,67.28866479495458,null,39,71.1242422391264,null,39,78.62665307156414,null,39,75.68446314162165,null,39,67.42649757204032,null,39,50.31894022228552,null,39,43.532904590487135,null,49,49.0,null,49,65.10600856303327,null,49,79.66082102284983,null,49,88.40567852593455,null,49,90.80898930948418,null,49,85.04255070991108,null,49,74.73949477426319,null,49,72.97298683225141,null,49,78.44372246673159,null,49,85.35037386538772,null,49,82.89272261782021,null,49,69.64909274288586,null,49,63.71822699841719,null,49,56.48151105104834,null,59,59.0,null,59,79.30363964517663,null,59,89.89386530103728,null,59,100.07594890015804,null,59,99.36320703878977,null,59,92.11166038605376,null,59,87.65859979438356,null,59,84.62682988032611,null,59,88.46224848772043,null,59,86.53219553005337,null,59,84.76613554511368,null,59,78.27573786591456,null,59,68.34670610258786,null,59,67.81357375019702,null,69,69.0,null,69,86.76744244829351,null,69,105.97393574584476,null,69,106.96527714016958,null,69,105.05455986256152,null,69,96.38182934896498,null,69,95.2948504934697,null,69,87.70971072461333,null,69,84.49913522801275,null,69,81.67431674038855,null,69,81.96853392812699,null,69,87.6266527169961,null,69,83.71423738727516,null,69,78.59282417330252,null,79,79.0,null,79,94.06046871712292,null,79,111.11864685964466,null,79,115.8733493093524,null,79,111.14575535172008,null,79,101.79840637749709,null,79,96.36632296138295,null,79,89.53196137526861,null,79,89.94452941337028,null,79,93.30187139057796,null,79,96.1594517121905,null,79,98.01342612562293,null,79,97.48240833137027,null,79,98.20961129504414,null,87,87.0,null,87,93.79044400539303,null,87,104.58985738111488,null,87,126.26490195164436,null,87,128.4660683377473,null,87,121.04798672922604,null,87,109.70922241924335,null,87,99.82243912481361,null,87,109.17778760554341,null,87,112.87947946507676,null,87,112.8486873204128,null,87,112.8634881520467,null,87,112.16969589016999,null,87,111.42217469503125,null,97,97.0,null,97,97.0,null,97,97.0,null,97,97.0,null,97,133.68673798732036,null,97,131.17186670209793,null,97,120.70285701289934,null,97,120.14211900771706,null,97,128.76785783102147,null,97,128.08094187560437,null,97,128.9299956220671,null,97,127.14869859207599,null,97,124.27339058715704,null,97,125.94423134138418,null,28.470460971059314,30.039986033546445,26.151778979343685,null,16.99495373216788,17.64283523497636,15.162886845932244,null,18.736926195069582,19.784300186339514,17.301380523263326,null,20.669492120857015,21.97337907753275,19.335560123787868,null,19.16112484918939,20.506572464984558,18.18598364034541,null,21.15929485311729,22.64075296364114,20.05507990052812,null,22.031498325164,23.584655819733626,20.89328643094461,null,25.059909085079017,27.11715078858244,24.265973717689103,null,20.351000037933986,21.870448596179255,19.46753584676027,null,13.892926526581132,14.418372800418632,12.421989893554585,null,10.440588226655835,10.29788598343965,8.407752770714072,null,15.117142079847108,15.548792443290766,13.2461642266732,null,20.236184844626642,21.032862581108407,18.06459368945303,null,27.593148661278757,28.79969776446758,24.781612697786663,null,26.47849433434903,27.278847861532014,25.01977874663938,null,28.294500165871508,29.40866134892512,27.06312588635239,null,28.988074149250078,29.902595127170734,27.264590274150187,null,35.16907768982152,36.699356153798064,33.39973555044001,null,41.43863262878365,43.62833532819338,39.685916840316814,null,42.49923899850651,44.811589408435786,40.76943960553504,null,40.740497813128584,42.73372364095298,38.76296028168481,null,41.9788537926551,44.03915844130333,39.89013241309772,null,40.42537478421683,42.430760302818854,38.529095116970964,null,35.527710446509545,37.10113060417258,33.76914279725357,null,33.23573567353137,34.45183168388863,31.26042505879322,null,37.39643097506432,38.66971577683472,34.74279503165812,null,33.999185416665526,35.22901438152407,31.90527814173584,null,21.94606567648661,22.31901713398581,20.56468921641386,null,65.49034471295934,70.0,65.11272907918158,null,34.56808382018261,35.49806181379825,33.51535694283187,null,35.373851083452216,36.37974552213041,34.30725476130922,null,45.50580476571339,47.17622697310895,43.73918919101782,null,52.52401594932822,55.02044512294849,50.93518352483424,null,54.105493940839274,56.67721750211372,52.355878935848956,null,53.04269060877124,55.274680181910576,50.87719842154505,null,54.608799719841166,56.79534618748504,52.06662959680039,null,47.733048270995965,49.274314189009694,45.3138087026273,null,49.31298775820919,51.12597240428303,47.08918773373876,null,50.37329281578768,52.51354728691669,48.543253665827834,null,48.656902143885794,50.732632506597234,47.03251727255376,null,42.870345925472364,44.51413487832015,41.55077350114635,null,22.837159280481355,22.937710789872543,22.486153269014455,null,50.13949862958549,52.22827304489578,50.13949862958549,null,41.101461994299825,41.7109429372949,40.1194865481658,null,49.69118252733405,51.10939019187417,48.56033021789537,null,58.044035384396494,60.185931529898085,56.654728253360894,null,65.57734826367441,68.02233689683042,63.321463648588974,null,65.2646811980961,67.4911929818051,62.671665287621565,null,60.691788541283444,62.61702797701459,58.412271312352104,null,66.52142800675223,68.52099729321073,63.28098719932041,null,56.015763920651196,57.28713752492946,53.43020677429843,null,61.713641819922145,63.85027325496862,59.625134292158975,null,64.32214106786739,66.50339518645188,61.824255086968236,null,59.93269455799009,62.18093095840443,58.381130688492085,null,51.607200659384716,53.099464618155075,50.250449287768326,null,33.782691330412625,33.976797266831305,33.423509794049394,null,68.25009377892088,71.28377642686345,68.25009377892088,null,52.289724400583005,53.40782681178675,51.81814351567102,null,62.206804891508654,64.04085847555001,61.168770074067645,null,69.5783585367455,72.08584890075865,68.3752336518757,null,76.39758784653979,78.80955216549117,73.7397680031018,null,72.50055332859365,74.51380666982024,69.85264759831733,null,66.22202842803895,67.27877223514423,63.02084532339942,null,66.30338594716756,67.28866479495458,62.957413730800624,null,69.55911557275046,71.1242422391264,66.65198622941313,null,76.04284002090782,78.62665307156414,73.76309142666204,null,73.20352245535742,75.68446314162165,71.27097996555098,null,65.51499677424077,67.42649757204032,63.995564369192905,null,49.90289028400558,50.31894022228552,48.60772524016576,null,43.58598797072747,43.532904590487135,42.62791381136533,null,50.71010071662835,49.0,47.28989928337165,null,63.765471765276914,65.10600856303327,63.419605881390225,null,77.10706204748335,79.66082102284983,76.45223054573442,null,85.77160914615742,88.40567852593455,83.63390284013519,null,88.42889061528653,90.80898930948418,85.33156825635398,null,83.02335588247045,85.04255070991108,80.28796175007065,null,73.50198467538152,74.73949477426319,71.13956221271835,null,71.84424941675792,72.97298683225141,69.59627648285202,null,76.56452690555295,78.44372246673159,74.78930828181903,null,83.03050087921655,85.35037386538772,80.83861123473615,null,80.53388344142168,82.89272261782021,78.88181352575688,null,68.55546214549499,69.64909274288586,66.86196332499398,null,63.39804189630709,63.71822699841719,61.27229024023437,null,56.58952352011944,56.48151105104834,54.96743443657756,null,59.0,59.0,59.0,null,77.68363843134128,79.30363964517663,77.10780478907824,null,87.4323752162884,89.89386530103728,86.54920793559845,null,97.46413019735856,100.07594890015804,94.96801438830602,null,96.74733405163552,99.36320703878977,94.3932784648231,null,90.04893980029992,92.11166038605376,87.95142438645884,null,86.1560475964335,87.65859979438356,83.77509704256587,null,83.48520514443689,84.62682988032611,80.95218602967968,null,86.89564865246315,88.46224848772043,84.49175682384337,null,84.93219687085838,86.53219553005337,82.95783399452318,null,83.0825732244118,84.76613554511368,81.607248378233,null,76.89718479383772,78.27573786591456,76.03163721143072,null,67.60982639524056,68.34670610258786,67.32697965928388,null,67.18902124566966,67.81357375019702,66.78171621156187,null,69.0,69.0,69.0,null,85.40175474083789,86.76744244829351,84.79394324396918,null,103.54057277405066,105.97393574584476,101.45847180128231,null,104.58688166971955,106.96527714016958,102.20853445567775,null,102.35529932684139,105.05455986256152,100.97777962857508,null,94.33997588583725,96.38182934896498,93.27758221552443,null,93.60701338345551,95.2948504934697,92.04087220880744,null,87.06828010787355,87.70971072461333,84.83486592036148,null,84.06642350593987,84.49913522801275,82.01896234962032,null,81.02193548882822,81.67431674038855,79.94470560905958,null,81.26256038632536,81.96853392812699,80.23722034299409,null,86.42789266608428,87.6266527169961,85.32474714628734,null,82.63325306254674,83.71423738727516,82.02984965334066,null,77.89767610359218,78.59282417330252,77.48511102538305,null,79.0,79.0,79.0,null,93.02682360899705,94.06046871712292,92.26367156143729,null,108.98209387901422,111.11864685964466,107.21886875154777,null,113.03842003707702,115.8733493093524,111.77835573169587,null,108.44622017625433,111.14575535172008,107.80386470846574,null,100.06727980273968,101.79840637749709,99.24483410453202,null,95.04447540828893,96.36632296138295,94.42436940707768,null,89.34949241545517,89.53196137526861,87.73506905773361,null,89.43291328191114,89.94452941337028,88.39924683928572,null,92.52891824082384,93.30187139057796,91.38695193850104,null,95.23334333180235,96.1594517121905,93.86063806244316,null,96.84132511294146,98.01342612562293,95.61217189308323,null,96.1208845454796,97.48240833137027,95.3703755725928,null,96.76196609477653,98.20961129504414,96.04703049888803,null,87.0,87.0,87.0,null,93.30486954912261,93.79044400539303,92.9998324369179,null,103.24613003731416,104.58985738111488,102.62777288857356,null,123.24626408936669,126.26490195164436,121.90415208995354,null,125.59973419790187,128.4660683377473,123.53933079159565,null,118.65951500188376,121.04798672922604,117.03753008015427,null,108.35597236405734,109.70922241924335,106.79453472819957,null,99.3967015832199,99.82243912481361,97.83834638119455,null,107.80109801582668,109.17778760554341,106.38641652360289,null,111.54391935419856,112.87947946507676,109.35128839933233,null,111.52633585915495,112.8486873204128,109.3130746352718,null,111.77186022216078,112.8634881520467,109.0943702890802,null,110.89892455824472,112.16969589016999,108.71011172301164,null,109.73435438781117,111.42217469503125,108.52012753335829,null,97.0,97.0,97.0,null,97.0,97.0,97.0,null,97.0,97.0,97.0,null,97.0,97.0,97.0,null,130.90406014917795,133.68673798732036,129.57456443198456,null,128.59631030055868,131.17186670209793,127.32521290794895,null,118.94791124587695,120.70285701289934,118.00312281460873,null,118.48575215787439,120.14211900771706,117.44919016537952,null,126.1879823958003,128.76785783102147,125.37732894984529,null,125.88556995248697,128.08094187560437,124.43500745320553,null,126.71795493580659,128.9299956220671,125.14116005477108,null,125.02006701755103,127.14869859207599,123.61122824794649,null,122.21596442487345,124.27339058715704,121.20509597372796,null,123.84364453688079,125.94423134138418,122.6050820247238,null],\"y\":[6,39.896863049785345,null,16,42.78302611684417,null,30,50.98627375931103,null,45,64.50078121274554,null,63,77.25561078599196,null,78,94.14254268553049,null,94,110.63954472318306,null,104,115.60655860309862,null,113,125.91538244770115,null,129,150.50365500002044,null,145,174.71806625445032,null,163,190.3518663985878,null,178,209.74653887425927,null,191,232.1019061063747,null,6,27.324995269659787,null,16,34.001487683528225,null,30,55.195648688135954,null,45,70.86605166258812,null,63,88.62299067277331,null,78,103.28797538284718,null,94,122.90966467961476,null,104,134.5350638013229,null,113,140.72175417516627,null,129,154.70853915439537,null,145,173.87710933530133,null,163,201.79356223880995,null,178,208.61087651986458,null,191,211.1943728612121,null,6,11.520371258049078,null,16,31.38983738084014,null,30,45.592595099397315,null,45,70.82619195345771,null,63,86.22717616928651,null,78,103.57766025091023,null,94,125.65737792765354,null,104,141.1640409585488,null,113,148.36691647522474,null,129,161.5097814831471,null,145,171.75338259561656,null,163,186.74691817179468,null,178,197.29085830289137,null,191,196.1313646040531,null,6,6.0,null,16,30.355520651293787,null,30,46.531954791356924,null,45,65.31031151449916,null,63,95.9788268192351,null,78,115.9073566436916,null,94,127.32431252098502,null,104,151.37207545618605,null,113,150.7983168068966,null,129,159.53193749723846,null,145,181.51665011029314,null,163,185.6823463438616,null,178,197.83437815129653,null,191,196.25088278238067,null,6,6.0,null,16,22.89405133169243,null,30,45.17505383378247,null,45,62.58850916164005,null,63,101.85472676542378,null,78,116.70979212699477,null,94,140.79816623536396,null,104,152.9148414451853,null,113,155.49938782946452,null,129,162.327694855607,null,145,173.25188117599086,null,163,185.21261575814663,null,178,196.93404627058138,null,191,205.00610721412798,null,6,56.0,null,16,21.05622096587095,null,30,39.572996130894786,null,45,76.25117551902098,null,63,108.2798237088526,null,78,117.98878700245427,null,94,128.53630595689353,null,104,136.8631657780078,null,113,138.9519601166234,null,129,161.04328293601844,null,145,169.15164644398897,null,163,187.75729651525927,null,178,209.07641022839692,null,191,214.71335599958135,null,6,6.0,null,16,24.41812468505305,null,30,42.911041906807,null,45,81.49077192912233,null,63,97.41399041475341,null,78,108.66362398199219,null,94,128.80716852984457,null,104,141.03026216712155,null,113,148.14254753017286,null,129,157.86325432673758,null,145,166.5678063846377,null,163,175.6534591499606,null,178,182.1349426558096,null,191,196.9544012546648,null,6,6.0,null,16,24.88560964507221,null,30,60.43827992881969,null,45,79.76911024765501,null,63,83.13799077551168,null,78,93.53115643983013,null,94,116.8954522885631,null,104,136.6503311441723,null,113,142.93187969005027,null,129,144.74804731227346,null,145,159.98946865177697,null,163,179.12690862401251,null,178,186.82116771455082,null,191,197.03129795510742,null,6,6.0,null,16,27.156536573243404,null,30,55.776626930822445,null,45,63.42090780280909,null,63,72.39060871594562,null,78,90.0233517565736,null,94,103.06534327454517,null,104,127.60129058516185,null,113,128.1111924662456,null,129,145.69443049784687,null,145,165.06760853339716,null,163,180.96901796348072,null,178,188.97170718644136,null,191,201.4516592054599,null,6,6.0,null,16,20.459344254385897,null,30,39.039776761800354,null,45,64.62036484697916,null,63,93.1210827273456,null,78,101.71183325575426,null,94,116.82669115150598,null,104,126.78162898349348,null,113,133.68125985896594,null,129,161.0541201688584,null,145,177.35571452549948,null,163,202.14228423866672,null,178,209.99830299393957,null,191,208.75080909922747,null,6,6.0,null,16,16.0,null,30,30.0,null,45,45.0,null,63,82.4359271396404,null,78,96.58220074774088,null,94,107.81188286282598,null,104,119.15352257349136,null,113,124.85096056145316,null,129,150.20580509055324,null,145,168.05119905663128,null,163,183.5958449684507,null,178,192.77790812722586,null,191,209.1065726146082,null,35.71837382368107,39.896863049785345,37.70482586075486,null,39.69702642717149,42.78302611684417,40.835463405653904,null,48.37174819616886,50.98627375931103,49.656670004569705,null,61.950975380415656,64.50078121274554,63.38563900403992,null,75.24885748892603,77.25561078599196,76.58318563097936,null,91.88548251826904,94.14254268553049,93.36579720432903,null,108.30349826217922,110.63954472318306,109.84837970626447,null,113.62263969029661,115.60655860309862,115.40915802149043,null,123.98792210761427,125.91538244770115,125.41554487164152,null,148.0240370288363,150.50365500002044,148.94190778651557,null,171.60747506844876,174.71806625445032,172.24348792778514,null,187.28403368897332,190.3518663985878,188.27922970430726,null,206.07817578957443,209.74653887425927,207.44850429581723,null,227.28878465815382,232.1019061063747,229.1903959809165,null,24.764331812462622,27.324995269659787,25.87787058821821,null,31.68028787029093,34.001487683528225,32.93951446888954,null,52.1815253438582,55.195648688135954,53.474539002782606,null,67.55646812745806,70.86605166258812,69.31440762247794,null,85.09926235446352,88.62299067277331,87.33117193954885,null,99.75525853110527,103.28797538284718,102.06810746221365,null,119.10768755193827,122.90966467961476,121.27840209352546,null,130.5357006178445,134.5350638013229,132.79571215893532,null,137.0417660774413,140.72175417516627,139.1917567061623,null,151.40001545791816,154.70853915439537,153.1854379439584,null,170.36144879672298,173.87710933530133,171.96564856347757,null,197.20179980625176,201.79356223880995,199.09451983740644,null,204.9057139445732,208.61087651986458,206.56307613885488,null,208.90958935905692,211.1943728612121,209.68385573155123,null,9.291525327902,11.520371258049078,12.711726761158687,null,29.413600786370544,31.38983738084014,30.473730650935615,null,43.56715015290499,45.592595099397315,44.6875907351284,null,67.46984204885189,70.82619195345771,69.32880545773061,null,82.84676579846126,86.22717616928651,85.24230533051718,null,99.91971167274933,103.57766025091023,102.42858111012126,null,121.47609236729045,125.65737792765354,123.88902260160728,null,136.41328849613933,141.1640409585488,138.9302384114916,null,144.04227291858413,148.36691647522474,146.04475394552128,null,157.39029035255317,161.5097814831471,159.5194322611259,null,168.12735816469055,171.75338259561656,170.35141578530997,null,183.4643198570823,186.74691817179468,185.5665557320186,null,194.63967779084723,197.29085830289137,196.31654337576478,null,195.54869843221385,196.1313646040531,195.74964968529417,null,5.239748286730265,6.0,6.760251713269735,null,28.606005130748507,30.355520651293787,29.40708080712697,null,44.25647553300226,46.531954791356924,45.700442864790716,null,62.369346866067914,65.31031151449916,64.43418619172283,null,91.57939028731086,95.9788268192351,94.18027131031701,null,111.06295599282521,115.9073566436916,113.62750463224266,null,123.07728340575612,127.32431252098502,125.3084195224673,null,145.60306078090977,151.37207545618605,148.2380521839641,null,146.31316180001735,150.7983168068966,148.1797119374621,null,155.50512632976557,159.53193749723846,157.82062139182105,null,176.8367178004924,181.51665011029314,179.33369709120117,null,182.45025033384323,185.6823463438616,184.6515556575926,null,195.18050805268672,197.83437815129653,196.76060449257622,null,195.6214467249413,196.25088278238067,195.89347567917707,null,4.895829815939032,6.0,7.104170184060968,null,21.753445716203494,22.89405133169243,22.73899911443924,null,42.8926174225385,45.17505383378247,44.60551302349958,null,59.80412725634931,62.58850916164005,62.067332612967085,null,96.84200988927444,101.85472676542378,99.56514363674883,null,111.85761780088022,116.70979212699477,114.28690525033063,null,135.43338611430178,140.79816623536396,137.36776806088938,null,147.35082057112373,152.9148414451853,149.28587920865618,null,150.40703792285245,155.49938782946452,152.60446550982334,null,157.84060460693988,162.327694855607,160.55122731955046,null,169.3423902153987,173.25188117599086,171.85175528370323,null,182.1530691691347,185.21261575814663,184.0975561239019,null,194.76769735866088,196.93404627058138,195.54195847008504,null,203.53492918685075,205.00610721412798,203.84499812239474,null,51.30153689607046,56.0,51.30153689607046,null,20.030233677088447,21.05622096587095,21.131949548515063,null,37.62476690852162,39.572996130894786,39.722090588665175,null,71.96677203468151,76.25117551902098,74.66227919813859,null,102.59496043628992,108.2798237088526,105.45486373947615,null,112.99834236045305,117.98878700245427,115.46379803237835,null,124.41061220202143,128.53630595689353,126.17129734038618,null,132.9551139010509,136.8631657780078,134.5949627795131,null,135.50623895716,138.9519601166234,137.52030819278255,null,156.78894327600713,161.04328293601844,159.27545529188345,null,165.7229346649199,169.15164644398897,168.0413334344087,null,184.7246310647128,187.75729651525927,186.13711219660618,null,205.65278988043306,209.07641022839692,206.65957590193273,null,212.22914668669657,214.71335599958135,212.74091218309098,null,6.0,6.0,6.0,null,22.932654346165442,24.41812468505305,24.32150509446065,null,40.641168402344114,42.911041906807,42.754433249973054,null,76.65688082525756,81.49077192912233,79.46664121127154,null,92.79963014465028,97.41399041475341,95.56063611594838,null,104.6497003806501,108.66362398199219,106.9146713468479,null,124.55618274713113,128.80716852984457,126.51654642896874,null,136.67406655383522,141.03026216712155,138.42704495956554,null,143.83256002615406,148.14254753017286,145.84789651624737,null,154.20933907034143,157.86325432673758,156.09265216259328,null,163.65984179681053,166.5678063846377,165.4223492712282,null,173.80515386813641,175.6534591499606,175.12369199365804,null,181.42670896962287,182.1349426558096,182.06606132178888,null,196.09342858691872,196.9544012546648,196.69631253836948,null,6.0,6.0,6.0,null,23.442953142336776,24.88560964507221,24.65831778487596,null,56.31343414465613,60.43827992881969,58.842600305277706,null,75.20339366166574,79.76911024765501,77.80037156744164,null,80.01250006941765,83.13799077551168,82.47877721576509,null,91.13519141010694,93.53115643983013,93.00821884979733,null,113.8446466786009,116.8954522885631,115.6433203855016,null,132.9422938255714,136.6503311441723,134.2221134142942,null,139.5891013977402,142.93187969005027,140.64930468816198,null,142.83472776435013,144.74804731227346,143.70170208997064,null,158.13736936033715,159.98946865177697,159.0244693269015,null,176.97440587781074,179.12690862401251,178.24854396419965,null,185.48899253573063,186.82116771455082,186.49550565175537,null,196.13644742702476,197.03129795510742,196.79263524675494,null,6.0,6.0,6.0,null,25.593066697184696,27.156536573243404,26.623263431021122,null,52.25589389902171,55.776626930822445,54.45293873949415,null,60.428765868193146,63.42090780280909,62.95105151132958,null,70.4087305591687,72.39060871594562,72.60762972971014,null,88.11377484261422,90.0233517565736,89.6732776859799,null,101.61951642971783,103.06534327454517,102.80744288337625,null,125.02328043086482,127.60129058516185,125.74370901867877,null,126.31687990920565,128.1111924662456,127.06552981292423,null,143.6365143728588,145.69443049784687,144.61481999342496,null,162.59498235443246,165.06760853339716,163.76875798123112,null,178.63018513231575,180.96901796348072,179.93078007803524,null,187.30856836373923,188.97170718644136,188.572839553039,null,199.81251710158978,201.4516592054599,201.12653190326205,null,6.0,6.0,6.0,null,19.808056102249907,20.459344254385897,20.272549828643797,null,37.58870705588208,39.039776761800354,38.79192416439548,null,61.433714901278826,64.62036484697916,64.11959237991277,null,88.8724037468459,93.1210827273456,91.70884987405157,null,98.3191400520724,101.71183325575426,100.64815951228847,null,113.90498267763866,116.82669115150598,115.45838497896747,null,124.20230287224102,126.78162898349348,125.0794093656917,null,130.9793321216139,133.68125985896594,132.49638214071274,null,157.15688782242836,161.0541201688584,158.9271484775962,null,173.43119473330196,177.35571452549948,175.19934908172354,null,197.5795292802223,202.14228423866672,199.34869606515522,null,206.13059177424998,209.99830299393957,207.85230037341384,null,206.24749109792322,208.75080909922747,207.91806623582704,null,6.0,6.0,6.0,null,16.0,16.0,16.0,null,30.0,30.0,30.0,null,45.0,45.0,45.0,null,79.35478707005768,82.4359271396404,81.86430774697259,null,93.66729838096371,96.58220074774088,96.00479173039516,null,105.70330496701233,107.81188286282598,107.32467587756825,null,116.9380501533812,119.15352257349136,118.52106432535702,null,122.65080981371938,124.85096056145316,124.82385927142246,null,147.15008041491242,150.20580509055324,149.27614205391063,null,164.7930247233482,168.05119905663128,166.97716505915767,null,180.6293223935259,183.5958449684507,182.69161483623475,null,190.4564341096856,192.77790812722586,192.32204390120486,null,206.4151603320579,209.1065726146082,208.3950623624242,null],\"type\":\"scatter\"}],                        {\"hovermode\":\"closest\",\"template\":{\"data\":{\"bar\":[{\"error_x\":{\"color\":\"#2a3f5f\"},\"error_y\":{\"color\":\"#2a3f5f\"},\"marker\":{\"line\":{\"color\":\"#E5ECF6\",\"width\":0.5},\"pattern\":{\"fillmode\":\"overlay\",\"size\":10,\"solidity\":0.2}},\"type\":\"bar\"}],\"barpolar\":[{\"marker\":{\"line\":{\"color\":\"#E5ECF6\",\"width\":0.5},\"pattern\":{\"fillmode\":\"overlay\",\"size\":10,\"solidity\":0.2}},\"type\":\"barpolar\"}],\"carpet\":[{\"aaxis\":{\"endlinecolor\":\"#2a3f5f\",\"gridcolor\":\"white\",\"linecolor\":\"white\",\"minorgridcolor\":\"white\",\"startlinecolor\":\"#2a3f5f\"},\"baxis\":{\"endlinecolor\":\"#2a3f5f\",\"gridcolor\":\"white\",\"linecolor\":\"white\",\"minorgridcolor\":\"white\",\"startlinecolor\":\"#2a3f5f\"},\"type\":\"carpet\"}],\"choropleth\":[{\"colorbar\":{\"outlinewidth\":0,\"ticks\":\"\"},\"type\":\"choropleth\"}],\"contour\":[{\"colorbar\":{\"outlinewidth\":0,\"ticks\":\"\"},\"colorscale\":[[0.0,\"#0d0887\"],[0.1111111111111111,\"#46039f\"],[0.2222222222222222,\"#7201a8\"],[0.3333333333333333,\"#9c179e\"],[0.4444444444444444,\"#bd3786\"],[0.5555555555555556,\"#d8576b\"],[0.6666666666666666,\"#ed7953\"],[0.7777777777777778,\"#fb9f3a\"],[0.8888888888888888,\"#fdca26\"],[1.0,\"#f0f921\"]],\"type\":\"contour\"}],\"contourcarpet\":[{\"colorbar\":{\"outlinewidth\":0,\"ticks\":\"\"},\"type\":\"contourcarpet\"}],\"heatmap\":[{\"colorbar\":{\"outlinewidth\":0,\"ticks\":\"\"},\"colorscale\":[[0.0,\"#0d0887\"],[0.1111111111111111,\"#46039f\"],[0.2222222222222222,\"#7201a8\"],[0.3333333333333333,\"#9c179e\"],[0.4444444444444444,\"#bd3786\"],[0.5555555555555556,\"#d8576b\"],[0.6666666666666666,\"#ed7953\"],[0.7777777777777778,\"#fb9f3a\"],[0.8888888888888888,\"#fdca26\"],[1.0,\"#f0f921\"]],\"type\":\"heatmap\"}],\"heatmapgl\":[{\"colorbar\":{\"outlinewidth\":0,\"ticks\":\"\"},\"colorscale\":[[0.0,\"#0d0887\"],[0.1111111111111111,\"#46039f\"],[0.2222222222222222,\"#7201a8\"],[0.3333333333333333,\"#9c179e\"],[0.4444444444444444,\"#bd3786\"],[0.5555555555555556,\"#d8576b\"],[0.6666666666666666,\"#ed7953\"],[0.7777777777777778,\"#fb9f3a\"],[0.8888888888888888,\"#fdca26\"],[1.0,\"#f0f921\"]],\"type\":\"heatmapgl\"}],\"histogram\":[{\"marker\":{\"pattern\":{\"fillmode\":\"overlay\",\"size\":10,\"solidity\":0.2}},\"type\":\"histogram\"}],\"histogram2d\":[{\"colorbar\":{\"outlinewidth\":0,\"ticks\":\"\"},\"colorscale\":[[0.0,\"#0d0887\"],[0.1111111111111111,\"#46039f\"],[0.2222222222222222,\"#7201a8\"],[0.3333333333333333,\"#9c179e\"],[0.4444444444444444,\"#bd3786\"],[0.5555555555555556,\"#d8576b\"],[0.6666666666666666,\"#ed7953\"],[0.7777777777777778,\"#fb9f3a\"],[0.8888888888888888,\"#fdca26\"],[1.0,\"#f0f921\"]],\"type\":\"histogram2d\"}],\"histogram2dcontour\":[{\"colorbar\":{\"outlinewidth\":0,\"ticks\":\"\"},\"colorscale\":[[0.0,\"#0d0887\"],[0.1111111111111111,\"#46039f\"],[0.2222222222222222,\"#7201a8\"],[0.3333333333333333,\"#9c179e\"],[0.4444444444444444,\"#bd3786\"],[0.5555555555555556,\"#d8576b\"],[0.6666666666666666,\"#ed7953\"],[0.7777777777777778,\"#fb9f3a\"],[0.8888888888888888,\"#fdca26\"],[1.0,\"#f0f921\"]],\"type\":\"histogram2dcontour\"}],\"mesh3d\":[{\"colorbar\":{\"outlinewidth\":0,\"ticks\":\"\"},\"type\":\"mesh3d\"}],\"parcoords\":[{\"line\":{\"colorbar\":{\"outlinewidth\":0,\"ticks\":\"\"}},\"type\":\"parcoords\"}],\"pie\":[{\"automargin\":true,\"type\":\"pie\"}],\"scatter\":[{\"marker\":{\"colorbar\":{\"outlinewidth\":0,\"ticks\":\"\"}},\"type\":\"scatter\"}],\"scatter3d\":[{\"line\":{\"colorbar\":{\"outlinewidth\":0,\"ticks\":\"\"}},\"marker\":{\"colorbar\":{\"outlinewidth\":0,\"ticks\":\"\"}},\"type\":\"scatter3d\"}],\"scattercarpet\":[{\"marker\":{\"colorbar\":{\"outlinewidth\":0,\"ticks\":\"\"}},\"type\":\"scattercarpet\"}],\"scattergeo\":[{\"marker\":{\"colorbar\":{\"outlinewidth\":0,\"ticks\":\"\"}},\"type\":\"scattergeo\"}],\"scattergl\":[{\"marker\":{\"colorbar\":{\"outlinewidth\":0,\"ticks\":\"\"}},\"type\":\"scattergl\"}],\"scattermapbox\":[{\"marker\":{\"colorbar\":{\"outlinewidth\":0,\"ticks\":\"\"}},\"type\":\"scattermapbox\"}],\"scatterpolar\":[{\"marker\":{\"colorbar\":{\"outlinewidth\":0,\"ticks\":\"\"}},\"type\":\"scatterpolar\"}],\"scatterpolargl\":[{\"marker\":{\"colorbar\":{\"outlinewidth\":0,\"ticks\":\"\"}},\"type\":\"scatterpolargl\"}],\"scatterternary\":[{\"marker\":{\"colorbar\":{\"outlinewidth\":0,\"ticks\":\"\"}},\"type\":\"scatterternary\"}],\"surface\":[{\"colorbar\":{\"outlinewidth\":0,\"ticks\":\"\"},\"colorscale\":[[0.0,\"#0d0887\"],[0.1111111111111111,\"#46039f\"],[0.2222222222222222,\"#7201a8\"],[0.3333333333333333,\"#9c179e\"],[0.4444444444444444,\"#bd3786\"],[0.5555555555555556,\"#d8576b\"],[0.6666666666666666,\"#ed7953\"],[0.7777777777777778,\"#fb9f3a\"],[0.8888888888888888,\"#fdca26\"],[1.0,\"#f0f921\"]],\"type\":\"surface\"}],\"table\":[{\"cells\":{\"fill\":{\"color\":\"#EBF0F8\"},\"line\":{\"color\":\"white\"}},\"header\":{\"fill\":{\"color\":\"#C8D4E3\"},\"line\":{\"color\":\"white\"}},\"type\":\"table\"}]},\"layout\":{\"annotationdefaults\":{\"arrowcolor\":\"#2a3f5f\",\"arrowhead\":0,\"arrowwidth\":1},\"autotypenumbers\":\"strict\",\"coloraxis\":{\"colorbar\":{\"outlinewidth\":0,\"ticks\":\"\"}},\"colorscale\":{\"diverging\":[[0,\"#8e0152\"],[0.1,\"#c51b7d\"],[0.2,\"#de77ae\"],[0.3,\"#f1b6da\"],[0.4,\"#fde0ef\"],[0.5,\"#f7f7f7\"],[0.6,\"#e6f5d0\"],[0.7,\"#b8e186\"],[0.8,\"#7fbc41\"],[0.9,\"#4d9221\"],[1,\"#276419\"]],\"sequential\":[[0.0,\"#0d0887\"],[0.1111111111111111,\"#46039f\"],[0.2222222222222222,\"#7201a8\"],[0.3333333333333333,\"#9c179e\"],[0.4444444444444444,\"#bd3786\"],[0.5555555555555556,\"#d8576b\"],[0.6666666666666666,\"#ed7953\"],[0.7777777777777778,\"#fb9f3a\"],[0.8888888888888888,\"#fdca26\"],[1.0,\"#f0f921\"]],\"sequentialminus\":[[0.0,\"#0d0887\"],[0.1111111111111111,\"#46039f\"],[0.2222222222222222,\"#7201a8\"],[0.3333333333333333,\"#9c179e\"],[0.4444444444444444,\"#bd3786\"],[0.5555555555555556,\"#d8576b\"],[0.6666666666666666,\"#ed7953\"],[0.7777777777777778,\"#fb9f3a\"],[0.8888888888888888,\"#fdca26\"],[1.0,\"#f0f921\"]]},\"colorway\":[\"#636efa\",\"#EF553B\",\"#00cc96\",\"#ab63fa\",\"#FFA15A\",\"#19d3f3\",\"#FF6692\",\"#B6E880\",\"#FF97FF\",\"#FECB52\"],\"font\":{\"color\":\"#2a3f5f\"},\"geo\":{\"bgcolor\":\"white\",\"lakecolor\":\"white\",\"landcolor\":\"#E5ECF6\",\"showlakes\":true,\"showland\":true,\"subunitcolor\":\"white\"},\"hoverlabel\":{\"align\":\"left\"},\"hovermode\":\"closest\",\"mapbox\":{\"style\":\"light\"},\"paper_bgcolor\":\"white\",\"plot_bgcolor\":\"#E5ECF6\",\"polar\":{\"angularaxis\":{\"gridcolor\":\"white\",\"linecolor\":\"white\",\"ticks\":\"\"},\"bgcolor\":\"#E5ECF6\",\"radialaxis\":{\"gridcolor\":\"white\",\"linecolor\":\"white\",\"ticks\":\"\"}},\"scene\":{\"xaxis\":{\"backgroundcolor\":\"#E5ECF6\",\"gridcolor\":\"white\",\"gridwidth\":2,\"linecolor\":\"white\",\"showbackground\":true,\"ticks\":\"\",\"zerolinecolor\":\"white\"},\"yaxis\":{\"backgroundcolor\":\"#E5ECF6\",\"gridcolor\":\"white\",\"gridwidth\":2,\"linecolor\":\"white\",\"showbackground\":true,\"ticks\":\"\",\"zerolinecolor\":\"white\"},\"zaxis\":{\"backgroundcolor\":\"#E5ECF6\",\"gridcolor\":\"white\",\"gridwidth\":2,\"linecolor\":\"white\",\"showbackground\":true,\"ticks\":\"\",\"zerolinecolor\":\"white\"}},\"shapedefaults\":{\"line\":{\"color\":\"#2a3f5f\"}},\"ternary\":{\"aaxis\":{\"gridcolor\":\"white\",\"linecolor\":\"white\",\"ticks\":\"\"},\"baxis\":{\"gridcolor\":\"white\",\"linecolor\":\"white\",\"ticks\":\"\"},\"bgcolor\":\"#E5ECF6\",\"caxis\":{\"gridcolor\":\"white\",\"linecolor\":\"white\",\"ticks\":\"\"}},\"title\":{\"x\":0.05},\"xaxis\":{\"automargin\":true,\"gridcolor\":\"white\",\"linecolor\":\"white\",\"ticks\":\"\",\"title\":{\"standoff\":15},\"zerolinecolor\":\"white\",\"zerolinewidth\":2},\"yaxis\":{\"automargin\":true,\"gridcolor\":\"white\",\"linecolor\":\"white\",\"ticks\":\"\",\"title\":{\"standoff\":15},\"zerolinecolor\":\"white\",\"zerolinewidth\":2}}}},                        {\"responsive\": true}                    ).then(function(){\n",
              "                            \n",
              "var gd = document.getElementById('63a0b570-065e-4dfb-9990-3e61b43e368c');\n",
              "var x = new MutationObserver(function (mutations, observer) {{\n",
              "        var display = window.getComputedStyle(gd).display;\n",
              "        if (!display || display === 'none') {{\n",
              "            console.log([gd, 'removed!']);\n",
              "            Plotly.purge(gd);\n",
              "            observer.disconnect();\n",
              "        }}\n",
              "}});\n",
              "\n",
              "// Listen for the removal of the full notebook cells\n",
              "var notebookContainer = gd.closest('#notebook-container');\n",
              "if (notebookContainer) {{\n",
              "    x.observe(notebookContainer, {childList: true});\n",
              "}}\n",
              "\n",
              "// Listen for the clearing of the current output cell\n",
              "var outputEl = gd.closest('.output');\n",
              "if (outputEl) {{\n",
              "    x.observe(outputEl, {childList: true});\n",
              "}}\n",
              "\n",
              "                        })                };                            </script>        </div>\n",
              "</body>\n",
              "</html>"
            ]
          },
          "metadata": {}
        }
      ]
    },
    {
      "cell_type": "code",
      "source": [
        "tampilan_vektor(angin_pred,50,0.1)"
      ],
      "metadata": {
        "colab": {
          "base_uri": "https://localhost:8080/",
          "height": 542
        },
        "id": "JSweH9zBXPfy",
        "outputId": "7fa87b77-c57a-49c8-8d33-277fa990daef"
      },
      "execution_count": 25,
      "outputs": [
        {
          "output_type": "display_data",
          "data": {
            "text/html": [
              "<html>\n",
              "<head><meta charset=\"utf-8\" /></head>\n",
              "<body>\n",
              "    <div>            <script src=\"https://cdnjs.cloudflare.com/ajax/libs/mathjax/2.7.5/MathJax.js?config=TeX-AMS-MML_SVG\"></script><script type=\"text/javascript\">if (window.MathJax) {MathJax.Hub.Config({SVG: {font: \"STIX-Web\"}});}</script>                <script type=\"text/javascript\">window.PlotlyConfig = {MathJaxConfig: 'local'};</script>\n",
              "        <script src=\"https://cdn.plot.ly/plotly-2.8.3.min.js\"></script>                <div id=\"09ca2040-1fe0-4d10-8b32-dcab55ae2f97\" class=\"plotly-graph-div\" style=\"height:525px; width:100%;\"></div>            <script type=\"text/javascript\">                                    window.PLOTLYENV=window.PLOTLYENV || {};                                    if (document.getElementById(\"09ca2040-1fe0-4d10-8b32-dcab55ae2f97\")) {                    Plotly.newPlot(                        \"09ca2040-1fe0-4d10-8b32-dcab55ae2f97\",                        [{\"mode\":\"lines\",\"x\":[1,26.99940112251519,null,1,16.271197516668256,null,1,18.29000523565345,null,1,22.574514356988995,null,1,21.30011757977259,null,1,23.128946130321943,null,1,24.577721704007836,null,1,27.714716228279027,null,1,22.155726027915296,null,1,14.577864999851268,null,1,10.884552650435555,null,1,17.395134992379223,null,1,21.29818606664802,null,1,25.957571927551626,null,11,29.9105184968843,null,11,32.811609702234705,null,11,33.311429333555154,null,11,37.55681126110211,null,11,43.321714124441165,null,11,43.928880385462314,null,11,41.953815234874,null,11,43.177629764460114,null,11,41.61097735550628,null,11,37.20277717425368,null,11,35.73311401823416,null,11,41.399680434524626,null,11,38.93194831754473,null,11,29.324023664782388,null,20,68.98007448871675,null,20,40.007198813625834,null,20,39.831523731197855,null,20,47.622528527932545,null,20,54.152001122244634,null,20,54.930387920501,null,20,52.55284969865879,null,20,53.75583239614397,null,20,47.761509224840175,null,20,51.49276632271225,null,20,54.08488855789243,null,20,53.386378314116534,null,20,49.247458380433386,null,20,34.09430514456075,null,30,51.814618659589634,null,30,48.4048944543825,null,30,55.17810861174776,null,30,60.570578793746364,null,30,66.00103236599205,null,30,63.91269758875443,null,30,57.75283208581422,null,30,58.37837289655581,null,30,55.2054139961522,null,30,64.72684331133644,null,30,67.7893670726396,null,30,65.0704216801001,null,30,59.69382426481355,null,30,46.91948696102299,null,39,70.69409132371835,null,39,61.01308849149366,null,39,67.84459722052368,null,39,71.84299069275048,null,39,75.56621099970894,null,39,69.96032581347399,null,39,65.89482472865078,null,39,68.27667187799148,null,39,72.8599782438965,null,39,79.38792899914178,null,39,76.95719895578587,null,39,71.24607265182246,null,39,60.7527831022391,null,39,56.24492918251491,null,49,49.83333382934914,null,49,71.69935322109484,null,49,81.05350484814136,null,49,85.62930108692902,null,49,84.43399966426853,null,49,80.60334068750723,null,49,77.20011403507911,null,49,78.96383596078604,null,49,81.70292449117795,null,49,86.55768757180707,null,49,85.04731346550072,null,49,77.07076475556624,null,49,74.31465696966204,null,49,71.11105951160928,null,59,59.97039030182473,null,59,85.23707241289247,null,59,89.61446723890172,null,59,93.7930829682999,null,59,92.99234373185776,null,59,91.3512379232032,null,59,90.23639364613776,null,59,88.82503752025846,null,59,91.31349982987481,null,59,89.88902034857941,null,59,90.32027475219928,null,59,87.94141527008284,null,59,79.800988622608,null,59,82.02153140378759,null,69,69.88883997152999,null,69,92.65815063953362,null,69,104.18642032036388,null,69,101.18259985188514,null,69,104.67945325497064,null,69,98.60727373421307,null,69,98.83349866493984,null,69,93.58068316132774,null,69,92.10083169859972,null,69,90.37873399369067,null,69,91.78832756342554,null,69,96.03819522338777,null,69,92.46393499628243,null,69,91.16818613834849,null,79,79.91202733708397,null,79,101.86946428223384,null,79,114.68473465365372,null,79,117.7751140024543,null,79,112.90431088339227,null,79,106.1098375682704,null,79,102.63529714767884,null,79,98.59260401380753,null,79,99.37938743371996,null,79,102.38687135986787,null,79,104.0667209451656,null,79,105.24080130173189,null,79,104.86352501405625,null,79,107.24783416731412,null,87,87.96280813452026,null,87,103.91528028143767,null,87,113.39765250971153,null,87,128.32922662356606,null,87,128.57676900631355,null,87,123.65793925841604,null,87,115.95008221941463,null,87,108.73372226777441,null,87,114.06907678071215,null,87,117.71468098491793,null,87,118.6275451756436,null,87,120.12701693244655,null,87,119.15373816843834,null,87,118.61593074151997,null,97,97.97378924433042,null,97,98.0136854244155,null,97,98.00524604672215,null,97,97.97948545629997,null,97,133.3869012962947,null,97,133.29198070448174,null,97,126.50208729908883,null,97,122.11843411502424,null,97,130.13751912996042,null,97,131.51336967363895,null,97,133.5350561804423,null,97,132.26602360156247,null,97,128.9852117989672,null,97,130.29236464565133,null,25.672995271141758,26.99940112251519,23.43951789795255,null,15.7148318185233,16.271197516668256,13.957516891417763,null,17.387699102523214,18.29000523565345,15.942853302125028,null,21.26405908262087,22.574514356988995,19.83028724369668,null,20.01971470751701,21.30011757977259,18.76534631386845,null,21.777166717478412,23.128946130321943,20.32184406627899,null,23.106609598737755,24.577721704007836,21.61767158923793,null,25.753454984881117,27.714716228279027,24.655253130456266,null,20.71464053661015,22.155726027915296,19.620835592060367,null,14.015919893319483,14.577864999851268,12.588006197105553,null,10.951740408049666,10.884552650435555,8.959676655744628,null,16.70014060659288,17.395134992379223,15.008851904340048,null,20.355350511797383,21.29818606664802,18.42621048906496,null,24.82072740927107,25.957571927551626,22.403927211221422,null,29.060128498988178,29.9105184968843,27.206893557428902,null,31.556811592712997,32.811609702234705,29.967166074825958,null,32.21218545753459,33.311429333555154,30.217496108790115,null,36.07958017011475,37.55681126110211,34.04299443735712,null,41.29365895513928,43.321714124441165,39.27527404296525,null,41.80304575084575,43.928880385462314,39.866109838286725,null,40.100560302369736,41.953815234874,37.989655815101955,null,41.224714276837815,43.177629764460114,39.08312900327358,null,39.715297433261476,41.61097735550628,37.75367537054833,null,35.655156635411444,37.20277717425368,33.8258864421472,null,34.403447140581015,35.73311401823416,32.41447594948907,null,39.79500340588041,41.399680434524626,37.291086387454335,null,37.27371692345951,38.93194831754473,35.34069056799592,null,28.322577511442923,29.324023664782388,26.881679853941378,null,64.88584764256171,68.98007448871675,63.86905842235355,null,38.88457652928099,40.007198813625834,37.369697680418525,null,38.63998172347614,39.831523731197855,37.29595843709012,null,46.00043313320129,47.622528527932545,44.05328667763451,null,51.770111080612985,54.152001122244634,50.11541447594722,null,52.40241122252772,54.930387920501,50.893599064457476,null,50.36160492560868,52.55284969865879,48.62615994223241,null,51.66579470227792,53.75583239614397,49.501848767781546,null,46.22265082342662,47.761509224840175,44.08291055416128,null,49.58067444484558,51.49276632271225,47.48615417626139,null,51.76670179116048,54.08488855789243,49.997211672992066,null,51.003505179985865,53.386378314116534,49.494664780938805,null,47.17933622846694,49.247458380433386,45.818856369032595,null,33.145104568286484,34.09430514456075,32.39464281294529,null,49.79664197250228,51.814618659589634,49.732788110742,null,47.54548484807406,48.4048944543825,45.80531535966559,null,53.54681674015235,55.17810861174776,52.07746390978207,null,58.46374532743477,60.570578793746364,56.932022798930426,null,63.666857015638165,66.00103236599205,61.56922682534645,null,61.77064854451109,63.91269758875443,59.68124429797845,null,55.992983795225456,57.75283208581422,54.29685407301298,null,57.056027296924654,58.37837289655581,54.3673289760261,null,53.898344249716175,55.2054139961522,51.775415435380616,null,62.3351680334154,64.72684331133644,60.59200690868721,null,65.43324776621226,67.7893670726396,63.04340850260107,null,62.53159443317442,65.0704216801001,61.018165634897734,null,57.66317287237732,59.69382426481355,56.14386214833801,null,45.742423217763424,46.91948696102299,44.916727295331214,null,67.74882852828772,70.69409132371835,67.68281337126642,null,59.67108615467678,61.01308849149366,58.21798346507778,null,65.83310938393656,67.84459722052368,64.43507402557724,null,69.44025180319953,71.84299069275048,68.07326638259785,null,73.35612669419268,75.56621099970894,70.9040955759198,null,68.17014991956827,69.96032581347399,65.9318637665699,null,64.45462261350218,65.89482472865078,62.28045317683066,null,66.73540917796461,68.27667187799148,64.31572007303456,null,70.95642654282875,72.8599782438965,68.39993560581208,null,76.63144512730413,79.38792899914178,74.55396510111568,null,74.29140218263264,76.95719895578587,72.48937577604819,null,68.97386880655795,71.24607265182246,67.45799719303821,null,59.50957033023397,60.7527831022391,57.90780992169813,null,55.27052341760677,56.24492918251491,53.97834840766608,null,51.430738063374704,49.83333382934914,48.07931406530544,null,70.18460125801052,71.69935322109484,68.94802224048402,null,78.54810587448125,81.05350484814136,77.53481542657671,null,83.27222070654489,85.62930108692902,81.10232468012666,null,82.43271828325534,84.43399966426853,79.77586744339301,null,78.75197007392585,80.60334068750723,76.51522609384187,null,75.5258176215158,77.20011403507911,73.57452263582543,null,77.02434537344485,78.96383596078604,75.27196743956922,null,79.34623159562113,81.70292449117795,77.91347802223905,null,84.02854964121187,86.55768757180707,82.02828912940032,null,82.4162220608095,85.04731346550072,80.90372597765443,null,75.27401062518143,77.07076475556624,73.5919407858265,null,73.01228619610782,74.31465696966204,70.85942847279266,null,69.92976264411139,71.11105951160928,68.13683648694372,null,59.91076733061673,59.97039030182473,59.847639551851344,null,83.48610822196181,85.23707241289247,82.05707993633902,null,87.3448359145551,89.61446723890172,86.13046077251077,null,91.6922852597619,93.7930829682999,89.35492001289724,null,90.83179385222732,92.99234373185776,88.76442269787923,null,89.26468050883675,91.3512379232032,87.35775142762499,null,88.42123365269319,90.23639364613776,86.18103191773442,null,87.21493175718811,88.82503752025846,84.82986974883886,null,89.40855212836813,91.31349982987481,87.14549606300149,null,87.96944667819409,89.88902034857941,86.00335712199156,null,88.1484061553276,90.32027475219928,86.60585713594519,null,85.77353993677742,87.94141527008284,84.67008373050878,null,78.12372871340743,79.800988622608,77.5689414290653,null,80.2599374786934,82.02153140378759,79.45649269301573,null,69.8330111569413,69.88883997152999,69.77762151365744,null,91.19129966987607,92.65815063953362,89.67872369370893,null,101.945848329708,104.18642032036388,99.8141084056363,null,99.21243288138544,101.18259985188514,97.10441650268042,null,102.04675098486766,104.67945325497064,100.60661173759928,null,96.48726678887267,98.60727373421307,95.16293334962776,null,96.88227769919376,98.83349866493984,95.17785592115187,null,92.39537997814901,93.58068316132774,90.14632902839125,null,90.97321409397198,92.10083169859972,88.8869130869892,null,88.96301615750475,90.37873399369067,87.7765641147534,null,90.2102800347579,91.78832756342554,89.08357044181257,null,94.123686159898,96.03819522338777,92.8711857807203,null,90.65476609168273,92.46393499628243,89.86332658676076,null,89.45507778755237,91.16818613834849,88.7150383030617,null,79.85599416094546,79.91202733708397,79.79665544149991,null,100.55966536503794,101.86946428223384,98.88120983396132,null,112.22251977951005,114.68473465365372,110.44041316204907,null,114.7517147459582,117.7751140024543,113.51117555930267,null,110.29978443390915,112.90431088339227,109.13691118288436,null,104.25553731902713,106.1098375682704,102.869154954792,null,100.92436959087628,102.63529714767884,99.90424184053019,null,97.62449904947879,98.59260401380753,95.87850389538521,null,98.07951788289284,99.37938743371996,96.84918498702633,null,100.91064083429566,102.38687135986787,99.46780779741265,null,102.52910846148858,104.0667209451656,100.89333088894828,null,103.50087089975366,105.24080130173189,102.04907423436077,null,103.01619873243769,104.86352501405625,101.85009857503073,null,105.17308819254089,107.24783416731412,104.01372387804552,null,87.88441620180355,87.96280813452026,87.8602513273887,null,102.99059846585513,103.91528028143767,101.66092928522174,null,111.50527531598543,113.39765250971153,110.32889384954834,null,125.30866626533413,128.32922662356606,123.58243312560728,null,125.85049920597511,128.57676900631355,123.48916220038137,null,121.10155983971093,123.65793925841604,119.32487967425082,null,114.08267572012264,115.95008221941463,112.37665299216076,null,107.49459245677151,108.73372226777441,105.88824839132971,null,112.28409552703927,114.06907678071215,110.76673569392057,null,115.88311806863136,117.71468098491793,113.77377208694037,null,116.601377032202,118.6275451756436,114.70967915606016,null,118.18754594079498,120.12701693244655,115.84064525208414,null,117.24077185254973,119.15373816843834,115.0237783868142,null,116.4852699786046,118.61593074151997,114.80474014101841,null,97.91535690477566,97.97378924433042,97.84920907046558,null,97.95035590736285,98.0136854244155,97.88650439884385,null,97.94370063698065,98.00524604672215,97.87786699802786,null,97.92048719439876,97.97948545629997,97.85440066711074,null,130.87707057395485,133.3869012962947,129.0582314903559,null,130.73604602050665,133.29198070448174,129.02725409611563,null,124.44357202517989,126.50208729908883,123.01602382645068,null,120.57001920814677,122.11843411502424,118.94612758518464,null,127.97001498040217,130.13751912996042,126.07720684000354,null,129.259989376381,131.51336967363895,127.28035821074198,null,131.13393278101051,133.5350561804423,129.06983504132202,null,129.90503466815147,132.26602360156247,127.99916810640347,null,126.87247613341584,128.9852117989672,125.0866939641658,null,128.0592162891653,130.29236464565133,126.2685951249309,null],\"y\":[6,38.65125485697655,null,16,41.6902255817172,null,30,51.12223254380689,null,45,65.96034205738236,null,63,81.33763914387585,null,78,99.27539385616939,null,94,115.76681751872832,null,104,120.05463707117319,null,113,128.99035854897403,null,129,149.87470174021712,null,145,174.1220238219743,null,163,187.72498674796472,null,178,206.20214043497887,null,191,226.3312552668629,null,6,33.092482383334946,null,16,39.23906279948823,null,30,59.16040747408765,null,45,74.77289163373064,null,63,92.50681343718605,null,78,106.31610871986989,null,94,124.8593591409877,null,104,135.30788223085796,null,113,141.67699609208844,null,129,155.7421412007659,null,145,174.07681360156118,null,163,199.60481798058697,null,178,206.25895481867823,null,191,212.0645145559385,null,6,20.86446398041508,null,16,38.14604722009038,null,30,49.64830599328543,null,45,73.46537687274056,null,63,87.1900460682835,null,78,100.05735813392667,null,94,119.37050839318246,null,104,135.63477322497766,null,113,144.2809100724207,null,129,159.61983788758613,null,145,170.86821496772953,null,163,185.05777098938805,null,178,197.88888499673695,null,191,201.9710169121034,null,6,6.9334810099105395,null,16,41.43957603619117,null,30,51.480501354143605,null,45,67.39228534334971,null,63,93.66530190144924,null,78,108.54504664865784,null,94,118.79575772526107,null,104,143.3061399067715,null,113,144.03514304293657,null,129,154.48331083336748,null,145,179.93711277314458,null,163,185.1248488986745,null,178,200.21083690080548,null,191,203.07086685602007,null,6,6.965077032881686,null,16,37.242940188691875,null,30,50.43790966177267,null,45,64.98398993856988,null,63,98.84629686471538,null,78,110.72155451480387,null,94,125.78423082820153,null,104,139.37348826010606,null,113,150.37339725313217,null,129,159.3707262091037,null,145,171.34386368390835,null,163,185.16056046845668,null,178,201.41617065242053,null,191,209.8903348992268,null,6,54.99454116183533,null,16,34.077575862966484,null,30,44.813315351132566,null,45,76.72175774969018,null,63,101.84056088083224,null,78,110.69900945503906,null,94,122.52602432588817,null,104,129.61805156907104,null,113,133.94545601101967,null,129,158.24185242953536,null,145,167.11121351579123,null,163,187.59021598843788,null,178,209.4726744217698,null,191,217.21082693747164,null,6,6.922866386633726,null,16,36.89099594730715,null,30,47.7529769187894,null,45,79.169993967856,null,63,93.22294438926598,null,78,105.87743819222936,null,94,126.74955844962722,null,104,138.8672739733667,null,113,146.08366640867382,null,129,157.74230647769815,null,145,167.5505580516877,null,163,179.13145055637767,null,178,186.11044751557029,null,191,202.74557699826235,null,6,6.8097424137841065,null,16,38.112381473492405,null,30,61.16395285002061,null,45,75.81713781836791,null,63,84.05342734005406,null,78,97.36045968473707,null,94,118.9169794718635,null,104,136.87892531546373,null,113,143.49968032140455,null,129,146.3447685158946,null,145,161.4713923277976,null,163,181.3103305992285,null,178,189.5700715347686,null,191,201.81865350524117,null,6,6.867474045074691,null,16,40.53737833619952,null,30,56.052655848461,null,45,63.13546966259074,null,63,80.00006964089116,null,78,98.2675542842959,null,94,108.91327002595185,null,104,129.52474157101122,null,113,130.98626367299943,null,129,150.09280790969618,null,145,168.913468321407,null,163,184.22384739208906,null,178,195.04724385628683,null,191,207.94877242056805,null,6,6.35326683071758,null,16,35.43846300548579,null,30,47.19754653919551,null,45,70.2358402482033,null,63,97.52043763611444,null,78,103.97332642727378,null,94,118.94038379396596,null,104,127.48317923357322,null,113,135.18231678351592,null,129,159.8365753136723,null,145,172.65477287021338,null,163,197.30939280199257,null,178,210.41027625125176,null,191,215.56770266869935,null,6,6.967016645085546,null,16,16.933446607824525,null,30,30.962423416244658,null,45,45.966120396381086,null,63,89.58964857907613,null,78,102.98086673748806,null,94,114.86935852444678,null,104,127.73970736302327,null,113,140.67100384781003,null,129,157.94027156397635,null,145,175.1750902683393,null,163,190.86190519681244,null,178,204.10638882093036,null,191,217.17713019506868,null,34.69380864229604,38.65125485697655,36.47227242195688,null,38.75382832483015,41.6902255817172,39.79843975751125,null,48.54603893133298,51.12223254380689,49.728744945092934,null,63.25282233207938,65.96034205738236,64.7286060305912,null,78.92015981284618,81.33763914387585,80.30876963767852,null,96.51930626235989,99.27539385616939,98.03301532778764,null,112.91500016304433,115.76681751872832,114.52781131434382,null,117.6322975653254,120.05463707117319,119.45969177998552,null,126.76418791093224,128.99035854897403,128.21132480057747,null,147.44873108824768,149.87470174021712,148.37751175490882,null,171.04737712176703,174.1220238219743,171.72352034460943,null,184.8408513463618,187.72498674796472,185.96234463034926,null,202.85776725849053,206.20214043497887,204.24624496004373,null,222.15760404835328,226.3312552668629,223.86480251389767,null,29.899843981229033,33.092482383334946,31.193399630562446,null,36.3093042291701,39.23906279948823,37.80130620447448,null,55.6571296759903,59.16040747408765,57.18332132768291,null,71.06685853758363,74.77289163373064,72.88345141634261,null,88.62861222246576,92.50681343718605,90.8395476819403,null,102.5290308396276,106.31610871986989,104.78149891742552,null,120.90084510198008,124.8593591409877,123.01821076660165,null,131.2653638859887,135.30788223085796,133.4664433947729,null,137.93528284443735,141.67699609208844,140.02919701693116,null,152.33301416526157,155.7421412007659,154.12538968619532,null,170.49856456368508,174.07681360156118,172.1904092039664,null,195.12535994050302,199.60481798058697,197.20482055235715,null,202.64815279056162,206.25895481867823,204.55881058394797,null,209.45837914706004,212.0645145559385,210.7118161870864,null,17.792444059308398,20.86446398041508,21.142878478654968,null,35.38071300428271,38.14604722009038,36.749286005439004,null,47.12369111911098,49.64830599328543,48.48024723689311,null,69.84576029660606,73.46537687274056,71.73525252983423,null,83.74885805773093,87.1900460682835,86.08499252146862,null,96.78995483837929,100.05735813392667,99.17933409497748,null,115.87308740895699,119.37050839318246,118.09983347287583,null,131.50755946558232,135.63477322497766,133.81659439242358,null,140.3919664993669,144.2809100724207,142.29096557217025,null,155.665398271182,159.61983788758613,157.81963036146516,null,167.27162604894065,170.86821496772953,169.6031697429026,null,181.84313713680478,185.05777098938805,184.1268999160286,null,195.0196191593089,197.88888499673695,197.02026314074635,null,200.45802492205948,201.9710169121034,201.42213217518315,null,6.099658588190103,6.9334810099105395,7.591866388299634,null,38.41955338455991,41.43957603619117,39.678522312396254,null,48.600852461210636,51.480501354143605,50.32313652442248,null,64.24252343932332,67.39228534334971,66.33367418744048,null,89.55239828538399,93.66530190144924,92.0150139353217,null,104.51486858594075,108.54504664865784,106.83463372391392,null,115.51651590837042,118.79575772526107,117.41492142990711,null,138.6419734280314,143.3061399067715,140.58316846111725,null,140.25671762193363,144.03514304293657,141.98086948344297,null,150.90093492637746,154.48331083336748,153.27639091169573,null,175.3616255924586,179.93711277314458,177.94657054093273,null,181.84631410911376,185.1248488986745,184.24527223901768,null,197.10811234399497,200.21083690080548,199.13928955018272,null,201.35789586937037,203.07086685602007,202.51525694045154,null,5.7903876905413,6.965077032881686,7.9583912219642965,null,34.49386480669073,37.242940188691875,35.99964874287099,null,47.53083104487352,50.43790966177267,49.50391769998046,null,61.98281271225867,64.98398993856988,64.2294055890543,null,94.22720872738826,98.84629686471538,96.72848487278769,null,106.58782867577,110.72155451480387,108.70563969019675,null,121.87763293069864,125.78423082820153,123.71734729238102,null,135.04814651997728,139.37348826010606,137.05078882233911,null,145.70336723068715,150.37339725313217,148.01952615308346,null,155.13546295195198,159.3707262091037,157.89816000493465,null,167.57013759052262,171.34386368390835,170.16656291594236,null,181.97526831498118,185.16056046845668,184.18102959299443,null,198.47178137607023,201.41617065242053,199.95975937494222,null,207.5254127532645,209.8903348992268,208.70503538339347,null,50.362058587403304,54.99454116183533,50.41906197855373,null,31.602475794745892,34.077575862966484,33.15520300316166,null,42.325024606424044,44.813315351132566,44.51761347087431,null,72.48809170134892,76.72175774969018,74.99368346288303,null,96.97882787176437,101.84056088083224,99.40265620051933,null,106.54540975469706,110.69900945503906,108.70720557699929,null,118.88095416554073,122.52602432588817,120.80995557435632,null,126.18591862024466,129.61805156907104,128.23556571422364,null,130.85872107360044,133.94545601101967,133.09573285792868,null,154.20946856629186,158.24185242953536,156.77856570354987,null,163.80054836625257,167.11121351579123,166.26632982984776,null,184.3194148391552,187.59021598843788,186.2395682361472,null,205.64939817021596,209.4726744217698,207.38102269121674,null,213.99157209736347,217.21082693747164,215.5040576460121,null,6.802956010273426,6.922866386633726,6.869334616295812,null,34.03052374734152,36.89099594730715,35.825245200762204,null,45.03766633074369,47.7529769187894,47.13181922532132,null,74.7690713271107,79.169993967856,77.14905837182265,null,89.22030997964983,93.22294438926598,91.54552323467891,null,102.15133839353837,105.87743819222936,104.36429339978972,null,122.60375902553317,126.74955844962722,124.74045419189898,null,134.57074560666015,138.8672739733667,136.6108983281346,null,141.8696319050797,146.08366640867382,144.08000547371324,null,153.9849464308711,157.74230647769815,156.09787986423322,null,164.36028226613553,167.5505580516877,166.50271523808482,null,176.62573535146544,179.13145055637767,178.60544475120975,null,184.636879036403,186.11044751557029,186.059750458407,null,200.85447104801838,202.74557699826235,202.42923654207834,null,6.70325139924145,6.8097424137841065,6.764051634132704,null,35.225340896372664,38.112381473492405,36.84365371088337,null,57.03205274514337,61.16395285002061,59.43894564936098,null,71.8205643768082,75.81713781836791,74.02198385959508,null,80.8547431370793,84.05342734005406,83.2953614802886,null,94.52854317405424,97.36045968473707,96.5537999752658,null,115.55518354873621,118.9169794718635,117.59591504659397,null,132.9486080878445,136.87892531546373,134.63002584342053,null,139.84355289111951,143.49968032140455,141.42374284481897,null,143.98369765106767,146.3447685158946,145.44608918399635,null,159.14418103940798,161.4713923277976,160.702994451287,null,178.6649616038469,181.3103305992285,180.514483084961,null,187.6803266094086,189.5700715347686,189.28535429149116,null,200.04383599863888,201.81865350524117,201.56022923870051,null,6.754764977132053,6.867474045074691,6.817151321241331,null,37.44943725544456,40.53737833619952,39.01380074576274,null,52.384017197115526,56.052655848461,54.824996809271745,null,60.10510595608956,63.13546966259074,62.75747996580727,null,77.24298991468237,80.00006964089116,79.56218136822154,null,95.43581611099928,98.2675542842959,97.29023821712637,null,106.70350627463499,108.91327002595185,108.32025581823378,null,126.45609391754401,129.52474157101122,127.79630696412912,null,128.59909164699968,130.98626367299943,129.99312384919372,null,147.31085420581246,150.09280790969618,148.91061042470065,null,165.80900500046764,168.913468321407,167.52366969854165,null,181.33196985196594,184.22384739208906,183.1269463764057,null,192.5607422774163,195.04724385628683,194.32991158385923,null,205.38997595401486,207.94877242056805,207.32224161212375,null,6.287140629701832,6.35326683071758,6.3530005849345805,null,33.03330832229318,35.43846300548579,34.19038163954342,null,44.67865289186181,47.19754653919551,46.48435867082836,null,66.45090416081332,70.2358402482033,69.27798976347955,null,92.85456833536298,97.52043763611444,95.69858683427451,null,100.27885674525778,103.97332642727378,102.78640747309521,null,115.60660320589272,118.94038379396596,117.58690545988755,null,124.53314512923261,127.48317923357322,126.0198192902375,null,132.17204389215212,135.18231678351592,134.02367779619865,null,155.88838112714924,159.8365753136723,157.989389045682,null,168.97434851724714,172.65477287021338,171.13780002404965,null,192.9523537701061,197.30939280199257,195.21837518594353,null,206.26498389447582,210.41027625125176,208.46442912184088,null,212.17776526159653,215.56770266869935,214.34042229431435,null,6.842841250837655,6.967016645085546,6.909452358220631,null,16.811061235482917,16.933446607824525,16.880401402312064,null,30.837603758315243,30.962423416244658,30.90636663771074,null,45.84183440003917,45.966120396381086,45.908835151268995,null,85.84653360351773,89.58964857907613,88.33554424282485,null,99.39217427987076,102.98086673748806,101.87469196829461,null,111.89924949120689,114.86935852444678,113.91731111649504,null,124.6498035365446,127.73970736302327,126.36800562377198,null,136.93741013102886,140.67100384781003,139.2041499394861,null,154.0403488365125,157.94027156397635,156.40120236499845,null,171.08998678754395,175.1750902683393,173.5891318177932,null,187.03757348069104,190.86190519681244,189.4499115700376,null,200.5592320555123,204.10638882093036,202.74714940026922,null,213.57861865452728,217.17713019506868,215.8559505200785,null],\"type\":\"scatter\"}],                        {\"hovermode\":\"closest\",\"template\":{\"data\":{\"bar\":[{\"error_x\":{\"color\":\"#2a3f5f\"},\"error_y\":{\"color\":\"#2a3f5f\"},\"marker\":{\"line\":{\"color\":\"#E5ECF6\",\"width\":0.5},\"pattern\":{\"fillmode\":\"overlay\",\"size\":10,\"solidity\":0.2}},\"type\":\"bar\"}],\"barpolar\":[{\"marker\":{\"line\":{\"color\":\"#E5ECF6\",\"width\":0.5},\"pattern\":{\"fillmode\":\"overlay\",\"size\":10,\"solidity\":0.2}},\"type\":\"barpolar\"}],\"carpet\":[{\"aaxis\":{\"endlinecolor\":\"#2a3f5f\",\"gridcolor\":\"white\",\"linecolor\":\"white\",\"minorgridcolor\":\"white\",\"startlinecolor\":\"#2a3f5f\"},\"baxis\":{\"endlinecolor\":\"#2a3f5f\",\"gridcolor\":\"white\",\"linecolor\":\"white\",\"minorgridcolor\":\"white\",\"startlinecolor\":\"#2a3f5f\"},\"type\":\"carpet\"}],\"choropleth\":[{\"colorbar\":{\"outlinewidth\":0,\"ticks\":\"\"},\"type\":\"choropleth\"}],\"contour\":[{\"colorbar\":{\"outlinewidth\":0,\"ticks\":\"\"},\"colorscale\":[[0.0,\"#0d0887\"],[0.1111111111111111,\"#46039f\"],[0.2222222222222222,\"#7201a8\"],[0.3333333333333333,\"#9c179e\"],[0.4444444444444444,\"#bd3786\"],[0.5555555555555556,\"#d8576b\"],[0.6666666666666666,\"#ed7953\"],[0.7777777777777778,\"#fb9f3a\"],[0.8888888888888888,\"#fdca26\"],[1.0,\"#f0f921\"]],\"type\":\"contour\"}],\"contourcarpet\":[{\"colorbar\":{\"outlinewidth\":0,\"ticks\":\"\"},\"type\":\"contourcarpet\"}],\"heatmap\":[{\"colorbar\":{\"outlinewidth\":0,\"ticks\":\"\"},\"colorscale\":[[0.0,\"#0d0887\"],[0.1111111111111111,\"#46039f\"],[0.2222222222222222,\"#7201a8\"],[0.3333333333333333,\"#9c179e\"],[0.4444444444444444,\"#bd3786\"],[0.5555555555555556,\"#d8576b\"],[0.6666666666666666,\"#ed7953\"],[0.7777777777777778,\"#fb9f3a\"],[0.8888888888888888,\"#fdca26\"],[1.0,\"#f0f921\"]],\"type\":\"heatmap\"}],\"heatmapgl\":[{\"colorbar\":{\"outlinewidth\":0,\"ticks\":\"\"},\"colorscale\":[[0.0,\"#0d0887\"],[0.1111111111111111,\"#46039f\"],[0.2222222222222222,\"#7201a8\"],[0.3333333333333333,\"#9c179e\"],[0.4444444444444444,\"#bd3786\"],[0.5555555555555556,\"#d8576b\"],[0.6666666666666666,\"#ed7953\"],[0.7777777777777778,\"#fb9f3a\"],[0.8888888888888888,\"#fdca26\"],[1.0,\"#f0f921\"]],\"type\":\"heatmapgl\"}],\"histogram\":[{\"marker\":{\"pattern\":{\"fillmode\":\"overlay\",\"size\":10,\"solidity\":0.2}},\"type\":\"histogram\"}],\"histogram2d\":[{\"colorbar\":{\"outlinewidth\":0,\"ticks\":\"\"},\"colorscale\":[[0.0,\"#0d0887\"],[0.1111111111111111,\"#46039f\"],[0.2222222222222222,\"#7201a8\"],[0.3333333333333333,\"#9c179e\"],[0.4444444444444444,\"#bd3786\"],[0.5555555555555556,\"#d8576b\"],[0.6666666666666666,\"#ed7953\"],[0.7777777777777778,\"#fb9f3a\"],[0.8888888888888888,\"#fdca26\"],[1.0,\"#f0f921\"]],\"type\":\"histogram2d\"}],\"histogram2dcontour\":[{\"colorbar\":{\"outlinewidth\":0,\"ticks\":\"\"},\"colorscale\":[[0.0,\"#0d0887\"],[0.1111111111111111,\"#46039f\"],[0.2222222222222222,\"#7201a8\"],[0.3333333333333333,\"#9c179e\"],[0.4444444444444444,\"#bd3786\"],[0.5555555555555556,\"#d8576b\"],[0.6666666666666666,\"#ed7953\"],[0.7777777777777778,\"#fb9f3a\"],[0.8888888888888888,\"#fdca26\"],[1.0,\"#f0f921\"]],\"type\":\"histogram2dcontour\"}],\"mesh3d\":[{\"colorbar\":{\"outlinewidth\":0,\"ticks\":\"\"},\"type\":\"mesh3d\"}],\"parcoords\":[{\"line\":{\"colorbar\":{\"outlinewidth\":0,\"ticks\":\"\"}},\"type\":\"parcoords\"}],\"pie\":[{\"automargin\":true,\"type\":\"pie\"}],\"scatter\":[{\"marker\":{\"colorbar\":{\"outlinewidth\":0,\"ticks\":\"\"}},\"type\":\"scatter\"}],\"scatter3d\":[{\"line\":{\"colorbar\":{\"outlinewidth\":0,\"ticks\":\"\"}},\"marker\":{\"colorbar\":{\"outlinewidth\":0,\"ticks\":\"\"}},\"type\":\"scatter3d\"}],\"scattercarpet\":[{\"marker\":{\"colorbar\":{\"outlinewidth\":0,\"ticks\":\"\"}},\"type\":\"scattercarpet\"}],\"scattergeo\":[{\"marker\":{\"colorbar\":{\"outlinewidth\":0,\"ticks\":\"\"}},\"type\":\"scattergeo\"}],\"scattergl\":[{\"marker\":{\"colorbar\":{\"outlinewidth\":0,\"ticks\":\"\"}},\"type\":\"scattergl\"}],\"scattermapbox\":[{\"marker\":{\"colorbar\":{\"outlinewidth\":0,\"ticks\":\"\"}},\"type\":\"scattermapbox\"}],\"scatterpolar\":[{\"marker\":{\"colorbar\":{\"outlinewidth\":0,\"ticks\":\"\"}},\"type\":\"scatterpolar\"}],\"scatterpolargl\":[{\"marker\":{\"colorbar\":{\"outlinewidth\":0,\"ticks\":\"\"}},\"type\":\"scatterpolargl\"}],\"scatterternary\":[{\"marker\":{\"colorbar\":{\"outlinewidth\":0,\"ticks\":\"\"}},\"type\":\"scatterternary\"}],\"surface\":[{\"colorbar\":{\"outlinewidth\":0,\"ticks\":\"\"},\"colorscale\":[[0.0,\"#0d0887\"],[0.1111111111111111,\"#46039f\"],[0.2222222222222222,\"#7201a8\"],[0.3333333333333333,\"#9c179e\"],[0.4444444444444444,\"#bd3786\"],[0.5555555555555556,\"#d8576b\"],[0.6666666666666666,\"#ed7953\"],[0.7777777777777778,\"#fb9f3a\"],[0.8888888888888888,\"#fdca26\"],[1.0,\"#f0f921\"]],\"type\":\"surface\"}],\"table\":[{\"cells\":{\"fill\":{\"color\":\"#EBF0F8\"},\"line\":{\"color\":\"white\"}},\"header\":{\"fill\":{\"color\":\"#C8D4E3\"},\"line\":{\"color\":\"white\"}},\"type\":\"table\"}]},\"layout\":{\"annotationdefaults\":{\"arrowcolor\":\"#2a3f5f\",\"arrowhead\":0,\"arrowwidth\":1},\"autotypenumbers\":\"strict\",\"coloraxis\":{\"colorbar\":{\"outlinewidth\":0,\"ticks\":\"\"}},\"colorscale\":{\"diverging\":[[0,\"#8e0152\"],[0.1,\"#c51b7d\"],[0.2,\"#de77ae\"],[0.3,\"#f1b6da\"],[0.4,\"#fde0ef\"],[0.5,\"#f7f7f7\"],[0.6,\"#e6f5d0\"],[0.7,\"#b8e186\"],[0.8,\"#7fbc41\"],[0.9,\"#4d9221\"],[1,\"#276419\"]],\"sequential\":[[0.0,\"#0d0887\"],[0.1111111111111111,\"#46039f\"],[0.2222222222222222,\"#7201a8\"],[0.3333333333333333,\"#9c179e\"],[0.4444444444444444,\"#bd3786\"],[0.5555555555555556,\"#d8576b\"],[0.6666666666666666,\"#ed7953\"],[0.7777777777777778,\"#fb9f3a\"],[0.8888888888888888,\"#fdca26\"],[1.0,\"#f0f921\"]],\"sequentialminus\":[[0.0,\"#0d0887\"],[0.1111111111111111,\"#46039f\"],[0.2222222222222222,\"#7201a8\"],[0.3333333333333333,\"#9c179e\"],[0.4444444444444444,\"#bd3786\"],[0.5555555555555556,\"#d8576b\"],[0.6666666666666666,\"#ed7953\"],[0.7777777777777778,\"#fb9f3a\"],[0.8888888888888888,\"#fdca26\"],[1.0,\"#f0f921\"]]},\"colorway\":[\"#636efa\",\"#EF553B\",\"#00cc96\",\"#ab63fa\",\"#FFA15A\",\"#19d3f3\",\"#FF6692\",\"#B6E880\",\"#FF97FF\",\"#FECB52\"],\"font\":{\"color\":\"#2a3f5f\"},\"geo\":{\"bgcolor\":\"white\",\"lakecolor\":\"white\",\"landcolor\":\"#E5ECF6\",\"showlakes\":true,\"showland\":true,\"subunitcolor\":\"white\"},\"hoverlabel\":{\"align\":\"left\"},\"hovermode\":\"closest\",\"mapbox\":{\"style\":\"light\"},\"paper_bgcolor\":\"white\",\"plot_bgcolor\":\"#E5ECF6\",\"polar\":{\"angularaxis\":{\"gridcolor\":\"white\",\"linecolor\":\"white\",\"ticks\":\"\"},\"bgcolor\":\"#E5ECF6\",\"radialaxis\":{\"gridcolor\":\"white\",\"linecolor\":\"white\",\"ticks\":\"\"}},\"scene\":{\"xaxis\":{\"backgroundcolor\":\"#E5ECF6\",\"gridcolor\":\"white\",\"gridwidth\":2,\"linecolor\":\"white\",\"showbackground\":true,\"ticks\":\"\",\"zerolinecolor\":\"white\"},\"yaxis\":{\"backgroundcolor\":\"#E5ECF6\",\"gridcolor\":\"white\",\"gridwidth\":2,\"linecolor\":\"white\",\"showbackground\":true,\"ticks\":\"\",\"zerolinecolor\":\"white\"},\"zaxis\":{\"backgroundcolor\":\"#E5ECF6\",\"gridcolor\":\"white\",\"gridwidth\":2,\"linecolor\":\"white\",\"showbackground\":true,\"ticks\":\"\",\"zerolinecolor\":\"white\"}},\"shapedefaults\":{\"line\":{\"color\":\"#2a3f5f\"}},\"ternary\":{\"aaxis\":{\"gridcolor\":\"white\",\"linecolor\":\"white\",\"ticks\":\"\"},\"baxis\":{\"gridcolor\":\"white\",\"linecolor\":\"white\",\"ticks\":\"\"},\"bgcolor\":\"#E5ECF6\",\"caxis\":{\"gridcolor\":\"white\",\"linecolor\":\"white\",\"ticks\":\"\"}},\"title\":{\"x\":0.05},\"xaxis\":{\"automargin\":true,\"gridcolor\":\"white\",\"linecolor\":\"white\",\"ticks\":\"\",\"title\":{\"standoff\":15},\"zerolinecolor\":\"white\",\"zerolinewidth\":2},\"yaxis\":{\"automargin\":true,\"gridcolor\":\"white\",\"linecolor\":\"white\",\"ticks\":\"\",\"title\":{\"standoff\":15},\"zerolinecolor\":\"white\",\"zerolinewidth\":2}}}},                        {\"responsive\": true}                    ).then(function(){\n",
              "                            \n",
              "var gd = document.getElementById('09ca2040-1fe0-4d10-8b32-dcab55ae2f97');\n",
              "var x = new MutationObserver(function (mutations, observer) {{\n",
              "        var display = window.getComputedStyle(gd).display;\n",
              "        if (!display || display === 'none') {{\n",
              "            console.log([gd, 'removed!']);\n",
              "            Plotly.purge(gd);\n",
              "            observer.disconnect();\n",
              "        }}\n",
              "}});\n",
              "\n",
              "// Listen for the removal of the full notebook cells\n",
              "var notebookContainer = gd.closest('#notebook-container');\n",
              "if (notebookContainer) {{\n",
              "    x.observe(notebookContainer, {childList: true});\n",
              "}}\n",
              "\n",
              "// Listen for the clearing of the current output cell\n",
              "var outputEl = gd.closest('.output');\n",
              "if (outputEl) {{\n",
              "    x.observe(outputEl, {childList: true});\n",
              "}}\n",
              "\n",
              "                        })                };                            </script>        </div>\n",
              "</body>\n",
              "</html>"
            ]
          },
          "metadata": {}
        }
      ]
    }
  ]
}